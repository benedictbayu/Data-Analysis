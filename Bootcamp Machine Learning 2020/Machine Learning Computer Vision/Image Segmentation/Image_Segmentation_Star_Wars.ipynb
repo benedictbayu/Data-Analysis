{
  "nbformat": 4,
  "nbformat_minor": 0,
  "metadata": {
    "colab": {
      "name": "Image_Segmentation_Star_Wars.ipynb",
      "provenance": [],
      "collapsed_sections": []
    },
    "kernelspec": {
      "name": "python3",
      "display_name": "Python 3"
    }
  },
  "cells": [
    {
      "cell_type": "markdown",
      "metadata": {
        "id": "1Oi5s0v-NZ02",
        "colab_type": "text"
      },
      "source": [
        "## **Image Segmentation (2-min.png)**\n",
        "\n",
        "**Benedictus Bayu Pramudhito**"
      ]
    },
    {
      "cell_type": "code",
      "metadata": {
        "id": "X1WLv7dA6A6T",
        "colab_type": "code",
        "colab": {}
      },
      "source": [
        "from google.colab import drive\n",
        "drive.mount('/content/drive')"
      ],
      "execution_count": null,
      "outputs": []
    },
    {
      "cell_type": "code",
      "metadata": {
        "id": "aHis2rjU7YCF",
        "colab_type": "code",
        "colab": {}
      },
      "source": [
        "import cv2 as cv\n",
        "from google.colab.patches import cv2_imshow\n",
        "import matplotlib.pyplot as plt\n",
        "import numpy as np"
      ],
      "execution_count": null,
      "outputs": []
    },
    {
      "cell_type": "code",
      "metadata": {
        "id": "WmHOi3x47rkg",
        "colab_type": "code",
        "colab": {}
      },
      "source": [
        "import os\n",
        "print('\\n'.join(os.listdir('./drive/My Drive/Colab Test (Bootcamp ML 2020)/Bootcamp Images')))"
      ],
      "execution_count": null,
      "outputs": []
    },
    {
      "cell_type": "code",
      "metadata": {
        "id": "m8k5ASvz7su7",
        "colab_type": "code",
        "colab": {}
      },
      "source": [
        "image = cv.imread('./drive/My Drive/Colab Test (Bootcamp ML 2020)/Bootcamp Images/2-min.png')\n",
        "\n",
        "image_orig = image.copy()\n",
        "\n",
        "cv2_imshow(image)"
      ],
      "execution_count": null,
      "outputs": []
    },
    {
      "cell_type": "code",
      "metadata": {
        "id": "277wGNl07vMz",
        "colab_type": "code",
        "colab": {}
      },
      "source": [
        "#Ubah ke dalam greyscale\n",
        "image = cv.cvtColor(image, cv.COLOR_BGR2GRAY)\n",
        "cv2_imshow(image)"
      ],
      "execution_count": null,
      "outputs": []
    },
    {
      "cell_type": "code",
      "metadata": {
        "id": "qkFd9YVM70us",
        "colab_type": "code",
        "colab": {}
      },
      "source": [
        "#Plot histogramnya untuk mengetahui komposisi dari warnanya\n",
        "plt.hist(image.flatten(), 256, [0, 256])\n",
        "plt.show()"
      ],
      "execution_count": null,
      "outputs": []
    },
    {
      "cell_type": "markdown",
      "metadata": {
        "id": "g86y06UWMewl",
        "colab_type": "text"
      },
      "source": [
        "### **Filtering**\n",
        "\n",
        "**1. Global Filtering**"
      ]
    },
    {
      "cell_type": "code",
      "metadata": {
        "id": "1CRDXitQ72-C",
        "colab_type": "code",
        "colab": {}
      },
      "source": [
        "tv, tr = cv.threshold(image, 127, 255, cv.THRESH_BINARY)\n",
        "\n",
        "print(tv)\n",
        "\n",
        "cv2_imshow(tr)"
      ],
      "execution_count": null,
      "outputs": []
    },
    {
      "cell_type": "markdown",
      "metadata": {
        "id": "SGwE5FIQMkjF",
        "colab_type": "text"
      },
      "source": [
        "**2. Adaptive Filtering**"
      ]
    },
    {
      "cell_type": "code",
      "metadata": {
        "id": "L65XybtC75CI",
        "colab_type": "code",
        "colab": {}
      },
      "source": [
        "tr = cv.adaptiveThreshold(image, 255, cv.ADAPTIVE_THRESH_GAUSSIAN_C, cv.THRESH_BINARY, 11, 2)\n",
        "\n",
        "cv2_imshow(tr)"
      ],
      "execution_count": null,
      "outputs": []
    },
    {
      "cell_type": "markdown",
      "metadata": {
        "id": "wghCRywBMm5G",
        "colab_type": "text"
      },
      "source": [
        "**3. Otsu Filtering**"
      ]
    },
    {
      "cell_type": "code",
      "metadata": {
        "id": "rvmpje3B77dD",
        "colab_type": "code",
        "colab": {}
      },
      "source": [
        "tv, tr = cv.threshold(image, 0, 255, cv.THRESH_BINARY+cv.THRESH_OTSU)\n",
        "print(tv)\n",
        "cv2_imshow(tr)"
      ],
      "execution_count": null,
      "outputs": []
    },
    {
      "cell_type": "markdown",
      "metadata": {
        "id": "gtT7-_IfMqMg",
        "colab_type": "text"
      },
      "source": [
        "Filtering dengan Otsu filter mampu memisahkan objek dari latarnya dengan jelas sehingga akan digunakan gambar hasil filtering dengan otsu untuk dilakukan ekstraksi objek dari konturnya"
      ]
    },
    {
      "cell_type": "markdown",
      "metadata": {
        "id": "tZlmT1RFM6Xd",
        "colab_type": "text"
      },
      "source": [
        "### **Extracting Objects from Contours**"
      ]
    },
    {
      "cell_type": "code",
      "metadata": {
        "id": "FWMKPvxP79oP",
        "colab_type": "code",
        "colab": {}
      },
      "source": [
        "tr = cv.bitwise_not(tr)\n",
        "\n",
        "contours, hierarchy = cv.findContours(tr, cv.RETR_EXTERNAL, cv.CHAIN_APPROX_SIMPLE)\n",
        "\n",
        "print(contours)"
      ],
      "execution_count": null,
      "outputs": []
    },
    {
      "cell_type": "code",
      "metadata": {
        "id": "dldHAuoB8JV6",
        "colab_type": "code",
        "colab": {}
      },
      "source": [
        "len(contours)"
      ],
      "execution_count": null,
      "outputs": []
    },
    {
      "cell_type": "code",
      "metadata": {
        "id": "6egZTu7l8M-J",
        "colab_type": "code",
        "colab": {}
      },
      "source": [
        "contours[1948]"
      ],
      "execution_count": null,
      "outputs": []
    },
    {
      "cell_type": "markdown",
      "metadata": {
        "id": "ZS8icng7M-3B",
        "colab_type": "text"
      },
      "source": [
        "### **Feature Extraction of Contours**"
      ]
    },
    {
      "cell_type": "code",
      "metadata": {
        "id": "zM6XSFxv8OqX",
        "colab_type": "code",
        "colab": {}
      },
      "source": [
        "area = cv.contourArea(contours[0])\n",
        "\n",
        "area"
      ],
      "execution_count": null,
      "outputs": []
    },
    {
      "cell_type": "code",
      "metadata": {
        "id": "t-o-jndG8P0R",
        "colab_type": "code",
        "colab": {}
      },
      "source": [
        "x, y, w, h = cv.boundingRect(contours[0])\n",
        "\n",
        "print(x, y, w, h)"
      ],
      "execution_count": null,
      "outputs": []
    },
    {
      "cell_type": "code",
      "metadata": {
        "id": "D1erE-xQ8Q05",
        "colab_type": "code",
        "colab": {}
      },
      "source": [
        "for index, contour in enumerate(contours):\n",
        "  x, y, w, h = cv.boundingRect(contour)\n",
        "  area = cv.contourArea(contour)\n",
        "\n",
        "  print('Contour #' + str(index), x, y, w, h, area)"
      ],
      "execution_count": null,
      "outputs": []
    },
    {
      "cell_type": "code",
      "metadata": {
        "id": "wBRR68YE8SGO",
        "colab_type": "code",
        "colab": {}
      },
      "source": [
        "x, y, w, h  = cv.boundingRect(contours[1984])\n",
        "\n",
        "toy = image[y:y+h, x:x+w]\n",
        "\n",
        "cv2_imshow(toy)"
      ],
      "execution_count": null,
      "outputs": []
    },
    {
      "cell_type": "code",
      "metadata": {
        "id": "3PtMNNm58ZB_",
        "colab_type": "code",
        "colab": {}
      },
      "source": [
        "cv.rectangle(image_orig, (x, y), (x+w, y+h), (255, 0, 0), 2)\n",
        "cv.putText(image_orig, \"w={},h={}\".format(w,h), (x + 150, y - 10), cv.FONT_HERSHEY_SIMPLEX, 0.7, (255,0,0), 2)\n",
        "\n",
        "cv2_imshow(image_orig)"
      ],
      "execution_count": null,
      "outputs": []
    },
    {
      "cell_type": "markdown",
      "metadata": {
        "id": "z9xqoKav9xqN",
        "colab_type": "text"
      },
      "source": [
        "Preprocessing yang dilakukan yaitu warna gambarnya diubah menjadi warna **greyscale** dan dilakukan **thresholding** dengan Global, Adaptive, dan Otsu. Hasil thresholding terbaik adalah dengan Otsu. Setelah itu dilakukan **ekstraksi objek dari kontur** dan terakhir dilakukan **ekstraksi feature dari konturnya** dengan bounding box. Lalu width dan heightnya dimunculkan dengan **cv.putText**"
      ]
    }
  ]
}