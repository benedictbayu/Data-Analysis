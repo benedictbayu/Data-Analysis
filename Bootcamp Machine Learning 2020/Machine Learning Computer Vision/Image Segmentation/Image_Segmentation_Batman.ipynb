{
  "nbformat": 4,
  "nbformat_minor": 0,
  "metadata": {
    "colab": {
      "name": "Image_Segmentation_Batman.ipynb",
      "provenance": []
    },
    "kernelspec": {
      "name": "python3",
      "display_name": "Python 3"
    }
  },
  "cells": [
    {
      "cell_type": "markdown",
      "metadata": {
        "id": "xvz_MQOSf4X-",
        "colab_type": "text"
      },
      "source": [
        "## **Image Segmentation (1-min.png)**\n",
        "\n",
        "**Benedictus Bayu Pramudhito**"
      ]
    },
    {
      "cell_type": "code",
      "metadata": {
        "id": "ZyHGZL1gZ2RC",
        "colab_type": "code",
        "colab": {}
      },
      "source": [
        "import cv2 as cv\n",
        "from google.colab.patches import cv2_imshow\n",
        "import matplotlib.pyplot as plt \n",
        "import numpy as np"
      ],
      "execution_count": null,
      "outputs": []
    },
    {
      "cell_type": "code",
      "metadata": {
        "id": "TBTtsmEPaJm5",
        "colab_type": "code",
        "colab": {}
      },
      "source": [
        "import os\n",
        "print('\\n'.join(os.listdir('./drive/My Drive/Colab Test (Bootcamp ML 2020)/Bootcamp Images')))"
      ],
      "execution_count": null,
      "outputs": []
    },
    {
      "cell_type": "code",
      "metadata": {
        "id": "cdbkPdGvaXEt",
        "colab_type": "code",
        "colab": {}
      },
      "source": [
        "image = cv.imread('./drive/My Drive/Colab Test (Bootcamp ML 2020)/Bootcamp Images/1-min.png')\n",
        "\n",
        "image_orig = image.copy()\n",
        "\n",
        "cv2_imshow(image)"
      ],
      "execution_count": null,
      "outputs": []
    },
    {
      "cell_type": "code",
      "metadata": {
        "id": "-rRLrVNLaYgo",
        "colab_type": "code",
        "colab": {}
      },
      "source": [
        "#Ubah ke dalam greyscale\n",
        "image = cv.cvtColor(image, cv.COLOR_BGR2GRAY)\n",
        "cv2_imshow(image)"
      ],
      "execution_count": null,
      "outputs": []
    },
    {
      "cell_type": "code",
      "metadata": {
        "id": "9ofCvQhfajl_",
        "colab_type": "code",
        "colab": {}
      },
      "source": [
        "#Plot histogramnya untuk mengetahui komposisi dari warnanya\n",
        "plt.hist(image.flatten(), 256, [0, 256])\n",
        "plt.show()"
      ],
      "execution_count": null,
      "outputs": []
    },
    {
      "cell_type": "markdown",
      "metadata": {
        "id": "yW46scPzgQPP",
        "colab_type": "text"
      },
      "source": [
        "### **Thresholding**\n",
        "\n",
        "**1. Global Thresholding**"
      ]
    },
    {
      "cell_type": "code",
      "metadata": {
        "id": "vsgD26DOamGb",
        "colab_type": "code",
        "colab": {}
      },
      "source": [
        "tv, tr = cv.threshold(image, 160, 255, cv.THRESH_BINARY)\n",
        "\n",
        "print(tv)\n",
        "\n",
        "cv2_imshow(tr)"
      ],
      "execution_count": null,
      "outputs": []
    },
    {
      "cell_type": "markdown",
      "metadata": {
        "id": "ZuNSQbqygU6e",
        "colab_type": "text"
      },
      "source": [
        "**2. Adaptive Gaussian Thresholding**"
      ]
    },
    {
      "cell_type": "code",
      "metadata": {
        "id": "HLI4sHNtaoQv",
        "colab_type": "code",
        "colab": {}
      },
      "source": [
        "tr2 = cv.adaptiveThreshold(image, 255, cv.ADAPTIVE_THRESH_GAUSSIAN_C, cv.THRESH_BINARY, 11, 2)\n",
        "\n",
        "cv2_imshow(tr2)"
      ],
      "execution_count": null,
      "outputs": []
    },
    {
      "cell_type": "markdown",
      "metadata": {
        "id": "oTe8ZMZDgaGQ",
        "colab_type": "text"
      },
      "source": [
        "**3. Otsu Thresholding**"
      ]
    },
    {
      "cell_type": "code",
      "metadata": {
        "id": "rQdEtmnuap6Y",
        "colab_type": "code",
        "colab": {}
      },
      "source": [
        "tv3, tr3 = cv.threshold(image, 0, 255, cv.THRESH_BINARY+cv.THRESH_OTSU)\n",
        "print(tv3)\n",
        "cv2_imshow(tr3)"
      ],
      "execution_count": null,
      "outputs": []
    },
    {
      "cell_type": "markdown",
      "metadata": {
        "id": "njGA3esiggOu",
        "colab_type": "text"
      },
      "source": [
        "Thresholding dengan Global threshold mampu memisahkan objek dari latarnya dengan jelas sehingga akan digunakan gambar hasil thresholding dengan global thresholding untuk dilakukan ekstraksi objek dari konturnya"
      ]
    },
    {
      "cell_type": "markdown",
      "metadata": {
        "id": "KsR3pXb9hCpf",
        "colab_type": "text"
      },
      "source": [
        "### **Extracting Object from Contours**"
      ]
    },
    {
      "cell_type": "code",
      "metadata": {
        "id": "os4_b6wTasni",
        "colab_type": "code",
        "colab": {}
      },
      "source": [
        "tr = cv.bitwise_not(tr)\n",
        "\n",
        "contours, hierarchy = cv.findContours(tr, cv.RETR_EXTERNAL, cv.CHAIN_APPROX_SIMPLE)\n",
        "\n",
        "print(contours)"
      ],
      "execution_count": null,
      "outputs": []
    },
    {
      "cell_type": "code",
      "metadata": {
        "id": "v0lQVBS3avbG",
        "colab_type": "code",
        "colab": {}
      },
      "source": [
        "len(contours)"
      ],
      "execution_count": null,
      "outputs": []
    },
    {
      "cell_type": "code",
      "metadata": {
        "id": "0FBzUqScax3X",
        "colab_type": "code",
        "colab": {}
      },
      "source": [
        "contours[0]"
      ],
      "execution_count": null,
      "outputs": []
    },
    {
      "cell_type": "markdown",
      "metadata": {
        "id": "vp-FwPOChKlS",
        "colab_type": "text"
      },
      "source": [
        "### **Feature Extraction from Contours**"
      ]
    },
    {
      "cell_type": "code",
      "metadata": {
        "id": "yDmKXeuBazZ6",
        "colab_type": "code",
        "colab": {}
      },
      "source": [
        "area = cv.contourArea(contours[0])\n",
        "\n",
        "area"
      ],
      "execution_count": null,
      "outputs": []
    },
    {
      "cell_type": "code",
      "metadata": {
        "id": "pP141LDca03t",
        "colab_type": "code",
        "colab": {}
      },
      "source": [
        "x, y, w, h = cv.boundingRect(contours[0])\n",
        "\n",
        "print(x, y, w, h)"
      ],
      "execution_count": null,
      "outputs": []
    },
    {
      "cell_type": "code",
      "metadata": {
        "id": "0R-y_93ma5Ra",
        "colab_type": "code",
        "colab": {}
      },
      "source": [
        "for index, contour in enumerate(contours):\n",
        "  x, y, w, h = cv.boundingRect(contour)\n",
        "  area = cv.contourArea(contour)\n",
        "\n",
        "  print('Contour #' + str(index), x, y, w, h, area)"
      ],
      "execution_count": null,
      "outputs": []
    },
    {
      "cell_type": "code",
      "metadata": {
        "id": "CEJ6Grvya6wR",
        "colab_type": "code",
        "colab": {}
      },
      "source": [
        "x, y, w, h  = cv.boundingRect(contours[3734])\n",
        "\n",
        "batman = image[y:y+h, x:x+w]\n",
        "\n",
        "cv2_imshow(batman)"
      ],
      "execution_count": null,
      "outputs": []
    },
    {
      "cell_type": "code",
      "metadata": {
        "id": "20CrBVVYbNr5",
        "colab_type": "code",
        "colab": {}
      },
      "source": [
        "cv.rectangle(image_orig, (x, y), (x+w, y+h), (255, 0, 0), 2)\n",
        "cv.putText(image_orig, \"w={},h={}\".format(w,h), (x + 350, y - 10), cv.FONT_HERSHEY_SIMPLEX, 1, (255,0,0), 2)\n",
        "\n",
        "cv2_imshow(image_orig)"
      ],
      "execution_count": null,
      "outputs": []
    },
    {
      "cell_type": "markdown",
      "metadata": {
        "id": "OWRE_shSQNt4",
        "colab_type": "text"
      },
      "source": [
        "Preprocessing yang dilakukan yaitu warna gambarnya diubah menjadi warna **greyscale** dan dilakukan **thresholding** dengan Global, Adaptive, dan Otsu. Hasil thresholding dengan Global memberikan hasil yang terbaik. Setelah itu dilakukan **ekstraksi objek dari kontur** dan terakhir dilakukan **ekstraksi feature dari konturnya** dengan bounding box. Lalu width dan heightnya dimunculkan dengan **cv.putText**"
      ]
    }
  ]
}