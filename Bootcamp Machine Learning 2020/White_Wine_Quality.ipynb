{
  "nbformat": 4,
  "nbformat_minor": 0,
  "metadata": {
    "colab": {
      "name": "White Wine Quality.ipynb",
      "provenance": []
    },
    "kernelspec": {
      "name": "python3",
      "display_name": "Python 3"
    }
  },
  "cells": [
    {
      "cell_type": "markdown",
      "metadata": {
        "id": "lgD4APnKNJwD",
        "colab_type": "text"
      },
      "source": [
        "## **White Wine Quality Analysis**\n",
        "\n",
        "**Benedictus Bayu Pramudhito**\n",
        "\n"
      ]
    },
    {
      "cell_type": "code",
      "metadata": {
        "id": "O_3MRy7Kd3k4",
        "colab_type": "code",
        "colab": {}
      },
      "source": [
        "import pandas as pd \n",
        "import numpy as np\n",
        "import matplotlib.pyplot as plt\n",
        "import seaborn as sns"
      ],
      "execution_count": 130,
      "outputs": []
    },
    {
      "cell_type": "code",
      "metadata": {
        "id": "i-fvmXmpeCFb",
        "colab_type": "code",
        "colab": {
          "base_uri": "https://localhost:8080/",
          "height": 204
        },
        "outputId": "a5a7ce43-02c5-4aa4-e08b-04804e546f3f"
      },
      "source": [
        "import os\n",
        "print('\\n'.join(os.listdir(r'./drive/My Drive/Colab Test (Bootcamp ML 2020)')))"
      ],
      "execution_count": 131,
      "outputs": [
        {
          "output_type": "stream",
          "text": [
            "bottle.csv\n",
            "References\n",
            "Untitled0.ipynb\n",
            "Week_1_Python_1.ipynb\n",
            "heart.csv\n",
            "iris.csv\n",
            "pima-indians-diabetes.csv\n",
            "sonar.csv\n",
            "housing.csv\n",
            "winequality-white.csv\n",
            "auto.csv\n"
          ],
          "name": "stdout"
        }
      ]
    },
    {
      "cell_type": "code",
      "metadata": {
        "id": "I5PWmuI_eKUB",
        "colab_type": "code",
        "colab": {
          "base_uri": "https://localhost:8080/",
          "height": 204
        },
        "outputId": "62937ee3-113b-4877-afe7-bc2fde867de2"
      },
      "source": [
        "df = pd.read_csv(r'./drive/My Drive/Colab Test (Bootcamp ML 2020)/winequality-white.csv', delimiter=';')\n",
        "df.head()"
      ],
      "execution_count": 132,
      "outputs": [
        {
          "output_type": "execute_result",
          "data": {
            "text/html": [
              "<div>\n",
              "<style scoped>\n",
              "    .dataframe tbody tr th:only-of-type {\n",
              "        vertical-align: middle;\n",
              "    }\n",
              "\n",
              "    .dataframe tbody tr th {\n",
              "        vertical-align: top;\n",
              "    }\n",
              "\n",
              "    .dataframe thead th {\n",
              "        text-align: right;\n",
              "    }\n",
              "</style>\n",
              "<table border=\"1\" class=\"dataframe\">\n",
              "  <thead>\n",
              "    <tr style=\"text-align: right;\">\n",
              "      <th></th>\n",
              "      <th>fixed_acidity</th>\n",
              "      <th>volatile_acidity</th>\n",
              "      <th>citric_acid</th>\n",
              "      <th>residual_sugar</th>\n",
              "      <th>chlorides</th>\n",
              "      <th>free_sulfur_dioxide</th>\n",
              "      <th>total_sulfur_dioxide</th>\n",
              "      <th>density</th>\n",
              "      <th>pH</th>\n",
              "      <th>sulphates</th>\n",
              "      <th>alcohol</th>\n",
              "      <th>quality</th>\n",
              "    </tr>\n",
              "  </thead>\n",
              "  <tbody>\n",
              "    <tr>\n",
              "      <th>0</th>\n",
              "      <td>7.0</td>\n",
              "      <td>0.27</td>\n",
              "      <td>0.36</td>\n",
              "      <td>20.7</td>\n",
              "      <td>0.045</td>\n",
              "      <td>45.0</td>\n",
              "      <td>170.0</td>\n",
              "      <td>1.0010</td>\n",
              "      <td>3.00</td>\n",
              "      <td>0.45</td>\n",
              "      <td>8.8</td>\n",
              "      <td>6</td>\n",
              "    </tr>\n",
              "    <tr>\n",
              "      <th>1</th>\n",
              "      <td>6.3</td>\n",
              "      <td>0.30</td>\n",
              "      <td>0.34</td>\n",
              "      <td>1.6</td>\n",
              "      <td>0.049</td>\n",
              "      <td>14.0</td>\n",
              "      <td>132.0</td>\n",
              "      <td>0.9940</td>\n",
              "      <td>3.30</td>\n",
              "      <td>0.49</td>\n",
              "      <td>9.5</td>\n",
              "      <td>6</td>\n",
              "    </tr>\n",
              "    <tr>\n",
              "      <th>2</th>\n",
              "      <td>8.1</td>\n",
              "      <td>0.28</td>\n",
              "      <td>0.40</td>\n",
              "      <td>6.9</td>\n",
              "      <td>0.050</td>\n",
              "      <td>30.0</td>\n",
              "      <td>97.0</td>\n",
              "      <td>0.9951</td>\n",
              "      <td>3.26</td>\n",
              "      <td>0.44</td>\n",
              "      <td>10.1</td>\n",
              "      <td>6</td>\n",
              "    </tr>\n",
              "    <tr>\n",
              "      <th>3</th>\n",
              "      <td>7.2</td>\n",
              "      <td>0.23</td>\n",
              "      <td>0.32</td>\n",
              "      <td>8.5</td>\n",
              "      <td>0.058</td>\n",
              "      <td>47.0</td>\n",
              "      <td>186.0</td>\n",
              "      <td>0.9956</td>\n",
              "      <td>3.19</td>\n",
              "      <td>0.40</td>\n",
              "      <td>9.9</td>\n",
              "      <td>6</td>\n",
              "    </tr>\n",
              "    <tr>\n",
              "      <th>4</th>\n",
              "      <td>7.2</td>\n",
              "      <td>0.23</td>\n",
              "      <td>0.32</td>\n",
              "      <td>8.5</td>\n",
              "      <td>0.058</td>\n",
              "      <td>47.0</td>\n",
              "      <td>186.0</td>\n",
              "      <td>0.9956</td>\n",
              "      <td>3.19</td>\n",
              "      <td>0.40</td>\n",
              "      <td>9.9</td>\n",
              "      <td>6</td>\n",
              "    </tr>\n",
              "  </tbody>\n",
              "</table>\n",
              "</div>"
            ],
            "text/plain": [
              "   fixed_acidity  volatile_acidity  citric_acid  ...  sulphates  alcohol  quality\n",
              "0            7.0              0.27         0.36  ...       0.45      8.8        6\n",
              "1            6.3              0.30         0.34  ...       0.49      9.5        6\n",
              "2            8.1              0.28         0.40  ...       0.44     10.1        6\n",
              "3            7.2              0.23         0.32  ...       0.40      9.9        6\n",
              "4            7.2              0.23         0.32  ...       0.40      9.9        6\n",
              "\n",
              "[5 rows x 12 columns]"
            ]
          },
          "metadata": {
            "tags": []
          },
          "execution_count": 132
        }
      ]
    },
    {
      "cell_type": "code",
      "metadata": {
        "id": "eqIP6PgWegdH",
        "colab_type": "code",
        "colab": {
          "base_uri": "https://localhost:8080/",
          "height": 34
        },
        "outputId": "121934ae-88d0-4efc-be62-b5798fd1321e"
      },
      "source": [
        "df.shape"
      ],
      "execution_count": 133,
      "outputs": [
        {
          "output_type": "execute_result",
          "data": {
            "text/plain": [
              "(4898, 12)"
            ]
          },
          "metadata": {
            "tags": []
          },
          "execution_count": 133
        }
      ]
    },
    {
      "cell_type": "code",
      "metadata": {
        "id": "Vx1M5fWJeoBY",
        "colab_type": "code",
        "colab": {
          "base_uri": "https://localhost:8080/",
          "height": 238
        },
        "outputId": "cddea1a1-744c-400d-a889-8788a4e99783"
      },
      "source": [
        "df.dtypes"
      ],
      "execution_count": 134,
      "outputs": [
        {
          "output_type": "execute_result",
          "data": {
            "text/plain": [
              "fixed_acidity           float64\n",
              "volatile_acidity        float64\n",
              "citric_acid             float64\n",
              "residual_sugar          float64\n",
              "chlorides               float64\n",
              "free_sulfur_dioxide     float64\n",
              "total_sulfur_dioxide    float64\n",
              "density                 float64\n",
              "pH                      float64\n",
              "sulphates               float64\n",
              "alcohol                 float64\n",
              "quality                   int64\n",
              "dtype: object"
            ]
          },
          "metadata": {
            "tags": []
          },
          "execution_count": 134
        }
      ]
    },
    {
      "cell_type": "code",
      "metadata": {
        "id": "-e_o51Pce4L_",
        "colab_type": "code",
        "colab": {
          "base_uri": "https://localhost:8080/",
          "height": 272
        },
        "outputId": "98419703-6fa6-448e-c074-0055bc8ba4ff"
      },
      "source": [
        "#Cek missing values\n",
        "print(df.isnull().sum())\n",
        "print('\\nTerdapat {} Missing Values pada Dataset'.format(df.isnull().sum().sum()))"
      ],
      "execution_count": 135,
      "outputs": [
        {
          "output_type": "stream",
          "text": [
            "fixed_acidity           0\n",
            "volatile_acidity        0\n",
            "citric_acid             0\n",
            "residual_sugar          0\n",
            "chlorides               0\n",
            "free_sulfur_dioxide     0\n",
            "total_sulfur_dioxide    0\n",
            "density                 0\n",
            "pH                      0\n",
            "sulphates               0\n",
            "alcohol                 0\n",
            "quality                 0\n",
            "dtype: int64\n",
            "\n",
            "Terdapat 0 Missing Values pada Dataset\n"
          ],
          "name": "stdout"
        }
      ]
    },
    {
      "cell_type": "code",
      "metadata": {
        "id": "QmzdSyphevAo",
        "colab_type": "code",
        "colab": {
          "base_uri": "https://localhost:8080/",
          "height": 317
        },
        "outputId": "e3da60ba-4019-49b7-ec9a-07507f92282d"
      },
      "source": [
        "df.describe()"
      ],
      "execution_count": 136,
      "outputs": [
        {
          "output_type": "execute_result",
          "data": {
            "text/html": [
              "<div>\n",
              "<style scoped>\n",
              "    .dataframe tbody tr th:only-of-type {\n",
              "        vertical-align: middle;\n",
              "    }\n",
              "\n",
              "    .dataframe tbody tr th {\n",
              "        vertical-align: top;\n",
              "    }\n",
              "\n",
              "    .dataframe thead th {\n",
              "        text-align: right;\n",
              "    }\n",
              "</style>\n",
              "<table border=\"1\" class=\"dataframe\">\n",
              "  <thead>\n",
              "    <tr style=\"text-align: right;\">\n",
              "      <th></th>\n",
              "      <th>fixed_acidity</th>\n",
              "      <th>volatile_acidity</th>\n",
              "      <th>citric_acid</th>\n",
              "      <th>residual_sugar</th>\n",
              "      <th>chlorides</th>\n",
              "      <th>free_sulfur_dioxide</th>\n",
              "      <th>total_sulfur_dioxide</th>\n",
              "      <th>density</th>\n",
              "      <th>pH</th>\n",
              "      <th>sulphates</th>\n",
              "      <th>alcohol</th>\n",
              "      <th>quality</th>\n",
              "    </tr>\n",
              "  </thead>\n",
              "  <tbody>\n",
              "    <tr>\n",
              "      <th>count</th>\n",
              "      <td>4898.000000</td>\n",
              "      <td>4898.000000</td>\n",
              "      <td>4898.000000</td>\n",
              "      <td>4898.000000</td>\n",
              "      <td>4898.000000</td>\n",
              "      <td>4898.000000</td>\n",
              "      <td>4898.000000</td>\n",
              "      <td>4898.000000</td>\n",
              "      <td>4898.000000</td>\n",
              "      <td>4898.000000</td>\n",
              "      <td>4898.000000</td>\n",
              "      <td>4898.000000</td>\n",
              "    </tr>\n",
              "    <tr>\n",
              "      <th>mean</th>\n",
              "      <td>6.854788</td>\n",
              "      <td>0.278241</td>\n",
              "      <td>0.334192</td>\n",
              "      <td>6.391415</td>\n",
              "      <td>0.045772</td>\n",
              "      <td>35.308085</td>\n",
              "      <td>138.360657</td>\n",
              "      <td>0.994027</td>\n",
              "      <td>3.188267</td>\n",
              "      <td>0.489847</td>\n",
              "      <td>10.514267</td>\n",
              "      <td>5.877909</td>\n",
              "    </tr>\n",
              "    <tr>\n",
              "      <th>std</th>\n",
              "      <td>0.843868</td>\n",
              "      <td>0.100795</td>\n",
              "      <td>0.121020</td>\n",
              "      <td>5.072058</td>\n",
              "      <td>0.021848</td>\n",
              "      <td>17.007137</td>\n",
              "      <td>42.498065</td>\n",
              "      <td>0.002991</td>\n",
              "      <td>0.151001</td>\n",
              "      <td>0.114126</td>\n",
              "      <td>1.230621</td>\n",
              "      <td>0.885639</td>\n",
              "    </tr>\n",
              "    <tr>\n",
              "      <th>min</th>\n",
              "      <td>3.800000</td>\n",
              "      <td>0.080000</td>\n",
              "      <td>0.000000</td>\n",
              "      <td>0.600000</td>\n",
              "      <td>0.009000</td>\n",
              "      <td>2.000000</td>\n",
              "      <td>9.000000</td>\n",
              "      <td>0.987110</td>\n",
              "      <td>2.720000</td>\n",
              "      <td>0.220000</td>\n",
              "      <td>8.000000</td>\n",
              "      <td>3.000000</td>\n",
              "    </tr>\n",
              "    <tr>\n",
              "      <th>25%</th>\n",
              "      <td>6.300000</td>\n",
              "      <td>0.210000</td>\n",
              "      <td>0.270000</td>\n",
              "      <td>1.700000</td>\n",
              "      <td>0.036000</td>\n",
              "      <td>23.000000</td>\n",
              "      <td>108.000000</td>\n",
              "      <td>0.991723</td>\n",
              "      <td>3.090000</td>\n",
              "      <td>0.410000</td>\n",
              "      <td>9.500000</td>\n",
              "      <td>5.000000</td>\n",
              "    </tr>\n",
              "    <tr>\n",
              "      <th>50%</th>\n",
              "      <td>6.800000</td>\n",
              "      <td>0.260000</td>\n",
              "      <td>0.320000</td>\n",
              "      <td>5.200000</td>\n",
              "      <td>0.043000</td>\n",
              "      <td>34.000000</td>\n",
              "      <td>134.000000</td>\n",
              "      <td>0.993740</td>\n",
              "      <td>3.180000</td>\n",
              "      <td>0.470000</td>\n",
              "      <td>10.400000</td>\n",
              "      <td>6.000000</td>\n",
              "    </tr>\n",
              "    <tr>\n",
              "      <th>75%</th>\n",
              "      <td>7.300000</td>\n",
              "      <td>0.320000</td>\n",
              "      <td>0.390000</td>\n",
              "      <td>9.900000</td>\n",
              "      <td>0.050000</td>\n",
              "      <td>46.000000</td>\n",
              "      <td>167.000000</td>\n",
              "      <td>0.996100</td>\n",
              "      <td>3.280000</td>\n",
              "      <td>0.550000</td>\n",
              "      <td>11.400000</td>\n",
              "      <td>6.000000</td>\n",
              "    </tr>\n",
              "    <tr>\n",
              "      <th>max</th>\n",
              "      <td>14.200000</td>\n",
              "      <td>1.100000</td>\n",
              "      <td>1.660000</td>\n",
              "      <td>65.800000</td>\n",
              "      <td>0.346000</td>\n",
              "      <td>289.000000</td>\n",
              "      <td>440.000000</td>\n",
              "      <td>1.038980</td>\n",
              "      <td>3.820000</td>\n",
              "      <td>1.080000</td>\n",
              "      <td>14.200000</td>\n",
              "      <td>9.000000</td>\n",
              "    </tr>\n",
              "  </tbody>\n",
              "</table>\n",
              "</div>"
            ],
            "text/plain": [
              "       fixed_acidity  volatile_acidity  ...      alcohol      quality\n",
              "count    4898.000000       4898.000000  ...  4898.000000  4898.000000\n",
              "mean        6.854788          0.278241  ...    10.514267     5.877909\n",
              "std         0.843868          0.100795  ...     1.230621     0.885639\n",
              "min         3.800000          0.080000  ...     8.000000     3.000000\n",
              "25%         6.300000          0.210000  ...     9.500000     5.000000\n",
              "50%         6.800000          0.260000  ...    10.400000     6.000000\n",
              "75%         7.300000          0.320000  ...    11.400000     6.000000\n",
              "max        14.200000          1.100000  ...    14.200000     9.000000\n",
              "\n",
              "[8 rows x 12 columns]"
            ]
          },
          "metadata": {
            "tags": []
          },
          "execution_count": 136
        }
      ]
    },
    {
      "cell_type": "code",
      "metadata": {
        "id": "CO8Li5CbmYTU",
        "colab_type": "code",
        "colab": {
          "base_uri": "https://localhost:8080/",
          "height": 221
        },
        "outputId": "1dcfd9ad-5a48-478d-9166-6219a92b2fa4"
      },
      "source": [
        "#Cek korelasi\n",
        "df.corr()['quality'][:-1]"
      ],
      "execution_count": 137,
      "outputs": [
        {
          "output_type": "execute_result",
          "data": {
            "text/plain": [
              "fixed_acidity          -0.113663\n",
              "volatile_acidity       -0.194723\n",
              "citric_acid            -0.009209\n",
              "residual_sugar         -0.097577\n",
              "chlorides              -0.209934\n",
              "free_sulfur_dioxide     0.008158\n",
              "total_sulfur_dioxide   -0.174737\n",
              "density                -0.307123\n",
              "pH                      0.099427\n",
              "sulphates               0.053678\n",
              "alcohol                 0.435575\n",
              "Name: quality, dtype: float64"
            ]
          },
          "metadata": {
            "tags": []
          },
          "execution_count": 137
        }
      ]
    },
    {
      "cell_type": "code",
      "metadata": {
        "id": "5NqQWVJZmnuJ",
        "colab_type": "code",
        "colab": {
          "base_uri": "https://localhost:8080/",
          "height": 1000
        },
        "outputId": "27d05c85-ac17-488d-9792-d29c4fb8bbd5"
      },
      "source": [
        "plt.figure(figsize=(20, 20))\n",
        "sns.heatmap(df.corr(), cbar=True, square=True, fmt='.2f', annot=True, annot_kws={'size':15}, cmap='Wistia')\n",
        "plt.title('Korelasi antar feature/atribut terhadap target', fontsize=15)\n",
        "plt.show()"
      ],
      "execution_count": 138,
      "outputs": [
        {
          "output_type": "display_data",
          "data": {
            "image/png": "[encoded data removed]",
            "text/plain": [
              "<Figure size 1440x1440 with 2 Axes>"
            ]
          },
          "metadata": {
            "tags": [],
            "needs_background": "light"
          }
        }
      ]
    },
    {
      "cell_type": "code",
      "metadata": {
        "id": "m6uaVPX8iGhr",
        "colab_type": "code",
        "colab": {
          "base_uri": "https://localhost:8080/",
          "height": 388
        },
        "outputId": "14f4a9ce-2773-4f72-a495-09c52f2125cc"
      },
      "source": [
        "plt.figure(figsize=(10, 6))\n",
        "sns.barplot(df['quality'], df['fixed_acidity'], palette='Wistia')\n",
        "plt.show()"
      ],
      "execution_count": 139,
      "outputs": [
        {
          "output_type": "display_data",
          "data": {
            "image/png": "[encoded data removed]",
            "text/plain": [
              "<Figure size 720x432 with 1 Axes>"
            ]
          },
          "metadata": {
            "tags": [],
            "needs_background": "light"
          }
        }
      ]
    },
    {
      "cell_type": "markdown",
      "metadata": {
        "id": "I1LVY6p_iujq",
        "colab_type": "text"
      },
      "source": [
        "Kolom fixed acidity tidak memberikan informasi spesifik untuk mengklasifikasikan quality dari wine nya"
      ]
    },
    {
      "cell_type": "code",
      "metadata": {
        "id": "Gag3IYrqir-G",
        "colab_type": "code",
        "colab": {
          "base_uri": "https://localhost:8080/",
          "height": 388
        },
        "outputId": "bf8a5cbf-c723-4af8-aa8e-21e3319f7e01"
      },
      "source": [
        "plt.figure(figsize=(10, 6))\n",
        "sns.barplot(df['quality'], df['volatile_acidity'], palette='Wistia')\n",
        "plt.show()"
      ],
      "execution_count": 140,
      "outputs": [
        {
          "output_type": "display_data",
          "data": {
            "image/png": "[encoded data removed]",
            "text/plain": [
              "<Figure size 720x432 with 1 Axes>"
            ]
          },
          "metadata": {
            "tags": [],
            "needs_background": "light"
          }
        }
      ]
    },
    {
      "cell_type": "markdown",
      "metadata": {
        "id": "kQFyp5cKjO1s",
        "colab_type": "text"
      },
      "source": [
        "Kolom volatile acidity juga tidak memberikan informasi spesifik untuk mengklasifikasikan quality dari wine nya"
      ]
    },
    {
      "cell_type": "code",
      "metadata": {
        "id": "lk0LxStPjDMV",
        "colab_type": "code",
        "colab": {
          "base_uri": "https://localhost:8080/",
          "height": 388
        },
        "outputId": "1276d1d5-4548-448d-dfef-3f68ffa9bcfb"
      },
      "source": [
        "#Citric acid\n",
        "fig = plt.figure(figsize=(10, 6))\n",
        "sns.barplot(df['quality'], df['citric_acid'], palette='Wistia')\n",
        "plt.show()"
      ],
      "execution_count": 141,
      "outputs": [
        {
          "output_type": "display_data",
          "data": {
            "image/png": "[encoded data removed]",
            "text/plain": [
              "<Figure size 720x432 with 1 Axes>"
            ]
          },
          "metadata": {
            "tags": [],
            "needs_background": "light"
          }
        }
      ]
    },
    {
      "cell_type": "code",
      "metadata": {
        "id": "t2kN--HRjaKo",
        "colab_type": "code",
        "colab": {
          "base_uri": "https://localhost:8080/",
          "height": 388
        },
        "outputId": "0417307b-2195-482f-dc51-b9e46ae12da1"
      },
      "source": [
        "#Residual Sugar\n",
        "fig = plt.figure(figsize=(10, 6))\n",
        "sns.barplot(df['quality'], df['residual_sugar'], palette='Wistia')\n",
        "plt.show()"
      ],
      "execution_count": 142,
      "outputs": [
        {
          "output_type": "display_data",
          "data": {
            "image/png": "[encoded data removed]",
            "text/plain": [
              "<Figure size 720x432 with 1 Axes>"
            ]
          },
          "metadata": {
            "tags": [],
            "needs_background": "light"
          }
        }
      ]
    },
    {
      "cell_type": "code",
      "metadata": {
        "id": "gPoZEvIujrxr",
        "colab_type": "code",
        "colab": {
          "base_uri": "https://localhost:8080/",
          "height": 388
        },
        "outputId": "fddf4b07-a9fd-484d-c1a1-22c2f579a3e3"
      },
      "source": [
        "#chlorides\n",
        "fig = plt.figure(figsize=(10, 6))\n",
        "sns.barplot(df['quality'], df['chlorides'], palette='Wistia')\n",
        "plt.show()"
      ],
      "execution_count": 143,
      "outputs": [
        {
          "output_type": "display_data",
          "data": {
            "image/png": "[encoded data removed]",
            "text/plain": [
              "<Figure size 720x432 with 1 Axes>"
            ]
          },
          "metadata": {
            "tags": [],
            "needs_background": "light"
          }
        }
      ]
    },
    {
      "cell_type": "markdown",
      "metadata": {
        "id": "WIzKHiXNlJCo",
        "colab_type": "text"
      },
      "source": [
        "Semakin tinggi kualitas dari wine, semakin rendah kadar chlorides nya"
      ]
    },
    {
      "cell_type": "code",
      "metadata": {
        "id": "kx_tdWuRlAnj",
        "colab_type": "code",
        "colab": {
          "base_uri": "https://localhost:8080/",
          "height": 388
        },
        "outputId": "2e8e9fd6-2506-49ff-f959-147e5118385f"
      },
      "source": [
        "#free_sulfur_dioxide\n",
        "fig = plt.figure(figsize=(10, 6))\n",
        "sns.barplot(df['quality'], df['free_sulfur_dioxide'], palette='Wistia')\n",
        "plt.show()"
      ],
      "execution_count": 144,
      "outputs": [
        {
          "output_type": "display_data",
          "data": {
            "image/png": "[encoded data removed]",
            "text/plain": [
              "<Figure size 720x432 with 1 Axes>"
            ]
          },
          "metadata": {
            "tags": [],
            "needs_background": "light"
          }
        }
      ]
    },
    {
      "cell_type": "code",
      "metadata": {
        "id": "nizZx8IDlZh4",
        "colab_type": "code",
        "colab": {
          "base_uri": "https://localhost:8080/",
          "height": 388
        },
        "outputId": "fd515be4-dfc0-43eb-ec07-707cd411d997"
      },
      "source": [
        "#total_sulfur_dioxide\n",
        "fig = plt.figure(figsize=(10, 6))\n",
        "sns.barplot(df['quality'], df['total_sulfur_dioxide'], palette='Wistia')\n",
        "plt.show()"
      ],
      "execution_count": 145,
      "outputs": [
        {
          "output_type": "display_data",
          "data": {
            "image/png": "[encoded data removed]",
            "text/plain": [
              "<Figure size 720x432 with 1 Axes>"
            ]
          },
          "metadata": {
            "tags": [],
            "needs_background": "light"
          }
        }
      ]
    },
    {
      "cell_type": "code",
      "metadata": {
        "id": "nh8s6yRdlroe",
        "colab_type": "code",
        "colab": {
          "base_uri": "https://localhost:8080/",
          "height": 388
        },
        "outputId": "6b357119-fbe9-44fb-8070-fde8809b4193"
      },
      "source": [
        "#density\n",
        "fig = plt.figure(figsize=(10, 6))\n",
        "sns.barplot(df['quality'], df['density'], palette='Wistia')\n",
        "plt.show()"
      ],
      "execution_count": 146,
      "outputs": [
        {
          "output_type": "display_data",
          "data": {
            "image/png": "[encoded data removed]",
            "text/plain": [
              "<Figure size 720x432 with 1 Axes>"
            ]
          },
          "metadata": {
            "tags": [],
            "needs_background": "light"
          }
        }
      ]
    },
    {
      "cell_type": "code",
      "metadata": {
        "id": "A8s4mx8zmADo",
        "colab_type": "code",
        "colab": {
          "base_uri": "https://localhost:8080/",
          "height": 388
        },
        "outputId": "f1fa0dc6-6e5b-4684-b085-c282cd1af669"
      },
      "source": [
        "#pH\n",
        "fig = plt.figure(figsize=(10, 6))\n",
        "sns.barplot(df['quality'], df['pH'], palette='Wistia')\n",
        "plt.show()"
      ],
      "execution_count": 147,
      "outputs": [
        {
          "output_type": "display_data",
          "data": {
            "image/png": "[encoded data removed]",
            "text/plain": [
              "<Figure size 720x432 with 1 Axes>"
            ]
          },
          "metadata": {
            "tags": [],
            "needs_background": "light"
          }
        }
      ]
    },
    {
      "cell_type": "code",
      "metadata": {
        "id": "IN3uWtAxmRnj",
        "colab_type": "code",
        "colab": {
          "base_uri": "https://localhost:8080/",
          "height": 388
        },
        "outputId": "22774a7b-82b0-4601-e68c-9e49b3eebce3"
      },
      "source": [
        "fig = plt.figure(figsize=(10, 6))\n",
        "sns.barplot(df['quality'], df['sulphates'], palette='Wistia')\n",
        "plt.show()"
      ],
      "execution_count": 148,
      "outputs": [
        {
          "output_type": "display_data",
          "data": {
            "image/png": "[encoded data removed]",
            "text/plain": [
              "<Figure size 720x432 with 1 Axes>"
            ]
          },
          "metadata": {
            "tags": [],
            "needs_background": "light"
          }
        }
      ]
    },
    {
      "cell_type": "code",
      "metadata": {
        "id": "qZFhpBwrkvUB",
        "colab_type": "code",
        "colab": {
          "base_uri": "https://localhost:8080/",
          "height": 85
        },
        "outputId": "fbb5e52c-48d8-4977-f791-162bf48698c4"
      },
      "source": [
        "df.columns"
      ],
      "execution_count": 149,
      "outputs": [
        {
          "output_type": "execute_result",
          "data": {
            "text/plain": [
              "Index(['fixed_acidity', 'volatile_acidity', 'citric_acid', 'residual_sugar',\n",
              "       'chlorides', 'free_sulfur_dioxide', 'total_sulfur_dioxide', 'density',\n",
              "       'pH', 'sulphates', 'alcohol', 'quality'],\n",
              "      dtype='object')"
            ]
          },
          "metadata": {
            "tags": []
          },
          "execution_count": 149
        }
      ]
    },
    {
      "cell_type": "code",
      "metadata": {
        "id": "jWCmmQCRnfK-",
        "colab_type": "code",
        "colab": {
          "base_uri": "https://localhost:8080/",
          "height": 388
        },
        "outputId": "7fb9e6d1-d5dc-46d2-f8e9-4ccd8989ca13"
      },
      "source": [
        "#alcohol\n",
        "fig = plt.figure(figsize=(10, 6))\n",
        "sns.barplot(df['quality'], df['alcohol'], palette='Wistia')\n",
        "plt.show()"
      ],
      "execution_count": 150,
      "outputs": [
        {
          "output_type": "display_data",
          "data": {
            "image/png": "[encoded data removed]",
            "text/plain": [
              "<Figure size 720x432 with 1 Axes>"
            ]
          },
          "metadata": {
            "tags": [],
            "needs_background": "light"
          }
        }
      ]
    },
    {
      "cell_type": "markdown",
      "metadata": {
        "id": "UgoPJ0CroT85",
        "colab_type": "text"
      },
      "source": [
        "Makin tinggi kualitas dari wine, makin tinggi kadar alkoholnya"
      ]
    },
    {
      "cell_type": "markdown",
      "metadata": {
        "id": "s72L4zLaozxI",
        "colab_type": "text"
      },
      "source": [
        "**Binning**"
      ]
    },
    {
      "cell_type": "code",
      "metadata": {
        "id": "fZUgb5GIoSK8",
        "colab_type": "code",
        "colab": {
          "base_uri": "https://localhost:8080/",
          "height": 317
        },
        "outputId": "bcfc19d4-4bcc-4375-ba06-0cb63d7d481f"
      },
      "source": [
        "df.describe()"
      ],
      "execution_count": 151,
      "outputs": [
        {
          "output_type": "execute_result",
          "data": {
            "text/html": [
              "<div>\n",
              "<style scoped>\n",
              "    .dataframe tbody tr th:only-of-type {\n",
              "        vertical-align: middle;\n",
              "    }\n",
              "\n",
              "    .dataframe tbody tr th {\n",
              "        vertical-align: top;\n",
              "    }\n",
              "\n",
              "    .dataframe thead th {\n",
              "        text-align: right;\n",
              "    }\n",
              "</style>\n",
              "<table border=\"1\" class=\"dataframe\">\n",
              "  <thead>\n",
              "    <tr style=\"text-align: right;\">\n",
              "      <th></th>\n",
              "      <th>fixed_acidity</th>\n",
              "      <th>volatile_acidity</th>\n",
              "      <th>citric_acid</th>\n",
              "      <th>residual_sugar</th>\n",
              "      <th>chlorides</th>\n",
              "      <th>free_sulfur_dioxide</th>\n",
              "      <th>total_sulfur_dioxide</th>\n",
              "      <th>density</th>\n",
              "      <th>pH</th>\n",
              "      <th>sulphates</th>\n",
              "      <th>alcohol</th>\n",
              "      <th>quality</th>\n",
              "    </tr>\n",
              "  </thead>\n",
              "  <tbody>\n",
              "    <tr>\n",
              "      <th>count</th>\n",
              "      <td>4898.000000</td>\n",
              "      <td>4898.000000</td>\n",
              "      <td>4898.000000</td>\n",
              "      <td>4898.000000</td>\n",
              "      <td>4898.000000</td>\n",
              "      <td>4898.000000</td>\n",
              "      <td>4898.000000</td>\n",
              "      <td>4898.000000</td>\n",
              "      <td>4898.000000</td>\n",
              "      <td>4898.000000</td>\n",
              "      <td>4898.000000</td>\n",
              "      <td>4898.000000</td>\n",
              "    </tr>\n",
              "    <tr>\n",
              "      <th>mean</th>\n",
              "      <td>6.854788</td>\n",
              "      <td>0.278241</td>\n",
              "      <td>0.334192</td>\n",
              "      <td>6.391415</td>\n",
              "      <td>0.045772</td>\n",
              "      <td>35.308085</td>\n",
              "      <td>138.360657</td>\n",
              "      <td>0.994027</td>\n",
              "      <td>3.188267</td>\n",
              "      <td>0.489847</td>\n",
              "      <td>10.514267</td>\n",
              "      <td>5.877909</td>\n",
              "    </tr>\n",
              "    <tr>\n",
              "      <th>std</th>\n",
              "      <td>0.843868</td>\n",
              "      <td>0.100795</td>\n",
              "      <td>0.121020</td>\n",
              "      <td>5.072058</td>\n",
              "      <td>0.021848</td>\n",
              "      <td>17.007137</td>\n",
              "      <td>42.498065</td>\n",
              "      <td>0.002991</td>\n",
              "      <td>0.151001</td>\n",
              "      <td>0.114126</td>\n",
              "      <td>1.230621</td>\n",
              "      <td>0.885639</td>\n",
              "    </tr>\n",
              "    <tr>\n",
              "      <th>min</th>\n",
              "      <td>3.800000</td>\n",
              "      <td>0.080000</td>\n",
              "      <td>0.000000</td>\n",
              "      <td>0.600000</td>\n",
              "      <td>0.009000</td>\n",
              "      <td>2.000000</td>\n",
              "      <td>9.000000</td>\n",
              "      <td>0.987110</td>\n",
              "      <td>2.720000</td>\n",
              "      <td>0.220000</td>\n",
              "      <td>8.000000</td>\n",
              "      <td>3.000000</td>\n",
              "    </tr>\n",
              "    <tr>\n",
              "      <th>25%</th>\n",
              "      <td>6.300000</td>\n",
              "      <td>0.210000</td>\n",
              "      <td>0.270000</td>\n",
              "      <td>1.700000</td>\n",
              "      <td>0.036000</td>\n",
              "      <td>23.000000</td>\n",
              "      <td>108.000000</td>\n",
              "      <td>0.991723</td>\n",
              "      <td>3.090000</td>\n",
              "      <td>0.410000</td>\n",
              "      <td>9.500000</td>\n",
              "      <td>5.000000</td>\n",
              "    </tr>\n",
              "    <tr>\n",
              "      <th>50%</th>\n",
              "      <td>6.800000</td>\n",
              "      <td>0.260000</td>\n",
              "      <td>0.320000</td>\n",
              "      <td>5.200000</td>\n",
              "      <td>0.043000</td>\n",
              "      <td>34.000000</td>\n",
              "      <td>134.000000</td>\n",
              "      <td>0.993740</td>\n",
              "      <td>3.180000</td>\n",
              "      <td>0.470000</td>\n",
              "      <td>10.400000</td>\n",
              "      <td>6.000000</td>\n",
              "    </tr>\n",
              "    <tr>\n",
              "      <th>75%</th>\n",
              "      <td>7.300000</td>\n",
              "      <td>0.320000</td>\n",
              "      <td>0.390000</td>\n",
              "      <td>9.900000</td>\n",
              "      <td>0.050000</td>\n",
              "      <td>46.000000</td>\n",
              "      <td>167.000000</td>\n",
              "      <td>0.996100</td>\n",
              "      <td>3.280000</td>\n",
              "      <td>0.550000</td>\n",
              "      <td>11.400000</td>\n",
              "      <td>6.000000</td>\n",
              "    </tr>\n",
              "    <tr>\n",
              "      <th>max</th>\n",
              "      <td>14.200000</td>\n",
              "      <td>1.100000</td>\n",
              "      <td>1.660000</td>\n",
              "      <td>65.800000</td>\n",
              "      <td>0.346000</td>\n",
              "      <td>289.000000</td>\n",
              "      <td>440.000000</td>\n",
              "      <td>1.038980</td>\n",
              "      <td>3.820000</td>\n",
              "      <td>1.080000</td>\n",
              "      <td>14.200000</td>\n",
              "      <td>9.000000</td>\n",
              "    </tr>\n",
              "  </tbody>\n",
              "</table>\n",
              "</div>"
            ],
            "text/plain": [
              "       fixed_acidity  volatile_acidity  ...      alcohol      quality\n",
              "count    4898.000000       4898.000000  ...  4898.000000  4898.000000\n",
              "mean        6.854788          0.278241  ...    10.514267     5.877909\n",
              "std         0.843868          0.100795  ...     1.230621     0.885639\n",
              "min         3.800000          0.080000  ...     8.000000     3.000000\n",
              "25%         6.300000          0.210000  ...     9.500000     5.000000\n",
              "50%         6.800000          0.260000  ...    10.400000     6.000000\n",
              "75%         7.300000          0.320000  ...    11.400000     6.000000\n",
              "max        14.200000          1.100000  ...    14.200000     9.000000\n",
              "\n",
              "[8 rows x 12 columns]"
            ]
          },
          "metadata": {
            "tags": []
          },
          "execution_count": 151
        }
      ]
    },
    {
      "cell_type": "code",
      "metadata": {
        "id": "4YICCxwbo1n8",
        "colab_type": "code",
        "colab": {
          "base_uri": "https://localhost:8080/",
          "height": 34
        },
        "outputId": "87e47561-ec23-4dd2-98f3-da7e6f54b8ae"
      },
      "source": [
        "print(min(df['quality']), max(df['quality']))"
      ],
      "execution_count": 152,
      "outputs": [
        {
          "output_type": "stream",
          "text": [
            "3 9\n"
          ],
          "name": "stdout"
        }
      ]
    },
    {
      "cell_type": "code",
      "metadata": {
        "id": "q9Y9VfBzo9A-",
        "colab_type": "code",
        "colab": {
          "base_uri": "https://localhost:8080/",
          "height": 34
        },
        "outputId": "96cd3321-f3c3-4b18-aaa7-ae96bbec7d83"
      },
      "source": [
        "bins = np.linspace(min(df['quality']), max(df['quality']), 3)\n",
        "bins"
      ],
      "execution_count": 153,
      "outputs": [
        {
          "output_type": "execute_result",
          "data": {
            "text/plain": [
              "array([3., 6., 9.])"
            ]
          },
          "metadata": {
            "tags": []
          },
          "execution_count": 153
        }
      ]
    },
    {
      "cell_type": "code",
      "metadata": {
        "id": "hmoL9w1FpGG4",
        "colab_type": "code",
        "colab": {
          "base_uri": "https://localhost:8080/",
          "height": 224
        },
        "outputId": "85aebf49-0b10-4be8-b306-9b5530788c15"
      },
      "source": [
        "qual_names = ['bad', 'good']\n",
        "df['quality_categories'] = pd.cut(df['quality'], bins, labels=qual_names, include_lowest=True)\n",
        "df.head()"
      ],
      "execution_count": 154,
      "outputs": [
        {
          "output_type": "execute_result",
          "data": {
            "text/html": [
              "<div>\n",
              "<style scoped>\n",
              "    .dataframe tbody tr th:only-of-type {\n",
              "        vertical-align: middle;\n",
              "    }\n",
              "\n",
              "    .dataframe tbody tr th {\n",
              "        vertical-align: top;\n",
              "    }\n",
              "\n",
              "    .dataframe thead th {\n",
              "        text-align: right;\n",
              "    }\n",
              "</style>\n",
              "<table border=\"1\" class=\"dataframe\">\n",
              "  <thead>\n",
              "    <tr style=\"text-align: right;\">\n",
              "      <th></th>\n",
              "      <th>fixed_acidity</th>\n",
              "      <th>volatile_acidity</th>\n",
              "      <th>citric_acid</th>\n",
              "      <th>residual_sugar</th>\n",
              "      <th>chlorides</th>\n",
              "      <th>free_sulfur_dioxide</th>\n",
              "      <th>total_sulfur_dioxide</th>\n",
              "      <th>density</th>\n",
              "      <th>pH</th>\n",
              "      <th>sulphates</th>\n",
              "      <th>alcohol</th>\n",
              "      <th>quality</th>\n",
              "      <th>quality_categories</th>\n",
              "    </tr>\n",
              "  </thead>\n",
              "  <tbody>\n",
              "    <tr>\n",
              "      <th>0</th>\n",
              "      <td>7.0</td>\n",
              "      <td>0.27</td>\n",
              "      <td>0.36</td>\n",
              "      <td>20.7</td>\n",
              "      <td>0.045</td>\n",
              "      <td>45.0</td>\n",
              "      <td>170.0</td>\n",
              "      <td>1.0010</td>\n",
              "      <td>3.00</td>\n",
              "      <td>0.45</td>\n",
              "      <td>8.8</td>\n",
              "      <td>6</td>\n",
              "      <td>bad</td>\n",
              "    </tr>\n",
              "    <tr>\n",
              "      <th>1</th>\n",
              "      <td>6.3</td>\n",
              "      <td>0.30</td>\n",
              "      <td>0.34</td>\n",
              "      <td>1.6</td>\n",
              "      <td>0.049</td>\n",
              "      <td>14.0</td>\n",
              "      <td>132.0</td>\n",
              "      <td>0.9940</td>\n",
              "      <td>3.30</td>\n",
              "      <td>0.49</td>\n",
              "      <td>9.5</td>\n",
              "      <td>6</td>\n",
              "      <td>bad</td>\n",
              "    </tr>\n",
              "    <tr>\n",
              "      <th>2</th>\n",
              "      <td>8.1</td>\n",
              "      <td>0.28</td>\n",
              "      <td>0.40</td>\n",
              "      <td>6.9</td>\n",
              "      <td>0.050</td>\n",
              "      <td>30.0</td>\n",
              "      <td>97.0</td>\n",
              "      <td>0.9951</td>\n",
              "      <td>3.26</td>\n",
              "      <td>0.44</td>\n",
              "      <td>10.1</td>\n",
              "      <td>6</td>\n",
              "      <td>bad</td>\n",
              "    </tr>\n",
              "    <tr>\n",
              "      <th>3</th>\n",
              "      <td>7.2</td>\n",
              "      <td>0.23</td>\n",
              "      <td>0.32</td>\n",
              "      <td>8.5</td>\n",
              "      <td>0.058</td>\n",
              "      <td>47.0</td>\n",
              "      <td>186.0</td>\n",
              "      <td>0.9956</td>\n",
              "      <td>3.19</td>\n",
              "      <td>0.40</td>\n",
              "      <td>9.9</td>\n",
              "      <td>6</td>\n",
              "      <td>bad</td>\n",
              "    </tr>\n",
              "    <tr>\n",
              "      <th>4</th>\n",
              "      <td>7.2</td>\n",
              "      <td>0.23</td>\n",
              "      <td>0.32</td>\n",
              "      <td>8.5</td>\n",
              "      <td>0.058</td>\n",
              "      <td>47.0</td>\n",
              "      <td>186.0</td>\n",
              "      <td>0.9956</td>\n",
              "      <td>3.19</td>\n",
              "      <td>0.40</td>\n",
              "      <td>9.9</td>\n",
              "      <td>6</td>\n",
              "      <td>bad</td>\n",
              "    </tr>\n",
              "  </tbody>\n",
              "</table>\n",
              "</div>"
            ],
            "text/plain": [
              "   fixed_acidity  volatile_acidity  ...  quality  quality_categories\n",
              "0            7.0              0.27  ...        6                 bad\n",
              "1            6.3              0.30  ...        6                 bad\n",
              "2            8.1              0.28  ...        6                 bad\n",
              "3            7.2              0.23  ...        6                 bad\n",
              "4            7.2              0.23  ...        6                 bad\n",
              "\n",
              "[5 rows x 13 columns]"
            ]
          },
          "metadata": {
            "tags": []
          },
          "execution_count": 154
        }
      ]
    },
    {
      "cell_type": "markdown",
      "metadata": {
        "id": "XRCIgT2FqOHo",
        "colab_type": "text"
      },
      "source": [
        "**Encoding**\n",
        "\n",
        "**Using Label Encoder**"
      ]
    },
    {
      "cell_type": "code",
      "metadata": {
        "id": "mtAb26Zap4Qz",
        "colab_type": "code",
        "colab": {}
      },
      "source": [
        "from sklearn.preprocessing import LabelEncoder"
      ],
      "execution_count": 155,
      "outputs": []
    },
    {
      "cell_type": "code",
      "metadata": {
        "id": "cWMvCc5RqbFB",
        "colab_type": "code",
        "colab": {}
      },
      "source": [
        "label_encode = LabelEncoder()"
      ],
      "execution_count": 156,
      "outputs": []
    },
    {
      "cell_type": "code",
      "metadata": {
        "id": "yS_ePfAyqmLR",
        "colab_type": "code",
        "colab": {}
      },
      "source": [
        "df['quality_categories'] = label_encode.fit_transform(df['quality_categories'])"
      ],
      "execution_count": 157,
      "outputs": []
    },
    {
      "cell_type": "code",
      "metadata": {
        "id": "bCLOv-MqqrgE",
        "colab_type": "code",
        "colab": {
          "base_uri": "https://localhost:8080/",
          "height": 368
        },
        "outputId": "63a61a0b-6619-455d-cbb9-3fe3ae0ee7fd"
      },
      "source": [
        "print(df['quality_categories'].value_counts(), '\\n')\n",
        "sns.countplot(df['quality_categories'])"
      ],
      "execution_count": 158,
      "outputs": [
        {
          "output_type": "stream",
          "text": [
            "0    3838\n",
            "1    1060\n",
            "Name: quality_categories, dtype: int64 \n",
            "\n"
          ],
          "name": "stdout"
        },
        {
          "output_type": "execute_result",
          "data": {
            "text/plain": [
              "<matplotlib.axes._subplots.AxesSubplot at 0x7f5bf9d3f470>"
            ]
          },
          "metadata": {
            "tags": []
          },
          "execution_count": 158
        },
        {
          "output_type": "display_data",
          "data": {
            "image/png": "[encoded data removed]",
            "text/plain": [
              "<Figure size 432x288 with 1 Axes>"
            ]
          },
          "metadata": {
            "tags": [],
            "needs_background": "light"
          }
        }
      ]
    },
    {
      "cell_type": "code",
      "metadata": {
        "id": "QaoYXzr2qtdG",
        "colab_type": "code",
        "colab": {
          "base_uri": "https://localhost:8080/",
          "height": 34
        },
        "outputId": "f346c647-dc57-4389-cef9-9753e38939db"
      },
      "source": [
        "df.shape"
      ],
      "execution_count": 159,
      "outputs": [
        {
          "output_type": "execute_result",
          "data": {
            "text/plain": [
              "(4898, 13)"
            ]
          },
          "metadata": {
            "tags": []
          },
          "execution_count": 159
        }
      ]
    },
    {
      "cell_type": "markdown",
      "metadata": {
        "id": "6V0sbvV8r00J",
        "colab_type": "text"
      },
      "source": [
        "**Machine Learning Model**\n",
        "\n",
        "**Data Preprocessing**"
      ]
    },
    {
      "cell_type": "markdown",
      "metadata": {
        "id": "Z1FKVtD8r6XI",
        "colab_type": "text"
      },
      "source": [
        "1. Lakukan preprocessing terhadap data menggunakan:\n",
        "  - StandardScaler\n",
        "  - Yeo-Johnson (PowerTransformer)\n",
        "  - Box-Cox Transformation (PowerTransformer)\n",
        "  - QuantileTransformer\n",
        "  - MinMaxScaler\n",
        "  - MaxAbsScaler\n",
        "  - RobustScaler\n",
        "\n",
        "  Dan jelaskan apabila hasil training untuk algoritma LinearRegression untuk masing-masing metode transformasi data dibandingkan!\n",
        "\n",
        "  Jelaskan juga apabila terdapat metode preprocessing yang tidak dapat digunakan untuk salah satu dataset!"
      ]
    },
    {
      "cell_type": "code",
      "metadata": {
        "id": "2Fi5DVRprxgZ",
        "colab_type": "code",
        "colab": {}
      },
      "source": [
        "df.drop(['quality'], axis=1, inplace=True)"
      ],
      "execution_count": 160,
      "outputs": []
    },
    {
      "cell_type": "code",
      "metadata": {
        "id": "fC-ZHbIvsGoY",
        "colab_type": "code",
        "colab": {
          "base_uri": "https://localhost:8080/",
          "height": 224
        },
        "outputId": "4557fce3-1c56-48b7-c858-51fde946abc0"
      },
      "source": [
        "df.head()"
      ],
      "execution_count": 161,
      "outputs": [
        {
          "output_type": "execute_result",
          "data": {
            "text/html": [
              "<div>\n",
              "<style scoped>\n",
              "    .dataframe tbody tr th:only-of-type {\n",
              "        vertical-align: middle;\n",
              "    }\n",
              "\n",
              "    .dataframe tbody tr th {\n",
              "        vertical-align: top;\n",
              "    }\n",
              "\n",
              "    .dataframe thead th {\n",
              "        text-align: right;\n",
              "    }\n",
              "</style>\n",
              "<table border=\"1\" class=\"dataframe\">\n",
              "  <thead>\n",
              "    <tr style=\"text-align: right;\">\n",
              "      <th></th>\n",
              "      <th>fixed_acidity</th>\n",
              "      <th>volatile_acidity</th>\n",
              "      <th>citric_acid</th>\n",
              "      <th>residual_sugar</th>\n",
              "      <th>chlorides</th>\n",
              "      <th>free_sulfur_dioxide</th>\n",
              "      <th>total_sulfur_dioxide</th>\n",
              "      <th>density</th>\n",
              "      <th>pH</th>\n",
              "      <th>sulphates</th>\n",
              "      <th>alcohol</th>\n",
              "      <th>quality_categories</th>\n",
              "    </tr>\n",
              "  </thead>\n",
              "  <tbody>\n",
              "    <tr>\n",
              "      <th>0</th>\n",
              "      <td>7.0</td>\n",
              "      <td>0.27</td>\n",
              "      <td>0.36</td>\n",
              "      <td>20.7</td>\n",
              "      <td>0.045</td>\n",
              "      <td>45.0</td>\n",
              "      <td>170.0</td>\n",
              "      <td>1.0010</td>\n",
              "      <td>3.00</td>\n",
              "      <td>0.45</td>\n",
              "      <td>8.8</td>\n",
              "      <td>0</td>\n",
              "    </tr>\n",
              "    <tr>\n",
              "      <th>1</th>\n",
              "      <td>6.3</td>\n",
              "      <td>0.30</td>\n",
              "      <td>0.34</td>\n",
              "      <td>1.6</td>\n",
              "      <td>0.049</td>\n",
              "      <td>14.0</td>\n",
              "      <td>132.0</td>\n",
              "      <td>0.9940</td>\n",
              "      <td>3.30</td>\n",
              "      <td>0.49</td>\n",
              "      <td>9.5</td>\n",
              "      <td>0</td>\n",
              "    </tr>\n",
              "    <tr>\n",
              "      <th>2</th>\n",
              "      <td>8.1</td>\n",
              "      <td>0.28</td>\n",
              "      <td>0.40</td>\n",
              "      <td>6.9</td>\n",
              "      <td>0.050</td>\n",
              "      <td>30.0</td>\n",
              "      <td>97.0</td>\n",
              "      <td>0.9951</td>\n",
              "      <td>3.26</td>\n",
              "      <td>0.44</td>\n",
              "      <td>10.1</td>\n",
              "      <td>0</td>\n",
              "    </tr>\n",
              "    <tr>\n",
              "      <th>3</th>\n",
              "      <td>7.2</td>\n",
              "      <td>0.23</td>\n",
              "      <td>0.32</td>\n",
              "      <td>8.5</td>\n",
              "      <td>0.058</td>\n",
              "      <td>47.0</td>\n",
              "      <td>186.0</td>\n",
              "      <td>0.9956</td>\n",
              "      <td>3.19</td>\n",
              "      <td>0.40</td>\n",
              "      <td>9.9</td>\n",
              "      <td>0</td>\n",
              "    </tr>\n",
              "    <tr>\n",
              "      <th>4</th>\n",
              "      <td>7.2</td>\n",
              "      <td>0.23</td>\n",
              "      <td>0.32</td>\n",
              "      <td>8.5</td>\n",
              "      <td>0.058</td>\n",
              "      <td>47.0</td>\n",
              "      <td>186.0</td>\n",
              "      <td>0.9956</td>\n",
              "      <td>3.19</td>\n",
              "      <td>0.40</td>\n",
              "      <td>9.9</td>\n",
              "      <td>0</td>\n",
              "    </tr>\n",
              "  </tbody>\n",
              "</table>\n",
              "</div>"
            ],
            "text/plain": [
              "   fixed_acidity  volatile_acidity  ...  alcohol  quality_categories\n",
              "0            7.0              0.27  ...      8.8                   0\n",
              "1            6.3              0.30  ...      9.5                   0\n",
              "2            8.1              0.28  ...     10.1                   0\n",
              "3            7.2              0.23  ...      9.9                   0\n",
              "4            7.2              0.23  ...      9.9                   0\n",
              "\n",
              "[5 rows x 12 columns]"
            ]
          },
          "metadata": {
            "tags": []
          },
          "execution_count": 161
        }
      ]
    },
    {
      "cell_type": "code",
      "metadata": {
        "id": "w2MjRwiVsHoM",
        "colab_type": "code",
        "colab": {
          "base_uri": "https://localhost:8080/",
          "height": 317
        },
        "outputId": "b90c13c0-a331-4dfd-b66b-08f13650024f"
      },
      "source": [
        "df.describe()"
      ],
      "execution_count": 162,
      "outputs": [
        {
          "output_type": "execute_result",
          "data": {
            "text/html": [
              "<div>\n",
              "<style scoped>\n",
              "    .dataframe tbody tr th:only-of-type {\n",
              "        vertical-align: middle;\n",
              "    }\n",
              "\n",
              "    .dataframe tbody tr th {\n",
              "        vertical-align: top;\n",
              "    }\n",
              "\n",
              "    .dataframe thead th {\n",
              "        text-align: right;\n",
              "    }\n",
              "</style>\n",
              "<table border=\"1\" class=\"dataframe\">\n",
              "  <thead>\n",
              "    <tr style=\"text-align: right;\">\n",
              "      <th></th>\n",
              "      <th>fixed_acidity</th>\n",
              "      <th>volatile_acidity</th>\n",
              "      <th>citric_acid</th>\n",
              "      <th>residual_sugar</th>\n",
              "      <th>chlorides</th>\n",
              "      <th>free_sulfur_dioxide</th>\n",
              "      <th>total_sulfur_dioxide</th>\n",
              "      <th>density</th>\n",
              "      <th>pH</th>\n",
              "      <th>sulphates</th>\n",
              "      <th>alcohol</th>\n",
              "      <th>quality_categories</th>\n",
              "    </tr>\n",
              "  </thead>\n",
              "  <tbody>\n",
              "    <tr>\n",
              "      <th>count</th>\n",
              "      <td>4898.000000</td>\n",
              "      <td>4898.000000</td>\n",
              "      <td>4898.000000</td>\n",
              "      <td>4898.000000</td>\n",
              "      <td>4898.000000</td>\n",
              "      <td>4898.000000</td>\n",
              "      <td>4898.000000</td>\n",
              "      <td>4898.000000</td>\n",
              "      <td>4898.000000</td>\n",
              "      <td>4898.000000</td>\n",
              "      <td>4898.000000</td>\n",
              "      <td>4898.000000</td>\n",
              "    </tr>\n",
              "    <tr>\n",
              "      <th>mean</th>\n",
              "      <td>6.854788</td>\n",
              "      <td>0.278241</td>\n",
              "      <td>0.334192</td>\n",
              "      <td>6.391415</td>\n",
              "      <td>0.045772</td>\n",
              "      <td>35.308085</td>\n",
              "      <td>138.360657</td>\n",
              "      <td>0.994027</td>\n",
              "      <td>3.188267</td>\n",
              "      <td>0.489847</td>\n",
              "      <td>10.514267</td>\n",
              "      <td>0.216415</td>\n",
              "    </tr>\n",
              "    <tr>\n",
              "      <th>std</th>\n",
              "      <td>0.843868</td>\n",
              "      <td>0.100795</td>\n",
              "      <td>0.121020</td>\n",
              "      <td>5.072058</td>\n",
              "      <td>0.021848</td>\n",
              "      <td>17.007137</td>\n",
              "      <td>42.498065</td>\n",
              "      <td>0.002991</td>\n",
              "      <td>0.151001</td>\n",
              "      <td>0.114126</td>\n",
              "      <td>1.230621</td>\n",
              "      <td>0.411842</td>\n",
              "    </tr>\n",
              "    <tr>\n",
              "      <th>min</th>\n",
              "      <td>3.800000</td>\n",
              "      <td>0.080000</td>\n",
              "      <td>0.000000</td>\n",
              "      <td>0.600000</td>\n",
              "      <td>0.009000</td>\n",
              "      <td>2.000000</td>\n",
              "      <td>9.000000</td>\n",
              "      <td>0.987110</td>\n",
              "      <td>2.720000</td>\n",
              "      <td>0.220000</td>\n",
              "      <td>8.000000</td>\n",
              "      <td>0.000000</td>\n",
              "    </tr>\n",
              "    <tr>\n",
              "      <th>25%</th>\n",
              "      <td>6.300000</td>\n",
              "      <td>0.210000</td>\n",
              "      <td>0.270000</td>\n",
              "      <td>1.700000</td>\n",
              "      <td>0.036000</td>\n",
              "      <td>23.000000</td>\n",
              "      <td>108.000000</td>\n",
              "      <td>0.991723</td>\n",
              "      <td>3.090000</td>\n",
              "      <td>0.410000</td>\n",
              "      <td>9.500000</td>\n",
              "      <td>0.000000</td>\n",
              "    </tr>\n",
              "    <tr>\n",
              "      <th>50%</th>\n",
              "      <td>6.800000</td>\n",
              "      <td>0.260000</td>\n",
              "      <td>0.320000</td>\n",
              "      <td>5.200000</td>\n",
              "      <td>0.043000</td>\n",
              "      <td>34.000000</td>\n",
              "      <td>134.000000</td>\n",
              "      <td>0.993740</td>\n",
              "      <td>3.180000</td>\n",
              "      <td>0.470000</td>\n",
              "      <td>10.400000</td>\n",
              "      <td>0.000000</td>\n",
              "    </tr>\n",
              "    <tr>\n",
              "      <th>75%</th>\n",
              "      <td>7.300000</td>\n",
              "      <td>0.320000</td>\n",
              "      <td>0.390000</td>\n",
              "      <td>9.900000</td>\n",
              "      <td>0.050000</td>\n",
              "      <td>46.000000</td>\n",
              "      <td>167.000000</td>\n",
              "      <td>0.996100</td>\n",
              "      <td>3.280000</td>\n",
              "      <td>0.550000</td>\n",
              "      <td>11.400000</td>\n",
              "      <td>0.000000</td>\n",
              "    </tr>\n",
              "    <tr>\n",
              "      <th>max</th>\n",
              "      <td>14.200000</td>\n",
              "      <td>1.100000</td>\n",
              "      <td>1.660000</td>\n",
              "      <td>65.800000</td>\n",
              "      <td>0.346000</td>\n",
              "      <td>289.000000</td>\n",
              "      <td>440.000000</td>\n",
              "      <td>1.038980</td>\n",
              "      <td>3.820000</td>\n",
              "      <td>1.080000</td>\n",
              "      <td>14.200000</td>\n",
              "      <td>1.000000</td>\n",
              "    </tr>\n",
              "  </tbody>\n",
              "</table>\n",
              "</div>"
            ],
            "text/plain": [
              "       fixed_acidity  volatile_acidity  ...      alcohol  quality_categories\n",
              "count    4898.000000       4898.000000  ...  4898.000000         4898.000000\n",
              "mean        6.854788          0.278241  ...    10.514267            0.216415\n",
              "std         0.843868          0.100795  ...     1.230621            0.411842\n",
              "min         3.800000          0.080000  ...     8.000000            0.000000\n",
              "25%         6.300000          0.210000  ...     9.500000            0.000000\n",
              "50%         6.800000          0.260000  ...    10.400000            0.000000\n",
              "75%         7.300000          0.320000  ...    11.400000            0.000000\n",
              "max        14.200000          1.100000  ...    14.200000            1.000000\n",
              "\n",
              "[8 rows x 12 columns]"
            ]
          },
          "metadata": {
            "tags": []
          },
          "execution_count": 162
        }
      ]
    },
    {
      "cell_type": "code",
      "metadata": {
        "id": "D0QnAZwtsM0i",
        "colab_type": "code",
        "colab": {}
      },
      "source": [
        "from sklearn.preprocessing import StandardScaler, PowerTransformer, QuantileTransformer, MinMaxScaler, MaxAbsScaler, RobustScaler"
      ],
      "execution_count": 163,
      "outputs": []
    },
    {
      "cell_type": "code",
      "metadata": {
        "id": "vG8dcobJsa8v",
        "colab_type": "code",
        "colab": {}
      },
      "source": [
        "stdr = StandardScaler()\n",
        "powbox = PowerTransformer(method='yeo-johnson', standardize=True)\n",
        "powbox1 = PowerTransformer(method='box-cox', standardize=True)\n",
        "quan = QuantileTransformer()\n",
        "minmax = MinMaxScaler()\n",
        "maxabs = MaxAbsScaler()\n",
        "rbst = RobustScaler()"
      ],
      "execution_count": 164,
      "outputs": []
    },
    {
      "cell_type": "code",
      "metadata": {
        "id": "G52r3Rgts1rZ",
        "colab_type": "code",
        "colab": {}
      },
      "source": [
        "X = df.drop(['quality_categories'], axis=1)\n",
        "y = df['quality_categories']"
      ],
      "execution_count": 165,
      "outputs": []
    },
    {
      "cell_type": "code",
      "metadata": {
        "id": "LR7mqNW_tqeg",
        "colab_type": "code",
        "colab": {}
      },
      "source": [
        "X_stdr = stdr.fit_transform(X.values)\n",
        "y_stdr = stdr.fit_transform(df['quality_categories'].values.reshape(-1,1)).flatten()\n",
        "\n",
        "X_powbox = powbox.fit_transform(X.values)\n",
        "y_powbox = powbox.fit_transform(df['quality_categories'].values.reshape(-1,1)).flatten()\n",
        "\n",
        "#X_powbox1 = powbox1.fit_transform(X.values)\n",
        "#y_powbox1 = powbox1.fit_transform(df['quality_categories'].values.reshape(-1, 1)).flatten()\n",
        "\n",
        "X_quan = quan.fit_transform(X.values)\n",
        "y_quan = quan.fit_transform(df['quality_categories'].values.reshape(-1,1)).flatten()\n",
        "\n",
        "X_minmax = minmax.fit_transform(X.values)\n",
        "y_minmax = minmax.fit_transform(df['quality_categories'].values.reshape(-1,1)).flatten()\n",
        "\n",
        "X_maxabs = maxabs.fit_transform(X.values)\n",
        "y_maxabs = maxabs.fit_transform(df['quality_categories'].values.reshape(-1,1)).flatten()\n",
        "\n",
        "X_rbst = rbst.fit_transform(X.values)\n",
        "y_rbst = rbst.fit_transform(df['quality_categories'].values.reshape(-1,1)).flatten()"
      ],
      "execution_count": 166,
      "outputs": []
    },
    {
      "cell_type": "markdown",
      "metadata": {
        "id": "-g1MbiXPvIMo",
        "colab_type": "text"
      },
      "source": [
        "**Using Standard Scaler**"
      ]
    },
    {
      "cell_type": "code",
      "metadata": {
        "id": "xD8QfSaWvESV",
        "colab_type": "code",
        "colab": {
          "base_uri": "https://localhost:8080/",
          "height": 34
        },
        "outputId": "2a3da0b4-899b-4925-fa36-f794b0eadc06"
      },
      "source": [
        "from sklearn.model_selection import train_test_split\n",
        "X_train, X_test, y_train, y_test = train_test_split(X_stdr, y_stdr, test_size=0.25, random_state=10)\n",
        "X_train.shape, X_test.shape, y_train.shape, y_test.shape"
      ],
      "execution_count": 167,
      "outputs": [
        {
          "output_type": "execute_result",
          "data": {
            "text/plain": [
              "((3673, 11), (1225, 11), (3673,), (1225,))"
            ]
          },
          "metadata": {
            "tags": []
          },
          "execution_count": 167
        }
      ]
    },
    {
      "cell_type": "code",
      "metadata": {
        "id": "VXJIiDLLvd6L",
        "colab_type": "code",
        "colab": {}
      },
      "source": [
        "from sklearn.metrics import mean_squared_error, mean_absolute_error, r2_score\n",
        "from sklearn.linear_model import LinearRegression"
      ],
      "execution_count": 168,
      "outputs": []
    },
    {
      "cell_type": "code",
      "metadata": {
        "id": "JX4YXb3bvnKU",
        "colab_type": "code",
        "colab": {}
      },
      "source": [
        "linreg = LinearRegression()\n",
        "linreg.fit(X_train, y_train)\n",
        "prediksi_linreg = linreg.predict(X_test)"
      ],
      "execution_count": 169,
      "outputs": []
    },
    {
      "cell_type": "code",
      "metadata": {
        "id": "X_5wdGbxvtti",
        "colab_type": "code",
        "colab": {
          "base_uri": "https://localhost:8080/",
          "height": 85
        },
        "outputId": "e2808177-122d-4b95-a97c-c23060f9bfb5"
      },
      "source": [
        "mse = mean_squared_error(y_test, prediksi_linreg)\n",
        "mae = mean_absolute_error(y_test, prediksi_linreg)\n",
        "r2 = r2_score(y_test, prediksi_linreg)\n",
        "print('MSE (Mean Squared Error) Using Standard Scaler is  :', mse)\n",
        "print('MAE (Mean Absolute Error) Using Standard Scaler is :', mae)\n",
        "print('r^2 score Using Standard Scaler is                 :', r2)\n",
        "print('RMSE (Root Mean Squared Error) is                  :', np.sqrt(mean_squared_error(y_test, prediksi_linreg)))"
      ],
      "execution_count": 170,
      "outputs": [
        {
          "output_type": "stream",
          "text": [
            "MSE (Mean Squared Error) Using Standard Scaler is  : 0.8282282144860279\n",
            "MAE (Mean Absolute Error) Using Standard Scaler is : 0.7015677877856494\n",
            "r^2 score Using Standard Scaler is                 : 0.1953256124718693\n",
            "RMSE (Root Mean Squared Error) is                  : 0.9100704447931643\n"
          ],
          "name": "stdout"
        }
      ]
    },
    {
      "cell_type": "markdown",
      "metadata": {
        "id": "eykSG13MwEgw",
        "colab_type": "text"
      },
      "source": [
        "**Using Power Transformer (yeo-johnson)**"
      ]
    },
    {
      "cell_type": "code",
      "metadata": {
        "id": "QN1JXLGBv9kr",
        "colab_type": "code",
        "colab": {
          "base_uri": "https://localhost:8080/",
          "height": 34
        },
        "outputId": "5384117b-f0e7-44bf-e53f-ad41b5b9f250"
      },
      "source": [
        "X_train_yeo, X_test_yeo, y_train_yeo, y_test_yeo = train_test_split(X_powbox, y_powbox, test_size=0.25, random_state=10)\n",
        "X_train_yeo.shape, X_test_yeo.shape, y_train_yeo.shape, y_test_yeo.shape"
      ],
      "execution_count": 171,
      "outputs": [
        {
          "output_type": "execute_result",
          "data": {
            "text/plain": [
              "((3673, 11), (1225, 11), (3673,), (1225,))"
            ]
          },
          "metadata": {
            "tags": []
          },
          "execution_count": 171
        }
      ]
    },
    {
      "cell_type": "code",
      "metadata": {
        "id": "SbSLhQoXwWst",
        "colab_type": "code",
        "colab": {}
      },
      "source": [
        "linreg_yeo = LinearRegression()\n",
        "linreg_yeo.fit(X_train_yeo, y_train_yeo)\n",
        "prediksi_linreg_yeo = linreg_yeo.predict(X_test_yeo)"
      ],
      "execution_count": 172,
      "outputs": []
    },
    {
      "cell_type": "code",
      "metadata": {
        "id": "dtXtxyJzwr3T",
        "colab_type": "code",
        "colab": {
          "base_uri": "https://localhost:8080/",
          "height": 85
        },
        "outputId": "1f8d8dc1-ebe6-4dd1-ab95-10c4f0627a1f"
      },
      "source": [
        "mse = mean_squared_error(y_test_yeo, prediksi_linreg_yeo)\n",
        "mae = mean_absolute_error(y_test_yeo, prediksi_linreg_yeo)\n",
        "r2 = r2_score(y_test_yeo, prediksi_linreg_yeo)\n",
        "print('MSE (Mean Squared Error) Using Power Transformer is        :', mse)\n",
        "print('MAE (Mean Absolute Error) Using Power Transformer is       :', mae)\n",
        "print('r^2 score Using Power Transformer is                       :', r2)\n",
        "print('RMSE (Root Mean Squared Error) Using Power Transformer is  :', np.sqrt(mean_squared_error(y_test_yeo, prediksi_linreg_yeo)))"
      ],
      "execution_count": 173,
      "outputs": [
        {
          "output_type": "stream",
          "text": [
            "MSE (Mean Squared Error) Using Power Transformer is        : 0.8334184366761399\n",
            "MAE (Mean Absolute Error) Using Power Transformer is       : 0.7093971010098716\n",
            "r^2 score Using Power Transformer is                       : 0.19028299403782456\n",
            "RMSE (Root Mean Squared Error) Using Power Transformer is  : 0.9129175410058347\n"
          ],
          "name": "stdout"
        }
      ]
    },
    {
      "cell_type": "markdown",
      "metadata": {
        "id": "-pOK5e1VxNA_",
        "colab_type": "text"
      },
      "source": [
        "**Using Quantile Transformer**"
      ]
    },
    {
      "cell_type": "code",
      "metadata": {
        "id": "iFwpM-DtxClE",
        "colab_type": "code",
        "colab": {
          "base_uri": "https://localhost:8080/",
          "height": 34
        },
        "outputId": "334b2297-0041-494a-c284-dab3a51c58a4"
      },
      "source": [
        "X_train_quan, X_test_quan, y_train_quan, y_test_quan = train_test_split(X_quan, y_quan, test_size=0.25, random_state=10)\n",
        "X_train_quan.shape, X_test_quan.shape, y_train_quan.shape, y_test_quan.shape"
      ],
      "execution_count": 174,
      "outputs": [
        {
          "output_type": "execute_result",
          "data": {
            "text/plain": [
              "((3673, 11), (1225, 11), (3673,), (1225,))"
            ]
          },
          "metadata": {
            "tags": []
          },
          "execution_count": 174
        }
      ]
    },
    {
      "cell_type": "code",
      "metadata": {
        "id": "b8RxtgxkxVU2",
        "colab_type": "code",
        "colab": {}
      },
      "source": [
        "linreg_quan = LinearRegression()\n",
        "linreg_quan.fit(X_train_quan, y_train_quan)\n",
        "prediksi_linreg_quan = linreg_quan.predict(X_test_quan)"
      ],
      "execution_count": 175,
      "outputs": []
    },
    {
      "cell_type": "code",
      "metadata": {
        "id": "7i4NmJl8xXfV",
        "colab_type": "code",
        "colab": {
          "base_uri": "https://localhost:8080/",
          "height": 85
        },
        "outputId": "60f466d1-6357-4421-83c2-04233a877582"
      },
      "source": [
        "mse = mean_squared_error(y_test_quan, prediksi_linreg_quan)\n",
        "mae = mean_absolute_error(y_test_quan, prediksi_linreg_quan)\n",
        "r2 = r2_score(y_test_quan, prediksi_linreg_quan)\n",
        "print('MSE (Mean Squared Error) Using Quantile Transformer is        :', mse)\n",
        "print('MAE (Mean Absolute Error) Using Quantile Transformer is       :', mae)\n",
        "print('r^2 score Using Quantile Transformer is                       :', r2)\n",
        "print('RMSE (Root Mean Squared Error) Using Quantile Transformer is  :', np.sqrt(mean_squared_error(y_test_quan, prediksi_linreg_quan)))"
      ],
      "execution_count": 176,
      "outputs": [
        {
          "output_type": "stream",
          "text": [
            "MSE (Mean Squared Error) Using Quantile Transformer is        : 0.14168251776851812\n",
            "MAE (Mean Absolute Error) Using Quantile Transformer is       : 0.29123365964179665\n",
            "r^2 score Using Quantile Transformer is                       : 0.18826709951595677\n",
            "RMSE (Root Mean Squared Error) Using Quantile Transformer is  : 0.3764073827231848\n"
          ],
          "name": "stdout"
        }
      ]
    },
    {
      "cell_type": "markdown",
      "metadata": {
        "id": "jEGjLvnqxmE_",
        "colab_type": "text"
      },
      "source": [
        "**Using MinMax Scaler**"
      ]
    },
    {
      "cell_type": "code",
      "metadata": {
        "id": "lom4pC5FxYxd",
        "colab_type": "code",
        "colab": {}
      },
      "source": [
        "X_train_minmax, X_test_minmax, y_train_minmax, y_test_minmax = train_test_split(X_minmax, y_minmax, test_size=0.25, random_state=10)"
      ],
      "execution_count": 177,
      "outputs": []
    },
    {
      "cell_type": "code",
      "metadata": {
        "id": "ZkkVyQobx1TL",
        "colab_type": "code",
        "colab": {}
      },
      "source": [
        "linreg_minmax = LinearRegression()\n",
        "linreg_minmax.fit(X_train_minmax, y_train_minmax)\n",
        "prediksi_linreg_minmax = linreg_minmax.predict(X_test_minmax)"
      ],
      "execution_count": 178,
      "outputs": []
    },
    {
      "cell_type": "code",
      "metadata": {
        "id": "sbsqAOBkx2dg",
        "colab_type": "code",
        "colab": {
          "base_uri": "https://localhost:8080/",
          "height": 85
        },
        "outputId": "fcbeb338-34c8-472b-cc32-70213b7b6c5d"
      },
      "source": [
        "mse = mean_squared_error(y_test_minmax, prediksi_linreg_minmax)\n",
        "mae = mean_absolute_error(y_test_minmax, prediksi_linreg_minmax)\n",
        "r2 = r2_score(y_test_minmax, prediksi_linreg_minmax)\n",
        "print('MSE (Mean Squared Error) Using MinMax Scaler is        :', mse)\n",
        "print('MAE (Mean Absolute Error) Using MinMax Scaler is       :', mae)\n",
        "print('r^2 score Using MinMax Scaler is                       :', r2)\n",
        "print('RMSE (Root Mean Squared Error) Using MinMax Scaler is  :', np.sqrt(mean_squared_error(y_test_minmax, prediksi_linreg_minmax)))"
      ],
      "execution_count": 179,
      "outputs": [
        {
          "output_type": "stream",
          "text": [
            "MSE (Mean Squared Error) Using MinMax Scaler is        : 0.14045050181019128\n",
            "MAE (Mean Absolute Error) Using MinMax Scaler is       : 0.2889058110942544\n",
            "r^2 score Using MinMax Scaler is                       : 0.19532561247186864\n",
            "RMSE (Root Mean Squared Error) Using MinMax Scaler is  : 0.3747672635252328\n"
          ],
          "name": "stdout"
        }
      ]
    },
    {
      "cell_type": "markdown",
      "metadata": {
        "id": "BGZODFwBx822",
        "colab_type": "text"
      },
      "source": [
        "**Using MaxAbs Scaler**"
      ]
    },
    {
      "cell_type": "code",
      "metadata": {
        "id": "KAPpGK0ux5Iw",
        "colab_type": "code",
        "colab": {
          "base_uri": "https://localhost:8080/",
          "height": 34
        },
        "outputId": "d4258813-7e2a-4b81-bf59-4d2610e7fefb"
      },
      "source": [
        "X_train_maxabs, X_test_maxabs, y_train_maxabs, y_test_maxabs = train_test_split(X_maxabs, y_maxabs, test_size=0.25, random_state=10)\n",
        "X_train_maxabs.shape, X_test_maxabs.shape, y_train_maxabs.shape, y_test_maxabs.shape"
      ],
      "execution_count": 180,
      "outputs": [
        {
          "output_type": "execute_result",
          "data": {
            "text/plain": [
              "((3673, 11), (1225, 11), (3673,), (1225,))"
            ]
          },
          "metadata": {
            "tags": []
          },
          "execution_count": 180
        }
      ]
    },
    {
      "cell_type": "code",
      "metadata": {
        "id": "gO4UcDq7yyGN",
        "colab_type": "code",
        "colab": {}
      },
      "source": [
        "linreg_maxabs = LinearRegression()\n",
        "linreg_maxabs.fit(X_train_maxabs, y_train_maxabs)\n",
        "prediksi_linreg_maxabs = linreg_maxabs.predict(X_test_maxabs)"
      ],
      "execution_count": 181,
      "outputs": []
    },
    {
      "cell_type": "code",
      "metadata": {
        "id": "2qMuv3O3zBWR",
        "colab_type": "code",
        "colab": {
          "base_uri": "https://localhost:8080/",
          "height": 85
        },
        "outputId": "166c4c4e-c0e8-4f29-ba27-3e2a15bb6366"
      },
      "source": [
        "mse = mean_squared_error(y_test_maxabs, prediksi_linreg_maxabs)\n",
        "mae = mean_absolute_error(y_test_maxabs, prediksi_linreg_maxabs)\n",
        "r2 = r2_score(y_test_maxabs, prediksi_linreg_maxabs)\n",
        "print('MSE (Mean Squared Error) Using MaxAbs Scaler is        :', mse)\n",
        "print('MAE (Mean Absolute Error) Using MaxAbs Scaler is       :', mae)\n",
        "print('r^2 score Using MaxAbs Scaler is                       :', r2)\n",
        "print('RMSE (Root Mean Squared Error) Using MaxAbs Scaler is  :', np.sqrt(mean_squared_error(y_test_maxabs, prediksi_linreg_maxabs)))"
      ],
      "execution_count": 182,
      "outputs": [
        {
          "output_type": "stream",
          "text": [
            "MSE (Mean Squared Error) Using MaxAbs Scaler is        : 0.14045050181019028\n",
            "MAE (Mean Absolute Error) Using MaxAbs Scaler is       : 0.288905811094267\n",
            "r^2 score Using MaxAbs Scaler is                       : 0.1953256124718743\n",
            "RMSE (Root Mean Squared Error) Using MaxAbs Scaler is  : 0.37476726352523143\n"
          ],
          "name": "stdout"
        }
      ]
    },
    {
      "cell_type": "markdown",
      "metadata": {
        "id": "Vol9McmNzX0m",
        "colab_type": "text"
      },
      "source": [
        "**Using Robust Scaler**"
      ]
    },
    {
      "cell_type": "code",
      "metadata": {
        "id": "CEgVeKbBzSMJ",
        "colab_type": "code",
        "colab": {
          "base_uri": "https://localhost:8080/",
          "height": 34
        },
        "outputId": "f1ac43a1-9228-448a-e915-c30c1b7f453a"
      },
      "source": [
        "X_train_rbst, X_test_rbst, y_train_rbst, y_test_rbst = train_test_split(X_rbst, y_rbst, test_size=0.25, random_state=10)\n",
        "X_train_rbst.shape, X_test_rbst.shape, y_train_rbst.shape, y_test_rbst.shape"
      ],
      "execution_count": 183,
      "outputs": [
        {
          "output_type": "execute_result",
          "data": {
            "text/plain": [
              "((3673, 11), (1225, 11), (3673,), (1225,))"
            ]
          },
          "metadata": {
            "tags": []
          },
          "execution_count": 183
        }
      ]
    },
    {
      "cell_type": "code",
      "metadata": {
        "id": "tw-7zu5IzcHX",
        "colab_type": "code",
        "colab": {}
      },
      "source": [
        "linreg_rbst = LinearRegression()\n",
        "linreg_rbst.fit(X_train_rbst, y_train_rbst)\n",
        "prediksi_linreg_rbst = linreg_rbst.predict(X_test_rbst)"
      ],
      "execution_count": 184,
      "outputs": []
    },
    {
      "cell_type": "code",
      "metadata": {
        "id": "v8CGjGX7z6B7",
        "colab_type": "code",
        "colab": {
          "base_uri": "https://localhost:8080/",
          "height": 85
        },
        "outputId": "c588856b-9e43-4323-b6c8-12c6c58cf643"
      },
      "source": [
        "mse = mean_squared_error(y_test_rbst, prediksi_linreg_rbst)\n",
        "mae = mean_absolute_error(y_test_rbst, prediksi_linreg_rbst)\n",
        "r2 = r2_score(y_test_rbst, prediksi_linreg_rbst)\n",
        "print('MSE (Mean Squared Error) Using MaxAbs Scaler is        :', mse)\n",
        "print('MAE (Mean Absolute Error) Using MaxAbs Scaler is       :', mae)\n",
        "print('r^2 score Using MaxAbs Scaler is                       :', r2)\n",
        "print('RMSE (Root Mean Squared Error) Using MaxAbs Scaler is  :', np.sqrt(mean_squared_error(y_test_rbst, prediksi_linreg_rbst)))"
      ],
      "execution_count": 185,
      "outputs": [
        {
          "output_type": "stream",
          "text": [
            "MSE (Mean Squared Error) Using MaxAbs Scaler is        : 0.14045050181019114\n",
            "MAE (Mean Absolute Error) Using MaxAbs Scaler is       : 0.2889058110942554\n",
            "r^2 score Using MaxAbs Scaler is                       : 0.1953256124718693\n",
            "RMSE (Root Mean Squared Error) Using MaxAbs Scaler is  : 0.3747672635252326\n"
          ],
          "name": "stdout"
        }
      ]
    },
    {
      "cell_type": "markdown",
      "metadata": {
        "id": "9ao14mZd1Adh",
        "colab_type": "text"
      },
      "source": [
        "2. Gunakan algoritma berikut dan lakukan percobaan hyperparameter tuning untuk mendapatkan hasil terbaik:\n",
        "  - Random Forest Regressor\n",
        "  - XGBoost\n",
        "  - SVM Regressor\n",
        "  - KNN Regressor\n",
        "\n",
        "  Hitung angka r^2 serta RMSE untuk menentukan mana algoritma yang paling baik!"
      ]
    },
    {
      "cell_type": "markdown",
      "metadata": {
        "id": "59WiCbDp1k74",
        "colab_type": "text"
      },
      "source": [
        "Akan digunakan Robust Scaler"
      ]
    },
    {
      "cell_type": "markdown",
      "metadata": {
        "id": "nXRuhd541oH1",
        "colab_type": "text"
      },
      "source": [
        "**Support Vector Regressor**"
      ]
    },
    {
      "cell_type": "code",
      "metadata": {
        "id": "Fsfum6kg0cQr",
        "colab_type": "code",
        "colab": {}
      },
      "source": [
        "from sklearn.svm import SVR"
      ],
      "execution_count": 186,
      "outputs": []
    },
    {
      "cell_type": "code",
      "metadata": {
        "id": "mDLZNJgh1r7N",
        "colab_type": "code",
        "colab": {
          "base_uri": "https://localhost:8080/",
          "height": 170
        },
        "outputId": "a31e8c55-9f15-4dac-ce74-804272f7dc24"
      },
      "source": [
        "types = ['rbf', 'poly', 'linear']\n",
        "for i in types:\n",
        "  svr = SVR(kernel=i)\n",
        "  svr.fit(X_train_rbst, y_train_rbst)\n",
        "  prediksi_svr = svr.predict(X_train_rbst)\n",
        "  prediksi_svr_test = svr.predict(X_test_rbst)\n",
        "  r2 = r2_score(y_test_rbst, prediksi_svr_test)\n",
        "  print('r^2 score Using Robust Scaler is :', r2)\n",
        "  print('Nilai RMSE SVR dengan kernel = {}'.format(i), 'adalah', np.sqrt(mean_squared_error(y_test_rbst, prediksi_svr_test)))\n",
        "  print('========================================================================================================================')"
      ],
      "execution_count": 187,
      "outputs": [
        {
          "output_type": "stream",
          "text": [
            "r^2 score Using Robust Scaler is : 0.2372264682151276\n",
            "Nilai RMSE SVR dengan kernel = rbf adalah 0.364879417452689\n",
            "========================================================================================================================\n",
            "r^2 score Using Robust Scaler is : 0.056217222955073476\n",
            "Nilai RMSE SVR dengan kernel = poly adalah 0.40587058960545835\n",
            "========================================================================================================================\n",
            "r^2 score Using Robust Scaler is : -0.08962873759095014\n",
            "Nilai RMSE SVR dengan kernel = linear adalah 0.43610476597598663\n",
            "========================================================================================================================\n"
          ],
          "name": "stdout"
        }
      ]
    },
    {
      "cell_type": "markdown",
      "metadata": {
        "id": "h5WOT0Rm_BHE",
        "colab_type": "text"
      },
      "source": [
        "**K-Nearest Neighbors**"
      ]
    },
    {
      "cell_type": "code",
      "metadata": {
        "id": "2vGO2jiS_AyM",
        "colab_type": "code",
        "colab": {}
      },
      "source": [
        "from sklearn.neighbors import KNeighborsRegressor"
      ],
      "execution_count": 188,
      "outputs": []
    },
    {
      "cell_type": "code",
      "metadata": {
        "id": "FFiup0cX_AaP",
        "colab_type": "code",
        "colab": {
          "base_uri": "https://localhost:8080/",
          "height": 153
        },
        "outputId": "e9bfbf6b-0266-48de-a7c1-9b21e3bee4b7"
      },
      "source": [
        "knn = KNeighborsRegressor()\n",
        "knn.get_params()"
      ],
      "execution_count": 189,
      "outputs": [
        {
          "output_type": "execute_result",
          "data": {
            "text/plain": [
              "{'algorithm': 'auto',\n",
              " 'leaf_size': 30,\n",
              " 'metric': 'minkowski',\n",
              " 'metric_params': None,\n",
              " 'n_jobs': None,\n",
              " 'n_neighbors': 5,\n",
              " 'p': 2,\n",
              " 'weights': 'uniform'}"
            ]
          },
          "metadata": {
            "tags": []
          },
          "execution_count": 189
        }
      ]
    },
    {
      "cell_type": "code",
      "metadata": {
        "id": "C8djRKpx-_9c",
        "colab_type": "code",
        "colab": {
          "base_uri": "https://localhost:8080/",
          "height": 547
        },
        "outputId": "b599c97a-b20e-4777-e1b4-b7dd5c284f0c"
      },
      "source": [
        "neig = np.arange(1, 26, 1)\n",
        "rmse_score_test = []\n",
        "\n",
        "for i, k in enumerate(neig):\n",
        "  knn = KNeighborsRegressor(n_neighbors=k)\n",
        "  knn.fit(X_train_rbst, y_train_rbst)\n",
        "  prediksi_knn_test = knn.predict(X_test_rbst)\n",
        "  rmse_score_test.append(np.sqrt(mean_squared_error(y_test_rbst, prediksi_knn_test)))\n",
        "\n",
        "plt.figure(figsize=(10,8))\n",
        "plt.plot(neig, rmse_score_test, label='Testing RMSE')\n",
        "plt.legend()\n",
        "plt.title('-value vs RMSE')\n",
        "plt.xlabel('Number of Neighbors')\n",
        "plt.ylabel('RMSE')\n",
        "plt.xticks(neig)\n",
        "plt.grid()\n",
        "plt.show()\n",
        "print('\\nNilai RMSE terbaik untuk Model KNN adalah {} dengan nilai K = {}'.format(round(np.min(rmse_score_test), 2), 1+rmse_score_test.index(np.min(rmse_score_test))))"
      ],
      "execution_count": 190,
      "outputs": [
        {
          "output_type": "display_data",
          "data": {
            "image/png": "[encoded data removed]",
            "text/plain": [
              "<Figure size 720x576 with 1 Axes>"
            ]
          },
          "metadata": {
            "tags": [],
            "needs_background": "light"
          }
        },
        {
          "output_type": "stream",
          "text": [
            "\n",
            "Nilai RMSE terbaik untuk Model KNN adalah 0.34 dengan nilai K = 13\n"
          ],
          "name": "stdout"
        }
      ]
    },
    {
      "cell_type": "code",
      "metadata": {
        "id": "ril3KICz0_u9",
        "colab_type": "code",
        "colab": {
          "base_uri": "https://localhost:8080/",
          "height": 547
        },
        "outputId": "b50d5a60-4598-4900-e4d4-366e0c14768b"
      },
      "source": [
        "neig = np.arange(1, 26, 1)\n",
        "scorer2 = []\n",
        "\n",
        "for i, k in enumerate(neig):\n",
        "  knn = KNeighborsRegressor(n_neighbors=k)\n",
        "  knn.fit(X_train_rbst, y_train_rbst)\n",
        "  prediksi_knn_test = knn.predict(X_test_rbst)\n",
        "  scorer2.append(r2_score(y_test_rbst, prediksi_knn_test))\n",
        "\n",
        "plt.figure(figsize=[10,8])\n",
        "plt.plot(neig, scorer2, label = 'Testing R2')\n",
        "plt.legend()\n",
        "plt.title('-value VS R2')\n",
        "plt.xlabel('Number of Neighbors')\n",
        "plt.ylabel('R2')\n",
        "plt.xticks(neig)\n",
        "plt.grid()\n",
        "plt.show()\n",
        "print(\"\\nNilai R2 terbaik untuk Model KNN adalah {} dengan nilai K = {}\".format(round(np.max(scorer2), 2), 1+scorer2.index(np.max(scorer2)))) "
      ],
      "execution_count": 191,
      "outputs": [
        {
          "output_type": "display_data",
          "data": {
            "image/png": "[encoded data removed]",
            "text/plain": [
              "<Figure size 720x576 with 1 Axes>"
            ]
          },
          "metadata": {
            "tags": [],
            "needs_background": "light"
          }
        },
        {
          "output_type": "stream",
          "text": [
            "\n",
            "Nilai R2 terbaik untuk Model KNN adalah 0.34 dengan nilai K = 13\n"
          ],
          "name": "stdout"
        }
      ]
    },
    {
      "cell_type": "markdown",
      "metadata": {
        "id": "ScFh0upQBii0",
        "colab_type": "text"
      },
      "source": [
        "**XGBoost Regressor**"
      ]
    },
    {
      "cell_type": "code",
      "metadata": {
        "id": "JhYKWvyL_AD3",
        "colab_type": "code",
        "colab": {}
      },
      "source": [
        "from xgboost import XGBRegressor"
      ],
      "execution_count": 192,
      "outputs": []
    },
    {
      "cell_type": "code",
      "metadata": {
        "id": "LZRdTxMg_ABu",
        "colab_type": "code",
        "colab": {
          "base_uri": "https://localhost:8080/",
          "height": 221
        },
        "outputId": "7a4ad690-d003-4b5c-eff5-66a9de37e33d"
      },
      "source": [
        "rating = [0.3, 0.03, 0.003, 0.0003]\n",
        "for i in rating:\n",
        "  xgb = XGBRegressor(objective='reg:squarederror', colsample_bytree=0.5, learning_rate=i, max_depth=4, alpha=10, n_estimators=1000)\n",
        "  xgb.fit(X_train_rbst, y_train_rbst)\n",
        "  prediksi_xgb = xgb.predict(X_train_rbst)\n",
        "  prediksi_xgb_test = xgb.predict(X_test_rbst)\n",
        "  r2 = r2_score(y_test_rbst, prediksi_xgb_test)\n",
        "  print('r^2 score Using Robust Scaler is :', r2)\n",
        "  print('Nilai RMSE XGBoost Regressor pada Testing Set dengan Learning Rate = {} adalah {}'.format(i, np.sqrt(mean_squared_error(y_test_rbst, prediksi_xgb_test))))\n",
        "  print('============================================================================================================================================================')"
      ],
      "execution_count": 193,
      "outputs": [
        {
          "output_type": "stream",
          "text": [
            "r^2 score Using Robust Scaler is : 0.38204674800253735\n",
            "Nilai RMSE XGBoost Regressor pada Testing Set dengan Learning Rate = 0.3 adalah 0.32841982820414467\n",
            "============================================================================================================================================================\n",
            "r^2 score Using Robust Scaler is : 0.38654165744286195\n",
            "Nilai RMSE XGBoost Regressor pada Testing Set dengan Learning Rate = 0.03 adalah 0.3272232072289928\n",
            "============================================================================================================================================================\n",
            "r^2 score Using Robust Scaler is : 0.30239074506522656\n",
            "Nilai RMSE XGBoost Regressor pada Testing Set dengan Learning Rate = 0.003 adalah 0.3489455588986279\n",
            "============================================================================================================================================================\n",
            "r^2 score Using Robust Scaler is : -0.14021293361434117\n",
            "Nilai RMSE XGBoost Regressor pada Testing Set dengan Learning Rate = 0.0003 adalah 0.4461126517765856\n",
            "============================================================================================================================================================\n"
          ],
          "name": "stdout"
        }
      ]
    },
    {
      "cell_type": "code",
      "metadata": {
        "id": "1oHOkhU4C0Wn",
        "colab_type": "code",
        "colab": {
          "base_uri": "https://localhost:8080/",
          "height": 170
        },
        "outputId": "48fa8298-0092-4a5f-800a-76fe32199282"
      },
      "source": [
        "#Tuning objective nya\n",
        "objektif = ['reg:squarederror', 'reg:logistic', 'reg:tweedie']\n",
        "for i in objektif:\n",
        "  xgb = XGBRegressor(objective=i, colsample_bytree=0.5, learning_rate=0.03, max_depth=4, alpha=10, n_estimators=1000)\n",
        "  xgb.fit(X_train_rbst, y_train_rbst)\n",
        "  prediksi_xgb = xgb.predict(X_train_rbst)\n",
        "  prediksi_xgb_test = xgb.predict(X_test_rbst)\n",
        "  r2 = r2_score(y_test_rbst, prediksi_xgb_test)\n",
        "  print('r^2 score Using Robust Scaler is :', r2)\n",
        "  print('Nilai RMSE XGBoost Regressor pada Testing Set dengan Objective = {}'.format(i), 'adalah', np.sqrt(mean_squared_error(prediksi_xgb_test, y_test_rbst)))\n",
        "  print('================================================================================================================================================================)')"
      ],
      "execution_count": 194,
      "outputs": [
        {
          "output_type": "stream",
          "text": [
            "r^2 score Using Robust Scaler is : 0.38654165744286195\n",
            "Nilai RMSE XGBoost Regressor pada Testing Set dengan Objective = reg:squarederror adalah 0.3272232072289928\n",
            "================================================================================================================================================================)\n",
            "r^2 score Using Robust Scaler is : 0.3880161762027444\n",
            "Nilai RMSE XGBoost Regressor pada Testing Set dengan Objective = reg:logistic adalah 0.326829711039007\n",
            "================================================================================================================================================================)\n",
            "r^2 score Using Robust Scaler is : 0.3442887268701388\n",
            "Nilai RMSE XGBoost Regressor pada Testing Set dengan Objective = reg:tweedie adalah 0.33830458491144555\n",
            "================================================================================================================================================================)\n"
          ],
          "name": "stdout"
        }
      ]
    },
    {
      "cell_type": "markdown",
      "metadata": {
        "id": "iCmuaOQH2b23",
        "colab_type": "text"
      },
      "source": [
        "**Random Forest Regressor**"
      ]
    },
    {
      "cell_type": "code",
      "metadata": {
        "id": "8UypMupe2PFM",
        "colab_type": "code",
        "colab": {}
      },
      "source": [
        "from sklearn.ensemble import RandomForestRegressor\n",
        "from sklearn.model_selection import RandomizedSearchCV"
      ],
      "execution_count": 195,
      "outputs": []
    },
    {
      "cell_type": "code",
      "metadata": {
        "id": "FVgBEwbQ3ljC",
        "colab_type": "code",
        "colab": {
          "base_uri": "https://localhost:8080/",
          "height": 323
        },
        "outputId": "72a8679a-e89d-49cb-fe96-9611abdcad36"
      },
      "source": [
        "rf = RandomForestRegressor()\n",
        "rf.get_params()"
      ],
      "execution_count": 196,
      "outputs": [
        {
          "output_type": "execute_result",
          "data": {
            "text/plain": [
              "{'bootstrap': True,\n",
              " 'ccp_alpha': 0.0,\n",
              " 'criterion': 'mse',\n",
              " 'max_depth': None,\n",
              " 'max_features': 'auto',\n",
              " 'max_leaf_nodes': None,\n",
              " 'max_samples': None,\n",
              " 'min_impurity_decrease': 0.0,\n",
              " 'min_impurity_split': None,\n",
              " 'min_samples_leaf': 1,\n",
              " 'min_samples_split': 2,\n",
              " 'min_weight_fraction_leaf': 0.0,\n",
              " 'n_estimators': 100,\n",
              " 'n_jobs': None,\n",
              " 'oob_score': False,\n",
              " 'random_state': None,\n",
              " 'verbose': 0,\n",
              " 'warm_start': False}"
            ]
          },
          "metadata": {
            "tags": []
          },
          "execution_count": 196
        }
      ]
    },
    {
      "cell_type": "code",
      "metadata": {
        "id": "0D8pB-Tf3p0K",
        "colab_type": "code",
        "colab": {}
      },
      "source": [
        "n_estimators = [int(x) for x in np.linspace(start=200, stop=2000, num=10)]\n",
        "max_features = ['auto', 'sqrt']\n",
        "max_depth = [int(x) for x in np.linspace(10, 110, num=11)]\n",
        "max_depth.append(None)\n",
        "min_samples_split = [2, 5, 10]\n",
        "min_samples_leaf = [1, 2, 4]\n",
        "bootstrap = [True, False]"
      ],
      "execution_count": 197,
      "outputs": []
    },
    {
      "cell_type": "code",
      "metadata": {
        "id": "My3glTAX4N8q",
        "colab_type": "code",
        "colab": {
          "base_uri": "https://localhost:8080/",
          "height": 54
        },
        "outputId": "8e036029-810b-404e-c9b6-9aa1ebea35e5"
      },
      "source": [
        "random_grid = {'n_estimators' : n_estimators,\n",
        "               'max_features' : max_features,\n",
        "               'max_depth' : max_depth,\n",
        "               'min_samples_split' : min_samples_split,\n",
        "               'min_samples_leaf' : min_samples_leaf,\n",
        "               'bootstrap' : bootstrap}\n",
        "\n",
        "print(random_grid)"
      ],
      "execution_count": 198,
      "outputs": [
        {
          "output_type": "stream",
          "text": [
            "{'n_estimators': [200, 400, 600, 800, 1000, 1200, 1400, 1600, 1800, 2000], 'max_features': ['auto', 'sqrt'], 'max_depth': [10, 20, 30, 40, 50, 60, 70, 80, 90, 100, 110, None], 'min_samples_split': [2, 5, 10], 'min_samples_leaf': [1, 2, 4], 'bootstrap': [True, False]}\n"
          ],
          "name": "stdout"
        }
      ]
    },
    {
      "cell_type": "code",
      "metadata": {
        "id": "UCiGf2984hOF",
        "colab_type": "code",
        "colab": {
          "base_uri": "https://localhost:8080/",
          "height": 561
        },
        "outputId": "838a8bad-94ac-4677-b86e-02fb0493d2c9"
      },
      "source": [
        "rf = RandomForestRegressor()\n",
        "rf_random = RandomizedSearchCV(estimator=rf, param_distributions=random_grid, n_iter=100, cv=3, verbose=2, random_state=42, n_jobs=-1)\n",
        "rf_random.fit(X_train_rbst, y_train_rbst)"
      ],
      "execution_count": 199,
      "outputs": [
        {
          "output_type": "stream",
          "text": [
            "Fitting 3 folds for each of 100 candidates, totalling 300 fits\n"
          ],
          "name": "stdout"
        },
        {
          "output_type": "stream",
          "text": [
            "[Parallel(n_jobs=-1)]: Using backend LokyBackend with 2 concurrent workers.\n",
            "[Parallel(n_jobs=-1)]: Done  37 tasks      | elapsed:  4.3min\n",
            "[Parallel(n_jobs=-1)]: Done 158 tasks      | elapsed: 17.9min\n",
            "[Parallel(n_jobs=-1)]: Done 300 out of 300 | elapsed: 33.8min finished\n"
          ],
          "name": "stderr"
        },
        {
          "output_type": "execute_result",
          "data": {
            "text/plain": [
              "RandomizedSearchCV(cv=3, error_score=nan,\n",
              "                   estimator=RandomForestRegressor(bootstrap=True,\n",
              "                                                   ccp_alpha=0.0,\n",
              "                                                   criterion='mse',\n",
              "                                                   max_depth=None,\n",
              "                                                   max_features='auto',\n",
              "                                                   max_leaf_nodes=None,\n",
              "                                                   max_samples=None,\n",
              "                                                   min_impurity_decrease=0.0,\n",
              "                                                   min_impurity_split=None,\n",
              "                                                   min_samples_leaf=1,\n",
              "                                                   min_samples_split=2,\n",
              "                                                   min_weight_fraction_leaf=0.0,\n",
              "                                                   n_estimators=100,\n",
              "                                                   n_jobs=None, oob_score=Fals...\n",
              "                   param_distributions={'bootstrap': [True, False],\n",
              "                                        'max_depth': [10, 20, 30, 40, 50, 60,\n",
              "                                                      70, 80, 90, 100, 110,\n",
              "                                                      None],\n",
              "                                        'max_features': ['auto', 'sqrt'],\n",
              "                                        'min_samples_leaf': [1, 2, 4],\n",
              "                                        'min_samples_split': [2, 5, 10],\n",
              "                                        'n_estimators': [200, 400, 600, 800,\n",
              "                                                         1000, 1200, 1400, 1600,\n",
              "                                                         1800, 2000]},\n",
              "                   pre_dispatch='2*n_jobs', random_state=42, refit=True,\n",
              "                   return_train_score=False, scoring=None, verbose=2)"
            ]
          },
          "metadata": {
            "tags": []
          },
          "execution_count": 199
        }
      ]
    },
    {
      "cell_type": "code",
      "metadata": {
        "id": "c9ORuF6v5CAr",
        "colab_type": "code",
        "colab": {
          "base_uri": "https://localhost:8080/",
          "height": 119
        },
        "outputId": "eb5a3cc1-3e39-4b41-bc58-b909762fa823"
      },
      "source": [
        "rf_random.best_params_"
      ],
      "execution_count": 200,
      "outputs": [
        {
          "output_type": "execute_result",
          "data": {
            "text/plain": [
              "{'bootstrap': False,\n",
              " 'max_depth': None,\n",
              " 'max_features': 'sqrt',\n",
              " 'min_samples_leaf': 1,\n",
              " 'min_samples_split': 2,\n",
              " 'n_estimators': 400}"
            ]
          },
          "metadata": {
            "tags": []
          },
          "execution_count": 200
        }
      ]
    },
    {
      "cell_type": "code",
      "metadata": {
        "id": "5hVbQOoHLvTp",
        "colab_type": "code",
        "colab": {
          "base_uri": "https://localhost:8080/",
          "height": 51
        },
        "outputId": "5fe6526f-e854-4152-a6f8-af3ca88c929f"
      },
      "source": [
        "rf = RandomForestRegressor(n_estimators=400, bootstrap=False, max_depth=None, max_features='sqrt', min_samples_leaf=1, min_samples_split=2)\n",
        "rf.fit(X_train_rbst, y_train_rbst)\n",
        "prediksi_rf = rf.predict(X_train_rbst)\n",
        "prediksi_rf_test = rf.predict(X_test_rbst)\n",
        "r2 = r2_score(y_test_rbst, prediksi_rf_test)\n",
        "print('r^2 score Using Robust Scaler is :', r2)\n",
        "print('RMSE untuk model Random Forest dengan n_estimators 400 adalah :', np.sqrt(mean_squared_error(y_test_rbst, prediksi_rf_test)))"
      ],
      "execution_count": 201,
      "outputs": [
        {
          "output_type": "stream",
          "text": [
            "r^2 score Using Robust Scaler is : 0.4943404133928162\n",
            "RMSE untuk model Random Forest dengan n_estimators 400 adalah : 0.2970849703230319\n"
          ],
          "name": "stdout"
        }
      ]
    }
  ]
}