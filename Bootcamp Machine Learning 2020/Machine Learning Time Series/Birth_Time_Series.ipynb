{
  "nbformat": 4,
  "nbformat_minor": 0,
  "metadata": {
    "colab": {
      "name": "Birth_Time Series.ipynb",
      "provenance": []
    },
    "kernelspec": {
      "name": "python3",
      "display_name": "Python 3"
    },
    "accelerator": "TPU"
  },
  "cells": [
    {
      "cell_type": "markdown",
      "metadata": {
        "id": "kBE-n6Zsk6rq"
      },
      "source": [
        "**Benedictus Bayu Pramudhito**"
      ]
    },
    {
      "cell_type": "code",
      "metadata": {
        "id": "z1RerogDLMmX",
        "outputId": "737dffb3-5b92-48db-854f-d90af379763e",
        "colab": {
          "base_uri": "https://localhost:8080/",
          "height": 34
        }
      },
      "source": [
        "from google.colab import drive\n",
        "drive.mount('/content/drive')"
      ],
      "execution_count": 1,
      "outputs": [
        {
          "output_type": "stream",
          "text": [
            "Mounted at /content/drive\n"
          ],
          "name": "stdout"
        }
      ]
    },
    {
      "cell_type": "code",
      "metadata": {
        "id": "zR20OyEFB7Jr",
        "outputId": "7b6b330b-f5e5-4a53-99e4-4b12f2bc1d16",
        "colab": {
          "base_uri": "https://localhost:8080/",
          "height": 71
        }
      },
      "source": [
        "import os\n",
        "import pandas as pd\n",
        "import matplotlib.pyplot as plt\n",
        "import seaborn as sns\n",
        "from datetime import datetime\n",
        "from statsmodels.tsa.ar_model import AR\n",
        "from statsmodels.tsa.arima_model import ARIMA\n",
        "from sklearn.metrics import mean_squared_error\n",
        "from math import sqrt\n",
        "from multiprocessing import cpu_count\n",
        "from joblib import Parallel, delayed\n",
        "from warnings import catch_warnings, filterwarnings\n",
        "from statsmodels.tsa.statespace.sarimax import SARIMAX"
      ],
      "execution_count": 2,
      "outputs": [
        {
          "output_type": "stream",
          "text": [
            "/usr/local/lib/python3.6/dist-packages/statsmodels/tools/_testing.py:19: FutureWarning: pandas.util.testing is deprecated. Use the functions in the public API at pandas.testing instead.\n",
            "  import pandas.util.testing as tm\n"
          ],
          "name": "stderr"
        }
      ]
    },
    {
      "cell_type": "code",
      "metadata": {
        "id": "jIFs4TdaCA9c"
      },
      "source": [
        "def parser(x):\n",
        "  return datetime.strptime(x, '%Y-%m-%d')"
      ],
      "execution_count": 3,
      "outputs": []
    },
    {
      "cell_type": "code",
      "metadata": {
        "id": "joxEZFAaCc3R",
        "outputId": "d0351932-64e2-42b3-f49f-e38fc5e7a26c",
        "colab": {
          "base_uri": "https://localhost:8080/",
          "height": 235
        }
      },
      "source": [
        "dataset = pd.read_csv(r'./drive/My Drive/Colab Test (Bootcamp ML 2020)/birth.csv', header=0, parse_dates=[0], index_col=0, squeeze=False, date_parser=parser)\n",
        "dataset.head()"
      ],
      "execution_count": 4,
      "outputs": [
        {
          "output_type": "execute_result",
          "data": {
            "text/html": [
              "<div>\n",
              "<style scoped>\n",
              "    .dataframe tbody tr th:only-of-type {\n",
              "        vertical-align: middle;\n",
              "    }\n",
              "\n",
              "    .dataframe tbody tr th {\n",
              "        vertical-align: top;\n",
              "    }\n",
              "\n",
              "    .dataframe thead th {\n",
              "        text-align: right;\n",
              "    }\n",
              "</style>\n",
              "<table border=\"1\" class=\"dataframe\">\n",
              "  <thead>\n",
              "    <tr style=\"text-align: right;\">\n",
              "      <th></th>\n",
              "      <th>Births</th>\n",
              "    </tr>\n",
              "    <tr>\n",
              "      <th>Date</th>\n",
              "      <th></th>\n",
              "    </tr>\n",
              "  </thead>\n",
              "  <tbody>\n",
              "    <tr>\n",
              "      <th>1959-01-01</th>\n",
              "      <td>35</td>\n",
              "    </tr>\n",
              "    <tr>\n",
              "      <th>1959-01-02</th>\n",
              "      <td>32</td>\n",
              "    </tr>\n",
              "    <tr>\n",
              "      <th>1959-01-03</th>\n",
              "      <td>30</td>\n",
              "    </tr>\n",
              "    <tr>\n",
              "      <th>1959-01-04</th>\n",
              "      <td>31</td>\n",
              "    </tr>\n",
              "    <tr>\n",
              "      <th>1959-01-05</th>\n",
              "      <td>44</td>\n",
              "    </tr>\n",
              "  </tbody>\n",
              "</table>\n",
              "</div>"
            ],
            "text/plain": [
              "            Births\n",
              "Date              \n",
              "1959-01-01      35\n",
              "1959-01-02      32\n",
              "1959-01-03      30\n",
              "1959-01-04      31\n",
              "1959-01-05      44"
            ]
          },
          "metadata": {
            "tags": []
          },
          "execution_count": 4
        }
      ]
    },
    {
      "cell_type": "code",
      "metadata": {
        "id": "OTJlz1ezCpPV",
        "outputId": "021f5541-aced-45c2-9010-579676a36893",
        "colab": {
          "base_uri": "https://localhost:8080/",
          "height": 297
        }
      },
      "source": [
        "dataset.describe()"
      ],
      "execution_count": 5,
      "outputs": [
        {
          "output_type": "execute_result",
          "data": {
            "text/html": [
              "<div>\n",
              "<style scoped>\n",
              "    .dataframe tbody tr th:only-of-type {\n",
              "        vertical-align: middle;\n",
              "    }\n",
              "\n",
              "    .dataframe tbody tr th {\n",
              "        vertical-align: top;\n",
              "    }\n",
              "\n",
              "    .dataframe thead th {\n",
              "        text-align: right;\n",
              "    }\n",
              "</style>\n",
              "<table border=\"1\" class=\"dataframe\">\n",
              "  <thead>\n",
              "    <tr style=\"text-align: right;\">\n",
              "      <th></th>\n",
              "      <th>Births</th>\n",
              "    </tr>\n",
              "  </thead>\n",
              "  <tbody>\n",
              "    <tr>\n",
              "      <th>count</th>\n",
              "      <td>365.000000</td>\n",
              "    </tr>\n",
              "    <tr>\n",
              "      <th>mean</th>\n",
              "      <td>41.980822</td>\n",
              "    </tr>\n",
              "    <tr>\n",
              "      <th>std</th>\n",
              "      <td>7.348257</td>\n",
              "    </tr>\n",
              "    <tr>\n",
              "      <th>min</th>\n",
              "      <td>23.000000</td>\n",
              "    </tr>\n",
              "    <tr>\n",
              "      <th>25%</th>\n",
              "      <td>37.000000</td>\n",
              "    </tr>\n",
              "    <tr>\n",
              "      <th>50%</th>\n",
              "      <td>42.000000</td>\n",
              "    </tr>\n",
              "    <tr>\n",
              "      <th>75%</th>\n",
              "      <td>46.000000</td>\n",
              "    </tr>\n",
              "    <tr>\n",
              "      <th>max</th>\n",
              "      <td>73.000000</td>\n",
              "    </tr>\n",
              "  </tbody>\n",
              "</table>\n",
              "</div>"
            ],
            "text/plain": [
              "           Births\n",
              "count  365.000000\n",
              "mean    41.980822\n",
              "std      7.348257\n",
              "min     23.000000\n",
              "25%     37.000000\n",
              "50%     42.000000\n",
              "75%     46.000000\n",
              "max     73.000000"
            ]
          },
          "metadata": {
            "tags": []
          },
          "execution_count": 5
        }
      ]
    },
    {
      "cell_type": "markdown",
      "metadata": {
        "id": "OZfQTRK9EKiK"
      },
      "source": [
        "**No 1**"
      ]
    },
    {
      "cell_type": "code",
      "metadata": {
        "id": "s3bcE5tQCuZ5",
        "outputId": "0eb56067-13db-469b-e919-d52571e2e4b2",
        "colab": {
          "base_uri": "https://localhost:8080/",
          "height": 291
        }
      },
      "source": [
        "dataset.plot()\n",
        "plt.show()"
      ],
      "execution_count": 6,
      "outputs": [
        {
          "output_type": "display_data",
          "data": {
            "image/png": "[encoded data removed]",
            "text/plain": [
              "<Figure size 432x288 with 1 Axes>"
            ]
          },
          "metadata": {
            "tags": [],
            "needs_background": "light"
          }
        }
      ]
    },
    {
      "cell_type": "code",
      "metadata": {
        "id": "BpMmIqdkCxxb",
        "outputId": "22a48fcb-c542-4d33-eb61-839f5c742787",
        "colab": {
          "base_uri": "https://localhost:8080/",
          "height": 279
        }
      },
      "source": [
        "from pandas.plotting import lag_plot\n",
        "lag_plot(dataset)\n",
        "plt.show()"
      ],
      "execution_count": 7,
      "outputs": [
        {
          "output_type": "display_data",
          "data": {
            "image/png": "[encoded data removed]",
            "text/plain": [
              "<Figure size 432x288 with 1 Axes>"
            ]
          },
          "metadata": {
            "tags": [],
            "needs_background": "light"
          }
        }
      ]
    },
    {
      "cell_type": "markdown",
      "metadata": {
        "id": "3ZE2BnKNENey"
      },
      "source": [
        "**No 2**"
      ]
    },
    {
      "cell_type": "code",
      "metadata": {
        "id": "lQfwexYTC1ES",
        "outputId": "f67b7d43-3f59-49b1-aa2e-b894cec6acc6",
        "colab": {
          "base_uri": "https://localhost:8080/",
          "height": 283
        }
      },
      "source": [
        "pd.plotting.autocorrelation_plot(dataset)\n",
        "plt.show()"
      ],
      "execution_count": 8,
      "outputs": [
        {
          "output_type": "display_data",
          "data": {
            "image/png": "[encoded data removed]",
            "text/plain": [
              "<Figure size 432x288 with 1 Axes>"
            ]
          },
          "metadata": {
            "tags": [],
            "needs_background": "light"
          }
        }
      ]
    },
    {
      "cell_type": "code",
      "metadata": {
        "id": "P2NDso-SC8qx",
        "outputId": "0072a111-08ba-49cb-b625-7973f6f9ebfc",
        "colab": {
          "base_uri": "https://localhost:8080/",
          "height": 281
        }
      },
      "source": [
        "dataset.hist()\n",
        "plt.show()"
      ],
      "execution_count": 9,
      "outputs": [
        {
          "output_type": "display_data",
          "data": {
            "image/png": "[encoded data removed]",
            "text/plain": [
              "<Figure size 432x288 with 1 Axes>"
            ]
          },
          "metadata": {
            "tags": [],
            "needs_background": "light"
          }
        }
      ]
    },
    {
      "cell_type": "code",
      "metadata": {
        "id": "HaBhCuIoC_pu",
        "outputId": "daecceb7-e9b6-493a-ca5f-536225379369",
        "colab": {
          "base_uri": "https://localhost:8080/",
          "height": 265
        }
      },
      "source": [
        "dataset.plot(kind='kde')\n",
        "plt.show()"
      ],
      "execution_count": 10,
      "outputs": [
        {
          "output_type": "display_data",
          "data": {
            "image/png": "[encoded data removed]",
            "text/plain": [
              "<Figure size 432x288 with 1 Axes>"
            ]
          },
          "metadata": {
            "tags": [],
            "needs_background": "light"
          }
        }
      ]
    },
    {
      "cell_type": "markdown",
      "metadata": {
        "id": "_nNBX8zcEHWM"
      },
      "source": [
        "**No 3**"
      ]
    },
    {
      "cell_type": "code",
      "metadata": {
        "id": "CbtVB9VzDJUK"
      },
      "source": [
        "values = dataset.values \n",
        "size = int(len(values) * 0.7)\n",
        "train, test = values[0:size], values[size:len(values)]\n",
        "history = [x for x in train]\n",
        "predictions = []"
      ],
      "execution_count": 11,
      "outputs": []
    },
    {
      "cell_type": "code",
      "metadata": {
        "id": "t7WiBQ3TDOuZ",
        "outputId": "aceaa269-27d8-4918-9f2f-d841eb0e6fa5",
        "colab": {
          "base_uri": "https://localhost:8080/",
          "height": 102
        }
      },
      "source": [
        "model = AR(train)\n",
        "model_fit = model.fit()\n",
        "print('Lag:', model_fit.k_ar)\n",
        "print('Coefficients:', model_fit.params)"
      ],
      "execution_count": 12,
      "outputs": [
        {
          "output_type": "stream",
          "text": [
            "Lag: 15\n",
            "Coefficients: [ 2.84203194e+01  5.40708814e-02  2.03163744e-02  9.68497563e-03\n",
            "  1.93444344e-02  4.84224091e-02 -1.46750469e-02  1.34144814e-01\n",
            "  1.30096341e-01  1.03989175e-02  1.11789392e-02  2.24457899e-03\n",
            " -7.63668633e-02 -3.78568374e-02 -4.22815405e-02  3.79248608e-02]\n"
          ],
          "name": "stdout"
        }
      ]
    },
    {
      "cell_type": "code",
      "metadata": {
        "id": "tFQz1MJFDwHX"
      },
      "source": [
        "dataset_values = dataset.values\n",
        "\n",
        "def evaluate_arima_model(X, arima_order):\n",
        "\t# prepare training dataset\n",
        "\ttrain_size = int(len(X) * 0.7)\n",
        "\ttrain, test = X[0:train_size], X[train_size:]\n",
        "\thistory = [x for x in train]\n",
        "\t# make predictions\n",
        "\tpredictions = list()\n",
        "\tfor t in range(len(test)):\n",
        "\t\tmodel = ARIMA(history, order=arima_order)\n",
        "\t\tmodel_fit = model.fit(disp=0)\n",
        "\t\tyhat = model_fit.forecast()[0]\n",
        "\t\tpredictions.append(yhat)\n",
        "\t\thistory.append(test[t])\n",
        "\t# calculate out of sample error\n",
        "\terror = mean_squared_error(test, predictions)\n",
        "\treturn error\n",
        "\n",
        "# evaluate combinations of p, d and q values for an ARIMA model\n",
        "def evaluate_models(dataset, p_values, d_values, q_values):\n",
        "\tdataset = dataset.astype('float32')\n",
        "\tbest_score, best_cfg = float(\"inf\"), None\n",
        "\tfor p in p_values:\n",
        "\t\tfor d in d_values:\n",
        "\t\t\tfor q in q_values:\n",
        "\t\t\t\torder = (p,d,q)\n",
        "\t\t\t\ttry:\n",
        "\t\t\t\t\tmse = evaluate_arima_model(dataset, order)\n",
        "\t\t\t\t\tif mse < best_score:\n",
        "\t\t\t\t\t\tbest_score, best_cfg = mse, order\n",
        "\t\t\t\t\tprint('ARIMA%s MSE=%.3f' % (order,mse))\n",
        "\t\t\t\texcept:\n",
        "\t\t\t\t\tcontinue\n",
        "\tprint('Best ARIMA%s MSE=%.3f' % (best_cfg, best_score))"
      ],
      "execution_count": 13,
      "outputs": []
    },
    {
      "cell_type": "code",
      "metadata": {
        "id": "F753st5yEaZL",
        "outputId": "af93eb5c-e809-43cb-e365-8325d42fc54d",
        "colab": {
          "base_uri": "https://localhost:8080/",
          "height": 442
        }
      },
      "source": [
        " import warnings\n",
        "\n",
        "p_values = range(0, 6)\n",
        "d_values = range(0, 2)\n",
        "q_values = range(0, 2)\n",
        "warnings.filterwarnings(\"ignore\")\n",
        "evaluate_models(values, p_values, d_values, q_values)"
      ],
      "execution_count": 15,
      "outputs": [
        {
          "output_type": "stream",
          "text": [
            "ARIMA(0, 0, 0) MSE=62.784\n",
            "ARIMA(0, 0, 1) MSE=57.000\n",
            "ARIMA(0, 1, 0) MSE=69.392\n",
            "ARIMA(0, 1, 1) MSE=53.717\n",
            "ARIMA(1, 0, 0) MSE=55.557\n",
            "ARIMA(1, 0, 1) MSE=52.019\n",
            "ARIMA(1, 1, 0) MSE=57.924\n",
            "ARIMA(1, 1, 1) MSE=51.496\n",
            "ARIMA(2, 0, 0) MSE=53.887\n",
            "ARIMA(2, 0, 1) MSE=50.026\n",
            "ARIMA(2, 1, 0) MSE=54.134\n",
            "ARIMA(2, 1, 1) MSE=51.373\n",
            "ARIMA(3, 0, 0) MSE=53.439\n",
            "ARIMA(3, 0, 1) MSE=49.929\n",
            "ARIMA(3, 1, 0) MSE=53.177\n",
            "ARIMA(3, 1, 1) MSE=51.674\n",
            "ARIMA(4, 0, 0) MSE=53.241\n",
            "ARIMA(4, 0, 1) MSE=55.772\n",
            "ARIMA(4, 1, 0) MSE=52.905\n",
            "ARIMA(4, 1, 1) MSE=51.757\n",
            "ARIMA(5, 0, 0) MSE=53.015\n",
            "ARIMA(5, 0, 1) MSE=52.390\n",
            "ARIMA(5, 1, 0) MSE=52.292\n",
            "ARIMA(5, 1, 1) MSE=52.023\n",
            "Best ARIMA(3, 0, 1) MSE=49.929\n"
          ],
          "name": "stdout"
        }
      ]
    },
    {
      "cell_type": "markdown",
      "metadata": {
        "id": "0PYPauU3I8nd"
      },
      "source": [
        "Untuk dataset birth nilai MSE terbaik diperoleh dengan nilai 49.929 dengan :\n",
        "* nilai p = 3 yang artinya data yang dilihat berdasarkan 4 data waktu sebelumnya\n",
        "* nilai d yang digunakan untuk membuat data stationary dengan nilai = 0\n",
        "* nilai q yang menggabungkan ketergantungan antara observasi dan nilai residual dari model moving average yang diterapkan pada nilai lag yang diamati dengan nilai 1\n"
      ]
    },
    {
      "cell_type": "markdown",
      "metadata": {
        "id": "pdHM5IlBXuy4"
      },
      "source": [
        "**Nomor 4**"
      ]
    },
    {
      "cell_type": "code",
      "metadata": {
        "id": "lnS_DTBLXuPM"
      },
      "source": [
        "dataset_values = dataset.values\n",
        "\n",
        "# Courtesy of Jason Brownlee of Machine Learning Mastery\n",
        "# one-step sarima forecast\n",
        "def sarima_forecast(history, config):\n",
        "\torder, sorder, trend = config\n",
        "\t# define model\n",
        "\tmodel = SARIMAX(history, order=order, seasonal_order=sorder, trend=trend, enforce_stationarity=False, enforce_invertibility=False)\n",
        "\t# fit model\n",
        "\tmodel_fit = model.fit(disp=False)\n",
        "\t# make one step forecast\n",
        "\tyhat = model_fit.predict(len(history), len(history))\n",
        "\treturn yhat[0]\n",
        "\n",
        "# root mean squared error or rmse\n",
        "def measure_rmse(actual, predicted):\n",
        "\treturn sqrt(mean_squared_error(actual, predicted))\n",
        "\n",
        "# split a univariate dataset into train/test sets\n",
        "def train_test_split(data, n_test):\n",
        "\treturn data[:-n_test], data[-n_test:]\n",
        "\n",
        "# walk-forward validation for univariate data\n",
        "def walk_forward_validation(data, n_test, cfg):\n",
        "\tpredictions = list()\n",
        "\t# split dataset\n",
        "\ttrain, test = train_test_split(data, n_test)\n",
        "\t# seed history with training dataset\n",
        "\thistory = [x for x in train]\n",
        "\t# step over each time-step in the test set\n",
        "\tfor i in range(len(test)):\n",
        "\t\t# fit model and make forecast for history\n",
        "\t\tyhat = sarima_forecast(history, cfg)\n",
        "\t\t# store forecast in list of predictions\n",
        "\t\tpredictions.append(yhat)\n",
        "\t\t# add actual observation to history for the next loop\n",
        "\t\thistory.append(test[i])\n",
        "\t# estimate prediction error\n",
        "\terror = measure_rmse(test, predictions)\n",
        "\treturn error\n",
        "\n",
        "# score a model, return None on failure\n",
        "def score_model(data, n_test, cfg, debug=False):\n",
        "\tresult = None\n",
        "\t# convert config to a key\n",
        "\tkey = str(cfg)\n",
        "\t# show all warnings and fail on exception if debugging\n",
        "\tif debug:\n",
        "\t\tresult = walk_forward_validation(data, n_test, cfg)\n",
        "\telse:\n",
        "\t\t# one failure during model validation suggests an unstable config\n",
        "\t\ttry:\n",
        "\t\t\t# never show warnings when grid searching, too noisy\n",
        "\t\t\twith catch_warnings():\n",
        "\t\t\t\tfilterwarnings(\"ignore\")\n",
        "\t\t\t\tresult = walk_forward_validation(data, n_test, cfg)\n",
        "\t\texcept:\n",
        "\t\t\terror = None\n",
        "\t# check for an interesting result\n",
        "\tif result is not None:\n",
        "\t\tprint(' > Model[%s] %.3f' % (key, result))\n",
        "\treturn (key, result)\n",
        "\n",
        "# grid search configs\n",
        "def grid_search(data, cfg_list, n_test, parallel=True):\n",
        "\tscores = None\n",
        "\tif parallel:\n",
        "\t\t# execute configs in parallel\n",
        "\t\texecutor = Parallel(n_jobs=cpu_count(), backend='multiprocessing')\n",
        "\t\ttasks = (delayed(score_model)(data, n_test, cfg) for cfg in cfg_list)\n",
        "\t\tscores = executor(tasks)\n",
        "\telse:\n",
        "\t\tscores = [score_model(data, n_test, cfg) for cfg in cfg_list]\n",
        "\t# remove empty results\n",
        "\tscores = [r for r in scores if r[1] != None]\n",
        "\t# sort configs by error, asc\n",
        "\tscores.sort(key=lambda tup: tup[1])\n",
        "\treturn scores\n",
        "\n",
        "# create a set of sarima configs to try\n",
        "def sarima_configs(seasonal=[0]):\n",
        "\tmodels = list()\n",
        "\t# define config lists\n",
        "\tp_params = [3]\n",
        "\td_params = [0, 1]\n",
        "\tq_params = [0, 1, 2]\n",
        "\tt_params = ['n','c','t','ct']\n",
        "\tP_params = [0, 1, 2]\n",
        "\tD_params = [0, 1]\n",
        "\tQ_params = [0, 1, 2]\n",
        "\tm_params = seasonal\n",
        "\t# create config instances\n",
        "\tfor p in p_params:\n",
        "\t\tfor d in d_params:\n",
        "\t\t\tfor q in q_params:\n",
        "\t\t\t\tfor t in t_params:\n",
        "\t\t\t\t\tfor P in P_params:\n",
        "\t\t\t\t\t\tfor D in D_params:\n",
        "\t\t\t\t\t\t\tfor Q in Q_params:\n",
        "\t\t\t\t\t\t\t\tfor m in m_params:\n",
        "\t\t\t\t\t\t\t\t\tcfg = [(p,d,q), (P,D,Q,m), t]\n",
        "\t\t\t\t\t\t\t\t\tmodels.append(cfg)\n",
        "\treturn models"
      ],
      "execution_count": 14,
      "outputs": []
    },
    {
      "cell_type": "code",
      "metadata": {
        "id": "CqnzXv-DX0wb",
        "outputId": "1f9a094f-414d-47dc-a34f-89ce7c529431",
        "colab": {
          "base_uri": "https://localhost:8080/",
          "height": 1000
        }
      },
      "source": [
        "n_test = int(len(dataset) * 0.7)\n",
        "\n",
        "# model configs\n",
        "cfg_list = sarima_configs()\n",
        "\n",
        "# grid search\n",
        "scores = grid_search(dataset_values, cfg_list, n_test)\n",
        "print('done')\n",
        "\n",
        "# list top 3 configs\n",
        "for cfg, error in scores[:3]:\n",
        "  print(cfg, error)"
      ],
      "execution_count": null,
      "outputs": [
        {
          "output_type": "stream",
          "text": [
            " > Model[[(3, 0, 0), (0, 0, 0, 0), 'n']] 7.730\n",
            " > Model[[(3, 0, 0), (0, 0, 1, 0), 'n']] 6.970\n",
            " > Model[[(3, 0, 0), (0, 0, 2, 0), 'n']] 6.982\n",
            " > Model[[(3, 0, 0), (1, 0, 0, 0), 'n']] 7.527\n",
            " > Model[[(3, 0, 0), (1, 0, 1, 0), 'n']] 7.006\n",
            " > Model[[(3, 0, 0), (1, 0, 2, 0), 'n']] 6.967\n",
            " > Model[[(3, 0, 0), (2, 0, 0, 0), 'n']] 7.433\n",
            " > Model[[(3, 0, 0), (2, 0, 1, 0), 'n']] 7.032\n",
            " > Model[[(3, 0, 0), (0, 0, 0, 0), 'c']] 7.130\n",
            " > Model[[(3, 0, 0), (2, 0, 2, 0), 'n']] 7.013\n",
            " > Model[[(3, 0, 0), (0, 0, 1, 0), 'c']] 7.158\n",
            " > Model[[(3, 0, 0), (0, 0, 2, 0), 'c']] 7.141\n",
            " > Model[[(3, 0, 0), (1, 0, 0, 0), 'c']] 7.134\n",
            " > Model[[(3, 0, 0), (1, 0, 1, 0), 'c']] 7.140\n",
            " > Model[[(3, 0, 0), (1, 0, 2, 0), 'c']] 7.106\n",
            " > Model[[(3, 0, 0), (2, 0, 0, 0), 'c']] 7.160\n",
            " > Model[[(3, 0, 0), (2, 0, 1, 0), 'c']] 7.121\n",
            " > Model[[(3, 0, 0), (0, 0, 0, 0), 't']] 7.739\n",
            " > Model[[(3, 0, 0), (2, 0, 2, 0), 'c']] 7.094\n",
            " > Model[[(3, 0, 0), (0, 0, 1, 0), 't']] 7.077\n",
            " > Model[[(3, 0, 0), (0, 0, 2, 0), 't']] 7.098\n",
            " > Model[[(3, 0, 0), (1, 0, 0, 0), 't']] 7.551\n",
            " > Model[[(3, 0, 0), (1, 0, 1, 0), 't']] 7.345\n",
            " > Model[[(3, 0, 0), (1, 0, 2, 0), 't']] 7.618\n",
            " > Model[[(3, 0, 0), (2, 0, 0, 0), 't']] 7.469\n",
            " > Model[[(3, 0, 0), (2, 0, 1, 0), 't']] 7.181\n",
            " > Model[[(3, 0, 0), (0, 0, 0, 0), 'ct']] 7.000\n",
            " > Model[[(3, 0, 0), (0, 0, 1, 0), 'ct']] 7.014\n",
            " > Model[[(3, 0, 0), (2, 0, 2, 0), 't']] 7.018\n",
            " > Model[[(3, 0, 0), (0, 0, 2, 0), 'ct']] 7.005\n",
            " > Model[[(3, 0, 0), (1, 0, 0, 0), 'ct']] 7.012\n",
            " > Model[[(3, 0, 0), (1, 0, 1, 0), 'ct']] 7.016\n",
            " > Model[[(3, 0, 0), (1, 0, 2, 0), 'ct']] 7.032\n",
            " > Model[[(3, 0, 0), (2, 0, 0, 0), 'ct']] 7.016\n",
            " > Model[[(3, 0, 0), (2, 0, 1, 0), 'ct']] 7.010\n",
            " > Model[[(3, 0, 1), (0, 0, 0, 0), 'n']] 7.003\n",
            " > Model[[(3, 0, 0), (2, 0, 2, 0), 'ct']] 7.005\n",
            " > Model[[(3, 0, 1), (0, 0, 1, 0), 'n']] 6.965\n",
            " > Model[[(3, 0, 1), (0, 0, 2, 0), 'n']] 7.014\n",
            " > Model[[(3, 0, 1), (1, 0, 0, 0), 'n']] 6.996\n",
            " > Model[[(3, 0, 1), (1, 0, 1, 0), 'n']] 6.979\n",
            " > Model[[(3, 0, 1), (1, 0, 2, 0), 'n']] 7.002\n",
            " > Model[[(3, 0, 1), (2, 0, 0, 0), 'n']] 6.991\n",
            " > Model[[(3, 0, 1), (2, 0, 1, 0), 'n']] 7.067\n",
            " > Model[[(3, 0, 1), (2, 0, 2, 0), 'n']] 7.014\n",
            " > Model[[(3, 0, 1), (0, 0, 0, 0), 'c']] 7.136\n",
            " > Model[[(3, 0, 1), (0, 0, 1, 0), 'c']] 7.134\n",
            " > Model[[(3, 0, 1), (0, 0, 2, 0), 'c']] 7.093\n",
            " > Model[[(3, 0, 1), (1, 0, 0, 0), 'c']] 7.125\n",
            " > Model[[(3, 0, 1), (1, 0, 1, 0), 'c']] 7.110\n",
            " > Model[[(3, 0, 1), (1, 0, 2, 0), 'c']] 7.095\n",
            " > Model[[(3, 0, 1), (2, 0, 0, 0), 'c']] 7.124\n",
            " > Model[[(3, 0, 1), (2, 0, 1, 0), 'c']] 7.100\n",
            " > Model[[(3, 0, 1), (2, 0, 2, 0), 'c']] 7.109\n",
            " > Model[[(3, 0, 1), (0, 0, 0, 0), 't']] 7.059\n",
            " > Model[[(3, 0, 1), (0, 0, 1, 0), 't']] 7.179\n",
            " > Model[[(3, 0, 1), (0, 0, 2, 0), 't']] 7.076\n",
            " > Model[[(3, 0, 1), (1, 0, 0, 0), 't']] 7.089\n",
            " > Model[[(3, 0, 1), (1, 0, 1, 0), 't']] 7.326\n",
            " > Model[[(3, 0, 1), (1, 0, 2, 0), 't']] 7.565\n",
            " > Model[[(3, 0, 1), (2, 0, 0, 0), 't']] 7.131\n",
            " > Model[[(3, 0, 1), (2, 0, 1, 0), 't']] 7.076\n",
            " > Model[[(3, 0, 1), (0, 0, 0, 0), 'ct']] 7.019\n",
            " > Model[[(3, 0, 1), (2, 0, 2, 0), 't']] 7.055\n",
            " > Model[[(3, 0, 1), (0, 0, 1, 0), 'ct']] 7.011\n",
            " > Model[[(3, 0, 1), (0, 0, 2, 0), 'ct']] 7.000\n",
            " > Model[[(3, 0, 1), (1, 0, 0, 0), 'ct']] 7.009\n",
            " > Model[[(3, 0, 1), (1, 0, 1, 0), 'ct']] 7.012\n",
            " > Model[[(3, 0, 1), (1, 0, 2, 0), 'ct']] 7.014\n",
            " > Model[[(3, 0, 1), (2, 0, 0, 0), 'ct']] 7.004\n",
            " > Model[[(3, 0, 1), (2, 0, 1, 0), 'ct']] 7.016\n",
            " > Model[[(3, 0, 2), (0, 0, 0, 0), 'n']] 6.994\n",
            " > Model[[(3, 0, 1), (2, 0, 2, 0), 'ct']] 6.994\n",
            " > Model[[(3, 0, 2), (0, 0, 1, 0), 'n']] 6.977\n",
            " > Model[[(3, 0, 2), (0, 0, 2, 0), 'n']] 6.999\n",
            " > Model[[(3, 0, 2), (1, 0, 0, 0), 'n']] 6.977\n",
            " > Model[[(3, 0, 2), (1, 0, 1, 0), 'n']] 7.035\n",
            " > Model[[(3, 0, 2), (1, 0, 2, 0), 'n']] 7.031\n",
            " > Model[[(3, 0, 2), (2, 0, 0, 0), 'n']] 6.956\n",
            " > Model[[(3, 0, 2), (2, 0, 1, 0), 'n']] 7.031\n",
            " > Model[[(3, 0, 2), (2, 0, 2, 0), 'n']] 7.050\n",
            " > Model[[(3, 0, 2), (0, 0, 0, 0), 'c']] 7.171\n",
            " > Model[[(3, 0, 2), (0, 0, 1, 0), 'c']] 7.079\n",
            " > Model[[(3, 0, 2), (0, 0, 2, 0), 'c']] 7.100\n",
            " > Model[[(3, 0, 2), (1, 0, 0, 0), 'c']] 7.101\n",
            " > Model[[(3, 0, 2), (1, 0, 1, 0), 'c']] 7.084\n",
            " > Model[[(3, 0, 2), (1, 0, 2, 0), 'c']] 7.098\n",
            " > Model[[(3, 0, 2), (2, 0, 0, 0), 'c']] 7.099\n",
            " > Model[[(3, 0, 2), (2, 0, 1, 0), 'c']] 7.112\n",
            " > Model[[(3, 0, 2), (2, 0, 2, 0), 'c']] 7.096\n",
            " > Model[[(3, 0, 2), (0, 0, 0, 0), 't']] 7.137\n",
            " > Model[[(3, 0, 2), (0, 0, 1, 0), 't']] 7.116\n",
            " > Model[[(3, 0, 2), (0, 0, 2, 0), 't']] 7.092\n",
            " > Model[[(3, 0, 2), (1, 0, 0, 0), 't']] 7.074\n",
            " > Model[[(3, 0, 2), (1, 0, 1, 0), 't']] 7.216\n",
            " > Model[[(3, 0, 2), (1, 0, 2, 0), 't']] 7.748\n",
            " > Model[[(3, 0, 2), (2, 0, 0, 0), 't']] 6.983\n",
            " > Model[[(3, 0, 2), (2, 0, 1, 0), 't']] 7.205\n",
            " > Model[[(3, 0, 2), (0, 0, 0, 0), 'ct']] 7.019\n",
            " > Model[[(3, 0, 2), (2, 0, 2, 0), 't']] 7.263\n",
            " > Model[[(3, 0, 2), (0, 0, 1, 0), 'ct']] 7.003\n",
            " > Model[[(3, 0, 2), (0, 0, 2, 0), 'ct']] 7.012\n",
            " > Model[[(3, 0, 2), (1, 0, 0, 0), 'ct']] 7.013\n",
            " > Model[[(3, 0, 2), (1, 0, 1, 0), 'ct']] 7.012\n",
            " > Model[[(3, 0, 2), (1, 0, 2, 0), 'ct']] 7.030\n",
            " > Model[[(3, 0, 2), (2, 0, 0, 0), 'ct']] 7.021\n",
            " > Model[[(3, 0, 2), (2, 0, 1, 0), 'ct']] 7.007\n",
            " > Model[[(3, 1, 0), (0, 0, 0, 0), 'n']] 7.507\n",
            " > Model[[(3, 1, 0), (0, 0, 1, 0), 'n']] 6.964\n",
            " > Model[[(3, 0, 2), (2, 0, 2, 0), 'ct']] 7.028\n",
            " > Model[[(3, 1, 0), (1, 0, 0, 0), 'n']] 7.436\n",
            " > Model[[(3, 1, 0), (0, 0, 2, 0), 'n']] 6.976\n",
            " > Model[[(3, 1, 0), (1, 0, 1, 0), 'n']] 6.960\n",
            " > Model[[(3, 1, 0), (2, 0, 0, 0), 'n']] 7.370\n",
            " > Model[[(3, 1, 0), (1, 0, 2, 0), 'n']] 6.947\n",
            " > Model[[(3, 1, 0), (2, 0, 1, 0), 'n']] 6.976\n",
            " > Model[[(3, 1, 0), (0, 0, 0, 0), 'c']] 7.525\n",
            " > Model[[(3, 1, 0), (2, 0, 2, 0), 'n']] 6.989\n",
            " > Model[[(3, 1, 0), (0, 0, 1, 0), 'c']] 7.011\n",
            " > Model[[(3, 1, 0), (1, 0, 0, 0), 'c']] 7.454\n",
            " > Model[[(3, 1, 0), (0, 0, 2, 0), 'c']] 7.006\n",
            " > Model[[(3, 1, 0), (1, 0, 1, 0), 'c']] 7.005\n",
            " > Model[[(3, 1, 0), (1, 0, 2, 0), 'c']] 6.988\n",
            " > Model[[(3, 1, 0), (2, 0, 0, 0), 'c']] 7.387\n",
            " > Model[[(3, 1, 0), (2, 0, 1, 0), 'c']] 7.034\n",
            " > Model[[(3, 1, 0), (0, 0, 0, 0), 't']] 7.563\n",
            " > Model[[(3, 1, 0), (2, 0, 2, 0), 'c']] 7.018\n",
            " > Model[[(3, 1, 0), (0, 0, 1, 0), 't']] 7.026\n",
            " > Model[[(3, 1, 0), (0, 0, 2, 0), 't']] 7.092\n",
            " > Model[[(3, 1, 0), (1, 0, 0, 0), 't']] 7.491\n",
            " > Model[[(3, 1, 0), (1, 0, 1, 0), 't']] 7.079\n",
            " > Model[[(3, 1, 0), (1, 0, 2, 0), 't']] 7.049\n",
            " > Model[[(3, 1, 0), (2, 0, 0, 0), 't']] 7.424\n",
            " > Model[[(3, 1, 0), (2, 0, 1, 0), 't']] 7.041\n",
            " > Model[[(3, 1, 0), (0, 0, 0, 0), 'ct']] 7.587\n",
            " > Model[[(3, 1, 0), (2, 0, 2, 0), 't']] 7.062\n",
            " > Model[[(3, 1, 0), (0, 0, 1, 0), 'ct']] 7.111\n",
            " > Model[[(3, 1, 0), (0, 0, 2, 0), 'ct']] 7.059\n",
            " > Model[[(3, 1, 0), (1, 0, 0, 0), 'ct']] 7.513\n",
            " > Model[[(3, 1, 0), (1, 0, 1, 0), 'ct']] 7.056\n",
            " > Model[[(3, 1, 0), (1, 0, 2, 0), 'ct']] 7.048\n",
            " > Model[[(3, 1, 0), (2, 0, 0, 0), 'ct']] 7.445\n",
            " > Model[[(3, 1, 0), (2, 0, 1, 0), 'ct']] 7.190\n",
            " > Model[[(3, 1, 1), (0, 0, 0, 0), 'n']] 6.957\n",
            " > Model[[(3, 1, 0), (2, 0, 2, 0), 'ct']] 7.083\n",
            " > Model[[(3, 1, 1), (0, 0, 1, 0), 'n']] 6.960\n",
            " > Model[[(3, 1, 1), (1, 0, 0, 0), 'n']] 6.960\n",
            " > Model[[(3, 1, 1), (0, 0, 2, 0), 'n']] 6.969\n",
            " > Model[[(3, 1, 1), (1, 0, 1, 0), 'n']] 6.971\n",
            " > Model[[(3, 1, 1), (1, 0, 2, 0), 'n']] 6.931\n",
            " > Model[[(3, 1, 1), (2, 0, 0, 0), 'n']] 6.977\n",
            " > Model[[(3, 1, 1), (2, 0, 1, 0), 'n']] 6.971\n",
            " > Model[[(3, 1, 1), (2, 0, 2, 0), 'n']] 6.967\n",
            " > Model[[(3, 1, 1), (0, 0, 0, 0), 'c']] 6.992\n",
            " > Model[[(3, 1, 1), (0, 0, 1, 0), 'c']] 7.014\n",
            " > Model[[(3, 1, 1), (0, 0, 2, 0), 'c']] 7.024\n",
            " > Model[[(3, 1, 1), (1, 0, 0, 0), 'c']] 7.008\n",
            " > Model[[(3, 1, 1), (1, 0, 1, 0), 'c']] 7.018\n",
            " > Model[[(3, 1, 1), (1, 0, 2, 0), 'c']] 6.980\n",
            " > Model[[(3, 1, 1), (2, 0, 0, 0), 'c']] 7.030\n",
            " > Model[[(3, 1, 1), (2, 0, 1, 0), 'c']] 7.009\n",
            " > Model[[(3, 1, 1), (2, 0, 2, 0), 'c']] 7.023\n",
            " > Model[[(3, 1, 1), (0, 0, 0, 0), 't']] 7.051\n",
            " > Model[[(3, 1, 1), (0, 0, 1, 0), 't']] 7.060\n",
            " > Model[[(3, 1, 1), (0, 0, 2, 0), 't']] 7.034\n",
            " > Model[[(3, 1, 1), (1, 0, 0, 0), 't']] 7.120\n",
            " > Model[[(3, 1, 1), (1, 0, 1, 0), 't']] 7.068\n",
            " > Model[[(3, 1, 1), (1, 0, 2, 0), 't']] 7.064\n",
            " > Model[[(3, 1, 1), (2, 0, 0, 0), 't']] 7.065\n",
            " > Model[[(3, 1, 1), (2, 0, 1, 0), 't']] 7.068\n",
            " > Model[[(3, 1, 1), (2, 0, 2, 0), 't']] 7.111\n",
            " > Model[[(3, 1, 1), (0, 0, 0, 0), 'ct']] 7.034\n",
            " > Model[[(3, 1, 1), (0, 0, 1, 0), 'ct']] 7.068\n",
            " > Model[[(3, 1, 1), (0, 0, 2, 0), 'ct']] 7.126\n",
            " > Model[[(3, 1, 1), (1, 0, 0, 0), 'ct']] 7.025\n",
            " > Model[[(3, 1, 1), (1, 0, 1, 0), 'ct']] 7.036\n",
            " > Model[[(3, 1, 1), (1, 0, 2, 0), 'ct']] 7.136\n",
            " > Model[[(3, 1, 1), (2, 0, 0, 0), 'ct']] 7.137\n",
            " > Model[[(3, 1, 1), (2, 0, 1, 0), 'ct']] 7.054\n",
            " > Model[[(3, 1, 2), (0, 0, 0, 0), 'n']] 6.931\n",
            " > Model[[(3, 1, 1), (2, 0, 2, 0), 'ct']] 6.962\n",
            " > Model[[(3, 1, 2), (0, 0, 1, 0), 'n']] 6.937\n",
            " > Model[[(3, 1, 2), (1, 0, 0, 0), 'n']] 6.957\n",
            " > Model[[(3, 1, 2), (0, 0, 2, 0), 'n']] 73662.595\n",
            " > Model[[(3, 1, 2), (1, 0, 1, 0), 'n']] 6.948\n",
            " > Model[[(3, 1, 2), (1, 0, 2, 0), 'n']] 6.887\n",
            " > Model[[(3, 1, 2), (2, 0, 0, 0), 'n']] 6.985\n",
            " > Model[[(3, 1, 2), (2, 0, 1, 0), 'n']] 6.969\n",
            " > Model[[(3, 1, 2), (2, 0, 2, 0), 'n']] 6.943\n",
            " > Model[[(3, 1, 2), (0, 0, 0, 0), 'c']] 6.969\n",
            " > Model[[(3, 1, 2), (0, 0, 1, 0), 'c']] 6.976\n",
            " > Model[[(3, 1, 2), (0, 0, 2, 0), 'c']] 7.012\n",
            " > Model[[(3, 1, 2), (1, 0, 0, 0), 'c']] 6.982\n"
          ],
          "name": "stdout"
        }
      ]
    },
    {
      "cell_type": "markdown",
      "metadata": {
        "id": "eCTKSkVej_95"
      },
      "source": [
        "(Karena durasi terbatas, tidak sempat ke run semua sehingga distop ditengah jalan)\n",
        "\n",
        "Berdasarkan hasil sarima, nilai RMSE terbaik diperoleh pada nilai Model[[(3, 1, 1), (1, 0, 2, 0), 'n']] dengan nilai RMSE 6.931 dengan lag(**p**) bernilai 3, **d** bernilai 1, dan **q** bernilai 1 untuk bagian **autoregression**nya\n",
        "\n",
        "Untuk **seasonal**nya parameternya dengan **P** bernilai 1, **D** bernilai 0, **Q** bernilai 2, dan **m** bernilai 0. \n",
        "\n",
        "Untuk trendnya bernilai n yang berarti No Trend yang artinya secara grafik tidak terlihat trend dan seasonalitynya"
      ]
    },
    {
      "cell_type": "markdown",
      "metadata": {
        "id": "N85X46fskRK-"
      },
      "source": [
        "**Nomor 5**\n",
        "\n",
        "* ARIMA -> ARIMA(3, 0, 1) MSE=49.929, RMSE = 7,066\n",
        "* SARIMA -> Model[[(3, 0, 0), (1, 0, 2, 0), 'n'], RMSE = 6.931\n",
        "\n",
        "Berdasarkan RMSE, hasil lebih baik ditunjukkan oleh SARIMA yang berarti tidak menunjukkan adanya trend dan seasonality"
      ]
    }
  ]
}