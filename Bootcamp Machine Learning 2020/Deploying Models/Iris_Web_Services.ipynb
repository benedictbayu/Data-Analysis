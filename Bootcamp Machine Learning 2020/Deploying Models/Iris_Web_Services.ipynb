{
  "nbformat": 4,
  "nbformat_minor": 0,
  "metadata": {
    "colab": {
      "name": "Iris Web Services.ipynb",
      "provenance": []
    },
    "kernelspec": {
      "name": "python3",
      "display_name": "Python 3"
    }
  },
  "cells": [
    {
      "cell_type": "markdown",
      "metadata": {
        "id": "hfek8jWD57O3"
      },
      "source": [
        "## **Iris**\n",
        "\n",
        "**Benedictus Bayu Pramudhito**"
      ]
    },
    {
      "cell_type": "code",
      "metadata": {
        "id": "worUMG10RAKX",
        "outputId": "64ea3f12-666b-447e-cb6a-3c079491fa7d",
        "colab": {
          "base_uri": "https://localhost:8080/",
          "height": 34
        }
      },
      "source": [
        "from google.colab import drive\n",
        "drive.mount('/content/drive')"
      ],
      "execution_count": 1,
      "outputs": [
        {
          "output_type": "stream",
          "text": [
            "Drive already mounted at /content/drive; to attempt to forcibly remount, call drive.mount(\"/content/drive\", force_remount=True).\n"
          ],
          "name": "stdout"
        }
      ]
    },
    {
      "cell_type": "code",
      "metadata": {
        "id": "N4bCH5CoRFIh"
      },
      "source": [
        "import pandas as pd\n",
        "import numpy as np\n",
        "import matplotlib.pyplot as plt\n",
        "import seaborn as sns"
      ],
      "execution_count": 132,
      "outputs": []
    },
    {
      "cell_type": "code",
      "metadata": {
        "id": "eFyxmG3YRkox",
        "outputId": "701c069d-c340-4a88-efec-39c2198809b6",
        "colab": {
          "base_uri": "https://localhost:8080/",
          "height": 204
        }
      },
      "source": [
        "dataset = pd.read_csv('./drive/My Drive/Colab Test (Bootcamp ML 2020)/iris.csv')\n",
        "\n",
        "dataset.tail()"
      ],
      "execution_count": 133,
      "outputs": [
        {
          "output_type": "execute_result",
          "data": {
            "text/html": [
              "<div>\n",
              "<style scoped>\n",
              "    .dataframe tbody tr th:only-of-type {\n",
              "        vertical-align: middle;\n",
              "    }\n",
              "\n",
              "    .dataframe tbody tr th {\n",
              "        vertical-align: top;\n",
              "    }\n",
              "\n",
              "    .dataframe thead th {\n",
              "        text-align: right;\n",
              "    }\n",
              "</style>\n",
              "<table border=\"1\" class=\"dataframe\">\n",
              "  <thead>\n",
              "    <tr style=\"text-align: right;\">\n",
              "      <th></th>\n",
              "      <th>Id</th>\n",
              "      <th>SepalLengthCm</th>\n",
              "      <th>SepalWidthCm</th>\n",
              "      <th>PetalLengthCm</th>\n",
              "      <th>PetalWidthCm</th>\n",
              "      <th>Species</th>\n",
              "    </tr>\n",
              "  </thead>\n",
              "  <tbody>\n",
              "    <tr>\n",
              "      <th>145</th>\n",
              "      <td>146</td>\n",
              "      <td>6.7</td>\n",
              "      <td>3.0</td>\n",
              "      <td>5.2</td>\n",
              "      <td>2.3</td>\n",
              "      <td>Iris-virginica</td>\n",
              "    </tr>\n",
              "    <tr>\n",
              "      <th>146</th>\n",
              "      <td>147</td>\n",
              "      <td>6.3</td>\n",
              "      <td>2.5</td>\n",
              "      <td>5.0</td>\n",
              "      <td>1.9</td>\n",
              "      <td>Iris-virginica</td>\n",
              "    </tr>\n",
              "    <tr>\n",
              "      <th>147</th>\n",
              "      <td>148</td>\n",
              "      <td>6.5</td>\n",
              "      <td>3.0</td>\n",
              "      <td>5.2</td>\n",
              "      <td>2.0</td>\n",
              "      <td>Iris-virginica</td>\n",
              "    </tr>\n",
              "    <tr>\n",
              "      <th>148</th>\n",
              "      <td>149</td>\n",
              "      <td>6.2</td>\n",
              "      <td>3.4</td>\n",
              "      <td>5.4</td>\n",
              "      <td>2.3</td>\n",
              "      <td>Iris-virginica</td>\n",
              "    </tr>\n",
              "    <tr>\n",
              "      <th>149</th>\n",
              "      <td>150</td>\n",
              "      <td>5.9</td>\n",
              "      <td>3.0</td>\n",
              "      <td>5.1</td>\n",
              "      <td>1.8</td>\n",
              "      <td>Iris-virginica</td>\n",
              "    </tr>\n",
              "  </tbody>\n",
              "</table>\n",
              "</div>"
            ],
            "text/plain": [
              "      Id  SepalLengthCm  ...  PetalWidthCm         Species\n",
              "145  146            6.7  ...           2.3  Iris-virginica\n",
              "146  147            6.3  ...           1.9  Iris-virginica\n",
              "147  148            6.5  ...           2.0  Iris-virginica\n",
              "148  149            6.2  ...           2.3  Iris-virginica\n",
              "149  150            5.9  ...           1.8  Iris-virginica\n",
              "\n",
              "[5 rows x 6 columns]"
            ]
          },
          "metadata": {
            "tags": []
          },
          "execution_count": 133
        }
      ]
    },
    {
      "cell_type": "code",
      "metadata": {
        "id": "Hc6lNFHxRlqq"
      },
      "source": [
        "Y = dataset['Species'] # Target prediksi\n",
        "x = dataset.drop(['Id', 'Species'], axis=1) # Data Id tidak diperlukan"
      ],
      "execution_count": 134,
      "outputs": []
    },
    {
      "cell_type": "code",
      "metadata": {
        "id": "PF44R6PxRm-z"
      },
      "source": [
        "from sklearn.preprocessing import StandardScaler\n",
        "scaler = StandardScaler()\n",
        "scaler.fit(x)\n",
        "X = scaler.transform(x)\n",
        "#data_x = pd.DataFrame(X, columns=x.columns)"
      ],
      "execution_count": 135,
      "outputs": []
    },
    {
      "cell_type": "code",
      "metadata": {
        "id": "WYv4Pei_olaG"
      },
      "source": [
        "import pickle\n",
        "\n",
        "namafile = 'scalernew.pkl' # Nama yang digunakan bebas\n",
        "pickle.dump(scaler, open(namafile, 'wb')) # Membuat file model, ganti logreg dengan nama model yang digunakan"
      ],
      "execution_count": 136,
      "outputs": []
    },
    {
      "cell_type": "code",
      "metadata": {
        "id": "IwXfktU3Rn-h"
      },
      "source": [
        "from sklearn.model_selection import train_test_split\n",
        "x_train, x_test, y_train, y_test = train_test_split(X, Y, test_size=0.15)"
      ],
      "execution_count": 137,
      "outputs": []
    },
    {
      "cell_type": "code",
      "metadata": {
        "id": "lPrI_a4XRpBN"
      },
      "source": [
        "from sklearn.linear_model import LogisticRegression\n",
        "from sklearn.metrics import f1_score, precision_score, recall_score"
      ],
      "execution_count": 93,
      "outputs": []
    },
    {
      "cell_type": "code",
      "metadata": {
        "id": "engnPwukRqHz"
      },
      "source": [
        "logreg = LogisticRegression()\n",
        "logreg.fit(x_train, y_train)\n",
        "y_pred = logreg.predict(x_test)"
      ],
      "execution_count": 94,
      "outputs": []
    },
    {
      "cell_type": "code",
      "metadata": {
        "id": "eK6ruy9_RrCK",
        "outputId": "d0afcf0e-da82-4b88-894d-f0bc67fde74c",
        "colab": {
          "base_uri": "https://localhost:8080/",
          "height": 85
        }
      },
      "source": [
        "print('Accuracy of logistic regression classifier on test set: {:.2f}'.format(logreg.score(x_test, y_test))) # .score() -> Accuracy\n",
        "print(f1_score(y_test, y_pred, average='macro'))\n",
        "print(precision_score(y_test, y_pred, average='macro'))\n",
        "print(recall_score(y_test, y_pred, average='macro'))"
      ],
      "execution_count": 95,
      "outputs": [
        {
          "output_type": "stream",
          "text": [
            "Accuracy of logistic regression classifier on test set: 1.00\n",
            "1.0\n",
            "1.0\n",
            "1.0\n"
          ],
          "name": "stdout"
        }
      ]
    },
    {
      "cell_type": "code",
      "metadata": {
        "id": "7SVzDoAsRtQX"
      },
      "source": [
        "filename = 'model_iris.pkl' # Nama yang digunakan bebas\n",
        "pickle.dump(logreg, open(filename, 'wb')) # Membuat file model, ganti logreg dengan nama model yang digunakan"
      ],
      "execution_count": 96,
      "outputs": []
    },
    {
      "cell_type": "markdown",
      "metadata": {
        "id": "Ub5fU4y21J_J"
      },
      "source": [
        "**Web Services Using Flask**"
      ]
    },
    {
      "cell_type": "code",
      "metadata": {
        "id": "1FdpH7oESC_e",
        "outputId": "389b4a6f-fe88-402b-a39c-df7a0affba39",
        "colab": {
          "base_uri": "https://localhost:8080/",
          "height": 221
        }
      },
      "source": [
        "!pip install flask-ngrok"
      ],
      "execution_count": 97,
      "outputs": [
        {
          "output_type": "stream",
          "text": [
            "Requirement already satisfied: flask-ngrok in /usr/local/lib/python3.6/dist-packages (0.0.25)\n",
            "Requirement already satisfied: requests in /usr/local/lib/python3.6/dist-packages (from flask-ngrok) (2.23.0)\n",
            "Requirement already satisfied: Flask>=0.8 in /usr/local/lib/python3.6/dist-packages (from flask-ngrok) (1.1.2)\n",
            "Requirement already satisfied: chardet<4,>=3.0.2 in /usr/local/lib/python3.6/dist-packages (from requests->flask-ngrok) (3.0.4)\n",
            "Requirement already satisfied: urllib3!=1.25.0,!=1.25.1,<1.26,>=1.21.1 in /usr/local/lib/python3.6/dist-packages (from requests->flask-ngrok) (1.24.3)\n",
            "Requirement already satisfied: idna<3,>=2.5 in /usr/local/lib/python3.6/dist-packages (from requests->flask-ngrok) (2.10)\n",
            "Requirement already satisfied: certifi>=2017.4.17 in /usr/local/lib/python3.6/dist-packages (from requests->flask-ngrok) (2020.6.20)\n",
            "Requirement already satisfied: itsdangerous>=0.24 in /usr/local/lib/python3.6/dist-packages (from Flask>=0.8->flask-ngrok) (1.1.0)\n",
            "Requirement already satisfied: Jinja2>=2.10.1 in /usr/local/lib/python3.6/dist-packages (from Flask>=0.8->flask-ngrok) (2.11.2)\n",
            "Requirement already satisfied: Werkzeug>=0.15 in /usr/local/lib/python3.6/dist-packages (from Flask>=0.8->flask-ngrok) (1.0.1)\n",
            "Requirement already satisfied: click>=5.1 in /usr/local/lib/python3.6/dist-packages (from Flask>=0.8->flask-ngrok) (7.1.2)\n",
            "Requirement already satisfied: MarkupSafe>=0.23 in /usr/local/lib/python3.6/dist-packages (from Jinja2>=2.10.1->Flask>=0.8->flask-ngrok) (1.1.1)\n"
          ],
          "name": "stdout"
        }
      ]
    },
    {
      "cell_type": "code",
      "metadata": {
        "id": "oIgWtuggRvHZ"
      },
      "source": [
        "from flask_ngrok import run_with_ngrok\n",
        "from flask import Flask"
      ],
      "execution_count": 98,
      "outputs": []
    },
    {
      "cell_type": "code",
      "metadata": {
        "id": "YvF3arCQSEZP"
      },
      "source": [
        "app = Flask(__name__) # Membuat sebuah object Flask\n",
        "\n",
        "@app.route(\"/home\")\n",
        "def home():\n",
        "    return \"<h1>Running Flask on Google Colab!</h1>\""
      ],
      "execution_count": 140,
      "outputs": []
    },
    {
      "cell_type": "code",
      "metadata": {
        "id": "4oKU4SZmSFqh"
      },
      "source": [
        "from flask import jsonify, request"
      ],
      "execution_count": 141,
      "outputs": []
    },
    {
      "cell_type": "code",
      "metadata": {
        "id": "3O3jJghLSG7_"
      },
      "source": [
        "@app.route('/classify', methods=['POST'])\n",
        "def classification():\n",
        "  sepal_length = float(request.json['SepalLengthCm'])\n",
        "  sepal_width = float(request.json['SepalWidthCm'])\n",
        "  petal_length = float(request.json['PetalLengthCm'])\n",
        "  petal_width = float(request.json['PetalWidthCm'])\n",
        "\n",
        "  model = pickle.load(open('model_iris.pkl', 'rb'))\n",
        "  scale = pickle.load(open('scalernew.pkl', 'rb'))\n",
        "\n",
        "  data = [[sepal_length, sepal_width, petal_length, petal_width]]\n",
        "  data1 = scale.transform(data)\n",
        "  y_pred_loaded = model.predict(data1)\n",
        "\n",
        "  return jsonify({\n",
        "      \"output\": y_pred_loaded[0]\n",
        "  })"
      ],
      "execution_count": 142,
      "outputs": []
    },
    {
      "cell_type": "code",
      "metadata": {
        "id": "Ces3nPkDUGJB",
        "outputId": "99b6a184-8ef6-4e78-b31f-a63a2b40e5d3",
        "colab": {
          "base_uri": "https://localhost:8080/",
          "height": 170
        }
      },
      "source": [
        "run_with_ngrok(app)\n",
        "\n",
        "app.run()"
      ],
      "execution_count": 143,
      "outputs": [
        {
          "output_type": "stream",
          "text": [
            " * Serving Flask app \"__main__\" (lazy loading)\n",
            " * Environment: production\n",
            "\u001b[31m   WARNING: This is a development server. Do not use it in a production deployment.\u001b[0m\n",
            "\u001b[2m   Use a production WSGI server instead.\u001b[0m\n",
            " * Debug mode: off\n"
          ],
          "name": "stdout"
        },
        {
          "output_type": "stream",
          "text": [
            " * Running on http://127.0.0.1:5000/ (Press CTRL+C to quit)\n"
          ],
          "name": "stderr"
        },
        {
          "output_type": "stream",
          "text": [
            " * Running on http://f38496b11764.ngrok.io\n",
            " * Traffic stats available on http://127.0.0.1:4040\n"
          ],
          "name": "stdout"
        },
        {
          "output_type": "stream",
          "text": [
            "127.0.0.1 - - [06/Oct/2020 12:33:25] \"\u001b[37mPOST /classify HTTP/1.1\u001b[0m\" 200 -\n"
          ],
          "name": "stderr"
        }
      ]
    },
    {
      "cell_type": "markdown",
      "metadata": {
        "id": "6-NAhC5Tyv_n"
      },
      "source": [
        "![insomnia iris.png](data:image/png;base64,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)"
      ]
    }
  ]
}