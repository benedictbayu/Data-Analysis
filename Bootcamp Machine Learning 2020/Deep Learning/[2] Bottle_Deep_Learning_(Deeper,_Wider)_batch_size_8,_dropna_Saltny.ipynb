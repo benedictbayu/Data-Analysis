{
  "nbformat": 4,
  "nbformat_minor": 0,
  "metadata": {
    "colab": {
      "name": "Bottle_Deep_Learning_(Deeper,_Wider) batch_size 8, dropna Saltny.ipynb",
      "provenance": []
    },
    "kernelspec": {
      "name": "python3",
      "display_name": "Python 3"
    },
    "accelerator": "TPU"
  },
  "cells": [
    {
      "cell_type": "markdown",
      "metadata": {
        "id": "st8IVp1023Mp"
      },
      "source": [
        "# **Bottle Deep Learning Version**\n",
        "\n",
        "**Benedictus Bayu Pramudhito**\n",
        "\n",
        "**Deeper, Wider, Wider SGD, Wider RMSprop**"
      ]
    },
    {
      "cell_type": "code",
      "metadata": {
        "id": "yg4tQxu-gYa_",
        "outputId": "77c30c2c-c100-4e2f-95d6-41dd31f664ab",
        "colab": {
          "base_uri": "https://localhost:8080/",
          "height": 34
        }
      },
      "source": [
        "from google.colab import drive\n",
        "drive.mount('/content/drive')"
      ],
      "execution_count": 1,
      "outputs": [
        {
          "output_type": "stream",
          "text": [
            "Mounted at /content/drive\n"
          ],
          "name": "stdout"
        }
      ]
    },
    {
      "cell_type": "code",
      "metadata": {
        "id": "DJldSV1PW0B5"
      },
      "source": [
        "import pandas as pd\n",
        "import numpy as np\n",
        "import matplotlib.pyplot as plt\n",
        "import seaborn as sns"
      ],
      "execution_count": 3,
      "outputs": []
    },
    {
      "cell_type": "code",
      "metadata": {
        "id": "cIVv65xMXPor",
        "outputId": "1b753903-e907-480a-ff26-4e80188d59d4",
        "colab": {
          "base_uri": "https://localhost:8080/",
          "height": 425
        }
      },
      "source": [
        "import os\n",
        "print('\\n'.join(os.listdir(r'./drive/My Drive/Colab Test (Bootcamp ML 2020)')))"
      ],
      "execution_count": 4,
      "outputs": [
        {
          "output_type": "stream",
          "text": [
            "bottle.csv\n",
            "References\n",
            "Untitled0.ipynb\n",
            "Week_1_Python_1.ipynb\n",
            "heart.csv\n",
            "pima-indians-diabetes.csv\n",
            "sonar.csv\n",
            "housing.csv\n",
            "winequality-white.csv\n",
            "auto.csv\n",
            "sales.csv\n",
            "birth.csv\n",
            "shampoo.csv\n",
            "daily-min-temperatures.csv\n",
            "Quiz\n",
            "customer.csv\n",
            "iris.csv\n",
            "iris (1).csv\n",
            "Bootcamp Images\n",
            "parkinsons\n",
            "numbers_dataset\n",
            "bottle-updated.csv\n",
            "auto-mpg.csv\n",
            "auto (1).csv\n"
          ],
          "name": "stdout"
        }
      ]
    },
    {
      "cell_type": "code",
      "metadata": {
        "id": "7qvLtAh1XQtp",
        "outputId": "ecad7186-d004-422d-bbee-e5e703a260c6",
        "colab": {
          "base_uri": "https://localhost:8080/",
          "height": 204
        }
      },
      "source": [
        "df = pd.read_csv(r'./drive/My Drive/Colab Test (Bootcamp ML 2020)/bottle-updated.csv')\n",
        "df.head()"
      ],
      "execution_count": 5,
      "outputs": [
        {
          "output_type": "execute_result",
          "data": {
            "text/html": [
              "<div>\n",
              "<style scoped>\n",
              "    .dataframe tbody tr th:only-of-type {\n",
              "        vertical-align: middle;\n",
              "    }\n",
              "\n",
              "    .dataframe tbody tr th {\n",
              "        vertical-align: top;\n",
              "    }\n",
              "\n",
              "    .dataframe thead th {\n",
              "        text-align: right;\n",
              "    }\n",
              "</style>\n",
              "<table border=\"1\" class=\"dataframe\">\n",
              "  <thead>\n",
              "    <tr style=\"text-align: right;\">\n",
              "      <th></th>\n",
              "      <th>Unnamed: 0</th>\n",
              "      <th>Depthm</th>\n",
              "      <th>T_degC</th>\n",
              "      <th>Salnty</th>\n",
              "    </tr>\n",
              "  </thead>\n",
              "  <tbody>\n",
              "    <tr>\n",
              "      <th>0</th>\n",
              "      <td>0</td>\n",
              "      <td>0</td>\n",
              "      <td>10.50</td>\n",
              "      <td>33.440</td>\n",
              "    </tr>\n",
              "    <tr>\n",
              "      <th>1</th>\n",
              "      <td>1</td>\n",
              "      <td>8</td>\n",
              "      <td>10.46</td>\n",
              "      <td>33.440</td>\n",
              "    </tr>\n",
              "    <tr>\n",
              "      <th>2</th>\n",
              "      <td>2</td>\n",
              "      <td>10</td>\n",
              "      <td>10.46</td>\n",
              "      <td>33.437</td>\n",
              "    </tr>\n",
              "    <tr>\n",
              "      <th>3</th>\n",
              "      <td>3</td>\n",
              "      <td>19</td>\n",
              "      <td>10.45</td>\n",
              "      <td>33.420</td>\n",
              "    </tr>\n",
              "    <tr>\n",
              "      <th>4</th>\n",
              "      <td>4</td>\n",
              "      <td>20</td>\n",
              "      <td>10.45</td>\n",
              "      <td>33.421</td>\n",
              "    </tr>\n",
              "  </tbody>\n",
              "</table>\n",
              "</div>"
            ],
            "text/plain": [
              "   Unnamed: 0  Depthm  T_degC  Salnty\n",
              "0           0       0   10.50  33.440\n",
              "1           1       8   10.46  33.440\n",
              "2           2      10   10.46  33.437\n",
              "3           3      19   10.45  33.420\n",
              "4           4      20   10.45  33.421"
            ]
          },
          "metadata": {
            "tags": []
          },
          "execution_count": 5
        }
      ]
    },
    {
      "cell_type": "code",
      "metadata": {
        "id": "YkDSSxpzXWnR",
        "outputId": "af02a473-efff-4e1d-ad4b-ca7abf3bc10d",
        "colab": {
          "base_uri": "https://localhost:8080/",
          "height": 34
        }
      },
      "source": [
        "df.shape"
      ],
      "execution_count": 6,
      "outputs": [
        {
          "output_type": "execute_result",
          "data": {
            "text/plain": [
              "(864863, 4)"
            ]
          },
          "metadata": {
            "tags": []
          },
          "execution_count": 6
        }
      ]
    },
    {
      "cell_type": "code",
      "metadata": {
        "id": "2Db3DD-kXYdl",
        "outputId": "ef78aef3-ae7f-4366-ca70-9ac41ab577d9",
        "colab": {
          "base_uri": "https://localhost:8080/",
          "height": 102
        }
      },
      "source": [
        "df.dtypes"
      ],
      "execution_count": 7,
      "outputs": [
        {
          "output_type": "execute_result",
          "data": {
            "text/plain": [
              "Unnamed: 0      int64\n",
              "Depthm          int64\n",
              "T_degC        float64\n",
              "Salnty        float64\n",
              "dtype: object"
            ]
          },
          "metadata": {
            "tags": []
          },
          "execution_count": 7
        }
      ]
    },
    {
      "cell_type": "code",
      "metadata": {
        "id": "bxYlHOOIXcn4",
        "outputId": "379a93d1-3445-4e71-c774-1898b1f6e8d2",
        "colab": {
          "base_uri": "https://localhost:8080/",
          "height": 173
        }
      },
      "source": [
        "df.describe().T"
      ],
      "execution_count": 8,
      "outputs": [
        {
          "output_type": "execute_result",
          "data": {
            "text/html": [
              "<div>\n",
              "<style scoped>\n",
              "    .dataframe tbody tr th:only-of-type {\n",
              "        vertical-align: middle;\n",
              "    }\n",
              "\n",
              "    .dataframe tbody tr th {\n",
              "        vertical-align: top;\n",
              "    }\n",
              "\n",
              "    .dataframe thead th {\n",
              "        text-align: right;\n",
              "    }\n",
              "</style>\n",
              "<table border=\"1\" class=\"dataframe\">\n",
              "  <thead>\n",
              "    <tr style=\"text-align: right;\">\n",
              "      <th></th>\n",
              "      <th>count</th>\n",
              "      <th>mean</th>\n",
              "      <th>std</th>\n",
              "      <th>min</th>\n",
              "      <th>25%</th>\n",
              "      <th>50%</th>\n",
              "      <th>75%</th>\n",
              "      <th>max</th>\n",
              "    </tr>\n",
              "  </thead>\n",
              "  <tbody>\n",
              "    <tr>\n",
              "      <th>Unnamed: 0</th>\n",
              "      <td>864863.0</td>\n",
              "      <td>432431.000000</td>\n",
              "      <td>249664.587267</td>\n",
              "      <td>0.000</td>\n",
              "      <td>216215.500</td>\n",
              "      <td>432431.000</td>\n",
              "      <td>648646.5000</td>\n",
              "      <td>864862.000</td>\n",
              "    </tr>\n",
              "    <tr>\n",
              "      <th>Depthm</th>\n",
              "      <td>864863.0</td>\n",
              "      <td>226.831951</td>\n",
              "      <td>316.050259</td>\n",
              "      <td>0.000</td>\n",
              "      <td>46.000</td>\n",
              "      <td>125.000</td>\n",
              "      <td>300.0000</td>\n",
              "      <td>5351.000</td>\n",
              "    </tr>\n",
              "    <tr>\n",
              "      <th>T_degC</th>\n",
              "      <td>853900.0</td>\n",
              "      <td>10.799677</td>\n",
              "      <td>4.243825</td>\n",
              "      <td>1.440</td>\n",
              "      <td>7.680</td>\n",
              "      <td>10.060</td>\n",
              "      <td>13.8800</td>\n",
              "      <td>31.140</td>\n",
              "    </tr>\n",
              "    <tr>\n",
              "      <th>Salnty</th>\n",
              "      <td>817509.0</td>\n",
              "      <td>33.840350</td>\n",
              "      <td>0.461843</td>\n",
              "      <td>28.431</td>\n",
              "      <td>33.488</td>\n",
              "      <td>33.863</td>\n",
              "      <td>34.1969</td>\n",
              "      <td>37.034</td>\n",
              "    </tr>\n",
              "  </tbody>\n",
              "</table>\n",
              "</div>"
            ],
            "text/plain": [
              "               count           mean  ...          75%         max\n",
              "Unnamed: 0  864863.0  432431.000000  ...  648646.5000  864862.000\n",
              "Depthm      864863.0     226.831951  ...     300.0000    5351.000\n",
              "T_degC      853900.0      10.799677  ...      13.8800      31.140\n",
              "Salnty      817509.0      33.840350  ...      34.1969      37.034\n",
              "\n",
              "[4 rows x 8 columns]"
            ]
          },
          "metadata": {
            "tags": []
          },
          "execution_count": 8
        }
      ]
    },
    {
      "cell_type": "code",
      "metadata": {
        "id": "rZKEqq9NXdqY"
      },
      "source": [
        "df.drop(['Unnamed: 0'], axis=1, inplace=True)"
      ],
      "execution_count": 9,
      "outputs": []
    },
    {
      "cell_type": "code",
      "metadata": {
        "id": "bVldsewAXe3h",
        "outputId": "4adf46e4-2d64-413e-d741-7be75d1d015c",
        "colab": {
          "base_uri": "https://localhost:8080/",
          "height": 204
        }
      },
      "source": [
        "df.head()"
      ],
      "execution_count": 10,
      "outputs": [
        {
          "output_type": "execute_result",
          "data": {
            "text/html": [
              "<div>\n",
              "<style scoped>\n",
              "    .dataframe tbody tr th:only-of-type {\n",
              "        vertical-align: middle;\n",
              "    }\n",
              "\n",
              "    .dataframe tbody tr th {\n",
              "        vertical-align: top;\n",
              "    }\n",
              "\n",
              "    .dataframe thead th {\n",
              "        text-align: right;\n",
              "    }\n",
              "</style>\n",
              "<table border=\"1\" class=\"dataframe\">\n",
              "  <thead>\n",
              "    <tr style=\"text-align: right;\">\n",
              "      <th></th>\n",
              "      <th>Depthm</th>\n",
              "      <th>T_degC</th>\n",
              "      <th>Salnty</th>\n",
              "    </tr>\n",
              "  </thead>\n",
              "  <tbody>\n",
              "    <tr>\n",
              "      <th>0</th>\n",
              "      <td>0</td>\n",
              "      <td>10.50</td>\n",
              "      <td>33.440</td>\n",
              "    </tr>\n",
              "    <tr>\n",
              "      <th>1</th>\n",
              "      <td>8</td>\n",
              "      <td>10.46</td>\n",
              "      <td>33.440</td>\n",
              "    </tr>\n",
              "    <tr>\n",
              "      <th>2</th>\n",
              "      <td>10</td>\n",
              "      <td>10.46</td>\n",
              "      <td>33.437</td>\n",
              "    </tr>\n",
              "    <tr>\n",
              "      <th>3</th>\n",
              "      <td>19</td>\n",
              "      <td>10.45</td>\n",
              "      <td>33.420</td>\n",
              "    </tr>\n",
              "    <tr>\n",
              "      <th>4</th>\n",
              "      <td>20</td>\n",
              "      <td>10.45</td>\n",
              "      <td>33.421</td>\n",
              "    </tr>\n",
              "  </tbody>\n",
              "</table>\n",
              "</div>"
            ],
            "text/plain": [
              "   Depthm  T_degC  Salnty\n",
              "0       0   10.50  33.440\n",
              "1       8   10.46  33.440\n",
              "2      10   10.46  33.437\n",
              "3      19   10.45  33.420\n",
              "4      20   10.45  33.421"
            ]
          },
          "metadata": {
            "tags": []
          },
          "execution_count": 10
        }
      ]
    },
    {
      "cell_type": "code",
      "metadata": {
        "id": "dDyVYtsTXftJ",
        "outputId": "3445a8c0-ded5-4a2d-cb2f-2a6448e080fe",
        "colab": {
          "base_uri": "https://localhost:8080/",
          "height": 102
        }
      },
      "source": [
        "print(df.dtypes)\n",
        "df.shape"
      ],
      "execution_count": 11,
      "outputs": [
        {
          "output_type": "stream",
          "text": [
            "Depthm      int64\n",
            "T_degC    float64\n",
            "Salnty    float64\n",
            "dtype: object\n"
          ],
          "name": "stdout"
        },
        {
          "output_type": "execute_result",
          "data": {
            "text/plain": [
              "(864863, 3)"
            ]
          },
          "metadata": {
            "tags": []
          },
          "execution_count": 11
        }
      ]
    },
    {
      "cell_type": "code",
      "metadata": {
        "id": "ZuVZ0YbaXg-F",
        "outputId": "7ceab35d-18c5-44fb-93d3-5eab74f6a53b",
        "colab": {
          "base_uri": "https://localhost:8080/",
          "height": 142
        }
      },
      "source": [
        "nulls = df.isnull().sum().sort_values(ascending=False)\n",
        "percent = round(nulls/len(df)*100, 2)\n",
        "\n",
        "df_null = pd.DataFrame(columns=['Features', 'Total', 'Percent'])\n",
        "df_null['Features'] = nulls.index\n",
        "df_null['Total'] = nulls.values\n",
        "df_null['Percent'] = percent.values\n",
        "\n",
        "df_null"
      ],
      "execution_count": 12,
      "outputs": [
        {
          "output_type": "execute_result",
          "data": {
            "text/html": [
              "<div>\n",
              "<style scoped>\n",
              "    .dataframe tbody tr th:only-of-type {\n",
              "        vertical-align: middle;\n",
              "    }\n",
              "\n",
              "    .dataframe tbody tr th {\n",
              "        vertical-align: top;\n",
              "    }\n",
              "\n",
              "    .dataframe thead th {\n",
              "        text-align: right;\n",
              "    }\n",
              "</style>\n",
              "<table border=\"1\" class=\"dataframe\">\n",
              "  <thead>\n",
              "    <tr style=\"text-align: right;\">\n",
              "      <th></th>\n",
              "      <th>Features</th>\n",
              "      <th>Total</th>\n",
              "      <th>Percent</th>\n",
              "    </tr>\n",
              "  </thead>\n",
              "  <tbody>\n",
              "    <tr>\n",
              "      <th>0</th>\n",
              "      <td>Salnty</td>\n",
              "      <td>47354</td>\n",
              "      <td>5.48</td>\n",
              "    </tr>\n",
              "    <tr>\n",
              "      <th>1</th>\n",
              "      <td>T_degC</td>\n",
              "      <td>10963</td>\n",
              "      <td>1.27</td>\n",
              "    </tr>\n",
              "    <tr>\n",
              "      <th>2</th>\n",
              "      <td>Depthm</td>\n",
              "      <td>0</td>\n",
              "      <td>0.00</td>\n",
              "    </tr>\n",
              "  </tbody>\n",
              "</table>\n",
              "</div>"
            ],
            "text/plain": [
              "  Features  Total  Percent\n",
              "0   Salnty  47354     5.48\n",
              "1   T_degC  10963     1.27\n",
              "2   Depthm      0     0.00"
            ]
          },
          "metadata": {
            "tags": []
          },
          "execution_count": 12
        }
      ]
    },
    {
      "cell_type": "code",
      "metadata": {
        "id": "KRefPxvnMvPF"
      },
      "source": [
        "df.dropna(subset=['Salnty'], inplace=True)"
      ],
      "execution_count": 13,
      "outputs": []
    },
    {
      "cell_type": "code",
      "metadata": {
        "id": "vYNp-OO8XiMH",
        "outputId": "d0caf6c8-8c77-4abb-8289-75c72e8a8802",
        "colab": {
          "base_uri": "https://localhost:8080/",
          "height": 34
        }
      },
      "source": [
        "#Isi missing values\n",
        "for i in df.columns:\n",
        "  if df[i].isnull().sum() > 0:\n",
        "    df[i].fillna(df[i].mode().mean(), inplace=True)\n",
        "    print('Filled', i)"
      ],
      "execution_count": 14,
      "outputs": [
        {
          "output_type": "stream",
          "text": [
            "Filled T_degC\n"
          ],
          "name": "stdout"
        }
      ]
    },
    {
      "cell_type": "code",
      "metadata": {
        "id": "uGj3jE2_XjRc",
        "outputId": "ae87ebd9-2012-4836-a374-566f9646230c",
        "colab": {
          "base_uri": "https://localhost:8080/",
          "height": 142
        }
      },
      "source": [
        "#Cek ulang missing valuesnya\n",
        "nulls = df.isnull().sum().sort_values(ascending=False)\n",
        "percent = round(nulls/len(df)*100, 2)\n",
        "\n",
        "df_null = pd.DataFrame(columns=['Features', 'Total', 'Percent'])\n",
        "df_null['Features'] = nulls.index\n",
        "df_null['Total'] = nulls.values\n",
        "df_null['Percent'] = percent.values\n",
        "\n",
        "df_null"
      ],
      "execution_count": 15,
      "outputs": [
        {
          "output_type": "execute_result",
          "data": {
            "text/html": [
              "<div>\n",
              "<style scoped>\n",
              "    .dataframe tbody tr th:only-of-type {\n",
              "        vertical-align: middle;\n",
              "    }\n",
              "\n",
              "    .dataframe tbody tr th {\n",
              "        vertical-align: top;\n",
              "    }\n",
              "\n",
              "    .dataframe thead th {\n",
              "        text-align: right;\n",
              "    }\n",
              "</style>\n",
              "<table border=\"1\" class=\"dataframe\">\n",
              "  <thead>\n",
              "    <tr style=\"text-align: right;\">\n",
              "      <th></th>\n",
              "      <th>Features</th>\n",
              "      <th>Total</th>\n",
              "      <th>Percent</th>\n",
              "    </tr>\n",
              "  </thead>\n",
              "  <tbody>\n",
              "    <tr>\n",
              "      <th>0</th>\n",
              "      <td>Salnty</td>\n",
              "      <td>0</td>\n",
              "      <td>0.0</td>\n",
              "    </tr>\n",
              "    <tr>\n",
              "      <th>1</th>\n",
              "      <td>T_degC</td>\n",
              "      <td>0</td>\n",
              "      <td>0.0</td>\n",
              "    </tr>\n",
              "    <tr>\n",
              "      <th>2</th>\n",
              "      <td>Depthm</td>\n",
              "      <td>0</td>\n",
              "      <td>0.0</td>\n",
              "    </tr>\n",
              "  </tbody>\n",
              "</table>\n",
              "</div>"
            ],
            "text/plain": [
              "  Features  Total  Percent\n",
              "0   Salnty      0      0.0\n",
              "1   T_degC      0      0.0\n",
              "2   Depthm      0      0.0"
            ]
          },
          "metadata": {
            "tags": []
          },
          "execution_count": 15
        }
      ]
    },
    {
      "cell_type": "code",
      "metadata": {
        "id": "T1oOi5q2XkO5",
        "outputId": "becf3d2c-f6f7-4e5c-b705-7bfa1fa1e48d",
        "colab": {
          "base_uri": "https://localhost:8080/",
          "height": 85
        }
      },
      "source": [
        "df.dtypes"
      ],
      "execution_count": 16,
      "outputs": [
        {
          "output_type": "execute_result",
          "data": {
            "text/plain": [
              "Depthm      int64\n",
              "T_degC    float64\n",
              "Salnty    float64\n",
              "dtype: object"
            ]
          },
          "metadata": {
            "tags": []
          },
          "execution_count": 16
        }
      ]
    },
    {
      "cell_type": "code",
      "metadata": {
        "id": "FEerLBItXln3",
        "outputId": "8c0ed614-88b5-4e9f-eada-4a5e09ff43cc",
        "colab": {
          "base_uri": "https://localhost:8080/",
          "height": 1000
        }
      },
      "source": [
        "df_numbers = df.select_dtypes(include=['float64', 'int64'])\n",
        "\n",
        "df_numbers.hist(figsize=(18, 22), bins=50, xlabelsize=8, ylabelsize=8)\n",
        "plt.show()"
      ],
      "execution_count": 17,
      "outputs": [
        {
          "output_type": "display_data",
          "data": {
            "image/png": "[encoded data removed]",
            "text/plain": [
              "<Figure size 1296x1584 with 4 Axes>"
            ]
          },
          "metadata": {
            "tags": [],
            "needs_background": "light"
          }
        }
      ]
    },
    {
      "cell_type": "code",
      "metadata": {
        "id": "iCZJI5jHXme4",
        "outputId": "78fb583d-cb78-40dd-b83e-32358bd01ab2",
        "colab": {
          "base_uri": "https://localhost:8080/",
          "height": 578
        }
      },
      "source": [
        "plt.figure(figsize=(10, 10))\n",
        "sns.heatmap(df.corr(), annot=True, annot_kws={'size':10}, cbar=True, square=True, fmt='.2f', cmap='Blues')\n",
        "plt.show()"
      ],
      "execution_count": 18,
      "outputs": [
        {
          "output_type": "display_data",
          "data": {
            "image/png": "[encoded data removed]",
            "text/plain": [
              "<Figure size 720x720 with 2 Axes>"
            ]
          },
          "metadata": {
            "tags": [],
            "needs_background": "light"
          }
        }
      ]
    },
    {
      "cell_type": "code",
      "metadata": {
        "id": "Tq20xG9MXq4O"
      },
      "source": [
        "from sklearn.preprocessing import StandardScaler, PowerTransformer, QuantileTransformer, MinMaxScaler, MaxAbsScaler, RobustScaler\n",
        "from sklearn.model_selection import train_test_split\n",
        "from sklearn.linear_model import LinearRegression\n",
        "from sklearn.metrics import mean_squared_error, mean_absolute_error, r2_score"
      ],
      "execution_count": 19,
      "outputs": []
    },
    {
      "cell_type": "code",
      "metadata": {
        "id": "mnYcrPZuXsLi"
      },
      "source": [
        "X = df.drop(['Salnty'], axis=1)\n",
        "y = df['Salnty']"
      ],
      "execution_count": 20,
      "outputs": []
    },
    {
      "cell_type": "code",
      "metadata": {
        "id": "qIXytRu_XtfE"
      },
      "source": [
        "stdr = StandardScaler()\n",
        "\n",
        "X = stdr.fit_transform(X.values)\n",
        "y = stdr.fit_transform(df['Salnty'].values.reshape(-1, 1)).flatten()"
      ],
      "execution_count": 21,
      "outputs": []
    },
    {
      "cell_type": "code",
      "metadata": {
        "id": "MsvDr1lpXvGU"
      },
      "source": [
        "X_train, X_test, y_train, y_test = train_test_split(X, y, test_size=0.25, random_state=10)"
      ],
      "execution_count": 22,
      "outputs": []
    },
    {
      "cell_type": "markdown",
      "metadata": {
        "id": "qxrXp-LkmKGO"
      },
      "source": [
        "## **Deep Learning Model with Deeper Layer**"
      ]
    },
    {
      "cell_type": "code",
      "metadata": {
        "id": "3nqDDMcLXx3G"
      },
      "source": [
        "def plot_loss_new(history):\n",
        "  history_df = pd.DataFrame(history.history)\n",
        "\n",
        "  min_loss_index = history_df[history_df['loss']==min(history_df['loss'])].index.values\n",
        "  min_loss = history_df.loc[min_loss_index]['loss']\n",
        "  min_val_loss_index = history_df[history_df['val_loss']==min(history_df['val_loss'])].index.values\n",
        "  min_val_loss = history_df.loc[min_val_loss_index]['val_loss']\n",
        "\n",
        "  plt.plot(history.history['loss'], label='loss')\n",
        "  plt.plot(history.history['val_loss'], label='val_loss')\n",
        "  plt.plot(min_loss_index, min_loss, 'o', c='k', ms=4, label='min loss')\n",
        "  plt.plot(min_val_loss_index, min_val_loss, 'o', c='k', ms=4, label='min val_loss')\n",
        "  plt.xlabel('Epoch')\n",
        "  plt.ylabel('Loss')\n",
        "  plt.legend()\n",
        "  plt.grid(True)\n",
        "  plt.show()\n",
        "\n",
        "  print('Minimum Loss             :', min_loss)\n",
        "  print()\n",
        "  print('Minimum Validation Loss  :', min_val_loss)"
      ],
      "execution_count": 23,
      "outputs": []
    },
    {
      "cell_type": "code",
      "metadata": {
        "id": "EDk-DDjnX2WZ"
      },
      "source": [
        "from tensorflow.keras.models import Sequential\n",
        "from tensorflow.keras.layers import Dense"
      ],
      "execution_count": 25,
      "outputs": []
    },
    {
      "cell_type": "code",
      "metadata": {
        "id": "D-0xVjFgX3b4"
      },
      "source": [
        "model = Sequential()\n",
        "model.add(Dense(13, input_dim=2, kernel_initializer='normal', activation='relu'))\n",
        "model.add(Dense(6, kernel_initializer='normal', activation='relu'))\n",
        "model.add(Dense(1, kernel_initializer='normal'))\n",
        "\n",
        "model.compile(loss='mean_squared_error', optimizer='adam')"
      ],
      "execution_count": 26,
      "outputs": []
    },
    {
      "cell_type": "code",
      "metadata": {
        "id": "uPP-zLkUX8qZ",
        "outputId": "926b4162-763c-4d86-9736-dc23f375fb1c",
        "colab": {
          "base_uri": "https://localhost:8080/",
          "height": 1000
        }
      },
      "source": [
        "history1 = model.fit(x=X_train, y=y_train, validation_data=(X_test, y_test), epochs=50, batch_size=8)"
      ],
      "execution_count": 27,
      "outputs": [
        {
          "output_type": "stream",
          "text": [
            "Epoch 1/50\n",
            "76642/76642 [==============================] - 79s 1ms/step - loss: 0.3140 - val_loss: 0.2987\n",
            "Epoch 2/50\n",
            "76642/76642 [==============================] - 80s 1ms/step - loss: 0.3034 - val_loss: 0.2975\n",
            "Epoch 3/50\n",
            "76642/76642 [==============================] - 86s 1ms/step - loss: 0.3021 - val_loss: 0.2975\n",
            "Epoch 4/50\n",
            "76642/76642 [==============================] - 79s 1ms/step - loss: 0.3016 - val_loss: 0.2968\n",
            "Epoch 5/50\n",
            "76642/76642 [==============================] - 80s 1ms/step - loss: 0.3010 - val_loss: 0.3075\n",
            "Epoch 6/50\n",
            "76642/76642 [==============================] - 81s 1ms/step - loss: 0.3007 - val_loss: 0.2977\n",
            "Epoch 7/50\n",
            "76642/76642 [==============================] - 81s 1ms/step - loss: 0.3005 - val_loss: 0.2950\n",
            "Epoch 8/50\n",
            "76642/76642 [==============================] - 79s 1ms/step - loss: 0.3000 - val_loss: 0.2960\n",
            "Epoch 9/50\n",
            "76642/76642 [==============================] - 80s 1ms/step - loss: 0.2993 - val_loss: 0.2955\n",
            "Epoch 10/50\n",
            "76642/76642 [==============================] - 81s 1ms/step - loss: 0.2990 - val_loss: 0.2937\n",
            "Epoch 11/50\n",
            "76642/76642 [==============================] - 81s 1ms/step - loss: 0.2988 - val_loss: 0.2946\n",
            "Epoch 12/50\n",
            "76642/76642 [==============================] - 80s 1ms/step - loss: 0.2988 - val_loss: 0.2935\n",
            "Epoch 13/50\n",
            "76642/76642 [==============================] - 80s 1ms/step - loss: 0.2988 - val_loss: 0.2947\n",
            "Epoch 14/50\n",
            "76642/76642 [==============================] - 82s 1ms/step - loss: 0.2987 - val_loss: 0.2934\n",
            "Epoch 15/50\n",
            "76642/76642 [==============================] - 80s 1ms/step - loss: 0.2985 - val_loss: 0.2940\n",
            "Epoch 16/50\n",
            "76642/76642 [==============================] - 79s 1ms/step - loss: 0.2985 - val_loss: 0.2947\n",
            "Epoch 17/50\n",
            "76642/76642 [==============================] - 80s 1ms/step - loss: 0.2984 - val_loss: 0.2935\n",
            "Epoch 18/50\n",
            "76642/76642 [==============================] - 82s 1ms/step - loss: 0.2984 - val_loss: 0.2968\n",
            "Epoch 19/50\n",
            "76642/76642 [==============================] - 80s 1ms/step - loss: 0.2983 - val_loss: 0.2938\n",
            "Epoch 20/50\n",
            "76642/76642 [==============================] - 80s 1ms/step - loss: 0.2982 - val_loss: 0.2959\n",
            "Epoch 21/50\n",
            "76642/76642 [==============================] - 80s 1ms/step - loss: 0.2983 - val_loss: 0.2931\n",
            "Epoch 22/50\n",
            "76642/76642 [==============================] - 83s 1ms/step - loss: 0.2982 - val_loss: 0.2936\n",
            "Epoch 23/50\n",
            "76642/76642 [==============================] - 80s 1ms/step - loss: 0.2980 - val_loss: 0.2933\n",
            "Epoch 24/50\n",
            "76642/76642 [==============================] - 81s 1ms/step - loss: 0.2979 - val_loss: 0.2950\n",
            "Epoch 25/50\n",
            "76642/76642 [==============================] - 81s 1ms/step - loss: 0.2978 - val_loss: 0.2937\n",
            "Epoch 26/50\n",
            "76642/76642 [==============================] - 83s 1ms/step - loss: 0.2978 - val_loss: 0.2929\n",
            "Epoch 27/50\n",
            "76642/76642 [==============================] - 80s 1ms/step - loss: 0.2978 - val_loss: 0.2930\n",
            "Epoch 28/50\n",
            "76642/76642 [==============================] - 80s 1ms/step - loss: 0.2977 - val_loss: 0.2938\n",
            "Epoch 29/50\n",
            "76642/76642 [==============================] - 81s 1ms/step - loss: 0.2977 - val_loss: 0.2945\n",
            "Epoch 30/50\n",
            "76642/76642 [==============================] - 81s 1ms/step - loss: 0.2976 - val_loss: 0.2935\n",
            "Epoch 31/50\n",
            "76642/76642 [==============================] - 80s 1ms/step - loss: 0.2977 - val_loss: 0.2937\n",
            "Epoch 32/50\n",
            "76642/76642 [==============================] - 80s 1ms/step - loss: 0.2977 - val_loss: 0.2943\n",
            "Epoch 33/50\n",
            "76642/76642 [==============================] - 82s 1ms/step - loss: 0.2976 - val_loss: 0.2931\n",
            "Epoch 34/50\n",
            "76642/76642 [==============================] - 81s 1ms/step - loss: 0.2975 - val_loss: 0.2927\n",
            "Epoch 35/50\n",
            "76642/76642 [==============================] - 84s 1ms/step - loss: 0.2975 - val_loss: 0.2934\n",
            "Epoch 36/50\n",
            "76642/76642 [==============================] - 80s 1ms/step - loss: 0.2975 - val_loss: 0.2928\n",
            "Epoch 37/50\n",
            "76642/76642 [==============================] - 83s 1ms/step - loss: 0.2975 - val_loss: 0.2937\n",
            "Epoch 38/50\n",
            "76642/76642 [==============================] - 80s 1ms/step - loss: 0.2975 - val_loss: 0.2934\n",
            "Epoch 39/50\n",
            "76642/76642 [==============================] - 79s 1ms/step - loss: 0.2975 - val_loss: 0.2983\n",
            "Epoch 40/50\n",
            "76642/76642 [==============================] - 80s 1ms/step - loss: 0.2974 - val_loss: 0.2931\n",
            "Epoch 41/50\n",
            "76642/76642 [==============================] - 82s 1ms/step - loss: 0.2975 - val_loss: 0.2926\n",
            "Epoch 42/50\n",
            "76642/76642 [==============================] - 79s 1ms/step - loss: 0.2974 - val_loss: 0.2956\n",
            "Epoch 43/50\n",
            "76642/76642 [==============================] - 83s 1ms/step - loss: 0.2975 - val_loss: 0.2931\n",
            "Epoch 44/50\n",
            "76642/76642 [==============================] - 80s 1ms/step - loss: 0.2975 - val_loss: 0.2938\n",
            "Epoch 45/50\n",
            "76642/76642 [==============================] - 82s 1ms/step - loss: 0.2974 - val_loss: 0.2937\n",
            "Epoch 46/50\n",
            "76642/76642 [==============================] - 80s 1ms/step - loss: 0.2974 - val_loss: 0.2945\n",
            "Epoch 47/50\n",
            "76642/76642 [==============================] - 80s 1ms/step - loss: 0.2974 - val_loss: 0.2951\n",
            "Epoch 48/50\n",
            "76642/76642 [==============================] - 81s 1ms/step - loss: 0.2975 - val_loss: 0.2936\n",
            "Epoch 49/50\n",
            "76642/76642 [==============================] - 83s 1ms/step - loss: 0.2975 - val_loss: 0.2943\n",
            "Epoch 50/50\n",
            "76642/76642 [==============================] - 80s 1ms/step - loss: 0.2975 - val_loss: 0.2947\n"
          ],
          "name": "stdout"
        }
      ]
    },
    {
      "cell_type": "code",
      "metadata": {
        "id": "koEtvY34YBIX"
      },
      "source": [
        "predict_deep = model.predict(X_test)\n",
        "predict_deep = predict_deep.flatten()"
      ],
      "execution_count": 28,
      "outputs": []
    },
    {
      "cell_type": "code",
      "metadata": {
        "id": "8LeE_9kKmXEr",
        "outputId": "d1b35e2e-bbaa-4da4-d376-01a6c987958e",
        "colab": {
          "base_uri": "https://localhost:8080/",
          "height": 85
        }
      },
      "source": [
        "mse = mean_squared_error(y_test, predict_deep)\n",
        "mae = mean_absolute_error(y_test, predict_deep)\n",
        "r2 = r2_score(y_test, predict_deep)\n",
        "print(\"MSE (Mean Squared Error)         :\", mse)\n",
        "print(\"MAE (Mean Absolute Error)        :\", mae)\n",
        "print(\"r^2 score                        :\", r2)\n",
        "print('RMSE (Root Mean Squared Error)   :', np.sqrt(mean_squared_error(y_test, predict_deep)))"
      ],
      "execution_count": 29,
      "outputs": [
        {
          "output_type": "stream",
          "text": [
            "MSE (Mean Squared Error)         : 0.2946604961477956\n",
            "MAE (Mean Absolute Error)        : 0.3509662516585396\n",
            "r^2 score                        : 0.7043312743992796\n",
            "RMSE (Root Mean Squared Error)   : 0.5428263959571196\n"
          ],
          "name": "stdout"
        }
      ]
    },
    {
      "cell_type": "code",
      "metadata": {
        "id": "I2zcxOsNmZGG",
        "outputId": "24220420-383b-4ebc-eb91-9a7cf1f88c35",
        "colab": {
          "base_uri": "https://localhost:8080/",
          "height": 368
        }
      },
      "source": [
        "plot_loss_new(history1)"
      ],
      "execution_count": 30,
      "outputs": [
        {
          "output_type": "display_data",
          "data": {
            "image/png": "[encoded data removed]",
            "text/plain": [
              "<Figure size 432x288 with 1 Axes>"
            ]
          },
          "metadata": {
            "tags": [],
            "needs_background": "light"
          }
        },
        {
          "output_type": "stream",
          "text": [
            "Minimum Loss             : 46    0.29738\n",
            "Name: loss, dtype: float64\n",
            "\n",
            "Minimum Validation Loss  : 40    0.29261\n",
            "Name: val_loss, dtype: float64\n"
          ],
          "name": "stdout"
        }
      ]
    },
    {
      "cell_type": "markdown",
      "metadata": {
        "id": "SAAbRN0G4oL9"
      },
      "source": [
        "Sweet spot berada pada epoch 40 dengan val_loss 0.29261"
      ]
    },
    {
      "cell_type": "markdown",
      "metadata": {
        "id": "fJ9UAVyXmg12"
      },
      "source": [
        "## **Deep Learning with Wider Layer**"
      ]
    },
    {
      "cell_type": "code",
      "metadata": {
        "id": "MkB-tloNmd2V"
      },
      "source": [
        "wider = Sequential()\n",
        "wider.add(Dense(20, input_dim=2, kernel_initializer='normal', activation='relu'))\n",
        "wider.add(Dense(1, kernel_initializer='normal'))\n",
        "\n",
        "wider.compile(loss='mean_squared_error', optimizer='adam')"
      ],
      "execution_count": 31,
      "outputs": []
    },
    {
      "cell_type": "code",
      "metadata": {
        "id": "CZxIqCFUmlR7",
        "outputId": "43bd37af-8d50-4225-e0e7-82465aa6b4e4",
        "colab": {
          "base_uri": "https://localhost:8080/",
          "height": 221
        }
      },
      "source": [
        "wider.summary()"
      ],
      "execution_count": 32,
      "outputs": [
        {
          "output_type": "stream",
          "text": [
            "Model: \"sequential_1\"\n",
            "_________________________________________________________________\n",
            "Layer (type)                 Output Shape              Param #   \n",
            "=================================================================\n",
            "dense_3 (Dense)              (None, 20)                60        \n",
            "_________________________________________________________________\n",
            "dense_4 (Dense)              (None, 1)                 21        \n",
            "=================================================================\n",
            "Total params: 81\n",
            "Trainable params: 81\n",
            "Non-trainable params: 0\n",
            "_________________________________________________________________\n"
          ],
          "name": "stdout"
        }
      ]
    },
    {
      "cell_type": "code",
      "metadata": {
        "id": "FIS6g_esmmfD",
        "outputId": "5e7cbc8b-645d-4f60-aec3-4a22d4c9f880",
        "colab": {
          "base_uri": "https://localhost:8080/",
          "height": 1000
        }
      },
      "source": [
        "history2 = wider.fit(x=X_train, y=y_train, validation_data=(X_test, y_test), epochs=50, batch_size=8)"
      ],
      "execution_count": 33,
      "outputs": [
        {
          "output_type": "stream",
          "text": [
            "Epoch 1/50\n",
            "76642/76642 [==============================] - 73s 950us/step - loss: 0.3399 - val_loss: 0.3161\n",
            "Epoch 2/50\n",
            "76642/76642 [==============================] - 71s 930us/step - loss: 0.3153 - val_loss: 0.3063\n",
            "Epoch 3/50\n",
            "76642/76642 [==============================] - 71s 926us/step - loss: 0.3106 - val_loss: 0.3057\n",
            "Epoch 4/50\n",
            "76642/76642 [==============================] - 71s 930us/step - loss: 0.3099 - val_loss: 0.3096\n",
            "Epoch 5/50\n",
            "76642/76642 [==============================] - 74s 962us/step - loss: 0.3083 - val_loss: 0.3009\n",
            "Epoch 6/50\n",
            "76642/76642 [==============================] - 71s 926us/step - loss: 0.3062 - val_loss: 0.3087\n",
            "Epoch 7/50\n",
            "76642/76642 [==============================] - 72s 941us/step - loss: 0.3042 - val_loss: 0.2989\n",
            "Epoch 8/50\n",
            "76642/76642 [==============================] - 72s 943us/step - loss: 0.3030 - val_loss: 0.2969\n",
            "Epoch 9/50\n",
            "76642/76642 [==============================] - 74s 964us/step - loss: 0.3027 - val_loss: 0.2968\n",
            "Epoch 10/50\n",
            "76642/76642 [==============================] - 72s 933us/step - loss: 0.3024 - val_loss: 0.3012\n",
            "Epoch 11/50\n",
            "76642/76642 [==============================] - 71s 926us/step - loss: 0.3021 - val_loss: 0.3008\n",
            "Epoch 12/50\n",
            "76642/76642 [==============================] - 71s 932us/step - loss: 0.3018 - val_loss: 0.2965\n",
            "Epoch 13/50\n",
            "76642/76642 [==============================] - 72s 943us/step - loss: 0.3016 - val_loss: 0.2967\n",
            "Epoch 14/50\n",
            "76642/76642 [==============================] - 73s 954us/step - loss: 0.3014 - val_loss: 0.2960\n",
            "Epoch 15/50\n",
            "76642/76642 [==============================] - 71s 931us/step - loss: 0.3013 - val_loss: 0.3044\n",
            "Epoch 16/50\n",
            "76642/76642 [==============================] - 72s 942us/step - loss: 0.3012 - val_loss: 0.2962\n",
            "Epoch 17/50\n",
            "76642/76642 [==============================] - 72s 941us/step - loss: 0.3011 - val_loss: 0.2964\n",
            "Epoch 18/50\n",
            "76642/76642 [==============================] - 73s 951us/step - loss: 0.3011 - val_loss: 0.2957\n",
            "Epoch 19/50\n",
            "76642/76642 [==============================] - 71s 932us/step - loss: 0.3009 - val_loss: 0.2972\n",
            "Epoch 20/50\n",
            "76642/76642 [==============================] - 71s 927us/step - loss: 0.3008 - val_loss: 0.2976\n",
            "Epoch 21/50\n",
            "76642/76642 [==============================] - 71s 924us/step - loss: 0.3007 - val_loss: 0.2969\n",
            "Epoch 22/50\n",
            "76642/76642 [==============================] - 74s 964us/step - loss: 0.3006 - val_loss: 0.2976\n",
            "Epoch 23/50\n",
            "76642/76642 [==============================] - 71s 929us/step - loss: 0.3006 - val_loss: 0.2979\n",
            "Epoch 24/50\n",
            "76642/76642 [==============================] - 72s 935us/step - loss: 0.3005 - val_loss: 0.2980\n",
            "Epoch 25/50\n",
            "76642/76642 [==============================] - 71s 930us/step - loss: 0.3005 - val_loss: 0.2968\n",
            "Epoch 26/50\n",
            "76642/76642 [==============================] - 73s 950us/step - loss: 0.3005 - val_loss: 0.2961\n",
            "Epoch 27/50\n",
            "76642/76642 [==============================] - 72s 944us/step - loss: 0.3005 - val_loss: 0.2965\n",
            "Epoch 28/50\n",
            "76642/76642 [==============================] - 72s 937us/step - loss: 0.3004 - val_loss: 0.2979\n",
            "Epoch 29/50\n",
            "76642/76642 [==============================] - 71s 928us/step - loss: 0.3004 - val_loss: 0.2971\n",
            "Epoch 30/50\n",
            "76642/76642 [==============================] - 75s 979us/step - loss: 0.3004 - val_loss: 0.2960\n",
            "Epoch 31/50\n",
            "76642/76642 [==============================] - 73s 954us/step - loss: 0.3005 - val_loss: 0.2956\n",
            "Epoch 32/50\n",
            "76642/76642 [==============================] - 72s 935us/step - loss: 0.3004 - val_loss: 0.2960\n",
            "Epoch 33/50\n",
            "76642/76642 [==============================] - 72s 937us/step - loss: 0.3003 - val_loss: 0.2963\n",
            "Epoch 34/50\n",
            "76642/76642 [==============================] - 72s 944us/step - loss: 0.2999 - val_loss: 0.2946\n",
            "Epoch 35/50\n",
            "76642/76642 [==============================] - 73s 955us/step - loss: 0.2998 - val_loss: 0.2954\n",
            "Epoch 36/50\n",
            "76642/76642 [==============================] - 71s 931us/step - loss: 0.2997 - val_loss: 0.2948\n",
            "Epoch 37/50\n",
            "76642/76642 [==============================] - 71s 932us/step - loss: 0.2998 - val_loss: 0.2954\n",
            "Epoch 38/50\n",
            "76642/76642 [==============================] - 72s 936us/step - loss: 0.2997 - val_loss: 0.2964\n",
            "Epoch 39/50\n",
            "76642/76642 [==============================] - 78s 1ms/step - loss: 0.2997 - val_loss: 0.2977\n",
            "Epoch 40/50\n",
            "76642/76642 [==============================] - 72s 941us/step - loss: 0.2998 - val_loss: 0.2956\n",
            "Epoch 41/50\n",
            "76642/76642 [==============================] - 73s 955us/step - loss: 0.2997 - val_loss: 0.2947\n",
            "Epoch 42/50\n",
            "76642/76642 [==============================] - 72s 936us/step - loss: 0.2997 - val_loss: 0.2962\n",
            "Epoch 43/50\n",
            "76642/76642 [==============================] - 73s 954us/step - loss: 0.2997 - val_loss: 0.2977\n",
            "Epoch 44/50\n",
            "76642/76642 [==============================] - 73s 956us/step - loss: 0.2998 - val_loss: 0.2989\n",
            "Epoch 45/50\n",
            "76642/76642 [==============================] - 72s 942us/step - loss: 0.2997 - val_loss: 0.2960\n",
            "Epoch 46/50\n",
            "76642/76642 [==============================] - 71s 931us/step - loss: 0.2997 - val_loss: 0.2975\n",
            "Epoch 47/50\n",
            "76642/76642 [==============================] - 73s 950us/step - loss: 0.2997 - val_loss: 0.2943\n",
            "Epoch 48/50\n",
            "76642/76642 [==============================] - 74s 963us/step - loss: 0.2997 - val_loss: 0.2950\n",
            "Epoch 49/50\n",
            "76642/76642 [==============================] - 73s 958us/step - loss: 0.2996 - val_loss: 0.2961\n",
            "Epoch 50/50\n",
            "76642/76642 [==============================] - 72s 935us/step - loss: 0.2995 - val_loss: 0.2958\n"
          ],
          "name": "stdout"
        }
      ]
    },
    {
      "cell_type": "code",
      "metadata": {
        "id": "2e78Iayjmv3a"
      },
      "source": [
        "predict_wide = wider.predict(X_test)\n",
        "predict_wide = predict_wide.flatten()"
      ],
      "execution_count": 34,
      "outputs": []
    },
    {
      "cell_type": "code",
      "metadata": {
        "id": "uRx0lKaExD2K",
        "outputId": "ed6e96f5-63e2-4cf9-9cc8-7f3523435565",
        "colab": {
          "base_uri": "https://localhost:8080/",
          "height": 85
        }
      },
      "source": [
        "mse = mean_squared_error(y_test, predict_wide)\n",
        "mae = mean_absolute_error(y_test, predict_wide)\n",
        "r2 = r2_score(y_test, predict_wide)\n",
        "print(\"MSE (Mean Squared Error)       :\", mse)\n",
        "print(\"MAE (Mean Absolute Error)      :\", mae)\n",
        "print(\"r^2 score                      :\", r2)\n",
        "print('RMSE (Root Mean Squared Error  :', np.sqrt(mean_squared_error(y_test, predict_wide)))"
      ],
      "execution_count": 35,
      "outputs": [
        {
          "output_type": "stream",
          "text": [
            "MSE (Mean Squared Error)       : 0.29579722124947566\n",
            "MAE (Mean Absolute Error)      : 0.3534510487241258\n",
            "r^2 score                      : 0.7031906598053114\n",
            "RMSE (Root Mean Squared Error  : 0.543872431043784\n"
          ],
          "name": "stdout"
        }
      ]
    },
    {
      "cell_type": "code",
      "metadata": {
        "id": "SfjZc84wxGbU",
        "outputId": "86855c64-085e-4fb7-96e1-3c2de6fd18b1",
        "colab": {
          "base_uri": "https://localhost:8080/",
          "height": 364
        }
      },
      "source": [
        "plot_loss_new(history2)"
      ],
      "execution_count": 36,
      "outputs": [
        {
          "output_type": "display_data",
          "data": {
            "image/png": "[encoded data removed]",
            "text/plain": [
              "<Figure size 432x288 with 1 Axes>"
            ]
          },
          "metadata": {
            "tags": [],
            "needs_background": "light"
          }
        },
        {
          "output_type": "stream",
          "text": [
            "Minimum Loss             : 49    0.299516\n",
            "Name: loss, dtype: float64\n",
            "\n",
            "Minimum Validation Loss  : 46    0.294346\n",
            "Name: val_loss, dtype: float64\n"
          ],
          "name": "stdout"
        }
      ]
    },
    {
      "cell_type": "markdown",
      "metadata": {
        "id": "zBN2YFcz4x2V"
      },
      "source": [
        "Sweet spot berada pada epoch 46 dengan val_loss 0.294346"
      ]
    }
  ]
}