{
  "nbformat": 4,
  "nbformat_minor": 0,
  "metadata": {
    "colab": {
      "name": "Bottle_Deep_Learning_(Deeper,_Wider,_Wider_SGD,_Wider_RMSprop) batch_size 8.ipynb",
      "provenance": []
    },
    "kernelspec": {
      "name": "python3",
      "display_name": "Python 3"
    },
    "accelerator": "TPU"
  },
  "cells": [
    {
      "cell_type": "markdown",
      "metadata": {
        "id": "st8IVp1023Mp"
      },
      "source": [
        "# **Bottle Deep Learning Version**\n",
        "\n",
        "**Benedictus Bayu Pramudhito**\n",
        "\n",
        "**Deeper, Wider, Wider SGD, Wider RMSprop**"
      ]
    },
    {
      "cell_type": "code",
      "metadata": {
        "id": "yg4tQxu-gYa_",
        "outputId": "1546e024-c04d-4b18-eea8-df55d881cc15",
        "colab": {
          "base_uri": "https://localhost:8080/",
          "height": 34
        }
      },
      "source": [
        "from google.colab import drive\n",
        "drive.mount('/content/drive')"
      ],
      "execution_count": null,
      "outputs": [
        {
          "output_type": "stream",
          "text": [
            "Mounted at /content/drive\n"
          ],
          "name": "stdout"
        }
      ]
    },
    {
      "cell_type": "code",
      "metadata": {
        "id": "DJldSV1PW0B5"
      },
      "source": [
        "import pandas as pd\n",
        "import numpy as np\n",
        "import matplotlib.pyplot as plt\n",
        "import seaborn as sns"
      ],
      "execution_count": null,
      "outputs": []
    },
    {
      "cell_type": "code",
      "metadata": {
        "id": "cIVv65xMXPor",
        "outputId": "786fba71-773a-460a-f5b3-403f3dec0794",
        "colab": {
          "base_uri": "https://localhost:8080/",
          "height": 425
        }
      },
      "source": [
        "import os\n",
        "print('\\n'.join(os.listdir(r'./drive/My Drive/Colab Test (Bootcamp ML 2020)')))"
      ],
      "execution_count": null,
      "outputs": [
        {
          "output_type": "stream",
          "text": [
            "bottle.csv\n",
            "References\n",
            "Untitled0.ipynb\n",
            "Week_1_Python_1.ipynb\n",
            "heart.csv\n",
            "pima-indians-diabetes.csv\n",
            "sonar.csv\n",
            "housing.csv\n",
            "winequality-white.csv\n",
            "auto.csv\n",
            "sales.csv\n",
            "birth.csv\n",
            "shampoo.csv\n",
            "daily-min-temperatures.csv\n",
            "Quiz\n",
            "customer.csv\n",
            "iris.csv\n",
            "iris (1).csv\n",
            "Bootcamp Images\n",
            "parkinsons\n",
            "numbers_dataset\n",
            "bottle-updated.csv\n",
            "auto-mpg.csv\n",
            "auto (1).csv\n"
          ],
          "name": "stdout"
        }
      ]
    },
    {
      "cell_type": "code",
      "metadata": {
        "id": "7qvLtAh1XQtp",
        "outputId": "5c055ed2-888f-463c-a1bb-c28c8fcb52ee",
        "colab": {
          "base_uri": "https://localhost:8080/",
          "height": 204
        }
      },
      "source": [
        "df = pd.read_csv(r'./drive/My Drive/Colab Test (Bootcamp ML 2020)/bottle-updated.csv')\n",
        "df.head()"
      ],
      "execution_count": null,
      "outputs": [
        {
          "output_type": "execute_result",
          "data": {
            "text/html": [
              "<div>\n",
              "<style scoped>\n",
              "    .dataframe tbody tr th:only-of-type {\n",
              "        vertical-align: middle;\n",
              "    }\n",
              "\n",
              "    .dataframe tbody tr th {\n",
              "        vertical-align: top;\n",
              "    }\n",
              "\n",
              "    .dataframe thead th {\n",
              "        text-align: right;\n",
              "    }\n",
              "</style>\n",
              "<table border=\"1\" class=\"dataframe\">\n",
              "  <thead>\n",
              "    <tr style=\"text-align: right;\">\n",
              "      <th></th>\n",
              "      <th>Unnamed: 0</th>\n",
              "      <th>Depthm</th>\n",
              "      <th>T_degC</th>\n",
              "      <th>Salnty</th>\n",
              "    </tr>\n",
              "  </thead>\n",
              "  <tbody>\n",
              "    <tr>\n",
              "      <th>0</th>\n",
              "      <td>0</td>\n",
              "      <td>0</td>\n",
              "      <td>10.50</td>\n",
              "      <td>33.440</td>\n",
              "    </tr>\n",
              "    <tr>\n",
              "      <th>1</th>\n",
              "      <td>1</td>\n",
              "      <td>8</td>\n",
              "      <td>10.46</td>\n",
              "      <td>33.440</td>\n",
              "    </tr>\n",
              "    <tr>\n",
              "      <th>2</th>\n",
              "      <td>2</td>\n",
              "      <td>10</td>\n",
              "      <td>10.46</td>\n",
              "      <td>33.437</td>\n",
              "    </tr>\n",
              "    <tr>\n",
              "      <th>3</th>\n",
              "      <td>3</td>\n",
              "      <td>19</td>\n",
              "      <td>10.45</td>\n",
              "      <td>33.420</td>\n",
              "    </tr>\n",
              "    <tr>\n",
              "      <th>4</th>\n",
              "      <td>4</td>\n",
              "      <td>20</td>\n",
              "      <td>10.45</td>\n",
              "      <td>33.421</td>\n",
              "    </tr>\n",
              "  </tbody>\n",
              "</table>\n",
              "</div>"
            ],
            "text/plain": [
              "   Unnamed: 0  Depthm  T_degC  Salnty\n",
              "0           0       0   10.50  33.440\n",
              "1           1       8   10.46  33.440\n",
              "2           2      10   10.46  33.437\n",
              "3           3      19   10.45  33.420\n",
              "4           4      20   10.45  33.421"
            ]
          },
          "metadata": {
            "tags": []
          },
          "execution_count": 4
        }
      ]
    },
    {
      "cell_type": "code",
      "metadata": {
        "id": "YkDSSxpzXWnR",
        "outputId": "ead5828b-b6ce-428d-cabb-878fea8644f8",
        "colab": {
          "base_uri": "https://localhost:8080/",
          "height": 34
        }
      },
      "source": [
        "df.shape"
      ],
      "execution_count": null,
      "outputs": [
        {
          "output_type": "execute_result",
          "data": {
            "text/plain": [
              "(864863, 4)"
            ]
          },
          "metadata": {
            "tags": []
          },
          "execution_count": 5
        }
      ]
    },
    {
      "cell_type": "code",
      "metadata": {
        "id": "2Db3DD-kXYdl",
        "outputId": "99633cf8-7406-4230-b616-443b6a2506c1",
        "colab": {
          "base_uri": "https://localhost:8080/",
          "height": 102
        }
      },
      "source": [
        "df.dtypes"
      ],
      "execution_count": null,
      "outputs": [
        {
          "output_type": "execute_result",
          "data": {
            "text/plain": [
              "Unnamed: 0      int64\n",
              "Depthm          int64\n",
              "T_degC        float64\n",
              "Salnty        float64\n",
              "dtype: object"
            ]
          },
          "metadata": {
            "tags": []
          },
          "execution_count": 6
        }
      ]
    },
    {
      "cell_type": "code",
      "metadata": {
        "id": "bxYlHOOIXcn4",
        "outputId": "7bcd1a9e-6f07-4892-e634-f42a2b66c518",
        "colab": {
          "base_uri": "https://localhost:8080/",
          "height": 173
        }
      },
      "source": [
        "df.describe().T"
      ],
      "execution_count": null,
      "outputs": [
        {
          "output_type": "execute_result",
          "data": {
            "text/html": [
              "<div>\n",
              "<style scoped>\n",
              "    .dataframe tbody tr th:only-of-type {\n",
              "        vertical-align: middle;\n",
              "    }\n",
              "\n",
              "    .dataframe tbody tr th {\n",
              "        vertical-align: top;\n",
              "    }\n",
              "\n",
              "    .dataframe thead th {\n",
              "        text-align: right;\n",
              "    }\n",
              "</style>\n",
              "<table border=\"1\" class=\"dataframe\">\n",
              "  <thead>\n",
              "    <tr style=\"text-align: right;\">\n",
              "      <th></th>\n",
              "      <th>count</th>\n",
              "      <th>mean</th>\n",
              "      <th>std</th>\n",
              "      <th>min</th>\n",
              "      <th>25%</th>\n",
              "      <th>50%</th>\n",
              "      <th>75%</th>\n",
              "      <th>max</th>\n",
              "    </tr>\n",
              "  </thead>\n",
              "  <tbody>\n",
              "    <tr>\n",
              "      <th>Unnamed: 0</th>\n",
              "      <td>864863.0</td>\n",
              "      <td>432431.000000</td>\n",
              "      <td>249664.587267</td>\n",
              "      <td>0.000</td>\n",
              "      <td>216215.500</td>\n",
              "      <td>432431.000</td>\n",
              "      <td>648646.5000</td>\n",
              "      <td>864862.000</td>\n",
              "    </tr>\n",
              "    <tr>\n",
              "      <th>Depthm</th>\n",
              "      <td>864863.0</td>\n",
              "      <td>226.831951</td>\n",
              "      <td>316.050259</td>\n",
              "      <td>0.000</td>\n",
              "      <td>46.000</td>\n",
              "      <td>125.000</td>\n",
              "      <td>300.0000</td>\n",
              "      <td>5351.000</td>\n",
              "    </tr>\n",
              "    <tr>\n",
              "      <th>T_degC</th>\n",
              "      <td>853900.0</td>\n",
              "      <td>10.799677</td>\n",
              "      <td>4.243825</td>\n",
              "      <td>1.440</td>\n",
              "      <td>7.680</td>\n",
              "      <td>10.060</td>\n",
              "      <td>13.8800</td>\n",
              "      <td>31.140</td>\n",
              "    </tr>\n",
              "    <tr>\n",
              "      <th>Salnty</th>\n",
              "      <td>817509.0</td>\n",
              "      <td>33.840350</td>\n",
              "      <td>0.461843</td>\n",
              "      <td>28.431</td>\n",
              "      <td>33.488</td>\n",
              "      <td>33.863</td>\n",
              "      <td>34.1969</td>\n",
              "      <td>37.034</td>\n",
              "    </tr>\n",
              "  </tbody>\n",
              "</table>\n",
              "</div>"
            ],
            "text/plain": [
              "               count           mean  ...          75%         max\n",
              "Unnamed: 0  864863.0  432431.000000  ...  648646.5000  864862.000\n",
              "Depthm      864863.0     226.831951  ...     300.0000    5351.000\n",
              "T_degC      853900.0      10.799677  ...      13.8800      31.140\n",
              "Salnty      817509.0      33.840350  ...      34.1969      37.034\n",
              "\n",
              "[4 rows x 8 columns]"
            ]
          },
          "metadata": {
            "tags": []
          },
          "execution_count": 7
        }
      ]
    },
    {
      "cell_type": "code",
      "metadata": {
        "id": "rZKEqq9NXdqY"
      },
      "source": [
        "df.drop(['Unnamed: 0'], axis=1, inplace=True)"
      ],
      "execution_count": null,
      "outputs": []
    },
    {
      "cell_type": "code",
      "metadata": {
        "id": "bVldsewAXe3h",
        "outputId": "d5eef20f-67e8-46a0-a752-17c6674af7f4",
        "colab": {
          "base_uri": "https://localhost:8080/",
          "height": 204
        }
      },
      "source": [
        "df.head()"
      ],
      "execution_count": null,
      "outputs": [
        {
          "output_type": "execute_result",
          "data": {
            "text/html": [
              "<div>\n",
              "<style scoped>\n",
              "    .dataframe tbody tr th:only-of-type {\n",
              "        vertical-align: middle;\n",
              "    }\n",
              "\n",
              "    .dataframe tbody tr th {\n",
              "        vertical-align: top;\n",
              "    }\n",
              "\n",
              "    .dataframe thead th {\n",
              "        text-align: right;\n",
              "    }\n",
              "</style>\n",
              "<table border=\"1\" class=\"dataframe\">\n",
              "  <thead>\n",
              "    <tr style=\"text-align: right;\">\n",
              "      <th></th>\n",
              "      <th>Depthm</th>\n",
              "      <th>T_degC</th>\n",
              "      <th>Salnty</th>\n",
              "    </tr>\n",
              "  </thead>\n",
              "  <tbody>\n",
              "    <tr>\n",
              "      <th>0</th>\n",
              "      <td>0</td>\n",
              "      <td>10.50</td>\n",
              "      <td>33.440</td>\n",
              "    </tr>\n",
              "    <tr>\n",
              "      <th>1</th>\n",
              "      <td>8</td>\n",
              "      <td>10.46</td>\n",
              "      <td>33.440</td>\n",
              "    </tr>\n",
              "    <tr>\n",
              "      <th>2</th>\n",
              "      <td>10</td>\n",
              "      <td>10.46</td>\n",
              "      <td>33.437</td>\n",
              "    </tr>\n",
              "    <tr>\n",
              "      <th>3</th>\n",
              "      <td>19</td>\n",
              "      <td>10.45</td>\n",
              "      <td>33.420</td>\n",
              "    </tr>\n",
              "    <tr>\n",
              "      <th>4</th>\n",
              "      <td>20</td>\n",
              "      <td>10.45</td>\n",
              "      <td>33.421</td>\n",
              "    </tr>\n",
              "  </tbody>\n",
              "</table>\n",
              "</div>"
            ],
            "text/plain": [
              "   Depthm  T_degC  Salnty\n",
              "0       0   10.50  33.440\n",
              "1       8   10.46  33.440\n",
              "2      10   10.46  33.437\n",
              "3      19   10.45  33.420\n",
              "4      20   10.45  33.421"
            ]
          },
          "metadata": {
            "tags": []
          },
          "execution_count": 9
        }
      ]
    },
    {
      "cell_type": "code",
      "metadata": {
        "id": "dDyVYtsTXftJ",
        "outputId": "19aa26c3-a775-4dc2-ca1f-c706f8011cc6",
        "colab": {
          "base_uri": "https://localhost:8080/",
          "height": 102
        }
      },
      "source": [
        "print(df.dtypes)\n",
        "df.shape"
      ],
      "execution_count": null,
      "outputs": [
        {
          "output_type": "stream",
          "text": [
            "Depthm      int64\n",
            "T_degC    float64\n",
            "Salnty    float64\n",
            "dtype: object\n"
          ],
          "name": "stdout"
        },
        {
          "output_type": "execute_result",
          "data": {
            "text/plain": [
              "(864863, 3)"
            ]
          },
          "metadata": {
            "tags": []
          },
          "execution_count": 10
        }
      ]
    },
    {
      "cell_type": "code",
      "metadata": {
        "id": "ZuVZ0YbaXg-F",
        "outputId": "cd692048-d07c-4d47-e907-6f9646f2a5b4",
        "colab": {
          "base_uri": "https://localhost:8080/",
          "height": 142
        }
      },
      "source": [
        "nulls = df.isnull().sum().sort_values(ascending=False)\n",
        "percent = round(nulls/len(df)*100, 2)\n",
        "\n",
        "df_null = pd.DataFrame(columns=['Features', 'Total', 'Percent'])\n",
        "df_null['Features'] = nulls.index\n",
        "df_null['Total'] = nulls.values\n",
        "df_null['Percent'] = percent.values\n",
        "\n",
        "df_null"
      ],
      "execution_count": null,
      "outputs": [
        {
          "output_type": "execute_result",
          "data": {
            "text/html": [
              "<div>\n",
              "<style scoped>\n",
              "    .dataframe tbody tr th:only-of-type {\n",
              "        vertical-align: middle;\n",
              "    }\n",
              "\n",
              "    .dataframe tbody tr th {\n",
              "        vertical-align: top;\n",
              "    }\n",
              "\n",
              "    .dataframe thead th {\n",
              "        text-align: right;\n",
              "    }\n",
              "</style>\n",
              "<table border=\"1\" class=\"dataframe\">\n",
              "  <thead>\n",
              "    <tr style=\"text-align: right;\">\n",
              "      <th></th>\n",
              "      <th>Features</th>\n",
              "      <th>Total</th>\n",
              "      <th>Percent</th>\n",
              "    </tr>\n",
              "  </thead>\n",
              "  <tbody>\n",
              "    <tr>\n",
              "      <th>0</th>\n",
              "      <td>Salnty</td>\n",
              "      <td>47354</td>\n",
              "      <td>5.48</td>\n",
              "    </tr>\n",
              "    <tr>\n",
              "      <th>1</th>\n",
              "      <td>T_degC</td>\n",
              "      <td>10963</td>\n",
              "      <td>1.27</td>\n",
              "    </tr>\n",
              "    <tr>\n",
              "      <th>2</th>\n",
              "      <td>Depthm</td>\n",
              "      <td>0</td>\n",
              "      <td>0.00</td>\n",
              "    </tr>\n",
              "  </tbody>\n",
              "</table>\n",
              "</div>"
            ],
            "text/plain": [
              "  Features  Total  Percent\n",
              "0   Salnty  47354     5.48\n",
              "1   T_degC  10963     1.27\n",
              "2   Depthm      0     0.00"
            ]
          },
          "metadata": {
            "tags": []
          },
          "execution_count": 11
        }
      ]
    },
    {
      "cell_type": "code",
      "metadata": {
        "id": "vYNp-OO8XiMH",
        "outputId": "5f5814be-06bc-4272-d67b-e57fe7871870",
        "colab": {
          "base_uri": "https://localhost:8080/",
          "height": 51
        }
      },
      "source": [
        "#Isi missing values\n",
        "for i in df.columns:\n",
        "  if df[i].isnull().sum() > 0:\n",
        "    df[i].fillna(df[i].mode().mean(), inplace=True)\n",
        "    print('Filled', i)"
      ],
      "execution_count": null,
      "outputs": [
        {
          "output_type": "stream",
          "text": [
            "Filled T_degC\n",
            "Filled Salnty\n"
          ],
          "name": "stdout"
        }
      ]
    },
    {
      "cell_type": "code",
      "metadata": {
        "id": "uGj3jE2_XjRc",
        "outputId": "e81c0307-b7bb-4c36-f8d9-b5b7837c61b5",
        "colab": {
          "base_uri": "https://localhost:8080/",
          "height": 142
        }
      },
      "source": [
        "#Cek ulang missing valuesnya\n",
        "nulls = df.isnull().sum().sort_values(ascending=False)\n",
        "percent = round(nulls/len(df)*100, 2)\n",
        "\n",
        "df_null = pd.DataFrame(columns=['Features', 'Total', 'Percent'])\n",
        "df_null['Features'] = nulls.index\n",
        "df_null['Total'] = nulls.values\n",
        "df_null['Percent'] = percent.values\n",
        "\n",
        "df_null"
      ],
      "execution_count": null,
      "outputs": [
        {
          "output_type": "execute_result",
          "data": {
            "text/html": [
              "<div>\n",
              "<style scoped>\n",
              "    .dataframe tbody tr th:only-of-type {\n",
              "        vertical-align: middle;\n",
              "    }\n",
              "\n",
              "    .dataframe tbody tr th {\n",
              "        vertical-align: top;\n",
              "    }\n",
              "\n",
              "    .dataframe thead th {\n",
              "        text-align: right;\n",
              "    }\n",
              "</style>\n",
              "<table border=\"1\" class=\"dataframe\">\n",
              "  <thead>\n",
              "    <tr style=\"text-align: right;\">\n",
              "      <th></th>\n",
              "      <th>Features</th>\n",
              "      <th>Total</th>\n",
              "      <th>Percent</th>\n",
              "    </tr>\n",
              "  </thead>\n",
              "  <tbody>\n",
              "    <tr>\n",
              "      <th>0</th>\n",
              "      <td>Salnty</td>\n",
              "      <td>0</td>\n",
              "      <td>0.0</td>\n",
              "    </tr>\n",
              "    <tr>\n",
              "      <th>1</th>\n",
              "      <td>T_degC</td>\n",
              "      <td>0</td>\n",
              "      <td>0.0</td>\n",
              "    </tr>\n",
              "    <tr>\n",
              "      <th>2</th>\n",
              "      <td>Depthm</td>\n",
              "      <td>0</td>\n",
              "      <td>0.0</td>\n",
              "    </tr>\n",
              "  </tbody>\n",
              "</table>\n",
              "</div>"
            ],
            "text/plain": [
              "  Features  Total  Percent\n",
              "0   Salnty      0      0.0\n",
              "1   T_degC      0      0.0\n",
              "2   Depthm      0      0.0"
            ]
          },
          "metadata": {
            "tags": []
          },
          "execution_count": 13
        }
      ]
    },
    {
      "cell_type": "code",
      "metadata": {
        "id": "T1oOi5q2XkO5",
        "outputId": "7cbc6759-201b-4605-fefb-bc7001c93124",
        "colab": {
          "base_uri": "https://localhost:8080/",
          "height": 85
        }
      },
      "source": [
        "df.dtypes"
      ],
      "execution_count": null,
      "outputs": [
        {
          "output_type": "execute_result",
          "data": {
            "text/plain": [
              "Depthm      int64\n",
              "T_degC    float64\n",
              "Salnty    float64\n",
              "dtype: object"
            ]
          },
          "metadata": {
            "tags": []
          },
          "execution_count": 14
        }
      ]
    },
    {
      "cell_type": "code",
      "metadata": {
        "id": "FEerLBItXln3",
        "outputId": "0d2cbc03-d5be-404a-a3fd-238cab8b3500",
        "colab": {
          "base_uri": "https://localhost:8080/",
          "height": 1000
        }
      },
      "source": [
        "df_numbers = df.select_dtypes(include=['float64', 'int64'])\n",
        "\n",
        "df_numbers.hist(figsize=(18, 22), bins=50, xlabelsize=8, ylabelsize=8)\n",
        "plt.show()"
      ],
      "execution_count": null,
      "outputs": [
        {
          "output_type": "display_data",
          "data": {
            "image/png": "[encoded data removed]",
            "text/plain": [
              "<Figure size 1296x1584 with 4 Axes>"
            ]
          },
          "metadata": {
            "tags": [],
            "needs_background": "light"
          }
        }
      ]
    },
    {
      "cell_type": "code",
      "metadata": {
        "id": "iCZJI5jHXme4",
        "outputId": "bc7494b4-90aa-461e-bac7-3c74fe38e3a5",
        "colab": {
          "base_uri": "https://localhost:8080/",
          "height": 578
        }
      },
      "source": [
        "plt.figure(figsize=(10, 10))\n",
        "sns.heatmap(df.corr(), annot=True, annot_kws={'size':10}, cbar=True, square=True, fmt='.2f', cmap='Blues')\n",
        "plt.show()"
      ],
      "execution_count": null,
      "outputs": [
        {
          "output_type": "display_data",
          "data": {
            "image/png": "[encoded data removed]",
            "text/plain": [
              "<Figure size 720x720 with 2 Axes>"
            ]
          },
          "metadata": {
            "tags": [],
            "needs_background": "light"
          }
        }
      ]
    },
    {
      "cell_type": "code",
      "metadata": {
        "id": "Tq20xG9MXq4O"
      },
      "source": [
        "from sklearn.preprocessing import StandardScaler, PowerTransformer, QuantileTransformer, MinMaxScaler, MaxAbsScaler, RobustScaler\n",
        "from sklearn.model_selection import train_test_split\n",
        "from sklearn.linear_model import LinearRegression\n",
        "from sklearn.metrics import mean_squared_error, mean_absolute_error, r2_score"
      ],
      "execution_count": null,
      "outputs": []
    },
    {
      "cell_type": "code",
      "metadata": {
        "id": "mnYcrPZuXsLi"
      },
      "source": [
        "X = df.drop(['Salnty'], axis=1)\n",
        "y = df['Salnty']"
      ],
      "execution_count": null,
      "outputs": []
    },
    {
      "cell_type": "code",
      "metadata": {
        "id": "qIXytRu_XtfE"
      },
      "source": [
        "stdr = StandardScaler()\n",
        "\n",
        "X = stdr.fit_transform(X.values)\n",
        "y = stdr.fit_transform(df['Salnty'].values.reshape(-1, 1)).flatten()"
      ],
      "execution_count": null,
      "outputs": []
    },
    {
      "cell_type": "code",
      "metadata": {
        "id": "MsvDr1lpXvGU"
      },
      "source": [
        "X_train, X_test, y_train, y_test = train_test_split(X, y, test_size=0.25, random_state=10)"
      ],
      "execution_count": null,
      "outputs": []
    },
    {
      "cell_type": "markdown",
      "metadata": {
        "id": "qxrXp-LkmKGO"
      },
      "source": [
        "## **Deep Learning Model with Deeper Layer**"
      ]
    },
    {
      "cell_type": "code",
      "metadata": {
        "id": "3nqDDMcLXx3G"
      },
      "source": [
        "def plot_loss_new(history):\n",
        "  history_df = pd.DataFrame(history.history)\n",
        "\n",
        "  min_loss_index = history_df[history_df['loss']==min(history_df['loss'])].index.values\n",
        "  min_loss = history_df.loc[min_loss_index]['loss']\n",
        "  min_val_loss_index = history_df[history_df['val_loss']==min(history_df['val_loss'])].index.values\n",
        "  min_val_loss = history_df.loc[min_val_loss_index]['val_loss']\n",
        "\n",
        "  plt.plot(history.history['loss'], label='loss')\n",
        "  plt.plot(history.history['val_loss'], label='val_loss')\n",
        "  plt.plot(min_loss_index, min_loss, 'o', c='k', ms=4, label='min loss')\n",
        "  plt.plot(min_val_loss_index, min_val_loss, 'o', c='k', ms=4, label='min val_loss')\n",
        "  plt.xlabel('Epoch')\n",
        "  plt.ylabel('Loss')\n",
        "  plt.legend()\n",
        "  plt.grid(True)\n",
        "  plt.show()\n",
        "\n",
        "  print('Minimum Loss             :', min_loss)\n",
        "  print()\n",
        "  print('Minimum Validation Loss  :', min_val_loss)"
      ],
      "execution_count": null,
      "outputs": []
    },
    {
      "cell_type": "code",
      "metadata": {
        "id": "EDk-DDjnX2WZ"
      },
      "source": [
        "from tensorflow.keras.models import Sequential\n",
        "from tensorflow.keras.layers import Dense"
      ],
      "execution_count": null,
      "outputs": []
    },
    {
      "cell_type": "code",
      "metadata": {
        "id": "D-0xVjFgX3b4"
      },
      "source": [
        "model = Sequential()\n",
        "model.add(Dense(13, input_dim=2, kernel_initializer='normal', activation='relu'))\n",
        "model.add(Dense(6, kernel_initializer='normal', activation='relu'))\n",
        "model.add(Dense(1, kernel_initializer='normal'))\n",
        "\n",
        "model.compile(loss='mean_squared_error', optimizer='adam')"
      ],
      "execution_count": null,
      "outputs": []
    },
    {
      "cell_type": "code",
      "metadata": {
        "id": "uPP-zLkUX8qZ",
        "outputId": "1d5fe33a-4f76-4b3a-cd22-3dc06ec98740",
        "colab": {
          "base_uri": "https://localhost:8080/",
          "height": 1000
        }
      },
      "source": [
        "history1 = model.fit(x=X_train, y=y_train, validation_data=(X_test, y_test), epochs=50, batch_size=8)"
      ],
      "execution_count": null,
      "outputs": [
        {
          "output_type": "stream",
          "text": [
            "Epoch 1/50\n",
            "81081/81081 [==============================] - 59s 733us/step - loss: 0.3795 - val_loss: 0.3771\n",
            "Epoch 2/50\n",
            "81081/81081 [==============================] - 61s 752us/step - loss: 0.3703 - val_loss: 0.3735\n",
            "Epoch 3/50\n",
            "81081/81081 [==============================] - 64s 787us/step - loss: 0.3691 - val_loss: 0.3711\n",
            "Epoch 4/50\n",
            "81081/81081 [==============================] - 66s 817us/step - loss: 0.3675 - val_loss: 0.3703\n",
            "Epoch 5/50\n",
            "81081/81081 [==============================] - 66s 817us/step - loss: 0.3666 - val_loss: 0.3694\n",
            "Epoch 6/50\n",
            "81081/81081 [==============================] - 62s 771us/step - loss: 0.3659 - val_loss: 0.3675\n",
            "Epoch 7/50\n",
            "81081/81081 [==============================] - 63s 781us/step - loss: 0.3649 - val_loss: 0.3715\n",
            "Epoch 8/50\n",
            "81081/81081 [==============================] - 63s 781us/step - loss: 0.3647 - val_loss: 0.3693\n",
            "Epoch 9/50\n",
            "81081/81081 [==============================] - 59s 727us/step - loss: 0.3643 - val_loss: 0.3722\n",
            "Epoch 10/50\n",
            "81081/81081 [==============================] - 60s 739us/step - loss: 0.3642 - val_loss: 0.3682\n",
            "Epoch 11/50\n",
            "81081/81081 [==============================] - 59s 725us/step - loss: 0.3640 - val_loss: 0.3682\n",
            "Epoch 12/50\n",
            "81081/81081 [==============================] - 58s 721us/step - loss: 0.3640 - val_loss: 0.3778\n",
            "Epoch 13/50\n",
            "81081/81081 [==============================] - 59s 724us/step - loss: 0.3638 - val_loss: 0.3686\n",
            "Epoch 14/50\n",
            "81081/81081 [==============================] - 62s 769us/step - loss: 0.3639 - val_loss: 0.3689\n",
            "Epoch 15/50\n",
            "81081/81081 [==============================] - 64s 783us/step - loss: 0.3638 - val_loss: 0.3705\n",
            "Epoch 16/50\n",
            "81081/81081 [==============================] - 67s 827us/step - loss: 0.3637 - val_loss: 0.3690\n",
            "Epoch 17/50\n",
            "81081/81081 [==============================] - 63s 775us/step - loss: 0.3636 - val_loss: 0.3670\n",
            "Epoch 18/50\n",
            "81081/81081 [==============================] - 58s 719us/step - loss: 0.3636 - val_loss: 0.3663\n",
            "Epoch 19/50\n",
            "81081/81081 [==============================] - 59s 722us/step - loss: 0.3634 - val_loss: 0.3666\n",
            "Epoch 20/50\n",
            "81081/81081 [==============================] - 58s 718us/step - loss: 0.3633 - val_loss: 0.3670\n",
            "Epoch 21/50\n",
            "81081/81081 [==============================] - 58s 715us/step - loss: 0.3633 - val_loss: 0.3668\n",
            "Epoch 22/50\n",
            "81081/81081 [==============================] - 59s 722us/step - loss: 0.3633 - val_loss: 0.3678\n",
            "Epoch 23/50\n",
            "81081/81081 [==============================] - 60s 737us/step - loss: 0.3632 - val_loss: 0.3661\n",
            "Epoch 24/50\n",
            "81081/81081 [==============================] - 61s 752us/step - loss: 0.3633 - val_loss: 0.3690\n",
            "Epoch 25/50\n",
            "81081/81081 [==============================] - 58s 713us/step - loss: 0.3632 - val_loss: 0.3681\n",
            "Epoch 26/50\n",
            "81081/81081 [==============================] - 58s 714us/step - loss: 0.3632 - val_loss: 0.3674\n",
            "Epoch 27/50\n",
            "81081/81081 [==============================] - 58s 721us/step - loss: 0.3631 - val_loss: 0.3666\n",
            "Epoch 28/50\n",
            "81081/81081 [==============================] - 58s 714us/step - loss: 0.3633 - val_loss: 0.3723\n",
            "Epoch 29/50\n",
            "81081/81081 [==============================] - 59s 729us/step - loss: 0.3631 - val_loss: 0.3685\n",
            "Epoch 30/50\n",
            "81081/81081 [==============================] - 60s 743us/step - loss: 0.3632 - val_loss: 0.3664\n",
            "Epoch 31/50\n",
            "81081/81081 [==============================] - 61s 752us/step - loss: 0.3632 - val_loss: 0.3673\n",
            "Epoch 32/50\n",
            "81081/81081 [==============================] - 62s 768us/step - loss: 0.3631 - val_loss: 0.3671\n",
            "Epoch 33/50\n",
            "81081/81081 [==============================] - 60s 743us/step - loss: 0.3630 - val_loss: 0.3658\n",
            "Epoch 34/50\n",
            "81081/81081 [==============================] - 58s 714us/step - loss: 0.3630 - val_loss: 0.3701\n",
            "Epoch 35/50\n",
            "81081/81081 [==============================] - 61s 749us/step - loss: 0.3631 - val_loss: 0.3680\n",
            "Epoch 36/50\n",
            "81081/81081 [==============================] - 57s 708us/step - loss: 0.3631 - val_loss: 0.3663\n",
            "Epoch 37/50\n",
            "81081/81081 [==============================] - 57s 709us/step - loss: 0.3629 - val_loss: 0.3663\n",
            "Epoch 38/50\n",
            "81081/81081 [==============================] - 64s 791us/step - loss: 0.3628 - val_loss: 0.3705\n",
            "Epoch 39/50\n",
            "81081/81081 [==============================] - 65s 800us/step - loss: 0.3627 - val_loss: 0.3668\n",
            "Epoch 40/50\n",
            "81081/81081 [==============================] - 62s 767us/step - loss: 0.3626 - val_loss: 0.3657\n",
            "Epoch 41/50\n",
            "81081/81081 [==============================] - 59s 722us/step - loss: 0.3626 - val_loss: 0.3657\n",
            "Epoch 42/50\n",
            "81081/81081 [==============================] - 60s 739us/step - loss: 0.3625 - val_loss: 0.3652\n",
            "Epoch 43/50\n",
            "81081/81081 [==============================] - 61s 749us/step - loss: 0.3625 - val_loss: 0.3681\n",
            "Epoch 44/50\n",
            "81081/81081 [==============================] - 57s 707us/step - loss: 0.3625 - val_loss: 0.3650\n",
            "Epoch 45/50\n",
            "81081/81081 [==============================] - 58s 717us/step - loss: 0.3624 - val_loss: 0.3656\n",
            "Epoch 46/50\n",
            "81081/81081 [==============================] - 57s 707us/step - loss: 0.3623 - val_loss: 0.3661\n",
            "Epoch 47/50\n",
            "81081/81081 [==============================] - 57s 706us/step - loss: 0.3624 - val_loss: 0.3659\n",
            "Epoch 48/50\n",
            "81081/81081 [==============================] - 57s 707us/step - loss: 0.3623 - val_loss: 0.3666\n",
            "Epoch 49/50\n",
            "81081/81081 [==============================] - 59s 724us/step - loss: 0.3624 - val_loss: 0.3661\n",
            "Epoch 50/50\n",
            "81081/81081 [==============================] - 60s 735us/step - loss: 0.3624 - val_loss: 0.3666\n"
          ],
          "name": "stdout"
        }
      ]
    },
    {
      "cell_type": "code",
      "metadata": {
        "id": "koEtvY34YBIX"
      },
      "source": [
        "predict_deep = model.predict(X_test)\n",
        "predict_deep = predict_deep.flatten()"
      ],
      "execution_count": null,
      "outputs": []
    },
    {
      "cell_type": "code",
      "metadata": {
        "id": "8LeE_9kKmXEr",
        "outputId": "2bcc202a-b154-4d5d-83d0-42ff9d9d24f9",
        "colab": {
          "base_uri": "https://localhost:8080/",
          "height": 85
        }
      },
      "source": [
        "mse = mean_squared_error(y_test, predict_deep)\n",
        "mae = mean_absolute_error(y_test, predict_deep)\n",
        "r2 = r2_score(y_test, predict_deep)\n",
        "print(\"MSE (Mean Squared Error)         :\", mse)\n",
        "print(\"MAE (Mean Absolute Error)        :\", mae)\n",
        "print(\"r^2 score                        :\", r2)\n",
        "print('RMSE (Root Mean Squared Error)   :', np.sqrt(mean_squared_error(y_test, predict_deep)))"
      ],
      "execution_count": null,
      "outputs": [
        {
          "output_type": "stream",
          "text": [
            "MSE (Mean Squared Error)         : 0.36658837137918476\n",
            "MAE (Mean Absolute Error)        : 0.40685436452044454\n",
            "r^2 score                        : 0.6343415821778486\n",
            "RMSE (Root Mean Squared Error)   : 0.6054654171620248\n"
          ],
          "name": "stdout"
        }
      ]
    },
    {
      "cell_type": "code",
      "metadata": {
        "id": "I2zcxOsNmZGG",
        "outputId": "88cdd6fd-fe91-4c7d-a61c-bd295e1204e4",
        "colab": {
          "base_uri": "https://localhost:8080/",
          "height": 364
        }
      },
      "source": [
        "plot_loss_new(history1)"
      ],
      "execution_count": null,
      "outputs": [
        {
          "output_type": "display_data",
          "data": {
            "image/png": "[encoded data removed]",
            "text/plain": [
              "<Figure size 432x288 with 1 Axes>"
            ]
          },
          "metadata": {
            "tags": [],
            "needs_background": "light"
          }
        },
        {
          "output_type": "stream",
          "text": [
            "Minimum Loss             : 45    0.362327\n",
            "Name: loss, dtype: float64\n",
            "\n",
            "Minimum Validation Loss  : 43    0.365038\n",
            "Name: val_loss, dtype: float64\n"
          ],
          "name": "stdout"
        }
      ]
    },
    {
      "cell_type": "markdown",
      "metadata": {
        "id": "SAAbRN0G4oL9"
      },
      "source": [
        "Sweet spot berada pada epoch 43 dengan val_loss 0.365038"
      ]
    },
    {
      "cell_type": "markdown",
      "metadata": {
        "id": "fJ9UAVyXmg12"
      },
      "source": [
        "## **Deep Learning with Wider Layer**"
      ]
    },
    {
      "cell_type": "code",
      "metadata": {
        "id": "MkB-tloNmd2V"
      },
      "source": [
        "wider = Sequential()\n",
        "wider.add(Dense(20, input_dim=2, kernel_initializer='normal', activation='relu'))\n",
        "wider.add(Dense(1, kernel_initializer='normal'))\n",
        "\n",
        "wider.compile(loss='mean_squared_error', optimizer='adam')"
      ],
      "execution_count": null,
      "outputs": []
    },
    {
      "cell_type": "code",
      "metadata": {
        "id": "CZxIqCFUmlR7",
        "outputId": "49c24304-784c-4865-d850-6aa4010a9a15",
        "colab": {
          "base_uri": "https://localhost:8080/",
          "height": 221
        }
      },
      "source": [
        "wider.summary()"
      ],
      "execution_count": null,
      "outputs": [
        {
          "output_type": "stream",
          "text": [
            "Model: \"sequential_2\"\n",
            "_________________________________________________________________\n",
            "Layer (type)                 Output Shape              Param #   \n",
            "=================================================================\n",
            "dense_5 (Dense)              (None, 20)                60        \n",
            "_________________________________________________________________\n",
            "dense_6 (Dense)              (None, 1)                 21        \n",
            "=================================================================\n",
            "Total params: 81\n",
            "Trainable params: 81\n",
            "Non-trainable params: 0\n",
            "_________________________________________________________________\n"
          ],
          "name": "stdout"
        }
      ]
    },
    {
      "cell_type": "code",
      "metadata": {
        "id": "FIS6g_esmmfD",
        "outputId": "31f43549-de13-49ad-c2ff-0a5d3e36e070",
        "colab": {
          "base_uri": "https://localhost:8080/",
          "height": 1000
        }
      },
      "source": [
        "history2 = wider.fit(x=X_train, y=y_train, validation_data=(X_test, y_test), epochs=50, batch_size=8)"
      ],
      "execution_count": null,
      "outputs": [
        {
          "output_type": "stream",
          "text": [
            "Epoch 1/50\n",
            "81081/81081 [==============================] - 51s 626us/step - loss: 0.4103 - val_loss: 0.3995\n",
            "Epoch 2/50\n",
            "81081/81081 [==============================] - 51s 628us/step - loss: 0.3811 - val_loss: 0.3788\n",
            "Epoch 3/50\n",
            "81081/81081 [==============================] - 51s 631us/step - loss: 0.3734 - val_loss: 0.3752\n",
            "Epoch 4/50\n",
            "81081/81081 [==============================] - 51s 629us/step - loss: 0.3723 - val_loss: 0.3778\n",
            "Epoch 5/50\n",
            "81081/81081 [==============================] - 51s 631us/step - loss: 0.3714 - val_loss: 0.3727\n",
            "Epoch 6/50\n",
            "81081/81081 [==============================] - 57s 704us/step - loss: 0.3709 - val_loss: 0.3732\n",
            "Epoch 7/50\n",
            "81081/81081 [==============================] - 61s 748us/step - loss: 0.3706 - val_loss: 0.3732\n",
            "Epoch 8/50\n",
            "81081/81081 [==============================] - 57s 704us/step - loss: 0.3702 - val_loss: 0.3772\n",
            "Epoch 9/50\n",
            "81081/81081 [==============================] - 53s 658us/step - loss: 0.3702 - val_loss: 0.3743\n",
            "Epoch 10/50\n",
            "81081/81081 [==============================] - 51s 629us/step - loss: 0.3700 - val_loss: 0.3739\n",
            "Epoch 11/50\n",
            "81081/81081 [==============================] - 51s 629us/step - loss: 0.3700 - val_loss: 0.3757\n",
            "Epoch 12/50\n",
            "81081/81081 [==============================] - 51s 629us/step - loss: 0.3698 - val_loss: 0.3723\n",
            "Epoch 13/50\n",
            "81081/81081 [==============================] - 51s 631us/step - loss: 0.3699 - val_loss: 0.3797\n",
            "Epoch 14/50\n",
            "81081/81081 [==============================] - 51s 633us/step - loss: 0.3697 - val_loss: 0.3741\n",
            "Epoch 15/50\n",
            "81081/81081 [==============================] - 52s 645us/step - loss: 0.3698 - val_loss: 0.3717\n",
            "Epoch 16/50\n",
            "81081/81081 [==============================] - 54s 663us/step - loss: 0.3696 - val_loss: 0.3728\n",
            "Epoch 17/50\n",
            "81081/81081 [==============================] - 55s 674us/step - loss: 0.3696 - val_loss: 0.3716\n",
            "Epoch 18/50\n",
            "81081/81081 [==============================] - 54s 665us/step - loss: 0.3694 - val_loss: 0.3741\n",
            "Epoch 19/50\n",
            "81081/81081 [==============================] - 51s 631us/step - loss: 0.3695 - val_loss: 0.3724\n",
            "Epoch 20/50\n",
            "81081/81081 [==============================] - 52s 641us/step - loss: 0.3696 - val_loss: 0.3744\n",
            "Epoch 21/50\n",
            "81081/81081 [==============================] - 51s 631us/step - loss: 0.3694 - val_loss: 0.3724\n",
            "Epoch 22/50\n",
            "81081/81081 [==============================] - 51s 630us/step - loss: 0.3693 - val_loss: 0.3714\n",
            "Epoch 23/50\n",
            "81081/81081 [==============================] - 51s 630us/step - loss: 0.3694 - val_loss: 0.3737\n",
            "Epoch 24/50\n",
            "81081/81081 [==============================] - 52s 641us/step - loss: 0.3694 - val_loss: 0.3720\n",
            "Epoch 25/50\n",
            "81081/81081 [==============================] - 53s 657us/step - loss: 0.3693 - val_loss: 0.3716\n",
            "Epoch 26/50\n",
            "81081/81081 [==============================] - 54s 670us/step - loss: 0.3693 - val_loss: 0.3837\n",
            "Epoch 27/50\n",
            "81081/81081 [==============================] - 55s 678us/step - loss: 0.3693 - val_loss: 0.3866\n",
            "Epoch 28/50\n",
            "81081/81081 [==============================] - 51s 628us/step - loss: 0.3692 - val_loss: 0.3718\n",
            "Epoch 29/50\n",
            "81081/81081 [==============================] - 51s 627us/step - loss: 0.3693 - val_loss: 0.3716\n",
            "Epoch 30/50\n",
            "81081/81081 [==============================] - 51s 628us/step - loss: 0.3691 - val_loss: 0.3734\n",
            "Epoch 31/50\n",
            "81081/81081 [==============================] - 51s 629us/step - loss: 0.3685 - val_loss: 0.3710\n",
            "Epoch 32/50\n",
            "81081/81081 [==============================] - 51s 630us/step - loss: 0.3681 - val_loss: 0.3702\n",
            "Epoch 33/50\n",
            "81081/81081 [==============================] - 55s 674us/step - loss: 0.3678 - val_loss: 0.3725\n",
            "Epoch 34/50\n",
            "81081/81081 [==============================] - 62s 763us/step - loss: 0.3678 - val_loss: 0.3729\n",
            "Epoch 35/50\n",
            "81081/81081 [==============================] - 54s 663us/step - loss: 0.3676 - val_loss: 0.3923\n",
            "Epoch 36/50\n",
            "81081/81081 [==============================] - 51s 630us/step - loss: 0.3677 - val_loss: 0.3705\n",
            "Epoch 37/50\n",
            "81081/81081 [==============================] - 53s 658us/step - loss: 0.3677 - val_loss: 0.3695\n",
            "Epoch 38/50\n",
            "81081/81081 [==============================] - 51s 631us/step - loss: 0.3676 - val_loss: 0.3701\n",
            "Epoch 39/50\n",
            "81081/81081 [==============================] - 51s 630us/step - loss: 0.3676 - val_loss: 0.3717\n",
            "Epoch 40/50\n",
            "81081/81081 [==============================] - 51s 631us/step - loss: 0.3677 - val_loss: 0.3724\n",
            "Epoch 41/50\n",
            "81081/81081 [==============================] - 55s 682us/step - loss: 0.3676 - val_loss: 0.3712\n",
            "Epoch 42/50\n",
            "81081/81081 [==============================] - 61s 752us/step - loss: 0.3676 - val_loss: 0.3729\n",
            "Epoch 43/50\n",
            "81081/81081 [==============================] - 59s 726us/step - loss: 0.3677 - val_loss: 0.3699\n",
            "Epoch 44/50\n",
            "81081/81081 [==============================] - 51s 632us/step - loss: 0.3677 - val_loss: 0.3720\n",
            "Epoch 45/50\n",
            "81081/81081 [==============================] - 51s 632us/step - loss: 0.3677 - val_loss: 0.3703\n",
            "Epoch 46/50\n",
            "81081/81081 [==============================] - 52s 636us/step - loss: 0.3676 - val_loss: 0.3699\n",
            "Epoch 47/50\n",
            "81081/81081 [==============================] - 51s 633us/step - loss: 0.3676 - val_loss: 0.3716\n",
            "Epoch 48/50\n",
            "81081/81081 [==============================] - 54s 665us/step - loss: 0.3676 - val_loss: 0.3712\n",
            "Epoch 49/50\n",
            "81081/81081 [==============================] - 53s 652us/step - loss: 0.3676 - val_loss: 0.3715\n",
            "Epoch 50/50\n",
            "81081/81081 [==============================] - 54s 664us/step - loss: 0.3675 - val_loss: 0.3718\n"
          ],
          "name": "stdout"
        }
      ]
    },
    {
      "cell_type": "code",
      "metadata": {
        "id": "2e78Iayjmv3a"
      },
      "source": [
        "predict_wide = wider.predict(X_test)\n",
        "predict_wide = predict_wide.flatten()"
      ],
      "execution_count": null,
      "outputs": []
    },
    {
      "cell_type": "code",
      "metadata": {
        "id": "uRx0lKaExD2K",
        "outputId": "79da1a3f-f38d-47d2-f947-b45818404a4a",
        "colab": {
          "base_uri": "https://localhost:8080/",
          "height": 85
        }
      },
      "source": [
        "mse = mean_squared_error(y_test, predict_wide)\n",
        "mae = mean_absolute_error(y_test, predict_wide)\n",
        "r2 = r2_score(y_test, predict_wide)\n",
        "print(\"MSE (Mean Squared Error)       :\", mse)\n",
        "print(\"MAE (Mean Absolute Error)      :\", mae)\n",
        "print(\"r^2 score                      :\", r2)\n",
        "print('RMSE (Root Mean Squared Error  :', np.sqrt(mean_squared_error(y_test, predict_wide)))"
      ],
      "execution_count": null,
      "outputs": [
        {
          "output_type": "stream",
          "text": [
            "MSE (Mean Squared Error)       : 0.3718029720414762\n",
            "MAE (Mean Absolute Error)      : 0.4071752414916316\n",
            "r^2 score                      : 0.6291402098032308\n",
            "RMSE (Root Mean Squared Error  : 0.6097564858543747\n"
          ],
          "name": "stdout"
        }
      ]
    },
    {
      "cell_type": "code",
      "metadata": {
        "id": "SfjZc84wxGbU",
        "outputId": "ddcefe44-0817-4dc9-b69d-8322f1092ee1",
        "colab": {
          "base_uri": "https://localhost:8080/",
          "height": 364
        }
      },
      "source": [
        "plot_loss_new(history2)"
      ],
      "execution_count": null,
      "outputs": [
        {
          "output_type": "display_data",
          "data": {
            "image/png": "[encoded data removed]",
            "text/plain": [
              "<Figure size 432x288 with 1 Axes>"
            ]
          },
          "metadata": {
            "tags": [],
            "needs_background": "light"
          }
        },
        {
          "output_type": "stream",
          "text": [
            "Minimum Loss             : 49    0.367532\n",
            "Name: loss, dtype: float64\n",
            "\n",
            "Minimum Validation Loss  : 36    0.369469\n",
            "Name: val_loss, dtype: float64\n"
          ],
          "name": "stdout"
        }
      ]
    },
    {
      "cell_type": "markdown",
      "metadata": {
        "id": "zBN2YFcz4x2V"
      },
      "source": [
        "Sweet spot berada pada epoch 36 dengan val_loss 0.369469"
      ]
    },
    {
      "cell_type": "markdown",
      "metadata": {
        "id": "3row_aWFxPNg"
      },
      "source": [
        "## **Deep Learning Wider Model with SGD Optimizer**"
      ]
    },
    {
      "cell_type": "code",
      "metadata": {
        "id": "UhwAxQRsxLPJ"
      },
      "source": [
        "from tensorflow.keras.optimizers import SGD"
      ],
      "execution_count": null,
      "outputs": []
    },
    {
      "cell_type": "code",
      "metadata": {
        "id": "oCDYNbN4xWqe"
      },
      "source": [
        "wider1 = Sequential()\n",
        "wider1.add(Dense(20, input_dim=2, kernel_initializer='normal', activation='relu'))\n",
        "wider1.add(Dense(1, kernel_initializer='normal'))\n",
        "\n",
        "opt = SGD(learning_rate=0.001, momentum=0.9)\n",
        "\n",
        "wider1.compile(loss='mean_squared_error', optimizer=opt)"
      ],
      "execution_count": null,
      "outputs": []
    },
    {
      "cell_type": "code",
      "metadata": {
        "id": "vSO55I4Axdbm",
        "outputId": "b7c24034-1d24-4ec7-d81d-3ff16000e10a",
        "colab": {
          "base_uri": "https://localhost:8080/",
          "height": 221
        }
      },
      "source": [
        "wider1.summary()"
      ],
      "execution_count": null,
      "outputs": [
        {
          "output_type": "stream",
          "text": [
            "Model: \"sequential_4\"\n",
            "_________________________________________________________________\n",
            "Layer (type)                 Output Shape              Param #   \n",
            "=================================================================\n",
            "dense_9 (Dense)              (None, 20)                60        \n",
            "_________________________________________________________________\n",
            "dense_10 (Dense)             (None, 1)                 21        \n",
            "=================================================================\n",
            "Total params: 81\n",
            "Trainable params: 81\n",
            "Non-trainable params: 0\n",
            "_________________________________________________________________\n"
          ],
          "name": "stdout"
        }
      ]
    },
    {
      "cell_type": "code",
      "metadata": {
        "id": "Vc-P2vWdxfXr",
        "outputId": "b907b636-43b6-447d-a20c-e9872ee4efaf",
        "colab": {
          "base_uri": "https://localhost:8080/",
          "height": 1000
        }
      },
      "source": [
        "history3 = wider1.fit(x=X_train, y=y_train, validation_data=(X_test, y_test), epochs=50, batch_size=8)"
      ],
      "execution_count": null,
      "outputs": [
        {
          "output_type": "stream",
          "text": [
            "Epoch 1/50\n",
            "81081/81081 [==============================] - 53s 657us/step - loss: 0.4091 - val_loss: 0.3938\n",
            "Epoch 2/50\n",
            "81081/81081 [==============================] - 54s 670us/step - loss: 0.3979 - val_loss: 0.3947\n",
            "Epoch 3/50\n",
            "81081/81081 [==============================] - 55s 680us/step - loss: 0.3981 - val_loss: 0.4233\n",
            "Epoch 4/50\n",
            "81081/81081 [==============================] - 54s 668us/step - loss: 0.3974 - val_loss: 0.4019\n",
            "Epoch 5/50\n",
            "81081/81081 [==============================] - 52s 638us/step - loss: 0.3973 - val_loss: 0.4105\n",
            "Epoch 6/50\n",
            "81081/81081 [==============================] - 52s 638us/step - loss: 0.3978 - val_loss: 0.4083\n",
            "Epoch 7/50\n",
            "81081/81081 [==============================] - 52s 640us/step - loss: 0.4026 - val_loss: 0.3959\n",
            "Epoch 8/50\n",
            "81081/81081 [==============================] - 52s 640us/step - loss: 0.3973 - val_loss: 0.3914\n",
            "Epoch 9/50\n",
            "81081/81081 [==============================] - 52s 638us/step - loss: 0.3970 - val_loss: 0.4002\n",
            "Epoch 10/50\n",
            "81081/81081 [==============================] - 60s 743us/step - loss: 0.3972 - val_loss: 0.3919\n",
            "Epoch 11/50\n",
            "81081/81081 [==============================] - 61s 752us/step - loss: 0.3969 - val_loss: 0.4002\n",
            "Epoch 12/50\n",
            "81081/81081 [==============================] - 59s 730us/step - loss: 0.3970 - val_loss: 0.3888\n",
            "Epoch 13/50\n",
            "81081/81081 [==============================] - 52s 643us/step - loss: 0.3965 - val_loss: 0.3861\n",
            "Epoch 14/50\n",
            "81081/81081 [==============================] - 52s 637us/step - loss: 0.3965 - val_loss: 0.3878\n",
            "Epoch 15/50\n",
            "81081/81081 [==============================] - 52s 638us/step - loss: 0.3970 - val_loss: 0.3902\n",
            "Epoch 16/50\n",
            "81081/81081 [==============================] - 52s 637us/step - loss: 0.3960 - val_loss: 0.3898\n",
            "Epoch 17/50\n",
            "81081/81081 [==============================] - 52s 637us/step - loss: 0.3964 - val_loss: 0.3882\n",
            "Epoch 18/50\n",
            "81081/81081 [==============================] - 52s 647us/step - loss: 0.3957 - val_loss: 0.4046\n",
            "Epoch 19/50\n",
            "81081/81081 [==============================] - 54s 663us/step - loss: 0.3967 - val_loss: 0.3878\n",
            "Epoch 20/50\n",
            "81081/81081 [==============================] - 54s 671us/step - loss: 0.3962 - val_loss: 0.4398\n",
            "Epoch 21/50\n",
            "81081/81081 [==============================] - 55s 679us/step - loss: 0.3956 - val_loss: 0.3869\n",
            "Epoch 22/50\n",
            "81081/81081 [==============================] - 53s 653us/step - loss: 0.3966 - val_loss: 0.3969\n",
            "Epoch 23/50\n",
            "81081/81081 [==============================] - 52s 639us/step - loss: 0.3956 - val_loss: 0.3920\n",
            "Epoch 24/50\n",
            "81081/81081 [==============================] - 52s 647us/step - loss: 0.3963 - val_loss: 0.3937\n",
            "Epoch 25/50\n",
            "81081/81081 [==============================] - 52s 642us/step - loss: 0.3971 - val_loss: 0.4062\n",
            "Epoch 26/50\n",
            "81081/81081 [==============================] - 52s 638us/step - loss: 0.3967 - val_loss: 0.3883\n",
            "Epoch 27/50\n",
            "81081/81081 [==============================] - 52s 637us/step - loss: 0.3965 - val_loss: 0.3868\n",
            "Epoch 28/50\n",
            "81081/81081 [==============================] - 54s 661us/step - loss: 0.3962 - val_loss: 0.4645\n",
            "Epoch 29/50\n",
            "81081/81081 [==============================] - 55s 675us/step - loss: 0.3963 - val_loss: 0.3875\n",
            "Epoch 30/50\n",
            "81081/81081 [==============================] - 56s 687us/step - loss: 0.3966 - val_loss: 0.3886\n",
            "Epoch 31/50\n",
            "81081/81081 [==============================] - 54s 664us/step - loss: 0.3972 - val_loss: 0.4051\n",
            "Epoch 32/50\n",
            "81081/81081 [==============================] - 52s 637us/step - loss: 0.3969 - val_loss: 0.3892\n",
            "Epoch 33/50\n",
            "81081/81081 [==============================] - 52s 641us/step - loss: 0.3965 - val_loss: 0.3918\n",
            "Epoch 34/50\n",
            "81081/81081 [==============================] - 52s 638us/step - loss: 0.3956 - val_loss: 0.3898\n",
            "Epoch 35/50\n",
            "81081/81081 [==============================] - 52s 640us/step - loss: 0.3967 - val_loss: 0.3920\n",
            "Epoch 36/50\n",
            "81081/81081 [==============================] - 52s 647us/step - loss: 0.3966 - val_loss: 0.4130\n",
            "Epoch 37/50\n",
            "81081/81081 [==============================] - 61s 751us/step - loss: 0.3969 - val_loss: 0.3906\n",
            "Epoch 38/50\n",
            "81081/81081 [==============================] - 60s 737us/step - loss: 0.3967 - val_loss: 0.3914\n",
            "Epoch 39/50\n",
            "81081/81081 [==============================] - 55s 683us/step - loss: 0.3959 - val_loss: 0.3924\n",
            "Epoch 40/50\n",
            "81081/81081 [==============================] - 52s 640us/step - loss: 0.3970 - val_loss: 0.3966\n",
            "Epoch 41/50\n",
            "81081/81081 [==============================] - 52s 638us/step - loss: 0.3966 - val_loss: 0.4235\n",
            "Epoch 42/50\n",
            "81081/81081 [==============================] - 52s 642us/step - loss: 0.3968 - val_loss: 0.3869\n",
            "Epoch 43/50\n",
            "81081/81081 [==============================] - 52s 638us/step - loss: 0.3952 - val_loss: 0.4496\n",
            "Epoch 44/50\n",
            "81081/81081 [==============================] - 52s 636us/step - loss: 0.3971 - val_loss: 0.3908\n",
            "Epoch 45/50\n",
            "81081/81081 [==============================] - 56s 696us/step - loss: 0.3970 - val_loss: 0.3866\n",
            "Epoch 46/50\n",
            "81081/81081 [==============================] - 63s 775us/step - loss: 0.3984 - val_loss: 0.3978\n",
            "Epoch 47/50\n",
            "81081/81081 [==============================] - 59s 732us/step - loss: 0.3966 - val_loss: 0.3980\n",
            "Epoch 48/50\n",
            "81081/81081 [==============================] - 52s 645us/step - loss: 0.3965 - val_loss: 0.4120\n",
            "Epoch 49/50\n",
            "81081/81081 [==============================] - 52s 644us/step - loss: 0.3966 - val_loss: 0.3901\n",
            "Epoch 50/50\n",
            "81081/81081 [==============================] - 52s 645us/step - loss: 0.3963 - val_loss: 0.3903\n"
          ],
          "name": "stdout"
        }
      ]
    },
    {
      "cell_type": "code",
      "metadata": {
        "id": "PseGQBN1x6bZ"
      },
      "source": [
        "predict_sgd = wider1.predict(X_test)\n",
        "predict_sgd = predict_sgd.flatten()"
      ],
      "execution_count": null,
      "outputs": []
    },
    {
      "cell_type": "code",
      "metadata": {
        "id": "RC8OI_dg85Qu",
        "outputId": "5060ce89-6fee-43b1-ea41-8fab2dee0722",
        "colab": {
          "base_uri": "https://localhost:8080/",
          "height": 85
        }
      },
      "source": [
        "mse = mean_squared_error(y_test, predict_sgd)\n",
        "mae = mean_absolute_error(y_test, predict_sgd)\n",
        "r2 = r2_score(y_test, predict_sgd)\n",
        "print(\"MSE (Mean Squared Error)       :\", mse)\n",
        "print(\"MAE (Mean Absolute Error)      :\", mae)\n",
        "print(\"r^2 score                      :\", r2)\n",
        "print('RMSE (Root Mean Squared Error  :', np.sqrt(mean_squared_error(y_test, predict_sgd)))"
      ],
      "execution_count": null,
      "outputs": [
        {
          "output_type": "stream",
          "text": [
            "MSE (Mean Squared Error)       : 0.3903205518784818\n",
            "MAE (Mean Absolute Error)      : 0.4118011396275719\n",
            "r^2 score                      : 0.610669604967566\n",
            "RMSE (Root Mean Squared Error  : 0.6247563940276897\n"
          ],
          "name": "stdout"
        }
      ]
    },
    {
      "cell_type": "code",
      "metadata": {
        "id": "GuLTV05-86Tw",
        "outputId": "81c3a515-e11a-414e-98fc-6fc316e78bce",
        "colab": {
          "base_uri": "https://localhost:8080/",
          "height": 364
        }
      },
      "source": [
        "plot_loss_new(history3)"
      ],
      "execution_count": null,
      "outputs": [
        {
          "output_type": "display_data",
          "data": {
            "image/png": "[encoded data removed]",
            "text/plain": [
              "<Figure size 432x288 with 1 Axes>"
            ]
          },
          "metadata": {
            "tags": [],
            "needs_background": "light"
          }
        },
        {
          "output_type": "stream",
          "text": [
            "Minimum Loss             : 42    0.395204\n",
            "Name: loss, dtype: float64\n",
            "\n",
            "Minimum Validation Loss  : 12    0.38606\n",
            "Name: val_loss, dtype: float64\n"
          ],
          "name": "stdout"
        }
      ]
    },
    {
      "cell_type": "markdown",
      "metadata": {
        "id": "-JGFMLZA42NE"
      },
      "source": [
        "Sweet spot berada pada epoch 12 dengan val_loss 0.38606"
      ]
    },
    {
      "cell_type": "markdown",
      "metadata": {
        "id": "N8XZDTDS9dvu"
      },
      "source": [
        "## **Deep Learning Wider Model with RMSprop Optimizer**"
      ]
    },
    {
      "cell_type": "code",
      "metadata": {
        "id": "S-n_5l6t9urB"
      },
      "source": [
        "from tensorflow.keras.optimizers import RMSprop"
      ],
      "execution_count": null,
      "outputs": []
    },
    {
      "cell_type": "code",
      "metadata": {
        "id": "I8AxlYES88eg",
        "outputId": "440f6ff8-52ec-4561-c9fd-bc284ba8ab40",
        "colab": {
          "base_uri": "https://localhost:8080/",
          "height": 221
        }
      },
      "source": [
        "wider2 = Sequential()\n",
        "wider2.add(Dense(20, input_dim=2, kernel_initializer='normal', activation='relu'))\n",
        "wider2.add(Dense(1, kernel_initializer='normal'))\n",
        "\n",
        "opt = RMSprop(learning_rate=0.001, momentum=0.9)\n",
        "\n",
        "wider2.compile(loss='mean_squared_error', optimizer=opt)\n",
        "\n",
        "wider2.summary()"
      ],
      "execution_count": null,
      "outputs": [
        {
          "output_type": "stream",
          "text": [
            "Model: \"sequential\"\n",
            "_________________________________________________________________\n",
            "Layer (type)                 Output Shape              Param #   \n",
            "=================================================================\n",
            "dense (Dense)                (None, 20)                60        \n",
            "_________________________________________________________________\n",
            "dense_1 (Dense)              (None, 1)                 21        \n",
            "=================================================================\n",
            "Total params: 81\n",
            "Trainable params: 81\n",
            "Non-trainable params: 0\n",
            "_________________________________________________________________\n"
          ],
          "name": "stdout"
        }
      ]
    },
    {
      "cell_type": "code",
      "metadata": {
        "id": "hTUHWesE9iGZ",
        "outputId": "162ce2a2-ecc6-4fa2-bb97-8305c94857aa",
        "colab": {
          "base_uri": "https://localhost:8080/",
          "height": 1000
        }
      },
      "source": [
        "history4 = wider2.fit(x=X_train, y=y_train, validation_data=(X_test, y_test), epochs=50, batch_size=8)"
      ],
      "execution_count": null,
      "outputs": [
        {
          "output_type": "stream",
          "text": [
            "Epoch 1/50\n",
            "81081/81081 [==============================] - 78s 959us/step - loss: 0.4029 - val_loss: 0.3822\n",
            "Epoch 2/50\n",
            "81081/81081 [==============================] - 81s 1ms/step - loss: 0.3973 - val_loss: 0.4003\n",
            "Epoch 3/50\n",
            "81081/81081 [==============================] - 78s 964us/step - loss: 0.3972 - val_loss: 0.3944\n",
            "Epoch 4/50\n",
            "81081/81081 [==============================] - 80s 983us/step - loss: 0.3971 - val_loss: 0.3838\n",
            "Epoch 5/50\n",
            "81081/81081 [==============================] - 79s 977us/step - loss: 0.3974 - val_loss: 0.4003\n",
            "Epoch 6/50\n",
            "81081/81081 [==============================] - 80s 986us/step - loss: 0.3976 - val_loss: 0.4289\n",
            "Epoch 7/50\n",
            "81081/81081 [==============================] - 78s 958us/step - loss: 0.3987 - val_loss: 0.4020\n",
            "Epoch 8/50\n",
            "81081/81081 [==============================] - 78s 960us/step - loss: 0.4002 - val_loss: 0.4011\n",
            "Epoch 9/50\n",
            "81081/81081 [==============================] - 77s 945us/step - loss: 0.4006 - val_loss: 0.4661\n",
            "Epoch 10/50\n",
            "81081/81081 [==============================] - 77s 952us/step - loss: 0.4004 - val_loss: 0.4045\n",
            "Epoch 11/50\n",
            "81081/81081 [==============================] - 77s 951us/step - loss: 0.4017 - val_loss: 0.4320\n",
            "Epoch 12/50\n",
            "81081/81081 [==============================] - 78s 961us/step - loss: 0.4027 - val_loss: 0.4067\n",
            "Epoch 13/50\n",
            "81081/81081 [==============================] - 77s 946us/step - loss: 0.4042 - val_loss: 0.4857\n",
            "Epoch 14/50\n",
            "81081/81081 [==============================] - 78s 964us/step - loss: 0.4040 - val_loss: 0.3820\n",
            "Epoch 15/50\n",
            "81081/81081 [==============================] - 77s 952us/step - loss: 0.4037 - val_loss: 0.3977\n",
            "Epoch 16/50\n",
            "81081/81081 [==============================] - 81s 997us/step - loss: 0.4040 - val_loss: 0.3901\n",
            "Epoch 17/50\n",
            "81081/81081 [==============================] - 77s 954us/step - loss: 0.4037 - val_loss: 0.4135\n",
            "Epoch 18/50\n",
            "81081/81081 [==============================] - 78s 966us/step - loss: 0.4031 - val_loss: 0.4129\n",
            "Epoch 19/50\n",
            "81081/81081 [==============================] - 77s 953us/step - loss: 0.4040 - val_loss: 0.4307\n",
            "Epoch 20/50\n",
            "81081/81081 [==============================] - 78s 957us/step - loss: 0.4022 - val_loss: 0.4059\n",
            "Epoch 21/50\n",
            "81081/81081 [==============================] - 77s 951us/step - loss: 0.3978 - val_loss: 0.3900\n",
            "Epoch 22/50\n",
            "81081/81081 [==============================] - 79s 969us/step - loss: 0.3963 - val_loss: 0.4862\n",
            "Epoch 23/50\n",
            "81081/81081 [==============================] - 78s 960us/step - loss: 0.3943 - val_loss: 0.3892\n",
            "Epoch 24/50\n",
            "81081/81081 [==============================] - 85s 1ms/step - loss: 0.3962 - val_loss: 0.3963\n",
            "Epoch 25/50\n",
            "81081/81081 [==============================] - 78s 965us/step - loss: 0.3962 - val_loss: 0.3861\n",
            "Epoch 26/50\n",
            "81081/81081 [==============================] - 80s 988us/step - loss: 0.3951 - val_loss: 0.3831\n",
            "Epoch 27/50\n",
            "81081/81081 [==============================] - 78s 965us/step - loss: 0.3970 - val_loss: 0.3859\n",
            "Epoch 28/50\n",
            "81081/81081 [==============================] - 78s 966us/step - loss: 0.3976 - val_loss: 0.3902\n",
            "Epoch 29/50\n",
            "81081/81081 [==============================] - 78s 956us/step - loss: 0.3971 - val_loss: 0.4156\n",
            "Epoch 30/50\n",
            "81081/81081 [==============================] - 79s 979us/step - loss: 0.3953 - val_loss: 0.3864\n",
            "Epoch 31/50\n",
            "81081/81081 [==============================] - 78s 965us/step - loss: 0.3932 - val_loss: 0.3864\n",
            "Epoch 32/50\n",
            "81081/81081 [==============================] - 78s 965us/step - loss: 0.3917 - val_loss: 0.3882\n",
            "Epoch 33/50\n",
            "81081/81081 [==============================] - 78s 964us/step - loss: 0.3936 - val_loss: 0.4068\n",
            "Epoch 34/50\n",
            "81081/81081 [==============================] - 80s 987us/step - loss: 0.3929 - val_loss: 0.4038\n",
            "Epoch 35/50\n",
            "81081/81081 [==============================] - 78s 960us/step - loss: 0.3922 - val_loss: 0.3915\n",
            "Epoch 36/50\n",
            "81081/81081 [==============================] - 78s 960us/step - loss: 0.3946 - val_loss: 0.4113\n",
            "Epoch 37/50\n",
            "81081/81081 [==============================] - 78s 959us/step - loss: 0.3956 - val_loss: 0.3955\n",
            "Epoch 38/50\n",
            "81081/81081 [==============================] - 80s 981us/step - loss: 0.3977 - val_loss: 0.4140\n",
            "Epoch 39/50\n",
            "81081/81081 [==============================] - 78s 960us/step - loss: 0.3975 - val_loss: 0.4207\n",
            "Epoch 40/50\n",
            "81081/81081 [==============================] - 78s 960us/step - loss: 0.3985 - val_loss: 0.3845\n",
            "Epoch 41/50\n",
            "81081/81081 [==============================] - 77s 950us/step - loss: 0.3940 - val_loss: 0.3994\n",
            "Epoch 42/50\n",
            "81081/81081 [==============================] - 80s 985us/step - loss: 0.3932 - val_loss: 0.3961\n",
            "Epoch 43/50\n",
            "81081/81081 [==============================] - 79s 969us/step - loss: 0.3935 - val_loss: 0.3986\n",
            "Epoch 44/50\n",
            "81081/81081 [==============================] - 77s 949us/step - loss: 0.3931 - val_loss: 0.3865\n",
            "Epoch 45/50\n",
            "81081/81081 [==============================] - 81s 994us/step - loss: 0.3929 - val_loss: 0.3907\n",
            "Epoch 46/50\n",
            "81081/81081 [==============================] - 80s 984us/step - loss: 0.3928 - val_loss: 0.3842\n",
            "Epoch 47/50\n",
            "81081/81081 [==============================] - 78s 956us/step - loss: 0.3929 - val_loss: 0.3877\n",
            "Epoch 48/50\n",
            "81081/81081 [==============================] - 77s 953us/step - loss: 0.3929 - val_loss: 0.3877\n",
            "Epoch 49/50\n",
            "81081/81081 [==============================] - 77s 953us/step - loss: 0.3921 - val_loss: 0.3855\n",
            "Epoch 50/50\n",
            "81081/81081 [==============================] - 78s 967us/step - loss: 0.3918 - val_loss: 0.3982\n"
          ],
          "name": "stdout"
        }
      ]
    },
    {
      "cell_type": "code",
      "metadata": {
        "id": "S3tNegqY9yN6"
      },
      "source": [
        "predict_rms = wider2.predict(X_test)\n",
        "predict_rms = predict_rms.flatten()"
      ],
      "execution_count": null,
      "outputs": []
    },
    {
      "cell_type": "code",
      "metadata": {
        "id": "WAqaQ6MDg1qg",
        "outputId": "743c93ed-0408-4f67-a97d-6fafbf842543",
        "colab": {
          "base_uri": "https://localhost:8080/",
          "height": 85
        }
      },
      "source": [
        "mse = mean_squared_error(y_test, predict_rms)\n",
        "mae = mean_absolute_error(y_test, predict_rms)\n",
        "r2 = r2_score(y_test, predict_rms)\n",
        "print(\"MSE (Mean Squared Error)       :\", mse)\n",
        "print(\"MAE (Mean Absolute Error)      :\", mae)\n",
        "print(\"r^2 score                      :\", r2)\n",
        "print('RMSE (Root Mean Squared Error  :', np.sqrt(mean_squared_error(y_test, predict_rms)))"
      ],
      "execution_count": null,
      "outputs": [
        {
          "output_type": "stream",
          "text": [
            "MSE (Mean Squared Error)       : 0.3982013759775319\n",
            "MAE (Mean Absolute Error)      : 0.42715909546468583\n",
            "r^2 score                      : 0.6028087727749032\n",
            "RMSE (Root Mean Squared Error  : 0.6310319928320053\n"
          ],
          "name": "stdout"
        }
      ]
    },
    {
      "cell_type": "code",
      "metadata": {
        "id": "A5UR0EUkg257",
        "outputId": "97e9244d-a63d-4440-f092-912ffbee36c7",
        "colab": {
          "base_uri": "https://localhost:8080/",
          "height": 364
        }
      },
      "source": [
        "plot_loss_new(history4)"
      ],
      "execution_count": null,
      "outputs": [
        {
          "output_type": "display_data",
          "data": {
            "image/png": "[encoded data removed]",
            "text/plain": [
              "<Figure size 432x288 with 1 Axes>"
            ]
          },
          "metadata": {
            "tags": [],
            "needs_background": "light"
          }
        },
        {
          "output_type": "stream",
          "text": [
            "Minimum Loss             : 31    0.391689\n",
            "Name: loss, dtype: float64\n",
            "\n",
            "Minimum Validation Loss  : 13    0.381953\n",
            "Name: val_loss, dtype: float64\n"
          ],
          "name": "stdout"
        }
      ]
    },
    {
      "cell_type": "markdown",
      "metadata": {
        "id": "Wib1UuAu46iL"
      },
      "source": [
        "Sweet spot berada pada epoch 13 dengan val_loss 0.381953"
      ]
    },
    {
      "cell_type": "markdown",
      "metadata": {
        "id": "1AAZM-IR5IlX"
      },
      "source": [
        "## **Kesimpulan**\n",
        "\n",
        "Notebook terbagi dalam 2 folder yaitu folder Bottle_Deep_Learning_(Linear_Regression_&_Baseline_Layer) batch_size 8.ipynb dan folder Bottle_Deep_Learning_(Deeper,_Wider,_Wider_SGD,_Wider_RMSprop) batch_size 8.ipynb\n",
        "\n",
        "1. R2 score model Linear Regression            : 0.3013722059652524\n",
        "2. R2 score Deep Learning Model Baseline Layer : 0.6277056974119382\n",
        "3. R2 score Deep Learning Model Deeper Layer   : 0.6343415821778486\n",
        "4. R2 score Deep Learning Model Wider Layer   : 0.6291402098032308\n",
        "5. R2 score Deep Learning Model Wider Layer SGD Optimizer   : 0.610669604967566\n",
        "6. R2 score Deep Learning Model Wider Layer RMSprop Optimizer : 0.6028087727749032\n",
        "\n",
        "Model terbaik adalah model Deep Learning dengan Deeper Layer dan Optimizer Adam walaupun nilai r2 scorenya masih berada di angka 0.63, mungkin dengan penambahan feature bisa meningkatkan nilai r2 scorenya. Setelah ini akan dilakukan training dengan batch size 64 dan 128 yang dapat ditemukan pada folder notebook Bottle_Deep_Learning_batch_size_64.ipynb dan Bottle_Deep_Learning_batch_size_128.ipynb"
      ]
    }
  ]
}