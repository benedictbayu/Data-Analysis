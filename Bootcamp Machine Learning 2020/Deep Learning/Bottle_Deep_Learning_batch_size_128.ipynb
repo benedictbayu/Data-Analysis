{
  "nbformat": 4,
  "nbformat_minor": 0,
  "metadata": {
    "colab": {
      "name": "Bottle_Deep_Learning_batch_size_128.ipynb",
      "provenance": []
    },
    "kernelspec": {
      "name": "python3",
      "display_name": "Python 3"
    },
    "accelerator": "TPU"
  },
  "cells": [
    {
      "cell_type": "markdown",
      "metadata": {
        "id": "0ulD_bgG2onc"
      },
      "source": [
        "# **Bottle Deep Learning Version**\n",
        "\n",
        "**Benedictus Bayu Pramudhito**\n",
        "\n",
        "**Batch size = 128**"
      ]
    },
    {
      "cell_type": "code",
      "metadata": {
        "id": "a2BgA5vDJGlA"
      },
      "source": [
        "import pandas as pd\n",
        "import numpy as np\n",
        "import matplotlib.pyplot as plt\n",
        "import seaborn as sns"
      ],
      "execution_count": null,
      "outputs": []
    },
    {
      "cell_type": "code",
      "metadata": {
        "id": "iHvG4QOOJWDX",
        "outputId": "74fa3b12-5c07-4409-b398-879c26e87075",
        "colab": {
          "base_uri": "https://localhost:8080/",
          "height": 425
        }
      },
      "source": [
        "import os\n",
        "print('\\n'.join(os.listdir(r'./drive/My Drive/Colab Test (Bootcamp ML 2020)')))"
      ],
      "execution_count": null,
      "outputs": [
        {
          "output_type": "stream",
          "text": [
            "bottle.csv\n",
            "References\n",
            "Untitled0.ipynb\n",
            "Week_1_Python_1.ipynb\n",
            "heart.csv\n",
            "pima-indians-diabetes.csv\n",
            "sonar.csv\n",
            "housing.csv\n",
            "winequality-white.csv\n",
            "auto.csv\n",
            "sales.csv\n",
            "birth.csv\n",
            "shampoo.csv\n",
            "daily-min-temperatures.csv\n",
            "Quiz\n",
            "customer.csv\n",
            "iris.csv\n",
            "iris (1).csv\n",
            "Bootcamp Images\n",
            "parkinsons\n",
            "numbers_dataset\n",
            "bottle-updated.csv\n",
            "auto-mpg.csv\n",
            "auto (1).csv\n"
          ],
          "name": "stdout"
        }
      ]
    },
    {
      "cell_type": "code",
      "metadata": {
        "id": "SlYa4T63Jgu2",
        "outputId": "88dd6a94-9d97-4286-9992-9fe6302c224e",
        "colab": {
          "base_uri": "https://localhost:8080/",
          "height": 204
        }
      },
      "source": [
        "df = pd.read_csv(r'./drive/My Drive/Colab Test (Bootcamp ML 2020)/bottle-updated.csv')\n",
        "df.head()"
      ],
      "execution_count": null,
      "outputs": [
        {
          "output_type": "execute_result",
          "data": {
            "text/html": [
              "<div>\n",
              "<style scoped>\n",
              "    .dataframe tbody tr th:only-of-type {\n",
              "        vertical-align: middle;\n",
              "    }\n",
              "\n",
              "    .dataframe tbody tr th {\n",
              "        vertical-align: top;\n",
              "    }\n",
              "\n",
              "    .dataframe thead th {\n",
              "        text-align: right;\n",
              "    }\n",
              "</style>\n",
              "<table border=\"1\" class=\"dataframe\">\n",
              "  <thead>\n",
              "    <tr style=\"text-align: right;\">\n",
              "      <th></th>\n",
              "      <th>Unnamed: 0</th>\n",
              "      <th>Depthm</th>\n",
              "      <th>T_degC</th>\n",
              "      <th>Salnty</th>\n",
              "    </tr>\n",
              "  </thead>\n",
              "  <tbody>\n",
              "    <tr>\n",
              "      <th>0</th>\n",
              "      <td>0</td>\n",
              "      <td>0</td>\n",
              "      <td>10.50</td>\n",
              "      <td>33.440</td>\n",
              "    </tr>\n",
              "    <tr>\n",
              "      <th>1</th>\n",
              "      <td>1</td>\n",
              "      <td>8</td>\n",
              "      <td>10.46</td>\n",
              "      <td>33.440</td>\n",
              "    </tr>\n",
              "    <tr>\n",
              "      <th>2</th>\n",
              "      <td>2</td>\n",
              "      <td>10</td>\n",
              "      <td>10.46</td>\n",
              "      <td>33.437</td>\n",
              "    </tr>\n",
              "    <tr>\n",
              "      <th>3</th>\n",
              "      <td>3</td>\n",
              "      <td>19</td>\n",
              "      <td>10.45</td>\n",
              "      <td>33.420</td>\n",
              "    </tr>\n",
              "    <tr>\n",
              "      <th>4</th>\n",
              "      <td>4</td>\n",
              "      <td>20</td>\n",
              "      <td>10.45</td>\n",
              "      <td>33.421</td>\n",
              "    </tr>\n",
              "  </tbody>\n",
              "</table>\n",
              "</div>"
            ],
            "text/plain": [
              "   Unnamed: 0  Depthm  T_degC  Salnty\n",
              "0           0       0   10.50  33.440\n",
              "1           1       8   10.46  33.440\n",
              "2           2      10   10.46  33.437\n",
              "3           3      19   10.45  33.420\n",
              "4           4      20   10.45  33.421"
            ]
          },
          "metadata": {
            "tags": []
          },
          "execution_count": 3
        }
      ]
    },
    {
      "cell_type": "code",
      "metadata": {
        "id": "aQvBDYEvJnDI",
        "outputId": "94dfe1b7-c340-4c4f-935c-39dc0d5fa317",
        "colab": {
          "base_uri": "https://localhost:8080/",
          "height": 34
        }
      },
      "source": [
        "df.shape"
      ],
      "execution_count": null,
      "outputs": [
        {
          "output_type": "execute_result",
          "data": {
            "text/plain": [
              "(864863, 4)"
            ]
          },
          "metadata": {
            "tags": []
          },
          "execution_count": 4
        }
      ]
    },
    {
      "cell_type": "code",
      "metadata": {
        "id": "WsKSUGpBJwDY",
        "outputId": "e7589874-bc44-4f93-85da-bc16b26e2d23",
        "colab": {
          "base_uri": "https://localhost:8080/",
          "height": 102
        }
      },
      "source": [
        "df.dtypes"
      ],
      "execution_count": null,
      "outputs": [
        {
          "output_type": "execute_result",
          "data": {
            "text/plain": [
              "Unnamed: 0      int64\n",
              "Depthm          int64\n",
              "T_degC        float64\n",
              "Salnty        float64\n",
              "dtype: object"
            ]
          },
          "metadata": {
            "tags": []
          },
          "execution_count": 5
        }
      ]
    },
    {
      "cell_type": "code",
      "metadata": {
        "id": "cHEbIFrOJp5d",
        "outputId": "6c2cd67c-a689-4e38-c9c6-a3cafbb4a102",
        "colab": {
          "base_uri": "https://localhost:8080/",
          "height": 173
        }
      },
      "source": [
        "df.describe().T"
      ],
      "execution_count": null,
      "outputs": [
        {
          "output_type": "execute_result",
          "data": {
            "text/html": [
              "<div>\n",
              "<style scoped>\n",
              "    .dataframe tbody tr th:only-of-type {\n",
              "        vertical-align: middle;\n",
              "    }\n",
              "\n",
              "    .dataframe tbody tr th {\n",
              "        vertical-align: top;\n",
              "    }\n",
              "\n",
              "    .dataframe thead th {\n",
              "        text-align: right;\n",
              "    }\n",
              "</style>\n",
              "<table border=\"1\" class=\"dataframe\">\n",
              "  <thead>\n",
              "    <tr style=\"text-align: right;\">\n",
              "      <th></th>\n",
              "      <th>count</th>\n",
              "      <th>mean</th>\n",
              "      <th>std</th>\n",
              "      <th>min</th>\n",
              "      <th>25%</th>\n",
              "      <th>50%</th>\n",
              "      <th>75%</th>\n",
              "      <th>max</th>\n",
              "    </tr>\n",
              "  </thead>\n",
              "  <tbody>\n",
              "    <tr>\n",
              "      <th>Unnamed: 0</th>\n",
              "      <td>864863.0</td>\n",
              "      <td>432431.000000</td>\n",
              "      <td>249664.587267</td>\n",
              "      <td>0.000</td>\n",
              "      <td>216215.500</td>\n",
              "      <td>432431.000</td>\n",
              "      <td>648646.5000</td>\n",
              "      <td>864862.000</td>\n",
              "    </tr>\n",
              "    <tr>\n",
              "      <th>Depthm</th>\n",
              "      <td>864863.0</td>\n",
              "      <td>226.831951</td>\n",
              "      <td>316.050259</td>\n",
              "      <td>0.000</td>\n",
              "      <td>46.000</td>\n",
              "      <td>125.000</td>\n",
              "      <td>300.0000</td>\n",
              "      <td>5351.000</td>\n",
              "    </tr>\n",
              "    <tr>\n",
              "      <th>T_degC</th>\n",
              "      <td>853900.0</td>\n",
              "      <td>10.799677</td>\n",
              "      <td>4.243825</td>\n",
              "      <td>1.440</td>\n",
              "      <td>7.680</td>\n",
              "      <td>10.060</td>\n",
              "      <td>13.8800</td>\n",
              "      <td>31.140</td>\n",
              "    </tr>\n",
              "    <tr>\n",
              "      <th>Salnty</th>\n",
              "      <td>817509.0</td>\n",
              "      <td>33.840350</td>\n",
              "      <td>0.461843</td>\n",
              "      <td>28.431</td>\n",
              "      <td>33.488</td>\n",
              "      <td>33.863</td>\n",
              "      <td>34.1969</td>\n",
              "      <td>37.034</td>\n",
              "    </tr>\n",
              "  </tbody>\n",
              "</table>\n",
              "</div>"
            ],
            "text/plain": [
              "               count           mean  ...          75%         max\n",
              "Unnamed: 0  864863.0  432431.000000  ...  648646.5000  864862.000\n",
              "Depthm      864863.0     226.831951  ...     300.0000    5351.000\n",
              "T_degC      853900.0      10.799677  ...      13.8800      31.140\n",
              "Salnty      817509.0      33.840350  ...      34.1969      37.034\n",
              "\n",
              "[4 rows x 8 columns]"
            ]
          },
          "metadata": {
            "tags": []
          },
          "execution_count": 6
        }
      ]
    },
    {
      "cell_type": "code",
      "metadata": {
        "id": "kyWIzrYVMGxF"
      },
      "source": [
        "df.drop(['Unnamed: 0'], axis=1, inplace=True)"
      ],
      "execution_count": null,
      "outputs": []
    },
    {
      "cell_type": "code",
      "metadata": {
        "id": "I7fEMffjMNQ8",
        "outputId": "c118c65e-614a-4346-e4d2-f62c1abee6e3",
        "colab": {
          "base_uri": "https://localhost:8080/",
          "height": 204
        }
      },
      "source": [
        "df.head()"
      ],
      "execution_count": null,
      "outputs": [
        {
          "output_type": "execute_result",
          "data": {
            "text/html": [
              "<div>\n",
              "<style scoped>\n",
              "    .dataframe tbody tr th:only-of-type {\n",
              "        vertical-align: middle;\n",
              "    }\n",
              "\n",
              "    .dataframe tbody tr th {\n",
              "        vertical-align: top;\n",
              "    }\n",
              "\n",
              "    .dataframe thead th {\n",
              "        text-align: right;\n",
              "    }\n",
              "</style>\n",
              "<table border=\"1\" class=\"dataframe\">\n",
              "  <thead>\n",
              "    <tr style=\"text-align: right;\">\n",
              "      <th></th>\n",
              "      <th>Depthm</th>\n",
              "      <th>T_degC</th>\n",
              "      <th>Salnty</th>\n",
              "    </tr>\n",
              "  </thead>\n",
              "  <tbody>\n",
              "    <tr>\n",
              "      <th>0</th>\n",
              "      <td>0</td>\n",
              "      <td>10.50</td>\n",
              "      <td>33.440</td>\n",
              "    </tr>\n",
              "    <tr>\n",
              "      <th>1</th>\n",
              "      <td>8</td>\n",
              "      <td>10.46</td>\n",
              "      <td>33.440</td>\n",
              "    </tr>\n",
              "    <tr>\n",
              "      <th>2</th>\n",
              "      <td>10</td>\n",
              "      <td>10.46</td>\n",
              "      <td>33.437</td>\n",
              "    </tr>\n",
              "    <tr>\n",
              "      <th>3</th>\n",
              "      <td>19</td>\n",
              "      <td>10.45</td>\n",
              "      <td>33.420</td>\n",
              "    </tr>\n",
              "    <tr>\n",
              "      <th>4</th>\n",
              "      <td>20</td>\n",
              "      <td>10.45</td>\n",
              "      <td>33.421</td>\n",
              "    </tr>\n",
              "  </tbody>\n",
              "</table>\n",
              "</div>"
            ],
            "text/plain": [
              "   Depthm  T_degC  Salnty\n",
              "0       0   10.50  33.440\n",
              "1       8   10.46  33.440\n",
              "2      10   10.46  33.437\n",
              "3      19   10.45  33.420\n",
              "4      20   10.45  33.421"
            ]
          },
          "metadata": {
            "tags": []
          },
          "execution_count": 8
        }
      ]
    },
    {
      "cell_type": "code",
      "metadata": {
        "id": "lBffDlvtMS7t",
        "outputId": "883a971e-9690-4a76-f9e1-7b34fb061c61",
        "colab": {
          "base_uri": "https://localhost:8080/",
          "height": 102
        }
      },
      "source": [
        "print(df.dtypes)\n",
        "df.shape"
      ],
      "execution_count": null,
      "outputs": [
        {
          "output_type": "stream",
          "text": [
            "Depthm      int64\n",
            "T_degC    float64\n",
            "Salnty    float64\n",
            "dtype: object\n"
          ],
          "name": "stdout"
        },
        {
          "output_type": "execute_result",
          "data": {
            "text/plain": [
              "(864863, 3)"
            ]
          },
          "metadata": {
            "tags": []
          },
          "execution_count": 9
        }
      ]
    },
    {
      "cell_type": "code",
      "metadata": {
        "id": "gUywwLjTMoSk",
        "outputId": "da5c8e4e-2fac-46f3-9fcd-f5c717ca2f11",
        "colab": {
          "base_uri": "https://localhost:8080/",
          "height": 142
        }
      },
      "source": [
        "nulls = df.isnull().sum().sort_values(ascending=False)\n",
        "percent = round(nulls/len(df)*100, 2)\n",
        "\n",
        "df_null = pd.DataFrame(columns=['Features', 'Total', 'Percent'])\n",
        "df_null['Features'] = nulls.index\n",
        "df_null['Total'] = nulls.values\n",
        "df_null['Percent'] = percent.values\n",
        "\n",
        "df_null"
      ],
      "execution_count": null,
      "outputs": [
        {
          "output_type": "execute_result",
          "data": {
            "text/html": [
              "<div>\n",
              "<style scoped>\n",
              "    .dataframe tbody tr th:only-of-type {\n",
              "        vertical-align: middle;\n",
              "    }\n",
              "\n",
              "    .dataframe tbody tr th {\n",
              "        vertical-align: top;\n",
              "    }\n",
              "\n",
              "    .dataframe thead th {\n",
              "        text-align: right;\n",
              "    }\n",
              "</style>\n",
              "<table border=\"1\" class=\"dataframe\">\n",
              "  <thead>\n",
              "    <tr style=\"text-align: right;\">\n",
              "      <th></th>\n",
              "      <th>Features</th>\n",
              "      <th>Total</th>\n",
              "      <th>Percent</th>\n",
              "    </tr>\n",
              "  </thead>\n",
              "  <tbody>\n",
              "    <tr>\n",
              "      <th>0</th>\n",
              "      <td>Salnty</td>\n",
              "      <td>47354</td>\n",
              "      <td>5.48</td>\n",
              "    </tr>\n",
              "    <tr>\n",
              "      <th>1</th>\n",
              "      <td>T_degC</td>\n",
              "      <td>10963</td>\n",
              "      <td>1.27</td>\n",
              "    </tr>\n",
              "    <tr>\n",
              "      <th>2</th>\n",
              "      <td>Depthm</td>\n",
              "      <td>0</td>\n",
              "      <td>0.00</td>\n",
              "    </tr>\n",
              "  </tbody>\n",
              "</table>\n",
              "</div>"
            ],
            "text/plain": [
              "  Features  Total  Percent\n",
              "0   Salnty  47354     5.48\n",
              "1   T_degC  10963     1.27\n",
              "2   Depthm      0     0.00"
            ]
          },
          "metadata": {
            "tags": []
          },
          "execution_count": 10
        }
      ]
    },
    {
      "cell_type": "code",
      "metadata": {
        "id": "D2gF5yY7Mq4w",
        "outputId": "39096ee7-dd74-4d49-a664-f31b9290bbc2",
        "colab": {
          "base_uri": "https://localhost:8080/",
          "height": 51
        }
      },
      "source": [
        "#Isi missing values\n",
        "for i in df.columns:\n",
        "  if df[i].isnull().sum() > 0:\n",
        "    df[i].fillna(df[i].mode().mean(), inplace=True)\n",
        "    print('Filled', i)"
      ],
      "execution_count": null,
      "outputs": [
        {
          "output_type": "stream",
          "text": [
            "Filled T_degC\n",
            "Filled Salnty\n"
          ],
          "name": "stdout"
        }
      ]
    },
    {
      "cell_type": "code",
      "metadata": {
        "id": "F9GE95qDOG7S",
        "outputId": "cddc88ca-f19f-4222-8c61-0228d9e3bf6f",
        "colab": {
          "base_uri": "https://localhost:8080/",
          "height": 142
        }
      },
      "source": [
        "#Cek ulang missing valuesnya\n",
        "nulls = df.isnull().sum().sort_values(ascending=False)\n",
        "percent = round(nulls/len(df)*100, 2)\n",
        "\n",
        "df_null = pd.DataFrame(columns=['Features', 'Total', 'Percent'])\n",
        "df_null['Features'] = nulls.index\n",
        "df_null['Total'] = nulls.values\n",
        "df_null['Percent'] = percent.values\n",
        "\n",
        "df_null"
      ],
      "execution_count": null,
      "outputs": [
        {
          "output_type": "execute_result",
          "data": {
            "text/html": [
              "<div>\n",
              "<style scoped>\n",
              "    .dataframe tbody tr th:only-of-type {\n",
              "        vertical-align: middle;\n",
              "    }\n",
              "\n",
              "    .dataframe tbody tr th {\n",
              "        vertical-align: top;\n",
              "    }\n",
              "\n",
              "    .dataframe thead th {\n",
              "        text-align: right;\n",
              "    }\n",
              "</style>\n",
              "<table border=\"1\" class=\"dataframe\">\n",
              "  <thead>\n",
              "    <tr style=\"text-align: right;\">\n",
              "      <th></th>\n",
              "      <th>Features</th>\n",
              "      <th>Total</th>\n",
              "      <th>Percent</th>\n",
              "    </tr>\n",
              "  </thead>\n",
              "  <tbody>\n",
              "    <tr>\n",
              "      <th>0</th>\n",
              "      <td>Salnty</td>\n",
              "      <td>0</td>\n",
              "      <td>0.0</td>\n",
              "    </tr>\n",
              "    <tr>\n",
              "      <th>1</th>\n",
              "      <td>T_degC</td>\n",
              "      <td>0</td>\n",
              "      <td>0.0</td>\n",
              "    </tr>\n",
              "    <tr>\n",
              "      <th>2</th>\n",
              "      <td>Depthm</td>\n",
              "      <td>0</td>\n",
              "      <td>0.0</td>\n",
              "    </tr>\n",
              "  </tbody>\n",
              "</table>\n",
              "</div>"
            ],
            "text/plain": [
              "  Features  Total  Percent\n",
              "0   Salnty      0      0.0\n",
              "1   T_degC      0      0.0\n",
              "2   Depthm      0      0.0"
            ]
          },
          "metadata": {
            "tags": []
          },
          "execution_count": 12
        }
      ]
    },
    {
      "cell_type": "code",
      "metadata": {
        "id": "_u13DjazQS-G",
        "outputId": "47878348-006f-42c0-ce80-90b7b25a5028",
        "colab": {
          "base_uri": "https://localhost:8080/",
          "height": 85
        }
      },
      "source": [
        "df.dtypes"
      ],
      "execution_count": null,
      "outputs": [
        {
          "output_type": "execute_result",
          "data": {
            "text/plain": [
              "Depthm      int64\n",
              "T_degC    float64\n",
              "Salnty    float64\n",
              "dtype: object"
            ]
          },
          "metadata": {
            "tags": []
          },
          "execution_count": 13
        }
      ]
    },
    {
      "cell_type": "code",
      "metadata": {
        "id": "eR9MPNmYQR7X",
        "outputId": "b960b69f-ebd7-403e-d804-caa083eaf882",
        "colab": {
          "base_uri": "https://localhost:8080/",
          "height": 1000
        }
      },
      "source": [
        "df_numbers = df.select_dtypes(include=['float64', 'int64'])\n",
        "\n",
        "df_numbers.hist(figsize=(18, 22), bins=50, xlabelsize=8, ylabelsize=8)\n",
        "plt.show()"
      ],
      "execution_count": null,
      "outputs": [
        {
          "output_type": "display_data",
          "data": {
            "image/png": "[encoded data removed]",
            "text/plain": [
              "<Figure size 1296x1584 with 4 Axes>"
            ]
          },
          "metadata": {
            "tags": [],
            "needs_background": "light"
          }
        }
      ]
    },
    {
      "cell_type": "code",
      "metadata": {
        "id": "mkVnf9IOQXpB",
        "outputId": "a1e2b758-1038-4f5a-8325-1725a3428f72",
        "colab": {
          "base_uri": "https://localhost:8080/",
          "height": 578
        }
      },
      "source": [
        "plt.figure(figsize=(10, 10))\n",
        "sns.heatmap(df.corr(), annot=True, annot_kws={'size':10}, cbar=True, square=True, fmt='.2f', cmap='Blues')\n",
        "plt.show()"
      ],
      "execution_count": null,
      "outputs": [
        {
          "output_type": "display_data",
          "data": {
            "image/png": "[encoded data removed]",
            "text/plain": [
              "<Figure size 720x720 with 2 Axes>"
            ]
          },
          "metadata": {
            "tags": [],
            "needs_background": "light"
          }
        }
      ]
    },
    {
      "cell_type": "markdown",
      "metadata": {
        "id": "iLXSBuojQEeH"
      },
      "source": [
        "## **Machine Learning Model**"
      ]
    },
    {
      "cell_type": "markdown",
      "metadata": {
        "id": "4cpIFxIFQfWZ"
      },
      "source": [
        "### **Linear Regression**"
      ]
    },
    {
      "cell_type": "markdown",
      "metadata": {
        "id": "lksywk7jQhrY"
      },
      "source": [
        "**Feature Engineering**"
      ]
    },
    {
      "cell_type": "code",
      "metadata": {
        "id": "qVRVvmjcQC4Z"
      },
      "source": [
        "from sklearn.preprocessing import StandardScaler, PowerTransformer, QuantileTransformer, MinMaxScaler, MaxAbsScaler, RobustScaler\n",
        "from sklearn.model_selection import train_test_split\n",
        "from sklearn.linear_model import LinearRegression\n",
        "from sklearn.metrics import mean_squared_error, mean_absolute_error, r2_score"
      ],
      "execution_count": null,
      "outputs": []
    },
    {
      "cell_type": "code",
      "metadata": {
        "id": "FhzJfpBrQjwR"
      },
      "source": [
        "X = df.drop(['Salnty'], axis=1)\n",
        "y = df['Salnty']"
      ],
      "execution_count": null,
      "outputs": []
    },
    {
      "cell_type": "code",
      "metadata": {
        "id": "JKbJqCSKQn0Q"
      },
      "source": [
        "stdr = StandardScaler()\n",
        "\n",
        "X = stdr.fit_transform(X.values)\n",
        "y = stdr.fit_transform(df['Salnty'].values.reshape(-1, 1)).flatten()"
      ],
      "execution_count": null,
      "outputs": []
    },
    {
      "cell_type": "code",
      "metadata": {
        "id": "vcr4Z5MLQyeR"
      },
      "source": [
        "X_train, X_test, y_train, y_test = train_test_split(X, y, test_size=0.25, random_state=10)"
      ],
      "execution_count": null,
      "outputs": []
    },
    {
      "cell_type": "code",
      "metadata": {
        "id": "IQ1tQZq7Q2mP",
        "outputId": "d1634281-0db5-4b78-a278-27f00f8fdf38",
        "colab": {
          "base_uri": "https://localhost:8080/",
          "height": 34
        }
      },
      "source": [
        "X_train.shape, X_test.shape, y_train.shape, y_test.shape"
      ],
      "execution_count": null,
      "outputs": [
        {
          "output_type": "execute_result",
          "data": {
            "text/plain": [
              "((648647, 2), (216216, 2), (648647,), (216216,))"
            ]
          },
          "metadata": {
            "tags": []
          },
          "execution_count": 20
        }
      ]
    },
    {
      "cell_type": "code",
      "metadata": {
        "id": "dCkMe422Q6-i"
      },
      "source": [
        "linreg = LinearRegression()\n",
        "linreg.fit(X_train, y_train)\n",
        "\n",
        "predict_lm = linreg.predict(X_test)"
      ],
      "execution_count": null,
      "outputs": []
    },
    {
      "cell_type": "code",
      "metadata": {
        "id": "-vmTZYV1RY1P",
        "outputId": "70720dd6-05a6-4928-c0c9-8b8f6f0f226d",
        "colab": {
          "base_uri": "https://localhost:8080/",
          "height": 85
        }
      },
      "source": [
        "mse = mean_squared_error(y_test, predict_lm)\n",
        "mae = mean_absolute_error(y_test, predict_lm)\n",
        "r2 = r2_score(y_test, predict_lm)\n",
        "print(\"MSE (Mean Squared Error)       :\", mse)\n",
        "print(\"MAE (Mean Absolute Error)      :\", mae)\n",
        "print(\"r^2 score                      :\", r2)\n",
        "print('RMSE (Root Mean Squared Error  :', np.sqrt(mean_squared_error(y_test, predict_lm)))"
      ],
      "execution_count": null,
      "outputs": [
        {
          "output_type": "stream",
          "text": [
            "MSE (Mean Squared Error)       : 0.7004045653886645\n",
            "MAE (Mean Absolute Error)      : 0.6007392481489782\n",
            "r^2 score                      : 0.3013722059652524\n",
            "RMSE (Root Mean Squared Error  : 0.8369017656742423\n"
          ],
          "name": "stdout"
        }
      ]
    },
    {
      "cell_type": "markdown",
      "metadata": {
        "id": "0P1KIVXnRcmy"
      },
      "source": [
        "## **Deep Learning Model**"
      ]
    },
    {
      "cell_type": "code",
      "metadata": {
        "id": "7zQvwsNpRZ9T"
      },
      "source": [
        "def plot_loss_new(history):\n",
        "  history_df = pd.DataFrame(history.history)\n",
        "\n",
        "  min_loss_index = history_df[history_df['loss']==min(history_df['loss'])].index.values\n",
        "  min_loss = history_df.loc[min_loss_index]['loss']\n",
        "  min_val_loss_index = history_df[history_df['val_loss']==min(history_df['val_loss'])].index.values\n",
        "  min_val_loss = history_df.loc[min_val_loss_index]['val_loss']\n",
        "\n",
        "  plt.plot(history.history['loss'], label='loss')\n",
        "  plt.plot(history.history['val_loss'], label='val_loss')\n",
        "  plt.plot(min_loss_index, min_loss, 'o', c='k', ms=4, label='min loss')\n",
        "  plt.plot(min_val_loss_index, min_val_loss, 'o', c='k', ms=4, label='min val_loss')\n",
        "  plt.xlabel('Epoch')\n",
        "  plt.ylabel('Loss')\n",
        "  plt.legend()\n",
        "  plt.grid(True)\n",
        "  plt.show()\n",
        "\n",
        "  print('Minimum Loss             :', min_loss)\n",
        "  print()\n",
        "  print('Minimum Validation Loss  :', min_val_loss)"
      ],
      "execution_count": null,
      "outputs": []
    },
    {
      "cell_type": "code",
      "metadata": {
        "id": "ZlTDcPlPRfL1"
      },
      "source": [
        "from tensorflow.keras.models import Sequential\n",
        "from tensorflow.keras.layers import Dense"
      ],
      "execution_count": null,
      "outputs": []
    },
    {
      "cell_type": "code",
      "metadata": {
        "id": "PcEtqbRdRgdq"
      },
      "source": [
        "model = Sequential()\n",
        "model.add(Dense(13, input_dim=2, kernel_initializer='normal', activation='relu'))\n",
        "model.add(Dense(1, kernel_initializer='normal'))\n",
        "\n",
        "model.compile(loss='mean_squared_error', optimizer='adam')"
      ],
      "execution_count": null,
      "outputs": []
    },
    {
      "cell_type": "code",
      "metadata": {
        "id": "4VvXkdDzRjlP",
        "outputId": "41bfbce4-3ff7-48c4-9ee0-e97134cadf4e",
        "colab": {
          "base_uri": "https://localhost:8080/",
          "height": 1000
        }
      },
      "source": [
        "history = model.fit(x=X_train, y=y_train, validation_data=(X_test, y_test), epochs=50, batch_size=128)"
      ],
      "execution_count": null,
      "outputs": [
        {
          "output_type": "stream",
          "text": [
            "Epoch 1/50\n",
            "5068/5068 [==============================] - 5s 1ms/step - loss: 0.4527 - val_loss: 0.4164\n",
            "Epoch 2/50\n",
            "5068/5068 [==============================] - 5s 984us/step - loss: 0.4078 - val_loss: 0.4080\n",
            "Epoch 3/50\n",
            "5068/5068 [==============================] - 5s 985us/step - loss: 0.4031 - val_loss: 0.4054\n",
            "Epoch 4/50\n",
            "5068/5068 [==============================] - 5s 977us/step - loss: 0.4013 - val_loss: 0.4045\n",
            "Epoch 5/50\n",
            "5068/5068 [==============================] - 5s 971us/step - loss: 0.4005 - val_loss: 0.4063\n",
            "Epoch 6/50\n",
            "5068/5068 [==============================] - 5s 965us/step - loss: 0.4001 - val_loss: 0.4033\n",
            "Epoch 7/50\n",
            "5068/5068 [==============================] - 5s 986us/step - loss: 0.3998 - val_loss: 0.4032\n",
            "Epoch 8/50\n",
            "5068/5068 [==============================] - 5s 960us/step - loss: 0.3996 - val_loss: 0.4031\n",
            "Epoch 9/50\n",
            "5068/5068 [==============================] - 5s 977us/step - loss: 0.3995 - val_loss: 0.4025\n",
            "Epoch 10/50\n",
            "5068/5068 [==============================] - 5s 967us/step - loss: 0.3994 - val_loss: 0.4039\n",
            "Epoch 11/50\n",
            "5068/5068 [==============================] - 5s 969us/step - loss: 0.3992 - val_loss: 0.4028\n",
            "Epoch 12/50\n",
            "5068/5068 [==============================] - 5s 968us/step - loss: 0.3991 - val_loss: 0.4022\n",
            "Epoch 13/50\n",
            "5068/5068 [==============================] - 5s 962us/step - loss: 0.3989 - val_loss: 0.4018\n",
            "Epoch 14/50\n",
            "5068/5068 [==============================] - 5s 965us/step - loss: 0.3988 - val_loss: 0.4020\n",
            "Epoch 15/50\n",
            "5068/5068 [==============================] - 5s 960us/step - loss: 0.3987 - val_loss: 0.4015\n",
            "Epoch 16/50\n",
            "5068/5068 [==============================] - 5s 979us/step - loss: 0.3987 - val_loss: 0.4018\n",
            "Epoch 17/50\n",
            "5068/5068 [==============================] - 5s 961us/step - loss: 0.3986 - val_loss: 0.4021\n",
            "Epoch 18/50\n",
            "5068/5068 [==============================] - 5s 963us/step - loss: 0.3985 - val_loss: 0.4025\n",
            "Epoch 19/50\n",
            "5068/5068 [==============================] - 5s 963us/step - loss: 0.3985 - val_loss: 0.4045\n",
            "Epoch 20/50\n",
            "5068/5068 [==============================] - 5s 963us/step - loss: 0.3984 - val_loss: 0.4021\n",
            "Epoch 21/50\n",
            "5068/5068 [==============================] - 5s 943us/step - loss: 0.3984 - val_loss: 0.4045\n",
            "Epoch 22/50\n",
            "5068/5068 [==============================] - 5s 954us/step - loss: 0.3982 - val_loss: 0.4021\n",
            "Epoch 23/50\n",
            "5068/5068 [==============================] - 5s 961us/step - loss: 0.3982 - val_loss: 0.4024\n",
            "Epoch 24/50\n",
            "5068/5068 [==============================] - 5s 968us/step - loss: 0.3982 - val_loss: 0.4022\n",
            "Epoch 25/50\n",
            "5068/5068 [==============================] - 5s 950us/step - loss: 0.3982 - val_loss: 0.4027\n",
            "Epoch 26/50\n",
            "5068/5068 [==============================] - 5s 974us/step - loss: 0.3981 - val_loss: 0.4025\n",
            "Epoch 27/50\n",
            "5068/5068 [==============================] - 5s 988us/step - loss: 0.3981 - val_loss: 0.4013\n",
            "Epoch 28/50\n",
            "5068/5068 [==============================] - 5s 972us/step - loss: 0.3981 - val_loss: 0.4009\n",
            "Epoch 29/50\n",
            "5068/5068 [==============================] - 5s 964us/step - loss: 0.3980 - val_loss: 0.4007\n",
            "Epoch 30/50\n",
            "5068/5068 [==============================] - 5s 954us/step - loss: 0.3980 - val_loss: 0.4008\n",
            "Epoch 31/50\n",
            "5068/5068 [==============================] - 5s 956us/step - loss: 0.3979 - val_loss: 0.4008\n",
            "Epoch 32/50\n",
            "5068/5068 [==============================] - 5s 959us/step - loss: 0.3979 - val_loss: 0.4007\n",
            "Epoch 33/50\n",
            "5068/5068 [==============================] - 5s 967us/step - loss: 0.3979 - val_loss: 0.4017\n",
            "Epoch 34/50\n",
            "5068/5068 [==============================] - 5s 970us/step - loss: 0.3979 - val_loss: 0.4014\n",
            "Epoch 35/50\n",
            "5068/5068 [==============================] - 5s 964us/step - loss: 0.3978 - val_loss: 0.4012\n",
            "Epoch 36/50\n",
            "5068/5068 [==============================] - 5s 945us/step - loss: 0.3977 - val_loss: 0.4008\n",
            "Epoch 37/50\n",
            "5068/5068 [==============================] - 5s 972us/step - loss: 0.3977 - val_loss: 0.4016\n",
            "Epoch 38/50\n",
            "5068/5068 [==============================] - 5s 954us/step - loss: 0.3978 - val_loss: 0.4010\n",
            "Epoch 39/50\n",
            "5068/5068 [==============================] - 5s 976us/step - loss: 0.3977 - val_loss: 0.4010\n",
            "Epoch 40/50\n",
            "5068/5068 [==============================] - 5s 993us/step - loss: 0.3977 - val_loss: 0.4004\n",
            "Epoch 41/50\n",
            "5068/5068 [==============================] - 6s 1ms/step - loss: 0.3977 - val_loss: 0.4013\n",
            "Epoch 42/50\n",
            "5068/5068 [==============================] - 5s 1ms/step - loss: 0.3976 - val_loss: 0.4010\n",
            "Epoch 43/50\n",
            "5068/5068 [==============================] - 5s 955us/step - loss: 0.3977 - val_loss: 0.4003\n",
            "Epoch 44/50\n",
            "5068/5068 [==============================] - 5s 968us/step - loss: 0.3976 - val_loss: 0.4004\n",
            "Epoch 45/50\n",
            "5068/5068 [==============================] - 5s 960us/step - loss: 0.3976 - val_loss: 0.4010\n",
            "Epoch 46/50\n",
            "5068/5068 [==============================] - 5s 950us/step - loss: 0.3975 - val_loss: 0.4006\n",
            "Epoch 47/50\n",
            "5068/5068 [==============================] - 5s 947us/step - loss: 0.3975 - val_loss: 0.4011\n",
            "Epoch 48/50\n",
            "5068/5068 [==============================] - 5s 964us/step - loss: 0.3974 - val_loss: 0.3998\n",
            "Epoch 49/50\n",
            "5068/5068 [==============================] - 5s 964us/step - loss: 0.3973 - val_loss: 0.3998\n",
            "Epoch 50/50\n",
            "5068/5068 [==============================] - 5s 998us/step - loss: 0.3971 - val_loss: 0.3999\n"
          ],
          "name": "stdout"
        }
      ]
    },
    {
      "cell_type": "code",
      "metadata": {
        "id": "_faukDObRo0L"
      },
      "source": [
        "predict_dl = model.predict(X_test)\n",
        "predict_dl = predict_dl.flatten()"
      ],
      "execution_count": null,
      "outputs": []
    },
    {
      "cell_type": "code",
      "metadata": {
        "id": "7011XdaExkz3",
        "outputId": "77b149c9-eca3-4877-d95d-816d6ec0e711",
        "colab": {
          "base_uri": "https://localhost:8080/",
          "height": 85
        }
      },
      "source": [
        "mse = mean_squared_error(y_test, predict_dl)\n",
        "mae = mean_absolute_error(y_test, predict_dl)\n",
        "r2 = r2_score(y_test, predict_dl)\n",
        "print(\"MSE (Mean Squared Error)       :\", mse)\n",
        "print(\"MAE (Mean Absolute Error)      :\", mae)\n",
        "print(\"r^2 score                      :\", r2)\n",
        "print('RMSE (Root Mean Squared Error) :', np.sqrt(mean_squared_error(y_test, predict_dl)))"
      ],
      "execution_count": null,
      "outputs": [
        {
          "output_type": "stream",
          "text": [
            "MSE (Mean Squared Error)       : 0.39994222586688133\n",
            "MAE (Mean Absolute Error)      : 0.4275612215701828\n",
            "r^2 score                      : 0.601072339036401\n",
            "RMSE (Root Mean Squared Error) : 0.632409855921681\n"
          ],
          "name": "stdout"
        }
      ]
    },
    {
      "cell_type": "code",
      "metadata": {
        "id": "ObsbkaETxnyR",
        "outputId": "8b211e04-2a82-47fd-adfd-fac0dd5b6cf2",
        "colab": {
          "base_uri": "https://localhost:8080/",
          "height": 364
        }
      },
      "source": [
        "plot_loss_new(history)"
      ],
      "execution_count": null,
      "outputs": [
        {
          "output_type": "display_data",
          "data": {
            "image/png": "[encoded data removed]",
            "text/plain": [
              "<Figure size 432x288 with 1 Axes>"
            ]
          },
          "metadata": {
            "tags": [],
            "needs_background": "light"
          }
        },
        {
          "output_type": "stream",
          "text": [
            "Minimum Loss             : 49    0.397119\n",
            "Name: loss, dtype: float64\n",
            "\n",
            "Minimum Validation Loss  : 48    0.399793\n",
            "Name: val_loss, dtype: float64\n"
          ],
          "name": "stdout"
        }
      ]
    },
    {
      "cell_type": "markdown",
      "metadata": {
        "id": "HmmI5ydL7Xn7"
      },
      "source": [
        "Sweet spot berada di epoch 48 dengan val_loss 0.399793"
      ]
    },
    {
      "cell_type": "markdown",
      "metadata": {
        "id": "OfRXSkIu6DzE"
      },
      "source": [
        "## **Deep Learning with Deeper Model**"
      ]
    },
    {
      "cell_type": "code",
      "metadata": {
        "id": "A5uWP9QX4oIj"
      },
      "source": [
        "deeper = Sequential()\n",
        "deeper.add(Dense(13, input_dim=2, kernel_initializer='normal', activation='relu'))\n",
        "deeper.add(Dense(6, kernel_initializer='normal', activation='relu'))\n",
        "deeper.add(Dense(1, kernel_initializer='normal'))\n",
        "\n",
        "deeper.compile(loss='mean_squared_error', optimizer='adam')"
      ],
      "execution_count": null,
      "outputs": []
    },
    {
      "cell_type": "code",
      "metadata": {
        "id": "owSBo_Jz4oR0",
        "outputId": "8540bcc5-88a7-4883-d216-30060f9c24a3",
        "colab": {
          "base_uri": "https://localhost:8080/",
          "height": 255
        }
      },
      "source": [
        "deeper.summary()"
      ],
      "execution_count": null,
      "outputs": [
        {
          "output_type": "stream",
          "text": [
            "Model: \"sequential_2\"\n",
            "_________________________________________________________________\n",
            "Layer (type)                 Output Shape              Param #   \n",
            "=================================================================\n",
            "dense_5 (Dense)              (None, 13)                39        \n",
            "_________________________________________________________________\n",
            "dense_6 (Dense)              (None, 6)                 84        \n",
            "_________________________________________________________________\n",
            "dense_7 (Dense)              (None, 1)                 7         \n",
            "=================================================================\n",
            "Total params: 130\n",
            "Trainable params: 130\n",
            "Non-trainable params: 0\n",
            "_________________________________________________________________\n"
          ],
          "name": "stdout"
        }
      ]
    },
    {
      "cell_type": "code",
      "metadata": {
        "id": "QTsmgLu84oN6",
        "outputId": "a1646478-ebda-46b3-8357-6f90fd9be3c7",
        "colab": {
          "base_uri": "https://localhost:8080/",
          "height": 1000
        }
      },
      "source": [
        "history1 = deeper.fit(x=X_train, y=y_train, validation_data=(X_test, y_test), epochs=50, batch_size=128)"
      ],
      "execution_count": null,
      "outputs": [
        {
          "output_type": "stream",
          "text": [
            "Epoch 1/50\n",
            "5068/5068 [==============================] - 6s 1ms/step - loss: 0.4090 - val_loss: 0.3762\n",
            "Epoch 2/50\n",
            "5068/5068 [==============================] - 6s 1ms/step - loss: 0.3692 - val_loss: 0.3724\n",
            "Epoch 3/50\n",
            "5068/5068 [==============================] - 6s 1ms/step - loss: 0.3675 - val_loss: 0.3717\n",
            "Epoch 4/50\n",
            "5068/5068 [==============================] - 6s 1ms/step - loss: 0.3667 - val_loss: 0.3710\n",
            "Epoch 5/50\n",
            "5068/5068 [==============================] - 6s 1ms/step - loss: 0.3663 - val_loss: 0.3702\n",
            "Epoch 6/50\n",
            "5068/5068 [==============================] - 6s 1ms/step - loss: 0.3660 - val_loss: 0.3703\n",
            "Epoch 7/50\n",
            "5068/5068 [==============================] - 5s 1ms/step - loss: 0.3657 - val_loss: 0.3702\n",
            "Epoch 8/50\n",
            "5068/5068 [==============================] - 5s 1ms/step - loss: 0.3655 - val_loss: 0.3717\n",
            "Epoch 9/50\n",
            "5068/5068 [==============================] - 6s 1ms/step - loss: 0.3653 - val_loss: 0.3705\n",
            "Epoch 10/50\n",
            "5068/5068 [==============================] - 6s 1ms/step - loss: 0.3653 - val_loss: 0.3695\n",
            "Epoch 11/50\n",
            "5068/5068 [==============================] - 6s 1ms/step - loss: 0.3652 - val_loss: 0.3699\n",
            "Epoch 12/50\n",
            "5068/5068 [==============================] - 6s 1ms/step - loss: 0.3652 - val_loss: 0.3691\n",
            "Epoch 13/50\n",
            "5068/5068 [==============================] - 5s 1ms/step - loss: 0.3650 - val_loss: 0.3691\n",
            "Epoch 14/50\n",
            "5068/5068 [==============================] - 6s 1ms/step - loss: 0.3651 - val_loss: 0.3711\n",
            "Epoch 15/50\n",
            "5068/5068 [==============================] - 6s 1ms/step - loss: 0.3651 - val_loss: 0.3695\n",
            "Epoch 16/50\n",
            "5068/5068 [==============================] - 6s 1ms/step - loss: 0.3650 - val_loss: 0.3710\n",
            "Epoch 17/50\n",
            "5068/5068 [==============================] - 6s 1ms/step - loss: 0.3650 - val_loss: 0.3691\n",
            "Epoch 18/50\n",
            "5068/5068 [==============================] - 6s 1ms/step - loss: 0.3649 - val_loss: 0.3690\n",
            "Epoch 19/50\n",
            "5068/5068 [==============================] - 6s 1ms/step - loss: 0.3649 - val_loss: 0.3696\n",
            "Epoch 20/50\n",
            "5068/5068 [==============================] - 6s 1ms/step - loss: 0.3648 - val_loss: 0.3691\n",
            "Epoch 21/50\n",
            "5068/5068 [==============================] - 6s 1ms/step - loss: 0.3650 - val_loss: 0.3685\n",
            "Epoch 22/50\n",
            "5068/5068 [==============================] - 5s 1ms/step - loss: 0.3649 - val_loss: 0.3701\n",
            "Epoch 23/50\n",
            "5068/5068 [==============================] - 6s 1ms/step - loss: 0.3648 - val_loss: 0.3689\n",
            "Epoch 24/50\n",
            "5068/5068 [==============================] - 6s 1ms/step - loss: 0.3649 - val_loss: 0.3692\n",
            "Epoch 25/50\n",
            "5068/5068 [==============================] - 6s 1ms/step - loss: 0.3649 - val_loss: 0.3691\n",
            "Epoch 26/50\n",
            "5068/5068 [==============================] - 6s 1ms/step - loss: 0.3648 - val_loss: 0.3687\n",
            "Epoch 27/50\n",
            "5068/5068 [==============================] - 6s 1ms/step - loss: 0.3648 - val_loss: 0.3691\n",
            "Epoch 28/50\n",
            "5068/5068 [==============================] - 6s 1ms/step - loss: 0.3647 - val_loss: 0.3689\n",
            "Epoch 29/50\n",
            "5068/5068 [==============================] - 6s 1ms/step - loss: 0.3648 - val_loss: 0.3686\n",
            "Epoch 30/50\n",
            "5068/5068 [==============================] - 6s 1ms/step - loss: 0.3648 - val_loss: 0.3689\n",
            "Epoch 31/50\n",
            "5068/5068 [==============================] - 6s 1ms/step - loss: 0.3647 - val_loss: 0.3686\n",
            "Epoch 32/50\n",
            "5068/5068 [==============================] - 6s 1ms/step - loss: 0.3647 - val_loss: 0.3699\n",
            "Epoch 33/50\n",
            "5068/5068 [==============================] - 6s 1ms/step - loss: 0.3647 - val_loss: 0.3697\n",
            "Epoch 34/50\n",
            "5068/5068 [==============================] - 6s 1ms/step - loss: 0.3646 - val_loss: 0.3687\n",
            "Epoch 35/50\n",
            "5068/5068 [==============================] - 7s 1ms/step - loss: 0.3645 - val_loss: 0.3685\n",
            "Epoch 36/50\n",
            "5068/5068 [==============================] - 6s 1ms/step - loss: 0.3645 - val_loss: 0.3692\n",
            "Epoch 37/50\n",
            "5068/5068 [==============================] - 5s 1ms/step - loss: 0.3645 - val_loss: 0.3682\n",
            "Epoch 38/50\n",
            "5068/5068 [==============================] - 6s 1ms/step - loss: 0.3645 - val_loss: 0.3690\n",
            "Epoch 39/50\n",
            "5068/5068 [==============================] - 6s 1ms/step - loss: 0.3645 - val_loss: 0.3685\n",
            "Epoch 40/50\n",
            "5068/5068 [==============================] - 6s 1ms/step - loss: 0.3644 - val_loss: 0.3687\n",
            "Epoch 41/50\n",
            "5068/5068 [==============================] - 5s 1ms/step - loss: 0.3645 - val_loss: 0.3686\n",
            "Epoch 42/50\n",
            "5068/5068 [==============================] - 6s 1ms/step - loss: 0.3644 - val_loss: 0.3687\n",
            "Epoch 43/50\n",
            "5068/5068 [==============================] - 6s 1ms/step - loss: 0.3644 - val_loss: 0.3685\n",
            "Epoch 44/50\n",
            "5068/5068 [==============================] - 6s 1ms/step - loss: 0.3643 - val_loss: 0.3683\n",
            "Epoch 45/50\n",
            "5068/5068 [==============================] - 6s 1ms/step - loss: 0.3641 - val_loss: 0.3698\n",
            "Epoch 46/50\n",
            "5068/5068 [==============================] - 6s 1ms/step - loss: 0.3638 - val_loss: 0.3673\n",
            "Epoch 47/50\n",
            "5068/5068 [==============================] - 6s 1ms/step - loss: 0.3637 - val_loss: 0.3677\n",
            "Epoch 48/50\n",
            "5068/5068 [==============================] - 6s 1ms/step - loss: 0.3635 - val_loss: 0.3671\n",
            "Epoch 49/50\n",
            "5068/5068 [==============================] - 6s 1ms/step - loss: 0.3635 - val_loss: 0.3672\n",
            "Epoch 50/50\n",
            "5068/5068 [==============================] - 6s 1ms/step - loss: 0.3634 - val_loss: 0.3671\n"
          ],
          "name": "stdout"
        }
      ]
    },
    {
      "cell_type": "code",
      "metadata": {
        "id": "0UIzjF2u4n8O"
      },
      "source": [
        "predict_deep = deeper.predict(X_test)\n",
        "predict_deep = predict_deep.flatten()"
      ],
      "execution_count": null,
      "outputs": []
    },
    {
      "cell_type": "code",
      "metadata": {
        "id": "DREhp-b155v_",
        "outputId": "d0975a3f-4d06-4e37-92da-dbf72f5c9edb",
        "colab": {
          "base_uri": "https://localhost:8080/",
          "height": 85
        }
      },
      "source": [
        "mse = mean_squared_error(y_test, predict_deep)\n",
        "mae = mean_absolute_error(y_test, predict_deep)\n",
        "r2 = r2_score(y_test, predict_deep)\n",
        "print(\"MSE (Mean Squared Error)         :\", mse)\n",
        "print(\"MAE (Mean Absolute Error)        :\", mae)\n",
        "print(\"r^2 score                        :\", r2)\n",
        "print('RMSE (Root Mean Squared Error)   :', np.sqrt(mean_squared_error(y_test, predict_deep)))"
      ],
      "execution_count": null,
      "outputs": [
        {
          "output_type": "stream",
          "text": [
            "MSE (Mean Squared Error)         : 0.3671206767688389\n",
            "MAE (Mean Absolute Error)        : 0.4043702394268557\n",
            "r^2 score                        : 0.6338106271291468\n",
            "RMSE (Root Mean Squared Error)   : 0.6059048413479124\n"
          ],
          "name": "stdout"
        }
      ]
    },
    {
      "cell_type": "code",
      "metadata": {
        "id": "B2OsLMQH57PP",
        "outputId": "7368b262-f1e9-4e51-b9de-c3bef67e9410",
        "colab": {
          "base_uri": "https://localhost:8080/",
          "height": 364
        }
      },
      "source": [
        "plot_loss_new(history1)"
      ],
      "execution_count": null,
      "outputs": [
        {
          "output_type": "display_data",
          "data": {
            "image/png": "[encoded data removed]",
            "text/plain": [
              "<Figure size 432x288 with 1 Axes>"
            ]
          },
          "metadata": {
            "tags": [],
            "needs_background": "light"
          }
        },
        {
          "output_type": "stream",
          "text": [
            "Minimum Loss             : 49    0.363398\n",
            "Name: loss, dtype: float64\n",
            "\n",
            "Minimum Validation Loss  : 47    0.367054\n",
            "Name: val_loss, dtype: float64\n"
          ],
          "name": "stdout"
        }
      ]
    },
    {
      "cell_type": "markdown",
      "metadata": {
        "id": "XtgKy3Nd7Rrt"
      },
      "source": [
        "Sweet spot berada di epoch 47 dengan val_loss 0.367054"
      ]
    },
    {
      "cell_type": "markdown",
      "metadata": {
        "id": "iBoSmtre6HhM"
      },
      "source": [
        "## **Deep Learning with Wider Model**"
      ]
    },
    {
      "cell_type": "code",
      "metadata": {
        "id": "vdfrdgvT6BF4"
      },
      "source": [
        "wider = Sequential()\n",
        "wider.add(Dense(20, input_dim=2, kernel_initializer='normal', activation='relu'))\n",
        "wider.add(Dense(1, kernel_initializer='normal'))\n",
        "\n",
        "wider.compile(loss='mean_squared_error', optimizer='adam')"
      ],
      "execution_count": null,
      "outputs": []
    },
    {
      "cell_type": "code",
      "metadata": {
        "id": "F249YvgF6MCh",
        "outputId": "18ba27f7-b06c-4f69-8537-fe09d83a260d",
        "colab": {
          "base_uri": "https://localhost:8080/",
          "height": 221
        }
      },
      "source": [
        "wider.summary()"
      ],
      "execution_count": null,
      "outputs": [
        {
          "output_type": "stream",
          "text": [
            "Model: \"sequential_4\"\n",
            "_________________________________________________________________\n",
            "Layer (type)                 Output Shape              Param #   \n",
            "=================================================================\n",
            "dense_10 (Dense)             (None, 20)                60        \n",
            "_________________________________________________________________\n",
            "dense_11 (Dense)             (None, 1)                 21        \n",
            "=================================================================\n",
            "Total params: 81\n",
            "Trainable params: 81\n",
            "Non-trainable params: 0\n",
            "_________________________________________________________________\n"
          ],
          "name": "stdout"
        }
      ]
    },
    {
      "cell_type": "code",
      "metadata": {
        "id": "2MU5TI7D6NNz",
        "outputId": "36e2b4bf-2dc6-4565-d522-a1acb0b2769b",
        "colab": {
          "base_uri": "https://localhost:8080/",
          "height": 1000
        }
      },
      "source": [
        "history2 = wider.fit(x=X_train, y=y_train, validation_data=(X_test, y_test), epochs=50, batch_size=128)"
      ],
      "execution_count": null,
      "outputs": [
        {
          "output_type": "stream",
          "text": [
            "Epoch 1/50\n",
            "5068/5068 [==============================] - 5s 991us/step - loss: 0.4346 - val_loss: 0.4096\n",
            "Epoch 2/50\n",
            "5068/5068 [==============================] - 5s 963us/step - loss: 0.4008 - val_loss: 0.4024\n",
            "Epoch 3/50\n",
            "5068/5068 [==============================] - 5s 1000us/step - loss: 0.3984 - val_loss: 0.4021\n",
            "Epoch 4/50\n",
            "5068/5068 [==============================] - 5s 976us/step - loss: 0.3977 - val_loss: 0.4009\n",
            "Epoch 5/50\n",
            "5068/5068 [==============================] - 5s 977us/step - loss: 0.3975 - val_loss: 0.4004\n",
            "Epoch 6/50\n",
            "5068/5068 [==============================] - 5s 984us/step - loss: 0.3971 - val_loss: 0.4008\n",
            "Epoch 7/50\n",
            "5068/5068 [==============================] - 5s 984us/step - loss: 0.3969 - val_loss: 0.3997\n",
            "Epoch 8/50\n",
            "5068/5068 [==============================] - 5s 993us/step - loss: 0.3967 - val_loss: 0.4003\n",
            "Epoch 9/50\n",
            "5068/5068 [==============================] - 5s 985us/step - loss: 0.3965 - val_loss: 0.3994\n",
            "Epoch 10/50\n",
            "5068/5068 [==============================] - 5s 982us/step - loss: 0.3966 - val_loss: 0.4012\n",
            "Epoch 11/50\n",
            "5068/5068 [==============================] - 5s 984us/step - loss: 0.3965 - val_loss: 0.4021\n",
            "Epoch 12/50\n",
            "5068/5068 [==============================] - 5s 976us/step - loss: 0.3964 - val_loss: 0.4007\n",
            "Epoch 13/50\n",
            "5068/5068 [==============================] - 5s 975us/step - loss: 0.3962 - val_loss: 0.3993\n",
            "Epoch 14/50\n",
            "5068/5068 [==============================] - 5s 982us/step - loss: 0.3961 - val_loss: 0.3992\n",
            "Epoch 15/50\n",
            "5068/5068 [==============================] - 5s 974us/step - loss: 0.3961 - val_loss: 0.4000\n",
            "Epoch 16/50\n",
            "5068/5068 [==============================] - 5s 975us/step - loss: 0.3961 - val_loss: 0.3997\n",
            "Epoch 17/50\n",
            "5068/5068 [==============================] - 5s 966us/step - loss: 0.3960 - val_loss: 0.3992\n",
            "Epoch 18/50\n",
            "5068/5068 [==============================] - 5s 971us/step - loss: 0.3960 - val_loss: 0.3994\n",
            "Epoch 19/50\n",
            "5068/5068 [==============================] - 5s 970us/step - loss: 0.3960 - val_loss: 0.3995\n",
            "Epoch 20/50\n",
            "5068/5068 [==============================] - 5s 965us/step - loss: 0.3960 - val_loss: 0.3991\n",
            "Epoch 21/50\n",
            "5068/5068 [==============================] - 5s 990us/step - loss: 0.3960 - val_loss: 0.3990\n",
            "Epoch 22/50\n",
            "5068/5068 [==============================] - 5s 972us/step - loss: 0.3959 - val_loss: 0.3994\n",
            "Epoch 23/50\n",
            "5068/5068 [==============================] - 5s 969us/step - loss: 0.3960 - val_loss: 0.3992\n",
            "Epoch 24/50\n",
            "5068/5068 [==============================] - 5s 984us/step - loss: 0.3959 - val_loss: 0.3990\n",
            "Epoch 25/50\n",
            "5068/5068 [==============================] - 5s 956us/step - loss: 0.3959 - val_loss: 0.3990\n",
            "Epoch 26/50\n",
            "5068/5068 [==============================] - 5s 1ms/step - loss: 0.3959 - val_loss: 0.4011\n",
            "Epoch 27/50\n",
            "5068/5068 [==============================] - 6s 1ms/step - loss: 0.3959 - val_loss: 0.3989\n",
            "Epoch 28/50\n",
            "5068/5068 [==============================] - 5s 1ms/step - loss: 0.3959 - val_loss: 0.3995\n",
            "Epoch 29/50\n",
            "5068/5068 [==============================] - 5s 960us/step - loss: 0.3959 - val_loss: 0.3996\n",
            "Epoch 30/50\n",
            "5068/5068 [==============================] - 5s 979us/step - loss: 0.3959 - val_loss: 0.3989\n",
            "Epoch 31/50\n",
            "5068/5068 [==============================] - 5s 970us/step - loss: 0.3959 - val_loss: 0.3991\n",
            "Epoch 32/50\n",
            "5068/5068 [==============================] - 5s 966us/step - loss: 0.3959 - val_loss: 0.3989\n",
            "Epoch 33/50\n",
            "5068/5068 [==============================] - 5s 976us/step - loss: 0.3959 - val_loss: 0.3989\n",
            "Epoch 34/50\n",
            "5068/5068 [==============================] - 5s 1ms/step - loss: 0.3959 - val_loss: 0.4029\n",
            "Epoch 35/50\n",
            "5068/5068 [==============================] - 5s 1ms/step - loss: 0.3959 - val_loss: 0.3989\n",
            "Epoch 36/50\n",
            "5068/5068 [==============================] - 5s 949us/step - loss: 0.3958 - val_loss: 0.4001\n",
            "Epoch 37/50\n",
            "5068/5068 [==============================] - 5s 970us/step - loss: 0.3958 - val_loss: 0.3999\n",
            "Epoch 38/50\n",
            "5068/5068 [==============================] - 5s 971us/step - loss: 0.3959 - val_loss: 0.3991\n",
            "Epoch 39/50\n",
            "5068/5068 [==============================] - 5s 965us/step - loss: 0.3957 - val_loss: 0.3987\n",
            "Epoch 40/50\n",
            "5068/5068 [==============================] - 5s 957us/step - loss: 0.3958 - val_loss: 0.3989\n",
            "Epoch 41/50\n",
            "5068/5068 [==============================] - 5s 950us/step - loss: 0.3959 - val_loss: 0.3992\n",
            "Epoch 42/50\n",
            "5068/5068 [==============================] - 5s 951us/step - loss: 0.3957 - val_loss: 0.4003\n",
            "Epoch 43/50\n",
            "5068/5068 [==============================] - 5s 964us/step - loss: 0.3958 - val_loss: 0.3991\n",
            "Epoch 44/50\n",
            "5068/5068 [==============================] - 5s 974us/step - loss: 0.3957 - val_loss: 0.3998\n",
            "Epoch 45/50\n",
            "5068/5068 [==============================] - 5s 987us/step - loss: 0.3958 - val_loss: 0.3987\n",
            "Epoch 46/50\n",
            "5068/5068 [==============================] - 5s 977us/step - loss: 0.3958 - val_loss: 0.4003\n",
            "Epoch 47/50\n",
            "5068/5068 [==============================] - 5s 947us/step - loss: 0.3957 - val_loss: 0.3988\n",
            "Epoch 48/50\n",
            "5068/5068 [==============================] - 5s 972us/step - loss: 0.3958 - val_loss: 0.3989\n",
            "Epoch 49/50\n",
            "5068/5068 [==============================] - 5s 964us/step - loss: 0.3958 - val_loss: 0.3987\n",
            "Epoch 50/50\n",
            "5068/5068 [==============================] - 5s 966us/step - loss: 0.3957 - val_loss: 0.4026\n"
          ],
          "name": "stdout"
        }
      ]
    },
    {
      "cell_type": "code",
      "metadata": {
        "id": "TkfGmV4R6OvT"
      },
      "source": [
        "predict_wide = wider.predict(X_test)\n",
        "predict_wide = predict_wide.flatten()"
      ],
      "execution_count": null,
      "outputs": []
    },
    {
      "cell_type": "code",
      "metadata": {
        "id": "PGjEs3Br7Tow",
        "outputId": "8948eb44-feb1-4bf9-d3c7-8840ecc919c4",
        "colab": {
          "base_uri": "https://localhost:8080/",
          "height": 85
        }
      },
      "source": [
        "mse = mean_squared_error(y_test, predict_wide)\n",
        "mae = mean_absolute_error(y_test, predict_wide)\n",
        "r2 = r2_score(y_test, predict_wide)\n",
        "print(\"MSE (Mean Squared Error)       :\", mse)\n",
        "print(\"MAE (Mean Absolute Error)      :\", mae)\n",
        "print(\"r^2 score                      :\", r2)\n",
        "print('RMSE (Root Mean Squared Error  :', np.sqrt(mean_squared_error(y_test, predict_wide)))"
      ],
      "execution_count": null,
      "outputs": [
        {
          "output_type": "stream",
          "text": [
            "MSE (Mean Squared Error)       : 0.40264859796058816\n",
            "MAE (Mean Absolute Error)      : 0.4321424813349835\n",
            "r^2 score                      : 0.598372832409664\n",
            "RMSE (Root Mean Squared Error  : 0.6345459778145223\n"
          ],
          "name": "stdout"
        }
      ]
    },
    {
      "cell_type": "code",
      "metadata": {
        "id": "qIzPBjm87U6E",
        "outputId": "72592a02-2640-4c2a-ace8-13e8fb24ef11",
        "colab": {
          "base_uri": "https://localhost:8080/",
          "height": 364
        }
      },
      "source": [
        "plot_loss_new(history2)"
      ],
      "execution_count": null,
      "outputs": [
        {
          "output_type": "display_data",
          "data": {
            "image/png": "[encoded data removed]",
            "text/plain": [
              "<Figure size 432x288 with 1 Axes>"
            ]
          },
          "metadata": {
            "tags": [],
            "needs_background": "light"
          }
        },
        {
          "output_type": "stream",
          "text": [
            "Minimum Loss             : 46    0.395713\n",
            "Name: loss, dtype: float64\n",
            "\n",
            "Minimum Validation Loss  : 44    0.398672\n",
            "Name: val_loss, dtype: float64\n"
          ],
          "name": "stdout"
        }
      ]
    },
    {
      "cell_type": "markdown",
      "metadata": {
        "id": "PxmqyQ9X7JTq"
      },
      "source": [
        "Sweet spot berada di epoch 44 dengan val_loss 0.398672"
      ]
    },
    {
      "cell_type": "markdown",
      "metadata": {
        "id": "l0ah21B-8_82"
      },
      "source": [
        "## **Deep Learning Wider Model with SGD Optimizer**"
      ]
    },
    {
      "cell_type": "code",
      "metadata": {
        "id": "3TmdTLK27bEq"
      },
      "source": [
        "from tensorflow.keras.optimizers import SGD"
      ],
      "execution_count": null,
      "outputs": []
    },
    {
      "cell_type": "code",
      "metadata": {
        "id": "Y4f4nH787XzV",
        "outputId": "63530ade-b33f-4e24-e341-568bae0d8c6a",
        "colab": {
          "base_uri": "https://localhost:8080/",
          "height": 221
        }
      },
      "source": [
        "wider1 = Sequential()\n",
        "wider1.add(Dense(20, input_dim=2, kernel_initializer='normal', activation='relu'))\n",
        "wider1.add(Dense(1, kernel_initializer='normal'))\n",
        "\n",
        "opt = SGD(learning_rate=0.001, momentum=0.9)\n",
        "\n",
        "wider1.compile(loss='mean_squared_error', optimizer=opt)\n",
        "\n",
        "wider1.summary()"
      ],
      "execution_count": null,
      "outputs": [
        {
          "output_type": "stream",
          "text": [
            "Model: \"sequential_5\"\n",
            "_________________________________________________________________\n",
            "Layer (type)                 Output Shape              Param #   \n",
            "=================================================================\n",
            "dense_12 (Dense)             (None, 20)                60        \n",
            "_________________________________________________________________\n",
            "dense_13 (Dense)             (None, 1)                 21        \n",
            "=================================================================\n",
            "Total params: 81\n",
            "Trainable params: 81\n",
            "Non-trainable params: 0\n",
            "_________________________________________________________________\n"
          ],
          "name": "stdout"
        }
      ]
    },
    {
      "cell_type": "code",
      "metadata": {
        "id": "mV26KZ-U7cXV",
        "outputId": "d3fcfcda-02df-49b0-ba14-40e2f4ce3207",
        "colab": {
          "base_uri": "https://localhost:8080/",
          "height": 1000
        }
      },
      "source": [
        "history3 = wider1.fit(x=X_train, y=y_train, validation_data=(X_test, y_test), epochs=50, batch_size=128)"
      ],
      "execution_count": null,
      "outputs": [
        {
          "output_type": "stream",
          "text": [
            "Epoch 1/50\n",
            "5068/5068 [==============================] - 5s 980us/step - loss: 0.4922 - val_loss: 0.4270\n",
            "Epoch 2/50\n",
            "5068/5068 [==============================] - 5s 980us/step - loss: 0.4155 - val_loss: 0.4154\n",
            "Epoch 3/50\n",
            "5068/5068 [==============================] - 5s 975us/step - loss: 0.4095 - val_loss: 0.4107\n",
            "Epoch 4/50\n",
            "5068/5068 [==============================] - 5s 963us/step - loss: 0.4042 - val_loss: 0.4066\n",
            "Epoch 5/50\n",
            "5068/5068 [==============================] - 5s 962us/step - loss: 0.4007 - val_loss: 0.4031\n",
            "Epoch 6/50\n",
            "5068/5068 [==============================] - 5s 948us/step - loss: 0.3978 - val_loss: 0.3999\n",
            "Epoch 7/50\n",
            "5068/5068 [==============================] - 5s 961us/step - loss: 0.3938 - val_loss: 0.3959\n",
            "Epoch 8/50\n",
            "5068/5068 [==============================] - 5s 960us/step - loss: 0.3886 - val_loss: 0.3897\n",
            "Epoch 9/50\n",
            "5068/5068 [==============================] - 5s 954us/step - loss: 0.3838 - val_loss: 0.3856\n",
            "Epoch 10/50\n",
            "5068/5068 [==============================] - 5s 956us/step - loss: 0.3804 - val_loss: 0.3833\n",
            "Epoch 11/50\n",
            "5068/5068 [==============================] - 5s 970us/step - loss: 0.3781 - val_loss: 0.3812\n",
            "Epoch 12/50\n",
            "5068/5068 [==============================] - 5s 944us/step - loss: 0.3766 - val_loss: 0.3804\n",
            "Epoch 13/50\n",
            "5068/5068 [==============================] - 5s 951us/step - loss: 0.3753 - val_loss: 0.3786\n",
            "Epoch 14/50\n",
            "5068/5068 [==============================] - 5s 966us/step - loss: 0.3744 - val_loss: 0.3789\n",
            "Epoch 15/50\n",
            "5068/5068 [==============================] - 5s 961us/step - loss: 0.3737 - val_loss: 0.3778\n",
            "Epoch 16/50\n",
            "5068/5068 [==============================] - 5s 962us/step - loss: 0.3733 - val_loss: 0.3798\n",
            "Epoch 17/50\n",
            "5068/5068 [==============================] - 5s 969us/step - loss: 0.3730 - val_loss: 0.3770\n",
            "Epoch 18/50\n",
            "5068/5068 [==============================] - 5s 956us/step - loss: 0.3727 - val_loss: 0.3769\n",
            "Epoch 19/50\n",
            "5068/5068 [==============================] - 5s 953us/step - loss: 0.3725 - val_loss: 0.3767\n",
            "Epoch 20/50\n",
            "5068/5068 [==============================] - 5s 963us/step - loss: 0.3722 - val_loss: 0.3764\n",
            "Epoch 21/50\n",
            "5068/5068 [==============================] - 5s 969us/step - loss: 0.3720 - val_loss: 0.3762\n",
            "Epoch 22/50\n",
            "5068/5068 [==============================] - 5s 958us/step - loss: 0.3719 - val_loss: 0.3758\n",
            "Epoch 23/50\n",
            "5068/5068 [==============================] - 7s 1ms/step - loss: 0.3718 - val_loss: 0.3759\n",
            "Epoch 24/50\n",
            "5068/5068 [==============================] - 7s 1ms/step - loss: 0.3716 - val_loss: 0.3759\n",
            "Epoch 25/50\n",
            "5068/5068 [==============================] - 5s 1000us/step - loss: 0.3714 - val_loss: 0.3754\n",
            "Epoch 26/50\n",
            "5068/5068 [==============================] - 5s 989us/step - loss: 0.3714 - val_loss: 0.3770\n",
            "Epoch 27/50\n",
            "5068/5068 [==============================] - 5s 978us/step - loss: 0.3712 - val_loss: 0.3766\n",
            "Epoch 28/50\n",
            "5068/5068 [==============================] - 5s 964us/step - loss: 0.3711 - val_loss: 0.3762\n",
            "Epoch 29/50\n",
            "5068/5068 [==============================] - 5s 963us/step - loss: 0.3710 - val_loss: 0.3750\n",
            "Epoch 30/50\n",
            "5068/5068 [==============================] - 5s 1ms/step - loss: 0.3708 - val_loss: 0.3753\n",
            "Epoch 31/50\n",
            "5068/5068 [==============================] - 5s 1ms/step - loss: 0.3709 - val_loss: 0.3749\n",
            "Epoch 32/50\n",
            "5068/5068 [==============================] - 5s 963us/step - loss: 0.3707 - val_loss: 0.3747\n",
            "Epoch 33/50\n",
            "5068/5068 [==============================] - 5s 977us/step - loss: 0.3705 - val_loss: 0.3753\n",
            "Epoch 34/50\n",
            "5068/5068 [==============================] - 5s 966us/step - loss: 0.3704 - val_loss: 0.3748\n",
            "Epoch 35/50\n",
            "5068/5068 [==============================] - 5s 950us/step - loss: 0.3702 - val_loss: 0.3743\n",
            "Epoch 36/50\n",
            "5068/5068 [==============================] - 5s 969us/step - loss: 0.3703 - val_loss: 0.3751\n",
            "Epoch 37/50\n",
            "5068/5068 [==============================] - 5s 962us/step - loss: 0.3702 - val_loss: 0.3756\n",
            "Epoch 38/50\n",
            "5068/5068 [==============================] - 5s 975us/step - loss: 0.3700 - val_loss: 0.3748\n",
            "Epoch 39/50\n",
            "5068/5068 [==============================] - 5s 965us/step - loss: 0.3701 - val_loss: 0.3743\n",
            "Epoch 40/50\n",
            "5068/5068 [==============================] - 5s 968us/step - loss: 0.3701 - val_loss: 0.3746\n",
            "Epoch 41/50\n",
            "5068/5068 [==============================] - 5s 963us/step - loss: 0.3700 - val_loss: 0.3741\n",
            "Epoch 42/50\n",
            "5068/5068 [==============================] - 5s 964us/step - loss: 0.3700 - val_loss: 0.3749\n",
            "Epoch 43/50\n",
            "5068/5068 [==============================] - 5s 968us/step - loss: 0.3699 - val_loss: 0.3755\n",
            "Epoch 44/50\n",
            "5068/5068 [==============================] - 5s 970us/step - loss: 0.3699 - val_loss: 0.3742\n",
            "Epoch 45/50\n",
            "5068/5068 [==============================] - 5s 969us/step - loss: 0.3699 - val_loss: 0.3758\n",
            "Epoch 46/50\n",
            "5068/5068 [==============================] - 5s 983us/step - loss: 0.3699 - val_loss: 0.3742\n",
            "Epoch 47/50\n",
            "5068/5068 [==============================] - 5s 972us/step - loss: 0.3700 - val_loss: 0.3749\n",
            "Epoch 48/50\n",
            "5068/5068 [==============================] - 5s 973us/step - loss: 0.3700 - val_loss: 0.3753\n",
            "Epoch 49/50\n",
            "5068/5068 [==============================] - 5s 960us/step - loss: 0.3699 - val_loss: 0.3739\n",
            "Epoch 50/50\n",
            "5068/5068 [==============================] - 5s 963us/step - loss: 0.3700 - val_loss: 0.3739\n"
          ],
          "name": "stdout"
        }
      ]
    },
    {
      "cell_type": "code",
      "metadata": {
        "id": "zS3T6bBo7hC6"
      },
      "source": [
        "predict_sgd = wider1.predict(X_test)\n",
        "predict_sgd = predict_sgd.flatten()"
      ],
      "execution_count": null,
      "outputs": []
    },
    {
      "cell_type": "code",
      "metadata": {
        "id": "5s62OiWA8snw",
        "outputId": "7f1415f7-6355-4438-9b65-0bc42086a7e4",
        "colab": {
          "base_uri": "https://localhost:8080/",
          "height": 85
        }
      },
      "source": [
        "mse = mean_squared_error(y_test, predict_sgd)\n",
        "mae = mean_absolute_error(y_test, predict_sgd)\n",
        "r2 = r2_score(y_test, predict_sgd)\n",
        "print(\"MSE (Mean Squared Error)       :\", mse)\n",
        "print(\"MAE (Mean Absolute Error)      :\", mae)\n",
        "print(\"r^2 score                      :\", r2)\n",
        "print('RMSE (Root Mean Squared Error  :', np.sqrt(mean_squared_error(y_test, predict_sgd)))"
      ],
      "execution_count": null,
      "outputs": [
        {
          "output_type": "stream",
          "text": [
            "MSE (Mean Squared Error)       : 0.37388403488602884\n",
            "MAE (Mean Absolute Error)      : 0.4072561373203482\n",
            "r^2 score                      : 0.6270644261544895\n",
            "RMSE (Root Mean Squared Error  : 0.6114605750872486\n"
          ],
          "name": "stdout"
        }
      ]
    },
    {
      "cell_type": "code",
      "metadata": {
        "id": "PfwZnbvC8w3b",
        "outputId": "c0a2b79d-4a1d-4871-f90d-93ab93e43f6f",
        "colab": {
          "base_uri": "https://localhost:8080/",
          "height": 364
        }
      },
      "source": [
        "plot_loss_new(history3)"
      ],
      "execution_count": null,
      "outputs": [
        {
          "output_type": "display_data",
          "data": {
            "image/png": "[encoded data removed]",
            "text/plain": [
              "<Figure size 432x288 with 1 Axes>"
            ]
          },
          "metadata": {
            "tags": [],
            "needs_background": "light"
          }
        },
        {
          "output_type": "stream",
          "text": [
            "Minimum Loss             : 43    0.369877\n",
            "Name: loss, dtype: float64\n",
            "\n",
            "Minimum Validation Loss  : 49    0.373884\n",
            "Name: val_loss, dtype: float64\n"
          ],
          "name": "stdout"
        }
      ]
    },
    {
      "cell_type": "markdown",
      "metadata": {
        "id": "Xg0aVCIf7DOt"
      },
      "source": [
        "Sweet spot berada di epoch 49 dengan val_loss 0.373884"
      ]
    },
    {
      "cell_type": "markdown",
      "metadata": {
        "id": "6Tlv7bL69C-h"
      },
      "source": [
        "## **Deep Learning Wider Model with RMSprop Optimizer**"
      ]
    },
    {
      "cell_type": "code",
      "metadata": {
        "id": "Ptuqmwkl8041"
      },
      "source": [
        "from tensorflow.keras.optimizers import RMSprop"
      ],
      "execution_count": null,
      "outputs": []
    },
    {
      "cell_type": "code",
      "metadata": {
        "id": "rqffKU1V9HyY",
        "outputId": "7724c197-eb64-49d6-872c-ba461ea86685",
        "colab": {
          "base_uri": "https://localhost:8080/",
          "height": 221
        }
      },
      "source": [
        "wider2 = Sequential()\n",
        "wider2.add(Dense(20, input_dim=2, kernel_initializer='normal', activation='relu'))\n",
        "wider2.add(Dense(1, kernel_initializer='normal'))\n",
        "\n",
        "opt = RMSprop(learning_rate=0.001, momentum=0.9)\n",
        "\n",
        "wider2.compile(loss='mean_squared_error', optimizer=opt)\n",
        "\n",
        "wider2.summary()"
      ],
      "execution_count": null,
      "outputs": [
        {
          "output_type": "stream",
          "text": [
            "Model: \"sequential_6\"\n",
            "_________________________________________________________________\n",
            "Layer (type)                 Output Shape              Param #   \n",
            "=================================================================\n",
            "dense_14 (Dense)             (None, 20)                60        \n",
            "_________________________________________________________________\n",
            "dense_15 (Dense)             (None, 1)                 21        \n",
            "=================================================================\n",
            "Total params: 81\n",
            "Trainable params: 81\n",
            "Non-trainable params: 0\n",
            "_________________________________________________________________\n"
          ],
          "name": "stdout"
        }
      ]
    },
    {
      "cell_type": "code",
      "metadata": {
        "id": "VM72ey3Q9N3c",
        "outputId": "731ebd55-ea70-4e48-9a94-572718a8d523",
        "colab": {
          "base_uri": "https://localhost:8080/",
          "height": 1000
        }
      },
      "source": [
        "history4 = wider2.fit(x=X_train, y=y_train, validation_data=(X_test, y_test), epochs=50, batch_size=128)"
      ],
      "execution_count": null,
      "outputs": [
        {
          "output_type": "stream",
          "text": [
            "Epoch 1/50\n",
            "5068/5068 [==============================] - 5s 1ms/step - loss: 0.4094 - val_loss: 0.4021\n",
            "Epoch 2/50\n",
            "5068/5068 [==============================] - 5s 1ms/step - loss: 0.4043 - val_loss: 0.4096\n",
            "Epoch 3/50\n",
            "5068/5068 [==============================] - 5s 1ms/step - loss: 0.4013 - val_loss: 0.4019\n",
            "Epoch 4/50\n",
            "5068/5068 [==============================] - 5s 986us/step - loss: 0.3847 - val_loss: 0.4061\n",
            "Epoch 5/50\n",
            "5068/5068 [==============================] - 5s 1ms/step - loss: 0.3792 - val_loss: 0.3901\n",
            "Epoch 6/50\n",
            "5068/5068 [==============================] - 5s 991us/step - loss: 0.3777 - val_loss: 0.3787\n",
            "Epoch 7/50\n",
            "5068/5068 [==============================] - 5s 995us/step - loss: 0.3768 - val_loss: 0.3800\n",
            "Epoch 8/50\n",
            "5068/5068 [==============================] - 5s 991us/step - loss: 0.3769 - val_loss: 0.3821\n",
            "Epoch 9/50\n",
            "5068/5068 [==============================] - 5s 990us/step - loss: 0.3751 - val_loss: 0.3931\n",
            "Epoch 10/50\n",
            "5068/5068 [==============================] - 5s 993us/step - loss: 0.3742 - val_loss: 0.3777\n",
            "Epoch 11/50\n",
            "5068/5068 [==============================] - 5s 996us/step - loss: 0.3738 - val_loss: 0.3753\n",
            "Epoch 12/50\n",
            "5068/5068 [==============================] - 5s 981us/step - loss: 0.3741 - val_loss: 0.3734\n",
            "Epoch 13/50\n",
            "5068/5068 [==============================] - 5s 983us/step - loss: 0.3736 - val_loss: 0.3775\n",
            "Epoch 14/50\n",
            "5068/5068 [==============================] - 5s 993us/step - loss: 0.3739 - val_loss: 0.3754\n",
            "Epoch 15/50\n",
            "5068/5068 [==============================] - 5s 1ms/step - loss: 0.3737 - val_loss: 0.3774\n",
            "Epoch 16/50\n",
            "5068/5068 [==============================] - 5s 1ms/step - loss: 0.3725 - val_loss: 0.3831\n",
            "Epoch 17/50\n",
            "5068/5068 [==============================] - 5s 985us/step - loss: 0.3720 - val_loss: 0.3702\n",
            "Epoch 18/50\n",
            "5068/5068 [==============================] - 5s 1ms/step - loss: 0.3718 - val_loss: 0.3847\n",
            "Epoch 19/50\n",
            "5068/5068 [==============================] - 5s 1ms/step - loss: 0.3719 - val_loss: 0.3788\n",
            "Epoch 20/50\n",
            "5068/5068 [==============================] - 5s 1ms/step - loss: 0.3717 - val_loss: 0.3771\n",
            "Epoch 21/50\n",
            "5068/5068 [==============================] - 5s 987us/step - loss: 0.3716 - val_loss: 0.3731\n",
            "Epoch 22/50\n",
            "5068/5068 [==============================] - 5s 978us/step - loss: 0.3713 - val_loss: 0.3777\n",
            "Epoch 23/50\n",
            "5068/5068 [==============================] - 5s 983us/step - loss: 0.3712 - val_loss: 0.3718\n",
            "Epoch 24/50\n",
            "5068/5068 [==============================] - 5s 982us/step - loss: 0.3706 - val_loss: 0.3735\n",
            "Epoch 25/50\n",
            "5068/5068 [==============================] - 5s 974us/step - loss: 0.3709 - val_loss: 0.3847\n",
            "Epoch 26/50\n",
            "5068/5068 [==============================] - 5s 1ms/step - loss: 0.3708 - val_loss: 0.3771\n",
            "Epoch 27/50\n",
            "5068/5068 [==============================] - 5s 1ms/step - loss: 0.3706 - val_loss: 0.3731\n",
            "Epoch 28/50\n",
            "5068/5068 [==============================] - 5s 984us/step - loss: 0.3707 - val_loss: 0.3763\n",
            "Epoch 29/50\n",
            "5068/5068 [==============================] - 5s 1ms/step - loss: 0.3702 - val_loss: 0.3792\n",
            "Epoch 30/50\n",
            "5068/5068 [==============================] - 5s 1ms/step - loss: 0.3697 - val_loss: 0.3751\n",
            "Epoch 31/50\n",
            "5068/5068 [==============================] - 5s 995us/step - loss: 0.3698 - val_loss: 0.3740\n",
            "Epoch 32/50\n",
            "5068/5068 [==============================] - 5s 999us/step - loss: 0.3699 - val_loss: 0.3720\n",
            "Epoch 33/50\n",
            "5068/5068 [==============================] - 5s 989us/step - loss: 0.3694 - val_loss: 0.3705\n",
            "Epoch 34/50\n",
            "5068/5068 [==============================] - 5s 1ms/step - loss: 0.3699 - val_loss: 0.3795\n",
            "Epoch 35/50\n",
            "5068/5068 [==============================] - 5s 987us/step - loss: 0.3697 - val_loss: 0.3704\n",
            "Epoch 36/50\n",
            "5068/5068 [==============================] - 5s 1ms/step - loss: 0.3697 - val_loss: 0.3764\n",
            "Epoch 37/50\n",
            "5068/5068 [==============================] - 5s 980us/step - loss: 0.3699 - val_loss: 0.3720\n",
            "Epoch 38/50\n",
            "5068/5068 [==============================] - 5s 1ms/step - loss: 0.3698 - val_loss: 0.3696\n",
            "Epoch 39/50\n",
            "5068/5068 [==============================] - 5s 999us/step - loss: 0.3696 - val_loss: 0.3827\n",
            "Epoch 40/50\n",
            "5068/5068 [==============================] - 5s 981us/step - loss: 0.3696 - val_loss: 0.3700\n",
            "Epoch 41/50\n",
            "5068/5068 [==============================] - 5s 985us/step - loss: 0.3698 - val_loss: 0.3837\n",
            "Epoch 42/50\n",
            "5068/5068 [==============================] - 5s 1ms/step - loss: 0.3699 - val_loss: 0.3721\n",
            "Epoch 43/50\n",
            "5068/5068 [==============================] - 5s 995us/step - loss: 0.3697 - val_loss: 0.3711\n",
            "Epoch 44/50\n",
            "5068/5068 [==============================] - 5s 988us/step - loss: 0.3694 - val_loss: 0.3736\n",
            "Epoch 45/50\n",
            "5068/5068 [==============================] - 5s 985us/step - loss: 0.3696 - val_loss: 0.3733\n",
            "Epoch 46/50\n",
            "5068/5068 [==============================] - 5s 967us/step - loss: 0.3695 - val_loss: 0.3774\n",
            "Epoch 47/50\n",
            "5068/5068 [==============================] - 6s 1ms/step - loss: 0.3694 - val_loss: 0.3708\n",
            "Epoch 48/50\n",
            "5068/5068 [==============================] - 8s 2ms/step - loss: 0.3694 - val_loss: 0.3693\n",
            "Epoch 49/50\n",
            "5068/5068 [==============================] - 6s 1ms/step - loss: 0.3696 - val_loss: 0.3709\n",
            "Epoch 50/50\n",
            "5068/5068 [==============================] - 6s 1ms/step - loss: 0.3696 - val_loss: 0.3728\n"
          ],
          "name": "stdout"
        }
      ]
    },
    {
      "cell_type": "code",
      "metadata": {
        "id": "uaziuVID9W0m"
      },
      "source": [
        "predict_rms = wider2.predict(X_test)\n",
        "predict_rms = predict_rms.flatten()"
      ],
      "execution_count": null,
      "outputs": []
    },
    {
      "cell_type": "code",
      "metadata": {
        "id": "bAObCL_19-Wm",
        "outputId": "bf194db2-6be2-493b-f036-a4a80c22e85d",
        "colab": {
          "base_uri": "https://localhost:8080/",
          "height": 85
        }
      },
      "source": [
        "mse = mean_squared_error(y_test, predict_rms)\n",
        "mae = mean_absolute_error(y_test, predict_rms)\n",
        "r2 = r2_score(y_test, predict_rms)\n",
        "print(\"MSE (Mean Squared Error)       :\", mse)\n",
        "print(\"MAE (Mean Absolute Error)      :\", mae)\n",
        "print(\"r^2 score                      :\", r2)\n",
        "print('RMSE (Root Mean Squared Error  :', np.sqrt(mean_squared_error(y_test, predict_rms)))"
      ],
      "execution_count": null,
      "outputs": [
        {
          "output_type": "stream",
          "text": [
            "MSE (Mean Squared Error)       : 0.37283520518416724\n",
            "MAE (Mean Absolute Error)      : 0.4212091695229127\n",
            "r^2 score                      : 0.628110595207547\n",
            "RMSE (Root Mean Squared Error  : 0.6106023298220924\n"
          ],
          "name": "stdout"
        }
      ]
    },
    {
      "cell_type": "code",
      "metadata": {
        "id": "mH6Zuxkc-A3f",
        "outputId": "7c96ae38-2d21-4caf-dcd7-c68f9f066a0a",
        "colab": {
          "base_uri": "https://localhost:8080/",
          "height": 364
        }
      },
      "source": [
        "plot_loss_new(history4)"
      ],
      "execution_count": null,
      "outputs": [
        {
          "output_type": "display_data",
          "data": {
            "image/png": "[encoded data removed]",
            "text/plain": [
              "<Figure size 432x288 with 1 Axes>"
            ]
          },
          "metadata": {
            "tags": [],
            "needs_background": "light"
          }
        },
        {
          "output_type": "stream",
          "text": [
            "Minimum Loss             : 47    0.369412\n",
            "Name: loss, dtype: float64\n",
            "\n",
            "Minimum Validation Loss  : 47    0.369311\n",
            "Name: val_loss, dtype: float64\n"
          ],
          "name": "stdout"
        }
      ]
    },
    {
      "cell_type": "markdown",
      "metadata": {
        "id": "DiRP_TW168JQ"
      },
      "source": [
        "Sweet spot berada di epoch 47 dengan val_loss 0.369311"
      ]
    },
    {
      "cell_type": "markdown",
      "metadata": {
        "id": "mnwG8aqB7dyy"
      },
      "source": [
        "## **Kesimpulan**\n",
        "\n",
        "Dengan versi batch size 128 ini diperoleh\n",
        "\n",
        "1. R2 score model Linear Regression            : 0.3013722059652524\n",
        "2. R2 score Deep Learning Model Baseline Layer : 0.601072339036401\n",
        "3. R2 score Deep Learning Model Deeper Layer   : 0.6338106271291468\n",
        "4. R2 score Deep Learning Model Wider Layer   : 0.598372832409664\n",
        "5. R2 score Deep Learning Model Wider Layer SGD Optimizer   : 0.6270644261544895\n",
        "6. R2 score Deep Learning Model Wider Layer RMSprop Optimizer : 0.628110595207547\n",
        "\n",
        "Model terbaik adalah model Deep Learning dengan Deeper Layer dan Optimizer Adam walaupun nilai r2 scorenya masih berada di angka 0.63. Dengan penambahan batch size menjadi 128 membuat proses training menjadi lebih cepat namun tidak menjamin hasilnya lebih baik karena seperti terlihat bahwa hasilnya pun masih berada diangka 0.63, tidak berbeda dengan batch size 8. Mungkin dengan penambahan feature bisa meningkatkan nilai r2 scorenya."
      ]
    }
  ]
}