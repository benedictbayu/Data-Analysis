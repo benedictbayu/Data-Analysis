{
  "nbformat": 4,
  "nbformat_minor": 0,
  "metadata": {
    "colab": {
      "name": "Bottle_Deep_Learning_(Linear_Regression, Baseline_Layer, Wider SGD, Wider RMSprop) batch_size 8, dropna Saltny.ipynb",
      "provenance": []
    },
    "kernelspec": {
      "name": "python3",
      "display_name": "Python 3"
    },
    "accelerator": "TPU"
  },
  "cells": [
    {
      "cell_type": "code",
      "metadata": {
        "id": "a2BgA5vDJGlA"
      },
      "source": [
        "import pandas as pd\n",
        "import numpy as np\n",
        "import matplotlib.pyplot as plt\n",
        "import seaborn as sns"
      ],
      "execution_count": 1,
      "outputs": []
    },
    {
      "cell_type": "code",
      "metadata": {
        "id": "FZ2cQY7qOCJt",
        "outputId": "a3489828-3fa8-49e8-9922-1c222b30cb22",
        "colab": {
          "base_uri": "https://localhost:8080/",
          "height": 34
        }
      },
      "source": [
        "from google.colab import drive\n",
        "drive.mount('/content/drive')"
      ],
      "execution_count": 6,
      "outputs": [
        {
          "output_type": "stream",
          "text": [
            "Mounted at /content/drive\n"
          ],
          "name": "stdout"
        }
      ]
    },
    {
      "cell_type": "code",
      "metadata": {
        "id": "iHvG4QOOJWDX",
        "outputId": "222bc50e-4712-47ce-c7da-6bffa271f224",
        "colab": {
          "base_uri": "https://localhost:8080/",
          "height": 425
        }
      },
      "source": [
        "import os\n",
        "print('\\n'.join(os.listdir(r'./drive/My Drive/Colab Test (Bootcamp ML 2020)')))"
      ],
      "execution_count": 7,
      "outputs": [
        {
          "output_type": "stream",
          "text": [
            "bottle.csv\n",
            "References\n",
            "Untitled0.ipynb\n",
            "Week_1_Python_1.ipynb\n",
            "heart.csv\n",
            "pima-indians-diabetes.csv\n",
            "sonar.csv\n",
            "housing.csv\n",
            "winequality-white.csv\n",
            "auto.csv\n",
            "sales.csv\n",
            "birth.csv\n",
            "shampoo.csv\n",
            "daily-min-temperatures.csv\n",
            "Quiz\n",
            "customer.csv\n",
            "iris.csv\n",
            "iris (1).csv\n",
            "Bootcamp Images\n",
            "parkinsons\n",
            "numbers_dataset\n",
            "bottle-updated.csv\n",
            "auto-mpg.csv\n",
            "auto (1).csv\n"
          ],
          "name": "stdout"
        }
      ]
    },
    {
      "cell_type": "code",
      "metadata": {
        "id": "SlYa4T63Jgu2",
        "outputId": "16d63a91-a6f5-4608-f4c4-aa80e8fb0e2f",
        "colab": {
          "base_uri": "https://localhost:8080/",
          "height": 204
        }
      },
      "source": [
        "df = pd.read_csv(r'./drive/My Drive/Colab Test (Bootcamp ML 2020)/bottle-updated.csv')\n",
        "df.head()"
      ],
      "execution_count": 8,
      "outputs": [
        {
          "output_type": "execute_result",
          "data": {
            "text/html": [
              "<div>\n",
              "<style scoped>\n",
              "    .dataframe tbody tr th:only-of-type {\n",
              "        vertical-align: middle;\n",
              "    }\n",
              "\n",
              "    .dataframe tbody tr th {\n",
              "        vertical-align: top;\n",
              "    }\n",
              "\n",
              "    .dataframe thead th {\n",
              "        text-align: right;\n",
              "    }\n",
              "</style>\n",
              "<table border=\"1\" class=\"dataframe\">\n",
              "  <thead>\n",
              "    <tr style=\"text-align: right;\">\n",
              "      <th></th>\n",
              "      <th>Unnamed: 0</th>\n",
              "      <th>Depthm</th>\n",
              "      <th>T_degC</th>\n",
              "      <th>Salnty</th>\n",
              "    </tr>\n",
              "  </thead>\n",
              "  <tbody>\n",
              "    <tr>\n",
              "      <th>0</th>\n",
              "      <td>0</td>\n",
              "      <td>0</td>\n",
              "      <td>10.50</td>\n",
              "      <td>33.440</td>\n",
              "    </tr>\n",
              "    <tr>\n",
              "      <th>1</th>\n",
              "      <td>1</td>\n",
              "      <td>8</td>\n",
              "      <td>10.46</td>\n",
              "      <td>33.440</td>\n",
              "    </tr>\n",
              "    <tr>\n",
              "      <th>2</th>\n",
              "      <td>2</td>\n",
              "      <td>10</td>\n",
              "      <td>10.46</td>\n",
              "      <td>33.437</td>\n",
              "    </tr>\n",
              "    <tr>\n",
              "      <th>3</th>\n",
              "      <td>3</td>\n",
              "      <td>19</td>\n",
              "      <td>10.45</td>\n",
              "      <td>33.420</td>\n",
              "    </tr>\n",
              "    <tr>\n",
              "      <th>4</th>\n",
              "      <td>4</td>\n",
              "      <td>20</td>\n",
              "      <td>10.45</td>\n",
              "      <td>33.421</td>\n",
              "    </tr>\n",
              "  </tbody>\n",
              "</table>\n",
              "</div>"
            ],
            "text/plain": [
              "   Unnamed: 0  Depthm  T_degC  Salnty\n",
              "0           0       0   10.50  33.440\n",
              "1           1       8   10.46  33.440\n",
              "2           2      10   10.46  33.437\n",
              "3           3      19   10.45  33.420\n",
              "4           4      20   10.45  33.421"
            ]
          },
          "metadata": {
            "tags": []
          },
          "execution_count": 8
        }
      ]
    },
    {
      "cell_type": "code",
      "metadata": {
        "id": "aQvBDYEvJnDI",
        "outputId": "ad6bbb6a-05d2-4e0d-cb10-ee513fec2479",
        "colab": {
          "base_uri": "https://localhost:8080/",
          "height": 34
        }
      },
      "source": [
        "df.shape"
      ],
      "execution_count": 9,
      "outputs": [
        {
          "output_type": "execute_result",
          "data": {
            "text/plain": [
              "(864863, 4)"
            ]
          },
          "metadata": {
            "tags": []
          },
          "execution_count": 9
        }
      ]
    },
    {
      "cell_type": "code",
      "metadata": {
        "id": "WsKSUGpBJwDY",
        "outputId": "457a7f28-93e1-4107-98e1-ff383664cca2",
        "colab": {
          "base_uri": "https://localhost:8080/",
          "height": 102
        }
      },
      "source": [
        "df.dtypes"
      ],
      "execution_count": 10,
      "outputs": [
        {
          "output_type": "execute_result",
          "data": {
            "text/plain": [
              "Unnamed: 0      int64\n",
              "Depthm          int64\n",
              "T_degC        float64\n",
              "Salnty        float64\n",
              "dtype: object"
            ]
          },
          "metadata": {
            "tags": []
          },
          "execution_count": 10
        }
      ]
    },
    {
      "cell_type": "code",
      "metadata": {
        "id": "cHEbIFrOJp5d",
        "outputId": "59693e9d-fe0a-46d2-fd90-8edd25a8ae56",
        "colab": {
          "base_uri": "https://localhost:8080/",
          "height": 173
        }
      },
      "source": [
        "df.describe().T"
      ],
      "execution_count": 11,
      "outputs": [
        {
          "output_type": "execute_result",
          "data": {
            "text/html": [
              "<div>\n",
              "<style scoped>\n",
              "    .dataframe tbody tr th:only-of-type {\n",
              "        vertical-align: middle;\n",
              "    }\n",
              "\n",
              "    .dataframe tbody tr th {\n",
              "        vertical-align: top;\n",
              "    }\n",
              "\n",
              "    .dataframe thead th {\n",
              "        text-align: right;\n",
              "    }\n",
              "</style>\n",
              "<table border=\"1\" class=\"dataframe\">\n",
              "  <thead>\n",
              "    <tr style=\"text-align: right;\">\n",
              "      <th></th>\n",
              "      <th>count</th>\n",
              "      <th>mean</th>\n",
              "      <th>std</th>\n",
              "      <th>min</th>\n",
              "      <th>25%</th>\n",
              "      <th>50%</th>\n",
              "      <th>75%</th>\n",
              "      <th>max</th>\n",
              "    </tr>\n",
              "  </thead>\n",
              "  <tbody>\n",
              "    <tr>\n",
              "      <th>Unnamed: 0</th>\n",
              "      <td>864863.0</td>\n",
              "      <td>432431.000000</td>\n",
              "      <td>249664.587267</td>\n",
              "      <td>0.000</td>\n",
              "      <td>216215.500</td>\n",
              "      <td>432431.000</td>\n",
              "      <td>648646.5000</td>\n",
              "      <td>864862.000</td>\n",
              "    </tr>\n",
              "    <tr>\n",
              "      <th>Depthm</th>\n",
              "      <td>864863.0</td>\n",
              "      <td>226.831951</td>\n",
              "      <td>316.050259</td>\n",
              "      <td>0.000</td>\n",
              "      <td>46.000</td>\n",
              "      <td>125.000</td>\n",
              "      <td>300.0000</td>\n",
              "      <td>5351.000</td>\n",
              "    </tr>\n",
              "    <tr>\n",
              "      <th>T_degC</th>\n",
              "      <td>853900.0</td>\n",
              "      <td>10.799677</td>\n",
              "      <td>4.243825</td>\n",
              "      <td>1.440</td>\n",
              "      <td>7.680</td>\n",
              "      <td>10.060</td>\n",
              "      <td>13.8800</td>\n",
              "      <td>31.140</td>\n",
              "    </tr>\n",
              "    <tr>\n",
              "      <th>Salnty</th>\n",
              "      <td>817509.0</td>\n",
              "      <td>33.840350</td>\n",
              "      <td>0.461843</td>\n",
              "      <td>28.431</td>\n",
              "      <td>33.488</td>\n",
              "      <td>33.863</td>\n",
              "      <td>34.1969</td>\n",
              "      <td>37.034</td>\n",
              "    </tr>\n",
              "  </tbody>\n",
              "</table>\n",
              "</div>"
            ],
            "text/plain": [
              "               count           mean  ...          75%         max\n",
              "Unnamed: 0  864863.0  432431.000000  ...  648646.5000  864862.000\n",
              "Depthm      864863.0     226.831951  ...     300.0000    5351.000\n",
              "T_degC      853900.0      10.799677  ...      13.8800      31.140\n",
              "Salnty      817509.0      33.840350  ...      34.1969      37.034\n",
              "\n",
              "[4 rows x 8 columns]"
            ]
          },
          "metadata": {
            "tags": []
          },
          "execution_count": 11
        }
      ]
    },
    {
      "cell_type": "code",
      "metadata": {
        "id": "kyWIzrYVMGxF"
      },
      "source": [
        "df.drop(['Unnamed: 0'], axis=1, inplace=True)"
      ],
      "execution_count": 12,
      "outputs": []
    },
    {
      "cell_type": "code",
      "metadata": {
        "id": "I7fEMffjMNQ8",
        "outputId": "56f059e9-9098-40ca-ee2f-b56e2c16eecd",
        "colab": {
          "base_uri": "https://localhost:8080/",
          "height": 204
        }
      },
      "source": [
        "df.head()"
      ],
      "execution_count": 13,
      "outputs": [
        {
          "output_type": "execute_result",
          "data": {
            "text/html": [
              "<div>\n",
              "<style scoped>\n",
              "    .dataframe tbody tr th:only-of-type {\n",
              "        vertical-align: middle;\n",
              "    }\n",
              "\n",
              "    .dataframe tbody tr th {\n",
              "        vertical-align: top;\n",
              "    }\n",
              "\n",
              "    .dataframe thead th {\n",
              "        text-align: right;\n",
              "    }\n",
              "</style>\n",
              "<table border=\"1\" class=\"dataframe\">\n",
              "  <thead>\n",
              "    <tr style=\"text-align: right;\">\n",
              "      <th></th>\n",
              "      <th>Depthm</th>\n",
              "      <th>T_degC</th>\n",
              "      <th>Salnty</th>\n",
              "    </tr>\n",
              "  </thead>\n",
              "  <tbody>\n",
              "    <tr>\n",
              "      <th>0</th>\n",
              "      <td>0</td>\n",
              "      <td>10.50</td>\n",
              "      <td>33.440</td>\n",
              "    </tr>\n",
              "    <tr>\n",
              "      <th>1</th>\n",
              "      <td>8</td>\n",
              "      <td>10.46</td>\n",
              "      <td>33.440</td>\n",
              "    </tr>\n",
              "    <tr>\n",
              "      <th>2</th>\n",
              "      <td>10</td>\n",
              "      <td>10.46</td>\n",
              "      <td>33.437</td>\n",
              "    </tr>\n",
              "    <tr>\n",
              "      <th>3</th>\n",
              "      <td>19</td>\n",
              "      <td>10.45</td>\n",
              "      <td>33.420</td>\n",
              "    </tr>\n",
              "    <tr>\n",
              "      <th>4</th>\n",
              "      <td>20</td>\n",
              "      <td>10.45</td>\n",
              "      <td>33.421</td>\n",
              "    </tr>\n",
              "  </tbody>\n",
              "</table>\n",
              "</div>"
            ],
            "text/plain": [
              "   Depthm  T_degC  Salnty\n",
              "0       0   10.50  33.440\n",
              "1       8   10.46  33.440\n",
              "2      10   10.46  33.437\n",
              "3      19   10.45  33.420\n",
              "4      20   10.45  33.421"
            ]
          },
          "metadata": {
            "tags": []
          },
          "execution_count": 13
        }
      ]
    },
    {
      "cell_type": "code",
      "metadata": {
        "id": "lBffDlvtMS7t",
        "outputId": "dd9a7c62-7275-48e1-feaa-5d3491f855ec",
        "colab": {
          "base_uri": "https://localhost:8080/",
          "height": 102
        }
      },
      "source": [
        "print(df.dtypes)\n",
        "df.shape"
      ],
      "execution_count": 14,
      "outputs": [
        {
          "output_type": "stream",
          "text": [
            "Depthm      int64\n",
            "T_degC    float64\n",
            "Salnty    float64\n",
            "dtype: object\n"
          ],
          "name": "stdout"
        },
        {
          "output_type": "execute_result",
          "data": {
            "text/plain": [
              "(864863, 3)"
            ]
          },
          "metadata": {
            "tags": []
          },
          "execution_count": 14
        }
      ]
    },
    {
      "cell_type": "code",
      "metadata": {
        "id": "gUywwLjTMoSk",
        "outputId": "a94dc186-c42e-46ec-e510-7dc175e0fe70",
        "colab": {
          "base_uri": "https://localhost:8080/",
          "height": 142
        }
      },
      "source": [
        "nulls = df.isnull().sum().sort_values(ascending=False)\n",
        "percent = round(nulls/len(df)*100, 2)\n",
        "\n",
        "df_null = pd.DataFrame(columns=['Features', 'Total', 'Percent'])\n",
        "df_null['Features'] = nulls.index\n",
        "df_null['Total'] = nulls.values\n",
        "df_null['Percent'] = percent.values\n",
        "\n",
        "df_null"
      ],
      "execution_count": 15,
      "outputs": [
        {
          "output_type": "execute_result",
          "data": {
            "text/html": [
              "<div>\n",
              "<style scoped>\n",
              "    .dataframe tbody tr th:only-of-type {\n",
              "        vertical-align: middle;\n",
              "    }\n",
              "\n",
              "    .dataframe tbody tr th {\n",
              "        vertical-align: top;\n",
              "    }\n",
              "\n",
              "    .dataframe thead th {\n",
              "        text-align: right;\n",
              "    }\n",
              "</style>\n",
              "<table border=\"1\" class=\"dataframe\">\n",
              "  <thead>\n",
              "    <tr style=\"text-align: right;\">\n",
              "      <th></th>\n",
              "      <th>Features</th>\n",
              "      <th>Total</th>\n",
              "      <th>Percent</th>\n",
              "    </tr>\n",
              "  </thead>\n",
              "  <tbody>\n",
              "    <tr>\n",
              "      <th>0</th>\n",
              "      <td>Salnty</td>\n",
              "      <td>47354</td>\n",
              "      <td>5.48</td>\n",
              "    </tr>\n",
              "    <tr>\n",
              "      <th>1</th>\n",
              "      <td>T_degC</td>\n",
              "      <td>10963</td>\n",
              "      <td>1.27</td>\n",
              "    </tr>\n",
              "    <tr>\n",
              "      <th>2</th>\n",
              "      <td>Depthm</td>\n",
              "      <td>0</td>\n",
              "      <td>0.00</td>\n",
              "    </tr>\n",
              "  </tbody>\n",
              "</table>\n",
              "</div>"
            ],
            "text/plain": [
              "  Features  Total  Percent\n",
              "0   Salnty  47354     5.48\n",
              "1   T_degC  10963     1.27\n",
              "2   Depthm      0     0.00"
            ]
          },
          "metadata": {
            "tags": []
          },
          "execution_count": 15
        }
      ]
    },
    {
      "cell_type": "code",
      "metadata": {
        "id": "i0GoXCFWOLYM"
      },
      "source": [
        "df.dropna(subset=['Salnty'], inplace=True)"
      ],
      "execution_count": 16,
      "outputs": []
    },
    {
      "cell_type": "code",
      "metadata": {
        "id": "D2gF5yY7Mq4w",
        "outputId": "612f9d27-039d-4f4c-8209-bcaaa8e4a1c9",
        "colab": {
          "base_uri": "https://localhost:8080/",
          "height": 34
        }
      },
      "source": [
        "#Isi missing values\n",
        "for i in df.columns:\n",
        "  if df[i].isnull().sum() > 0:\n",
        "    df[i].fillna(df[i].mode().mean(), inplace=True)\n",
        "    print('Filled', i)"
      ],
      "execution_count": 17,
      "outputs": [
        {
          "output_type": "stream",
          "text": [
            "Filled T_degC\n"
          ],
          "name": "stdout"
        }
      ]
    },
    {
      "cell_type": "code",
      "metadata": {
        "id": "F9GE95qDOG7S",
        "outputId": "a37cb18a-ef17-4e8f-9418-99a3fb54ee3c",
        "colab": {
          "base_uri": "https://localhost:8080/",
          "height": 142
        }
      },
      "source": [
        "#Cek ulang missing valuesnya\n",
        "nulls = df.isnull().sum().sort_values(ascending=False)\n",
        "percent = round(nulls/len(df)*100, 2)\n",
        "\n",
        "df_null = pd.DataFrame(columns=['Features', 'Total', 'Percent'])\n",
        "df_null['Features'] = nulls.index\n",
        "df_null['Total'] = nulls.values\n",
        "df_null['Percent'] = percent.values\n",
        "\n",
        "df_null"
      ],
      "execution_count": 18,
      "outputs": [
        {
          "output_type": "execute_result",
          "data": {
            "text/html": [
              "<div>\n",
              "<style scoped>\n",
              "    .dataframe tbody tr th:only-of-type {\n",
              "        vertical-align: middle;\n",
              "    }\n",
              "\n",
              "    .dataframe tbody tr th {\n",
              "        vertical-align: top;\n",
              "    }\n",
              "\n",
              "    .dataframe thead th {\n",
              "        text-align: right;\n",
              "    }\n",
              "</style>\n",
              "<table border=\"1\" class=\"dataframe\">\n",
              "  <thead>\n",
              "    <tr style=\"text-align: right;\">\n",
              "      <th></th>\n",
              "      <th>Features</th>\n",
              "      <th>Total</th>\n",
              "      <th>Percent</th>\n",
              "    </tr>\n",
              "  </thead>\n",
              "  <tbody>\n",
              "    <tr>\n",
              "      <th>0</th>\n",
              "      <td>Salnty</td>\n",
              "      <td>0</td>\n",
              "      <td>0.0</td>\n",
              "    </tr>\n",
              "    <tr>\n",
              "      <th>1</th>\n",
              "      <td>T_degC</td>\n",
              "      <td>0</td>\n",
              "      <td>0.0</td>\n",
              "    </tr>\n",
              "    <tr>\n",
              "      <th>2</th>\n",
              "      <td>Depthm</td>\n",
              "      <td>0</td>\n",
              "      <td>0.0</td>\n",
              "    </tr>\n",
              "  </tbody>\n",
              "</table>\n",
              "</div>"
            ],
            "text/plain": [
              "  Features  Total  Percent\n",
              "0   Salnty      0      0.0\n",
              "1   T_degC      0      0.0\n",
              "2   Depthm      0      0.0"
            ]
          },
          "metadata": {
            "tags": []
          },
          "execution_count": 18
        }
      ]
    },
    {
      "cell_type": "code",
      "metadata": {
        "id": "_u13DjazQS-G",
        "outputId": "3e9a2022-ffcc-47ee-80ba-65b2a1418671",
        "colab": {
          "base_uri": "https://localhost:8080/",
          "height": 85
        }
      },
      "source": [
        "df.dtypes"
      ],
      "execution_count": 19,
      "outputs": [
        {
          "output_type": "execute_result",
          "data": {
            "text/plain": [
              "Depthm      int64\n",
              "T_degC    float64\n",
              "Salnty    float64\n",
              "dtype: object"
            ]
          },
          "metadata": {
            "tags": []
          },
          "execution_count": 19
        }
      ]
    },
    {
      "cell_type": "code",
      "metadata": {
        "id": "eR9MPNmYQR7X",
        "outputId": "9e32bf7c-de4a-4366-ec44-48b6f4b0c638",
        "colab": {
          "base_uri": "https://localhost:8080/",
          "height": 1000
        }
      },
      "source": [
        "df_numbers = df.select_dtypes(include=['float64', 'int64'])\n",
        "\n",
        "df_numbers.hist(figsize=(18, 22), bins=50, xlabelsize=8, ylabelsize=8)\n",
        "plt.show()"
      ],
      "execution_count": 20,
      "outputs": [
        {
          "output_type": "display_data",
          "data": {
            "image/png": "[encoded data removed]",
            "text/plain": [
              "<Figure size 1296x1584 with 4 Axes>"
            ]
          },
          "metadata": {
            "tags": [],
            "needs_background": "light"
          }
        }
      ]
    },
    {
      "cell_type": "code",
      "metadata": {
        "id": "mkVnf9IOQXpB",
        "outputId": "ad7efe26-a766-4911-b412-115d21e50716",
        "colab": {
          "base_uri": "https://localhost:8080/",
          "height": 578
        }
      },
      "source": [
        "plt.figure(figsize=(10, 10))\n",
        "sns.heatmap(df.corr(), annot=True, annot_kws={'size':10}, cbar=True, square=True, fmt='.2f', cmap='Blues')\n",
        "plt.show()"
      ],
      "execution_count": 21,
      "outputs": [
        {
          "output_type": "display_data",
          "data": {
            "image/png": "[encoded data removed]",
            "text/plain": [
              "<Figure size 720x720 with 2 Axes>"
            ]
          },
          "metadata": {
            "tags": [],
            "needs_background": "light"
          }
        }
      ]
    },
    {
      "cell_type": "markdown",
      "metadata": {
        "id": "iLXSBuojQEeH"
      },
      "source": [
        "## **Machine Learning Model**"
      ]
    },
    {
      "cell_type": "markdown",
      "metadata": {
        "id": "4cpIFxIFQfWZ"
      },
      "source": [
        "### **Linear Regression**"
      ]
    },
    {
      "cell_type": "markdown",
      "metadata": {
        "id": "lksywk7jQhrY"
      },
      "source": [
        "**Feature Engineering**"
      ]
    },
    {
      "cell_type": "code",
      "metadata": {
        "id": "qVRVvmjcQC4Z"
      },
      "source": [
        "from sklearn.preprocessing import StandardScaler, PowerTransformer, QuantileTransformer, MinMaxScaler, MaxAbsScaler, RobustScaler\n",
        "from sklearn.model_selection import train_test_split\n",
        "from sklearn.linear_model import LinearRegression\n",
        "from sklearn.metrics import mean_squared_error, mean_absolute_error, r2_score"
      ],
      "execution_count": 22,
      "outputs": []
    },
    {
      "cell_type": "code",
      "metadata": {
        "id": "FhzJfpBrQjwR"
      },
      "source": [
        "X = df.drop(['Salnty'], axis=1)\n",
        "y = df['Salnty']"
      ],
      "execution_count": 23,
      "outputs": []
    },
    {
      "cell_type": "code",
      "metadata": {
        "id": "JKbJqCSKQn0Q"
      },
      "source": [
        "stdr = StandardScaler()\n",
        "\n",
        "X = stdr.fit_transform(X.values)\n",
        "y = stdr.fit_transform(df['Salnty'].values.reshape(-1, 1)).flatten()"
      ],
      "execution_count": 24,
      "outputs": []
    },
    {
      "cell_type": "code",
      "metadata": {
        "id": "vcr4Z5MLQyeR"
      },
      "source": [
        "X_train, X_test, y_train, y_test = train_test_split(X, y, test_size=0.25, random_state=10)"
      ],
      "execution_count": 25,
      "outputs": []
    },
    {
      "cell_type": "code",
      "metadata": {
        "id": "IQ1tQZq7Q2mP",
        "outputId": "2b7724fe-6d99-4ec9-fabc-a5294d0f9497",
        "colab": {
          "base_uri": "https://localhost:8080/",
          "height": 34
        }
      },
      "source": [
        "X_train.shape, X_test.shape, y_train.shape, y_test.shape"
      ],
      "execution_count": 26,
      "outputs": [
        {
          "output_type": "execute_result",
          "data": {
            "text/plain": [
              "((613131, 2), (204378, 2), (613131,), (204378,))"
            ]
          },
          "metadata": {
            "tags": []
          },
          "execution_count": 26
        }
      ]
    },
    {
      "cell_type": "code",
      "metadata": {
        "id": "dCkMe422Q6-i"
      },
      "source": [
        "linreg = LinearRegression()\n",
        "linreg.fit(X_train, y_train)\n",
        "\n",
        "predict_lm = linreg.predict(X_test)"
      ],
      "execution_count": 27,
      "outputs": []
    },
    {
      "cell_type": "code",
      "metadata": {
        "id": "-vmTZYV1RY1P",
        "outputId": "2244c899-a837-4281-e86c-62247a1d4a75",
        "colab": {
          "base_uri": "https://localhost:8080/",
          "height": 85
        }
      },
      "source": [
        "mse = mean_squared_error(y_test, predict_lm)\n",
        "mae = mean_absolute_error(y_test, predict_lm)\n",
        "r2 = r2_score(y_test, predict_lm)\n",
        "print(\"MSE (Mean Squared Error)       :\", mse)\n",
        "print(\"MAE (Mean Absolute Error)      :\", mae)\n",
        "print(\"r^2 score                      :\", r2)\n",
        "print('RMSE (Root Mean Squared Error  :', np.sqrt(mean_squared_error(y_test, predict_lm)))"
      ],
      "execution_count": 28,
      "outputs": [
        {
          "output_type": "stream",
          "text": [
            "MSE (Mean Squared Error)       : 0.6439330576212252\n",
            "MAE (Mean Absolute Error)      : 0.5601840267313215\n",
            "r^2 score                      : 0.3538636192903619\n",
            "RMSE (Root Mean Squared Error  : 0.8024543959760113\n"
          ],
          "name": "stdout"
        }
      ]
    },
    {
      "cell_type": "markdown",
      "metadata": {
        "id": "0P1KIVXnRcmy"
      },
      "source": [
        "## **Deep Learning Model**"
      ]
    },
    {
      "cell_type": "code",
      "metadata": {
        "id": "7zQvwsNpRZ9T"
      },
      "source": [
        "def plot_loss_new(history):\n",
        "  history_df = pd.DataFrame(history.history)\n",
        "\n",
        "  min_loss_index = history_df[history_df['loss']==min(history_df['loss'])].index.values\n",
        "  min_loss = history_df.loc[min_loss_index]['loss']\n",
        "  min_val_loss_index = history_df[history_df['val_loss']==min(history_df['val_loss'])].index.values\n",
        "  min_val_loss = history_df.loc[min_val_loss_index]['val_loss']\n",
        "\n",
        "  plt.plot(history.history['loss'], label='loss')\n",
        "  plt.plot(history.history['val_loss'], label='val_loss')\n",
        "  plt.plot(min_loss_index, min_loss, 'o', c='k', ms=4, label='min loss')\n",
        "  plt.plot(min_val_loss_index, min_val_loss, 'o', c='k', ms=4, label='min val_loss')\n",
        "  plt.xlabel('Epoch')\n",
        "  plt.ylabel('Loss')\n",
        "  plt.legend()\n",
        "  plt.grid(True)\n",
        "  plt.show()\n",
        "\n",
        "  print('Minimum Loss             :', min_loss)\n",
        "  print()\n",
        "  print('Minimum Validation Loss  :', min_val_loss)"
      ],
      "execution_count": 29,
      "outputs": []
    },
    {
      "cell_type": "code",
      "metadata": {
        "id": "ZlTDcPlPRfL1"
      },
      "source": [
        "from tensorflow.keras.models import Sequential\n",
        "from tensorflow.keras.layers import Dense"
      ],
      "execution_count": 30,
      "outputs": []
    },
    {
      "cell_type": "code",
      "metadata": {
        "id": "PcEtqbRdRgdq"
      },
      "source": [
        "model = Sequential()\n",
        "model.add(Dense(13, input_dim=2, kernel_initializer='normal', activation='relu'))\n",
        "model.add(Dense(1, kernel_initializer='normal'))\n",
        "\n",
        "model.compile(loss='mean_squared_error', optimizer='adam')"
      ],
      "execution_count": 31,
      "outputs": []
    },
    {
      "cell_type": "code",
      "metadata": {
        "id": "4VvXkdDzRjlP",
        "outputId": "8307ae4d-1172-4d21-9719-0c40824beb88",
        "colab": {
          "base_uri": "https://localhost:8080/",
          "height": 1000
        }
      },
      "source": [
        "history = model.fit(x=X_train, y=y_train, validation_data=(X_test, y_test), epochs=50, batch_size=8)"
      ],
      "execution_count": 32,
      "outputs": [
        {
          "output_type": "stream",
          "text": [
            "Epoch 1/50\n",
            "76642/76642 [==============================] - 66s 865us/step - loss: 0.3497 - val_loss: 0.3364\n",
            "Epoch 2/50\n",
            "76642/76642 [==============================] - 75s 983us/step - loss: 0.3380 - val_loss: 0.3299\n",
            "Epoch 3/50\n",
            "76642/76642 [==============================] - 74s 969us/step - loss: 0.3378 - val_loss: 0.3292\n",
            "Epoch 4/50\n",
            "76642/76642 [==============================] - 59s 764us/step - loss: 0.3377 - val_loss: 0.3296\n",
            "Epoch 5/50\n",
            "76642/76642 [==============================] - 58s 763us/step - loss: 0.3376 - val_loss: 0.3320\n",
            "Epoch 6/50\n",
            "76642/76642 [==============================] - 65s 846us/step - loss: 0.3375 - val_loss: 0.3295\n",
            "Epoch 7/50\n",
            "76642/76642 [==============================] - 64s 833us/step - loss: 0.3374 - val_loss: 0.3294\n",
            "Epoch 8/50\n",
            "76642/76642 [==============================] - 72s 942us/step - loss: 0.3366 - val_loss: 0.3347\n",
            "Epoch 9/50\n",
            "76642/76642 [==============================] - 78s 1ms/step - loss: 0.3365 - val_loss: 0.3393\n",
            "Epoch 10/50\n",
            "76642/76642 [==============================] - 61s 796us/step - loss: 0.3301 - val_loss: 0.3159\n",
            "Epoch 11/50\n",
            "76642/76642 [==============================] - 61s 795us/step - loss: 0.3178 - val_loss: 0.3085\n",
            "Epoch 12/50\n",
            "76642/76642 [==============================] - 60s 785us/step - loss: 0.3136 - val_loss: 0.3065\n",
            "Epoch 13/50\n",
            "76642/76642 [==============================] - 62s 807us/step - loss: 0.3120 - val_loss: 0.3062\n",
            "Epoch 14/50\n",
            "76642/76642 [==============================] - 73s 954us/step - loss: 0.3103 - val_loss: 0.3112\n",
            "Epoch 15/50\n",
            "76642/76642 [==============================] - 78s 1ms/step - loss: 0.3086 - val_loss: 0.3023\n",
            "Epoch 16/50\n",
            "76642/76642 [==============================] - 67s 874us/step - loss: 0.3073 - val_loss: 0.3031\n",
            "Epoch 17/50\n",
            "76642/76642 [==============================] - 69s 901us/step - loss: 0.3065 - val_loss: 0.3017\n",
            "Epoch 18/50\n",
            "76642/76642 [==============================] - 70s 908us/step - loss: 0.3061 - val_loss: 0.3009\n",
            "Epoch 19/50\n",
            "76642/76642 [==============================] - 68s 881us/step - loss: 0.3060 - val_loss: 0.3008\n",
            "Epoch 20/50\n",
            "76642/76642 [==============================] - 69s 898us/step - loss: 0.3060 - val_loss: 0.3007\n",
            "Epoch 21/50\n",
            "76642/76642 [==============================] - 65s 844us/step - loss: 0.3061 - val_loss: 0.3032\n",
            "Epoch 22/50\n",
            "76642/76642 [==============================] - 64s 836us/step - loss: 0.3060 - val_loss: 0.3027\n",
            "Epoch 23/50\n",
            "76642/76642 [==============================] - 68s 892us/step - loss: 0.3058 - val_loss: 0.3004\n",
            "Epoch 24/50\n",
            "76642/76642 [==============================] - 67s 874us/step - loss: 0.3057 - val_loss: 0.3032\n",
            "Epoch 25/50\n",
            "76642/76642 [==============================] - 61s 799us/step - loss: 0.3057 - val_loss: 0.3006\n",
            "Epoch 26/50\n",
            "76642/76642 [==============================] - 60s 786us/step - loss: 0.3057 - val_loss: 0.3013\n",
            "Epoch 27/50\n",
            "76642/76642 [==============================] - 63s 822us/step - loss: 0.3054 - val_loss: 0.3007\n",
            "Epoch 28/50\n",
            "76642/76642 [==============================] - 64s 835us/step - loss: 0.3050 - val_loss: 0.3104\n",
            "Epoch 29/50\n",
            "76642/76642 [==============================] - 65s 842us/step - loss: 0.3048 - val_loss: 0.3010\n",
            "Epoch 30/50\n",
            "76642/76642 [==============================] - 79s 1ms/step - loss: 0.3048 - val_loss: 0.3000\n",
            "Epoch 31/50\n",
            "76642/76642 [==============================] - 65s 853us/step - loss: 0.3048 - val_loss: 0.3002\n",
            "Epoch 32/50\n",
            "76642/76642 [==============================] - 67s 875us/step - loss: 0.3048 - val_loss: 0.3005\n",
            "Epoch 33/50\n",
            "76642/76642 [==============================] - 60s 787us/step - loss: 0.3047 - val_loss: 0.3015\n",
            "Epoch 34/50\n",
            "76642/76642 [==============================] - 58s 756us/step - loss: 0.3048 - val_loss: 0.3012\n",
            "Epoch 35/50\n",
            "76642/76642 [==============================] - 57s 750us/step - loss: 0.3048 - val_loss: 0.3034\n",
            "Epoch 36/50\n",
            "76642/76642 [==============================] - 57s 745us/step - loss: 0.3048 - val_loss: 0.3005\n",
            "Epoch 37/50\n",
            "76642/76642 [==============================] - 55s 713us/step - loss: 0.3048 - val_loss: 0.3025\n",
            "Epoch 38/50\n",
            "76642/76642 [==============================] - 59s 765us/step - loss: 0.3047 - val_loss: 0.2998\n",
            "Epoch 39/50\n",
            "76642/76642 [==============================] - 61s 794us/step - loss: 0.3048 - val_loss: 0.3010\n",
            "Epoch 40/50\n",
            "76642/76642 [==============================] - 54s 706us/step - loss: 0.3048 - val_loss: 0.3005\n",
            "Epoch 41/50\n",
            "76642/76642 [==============================] - 54s 708us/step - loss: 0.3048 - val_loss: 0.2998\n",
            "Epoch 42/50\n",
            "76642/76642 [==============================] - 56s 725us/step - loss: 0.3025 - val_loss: 0.3012\n",
            "Epoch 43/50\n",
            "76642/76642 [==============================] - 56s 733us/step - loss: 0.3017 - val_loss: 0.2986\n",
            "Epoch 44/50\n",
            "76642/76642 [==============================] - 57s 748us/step - loss: 0.3017 - val_loss: 0.2976\n",
            "Epoch 45/50\n",
            "76642/76642 [==============================] - 56s 732us/step - loss: 0.3017 - val_loss: 0.3000\n",
            "Epoch 46/50\n",
            "76642/76642 [==============================] - 54s 710us/step - loss: 0.3017 - val_loss: 0.2963\n",
            "Epoch 47/50\n",
            "76642/76642 [==============================] - 52s 674us/step - loss: 0.3017 - val_loss: 0.2981\n",
            "Epoch 48/50\n",
            "76642/76642 [==============================] - 51s 662us/step - loss: 0.3018 - val_loss: 0.2970\n",
            "Epoch 49/50\n",
            "76642/76642 [==============================] - 54s 703us/step - loss: 0.3017 - val_loss: 0.2965\n",
            "Epoch 50/50\n",
            "76642/76642 [==============================] - 50s 651us/step - loss: 0.3016 - val_loss: 0.2967\n"
          ],
          "name": "stdout"
        }
      ]
    },
    {
      "cell_type": "code",
      "metadata": {
        "id": "_faukDObRo0L"
      },
      "source": [
        "predict_dl = model.predict(X_test)\n",
        "predict_dl = predict_dl.flatten()"
      ],
      "execution_count": 33,
      "outputs": []
    },
    {
      "cell_type": "code",
      "metadata": {
        "id": "7011XdaExkz3",
        "outputId": "98409f11-c8c5-4448-d9c6-5e3205290fa7",
        "colab": {
          "base_uri": "https://localhost:8080/",
          "height": 85
        }
      },
      "source": [
        "mse = mean_squared_error(y_test, predict_dl)\n",
        "mae = mean_absolute_error(y_test, predict_dl)\n",
        "r2 = r2_score(y_test, predict_dl)\n",
        "print(\"MSE (Mean Squared Error)       :\", mse)\n",
        "print(\"MAE (Mean Absolute Error)      :\", mae)\n",
        "print(\"r^2 score                      :\", r2)\n",
        "print('RMSE (Root Mean Squared Error) :', np.sqrt(mean_squared_error(y_test, predict_dl)))"
      ],
      "execution_count": 34,
      "outputs": [
        {
          "output_type": "stream",
          "text": [
            "MSE (Mean Squared Error)       : 0.29669465361405556\n",
            "MAE (Mean Absolute Error)      : 0.34845811210536803\n",
            "r^2 score                      : 0.702290156727983\n",
            "RMSE (Root Mean Squared Error) : 0.5446968456068527\n"
          ],
          "name": "stdout"
        }
      ]
    },
    {
      "cell_type": "code",
      "metadata": {
        "id": "ObsbkaETxnyR",
        "outputId": "7284940a-fa89-46c0-b10d-6cd13318147d",
        "colab": {
          "base_uri": "https://localhost:8080/",
          "height": 364
        }
      },
      "source": [
        "plot_loss_new(history)"
      ],
      "execution_count": 35,
      "outputs": [
        {
          "output_type": "display_data",
          "data": {
            "image/png": "[encoded data removed]",
            "text/plain": [
              "<Figure size 432x288 with 1 Axes>"
            ]
          },
          "metadata": {
            "tags": [],
            "needs_background": "light"
          }
        },
        {
          "output_type": "stream",
          "text": [
            "Minimum Loss             : 49    0.301582\n",
            "Name: loss, dtype: float64\n",
            "\n",
            "Minimum Validation Loss  : 45    0.296272\n",
            "Name: val_loss, dtype: float64\n"
          ],
          "name": "stdout"
        }
      ]
    },
    {
      "cell_type": "markdown",
      "metadata": {
        "id": "dVX2a2Yw5OZC"
      },
      "source": [
        "Sweet spot berada pada epoch 45 dengan val_loss 0.296272"
      ]
    },
    {
      "cell_type": "markdown",
      "metadata": {
        "id": "QlzBWgyuRnfa"
      },
      "source": [
        "## **Deep Learning Wider Model with RMSprop Optimizer**"
      ]
    },
    {
      "cell_type": "code",
      "metadata": {
        "id": "rp8mNq-pRdBo"
      },
      "source": [
        "from tensorflow.keras.optimizers import RMSprop"
      ],
      "execution_count": 36,
      "outputs": []
    },
    {
      "cell_type": "code",
      "metadata": {
        "id": "9rAKo7qSRdb2",
        "outputId": "f0a7f958-27f6-47a4-ae86-b32b099f95e5",
        "colab": {
          "base_uri": "https://localhost:8080/",
          "height": 221
        }
      },
      "source": [
        "wider2 = Sequential()\n",
        "wider2.add(Dense(20, input_dim=2, kernel_initializer='normal', activation='relu'))\n",
        "wider2.add(Dense(1, kernel_initializer='normal'))\n",
        "\n",
        "opt = RMSprop(learning_rate=0.001, momentum=0.9)\n",
        "\n",
        "wider2.compile(loss='mean_squared_error', optimizer=opt)\n",
        "\n",
        "wider2.summary()"
      ],
      "execution_count": 37,
      "outputs": [
        {
          "output_type": "stream",
          "text": [
            "Model: \"sequential_1\"\n",
            "_________________________________________________________________\n",
            "Layer (type)                 Output Shape              Param #   \n",
            "=================================================================\n",
            "dense_2 (Dense)              (None, 20)                60        \n",
            "_________________________________________________________________\n",
            "dense_3 (Dense)              (None, 1)                 21        \n",
            "=================================================================\n",
            "Total params: 81\n",
            "Trainable params: 81\n",
            "Non-trainable params: 0\n",
            "_________________________________________________________________\n"
          ],
          "name": "stdout"
        }
      ]
    },
    {
      "cell_type": "code",
      "metadata": {
        "id": "yZwQwuriRfKa",
        "outputId": "37425273-e641-4a15-e25f-43322f2e2f1d",
        "colab": {
          "base_uri": "https://localhost:8080/",
          "height": 1000
        }
      },
      "source": [
        "history4 = wider2.fit(x=X_train, y=y_train, validation_data=(X_test, y_test), epochs=50, batch_size=8)"
      ],
      "execution_count": 38,
      "outputs": [
        {
          "output_type": "stream",
          "text": [
            "Epoch 1/50\n",
            "76642/76642 [==============================] - 54s 710us/step - loss: 0.3302 - val_loss: 0.3173\n",
            "Epoch 2/50\n",
            "76642/76642 [==============================] - 55s 718us/step - loss: 0.3253 - val_loss: 0.3157\n",
            "Epoch 3/50\n",
            "76642/76642 [==============================] - 54s 701us/step - loss: 0.3254 - val_loss: 0.3240\n",
            "Epoch 4/50\n",
            "76642/76642 [==============================] - 50s 656us/step - loss: 0.3258 - val_loss: 0.3550\n",
            "Epoch 5/50\n",
            "76642/76642 [==============================] - 50s 650us/step - loss: 0.3281 - val_loss: 0.3558\n",
            "Epoch 6/50\n",
            "76642/76642 [==============================] - 50s 659us/step - loss: 0.3301 - val_loss: 0.3044\n",
            "Epoch 7/50\n",
            "76642/76642 [==============================] - 51s 665us/step - loss: 0.3318 - val_loss: 0.3214\n",
            "Epoch 8/50\n",
            "76642/76642 [==============================] - 51s 666us/step - loss: 0.3350 - val_loss: 0.3223\n",
            "Epoch 9/50\n",
            "76642/76642 [==============================] - 53s 696us/step - loss: 0.3366 - val_loss: 0.3146\n",
            "Epoch 10/50\n",
            "76642/76642 [==============================] - 56s 728us/step - loss: 0.3381 - val_loss: 0.3334\n",
            "Epoch 11/50\n",
            "76642/76642 [==============================] - 52s 675us/step - loss: 0.3403 - val_loss: 0.3119\n",
            "Epoch 12/50\n",
            "76642/76642 [==============================] - 52s 677us/step - loss: 0.3418 - val_loss: 0.3424\n",
            "Epoch 13/50\n",
            "76642/76642 [==============================] - 52s 679us/step - loss: 0.3462 - val_loss: 0.4010\n",
            "Epoch 14/50\n",
            "76642/76642 [==============================] - 51s 664us/step - loss: 0.3473 - val_loss: 0.3457\n",
            "Epoch 15/50\n",
            "76642/76642 [==============================] - 51s 670us/step - loss: 0.3493 - val_loss: 0.3331\n",
            "Epoch 16/50\n",
            "76642/76642 [==============================] - 53s 692us/step - loss: 0.3503 - val_loss: 0.3070\n",
            "Epoch 17/50\n",
            "76642/76642 [==============================] - 55s 723us/step - loss: 0.3512 - val_loss: 0.3233\n",
            "Epoch 18/50\n",
            "76642/76642 [==============================] - 53s 692us/step - loss: 0.3520 - val_loss: 0.3547\n",
            "Epoch 19/50\n",
            "76642/76642 [==============================] - 50s 656us/step - loss: 0.3533 - val_loss: 0.4723\n",
            "Epoch 20/50\n",
            "76642/76642 [==============================] - 50s 650us/step - loss: 0.3557 - val_loss: 0.3314\n",
            "Epoch 21/50\n",
            "76642/76642 [==============================] - 50s 650us/step - loss: 0.3583 - val_loss: 0.3122\n",
            "Epoch 22/50\n",
            "76642/76642 [==============================] - 50s 651us/step - loss: 0.3595 - val_loss: 0.3315\n",
            "Epoch 23/50\n",
            "76642/76642 [==============================] - 50s 651us/step - loss: 0.3646 - val_loss: 0.3227\n",
            "Epoch 24/50\n",
            "76642/76642 [==============================] - 53s 690us/step - loss: 0.3621 - val_loss: 0.3350\n",
            "Epoch 25/50\n",
            "76642/76642 [==============================] - 55s 712us/step - loss: 0.3676 - val_loss: 0.4380\n",
            "Epoch 26/50\n",
            "76642/76642 [==============================] - 56s 727us/step - loss: 0.3677 - val_loss: 0.3356\n",
            "Epoch 27/50\n",
            "76642/76642 [==============================] - 57s 746us/step - loss: 0.3720 - val_loss: 0.3392\n",
            "Epoch 28/50\n",
            "76642/76642 [==============================] - 57s 745us/step - loss: 0.3729 - val_loss: 0.3581\n",
            "Epoch 29/50\n",
            "76642/76642 [==============================] - 55s 715us/step - loss: 0.3753 - val_loss: 0.3406\n",
            "Epoch 30/50\n",
            "76642/76642 [==============================] - 53s 691us/step - loss: 0.3689 - val_loss: 0.4860\n",
            "Epoch 31/50\n",
            "76642/76642 [==============================] - 52s 677us/step - loss: 0.3750 - val_loss: 0.3585\n",
            "Epoch 32/50\n",
            "76642/76642 [==============================] - 52s 675us/step - loss: 0.3794 - val_loss: 0.3950\n",
            "Epoch 33/50\n",
            "76642/76642 [==============================] - 55s 716us/step - loss: 0.3766 - val_loss: 0.3307\n",
            "Epoch 34/50\n",
            "76642/76642 [==============================] - 62s 811us/step - loss: 0.3785 - val_loss: 0.3159\n",
            "Epoch 35/50\n",
            "76642/76642 [==============================] - 70s 914us/step - loss: 0.3811 - val_loss: 0.4438\n",
            "Epoch 36/50\n",
            "76642/76642 [==============================] - 60s 785us/step - loss: 0.3866 - val_loss: 0.3215\n",
            "Epoch 37/50\n",
            "76642/76642 [==============================] - 62s 805us/step - loss: 0.3850 - val_loss: 0.3258\n",
            "Epoch 38/50\n",
            "76642/76642 [==============================] - 59s 776us/step - loss: 0.3905 - val_loss: 0.3208\n",
            "Epoch 39/50\n",
            "76642/76642 [==============================] - 56s 725us/step - loss: 0.3906 - val_loss: 0.4012\n",
            "Epoch 40/50\n",
            "76642/76642 [==============================] - 54s 703us/step - loss: 0.3849 - val_loss: 0.3234\n",
            "Epoch 41/50\n",
            "76642/76642 [==============================] - 57s 744us/step - loss: 0.3838 - val_loss: 0.4187\n",
            "Epoch 42/50\n",
            "76642/76642 [==============================] - 55s 719us/step - loss: 0.3832 - val_loss: 0.3587\n",
            "Epoch 43/50\n",
            "76642/76642 [==============================] - 53s 690us/step - loss: 0.3880 - val_loss: 0.3969\n",
            "Epoch 44/50\n",
            "76642/76642 [==============================] - 56s 725us/step - loss: 0.3865 - val_loss: 0.5886\n",
            "Epoch 45/50\n",
            "76642/76642 [==============================] - 59s 768us/step - loss: 0.3971 - val_loss: 0.3179\n",
            "Epoch 46/50\n",
            "76642/76642 [==============================] - 63s 827us/step - loss: 0.3887 - val_loss: 0.3320\n",
            "Epoch 47/50\n",
            "76642/76642 [==============================] - 64s 837us/step - loss: 0.3883 - val_loss: 0.3201\n",
            "Epoch 48/50\n",
            "76642/76642 [==============================] - 58s 753us/step - loss: 0.3865 - val_loss: 0.3414\n",
            "Epoch 49/50\n",
            "76642/76642 [==============================] - 56s 727us/step - loss: 0.3920 - val_loss: 0.3318\n",
            "Epoch 50/50\n",
            "76642/76642 [==============================] - 55s 716us/step - loss: 0.3907 - val_loss: 0.3178\n"
          ],
          "name": "stdout"
        }
      ]
    },
    {
      "cell_type": "code",
      "metadata": {
        "id": "A5oiP0UpRgxZ"
      },
      "source": [
        "predict_rms = wider2.predict(X_test)\n",
        "predict_rms = predict_rms.flatten()"
      ],
      "execution_count": 39,
      "outputs": []
    },
    {
      "cell_type": "code",
      "metadata": {
        "id": "NtzD39cuRiNv",
        "outputId": "fe503afe-2f6d-49ee-93c6-d4421dac25b3",
        "colab": {
          "base_uri": "https://localhost:8080/",
          "height": 85
        }
      },
      "source": [
        "mse = mean_squared_error(y_test, predict_rms)\n",
        "mae = mean_absolute_error(y_test, predict_rms)\n",
        "r2 = r2_score(y_test, predict_rms)\n",
        "print(\"MSE (Mean Squared Error)       :\", mse)\n",
        "print(\"MAE (Mean Absolute Error)      :\", mae)\n",
        "print(\"r^2 score                      :\", r2)\n",
        "print('RMSE (Root Mean Squared Error  :', np.sqrt(mean_squared_error(y_test, predict_rms)))"
      ],
      "execution_count": 40,
      "outputs": [
        {
          "output_type": "stream",
          "text": [
            "MSE (Mean Squared Error)       : 0.3177505934359147\n",
            "MAE (Mean Absolute Error)      : 0.3784936291435438\n",
            "r^2 score                      : 0.6811621705376254\n",
            "RMSE (Root Mean Squared Error  : 0.5636937053364307\n"
          ],
          "name": "stdout"
        }
      ]
    },
    {
      "cell_type": "code",
      "metadata": {
        "id": "frQDtUq3Rjkc",
        "outputId": "e638a2e8-c2de-420d-a832-5d9183c45ab3",
        "colab": {
          "base_uri": "https://localhost:8080/",
          "height": 366
        }
      },
      "source": [
        "plot_loss_new(history4)"
      ],
      "execution_count": 41,
      "outputs": [
        {
          "output_type": "display_data",
          "data": {
            "image/png": "[encoded data removed]",
            "text/plain": [
              "<Figure size 432x288 with 1 Axes>"
            ]
          },
          "metadata": {
            "tags": [],
            "needs_background": "light"
          }
        },
        {
          "output_type": "stream",
          "text": [
            "Minimum Loss             : 1    0.325297\n",
            "Name: loss, dtype: float64\n",
            "\n",
            "Minimum Validation Loss  : 5    0.304423\n",
            "Name: val_loss, dtype: float64\n"
          ],
          "name": "stdout"
        }
      ]
    },
    {
      "cell_type": "markdown",
      "metadata": {
        "id": "gwTtRdqeafpZ"
      },
      "source": [
        "Sweet spot berada pada epoch 5 dengan val_loss 0.304423"
      ]
    },
    {
      "cell_type": "markdown",
      "metadata": {
        "id": "UBoC2CdQjMR6"
      },
      "source": [
        "## **Deep Learning Wider Model with SGD Optimizer**"
      ]
    },
    {
      "cell_type": "code",
      "metadata": {
        "id": "ET_xfbbnilTB"
      },
      "source": [
        "from tensorflow.keras.optimizers import SGD"
      ],
      "execution_count": 42,
      "outputs": []
    },
    {
      "cell_type": "code",
      "metadata": {
        "id": "_ocVxsnFillg",
        "outputId": "719e5421-d4e2-4a03-bc6c-59f1b3f351ae",
        "colab": {
          "base_uri": "https://localhost:8080/",
          "height": 221
        }
      },
      "source": [
        "wider1 = Sequential()\n",
        "wider1.add(Dense(20, input_dim=2, kernel_initializer='normal', activation='relu'))\n",
        "wider1.add(Dense(1, kernel_initializer='normal'))\n",
        "\n",
        "opt = SGD(learning_rate=0.001, momentum=0.9)\n",
        "\n",
        "wider1.compile(loss='mean_squared_error', optimizer=opt)\n",
        "\n",
        "wider1.summary()"
      ],
      "execution_count": 43,
      "outputs": [
        {
          "output_type": "stream",
          "text": [
            "Model: \"sequential_2\"\n",
            "_________________________________________________________________\n",
            "Layer (type)                 Output Shape              Param #   \n",
            "=================================================================\n",
            "dense_4 (Dense)              (None, 20)                60        \n",
            "_________________________________________________________________\n",
            "dense_5 (Dense)              (None, 1)                 21        \n",
            "=================================================================\n",
            "Total params: 81\n",
            "Trainable params: 81\n",
            "Non-trainable params: 0\n",
            "_________________________________________________________________\n"
          ],
          "name": "stdout"
        }
      ]
    },
    {
      "cell_type": "code",
      "metadata": {
        "id": "iWTQqVHPila8",
        "outputId": "f7ff9993-45e1-4f9b-e97b-cc0a608fca66",
        "colab": {
          "base_uri": "https://localhost:8080/",
          "height": 1000
        }
      },
      "source": [
        "history3 = wider1.fit(x=X_train, y=y_train, validation_data=(X_test, y_test), epochs=50, batch_size=8)"
      ],
      "execution_count": 44,
      "outputs": [
        {
          "output_type": "stream",
          "text": [
            "Epoch 1/50\n",
            "76642/76642 [==============================] - 54s 710us/step - loss: 0.3414 - val_loss: 0.3106\n",
            "Epoch 2/50\n",
            "76642/76642 [==============================] - 67s 878us/step - loss: 0.3173 - val_loss: 0.3353\n",
            "Epoch 3/50\n",
            "76642/76642 [==============================] - 54s 698us/step - loss: 0.3156 - val_loss: 0.3130\n",
            "Epoch 4/50\n",
            "76642/76642 [==============================] - 57s 747us/step - loss: 0.3154 - val_loss: 0.3078\n",
            "Epoch 5/50\n",
            "76642/76642 [==============================] - 57s 743us/step - loss: 0.3154 - val_loss: 0.3055\n",
            "Epoch 6/50\n",
            "76642/76642 [==============================] - 60s 789us/step - loss: 0.3148 - val_loss: 0.3128\n",
            "Epoch 7/50\n",
            "76642/76642 [==============================] - 57s 749us/step - loss: 0.3150 - val_loss: 0.3228\n",
            "Epoch 8/50\n",
            "76642/76642 [==============================] - 61s 792us/step - loss: 0.3148 - val_loss: 0.3246\n",
            "Epoch 9/50\n",
            "76642/76642 [==============================] - 68s 889us/step - loss: 0.3145 - val_loss: 0.3081\n",
            "Epoch 10/50\n",
            "76642/76642 [==============================] - 70s 913us/step - loss: 0.3152 - val_loss: 0.3058\n",
            "Epoch 11/50\n",
            "76642/76642 [==============================] - 63s 819us/step - loss: 0.3146 - val_loss: 0.3045\n",
            "Epoch 12/50\n",
            "76642/76642 [==============================] - 66s 857us/step - loss: 0.3147 - val_loss: 0.3087\n",
            "Epoch 13/50\n",
            "76642/76642 [==============================] - 57s 748us/step - loss: 0.3145 - val_loss: 0.3096\n",
            "Epoch 14/50\n",
            "76642/76642 [==============================] - 56s 731us/step - loss: 0.3147 - val_loss: 0.3092\n",
            "Epoch 15/50\n",
            "76642/76642 [==============================] - 56s 732us/step - loss: 0.3145 - val_loss: 0.3061\n",
            "Epoch 16/50\n",
            "76642/76642 [==============================] - 55s 720us/step - loss: 0.3145 - val_loss: 0.3090\n",
            "Epoch 17/50\n",
            "76642/76642 [==============================] - 56s 735us/step - loss: 0.3144 - val_loss: 0.3065\n",
            "Epoch 18/50\n",
            "76642/76642 [==============================] - 58s 762us/step - loss: 0.3141 - val_loss: 0.3159\n",
            "Epoch 19/50\n",
            "76642/76642 [==============================] - 60s 780us/step - loss: 0.3144 - val_loss: 0.3172\n",
            "Epoch 20/50\n",
            "76642/76642 [==============================] - 61s 795us/step - loss: 0.3145 - val_loss: 0.3064\n",
            "Epoch 21/50\n",
            "76642/76642 [==============================] - 64s 834us/step - loss: 0.3147 - val_loss: 0.3130\n",
            "Epoch 22/50\n",
            "76642/76642 [==============================] - 62s 805us/step - loss: 0.3145 - val_loss: 0.3044\n",
            "Epoch 23/50\n",
            "76642/76642 [==============================] - 62s 811us/step - loss: 0.3143 - val_loss: 0.3129\n",
            "Epoch 24/50\n",
            "76642/76642 [==============================] - 57s 743us/step - loss: 0.3144 - val_loss: 0.3257\n",
            "Epoch 25/50\n",
            "76642/76642 [==============================] - 59s 772us/step - loss: 0.3144 - val_loss: 0.3255\n",
            "Epoch 26/50\n",
            "76642/76642 [==============================] - 64s 835us/step - loss: 0.3144 - val_loss: 0.3114\n",
            "Epoch 27/50\n",
            "76642/76642 [==============================] - 57s 747us/step - loss: 0.3142 - val_loss: 0.3105\n",
            "Epoch 28/50\n",
            "76642/76642 [==============================] - 57s 748us/step - loss: 0.3146 - val_loss: 0.3074\n",
            "Epoch 29/50\n",
            "76642/76642 [==============================] - 60s 777us/step - loss: 0.3145 - val_loss: 0.3217\n",
            "Epoch 30/50\n",
            "76642/76642 [==============================] - 58s 755us/step - loss: 0.3141 - val_loss: 0.3037\n",
            "Epoch 31/50\n",
            "76642/76642 [==============================] - 57s 750us/step - loss: 0.3142 - val_loss: 0.3161\n",
            "Epoch 32/50\n",
            "76642/76642 [==============================] - 58s 763us/step - loss: 0.3142 - val_loss: 0.3192\n",
            "Epoch 33/50\n",
            "76642/76642 [==============================] - 57s 739us/step - loss: 0.3147 - val_loss: 0.3201\n",
            "Epoch 34/50\n",
            "76642/76642 [==============================] - 56s 724us/step - loss: 0.3142 - val_loss: 0.3089\n",
            "Epoch 35/50\n",
            "76642/76642 [==============================] - 59s 774us/step - loss: 0.3146 - val_loss: 0.3048\n",
            "Epoch 36/50\n",
            "76642/76642 [==============================] - 65s 846us/step - loss: 0.3140 - val_loss: 0.3090\n",
            "Epoch 37/50\n",
            "76642/76642 [==============================] - 64s 839us/step - loss: 0.3142 - val_loss: 0.3110\n",
            "Epoch 38/50\n",
            "76642/76642 [==============================] - 57s 744us/step - loss: 0.3142 - val_loss: 0.3125\n",
            "Epoch 39/50\n",
            "76642/76642 [==============================] - 58s 758us/step - loss: 0.3146 - val_loss: 0.3093\n",
            "Epoch 40/50\n",
            "76642/76642 [==============================] - 58s 757us/step - loss: 0.3141 - val_loss: 0.3037\n",
            "Epoch 41/50\n",
            "76642/76642 [==============================] - 56s 735us/step - loss: 0.3143 - val_loss: 0.3050\n",
            "Epoch 42/50\n",
            "76642/76642 [==============================] - 61s 802us/step - loss: 0.3143 - val_loss: 0.3115\n",
            "Epoch 43/50\n",
            "76642/76642 [==============================] - 70s 919us/step - loss: 0.3141 - val_loss: 0.3177\n",
            "Epoch 44/50\n",
            "76642/76642 [==============================] - 67s 873us/step - loss: 0.3144 - val_loss: 0.3091\n",
            "Epoch 45/50\n",
            "76642/76642 [==============================] - 58s 752us/step - loss: 0.3141 - val_loss: 0.3047\n",
            "Epoch 46/50\n",
            "76642/76642 [==============================] - 56s 728us/step - loss: 0.3141 - val_loss: 0.3114\n",
            "Epoch 47/50\n",
            "76642/76642 [==============================] - 57s 743us/step - loss: 0.3140 - val_loss: 0.3091\n",
            "Epoch 48/50\n",
            "76642/76642 [==============================] - 57s 749us/step - loss: 0.3144 - val_loss: 0.3105\n",
            "Epoch 49/50\n",
            "76642/76642 [==============================] - 57s 740us/step - loss: 0.3141 - val_loss: 0.3100\n",
            "Epoch 50/50\n",
            "76642/76642 [==============================] - 60s 780us/step - loss: 0.3145 - val_loss: 0.3044\n"
          ],
          "name": "stdout"
        }
      ]
    },
    {
      "cell_type": "code",
      "metadata": {
        "id": "55tiKSQiilIR"
      },
      "source": [
        "predict_sgd = wider1.predict(X_test)\n",
        "predict_sgd = predict_sgd.flatten()"
      ],
      "execution_count": 45,
      "outputs": []
    },
    {
      "cell_type": "code",
      "metadata": {
        "id": "InoWKSlcit7D",
        "outputId": "eefb17ee-32d1-465c-cedd-e9fea5def41d",
        "colab": {
          "base_uri": "https://localhost:8080/",
          "height": 85
        }
      },
      "source": [
        "mse = mean_squared_error(y_test, predict_sgd)\n",
        "mae = mean_absolute_error(y_test, predict_sgd)\n",
        "r2 = r2_score(y_test, predict_sgd)\n",
        "print(\"MSE (Mean Squared Error)       :\", mse)\n",
        "print(\"MAE (Mean Absolute Error)      :\", mae)\n",
        "print(\"r^2 score                      :\", r2)\n",
        "print('RMSE (Root Mean Squared Error  :', np.sqrt(mean_squared_error(y_test, predict_sgd)))"
      ],
      "execution_count": 46,
      "outputs": [
        {
          "output_type": "stream",
          "text": [
            "MSE (Mean Squared Error)       : 0.30439101963260734\n",
            "MAE (Mean Absolute Error)      : 0.3570734521311529\n",
            "r^2 score                      : 0.6945674563245992\n",
            "RMSE (Root Mean Squared Error  : 0.5517164304537316\n"
          ],
          "name": "stdout"
        }
      ]
    },
    {
      "cell_type": "code",
      "metadata": {
        "id": "i9al8wloivIj",
        "outputId": "ec1ab842-1b14-4542-c4df-38d9682a1188",
        "colab": {
          "base_uri": "https://localhost:8080/",
          "height": 364
        }
      },
      "source": [
        "plot_loss_new(history3)"
      ],
      "execution_count": 47,
      "outputs": [
        {
          "output_type": "display_data",
          "data": {
            "image/png": "[encoded data removed]",
            "text/plain": [
              "<Figure size 432x288 with 1 Axes>"
            ]
          },
          "metadata": {
            "tags": [],
            "needs_background": "light"
          }
        },
        {
          "output_type": "stream",
          "text": [
            "Minimum Loss             : 46    0.313996\n",
            "Name: loss, dtype: float64\n",
            "\n",
            "Minimum Validation Loss  : 29    0.303704\n",
            "Name: val_loss, dtype: float64\n"
          ],
          "name": "stdout"
        }
      ]
    },
    {
      "cell_type": "markdown",
      "metadata": {
        "id": "bBvoBszgjnK-"
      },
      "source": [
        "Sweet spot berada di epoch 29 dengan val_loss 0.303704"
      ]
    },
    {
      "cell_type": "markdown",
      "metadata": {
        "id": "IsQ8Pj9sjnlc"
      },
      "source": [
        "## **Kesimpulan**\n",
        "\n",
        "Notebook terbagi dalam 2 folder yaitu folder Bottle_Deep_Learning_(Linear_Regression, Baseline_Layer, Wider SGD, Wider RMSprop) batch_size 8, dropna Saltny.ipynb dan Bottle_Deep_Learning_(Deeper,_Wider) batch_size 8, dropna Saltny.ipynb\n",
        "\n",
        "1. R2 score model Linear Regression            : 0.3538636192903619\n",
        "2. R2 score Deep Learning Model Baseline Layer : 0.702290156727983\n",
        "3. R2 score Deep Learning Model Deeper Layer   : 0.7043312743992796\n",
        "4. R2 score Deep Learning Model Wider Layer   : 0.7031906598053114\n",
        "5. R2 score Deep Learning Model Wider Layer SGD Optimizer   : 0.6945674563245992\n",
        "6. R2 score Deep Learning Model Wider Layer RMSprop Optimizer : 0.6811621705376254\n",
        "\n",
        "Model terbaik adalah model Deep Learning dengan Deeper Layer dan Optimizer Adam dengan nilai r2 score berada diangka 0.704, mungkin dengan penambahan feature bisa meningkatkan nilai r2 scorenya menjadi lebih baik lagi. Penambahan batch size juga bisa membuat kecepatan prosesnya menjadi lebih cepat walaupun belum tentu juga menghasilkan nilai r2 score yang lebih baik"
      ]
    }
  ]
}