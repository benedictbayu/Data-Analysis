{
  "nbformat": 4,
  "nbformat_minor": 0,
  "metadata": {
    "colab": {
      "name": "Bottle_Deep_Learning_batch_size_64.ipynb",
      "provenance": []
    },
    "kernelspec": {
      "name": "python3",
      "display_name": "Python 3"
    },
    "accelerator": "TPU"
  },
  "cells": [
    {
      "cell_type": "markdown",
      "metadata": {
        "id": "0ulD_bgG2onc"
      },
      "source": [
        "# **Bottle Deep Learning Version**\n",
        "\n",
        "**Benedictus Bayu Pramudhito**\n",
        "\n",
        "**Batch size = 64**"
      ]
    },
    {
      "cell_type": "code",
      "metadata": {
        "id": "9gOykl_WWeRa",
        "outputId": "584151b4-824b-4f76-867a-2d77de9b45ee",
        "colab": {
          "base_uri": "https://localhost:8080/",
          "height": 34
        }
      },
      "source": [
        "from google.colab import drive\n",
        "drive.mount('/content/drive')"
      ],
      "execution_count": null,
      "outputs": [
        {
          "output_type": "stream",
          "text": [
            "Mounted at /content/drive\n"
          ],
          "name": "stdout"
        }
      ]
    },
    {
      "cell_type": "code",
      "metadata": {
        "id": "a2BgA5vDJGlA"
      },
      "source": [
        "import pandas as pd\n",
        "import numpy as np\n",
        "import matplotlib.pyplot as plt\n",
        "import seaborn as sns"
      ],
      "execution_count": null,
      "outputs": []
    },
    {
      "cell_type": "code",
      "metadata": {
        "id": "iHvG4QOOJWDX",
        "outputId": "b28ed409-d01d-44ae-833d-4e7d3aa475b8",
        "colab": {
          "base_uri": "https://localhost:8080/",
          "height": 425
        }
      },
      "source": [
        "import os\n",
        "print('\\n'.join(os.listdir(r'./drive/My Drive/Colab Test (Bootcamp ML 2020)')))"
      ],
      "execution_count": null,
      "outputs": [
        {
          "output_type": "stream",
          "text": [
            "bottle.csv\n",
            "References\n",
            "Untitled0.ipynb\n",
            "Week_1_Python_1.ipynb\n",
            "heart.csv\n",
            "pima-indians-diabetes.csv\n",
            "sonar.csv\n",
            "housing.csv\n",
            "winequality-white.csv\n",
            "auto.csv\n",
            "sales.csv\n",
            "birth.csv\n",
            "shampoo.csv\n",
            "daily-min-temperatures.csv\n",
            "Quiz\n",
            "customer.csv\n",
            "iris.csv\n",
            "iris (1).csv\n",
            "Bootcamp Images\n",
            "parkinsons\n",
            "numbers_dataset\n",
            "bottle-updated.csv\n",
            "auto-mpg.csv\n",
            "auto (1).csv\n"
          ],
          "name": "stdout"
        }
      ]
    },
    {
      "cell_type": "code",
      "metadata": {
        "id": "SlYa4T63Jgu2",
        "outputId": "84e9049e-65c6-4798-ea62-87c999d544e0",
        "colab": {
          "base_uri": "https://localhost:8080/",
          "height": 204
        }
      },
      "source": [
        "df = pd.read_csv(r'./drive/My Drive/Colab Test (Bootcamp ML 2020)/bottle-updated.csv')\n",
        "df.head()"
      ],
      "execution_count": null,
      "outputs": [
        {
          "output_type": "execute_result",
          "data": {
            "text/html": [
              "<div>\n",
              "<style scoped>\n",
              "    .dataframe tbody tr th:only-of-type {\n",
              "        vertical-align: middle;\n",
              "    }\n",
              "\n",
              "    .dataframe tbody tr th {\n",
              "        vertical-align: top;\n",
              "    }\n",
              "\n",
              "    .dataframe thead th {\n",
              "        text-align: right;\n",
              "    }\n",
              "</style>\n",
              "<table border=\"1\" class=\"dataframe\">\n",
              "  <thead>\n",
              "    <tr style=\"text-align: right;\">\n",
              "      <th></th>\n",
              "      <th>Unnamed: 0</th>\n",
              "      <th>Depthm</th>\n",
              "      <th>T_degC</th>\n",
              "      <th>Salnty</th>\n",
              "    </tr>\n",
              "  </thead>\n",
              "  <tbody>\n",
              "    <tr>\n",
              "      <th>0</th>\n",
              "      <td>0</td>\n",
              "      <td>0</td>\n",
              "      <td>10.50</td>\n",
              "      <td>33.440</td>\n",
              "    </tr>\n",
              "    <tr>\n",
              "      <th>1</th>\n",
              "      <td>1</td>\n",
              "      <td>8</td>\n",
              "      <td>10.46</td>\n",
              "      <td>33.440</td>\n",
              "    </tr>\n",
              "    <tr>\n",
              "      <th>2</th>\n",
              "      <td>2</td>\n",
              "      <td>10</td>\n",
              "      <td>10.46</td>\n",
              "      <td>33.437</td>\n",
              "    </tr>\n",
              "    <tr>\n",
              "      <th>3</th>\n",
              "      <td>3</td>\n",
              "      <td>19</td>\n",
              "      <td>10.45</td>\n",
              "      <td>33.420</td>\n",
              "    </tr>\n",
              "    <tr>\n",
              "      <th>4</th>\n",
              "      <td>4</td>\n",
              "      <td>20</td>\n",
              "      <td>10.45</td>\n",
              "      <td>33.421</td>\n",
              "    </tr>\n",
              "  </tbody>\n",
              "</table>\n",
              "</div>"
            ],
            "text/plain": [
              "   Unnamed: 0  Depthm  T_degC  Salnty\n",
              "0           0       0   10.50  33.440\n",
              "1           1       8   10.46  33.440\n",
              "2           2      10   10.46  33.437\n",
              "3           3      19   10.45  33.420\n",
              "4           4      20   10.45  33.421"
            ]
          },
          "metadata": {
            "tags": []
          },
          "execution_count": 4
        }
      ]
    },
    {
      "cell_type": "code",
      "metadata": {
        "id": "aQvBDYEvJnDI",
        "outputId": "bc4f622e-e68d-4335-d5d8-2a79d2ec3a04",
        "colab": {
          "base_uri": "https://localhost:8080/",
          "height": 34
        }
      },
      "source": [
        "df.shape"
      ],
      "execution_count": null,
      "outputs": [
        {
          "output_type": "execute_result",
          "data": {
            "text/plain": [
              "(864863, 4)"
            ]
          },
          "metadata": {
            "tags": []
          },
          "execution_count": 5
        }
      ]
    },
    {
      "cell_type": "code",
      "metadata": {
        "id": "WsKSUGpBJwDY",
        "outputId": "de4f6b30-a8fd-45ba-87ce-396980702f98",
        "colab": {
          "base_uri": "https://localhost:8080/",
          "height": 102
        }
      },
      "source": [
        "df.dtypes"
      ],
      "execution_count": null,
      "outputs": [
        {
          "output_type": "execute_result",
          "data": {
            "text/plain": [
              "Unnamed: 0      int64\n",
              "Depthm          int64\n",
              "T_degC        float64\n",
              "Salnty        float64\n",
              "dtype: object"
            ]
          },
          "metadata": {
            "tags": []
          },
          "execution_count": 6
        }
      ]
    },
    {
      "cell_type": "code",
      "metadata": {
        "id": "cHEbIFrOJp5d",
        "outputId": "3915a3be-7ee7-4125-85ce-28602b829c5f",
        "colab": {
          "base_uri": "https://localhost:8080/",
          "height": 173
        }
      },
      "source": [
        "df.describe().T"
      ],
      "execution_count": null,
      "outputs": [
        {
          "output_type": "execute_result",
          "data": {
            "text/html": [
              "<div>\n",
              "<style scoped>\n",
              "    .dataframe tbody tr th:only-of-type {\n",
              "        vertical-align: middle;\n",
              "    }\n",
              "\n",
              "    .dataframe tbody tr th {\n",
              "        vertical-align: top;\n",
              "    }\n",
              "\n",
              "    .dataframe thead th {\n",
              "        text-align: right;\n",
              "    }\n",
              "</style>\n",
              "<table border=\"1\" class=\"dataframe\">\n",
              "  <thead>\n",
              "    <tr style=\"text-align: right;\">\n",
              "      <th></th>\n",
              "      <th>count</th>\n",
              "      <th>mean</th>\n",
              "      <th>std</th>\n",
              "      <th>min</th>\n",
              "      <th>25%</th>\n",
              "      <th>50%</th>\n",
              "      <th>75%</th>\n",
              "      <th>max</th>\n",
              "    </tr>\n",
              "  </thead>\n",
              "  <tbody>\n",
              "    <tr>\n",
              "      <th>Unnamed: 0</th>\n",
              "      <td>864863.0</td>\n",
              "      <td>432431.000000</td>\n",
              "      <td>249664.587267</td>\n",
              "      <td>0.000</td>\n",
              "      <td>216215.500</td>\n",
              "      <td>432431.000</td>\n",
              "      <td>648646.5000</td>\n",
              "      <td>864862.000</td>\n",
              "    </tr>\n",
              "    <tr>\n",
              "      <th>Depthm</th>\n",
              "      <td>864863.0</td>\n",
              "      <td>226.831951</td>\n",
              "      <td>316.050259</td>\n",
              "      <td>0.000</td>\n",
              "      <td>46.000</td>\n",
              "      <td>125.000</td>\n",
              "      <td>300.0000</td>\n",
              "      <td>5351.000</td>\n",
              "    </tr>\n",
              "    <tr>\n",
              "      <th>T_degC</th>\n",
              "      <td>853900.0</td>\n",
              "      <td>10.799677</td>\n",
              "      <td>4.243825</td>\n",
              "      <td>1.440</td>\n",
              "      <td>7.680</td>\n",
              "      <td>10.060</td>\n",
              "      <td>13.8800</td>\n",
              "      <td>31.140</td>\n",
              "    </tr>\n",
              "    <tr>\n",
              "      <th>Salnty</th>\n",
              "      <td>817509.0</td>\n",
              "      <td>33.840350</td>\n",
              "      <td>0.461843</td>\n",
              "      <td>28.431</td>\n",
              "      <td>33.488</td>\n",
              "      <td>33.863</td>\n",
              "      <td>34.1969</td>\n",
              "      <td>37.034</td>\n",
              "    </tr>\n",
              "  </tbody>\n",
              "</table>\n",
              "</div>"
            ],
            "text/plain": [
              "               count           mean  ...          75%         max\n",
              "Unnamed: 0  864863.0  432431.000000  ...  648646.5000  864862.000\n",
              "Depthm      864863.0     226.831951  ...     300.0000    5351.000\n",
              "T_degC      853900.0      10.799677  ...      13.8800      31.140\n",
              "Salnty      817509.0      33.840350  ...      34.1969      37.034\n",
              "\n",
              "[4 rows x 8 columns]"
            ]
          },
          "metadata": {
            "tags": []
          },
          "execution_count": 7
        }
      ]
    },
    {
      "cell_type": "code",
      "metadata": {
        "id": "kyWIzrYVMGxF"
      },
      "source": [
        "df.drop(['Unnamed: 0'], axis=1, inplace=True)"
      ],
      "execution_count": null,
      "outputs": []
    },
    {
      "cell_type": "code",
      "metadata": {
        "id": "I7fEMffjMNQ8",
        "outputId": "f7238c1b-0e8f-4217-b8c9-567b2ea9fb34",
        "colab": {
          "base_uri": "https://localhost:8080/",
          "height": 204
        }
      },
      "source": [
        "df.head()"
      ],
      "execution_count": null,
      "outputs": [
        {
          "output_type": "execute_result",
          "data": {
            "text/html": [
              "<div>\n",
              "<style scoped>\n",
              "    .dataframe tbody tr th:only-of-type {\n",
              "        vertical-align: middle;\n",
              "    }\n",
              "\n",
              "    .dataframe tbody tr th {\n",
              "        vertical-align: top;\n",
              "    }\n",
              "\n",
              "    .dataframe thead th {\n",
              "        text-align: right;\n",
              "    }\n",
              "</style>\n",
              "<table border=\"1\" class=\"dataframe\">\n",
              "  <thead>\n",
              "    <tr style=\"text-align: right;\">\n",
              "      <th></th>\n",
              "      <th>Depthm</th>\n",
              "      <th>T_degC</th>\n",
              "      <th>Salnty</th>\n",
              "    </tr>\n",
              "  </thead>\n",
              "  <tbody>\n",
              "    <tr>\n",
              "      <th>0</th>\n",
              "      <td>0</td>\n",
              "      <td>10.50</td>\n",
              "      <td>33.440</td>\n",
              "    </tr>\n",
              "    <tr>\n",
              "      <th>1</th>\n",
              "      <td>8</td>\n",
              "      <td>10.46</td>\n",
              "      <td>33.440</td>\n",
              "    </tr>\n",
              "    <tr>\n",
              "      <th>2</th>\n",
              "      <td>10</td>\n",
              "      <td>10.46</td>\n",
              "      <td>33.437</td>\n",
              "    </tr>\n",
              "    <tr>\n",
              "      <th>3</th>\n",
              "      <td>19</td>\n",
              "      <td>10.45</td>\n",
              "      <td>33.420</td>\n",
              "    </tr>\n",
              "    <tr>\n",
              "      <th>4</th>\n",
              "      <td>20</td>\n",
              "      <td>10.45</td>\n",
              "      <td>33.421</td>\n",
              "    </tr>\n",
              "  </tbody>\n",
              "</table>\n",
              "</div>"
            ],
            "text/plain": [
              "   Depthm  T_degC  Salnty\n",
              "0       0   10.50  33.440\n",
              "1       8   10.46  33.440\n",
              "2      10   10.46  33.437\n",
              "3      19   10.45  33.420\n",
              "4      20   10.45  33.421"
            ]
          },
          "metadata": {
            "tags": []
          },
          "execution_count": 9
        }
      ]
    },
    {
      "cell_type": "code",
      "metadata": {
        "id": "lBffDlvtMS7t",
        "outputId": "9c1844ff-c462-4f47-bbae-45b9f7854cde",
        "colab": {
          "base_uri": "https://localhost:8080/",
          "height": 102
        }
      },
      "source": [
        "print(df.dtypes)\n",
        "df.shape"
      ],
      "execution_count": null,
      "outputs": [
        {
          "output_type": "stream",
          "text": [
            "Depthm      int64\n",
            "T_degC    float64\n",
            "Salnty    float64\n",
            "dtype: object\n"
          ],
          "name": "stdout"
        },
        {
          "output_type": "execute_result",
          "data": {
            "text/plain": [
              "(864863, 3)"
            ]
          },
          "metadata": {
            "tags": []
          },
          "execution_count": 10
        }
      ]
    },
    {
      "cell_type": "code",
      "metadata": {
        "id": "gUywwLjTMoSk",
        "outputId": "d67ce498-4c3a-434b-a047-22ad4b0ad8e9",
        "colab": {
          "base_uri": "https://localhost:8080/",
          "height": 142
        }
      },
      "source": [
        "nulls = df.isnull().sum().sort_values(ascending=False)\n",
        "percent = round(nulls/len(df)*100, 2)\n",
        "\n",
        "df_null = pd.DataFrame(columns=['Features', 'Total', 'Percent'])\n",
        "df_null['Features'] = nulls.index\n",
        "df_null['Total'] = nulls.values\n",
        "df_null['Percent'] = percent.values\n",
        "\n",
        "df_null"
      ],
      "execution_count": null,
      "outputs": [
        {
          "output_type": "execute_result",
          "data": {
            "text/html": [
              "<div>\n",
              "<style scoped>\n",
              "    .dataframe tbody tr th:only-of-type {\n",
              "        vertical-align: middle;\n",
              "    }\n",
              "\n",
              "    .dataframe tbody tr th {\n",
              "        vertical-align: top;\n",
              "    }\n",
              "\n",
              "    .dataframe thead th {\n",
              "        text-align: right;\n",
              "    }\n",
              "</style>\n",
              "<table border=\"1\" class=\"dataframe\">\n",
              "  <thead>\n",
              "    <tr style=\"text-align: right;\">\n",
              "      <th></th>\n",
              "      <th>Features</th>\n",
              "      <th>Total</th>\n",
              "      <th>Percent</th>\n",
              "    </tr>\n",
              "  </thead>\n",
              "  <tbody>\n",
              "    <tr>\n",
              "      <th>0</th>\n",
              "      <td>Salnty</td>\n",
              "      <td>47354</td>\n",
              "      <td>5.48</td>\n",
              "    </tr>\n",
              "    <tr>\n",
              "      <th>1</th>\n",
              "      <td>T_degC</td>\n",
              "      <td>10963</td>\n",
              "      <td>1.27</td>\n",
              "    </tr>\n",
              "    <tr>\n",
              "      <th>2</th>\n",
              "      <td>Depthm</td>\n",
              "      <td>0</td>\n",
              "      <td>0.00</td>\n",
              "    </tr>\n",
              "  </tbody>\n",
              "</table>\n",
              "</div>"
            ],
            "text/plain": [
              "  Features  Total  Percent\n",
              "0   Salnty  47354     5.48\n",
              "1   T_degC  10963     1.27\n",
              "2   Depthm      0     0.00"
            ]
          },
          "metadata": {
            "tags": []
          },
          "execution_count": 11
        }
      ]
    },
    {
      "cell_type": "code",
      "metadata": {
        "id": "D2gF5yY7Mq4w",
        "outputId": "d1c5fe66-c8d5-40fb-f201-cf3e846225e3",
        "colab": {
          "base_uri": "https://localhost:8080/",
          "height": 51
        }
      },
      "source": [
        "#Isi missing values\n",
        "for i in df.columns:\n",
        "  if df[i].isnull().sum() > 0:\n",
        "    df[i].fillna(df[i].mode().mean(), inplace=True)\n",
        "    print('Filled', i)"
      ],
      "execution_count": null,
      "outputs": [
        {
          "output_type": "stream",
          "text": [
            "Filled T_degC\n",
            "Filled Salnty\n"
          ],
          "name": "stdout"
        }
      ]
    },
    {
      "cell_type": "code",
      "metadata": {
        "id": "F9GE95qDOG7S",
        "outputId": "f9112d3a-2e20-40c4-f2d8-52b02a15e533",
        "colab": {
          "base_uri": "https://localhost:8080/",
          "height": 142
        }
      },
      "source": [
        "#Cek ulang missing valuesnya\n",
        "nulls = df.isnull().sum().sort_values(ascending=False)\n",
        "percent = round(nulls/len(df)*100, 2)\n",
        "\n",
        "df_null = pd.DataFrame(columns=['Features', 'Total', 'Percent'])\n",
        "df_null['Features'] = nulls.index\n",
        "df_null['Total'] = nulls.values\n",
        "df_null['Percent'] = percent.values\n",
        "\n",
        "df_null"
      ],
      "execution_count": null,
      "outputs": [
        {
          "output_type": "execute_result",
          "data": {
            "text/html": [
              "<div>\n",
              "<style scoped>\n",
              "    .dataframe tbody tr th:only-of-type {\n",
              "        vertical-align: middle;\n",
              "    }\n",
              "\n",
              "    .dataframe tbody tr th {\n",
              "        vertical-align: top;\n",
              "    }\n",
              "\n",
              "    .dataframe thead th {\n",
              "        text-align: right;\n",
              "    }\n",
              "</style>\n",
              "<table border=\"1\" class=\"dataframe\">\n",
              "  <thead>\n",
              "    <tr style=\"text-align: right;\">\n",
              "      <th></th>\n",
              "      <th>Features</th>\n",
              "      <th>Total</th>\n",
              "      <th>Percent</th>\n",
              "    </tr>\n",
              "  </thead>\n",
              "  <tbody>\n",
              "    <tr>\n",
              "      <th>0</th>\n",
              "      <td>Salnty</td>\n",
              "      <td>0</td>\n",
              "      <td>0.0</td>\n",
              "    </tr>\n",
              "    <tr>\n",
              "      <th>1</th>\n",
              "      <td>T_degC</td>\n",
              "      <td>0</td>\n",
              "      <td>0.0</td>\n",
              "    </tr>\n",
              "    <tr>\n",
              "      <th>2</th>\n",
              "      <td>Depthm</td>\n",
              "      <td>0</td>\n",
              "      <td>0.0</td>\n",
              "    </tr>\n",
              "  </tbody>\n",
              "</table>\n",
              "</div>"
            ],
            "text/plain": [
              "  Features  Total  Percent\n",
              "0   Salnty      0      0.0\n",
              "1   T_degC      0      0.0\n",
              "2   Depthm      0      0.0"
            ]
          },
          "metadata": {
            "tags": []
          },
          "execution_count": 13
        }
      ]
    },
    {
      "cell_type": "code",
      "metadata": {
        "id": "_u13DjazQS-G",
        "outputId": "cca32fb8-ed8d-456e-a442-792f26307e94",
        "colab": {
          "base_uri": "https://localhost:8080/",
          "height": 85
        }
      },
      "source": [
        "df.dtypes"
      ],
      "execution_count": null,
      "outputs": [
        {
          "output_type": "execute_result",
          "data": {
            "text/plain": [
              "Depthm      int64\n",
              "T_degC    float64\n",
              "Salnty    float64\n",
              "dtype: object"
            ]
          },
          "metadata": {
            "tags": []
          },
          "execution_count": 14
        }
      ]
    },
    {
      "cell_type": "code",
      "metadata": {
        "id": "eR9MPNmYQR7X",
        "outputId": "71335695-3c2a-4152-94aa-9e655529cbb4",
        "colab": {
          "base_uri": "https://localhost:8080/",
          "height": 1000
        }
      },
      "source": [
        "df_numbers = df.select_dtypes(include=['float64', 'int64'])\n",
        "\n",
        "df_numbers.hist(figsize=(18, 22), bins=50, xlabelsize=8, ylabelsize=8)\n",
        "plt.show()"
      ],
      "execution_count": null,
      "outputs": [
        {
          "output_type": "display_data",
          "data": {
            "image/png": "[encoded data removed]",
            "text/plain": [
              "<Figure size 1296x1584 with 4 Axes>"
            ]
          },
          "metadata": {
            "tags": [],
            "needs_background": "light"
          }
        }
      ]
    },
    {
      "cell_type": "code",
      "metadata": {
        "id": "mkVnf9IOQXpB",
        "outputId": "72ce66e8-35b9-4f1a-98fe-b7d3daf6fda3",
        "colab": {
          "base_uri": "https://localhost:8080/",
          "height": 578
        }
      },
      "source": [
        "plt.figure(figsize=(10, 10))\n",
        "sns.heatmap(df.corr(), annot=True, annot_kws={'size':10}, cbar=True, square=True, fmt='.2f', cmap='Blues')\n",
        "plt.show()"
      ],
      "execution_count": null,
      "outputs": [
        {
          "output_type": "display_data",
          "data": {
            "image/png": "[encoded data removed]",
            "text/plain": [
              "<Figure size 720x720 with 2 Axes>"
            ]
          },
          "metadata": {
            "tags": [],
            "needs_background": "light"
          }
        }
      ]
    },
    {
      "cell_type": "markdown",
      "metadata": {
        "id": "iLXSBuojQEeH"
      },
      "source": [
        "## **Machine Learning Model**"
      ]
    },
    {
      "cell_type": "markdown",
      "metadata": {
        "id": "4cpIFxIFQfWZ"
      },
      "source": [
        "### **Linear Regression**"
      ]
    },
    {
      "cell_type": "markdown",
      "metadata": {
        "id": "lksywk7jQhrY"
      },
      "source": [
        "**Feature Engineering**"
      ]
    },
    {
      "cell_type": "code",
      "metadata": {
        "id": "qVRVvmjcQC4Z"
      },
      "source": [
        "from sklearn.preprocessing import StandardScaler, PowerTransformer, QuantileTransformer, MinMaxScaler, MaxAbsScaler, RobustScaler\n",
        "from sklearn.model_selection import train_test_split\n",
        "from sklearn.linear_model import LinearRegression\n",
        "from sklearn.metrics import mean_squared_error, mean_absolute_error, r2_score"
      ],
      "execution_count": null,
      "outputs": []
    },
    {
      "cell_type": "code",
      "metadata": {
        "id": "FhzJfpBrQjwR"
      },
      "source": [
        "X = df.drop(['Salnty'], axis=1)\n",
        "y = df['Salnty']"
      ],
      "execution_count": null,
      "outputs": []
    },
    {
      "cell_type": "code",
      "metadata": {
        "id": "JKbJqCSKQn0Q"
      },
      "source": [
        "stdr = StandardScaler()\n",
        "\n",
        "X = stdr.fit_transform(X.values)\n",
        "y = stdr.fit_transform(df['Salnty'].values.reshape(-1, 1)).flatten()"
      ],
      "execution_count": null,
      "outputs": []
    },
    {
      "cell_type": "code",
      "metadata": {
        "id": "vcr4Z5MLQyeR"
      },
      "source": [
        "X_train, X_test, y_train, y_test = train_test_split(X, y, test_size=0.25, random_state=10)"
      ],
      "execution_count": null,
      "outputs": []
    },
    {
      "cell_type": "code",
      "metadata": {
        "id": "IQ1tQZq7Q2mP",
        "outputId": "d9b891d6-d08a-499d-e62b-1a5b7a8b8a9d",
        "colab": {
          "base_uri": "https://localhost:8080/",
          "height": 34
        }
      },
      "source": [
        "X_train.shape, X_test.shape, y_train.shape, y_test.shape"
      ],
      "execution_count": null,
      "outputs": [
        {
          "output_type": "execute_result",
          "data": {
            "text/plain": [
              "((648647, 2), (216216, 2), (648647,), (216216,))"
            ]
          },
          "metadata": {
            "tags": []
          },
          "execution_count": 21
        }
      ]
    },
    {
      "cell_type": "code",
      "metadata": {
        "id": "dCkMe422Q6-i"
      },
      "source": [
        "linreg = LinearRegression()\n",
        "linreg.fit(X_train, y_train)\n",
        "\n",
        "predict_lm = linreg.predict(X_test)"
      ],
      "execution_count": null,
      "outputs": []
    },
    {
      "cell_type": "code",
      "metadata": {
        "id": "-vmTZYV1RY1P",
        "outputId": "15c37722-82b1-44c9-ed8a-efaa994aae92",
        "colab": {
          "base_uri": "https://localhost:8080/",
          "height": 85
        }
      },
      "source": [
        "mse = mean_squared_error(y_test, predict_lm)\n",
        "mae = mean_absolute_error(y_test, predict_lm)\n",
        "r2 = r2_score(y_test, predict_lm)\n",
        "print(\"MSE (Mean Squared Error)       :\", mse)\n",
        "print(\"MAE (Mean Absolute Error)      :\", mae)\n",
        "print(\"r^2 score                      :\", r2)\n",
        "print('RMSE (Root Mean Squared Error  :', np.sqrt(mean_squared_error(y_test, predict_lm)))"
      ],
      "execution_count": null,
      "outputs": [
        {
          "output_type": "stream",
          "text": [
            "MSE (Mean Squared Error)       : 0.7004045653886645\n",
            "MAE (Mean Absolute Error)      : 0.6007392481489782\n",
            "r^2 score                      : 0.3013722059652524\n",
            "RMSE (Root Mean Squared Error  : 0.8369017656742423\n"
          ],
          "name": "stdout"
        }
      ]
    },
    {
      "cell_type": "markdown",
      "metadata": {
        "id": "0P1KIVXnRcmy"
      },
      "source": [
        "## **Deep Learning Model**"
      ]
    },
    {
      "cell_type": "code",
      "metadata": {
        "id": "7zQvwsNpRZ9T"
      },
      "source": [
        "def plot_loss_new(history):\n",
        "  history_df = pd.DataFrame(history.history)\n",
        "\n",
        "  min_loss_index = history_df[history_df['loss']==min(history_df['loss'])].index.values\n",
        "  min_loss = history_df.loc[min_loss_index]['loss']\n",
        "  min_val_loss_index = history_df[history_df['val_loss']==min(history_df['val_loss'])].index.values\n",
        "  min_val_loss = history_df.loc[min_val_loss_index]['val_loss']\n",
        "\n",
        "  plt.plot(history.history['loss'], label='loss')\n",
        "  plt.plot(history.history['val_loss'], label='val_loss')\n",
        "  plt.plot(min_loss_index, min_loss, 'o', c='k', ms=4, label='min loss')\n",
        "  plt.plot(min_val_loss_index, min_val_loss, 'o', c='k', ms=4, label='min val_loss')\n",
        "  plt.xlabel('Epoch')\n",
        "  plt.ylabel('Loss')\n",
        "  plt.legend()\n",
        "  plt.grid(True)\n",
        "  plt.show()\n",
        "\n",
        "  print('Minimum Loss             :', min_loss)\n",
        "  print()\n",
        "  print('Minimum Validation Loss  :', min_val_loss)"
      ],
      "execution_count": null,
      "outputs": []
    },
    {
      "cell_type": "code",
      "metadata": {
        "id": "ZlTDcPlPRfL1"
      },
      "source": [
        "from tensorflow.keras.models import Sequential\n",
        "from tensorflow.keras.layers import Dense"
      ],
      "execution_count": null,
      "outputs": []
    },
    {
      "cell_type": "code",
      "metadata": {
        "id": "PcEtqbRdRgdq"
      },
      "source": [
        "model = Sequential()\n",
        "model.add(Dense(13, input_dim=2, kernel_initializer='normal', activation='relu'))\n",
        "model.add(Dense(1, kernel_initializer='normal'))\n",
        "\n",
        "model.compile(loss='mean_squared_error', optimizer='adam')"
      ],
      "execution_count": null,
      "outputs": []
    },
    {
      "cell_type": "code",
      "metadata": {
        "id": "4VvXkdDzRjlP",
        "outputId": "59a28beb-fcc2-417c-a66f-a53a8746a283",
        "colab": {
          "base_uri": "https://localhost:8080/",
          "height": 1000
        }
      },
      "source": [
        "history = model.fit(x=X_train, y=y_train, validation_data=(X_test, y_test), epochs=50, batch_size=64)"
      ],
      "execution_count": null,
      "outputs": [
        {
          "output_type": "stream",
          "text": [
            "Epoch 1/50\n",
            "10136/10136 [==============================] - 10s 1ms/step - loss: 0.4319 - val_loss: 0.4117\n",
            "Epoch 2/50\n",
            "10136/10136 [==============================] - 10s 986us/step - loss: 0.4041 - val_loss: 0.4060\n",
            "Epoch 3/50\n",
            "10136/10136 [==============================] - 10s 984us/step - loss: 0.4014 - val_loss: 0.4041\n",
            "Epoch 4/50\n",
            "10136/10136 [==============================] - 10s 975us/step - loss: 0.4006 - val_loss: 0.4039\n",
            "Epoch 5/50\n",
            "10136/10136 [==============================] - 10s 982us/step - loss: 0.4004 - val_loss: 0.4032\n",
            "Epoch 6/50\n",
            "10136/10136 [==============================] - 10s 970us/step - loss: 0.4001 - val_loss: 0.4032\n",
            "Epoch 7/50\n",
            "10136/10136 [==============================] - 10s 959us/step - loss: 0.3999 - val_loss: 0.4030\n",
            "Epoch 8/50\n",
            "10136/10136 [==============================] - 10s 963us/step - loss: 0.3997 - val_loss: 0.4036\n",
            "Epoch 9/50\n",
            "10136/10136 [==============================] - 10s 984us/step - loss: 0.3996 - val_loss: 0.4026\n",
            "Epoch 10/50\n",
            "10136/10136 [==============================] - 10s 976us/step - loss: 0.3993 - val_loss: 0.4043\n",
            "Epoch 11/50\n",
            "10136/10136 [==============================] - 10s 969us/step - loss: 0.3993 - val_loss: 0.4023\n",
            "Epoch 12/50\n",
            "10136/10136 [==============================] - 10s 975us/step - loss: 0.3990 - val_loss: 0.4017\n",
            "Epoch 13/50\n",
            "10136/10136 [==============================] - 10s 986us/step - loss: 0.3988 - val_loss: 0.4014\n",
            "Epoch 14/50\n",
            "10136/10136 [==============================] - 11s 1ms/step - loss: 0.3988 - val_loss: 0.4028\n",
            "Epoch 15/50\n",
            "10136/10136 [==============================] - 10s 966us/step - loss: 0.3987 - val_loss: 0.4014\n",
            "Epoch 16/50\n",
            "10136/10136 [==============================] - 11s 1ms/step - loss: 0.3985 - val_loss: 0.4014\n",
            "Epoch 17/50\n",
            "10136/10136 [==============================] - 10s 966us/step - loss: 0.3985 - val_loss: 0.4066\n",
            "Epoch 18/50\n",
            "10136/10136 [==============================] - 10s 966us/step - loss: 0.3985 - val_loss: 0.4025\n",
            "Epoch 19/50\n",
            "10136/10136 [==============================] - 10s 959us/step - loss: 0.3984 - val_loss: 0.4012\n",
            "Epoch 20/50\n",
            "10136/10136 [==============================] - 10s 967us/step - loss: 0.3982 - val_loss: 0.4006\n",
            "Epoch 21/50\n",
            "10136/10136 [==============================] - 10s 963us/step - loss: 0.3981 - val_loss: 0.4020\n",
            "Epoch 22/50\n",
            "10136/10136 [==============================] - 10s 974us/step - loss: 0.3981 - val_loss: 0.4038\n",
            "Epoch 23/50\n",
            "10136/10136 [==============================] - 10s 963us/step - loss: 0.3980 - val_loss: 0.4011\n",
            "Epoch 24/50\n",
            "10136/10136 [==============================] - 10s 957us/step - loss: 0.3979 - val_loss: 0.4006\n",
            "Epoch 25/50\n",
            "10136/10136 [==============================] - 10s 954us/step - loss: 0.3980 - val_loss: 0.4003\n",
            "Epoch 26/50\n",
            "10136/10136 [==============================] - 10s 961us/step - loss: 0.3979 - val_loss: 0.4014\n",
            "Epoch 27/50\n",
            "10136/10136 [==============================] - 10s 957us/step - loss: 0.3978 - val_loss: 0.4003\n",
            "Epoch 28/50\n",
            "10136/10136 [==============================] - 10s 963us/step - loss: 0.3978 - val_loss: 0.4000\n",
            "Epoch 29/50\n",
            "10136/10136 [==============================] - 10s 963us/step - loss: 0.3977 - val_loss: 0.4000\n",
            "Epoch 30/50\n",
            "10136/10136 [==============================] - 10s 960us/step - loss: 0.3977 - val_loss: 0.4001\n",
            "Epoch 31/50\n",
            "10136/10136 [==============================] - 10s 962us/step - loss: 0.3977 - val_loss: 0.3998\n",
            "Epoch 32/50\n",
            "10136/10136 [==============================] - 10s 958us/step - loss: 0.3976 - val_loss: 0.4013\n",
            "Epoch 33/50\n",
            "10136/10136 [==============================] - 10s 958us/step - loss: 0.3976 - val_loss: 0.4014\n",
            "Epoch 34/50\n",
            "10136/10136 [==============================] - 10s 966us/step - loss: 0.3975 - val_loss: 0.4001\n",
            "Epoch 35/50\n",
            "10136/10136 [==============================] - 10s 965us/step - loss: 0.3975 - val_loss: 0.3997\n",
            "Epoch 36/50\n",
            "10136/10136 [==============================] - 10s 964us/step - loss: 0.3974 - val_loss: 0.4012\n",
            "Epoch 37/50\n",
            "10136/10136 [==============================] - 10s 959us/step - loss: 0.3971 - val_loss: 0.4007\n",
            "Epoch 38/50\n",
            "10136/10136 [==============================] - 10s 963us/step - loss: 0.3969 - val_loss: 0.4004\n",
            "Epoch 39/50\n",
            "10136/10136 [==============================] - 10s 958us/step - loss: 0.3967 - val_loss: 0.3990\n",
            "Epoch 40/50\n",
            "10136/10136 [==============================] - 10s 961us/step - loss: 0.3966 - val_loss: 0.4003\n",
            "Epoch 41/50\n",
            "10136/10136 [==============================] - 10s 963us/step - loss: 0.3963 - val_loss: 0.4012\n",
            "Epoch 42/50\n",
            "10136/10136 [==============================] - 10s 967us/step - loss: 0.3962 - val_loss: 0.4013\n",
            "Epoch 43/50\n",
            "10136/10136 [==============================] - 10s 984us/step - loss: 0.3962 - val_loss: 0.3999\n",
            "Epoch 44/50\n",
            "10136/10136 [==============================] - 10s 957us/step - loss: 0.3960 - val_loss: 0.3992\n",
            "Epoch 45/50\n",
            "10136/10136 [==============================] - 11s 1ms/step - loss: 0.3959 - val_loss: 0.3993\n",
            "Epoch 46/50\n",
            "10136/10136 [==============================] - 10s 1ms/step - loss: 0.3958 - val_loss: 0.4032\n",
            "Epoch 47/50\n",
            "10136/10136 [==============================] - 11s 1ms/step - loss: 0.3959 - val_loss: 0.3990\n",
            "Epoch 48/50\n",
            "10136/10136 [==============================] - 10s 965us/step - loss: 0.3957 - val_loss: 0.4027\n",
            "Epoch 49/50\n",
            "10136/10136 [==============================] - 10s 967us/step - loss: 0.3956 - val_loss: 0.3984\n",
            "Epoch 50/50\n",
            "10136/10136 [==============================] - 10s 964us/step - loss: 0.3956 - val_loss: 0.4010\n"
          ],
          "name": "stdout"
        }
      ]
    },
    {
      "cell_type": "code",
      "metadata": {
        "id": "_faukDObRo0L"
      },
      "source": [
        "predict_dl = model.predict(X_test)\n",
        "predict_dl = predict_dl.flatten()"
      ],
      "execution_count": null,
      "outputs": []
    },
    {
      "cell_type": "code",
      "metadata": {
        "id": "7011XdaExkz3",
        "outputId": "311d6868-0bfe-4504-c699-048d51e98bab",
        "colab": {
          "base_uri": "https://localhost:8080/",
          "height": 85
        }
      },
      "source": [
        "mse = mean_squared_error(y_test, predict_dl)\n",
        "mae = mean_absolute_error(y_test, predict_dl)\n",
        "r2 = r2_score(y_test, predict_dl)\n",
        "print(\"MSE (Mean Squared Error)       :\", mse)\n",
        "print(\"MAE (Mean Absolute Error)      :\", mae)\n",
        "print(\"r^2 score                      :\", r2)\n",
        "print('RMSE (Root Mean Squared Error) :', np.sqrt(mean_squared_error(y_test, predict_dl)))"
      ],
      "execution_count": null,
      "outputs": [
        {
          "output_type": "stream",
          "text": [
            "MSE (Mean Squared Error)       : 0.40102307799146486\n",
            "MAE (Mean Absolute Error)      : 0.43223807444115186\n",
            "r^2 score                      : 0.5999942287944202\n",
            "RMSE (Root Mean Squared Error) : 0.6332638296882784\n"
          ],
          "name": "stdout"
        }
      ]
    },
    {
      "cell_type": "code",
      "metadata": {
        "id": "ObsbkaETxnyR",
        "outputId": "8e2301fb-7cbd-4272-ff7a-ccedfbe713e6",
        "colab": {
          "base_uri": "https://localhost:8080/",
          "height": 364
        }
      },
      "source": [
        "plot_loss_new(history)"
      ],
      "execution_count": null,
      "outputs": [
        {
          "output_type": "display_data",
          "data": {
            "image/png": "[encoded data removed]",
            "text/plain": [
              "<Figure size 432x288 with 1 Axes>"
            ]
          },
          "metadata": {
            "tags": [],
            "needs_background": "light"
          }
        },
        {
          "output_type": "stream",
          "text": [
            "Minimum Loss             : 49    0.395556\n",
            "Name: loss, dtype: float64\n",
            "\n",
            "Minimum Validation Loss  : 48    0.398377\n",
            "Name: val_loss, dtype: float64\n"
          ],
          "name": "stdout"
        }
      ]
    },
    {
      "cell_type": "markdown",
      "metadata": {
        "id": "07T9lBuZ8tdY"
      },
      "source": [
        "Sweet spot berada pada epoch 48 dengan val_loss 0.398377"
      ]
    },
    {
      "cell_type": "markdown",
      "metadata": {
        "id": "OfRXSkIu6DzE"
      },
      "source": [
        "## **Deep Learning with Deeper Model**"
      ]
    },
    {
      "cell_type": "code",
      "metadata": {
        "id": "A5uWP9QX4oIj"
      },
      "source": [
        "deeper = Sequential()\n",
        "deeper.add(Dense(13, input_dim=2, kernel_initializer='normal', activation='relu'))\n",
        "deeper.add(Dense(6, kernel_initializer='normal', activation='relu'))\n",
        "deeper.add(Dense(1, kernel_initializer='normal'))\n",
        "\n",
        "deeper.compile(loss='mean_squared_error', optimizer='adam')"
      ],
      "execution_count": null,
      "outputs": []
    },
    {
      "cell_type": "code",
      "metadata": {
        "id": "owSBo_Jz4oR0",
        "outputId": "87a1f7af-d521-4781-881f-df9ae250a50a",
        "colab": {
          "base_uri": "https://localhost:8080/",
          "height": 255
        }
      },
      "source": [
        "deeper.summary()"
      ],
      "execution_count": null,
      "outputs": [
        {
          "output_type": "stream",
          "text": [
            "Model: \"sequential\"\n",
            "_________________________________________________________________\n",
            "Layer (type)                 Output Shape              Param #   \n",
            "=================================================================\n",
            "dense (Dense)                (None, 13)                39        \n",
            "_________________________________________________________________\n",
            "dense_1 (Dense)              (None, 6)                 84        \n",
            "_________________________________________________________________\n",
            "dense_2 (Dense)              (None, 1)                 7         \n",
            "=================================================================\n",
            "Total params: 130\n",
            "Trainable params: 130\n",
            "Non-trainable params: 0\n",
            "_________________________________________________________________\n"
          ],
          "name": "stdout"
        }
      ]
    },
    {
      "cell_type": "code",
      "metadata": {
        "id": "QTsmgLu84oN6",
        "outputId": "4293a4eb-754c-4fa1-a668-108a2839f05e",
        "colab": {
          "base_uri": "https://localhost:8080/",
          "height": 1000
        }
      },
      "source": [
        "history1 = deeper.fit(x=X_train, y=y_train, validation_data=(X_test, y_test), epochs=50, batch_size=64)"
      ],
      "execution_count": null,
      "outputs": [
        {
          "output_type": "stream",
          "text": [
            "Epoch 1/50\n",
            "10136/10136 [==============================] - 11s 1ms/step - loss: 0.3955 - val_loss: 0.3756\n",
            "Epoch 2/50\n",
            "10136/10136 [==============================] - 11s 1ms/step - loss: 0.3680 - val_loss: 0.3724\n",
            "Epoch 3/50\n",
            "10136/10136 [==============================] - 11s 1ms/step - loss: 0.3662 - val_loss: 0.3703\n",
            "Epoch 4/50\n",
            "10136/10136 [==============================] - 11s 1ms/step - loss: 0.3648 - val_loss: 0.3689\n",
            "Epoch 5/50\n",
            "10136/10136 [==============================] - 11s 1ms/step - loss: 0.3642 - val_loss: 0.3679\n",
            "Epoch 6/50\n",
            "10136/10136 [==============================] - 11s 1ms/step - loss: 0.3638 - val_loss: 0.3707\n",
            "Epoch 7/50\n",
            "10136/10136 [==============================] - 11s 1ms/step - loss: 0.3637 - val_loss: 0.3672\n",
            "Epoch 8/50\n",
            "10136/10136 [==============================] - 11s 1ms/step - loss: 0.3636 - val_loss: 0.3674\n",
            "Epoch 9/50\n",
            "10136/10136 [==============================] - 11s 1ms/step - loss: 0.3635 - val_loss: 0.3687\n",
            "Epoch 10/50\n",
            "10136/10136 [==============================] - 11s 1ms/step - loss: 0.3634 - val_loss: 0.3671\n",
            "Epoch 11/50\n",
            "10136/10136 [==============================] - 11s 1ms/step - loss: 0.3633 - val_loss: 0.3701\n",
            "Epoch 12/50\n",
            "10136/10136 [==============================] - 11s 1ms/step - loss: 0.3633 - val_loss: 0.3683\n",
            "Epoch 13/50\n",
            "10136/10136 [==============================] - 11s 1ms/step - loss: 0.3632 - val_loss: 0.3672\n",
            "Epoch 14/50\n",
            "10136/10136 [==============================] - 11s 1ms/step - loss: 0.3630 - val_loss: 0.3689\n",
            "Epoch 15/50\n",
            "10136/10136 [==============================] - 12s 1ms/step - loss: 0.3630 - val_loss: 0.3700\n",
            "Epoch 16/50\n",
            "10136/10136 [==============================] - 13s 1ms/step - loss: 0.3628 - val_loss: 0.3666\n",
            "Epoch 17/50\n",
            "10136/10136 [==============================] - 11s 1ms/step - loss: 0.3627 - val_loss: 0.3665\n",
            "Epoch 18/50\n",
            "10136/10136 [==============================] - 11s 1ms/step - loss: 0.3625 - val_loss: 0.3688\n",
            "Epoch 19/50\n",
            "10136/10136 [==============================] - 11s 1ms/step - loss: 0.3624 - val_loss: 0.3689\n",
            "Epoch 20/50\n",
            "10136/10136 [==============================] - 11s 1ms/step - loss: 0.3622 - val_loss: 0.3680\n",
            "Epoch 21/50\n",
            "10136/10136 [==============================] - 11s 1ms/step - loss: 0.3622 - val_loss: 0.3659\n",
            "Epoch 22/50\n",
            "10136/10136 [==============================] - 11s 1ms/step - loss: 0.3622 - val_loss: 0.3682\n",
            "Epoch 23/50\n",
            "10136/10136 [==============================] - 11s 1ms/step - loss: 0.3621 - val_loss: 0.3664\n",
            "Epoch 24/50\n",
            "10136/10136 [==============================] - 11s 1ms/step - loss: 0.3620 - val_loss: 0.3664\n",
            "Epoch 25/50\n",
            "10136/10136 [==============================] - 11s 1ms/step - loss: 0.3621 - val_loss: 0.3665\n",
            "Epoch 26/50\n",
            "10136/10136 [==============================] - 11s 1ms/step - loss: 0.3620 - val_loss: 0.3656\n",
            "Epoch 27/50\n",
            "10136/10136 [==============================] - 11s 1ms/step - loss: 0.3619 - val_loss: 0.3670\n",
            "Epoch 28/50\n",
            "10136/10136 [==============================] - 11s 1ms/step - loss: 0.3620 - val_loss: 0.3657\n",
            "Epoch 29/50\n",
            "10136/10136 [==============================] - 11s 1ms/step - loss: 0.3619 - val_loss: 0.3663\n",
            "Epoch 30/50\n",
            "10136/10136 [==============================] - 11s 1ms/step - loss: 0.3620 - val_loss: 0.3657\n",
            "Epoch 31/50\n",
            "10136/10136 [==============================] - 11s 1ms/step - loss: 0.3618 - val_loss: 0.3657\n",
            "Epoch 32/50\n",
            "10136/10136 [==============================] - 11s 1ms/step - loss: 0.3619 - val_loss: 0.3653\n",
            "Epoch 33/50\n",
            "10136/10136 [==============================] - 11s 1ms/step - loss: 0.3619 - val_loss: 0.3659\n",
            "Epoch 34/50\n",
            "10136/10136 [==============================] - 11s 1ms/step - loss: 0.3619 - val_loss: 0.3653\n",
            "Epoch 35/50\n",
            "10136/10136 [==============================] - 11s 1ms/step - loss: 0.3618 - val_loss: 0.3661\n",
            "Epoch 36/50\n",
            "10136/10136 [==============================] - 11s 1ms/step - loss: 0.3618 - val_loss: 0.3655\n",
            "Epoch 37/50\n",
            "10136/10136 [==============================] - 11s 1ms/step - loss: 0.3618 - val_loss: 0.3683\n",
            "Epoch 38/50\n",
            "10136/10136 [==============================] - 11s 1ms/step - loss: 0.3617 - val_loss: 0.3655\n",
            "Epoch 39/50\n",
            "10136/10136 [==============================] - 11s 1ms/step - loss: 0.3618 - val_loss: 0.3665\n",
            "Epoch 40/50\n",
            "10136/10136 [==============================] - 11s 1ms/step - loss: 0.3618 - val_loss: 0.3652\n",
            "Epoch 41/50\n",
            "10136/10136 [==============================] - 11s 1ms/step - loss: 0.3617 - val_loss: 0.3664\n",
            "Epoch 42/50\n",
            "10136/10136 [==============================] - 11s 1ms/step - loss: 0.3618 - val_loss: 0.3655\n",
            "Epoch 43/50\n",
            "10136/10136 [==============================] - 12s 1ms/step - loss: 0.3617 - val_loss: 0.3668\n",
            "Epoch 44/50\n",
            "10136/10136 [==============================] - 13s 1ms/step - loss: 0.3617 - val_loss: 0.3661\n",
            "Epoch 45/50\n",
            "10136/10136 [==============================] - 11s 1ms/step - loss: 0.3617 - val_loss: 0.3652\n",
            "Epoch 46/50\n",
            "10136/10136 [==============================] - 11s 1ms/step - loss: 0.3616 - val_loss: 0.3661\n",
            "Epoch 47/50\n",
            "10136/10136 [==============================] - 11s 1ms/step - loss: 0.3615 - val_loss: 0.3654\n",
            "Epoch 48/50\n",
            "10136/10136 [==============================] - 11s 1ms/step - loss: 0.3616 - val_loss: 0.3650\n",
            "Epoch 49/50\n",
            "10136/10136 [==============================] - 11s 1ms/step - loss: 0.3615 - val_loss: 0.3660\n",
            "Epoch 50/50\n",
            "10136/10136 [==============================] - 11s 1ms/step - loss: 0.3615 - val_loss: 0.3662\n"
          ],
          "name": "stdout"
        }
      ]
    },
    {
      "cell_type": "code",
      "metadata": {
        "id": "0UIzjF2u4n8O"
      },
      "source": [
        "predict_deep = deeper.predict(X_test)\n",
        "predict_deep = predict_deep.flatten()"
      ],
      "execution_count": null,
      "outputs": []
    },
    {
      "cell_type": "code",
      "metadata": {
        "id": "DREhp-b155v_",
        "outputId": "7c36ca0d-b727-4854-b03a-39019ad4fa81",
        "colab": {
          "base_uri": "https://localhost:8080/",
          "height": 85
        }
      },
      "source": [
        "mse = mean_squared_error(y_test, predict_deep)\n",
        "mae = mean_absolute_error(y_test, predict_deep)\n",
        "r2 = r2_score(y_test, predict_deep)\n",
        "print(\"MSE (Mean Squared Error)         :\", mse)\n",
        "print(\"MAE (Mean Absolute Error)        :\", mae)\n",
        "print(\"r^2 score                        :\", r2)\n",
        "print('RMSE (Root Mean Squared Error)   :', np.sqrt(mean_squared_error(y_test, predict_deep)))"
      ],
      "execution_count": null,
      "outputs": [
        {
          "output_type": "stream",
          "text": [
            "MSE (Mean Squared Error)         : 0.36618219330850194\n",
            "MAE (Mean Absolute Error)        : 0.3972444067030315\n",
            "r^2 score                        : 0.6347467298646701\n",
            "RMSE (Root Mean Squared Error)   : 0.6051298978802006\n"
          ],
          "name": "stdout"
        }
      ]
    },
    {
      "cell_type": "code",
      "metadata": {
        "id": "B2OsLMQH57PP",
        "outputId": "b5458764-d8ae-4397-e3d2-57ff59fae8f2",
        "colab": {
          "base_uri": "https://localhost:8080/",
          "height": 364
        }
      },
      "source": [
        "plot_loss_new(history1)"
      ],
      "execution_count": null,
      "outputs": [
        {
          "output_type": "display_data",
          "data": {
            "image/png": "[encoded data removed]",
            "text/plain": [
              "<Figure size 432x288 with 1 Axes>"
            ]
          },
          "metadata": {
            "tags": [],
            "needs_background": "light"
          }
        },
        {
          "output_type": "stream",
          "text": [
            "Minimum Loss             : 49    0.361458\n",
            "Name: loss, dtype: float64\n",
            "\n",
            "Minimum Validation Loss  : 47    0.365\n",
            "Name: val_loss, dtype: float64\n"
          ],
          "name": "stdout"
        }
      ]
    },
    {
      "cell_type": "markdown",
      "metadata": {
        "id": "kQ31f83a8n_R"
      },
      "source": [
        "Sweet spot berada pada epoch 47 dengan val_loss 0.365"
      ]
    },
    {
      "cell_type": "markdown",
      "metadata": {
        "id": "iBoSmtre6HhM"
      },
      "source": [
        "## **Deep Learning with Wider Model**"
      ]
    },
    {
      "cell_type": "code",
      "metadata": {
        "id": "vdfrdgvT6BF4"
      },
      "source": [
        "wider = Sequential()\n",
        "wider.add(Dense(20, input_dim=2, kernel_initializer='normal', activation='relu'))\n",
        "wider.add(Dense(1, kernel_initializer='normal'))\n",
        "\n",
        "wider.compile(loss='mean_squared_error', optimizer='adam')"
      ],
      "execution_count": null,
      "outputs": []
    },
    {
      "cell_type": "code",
      "metadata": {
        "id": "F249YvgF6MCh",
        "outputId": "54252951-390e-4f4b-9a6c-fc60fde9ee18",
        "colab": {
          "base_uri": "https://localhost:8080/",
          "height": 221
        }
      },
      "source": [
        "wider.summary()"
      ],
      "execution_count": null,
      "outputs": [
        {
          "output_type": "stream",
          "text": [
            "Model: \"sequential_1\"\n",
            "_________________________________________________________________\n",
            "Layer (type)                 Output Shape              Param #   \n",
            "=================================================================\n",
            "dense_3 (Dense)              (None, 20)                60        \n",
            "_________________________________________________________________\n",
            "dense_4 (Dense)              (None, 1)                 21        \n",
            "=================================================================\n",
            "Total params: 81\n",
            "Trainable params: 81\n",
            "Non-trainable params: 0\n",
            "_________________________________________________________________\n"
          ],
          "name": "stdout"
        }
      ]
    },
    {
      "cell_type": "code",
      "metadata": {
        "id": "2MU5TI7D6NNz",
        "outputId": "d5c3c594-e6f9-4ead-81f9-8ac10b841d8f",
        "colab": {
          "base_uri": "https://localhost:8080/",
          "height": 1000
        }
      },
      "source": [
        "history2 = wider.fit(x=X_train, y=y_train, validation_data=(X_test, y_test), epochs=50, batch_size=64)"
      ],
      "execution_count": null,
      "outputs": [
        {
          "output_type": "stream",
          "text": [
            "Epoch 1/50\n",
            "10136/10136 [==============================] - 10s 983us/step - loss: 0.4281 - val_loss: 0.4115\n",
            "Epoch 2/50\n",
            "10136/10136 [==============================] - 10s 1ms/step - loss: 0.4039 - val_loss: 0.4052\n",
            "Epoch 3/50\n",
            "10136/10136 [==============================] - 10s 961us/step - loss: 0.4015 - val_loss: 0.4048\n",
            "Epoch 4/50\n",
            "10136/10136 [==============================] - 10s 959us/step - loss: 0.4008 - val_loss: 0.4034\n",
            "Epoch 5/50\n",
            "10136/10136 [==============================] - 10s 974us/step - loss: 0.4005 - val_loss: 0.4045\n",
            "Epoch 6/50\n",
            "10136/10136 [==============================] - 10s 973us/step - loss: 0.4002 - val_loss: 0.4044\n",
            "Epoch 7/50\n",
            "10136/10136 [==============================] - 10s 984us/step - loss: 0.3997 - val_loss: 0.4028\n",
            "Epoch 8/50\n",
            "10136/10136 [==============================] - 10s 970us/step - loss: 0.3867 - val_loss: 0.3825\n",
            "Epoch 9/50\n",
            "10136/10136 [==============================] - 10s 976us/step - loss: 0.3770 - val_loss: 0.3800\n",
            "Epoch 10/50\n",
            "10136/10136 [==============================] - 10s 963us/step - loss: 0.3746 - val_loss: 0.3802\n",
            "Epoch 11/50\n",
            "10136/10136 [==============================] - 10s 956us/step - loss: 0.3737 - val_loss: 0.3769\n",
            "Epoch 12/50\n",
            "10136/10136 [==============================] - 10s 959us/step - loss: 0.3732 - val_loss: 0.3771\n",
            "Epoch 13/50\n",
            "10136/10136 [==============================] - 10s 960us/step - loss: 0.3730 - val_loss: 0.3772\n",
            "Epoch 14/50\n",
            "10136/10136 [==============================] - 10s 965us/step - loss: 0.3727 - val_loss: 0.3781\n",
            "Epoch 15/50\n",
            "10136/10136 [==============================] - 10s 960us/step - loss: 0.3727 - val_loss: 0.3768\n",
            "Epoch 16/50\n",
            "10136/10136 [==============================] - 10s 939us/step - loss: 0.3727 - val_loss: 0.3774\n",
            "Epoch 17/50\n",
            "10136/10136 [==============================] - 10s 964us/step - loss: 0.3725 - val_loss: 0.3763\n",
            "Epoch 18/50\n",
            "10136/10136 [==============================] - 10s 964us/step - loss: 0.3725 - val_loss: 0.3760\n",
            "Epoch 19/50\n",
            "10136/10136 [==============================] - 10s 954us/step - loss: 0.3725 - val_loss: 0.3762\n",
            "Epoch 20/50\n",
            "10136/10136 [==============================] - 10s 957us/step - loss: 0.3723 - val_loss: 0.3761\n",
            "Epoch 21/50\n",
            "10136/10136 [==============================] - 10s 952us/step - loss: 0.3723 - val_loss: 0.3763\n",
            "Epoch 22/50\n",
            "10136/10136 [==============================] - 12s 1ms/step - loss: 0.3722 - val_loss: 0.3755\n",
            "Epoch 23/50\n",
            "10136/10136 [==============================] - 10s 956us/step - loss: 0.3721 - val_loss: 0.3753\n",
            "Epoch 24/50\n",
            "10136/10136 [==============================] - 10s 959us/step - loss: 0.3721 - val_loss: 0.3790\n",
            "Epoch 25/50\n",
            "10136/10136 [==============================] - 10s 948us/step - loss: 0.3721 - val_loss: 0.3778\n",
            "Epoch 26/50\n",
            "10136/10136 [==============================] - 10s 969us/step - loss: 0.3721 - val_loss: 0.3760\n",
            "Epoch 27/50\n",
            "10136/10136 [==============================] - 10s 970us/step - loss: 0.3720 - val_loss: 0.3773\n",
            "Epoch 28/50\n",
            "10136/10136 [==============================] - 10s 970us/step - loss: 0.3721 - val_loss: 0.3768\n",
            "Epoch 29/50\n",
            "10136/10136 [==============================] - 10s 966us/step - loss: 0.3718 - val_loss: 0.3765\n",
            "Epoch 30/50\n",
            "10136/10136 [==============================] - 10s 966us/step - loss: 0.3717 - val_loss: 0.3749\n",
            "Epoch 31/50\n",
            "10136/10136 [==============================] - 10s 966us/step - loss: 0.3714 - val_loss: 0.3749\n",
            "Epoch 32/50\n",
            "10136/10136 [==============================] - 10s 971us/step - loss: 0.3713 - val_loss: 0.3751\n",
            "Epoch 33/50\n",
            "10136/10136 [==============================] - 10s 966us/step - loss: 0.3711 - val_loss: 0.3746\n",
            "Epoch 34/50\n",
            "10136/10136 [==============================] - 10s 955us/step - loss: 0.3711 - val_loss: 0.3774\n",
            "Epoch 35/50\n",
            "10136/10136 [==============================] - 10s 943us/step - loss: 0.3709 - val_loss: 0.3778\n",
            "Epoch 36/50\n",
            "10136/10136 [==============================] - 10s 947us/step - loss: 0.3710 - val_loss: 0.3768\n",
            "Epoch 37/50\n",
            "10136/10136 [==============================] - 10s 939us/step - loss: 0.3709 - val_loss: 0.3765\n",
            "Epoch 38/50\n",
            "10136/10136 [==============================] - 10s 949us/step - loss: 0.3711 - val_loss: 0.3747\n",
            "Epoch 39/50\n",
            "10136/10136 [==============================] - 10s 957us/step - loss: 0.3709 - val_loss: 0.3759\n",
            "Epoch 40/50\n",
            "10136/10136 [==============================] - 10s 953us/step - loss: 0.3709 - val_loss: 0.3767\n",
            "Epoch 41/50\n",
            "10136/10136 [==============================] - 10s 960us/step - loss: 0.3710 - val_loss: 0.3760\n",
            "Epoch 42/50\n",
            "10136/10136 [==============================] - 10s 952us/step - loss: 0.3708 - val_loss: 0.3747\n",
            "Epoch 43/50\n",
            "10136/10136 [==============================] - 10s 957us/step - loss: 0.3709 - val_loss: 0.3744\n",
            "Epoch 44/50\n",
            "10136/10136 [==============================] - 10s 948us/step - loss: 0.3708 - val_loss: 0.3752\n",
            "Epoch 45/50\n",
            "10136/10136 [==============================] - 10s 965us/step - loss: 0.3708 - val_loss: 0.3763\n",
            "Epoch 46/50\n",
            "10136/10136 [==============================] - 10s 968us/step - loss: 0.3709 - val_loss: 0.3743\n",
            "Epoch 47/50\n",
            "10136/10136 [==============================] - 10s 953us/step - loss: 0.3708 - val_loss: 0.3851\n",
            "Epoch 48/50\n",
            "10136/10136 [==============================] - 10s 967us/step - loss: 0.3708 - val_loss: 0.3782\n",
            "Epoch 49/50\n",
            "10136/10136 [==============================] - 10s 962us/step - loss: 0.3708 - val_loss: 0.3742\n",
            "Epoch 50/50\n",
            "10136/10136 [==============================] - 10s 956us/step - loss: 0.3707 - val_loss: 0.3750\n"
          ],
          "name": "stdout"
        }
      ]
    },
    {
      "cell_type": "code",
      "metadata": {
        "id": "TkfGmV4R6OvT"
      },
      "source": [
        "predict_wide = wider.predict(X_test)\n",
        "predict_wide = predict_wide.flatten()"
      ],
      "execution_count": null,
      "outputs": []
    },
    {
      "cell_type": "code",
      "metadata": {
        "id": "PGjEs3Br7Tow",
        "outputId": "f1d01fb3-2064-4ae8-c2eb-549ecc260605",
        "colab": {
          "base_uri": "https://localhost:8080/",
          "height": 85
        }
      },
      "source": [
        "mse = mean_squared_error(y_test, predict_wide)\n",
        "mae = mean_absolute_error(y_test, predict_wide)\n",
        "r2 = r2_score(y_test, predict_wide)\n",
        "print(\"MSE (Mean Squared Error)       :\", mse)\n",
        "print(\"MAE (Mean Absolute Error)      :\", mae)\n",
        "print(\"r^2 score                      :\", r2)\n",
        "print('RMSE (Root Mean Squared Error  :', np.sqrt(mean_squared_error(y_test, predict_wide)))"
      ],
      "execution_count": null,
      "outputs": [
        {
          "output_type": "stream",
          "text": [
            "MSE (Mean Squared Error)       : 0.374989494495312\n",
            "MAE (Mean Absolute Error)      : 0.41090662107283454\n",
            "r^2 score                      : 0.6259617708515512\n",
            "RMSE (Root Mean Squared Error  : 0.6123638579270596\n"
          ],
          "name": "stdout"
        }
      ]
    },
    {
      "cell_type": "code",
      "metadata": {
        "id": "qIzPBjm87U6E",
        "outputId": "7a82d491-0627-4b2f-ea61-1cd925bb74a8",
        "colab": {
          "base_uri": "https://localhost:8080/",
          "height": 365
        }
      },
      "source": [
        "plot_loss_new(history2)"
      ],
      "execution_count": null,
      "outputs": [
        {
          "output_type": "display_data",
          "data": {
            "image/png": "[encoded data removed]",
            "text/plain": [
              "<Figure size 432x288 with 1 Axes>"
            ]
          },
          "metadata": {
            "tags": [],
            "needs_background": "light"
          }
        },
        {
          "output_type": "stream",
          "text": [
            "Minimum Loss             : 49    0.370745\n",
            "Name: loss, dtype: float64\n",
            "\n",
            "Minimum Validation Loss  : 48    0.374211\n",
            "Name: val_loss, dtype: float64\n"
          ],
          "name": "stdout"
        }
      ]
    },
    {
      "cell_type": "markdown",
      "metadata": {
        "id": "0cMFYaan8jzW"
      },
      "source": [
        "Sweet spot berada pada epoch 48 dengan val_loss 0.374211"
      ]
    },
    {
      "cell_type": "markdown",
      "metadata": {
        "id": "l0ah21B-8_82"
      },
      "source": [
        "## **Deep Learning Wider Model with SGD Optimizer**"
      ]
    },
    {
      "cell_type": "code",
      "metadata": {
        "id": "3TmdTLK27bEq"
      },
      "source": [
        "from tensorflow.keras.optimizers import SGD"
      ],
      "execution_count": null,
      "outputs": []
    },
    {
      "cell_type": "code",
      "metadata": {
        "id": "Y4f4nH787XzV",
        "outputId": "039eb216-de77-42f9-9cd4-fa4b25a1949a",
        "colab": {
          "base_uri": "https://localhost:8080/",
          "height": 221
        }
      },
      "source": [
        "wider1 = Sequential()\n",
        "wider1.add(Dense(20, input_dim=2, kernel_initializer='normal', activation='relu'))\n",
        "wider1.add(Dense(1, kernel_initializer='normal'))\n",
        "\n",
        "opt = SGD(learning_rate=0.001, momentum=0.9)\n",
        "\n",
        "wider1.compile(loss='mean_squared_error', optimizer=opt)\n",
        "\n",
        "wider1.summary()"
      ],
      "execution_count": null,
      "outputs": [
        {
          "output_type": "stream",
          "text": [
            "Model: \"sequential\"\n",
            "_________________________________________________________________\n",
            "Layer (type)                 Output Shape              Param #   \n",
            "=================================================================\n",
            "dense (Dense)                (None, 20)                60        \n",
            "_________________________________________________________________\n",
            "dense_1 (Dense)              (None, 1)                 21        \n",
            "=================================================================\n",
            "Total params: 81\n",
            "Trainable params: 81\n",
            "Non-trainable params: 0\n",
            "_________________________________________________________________\n"
          ],
          "name": "stdout"
        }
      ]
    },
    {
      "cell_type": "code",
      "metadata": {
        "id": "mV26KZ-U7cXV",
        "outputId": "07753dd0-734d-414c-bd91-0479a598e74e",
        "colab": {
          "base_uri": "https://localhost:8080/",
          "height": 1000
        }
      },
      "source": [
        "history3 = wider1.fit(x=X_train, y=y_train, validation_data=(X_test, y_test), epochs=50, batch_size=64)"
      ],
      "execution_count": null,
      "outputs": [
        {
          "output_type": "stream",
          "text": [
            "Epoch 1/50\n",
            "10136/10136 [==============================] - 10s 1ms/step - loss: 0.4499 - val_loss: 0.4028\n",
            "Epoch 2/50\n",
            "10136/10136 [==============================] - 10s 1ms/step - loss: 0.3947 - val_loss: 0.3947\n",
            "Epoch 3/50\n",
            "10136/10136 [==============================] - 10s 1ms/step - loss: 0.3881 - val_loss: 0.3884\n",
            "Epoch 4/50\n",
            "10136/10136 [==============================] - 10s 1ms/step - loss: 0.3825 - val_loss: 0.3833\n",
            "Epoch 5/50\n",
            "10136/10136 [==============================] - 10s 1ms/step - loss: 0.3783 - val_loss: 0.3807\n",
            "Epoch 6/50\n",
            "10136/10136 [==============================] - 10s 1ms/step - loss: 0.3759 - val_loss: 0.3801\n",
            "Epoch 7/50\n",
            "10136/10136 [==============================] - 10s 1ms/step - loss: 0.3746 - val_loss: 0.3778\n",
            "Epoch 8/50\n",
            "10136/10136 [==============================] - 10s 1ms/step - loss: 0.3741 - val_loss: 0.3770\n",
            "Epoch 9/50\n",
            "10136/10136 [==============================] - 10s 1ms/step - loss: 0.3739 - val_loss: 0.3785\n",
            "Epoch 10/50\n",
            "10136/10136 [==============================] - 10s 1ms/step - loss: 0.3732 - val_loss: 0.3803\n",
            "Epoch 11/50\n",
            "10136/10136 [==============================] - 10s 1ms/step - loss: 0.3729 - val_loss: 0.3771\n",
            "Epoch 12/50\n",
            "10136/10136 [==============================] - 11s 1ms/step - loss: 0.3725 - val_loss: 0.3767\n",
            "Epoch 13/50\n",
            "10136/10136 [==============================] - 10s 1ms/step - loss: 0.3725 - val_loss: 0.3752\n",
            "Epoch 14/50\n",
            "10136/10136 [==============================] - 10s 1ms/step - loss: 0.3722 - val_loss: 0.3749\n",
            "Epoch 15/50\n",
            "10136/10136 [==============================] - 15s 1ms/step - loss: 0.3721 - val_loss: 0.3755\n",
            "Epoch 16/50\n",
            "10136/10136 [==============================] - 10s 1ms/step - loss: 0.3719 - val_loss: 0.3776\n",
            "Epoch 17/50\n",
            "10136/10136 [==============================] - 10s 1ms/step - loss: 0.3718 - val_loss: 0.3784\n",
            "Epoch 18/50\n",
            "10136/10136 [==============================] - 11s 1ms/step - loss: 0.3717 - val_loss: 0.3751\n",
            "Epoch 19/50\n",
            "10136/10136 [==============================] - 10s 1ms/step - loss: 0.3716 - val_loss: 0.3752\n",
            "Epoch 20/50\n",
            "10136/10136 [==============================] - 10s 1ms/step - loss: 0.3714 - val_loss: 0.3763\n",
            "Epoch 21/50\n",
            "10136/10136 [==============================] - 10s 1ms/step - loss: 0.3715 - val_loss: 0.3741\n",
            "Epoch 22/50\n",
            "10136/10136 [==============================] - 10s 1ms/step - loss: 0.3712 - val_loss: 0.3778\n",
            "Epoch 23/50\n",
            "10136/10136 [==============================] - 10s 1ms/step - loss: 0.3711 - val_loss: 0.3740\n",
            "Epoch 24/50\n",
            "10136/10136 [==============================] - 11s 1ms/step - loss: 0.3709 - val_loss: 0.3766\n",
            "Epoch 25/50\n",
            "10136/10136 [==============================] - 10s 1ms/step - loss: 0.3709 - val_loss: 0.3747\n",
            "Epoch 26/50\n",
            "10136/10136 [==============================] - 10s 1ms/step - loss: 0.3707 - val_loss: 0.3746\n",
            "Epoch 27/50\n",
            "10136/10136 [==============================] - 11s 1ms/step - loss: 0.3707 - val_loss: 0.3741\n",
            "Epoch 28/50\n",
            "10136/10136 [==============================] - 10s 1ms/step - loss: 0.3707 - val_loss: 0.3745\n",
            "Epoch 29/50\n",
            "10136/10136 [==============================] - 10s 1ms/step - loss: 0.3706 - val_loss: 0.3747\n",
            "Epoch 30/50\n",
            "10136/10136 [==============================] - 10s 1ms/step - loss: 0.3706 - val_loss: 0.3740\n",
            "Epoch 31/50\n",
            "10136/10136 [==============================] - 10s 1ms/step - loss: 0.3704 - val_loss: 0.3747\n",
            "Epoch 32/50\n",
            "10136/10136 [==============================] - 10s 1ms/step - loss: 0.3705 - val_loss: 0.3736\n",
            "Epoch 33/50\n",
            "10136/10136 [==============================] - 10s 1000us/step - loss: 0.3705 - val_loss: 0.3757\n",
            "Epoch 34/50\n",
            "10136/10136 [==============================] - 10s 1ms/step - loss: 0.3705 - val_loss: 0.3745\n",
            "Epoch 35/50\n",
            "10136/10136 [==============================] - 10s 1ms/step - loss: 0.3703 - val_loss: 0.3752\n",
            "Epoch 36/50\n",
            "10136/10136 [==============================] - 10s 1ms/step - loss: 0.3703 - val_loss: 0.3748\n",
            "Epoch 37/50\n",
            "10136/10136 [==============================] - 10s 1ms/step - loss: 0.3703 - val_loss: 0.3740\n",
            "Epoch 38/50\n",
            "10136/10136 [==============================] - 10s 1ms/step - loss: 0.3702 - val_loss: 0.3742\n",
            "Epoch 39/50\n",
            "10136/10136 [==============================] - 10s 1ms/step - loss: 0.3703 - val_loss: 0.3758\n",
            "Epoch 40/50\n",
            "10136/10136 [==============================] - 10s 1ms/step - loss: 0.3702 - val_loss: 0.3751\n",
            "Epoch 41/50\n",
            "10136/10136 [==============================] - 10s 1ms/step - loss: 0.3701 - val_loss: 0.3742\n",
            "Epoch 42/50\n",
            "10136/10136 [==============================] - 10s 1ms/step - loss: 0.3702 - val_loss: 0.3738\n",
            "Epoch 43/50\n",
            "10136/10136 [==============================] - 10s 1ms/step - loss: 0.3701 - val_loss: 0.3745\n",
            "Epoch 44/50\n",
            "10136/10136 [==============================] - 10s 1ms/step - loss: 0.3701 - val_loss: 0.3745\n",
            "Epoch 45/50\n",
            "10136/10136 [==============================] - 11s 1ms/step - loss: 0.3701 - val_loss: 0.3741\n",
            "Epoch 46/50\n",
            "10136/10136 [==============================] - 10s 1ms/step - loss: 0.3701 - val_loss: 0.3755\n",
            "Epoch 47/50\n",
            "10136/10136 [==============================] - 10s 1ms/step - loss: 0.3701 - val_loss: 0.3817\n",
            "Epoch 48/50\n",
            "10136/10136 [==============================] - 11s 1ms/step - loss: 0.3700 - val_loss: 0.3760\n",
            "Epoch 49/50\n",
            "10136/10136 [==============================] - 10s 1ms/step - loss: 0.3699 - val_loss: 0.3735\n",
            "Epoch 50/50\n",
            "10136/10136 [==============================] - 11s 1ms/step - loss: 0.3701 - val_loss: 0.3750\n"
          ],
          "name": "stdout"
        }
      ]
    },
    {
      "cell_type": "code",
      "metadata": {
        "id": "zS3T6bBo7hC6"
      },
      "source": [
        "predict_sgd = wider1.predict(X_test)\n",
        "predict_sgd = predict_sgd.flatten()"
      ],
      "execution_count": null,
      "outputs": []
    },
    {
      "cell_type": "code",
      "metadata": {
        "id": "5s62OiWA8snw",
        "outputId": "09e3aa50-11cb-492c-d020-0ba3325c7d1f",
        "colab": {
          "base_uri": "https://localhost:8080/",
          "height": 85
        }
      },
      "source": [
        "mse = mean_squared_error(y_test, predict_sgd)\n",
        "mae = mean_absolute_error(y_test, predict_sgd)\n",
        "r2 = r2_score(y_test, predict_sgd)\n",
        "print(\"MSE (Mean Squared Error)       :\", mse)\n",
        "print(\"MAE (Mean Absolute Error)      :\", mae)\n",
        "print(\"r^2 score                      :\", r2)\n",
        "print('RMSE (Root Mean Squared Error  :', np.sqrt(mean_squared_error(y_test, predict_sgd)))"
      ],
      "execution_count": null,
      "outputs": [
        {
          "output_type": "stream",
          "text": [
            "MSE (Mean Squared Error)       : 0.37496722285418405\n",
            "MAE (Mean Absolute Error)      : 0.4136234403312242\n",
            "r^2 score                      : 0.6259839859944554\n",
            "RMSE (Root Mean Squared Error  : 0.6123456726834804\n"
          ],
          "name": "stdout"
        }
      ]
    },
    {
      "cell_type": "code",
      "metadata": {
        "id": "PfwZnbvC8w3b",
        "outputId": "d6bda1df-17b3-4584-cbee-950ebc30db97",
        "colab": {
          "base_uri": "https://localhost:8080/",
          "height": 364
        }
      },
      "source": [
        "plot_loss_new(history3)"
      ],
      "execution_count": null,
      "outputs": [
        {
          "output_type": "display_data",
          "data": {
            "image/png": "[encoded data removed]",
            "text/plain": [
              "<Figure size 432x288 with 1 Axes>"
            ]
          },
          "metadata": {
            "tags": [],
            "needs_background": "light"
          }
        },
        {
          "output_type": "stream",
          "text": [
            "Minimum Loss             : 48    0.369948\n",
            "Name: loss, dtype: float64\n",
            "\n",
            "Minimum Validation Loss  : 48    0.373457\n",
            "Name: val_loss, dtype: float64\n"
          ],
          "name": "stdout"
        }
      ]
    },
    {
      "cell_type": "markdown",
      "metadata": {
        "id": "0wRd1BnR8eza"
      },
      "source": [
        "Sweet spot berada pada epoch 48 dengan val_loss 0.373457"
      ]
    },
    {
      "cell_type": "markdown",
      "metadata": {
        "id": "6Tlv7bL69C-h"
      },
      "source": [
        "## **Deep Learning Wider Model with RMSprop Optimizer**"
      ]
    },
    {
      "cell_type": "code",
      "metadata": {
        "id": "Ptuqmwkl8041"
      },
      "source": [
        "from tensorflow.keras.optimizers import RMSprop"
      ],
      "execution_count": null,
      "outputs": []
    },
    {
      "cell_type": "code",
      "metadata": {
        "id": "rqffKU1V9HyY",
        "outputId": "50f87dbb-c7e2-4522-ee7b-49ddf2ead73f",
        "colab": {
          "base_uri": "https://localhost:8080/",
          "height": 221
        }
      },
      "source": [
        "wider2 = Sequential()\n",
        "wider2.add(Dense(20, input_dim=2, kernel_initializer='normal', activation='relu'))\n",
        "wider2.add(Dense(1, kernel_initializer='normal'))\n",
        "\n",
        "opt = RMSprop(learning_rate=0.001, momentum=0.9)\n",
        "\n",
        "wider2.compile(loss='mean_squared_error', optimizer=opt)\n",
        "\n",
        "wider2.summary()"
      ],
      "execution_count": null,
      "outputs": [
        {
          "output_type": "stream",
          "text": [
            "Model: \"sequential_1\"\n",
            "_________________________________________________________________\n",
            "Layer (type)                 Output Shape              Param #   \n",
            "=================================================================\n",
            "dense_2 (Dense)              (None, 20)                60        \n",
            "_________________________________________________________________\n",
            "dense_3 (Dense)              (None, 1)                 21        \n",
            "=================================================================\n",
            "Total params: 81\n",
            "Trainable params: 81\n",
            "Non-trainable params: 0\n",
            "_________________________________________________________________\n"
          ],
          "name": "stdout"
        }
      ]
    },
    {
      "cell_type": "code",
      "metadata": {
        "id": "VM72ey3Q9N3c",
        "outputId": "565b4bdf-87d2-44bb-e1f3-2233413ce831",
        "colab": {
          "base_uri": "https://localhost:8080/",
          "height": 1000
        }
      },
      "source": [
        "history4 = wider2.fit(x=X_train, y=y_train, validation_data=(X_test, y_test), epochs=50, batch_size=64)"
      ],
      "execution_count": null,
      "outputs": [
        {
          "output_type": "stream",
          "text": [
            "Epoch 1/50\n",
            "10136/10136 [==============================] - 10s 1ms/step - loss: 0.4037 - val_loss: 0.4365\n",
            "Epoch 2/50\n",
            "10136/10136 [==============================] - 11s 1ms/step - loss: 0.3853 - val_loss: 0.3898\n",
            "Epoch 3/50\n",
            "10136/10136 [==============================] - 10s 1ms/step - loss: 0.3808 - val_loss: 0.3834\n",
            "Epoch 4/50\n",
            "10136/10136 [==============================] - 10s 1ms/step - loss: 0.3782 - val_loss: 0.3765\n",
            "Epoch 5/50\n",
            "10136/10136 [==============================] - 11s 1ms/step - loss: 0.3771 - val_loss: 0.3833\n",
            "Epoch 6/50\n",
            "10136/10136 [==============================] - 10s 1ms/step - loss: 0.3768 - val_loss: 0.3805\n",
            "Epoch 7/50\n",
            "10136/10136 [==============================] - 11s 1ms/step - loss: 0.3763 - val_loss: 0.3955\n",
            "Epoch 8/50\n",
            "10136/10136 [==============================] - 10s 1ms/step - loss: 0.3757 - val_loss: 0.3747\n",
            "Epoch 9/50\n",
            "10136/10136 [==============================] - 10s 1ms/step - loss: 0.3758 - val_loss: 0.3794\n",
            "Epoch 10/50\n",
            "10136/10136 [==============================] - 11s 1ms/step - loss: 0.3742 - val_loss: 0.3750\n",
            "Epoch 11/50\n",
            "10136/10136 [==============================] - 11s 1ms/step - loss: 0.3739 - val_loss: 0.3867\n",
            "Epoch 12/50\n",
            "10136/10136 [==============================] - 10s 1ms/step - loss: 0.3738 - val_loss: 0.3769\n",
            "Epoch 13/50\n",
            "10136/10136 [==============================] - 10s 1ms/step - loss: 0.3738 - val_loss: 0.3727\n",
            "Epoch 14/50\n",
            "10136/10136 [==============================] - 11s 1ms/step - loss: 0.3736 - val_loss: 0.3814\n",
            "Epoch 15/50\n",
            "10136/10136 [==============================] - 11s 1ms/step - loss: 0.3736 - val_loss: 0.3749\n",
            "Epoch 16/50\n",
            "10136/10136 [==============================] - 11s 1ms/step - loss: 0.3738 - val_loss: 0.3742\n",
            "Epoch 17/50\n",
            "10136/10136 [==============================] - 11s 1ms/step - loss: 0.3734 - val_loss: 0.3721\n",
            "Epoch 18/50\n",
            "10136/10136 [==============================] - 11s 1ms/step - loss: 0.3734 - val_loss: 0.3778\n",
            "Epoch 19/50\n",
            "10136/10136 [==============================] - 11s 1ms/step - loss: 0.3731 - val_loss: 0.3762\n",
            "Epoch 20/50\n",
            "10136/10136 [==============================] - 10s 1ms/step - loss: 0.3736 - val_loss: 0.3770\n",
            "Epoch 21/50\n",
            "10136/10136 [==============================] - 10s 1ms/step - loss: 0.3730 - val_loss: 0.3828\n",
            "Epoch 22/50\n",
            "10136/10136 [==============================] - 10s 1ms/step - loss: 0.3733 - val_loss: 0.3714\n",
            "Epoch 23/50\n",
            "10136/10136 [==============================] - 11s 1ms/step - loss: 0.3733 - val_loss: 0.3773\n",
            "Epoch 24/50\n",
            "10136/10136 [==============================] - 11s 1ms/step - loss: 0.3730 - val_loss: 0.3806\n",
            "Epoch 25/50\n",
            "10136/10136 [==============================] - 10s 1ms/step - loss: 0.3730 - val_loss: 0.3702\n",
            "Epoch 26/50\n",
            "10136/10136 [==============================] - 10s 1ms/step - loss: 0.3730 - val_loss: 0.3900\n",
            "Epoch 27/50\n",
            "10136/10136 [==============================] - 11s 1ms/step - loss: 0.3731 - val_loss: 0.3832\n",
            "Epoch 28/50\n",
            "10136/10136 [==============================] - 10s 1ms/step - loss: 0.3730 - val_loss: 0.3806\n",
            "Epoch 29/50\n",
            "10136/10136 [==============================] - 10s 1ms/step - loss: 0.3732 - val_loss: 0.3761\n",
            "Epoch 30/50\n",
            "10136/10136 [==============================] - 11s 1ms/step - loss: 0.3730 - val_loss: 0.3838\n",
            "Epoch 31/50\n",
            "10136/10136 [==============================] - 11s 1ms/step - loss: 0.3731 - val_loss: 0.3754\n",
            "Epoch 32/50\n",
            "10136/10136 [==============================] - 10s 1ms/step - loss: 0.3731 - val_loss: 0.3733\n",
            "Epoch 33/50\n",
            "10136/10136 [==============================] - 10s 1ms/step - loss: 0.3733 - val_loss: 0.3746\n",
            "Epoch 34/50\n",
            "10136/10136 [==============================] - 10s 1ms/step - loss: 0.3732 - val_loss: 0.3742\n",
            "Epoch 35/50\n",
            "10136/10136 [==============================] - 10s 1ms/step - loss: 0.3729 - val_loss: 0.3748\n",
            "Epoch 36/50\n",
            "10136/10136 [==============================] - 10s 1ms/step - loss: 0.3732 - val_loss: 0.3708\n",
            "Epoch 37/50\n",
            "10136/10136 [==============================] - 10s 1ms/step - loss: 0.3731 - val_loss: 0.3762\n",
            "Epoch 38/50\n",
            "10136/10136 [==============================] - 10s 1ms/step - loss: 0.3729 - val_loss: 0.3715\n",
            "Epoch 39/50\n",
            "10136/10136 [==============================] - 11s 1ms/step - loss: 0.3730 - val_loss: 0.3715\n",
            "Epoch 40/50\n",
            "10136/10136 [==============================] - 11s 1ms/step - loss: 0.3732 - val_loss: 0.3734\n",
            "Epoch 41/50\n",
            "10136/10136 [==============================] - 11s 1ms/step - loss: 0.3729 - val_loss: 0.3705\n",
            "Epoch 42/50\n",
            "10136/10136 [==============================] - 11s 1ms/step - loss: 0.3730 - val_loss: 0.3848\n",
            "Epoch 43/50\n",
            "10136/10136 [==============================] - 11s 1ms/step - loss: 0.3732 - val_loss: 0.3741\n",
            "Epoch 44/50\n",
            "10136/10136 [==============================] - 11s 1ms/step - loss: 0.3728 - val_loss: 0.3851\n",
            "Epoch 45/50\n",
            "10136/10136 [==============================] - 11s 1ms/step - loss: 0.3734 - val_loss: 0.3823\n",
            "Epoch 46/50\n",
            "10136/10136 [==============================] - 10s 1ms/step - loss: 0.3730 - val_loss: 0.3731\n",
            "Epoch 47/50\n",
            "10136/10136 [==============================] - 11s 1ms/step - loss: 0.3731 - val_loss: 0.3755\n",
            "Epoch 48/50\n",
            "10136/10136 [==============================] - 12s 1ms/step - loss: 0.3734 - val_loss: 0.3912\n",
            "Epoch 49/50\n",
            "10136/10136 [==============================] - 10s 1ms/step - loss: 0.3732 - val_loss: 0.3802\n",
            "Epoch 50/50\n",
            "10136/10136 [==============================] - 11s 1ms/step - loss: 0.3732 - val_loss: 0.3719\n"
          ],
          "name": "stdout"
        }
      ]
    },
    {
      "cell_type": "code",
      "metadata": {
        "id": "uaziuVID9W0m"
      },
      "source": [
        "predict_rms = wider2.predict(X_test)\n",
        "predict_rms = predict_rms.flatten()"
      ],
      "execution_count": null,
      "outputs": []
    },
    {
      "cell_type": "code",
      "metadata": {
        "id": "bAObCL_19-Wm",
        "outputId": "69b290fa-bbed-4041-e622-5c6fe569d2d2",
        "colab": {
          "base_uri": "https://localhost:8080/",
          "height": 85
        }
      },
      "source": [
        "mse = mean_squared_error(y_test, predict_rms)\n",
        "mae = mean_absolute_error(y_test, predict_rms)\n",
        "r2 = r2_score(y_test, predict_rms)\n",
        "print(\"MSE (Mean Squared Error)       :\", mse)\n",
        "print(\"MAE (Mean Absolute Error)      :\", mae)\n",
        "print(\"r^2 score                      :\", r2)\n",
        "print('RMSE (Root Mean Squared Error  :', np.sqrt(mean_squared_error(y_test, predict_rms)))"
      ],
      "execution_count": null,
      "outputs": [
        {
          "output_type": "stream",
          "text": [
            "MSE (Mean Squared Error)       : 0.3718815985496072\n",
            "MAE (Mean Absolute Error)      : 0.4111507776368915\n",
            "r^2 score                      : 0.6290617827531477\n",
            "RMSE (Root Mean Squared Error  : 0.6098209561417246\n"
          ],
          "name": "stdout"
        }
      ]
    },
    {
      "cell_type": "code",
      "metadata": {
        "id": "mH6Zuxkc-A3f",
        "outputId": "9a9bdc35-c06a-4c66-feb8-879834bec413",
        "colab": {
          "base_uri": "https://localhost:8080/",
          "height": 364
        }
      },
      "source": [
        "plot_loss_new(history4)"
      ],
      "execution_count": null,
      "outputs": [
        {
          "output_type": "display_data",
          "data": {
            "image/png": "[encoded data removed]",
            "text/plain": [
              "<Figure size 432x288 with 1 Axes>"
            ]
          },
          "metadata": {
            "tags": [],
            "needs_background": "light"
          }
        },
        {
          "output_type": "stream",
          "text": [
            "Minimum Loss             : 43    0.372795\n",
            "Name: loss, dtype: float64\n",
            "\n",
            "Minimum Validation Loss  : 24    0.370232\n",
            "Name: val_loss, dtype: float64\n"
          ],
          "name": "stdout"
        }
      ]
    },
    {
      "cell_type": "markdown",
      "metadata": {
        "id": "qCCZHPf38XZ8"
      },
      "source": [
        "Sweet spot berada pada epoch 24 dengan val_loss 0.370232"
      ]
    },
    {
      "cell_type": "markdown",
      "metadata": {
        "id": "WzAe6DF0811B"
      },
      "source": [
        "## **Kesimpulan**\n",
        "\n",
        "Dengan versi batch size 64 ini diperoleh\n",
        "\n",
        "1. R2 score model Linear Regression            : 0.3013722059652524\n",
        "2. R2 score Deep Learning Model Baseline Layer : 0.5999942287944202\n",
        "3. R2 score Deep Learning Model Deeper Layer   : 0.6347467298646701\n",
        "4. R2 score Deep Learning Model Wider Layer   : 0.6259617708515512\n",
        "5. R2 score Deep Learning Model Wider Layer SGD Optimizer   : 0.6259839859944554\n",
        "6. R2 score Deep Learning Model Wider Layer RMSprop Optimizer : 0.6290617827531477\n",
        "\n",
        "Model terbaik adalah model Deep Learning dengan Deeper Layer dan Optimizer Adam walaupun nilai r2 scorenya masih berada di angka 0.63. Dengan penambahan batch size menjadi 64 membuat proses training menjadi lebih cepat dibanding batch size 8 namun masih lebih lambat dibanding batch size 128. Namun tidak menjamin hasilnya lebih baik karena seperti terlihat bahwa hasilnya pun masih berada diangka 0.63, tidak berbeda dengan batch size 8 dan batch size 128. Mungkin dengan penambahan feature bisa meningkatkan nilai r2 scorenya."
      ]
    }
  ]
}