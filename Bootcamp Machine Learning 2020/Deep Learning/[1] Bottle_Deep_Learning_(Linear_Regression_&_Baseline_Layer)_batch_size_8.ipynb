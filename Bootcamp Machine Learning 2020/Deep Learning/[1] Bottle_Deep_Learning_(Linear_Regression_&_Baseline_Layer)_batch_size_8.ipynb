{
  "nbformat": 4,
  "nbformat_minor": 0,
  "metadata": {
    "colab": {
      "name": "Bottle_Deep_Learning_(Linear_Regression_&_Baseline_Layer) batch_size 8.ipynb",
      "provenance": []
    },
    "kernelspec": {
      "name": "python3",
      "display_name": "Python 3"
    },
    "accelerator": "GPU"
  },
  "cells": [
    {
      "cell_type": "code",
      "metadata": {
        "id": "a2BgA5vDJGlA"
      },
      "source": [
        "import pandas as pd\n",
        "import numpy as np\n",
        "import matplotlib.pyplot as plt\n",
        "import seaborn as sns"
      ],
      "execution_count": null,
      "outputs": []
    },
    {
      "cell_type": "code",
      "metadata": {
        "id": "iHvG4QOOJWDX",
        "outputId": "4a5138e7-bf6c-4320-bc96-61efa651b62c",
        "colab": {
          "base_uri": "https://localhost:8080/",
          "height": 425
        }
      },
      "source": [
        "import os\n",
        "print('\\n'.join(os.listdir(r'./drive/My Drive/Colab Test (Bootcamp ML 2020)')))"
      ],
      "execution_count": null,
      "outputs": [
        {
          "output_type": "stream",
          "text": [
            "bottle.csv\n",
            "References\n",
            "Untitled0.ipynb\n",
            "Week_1_Python_1.ipynb\n",
            "heart.csv\n",
            "pima-indians-diabetes.csv\n",
            "sonar.csv\n",
            "housing.csv\n",
            "winequality-white.csv\n",
            "auto.csv\n",
            "sales.csv\n",
            "birth.csv\n",
            "shampoo.csv\n",
            "daily-min-temperatures.csv\n",
            "Quiz\n",
            "customer.csv\n",
            "iris.csv\n",
            "iris (1).csv\n",
            "Bootcamp Images\n",
            "parkinsons\n",
            "numbers_dataset\n",
            "bottle-updated.csv\n",
            "auto-mpg.csv\n",
            "auto (1).csv\n"
          ],
          "name": "stdout"
        }
      ]
    },
    {
      "cell_type": "code",
      "metadata": {
        "id": "SlYa4T63Jgu2",
        "outputId": "c873300f-9544-4b1b-9e3b-9085660e1e3f",
        "colab": {
          "base_uri": "https://localhost:8080/",
          "height": 204
        }
      },
      "source": [
        "df = pd.read_csv(r'./drive/My Drive/Colab Test (Bootcamp ML 2020)/bottle-updated.csv')\n",
        "df.head()"
      ],
      "execution_count": null,
      "outputs": [
        {
          "output_type": "execute_result",
          "data": {
            "text/html": [
              "<div>\n",
              "<style scoped>\n",
              "    .dataframe tbody tr th:only-of-type {\n",
              "        vertical-align: middle;\n",
              "    }\n",
              "\n",
              "    .dataframe tbody tr th {\n",
              "        vertical-align: top;\n",
              "    }\n",
              "\n",
              "    .dataframe thead th {\n",
              "        text-align: right;\n",
              "    }\n",
              "</style>\n",
              "<table border=\"1\" class=\"dataframe\">\n",
              "  <thead>\n",
              "    <tr style=\"text-align: right;\">\n",
              "      <th></th>\n",
              "      <th>Unnamed: 0</th>\n",
              "      <th>Depthm</th>\n",
              "      <th>T_degC</th>\n",
              "      <th>Salnty</th>\n",
              "    </tr>\n",
              "  </thead>\n",
              "  <tbody>\n",
              "    <tr>\n",
              "      <th>0</th>\n",
              "      <td>0</td>\n",
              "      <td>0</td>\n",
              "      <td>10.50</td>\n",
              "      <td>33.440</td>\n",
              "    </tr>\n",
              "    <tr>\n",
              "      <th>1</th>\n",
              "      <td>1</td>\n",
              "      <td>8</td>\n",
              "      <td>10.46</td>\n",
              "      <td>33.440</td>\n",
              "    </tr>\n",
              "    <tr>\n",
              "      <th>2</th>\n",
              "      <td>2</td>\n",
              "      <td>10</td>\n",
              "      <td>10.46</td>\n",
              "      <td>33.437</td>\n",
              "    </tr>\n",
              "    <tr>\n",
              "      <th>3</th>\n",
              "      <td>3</td>\n",
              "      <td>19</td>\n",
              "      <td>10.45</td>\n",
              "      <td>33.420</td>\n",
              "    </tr>\n",
              "    <tr>\n",
              "      <th>4</th>\n",
              "      <td>4</td>\n",
              "      <td>20</td>\n",
              "      <td>10.45</td>\n",
              "      <td>33.421</td>\n",
              "    </tr>\n",
              "  </tbody>\n",
              "</table>\n",
              "</div>"
            ],
            "text/plain": [
              "   Unnamed: 0  Depthm  T_degC  Salnty\n",
              "0           0       0   10.50  33.440\n",
              "1           1       8   10.46  33.440\n",
              "2           2      10   10.46  33.437\n",
              "3           3      19   10.45  33.420\n",
              "4           4      20   10.45  33.421"
            ]
          },
          "metadata": {
            "tags": []
          },
          "execution_count": 3
        }
      ]
    },
    {
      "cell_type": "code",
      "metadata": {
        "id": "aQvBDYEvJnDI",
        "outputId": "f8efb5f8-3358-4af5-91bd-1e4c7af04c52",
        "colab": {
          "base_uri": "https://localhost:8080/",
          "height": 34
        }
      },
      "source": [
        "df.shape"
      ],
      "execution_count": null,
      "outputs": [
        {
          "output_type": "execute_result",
          "data": {
            "text/plain": [
              "(864863, 4)"
            ]
          },
          "metadata": {
            "tags": []
          },
          "execution_count": 4
        }
      ]
    },
    {
      "cell_type": "code",
      "metadata": {
        "id": "WsKSUGpBJwDY",
        "outputId": "7e89d65e-0d83-4e0b-d952-ef0a1f2836ea",
        "colab": {
          "base_uri": "https://localhost:8080/",
          "height": 102
        }
      },
      "source": [
        "df.dtypes"
      ],
      "execution_count": null,
      "outputs": [
        {
          "output_type": "execute_result",
          "data": {
            "text/plain": [
              "Unnamed: 0      int64\n",
              "Depthm          int64\n",
              "T_degC        float64\n",
              "Salnty        float64\n",
              "dtype: object"
            ]
          },
          "metadata": {
            "tags": []
          },
          "execution_count": 5
        }
      ]
    },
    {
      "cell_type": "code",
      "metadata": {
        "id": "cHEbIFrOJp5d",
        "outputId": "467a26aa-aae0-4ce4-b6a1-6217d65d26d9",
        "colab": {
          "base_uri": "https://localhost:8080/",
          "height": 173
        }
      },
      "source": [
        "df.describe().T"
      ],
      "execution_count": null,
      "outputs": [
        {
          "output_type": "execute_result",
          "data": {
            "text/html": [
              "<div>\n",
              "<style scoped>\n",
              "    .dataframe tbody tr th:only-of-type {\n",
              "        vertical-align: middle;\n",
              "    }\n",
              "\n",
              "    .dataframe tbody tr th {\n",
              "        vertical-align: top;\n",
              "    }\n",
              "\n",
              "    .dataframe thead th {\n",
              "        text-align: right;\n",
              "    }\n",
              "</style>\n",
              "<table border=\"1\" class=\"dataframe\">\n",
              "  <thead>\n",
              "    <tr style=\"text-align: right;\">\n",
              "      <th></th>\n",
              "      <th>count</th>\n",
              "      <th>mean</th>\n",
              "      <th>std</th>\n",
              "      <th>min</th>\n",
              "      <th>25%</th>\n",
              "      <th>50%</th>\n",
              "      <th>75%</th>\n",
              "      <th>max</th>\n",
              "    </tr>\n",
              "  </thead>\n",
              "  <tbody>\n",
              "    <tr>\n",
              "      <th>Unnamed: 0</th>\n",
              "      <td>864863.0</td>\n",
              "      <td>432431.000000</td>\n",
              "      <td>249664.587267</td>\n",
              "      <td>0.000</td>\n",
              "      <td>216215.500</td>\n",
              "      <td>432431.000</td>\n",
              "      <td>648646.5000</td>\n",
              "      <td>864862.000</td>\n",
              "    </tr>\n",
              "    <tr>\n",
              "      <th>Depthm</th>\n",
              "      <td>864863.0</td>\n",
              "      <td>226.831951</td>\n",
              "      <td>316.050259</td>\n",
              "      <td>0.000</td>\n",
              "      <td>46.000</td>\n",
              "      <td>125.000</td>\n",
              "      <td>300.0000</td>\n",
              "      <td>5351.000</td>\n",
              "    </tr>\n",
              "    <tr>\n",
              "      <th>T_degC</th>\n",
              "      <td>853900.0</td>\n",
              "      <td>10.799677</td>\n",
              "      <td>4.243825</td>\n",
              "      <td>1.440</td>\n",
              "      <td>7.680</td>\n",
              "      <td>10.060</td>\n",
              "      <td>13.8800</td>\n",
              "      <td>31.140</td>\n",
              "    </tr>\n",
              "    <tr>\n",
              "      <th>Salnty</th>\n",
              "      <td>817509.0</td>\n",
              "      <td>33.840350</td>\n",
              "      <td>0.461843</td>\n",
              "      <td>28.431</td>\n",
              "      <td>33.488</td>\n",
              "      <td>33.863</td>\n",
              "      <td>34.1969</td>\n",
              "      <td>37.034</td>\n",
              "    </tr>\n",
              "  </tbody>\n",
              "</table>\n",
              "</div>"
            ],
            "text/plain": [
              "               count           mean  ...          75%         max\n",
              "Unnamed: 0  864863.0  432431.000000  ...  648646.5000  864862.000\n",
              "Depthm      864863.0     226.831951  ...     300.0000    5351.000\n",
              "T_degC      853900.0      10.799677  ...      13.8800      31.140\n",
              "Salnty      817509.0      33.840350  ...      34.1969      37.034\n",
              "\n",
              "[4 rows x 8 columns]"
            ]
          },
          "metadata": {
            "tags": []
          },
          "execution_count": 6
        }
      ]
    },
    {
      "cell_type": "code",
      "metadata": {
        "id": "kyWIzrYVMGxF"
      },
      "source": [
        "df.drop(['Unnamed: 0'], axis=1, inplace=True)"
      ],
      "execution_count": null,
      "outputs": []
    },
    {
      "cell_type": "code",
      "metadata": {
        "id": "I7fEMffjMNQ8",
        "outputId": "9eb52b8b-d10a-40d8-886c-22a212a5bcaf",
        "colab": {
          "base_uri": "https://localhost:8080/",
          "height": 204
        }
      },
      "source": [
        "df.head()"
      ],
      "execution_count": null,
      "outputs": [
        {
          "output_type": "execute_result",
          "data": {
            "text/html": [
              "<div>\n",
              "<style scoped>\n",
              "    .dataframe tbody tr th:only-of-type {\n",
              "        vertical-align: middle;\n",
              "    }\n",
              "\n",
              "    .dataframe tbody tr th {\n",
              "        vertical-align: top;\n",
              "    }\n",
              "\n",
              "    .dataframe thead th {\n",
              "        text-align: right;\n",
              "    }\n",
              "</style>\n",
              "<table border=\"1\" class=\"dataframe\">\n",
              "  <thead>\n",
              "    <tr style=\"text-align: right;\">\n",
              "      <th></th>\n",
              "      <th>Depthm</th>\n",
              "      <th>T_degC</th>\n",
              "      <th>Salnty</th>\n",
              "    </tr>\n",
              "  </thead>\n",
              "  <tbody>\n",
              "    <tr>\n",
              "      <th>0</th>\n",
              "      <td>0</td>\n",
              "      <td>10.50</td>\n",
              "      <td>33.440</td>\n",
              "    </tr>\n",
              "    <tr>\n",
              "      <th>1</th>\n",
              "      <td>8</td>\n",
              "      <td>10.46</td>\n",
              "      <td>33.440</td>\n",
              "    </tr>\n",
              "    <tr>\n",
              "      <th>2</th>\n",
              "      <td>10</td>\n",
              "      <td>10.46</td>\n",
              "      <td>33.437</td>\n",
              "    </tr>\n",
              "    <tr>\n",
              "      <th>3</th>\n",
              "      <td>19</td>\n",
              "      <td>10.45</td>\n",
              "      <td>33.420</td>\n",
              "    </tr>\n",
              "    <tr>\n",
              "      <th>4</th>\n",
              "      <td>20</td>\n",
              "      <td>10.45</td>\n",
              "      <td>33.421</td>\n",
              "    </tr>\n",
              "  </tbody>\n",
              "</table>\n",
              "</div>"
            ],
            "text/plain": [
              "   Depthm  T_degC  Salnty\n",
              "0       0   10.50  33.440\n",
              "1       8   10.46  33.440\n",
              "2      10   10.46  33.437\n",
              "3      19   10.45  33.420\n",
              "4      20   10.45  33.421"
            ]
          },
          "metadata": {
            "tags": []
          },
          "execution_count": 8
        }
      ]
    },
    {
      "cell_type": "code",
      "metadata": {
        "id": "lBffDlvtMS7t",
        "outputId": "a015a6d2-80da-42eb-9514-73c07fa40472",
        "colab": {
          "base_uri": "https://localhost:8080/",
          "height": 102
        }
      },
      "source": [
        "print(df.dtypes)\n",
        "df.shape"
      ],
      "execution_count": null,
      "outputs": [
        {
          "output_type": "stream",
          "text": [
            "Depthm      int64\n",
            "T_degC    float64\n",
            "Salnty    float64\n",
            "dtype: object\n"
          ],
          "name": "stdout"
        },
        {
          "output_type": "execute_result",
          "data": {
            "text/plain": [
              "(864863, 3)"
            ]
          },
          "metadata": {
            "tags": []
          },
          "execution_count": 9
        }
      ]
    },
    {
      "cell_type": "code",
      "metadata": {
        "id": "gUywwLjTMoSk",
        "outputId": "49dcb392-66f3-46ae-d83e-f6d176537ffc",
        "colab": {
          "base_uri": "https://localhost:8080/",
          "height": 142
        }
      },
      "source": [
        "nulls = df.isnull().sum().sort_values(ascending=False)\n",
        "percent = round(nulls/len(df)*100, 2)\n",
        "\n",
        "df_null = pd.DataFrame(columns=['Features', 'Total', 'Percent'])\n",
        "df_null['Features'] = nulls.index\n",
        "df_null['Total'] = nulls.values\n",
        "df_null['Percent'] = percent.values\n",
        "\n",
        "df_null"
      ],
      "execution_count": null,
      "outputs": [
        {
          "output_type": "execute_result",
          "data": {
            "text/html": [
              "<div>\n",
              "<style scoped>\n",
              "    .dataframe tbody tr th:only-of-type {\n",
              "        vertical-align: middle;\n",
              "    }\n",
              "\n",
              "    .dataframe tbody tr th {\n",
              "        vertical-align: top;\n",
              "    }\n",
              "\n",
              "    .dataframe thead th {\n",
              "        text-align: right;\n",
              "    }\n",
              "</style>\n",
              "<table border=\"1\" class=\"dataframe\">\n",
              "  <thead>\n",
              "    <tr style=\"text-align: right;\">\n",
              "      <th></th>\n",
              "      <th>Features</th>\n",
              "      <th>Total</th>\n",
              "      <th>Percent</th>\n",
              "    </tr>\n",
              "  </thead>\n",
              "  <tbody>\n",
              "    <tr>\n",
              "      <th>0</th>\n",
              "      <td>Salnty</td>\n",
              "      <td>47354</td>\n",
              "      <td>5.48</td>\n",
              "    </tr>\n",
              "    <tr>\n",
              "      <th>1</th>\n",
              "      <td>T_degC</td>\n",
              "      <td>10963</td>\n",
              "      <td>1.27</td>\n",
              "    </tr>\n",
              "    <tr>\n",
              "      <th>2</th>\n",
              "      <td>Depthm</td>\n",
              "      <td>0</td>\n",
              "      <td>0.00</td>\n",
              "    </tr>\n",
              "  </tbody>\n",
              "</table>\n",
              "</div>"
            ],
            "text/plain": [
              "  Features  Total  Percent\n",
              "0   Salnty  47354     5.48\n",
              "1   T_degC  10963     1.27\n",
              "2   Depthm      0     0.00"
            ]
          },
          "metadata": {
            "tags": []
          },
          "execution_count": 10
        }
      ]
    },
    {
      "cell_type": "code",
      "metadata": {
        "id": "D2gF5yY7Mq4w",
        "outputId": "0127ebed-d334-4436-d036-a6f815b0768a",
        "colab": {
          "base_uri": "https://localhost:8080/",
          "height": 51
        }
      },
      "source": [
        "#Isi missing values\n",
        "for i in df.columns:\n",
        "  if df[i].isnull().sum() > 0:\n",
        "    df[i].fillna(df[i].mode().mean(), inplace=True)\n",
        "    print('Filled', i)"
      ],
      "execution_count": null,
      "outputs": [
        {
          "output_type": "stream",
          "text": [
            "Filled T_degC\n",
            "Filled Salnty\n"
          ],
          "name": "stdout"
        }
      ]
    },
    {
      "cell_type": "code",
      "metadata": {
        "id": "F9GE95qDOG7S",
        "outputId": "77a75516-475c-4615-dd3f-a2d0f9405222",
        "colab": {
          "base_uri": "https://localhost:8080/",
          "height": 142
        }
      },
      "source": [
        "#Cek ulang missing valuesnya\n",
        "nulls = df.isnull().sum().sort_values(ascending=False)\n",
        "percent = round(nulls/len(df)*100, 2)\n",
        "\n",
        "df_null = pd.DataFrame(columns=['Features', 'Total', 'Percent'])\n",
        "df_null['Features'] = nulls.index\n",
        "df_null['Total'] = nulls.values\n",
        "df_null['Percent'] = percent.values\n",
        "\n",
        "df_null"
      ],
      "execution_count": null,
      "outputs": [
        {
          "output_type": "execute_result",
          "data": {
            "text/html": [
              "<div>\n",
              "<style scoped>\n",
              "    .dataframe tbody tr th:only-of-type {\n",
              "        vertical-align: middle;\n",
              "    }\n",
              "\n",
              "    .dataframe tbody tr th {\n",
              "        vertical-align: top;\n",
              "    }\n",
              "\n",
              "    .dataframe thead th {\n",
              "        text-align: right;\n",
              "    }\n",
              "</style>\n",
              "<table border=\"1\" class=\"dataframe\">\n",
              "  <thead>\n",
              "    <tr style=\"text-align: right;\">\n",
              "      <th></th>\n",
              "      <th>Features</th>\n",
              "      <th>Total</th>\n",
              "      <th>Percent</th>\n",
              "    </tr>\n",
              "  </thead>\n",
              "  <tbody>\n",
              "    <tr>\n",
              "      <th>0</th>\n",
              "      <td>Salnty</td>\n",
              "      <td>0</td>\n",
              "      <td>0.0</td>\n",
              "    </tr>\n",
              "    <tr>\n",
              "      <th>1</th>\n",
              "      <td>T_degC</td>\n",
              "      <td>0</td>\n",
              "      <td>0.0</td>\n",
              "    </tr>\n",
              "    <tr>\n",
              "      <th>2</th>\n",
              "      <td>Depthm</td>\n",
              "      <td>0</td>\n",
              "      <td>0.0</td>\n",
              "    </tr>\n",
              "  </tbody>\n",
              "</table>\n",
              "</div>"
            ],
            "text/plain": [
              "  Features  Total  Percent\n",
              "0   Salnty      0      0.0\n",
              "1   T_degC      0      0.0\n",
              "2   Depthm      0      0.0"
            ]
          },
          "metadata": {
            "tags": []
          },
          "execution_count": 12
        }
      ]
    },
    {
      "cell_type": "code",
      "metadata": {
        "id": "_u13DjazQS-G",
        "outputId": "7e895e7a-afa2-4f68-ef70-932286fd9635",
        "colab": {
          "base_uri": "https://localhost:8080/",
          "height": 85
        }
      },
      "source": [
        "df.dtypes"
      ],
      "execution_count": null,
      "outputs": [
        {
          "output_type": "execute_result",
          "data": {
            "text/plain": [
              "Depthm      int64\n",
              "T_degC    float64\n",
              "Salnty    float64\n",
              "dtype: object"
            ]
          },
          "metadata": {
            "tags": []
          },
          "execution_count": 13
        }
      ]
    },
    {
      "cell_type": "code",
      "metadata": {
        "id": "eR9MPNmYQR7X",
        "outputId": "50980395-714b-47bd-b63f-6c6a465d1e73",
        "colab": {
          "base_uri": "https://localhost:8080/",
          "height": 1000
        }
      },
      "source": [
        "df_numbers = df.select_dtypes(include=['float64', 'int64'])\n",
        "\n",
        "df_numbers.hist(figsize=(18, 22), bins=50, xlabelsize=8, ylabelsize=8)\n",
        "plt.show()"
      ],
      "execution_count": null,
      "outputs": [
        {
          "output_type": "display_data",
          "data": {
            "image/png": "[encoded data removed]",
            "text/plain": [
              "<Figure size 1296x1584 with 4 Axes>"
            ]
          },
          "metadata": {
            "tags": [],
            "needs_background": "light"
          }
        }
      ]
    },
    {
      "cell_type": "code",
      "metadata": {
        "id": "mkVnf9IOQXpB",
        "outputId": "95331cb6-3331-4b41-d403-7666d946112a",
        "colab": {
          "base_uri": "https://localhost:8080/",
          "height": 578
        }
      },
      "source": [
        "plt.figure(figsize=(10, 10))\n",
        "sns.heatmap(df.corr(), annot=True, annot_kws={'size':10}, cbar=True, square=True, fmt='.2f', cmap='Blues')\n",
        "plt.show()"
      ],
      "execution_count": null,
      "outputs": [
        {
          "output_type": "display_data",
          "data": {
            "image/png": "[encoded data removed]",
            "text/plain": [
              "<Figure size 720x720 with 2 Axes>"
            ]
          },
          "metadata": {
            "tags": [],
            "needs_background": "light"
          }
        }
      ]
    },
    {
      "cell_type": "markdown",
      "metadata": {
        "id": "iLXSBuojQEeH"
      },
      "source": [
        "## **Machine Learning Model**"
      ]
    },
    {
      "cell_type": "markdown",
      "metadata": {
        "id": "4cpIFxIFQfWZ"
      },
      "source": [
        "### **Linear Regression**"
      ]
    },
    {
      "cell_type": "markdown",
      "metadata": {
        "id": "lksywk7jQhrY"
      },
      "source": [
        "**Feature Engineering**"
      ]
    },
    {
      "cell_type": "code",
      "metadata": {
        "id": "qVRVvmjcQC4Z"
      },
      "source": [
        "from sklearn.preprocessing import StandardScaler, PowerTransformer, QuantileTransformer, MinMaxScaler, MaxAbsScaler, RobustScaler\n",
        "from sklearn.model_selection import train_test_split\n",
        "from sklearn.linear_model import LinearRegression\n",
        "from sklearn.metrics import mean_squared_error, mean_absolute_error, r2_score"
      ],
      "execution_count": null,
      "outputs": []
    },
    {
      "cell_type": "code",
      "metadata": {
        "id": "FhzJfpBrQjwR"
      },
      "source": [
        "X = df.drop(['Salnty'], axis=1)\n",
        "y = df['Salnty']"
      ],
      "execution_count": null,
      "outputs": []
    },
    {
      "cell_type": "code",
      "metadata": {
        "id": "JKbJqCSKQn0Q"
      },
      "source": [
        "stdr = StandardScaler()\n",
        "\n",
        "X = stdr.fit_transform(X.values)\n",
        "y = stdr.fit_transform(df['Salnty'].values.reshape(-1, 1)).flatten()"
      ],
      "execution_count": null,
      "outputs": []
    },
    {
      "cell_type": "code",
      "metadata": {
        "id": "vcr4Z5MLQyeR"
      },
      "source": [
        "X_train, X_test, y_train, y_test = train_test_split(X, y, test_size=0.25, random_state=10)"
      ],
      "execution_count": null,
      "outputs": []
    },
    {
      "cell_type": "code",
      "metadata": {
        "id": "IQ1tQZq7Q2mP",
        "outputId": "708f50c7-697a-4d2c-a001-7164320a6fa8",
        "colab": {
          "base_uri": "https://localhost:8080/",
          "height": 34
        }
      },
      "source": [
        "X_train.shape, X_test.shape, y_train.shape, y_test.shape"
      ],
      "execution_count": null,
      "outputs": [
        {
          "output_type": "execute_result",
          "data": {
            "text/plain": [
              "((648647, 2), (216216, 2), (648647,), (216216,))"
            ]
          },
          "metadata": {
            "tags": []
          },
          "execution_count": 20
        }
      ]
    },
    {
      "cell_type": "code",
      "metadata": {
        "id": "dCkMe422Q6-i"
      },
      "source": [
        "linreg = LinearRegression()\n",
        "linreg.fit(X_train, y_train)\n",
        "\n",
        "predict_lm = linreg.predict(X_test)"
      ],
      "execution_count": null,
      "outputs": []
    },
    {
      "cell_type": "code",
      "metadata": {
        "id": "-vmTZYV1RY1P",
        "outputId": "31ffabb5-4746-41ce-b845-0205cf2712bd",
        "colab": {
          "base_uri": "https://localhost:8080/",
          "height": 85
        }
      },
      "source": [
        "mse = mean_squared_error(y_test, predict_lm)\n",
        "mae = mean_absolute_error(y_test, predict_lm)\n",
        "r2 = r2_score(y_test, predict_lm)\n",
        "print(\"MSE (Mean Squared Error)       :\", mse)\n",
        "print(\"MAE (Mean Absolute Error)      :\", mae)\n",
        "print(\"r^2 score                      :\", r2)\n",
        "print('RMSE (Root Mean Squared Error  :', np.sqrt(mean_squared_error(y_test, predict_lm)))"
      ],
      "execution_count": null,
      "outputs": [
        {
          "output_type": "stream",
          "text": [
            "MSE (Mean Squared Error)       : 0.7004045653886645\n",
            "MAE (Mean Absolute Error)      : 0.6007392481489782\n",
            "r^2 score                      : 0.3013722059652524\n",
            "RMSE (Root Mean Squared Error  : 0.8369017656742423\n"
          ],
          "name": "stdout"
        }
      ]
    },
    {
      "cell_type": "markdown",
      "metadata": {
        "id": "0P1KIVXnRcmy"
      },
      "source": [
        "## **Deep Learning Model**"
      ]
    },
    {
      "cell_type": "code",
      "metadata": {
        "id": "7zQvwsNpRZ9T"
      },
      "source": [
        "def plot_loss_new(history):\n",
        "  history_df = pd.DataFrame(history.history)\n",
        "\n",
        "  min_loss_index = history_df[history_df['loss']==min(history_df['loss'])].index.values\n",
        "  min_loss = history_df.loc[min_loss_index]['loss']\n",
        "  min_val_loss_index = history_df[history_df['val_loss']==min(history_df['val_loss'])].index.values\n",
        "  min_val_loss = history_df.loc[min_val_loss_index]['val_loss']\n",
        "\n",
        "  plt.plot(history.history['loss'], label='loss')\n",
        "  plt.plot(history.history['val_loss'], label='val_loss')\n",
        "  plt.plot(min_loss_index, min_loss, 'o', c='k', ms=4, label='min loss')\n",
        "  plt.plot(min_val_loss_index, min_val_loss, 'o', c='k', ms=4, label='min val_loss')\n",
        "  plt.xlabel('Epoch')\n",
        "  plt.ylabel('Loss')\n",
        "  plt.legend()\n",
        "  plt.grid(True)\n",
        "  plt.show()\n",
        "\n",
        "  print('Minimum Loss             :', min_loss)\n",
        "  print()\n",
        "  print('Minimum Validation Loss  :', min_val_loss)"
      ],
      "execution_count": null,
      "outputs": []
    },
    {
      "cell_type": "code",
      "metadata": {
        "id": "ZlTDcPlPRfL1"
      },
      "source": [
        "from tensorflow.keras.models import Sequential\n",
        "from tensorflow.keras.layers import Dense"
      ],
      "execution_count": null,
      "outputs": []
    },
    {
      "cell_type": "code",
      "metadata": {
        "id": "PcEtqbRdRgdq"
      },
      "source": [
        "model = Sequential()\n",
        "model.add(Dense(13, input_dim=2, kernel_initializer='normal', activation='relu'))\n",
        "model.add(Dense(1, kernel_initializer='normal'))\n",
        "\n",
        "model.compile(loss='mean_squared_error', optimizer='adam')"
      ],
      "execution_count": null,
      "outputs": []
    },
    {
      "cell_type": "code",
      "metadata": {
        "id": "4VvXkdDzRjlP",
        "outputId": "56a0ab09-d485-4df9-be01-4a70a030d9f5",
        "colab": {
          "base_uri": "https://localhost:8080/",
          "height": 1000
        }
      },
      "source": [
        "history = model.fit(x=X_train, y=y_train, validation_data=(X_test, y_test), epochs=50, batch_size=8)"
      ],
      "execution_count": null,
      "outputs": [
        {
          "output_type": "stream",
          "text": [
            "Epoch 1/50\n",
            "81081/81081 [==============================] - 162s 2ms/step - loss: 0.4224 - val_loss: 0.3888\n",
            "Epoch 2/50\n",
            "81081/81081 [==============================] - 159s 2ms/step - loss: 0.3772 - val_loss: 0.3787\n",
            "Epoch 3/50\n",
            "81081/81081 [==============================] - 160s 2ms/step - loss: 0.3736 - val_loss: 0.3750\n",
            "Epoch 4/50\n",
            "81081/81081 [==============================] - 161s 2ms/step - loss: 0.3728 - val_loss: 0.3761\n",
            "Epoch 5/50\n",
            "81081/81081 [==============================] - 158s 2ms/step - loss: 0.3726 - val_loss: 0.3779\n",
            "Epoch 6/50\n",
            "81081/81081 [==============================] - 155s 2ms/step - loss: 0.3723 - val_loss: 0.3741\n",
            "Epoch 7/50\n",
            "81081/81081 [==============================] - 156s 2ms/step - loss: 0.3723 - val_loss: 0.3777\n",
            "Epoch 8/50\n",
            "81081/81081 [==============================] - 156s 2ms/step - loss: 0.3722 - val_loss: 0.3791\n",
            "Epoch 9/50\n",
            "81081/81081 [==============================] - 155s 2ms/step - loss: 0.3721 - val_loss: 0.3757\n",
            "Epoch 10/50\n",
            "81081/81081 [==============================] - 156s 2ms/step - loss: 0.3722 - val_loss: 0.3735\n",
            "Epoch 11/50\n",
            "81081/81081 [==============================] - 155s 2ms/step - loss: 0.3720 - val_loss: 0.3746\n",
            "Epoch 12/50\n",
            "81081/81081 [==============================] - 155s 2ms/step - loss: 0.3720 - val_loss: 0.3748\n",
            "Epoch 13/50\n",
            "81081/81081 [==============================] - 154s 2ms/step - loss: 0.3720 - val_loss: 0.3764\n",
            "Epoch 14/50\n",
            "81081/81081 [==============================] - 155s 2ms/step - loss: 0.3720 - val_loss: 0.3777\n",
            "Epoch 15/50\n",
            "81081/81081 [==============================] - 156s 2ms/step - loss: 0.3720 - val_loss: 0.3843\n",
            "Epoch 16/50\n",
            "81081/81081 [==============================] - 155s 2ms/step - loss: 0.3719 - val_loss: 0.3744\n",
            "Epoch 17/50\n",
            "81081/81081 [==============================] - 153s 2ms/step - loss: 0.3719 - val_loss: 0.3752\n",
            "Epoch 18/50\n",
            "81081/81081 [==============================] - 154s 2ms/step - loss: 0.3718 - val_loss: 0.3811\n",
            "Epoch 19/50\n",
            "81081/81081 [==============================] - 155s 2ms/step - loss: 0.3719 - val_loss: 0.3752\n",
            "Epoch 20/50\n",
            "81081/81081 [==============================] - 156s 2ms/step - loss: 0.3716 - val_loss: 0.3742\n",
            "Epoch 21/50\n",
            "81081/81081 [==============================] - 154s 2ms/step - loss: 0.3705 - val_loss: 0.3731\n",
            "Epoch 22/50\n",
            "81081/81081 [==============================] - 153s 2ms/step - loss: 0.3699 - val_loss: 0.3728\n",
            "Epoch 23/50\n",
            "81081/81081 [==============================] - 153s 2ms/step - loss: 0.3699 - val_loss: 0.3790\n",
            "Epoch 24/50\n",
            "81081/81081 [==============================] - 154s 2ms/step - loss: 0.3697 - val_loss: 0.3741\n",
            "Epoch 25/50\n",
            "81081/81081 [==============================] - 153s 2ms/step - loss: 0.3699 - val_loss: 0.3719\n",
            "Epoch 26/50\n",
            "81081/81081 [==============================] - 155s 2ms/step - loss: 0.3696 - val_loss: 0.3753\n",
            "Epoch 27/50\n",
            "81081/81081 [==============================] - 154s 2ms/step - loss: 0.3697 - val_loss: 0.3741\n",
            "Epoch 28/50\n",
            "81081/81081 [==============================] - 153s 2ms/step - loss: 0.3696 - val_loss: 0.3717\n",
            "Epoch 29/50\n",
            "81081/81081 [==============================] - 153s 2ms/step - loss: 0.3696 - val_loss: 0.3722\n",
            "Epoch 30/50\n",
            "81081/81081 [==============================] - 153s 2ms/step - loss: 0.3695 - val_loss: 0.3719\n",
            "Epoch 31/50\n",
            "81081/81081 [==============================] - 153s 2ms/step - loss: 0.3694 - val_loss: 0.3713\n",
            "Epoch 32/50\n",
            "81081/81081 [==============================] - 154s 2ms/step - loss: 0.3694 - val_loss: 0.3718\n",
            "Epoch 33/50\n",
            "81081/81081 [==============================] - 154s 2ms/step - loss: 0.3694 - val_loss: 0.3740\n",
            "Epoch 34/50\n",
            "81081/81081 [==============================] - 155s 2ms/step - loss: 0.3694 - val_loss: 0.3750\n",
            "Epoch 35/50\n",
            "81081/81081 [==============================] - 154s 2ms/step - loss: 0.3694 - val_loss: 0.3721\n",
            "Epoch 36/50\n",
            "81081/81081 [==============================] - 153s 2ms/step - loss: 0.3694 - val_loss: 0.3714\n",
            "Epoch 37/50\n",
            "81081/81081 [==============================] - 153s 2ms/step - loss: 0.3694 - val_loss: 0.3742\n",
            "Epoch 38/50\n",
            "81081/81081 [==============================] - 153s 2ms/step - loss: 0.3690 - val_loss: 0.3724\n",
            "Epoch 39/50\n",
            "81081/81081 [==============================] - 154s 2ms/step - loss: 0.3688 - val_loss: 0.3709\n",
            "Epoch 40/50\n",
            "81081/81081 [==============================] - 155s 2ms/step - loss: 0.3689 - val_loss: 0.3808\n",
            "Epoch 41/50\n",
            "81081/81081 [==============================] - 154s 2ms/step - loss: 0.3689 - val_loss: 0.3715\n",
            "Epoch 42/50\n",
            "81081/81081 [==============================] - 157s 2ms/step - loss: 0.3688 - val_loss: 0.3715\n",
            "Epoch 43/50\n",
            "81081/81081 [==============================] - 153s 2ms/step - loss: 0.3689 - val_loss: 0.3714\n",
            "Epoch 44/50\n",
            "81081/81081 [==============================] - 157s 2ms/step - loss: 0.3688 - val_loss: 0.3713\n",
            "Epoch 45/50\n",
            "81081/81081 [==============================] - 154s 2ms/step - loss: 0.3687 - val_loss: 0.3723\n",
            "Epoch 46/50\n",
            "81081/81081 [==============================] - 156s 2ms/step - loss: 0.3688 - val_loss: 0.3714\n",
            "Epoch 47/50\n",
            "81081/81081 [==============================] - 152s 2ms/step - loss: 0.3688 - val_loss: 0.3723\n",
            "Epoch 48/50\n",
            "81081/81081 [==============================] - 155s 2ms/step - loss: 0.3687 - val_loss: 0.3810\n",
            "Epoch 49/50\n",
            "81081/81081 [==============================] - 156s 2ms/step - loss: 0.3687 - val_loss: 0.3724\n",
            "Epoch 50/50\n",
            "81081/81081 [==============================] - 155s 2ms/step - loss: 0.3687 - val_loss: 0.3732\n"
          ],
          "name": "stdout"
        }
      ]
    },
    {
      "cell_type": "code",
      "metadata": {
        "id": "_faukDObRo0L"
      },
      "source": [
        "predict_dl = model.predict(X_test)\n",
        "predict_dl = predict_dl.flatten()"
      ],
      "execution_count": null,
      "outputs": []
    },
    {
      "cell_type": "code",
      "metadata": {
        "id": "7011XdaExkz3",
        "outputId": "4f91e1ca-0aa1-4ec5-bbc0-219eec60c1a8",
        "colab": {
          "base_uri": "https://localhost:8080/",
          "height": 85
        }
      },
      "source": [
        "mse = mean_squared_error(y_test, predict_dl)\n",
        "mae = mean_absolute_error(y_test, predict_dl)\n",
        "r2 = r2_score(y_test, predict_dl)\n",
        "print(\"MSE (Mean Squared Error)       :\", mse)\n",
        "print(\"MAE (Mean Absolute Error)      :\", mae)\n",
        "print(\"r^2 score                      :\", r2)\n",
        "print('RMSE (Root Mean Squared Error) :', np.sqrt(mean_squared_error(y_test, predict_dl)))"
      ],
      "execution_count": null,
      "outputs": [
        {
          "output_type": "stream",
          "text": [
            "MSE (Mean Squared Error)       : 0.3732411327281064\n",
            "MAE (Mean Absolute Error)      : 0.41508964057573705\n",
            "r^2 score                      : 0.6277056974119382\n",
            "RMSE (Root Mean Squared Error) : 0.6109346386710336\n"
          ],
          "name": "stdout"
        }
      ]
    },
    {
      "cell_type": "code",
      "metadata": {
        "id": "ObsbkaETxnyR",
        "outputId": "e087e3c2-f651-495d-87f6-9a8489d0ef36",
        "colab": {
          "base_uri": "https://localhost:8080/",
          "height": 364
        }
      },
      "source": [
        "plot_loss_new(history)"
      ],
      "execution_count": null,
      "outputs": [
        {
          "output_type": "display_data",
          "data": {
            "image/png": "[encoded data removed]",
            "text/plain": [
              "<Figure size 432x288 with 1 Axes>"
            ]
          },
          "metadata": {
            "tags": [],
            "needs_background": "light"
          }
        },
        {
          "output_type": "stream",
          "text": [
            "Minimum Loss             : 47    0.368666\n",
            "Name: loss, dtype: float64\n",
            "\n",
            "Minimum Validation Loss  : 38    0.370944\n",
            "Name: val_loss, dtype: float64\n"
          ],
          "name": "stdout"
        }
      ]
    },
    {
      "cell_type": "markdown",
      "metadata": {
        "id": "dVX2a2Yw5OZC"
      },
      "source": [
        "Sweet spot berada pada epoch 38 dengan val_loss 0.370944"
      ]
    }
  ]
}