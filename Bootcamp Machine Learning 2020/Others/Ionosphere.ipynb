{
  "nbformat": 4,
  "nbformat_minor": 0,
  "metadata": {
    "colab": {
      "name": "Ionosphere.ipynb",
      "provenance": []
    },
    "kernelspec": {
      "name": "python3",
      "display_name": "Python 3"
    },
    "accelerator": "TPU"
  },
  "cells": [
    {
      "cell_type": "markdown",
      "metadata": {
        "id": "MKOMvxoF-UWy"
      },
      "source": [
        "# **Ionosphere**\n",
        "\n",
        "**Benedictus Bayu Pramudhito**"
      ]
    },
    {
      "cell_type": "code",
      "metadata": {
        "id": "Kh5otdvb3m1m",
        "outputId": "c5faa02c-b792-43ec-b535-62d1cc5f762c",
        "colab": {
          "base_uri": "https://localhost:8080/",
          "height": 34
        }
      },
      "source": [
        "from google.colab import drive\n",
        "drive.mount('/content/drive')"
      ],
      "execution_count": 1,
      "outputs": [
        {
          "output_type": "stream",
          "text": [
            "Mounted at /content/drive\n"
          ],
          "name": "stdout"
        }
      ]
    },
    {
      "cell_type": "code",
      "metadata": {
        "id": "IevSCKEJmNU1"
      },
      "source": [
        "import pandas as pd \n",
        "import numpy as np\n",
        "import matplotlib.pyplot as plt\n",
        "import seaborn as sns"
      ],
      "execution_count": 13,
      "outputs": []
    },
    {
      "cell_type": "code",
      "metadata": {
        "id": "USolu92-2_7v",
        "outputId": "d396f23b-8b56-43b5-b7f5-9676e5ff4fef",
        "colab": {
          "base_uri": "https://localhost:8080/",
          "height": 391
        }
      },
      "source": [
        "import os\n",
        "print('\\n'.join(os.listdir(r'./drive/My Drive')))"
      ],
      "execution_count": 14,
      "outputs": [
        {
          "output_type": "stream",
          "text": [
            "Getting started.pdf\n",
            "Tugas Akhir\n",
            "Banyuwangi-Bali \n",
            "CV Benedictus Bayu_(4) (1).pdf\n",
            "CV Benedictus Bayu_(4).pdf\n",
            "PT Transavia - Application Form (English) 2019.docx\n",
            "PT Transavia - Application Form (English) 2019.gdoc\n",
            "Video Telkom Marsya\n",
            "Video Telkom Bene\n",
            "Form Kandidat INDOCYBER (32).docx\n",
            "Form Kandidat INDOCYBER (32).gdoc\n",
            "Certificates\n",
            "Colab Test (Bootcamp ML 2020)\n",
            "Colab Notebooks\n",
            "cats-dogs.zip\n",
            "santa-dataset.zip\n",
            "Cermati\n",
            "titanic_train.csv\n",
            "titanic_eval.csv\n",
            "winequality-white.csv\n",
            "ionosphere_data_kaggle.csv\n",
            "ionosphere_data_kaggle (1).csv\n"
          ],
          "name": "stdout"
        }
      ]
    },
    {
      "cell_type": "code",
      "metadata": {
        "id": "mZnKxOm_3BYF",
        "outputId": "b473f2d6-53f9-4b7f-ff0a-d42a1e219cdd",
        "colab": {
          "base_uri": "https://localhost:8080/",
          "height": 224
        }
      },
      "source": [
        "df = pd.read_csv(r'./drive/My Drive/ionosphere_data_kaggle.csv')\n",
        "df.head()"
      ],
      "execution_count": 15,
      "outputs": [
        {
          "output_type": "execute_result",
          "data": {
            "text/html": [
              "<div>\n",
              "<style scoped>\n",
              "    .dataframe tbody tr th:only-of-type {\n",
              "        vertical-align: middle;\n",
              "    }\n",
              "\n",
              "    .dataframe tbody tr th {\n",
              "        vertical-align: top;\n",
              "    }\n",
              "\n",
              "    .dataframe thead th {\n",
              "        text-align: right;\n",
              "    }\n",
              "</style>\n",
              "<table border=\"1\" class=\"dataframe\">\n",
              "  <thead>\n",
              "    <tr style=\"text-align: right;\">\n",
              "      <th></th>\n",
              "      <th>feature1</th>\n",
              "      <th>feature2</th>\n",
              "      <th>feature3</th>\n",
              "      <th>feature4</th>\n",
              "      <th>feature5</th>\n",
              "      <th>feature6</th>\n",
              "      <th>feature7</th>\n",
              "      <th>feature8</th>\n",
              "      <th>feature9</th>\n",
              "      <th>feature10</th>\n",
              "      <th>feature11</th>\n",
              "      <th>feature12</th>\n",
              "      <th>feature13</th>\n",
              "      <th>feature14</th>\n",
              "      <th>feature15</th>\n",
              "      <th>feature16</th>\n",
              "      <th>feature17</th>\n",
              "      <th>feature18</th>\n",
              "      <th>feature19</th>\n",
              "      <th>feature20</th>\n",
              "      <th>feature21</th>\n",
              "      <th>feature22</th>\n",
              "      <th>feature23</th>\n",
              "      <th>feature24</th>\n",
              "      <th>feature25</th>\n",
              "      <th>feature26</th>\n",
              "      <th>feature27</th>\n",
              "      <th>feature28</th>\n",
              "      <th>feature29</th>\n",
              "      <th>feature30</th>\n",
              "      <th>feature31</th>\n",
              "      <th>feature32</th>\n",
              "      <th>feature33</th>\n",
              "      <th>feature34</th>\n",
              "      <th>label</th>\n",
              "    </tr>\n",
              "  </thead>\n",
              "  <tbody>\n",
              "    <tr>\n",
              "      <th>0</th>\n",
              "      <td>1</td>\n",
              "      <td>0</td>\n",
              "      <td>0.99539</td>\n",
              "      <td>-0.05889</td>\n",
              "      <td>0.85243</td>\n",
              "      <td>0.02306</td>\n",
              "      <td>0.83398</td>\n",
              "      <td>-0.37708</td>\n",
              "      <td>1.00000</td>\n",
              "      <td>0.03760</td>\n",
              "      <td>0.85243</td>\n",
              "      <td>-0.17755</td>\n",
              "      <td>0.59755</td>\n",
              "      <td>-0.44945</td>\n",
              "      <td>0.60536</td>\n",
              "      <td>-0.38223</td>\n",
              "      <td>0.84356</td>\n",
              "      <td>-0.38542</td>\n",
              "      <td>0.58212</td>\n",
              "      <td>-0.32192</td>\n",
              "      <td>0.56971</td>\n",
              "      <td>-0.29674</td>\n",
              "      <td>0.36946</td>\n",
              "      <td>-0.47357</td>\n",
              "      <td>0.56811</td>\n",
              "      <td>-0.51171</td>\n",
              "      <td>0.41078</td>\n",
              "      <td>-0.46168</td>\n",
              "      <td>0.21266</td>\n",
              "      <td>-0.34090</td>\n",
              "      <td>0.42267</td>\n",
              "      <td>-0.54487</td>\n",
              "      <td>0.18641</td>\n",
              "      <td>-0.45300</td>\n",
              "      <td>g</td>\n",
              "    </tr>\n",
              "    <tr>\n",
              "      <th>1</th>\n",
              "      <td>1</td>\n",
              "      <td>0</td>\n",
              "      <td>1.00000</td>\n",
              "      <td>-0.18829</td>\n",
              "      <td>0.93035</td>\n",
              "      <td>-0.36156</td>\n",
              "      <td>-0.10868</td>\n",
              "      <td>-0.93597</td>\n",
              "      <td>1.00000</td>\n",
              "      <td>-0.04549</td>\n",
              "      <td>0.50874</td>\n",
              "      <td>-0.67743</td>\n",
              "      <td>0.34432</td>\n",
              "      <td>-0.69707</td>\n",
              "      <td>-0.51685</td>\n",
              "      <td>-0.97515</td>\n",
              "      <td>0.05499</td>\n",
              "      <td>-0.62237</td>\n",
              "      <td>0.33109</td>\n",
              "      <td>-1.00000</td>\n",
              "      <td>-0.13151</td>\n",
              "      <td>-0.45300</td>\n",
              "      <td>-0.18056</td>\n",
              "      <td>-0.35734</td>\n",
              "      <td>-0.20332</td>\n",
              "      <td>-0.26569</td>\n",
              "      <td>-0.20468</td>\n",
              "      <td>-0.18401</td>\n",
              "      <td>-0.19040</td>\n",
              "      <td>-0.11593</td>\n",
              "      <td>-0.16626</td>\n",
              "      <td>-0.06288</td>\n",
              "      <td>-0.13738</td>\n",
              "      <td>-0.02447</td>\n",
              "      <td>b</td>\n",
              "    </tr>\n",
              "    <tr>\n",
              "      <th>2</th>\n",
              "      <td>1</td>\n",
              "      <td>0</td>\n",
              "      <td>1.00000</td>\n",
              "      <td>-0.03365</td>\n",
              "      <td>1.00000</td>\n",
              "      <td>0.00485</td>\n",
              "      <td>1.00000</td>\n",
              "      <td>-0.12062</td>\n",
              "      <td>0.88965</td>\n",
              "      <td>0.01198</td>\n",
              "      <td>0.73082</td>\n",
              "      <td>0.05346</td>\n",
              "      <td>0.85443</td>\n",
              "      <td>0.00827</td>\n",
              "      <td>0.54591</td>\n",
              "      <td>0.00299</td>\n",
              "      <td>0.83775</td>\n",
              "      <td>-0.13644</td>\n",
              "      <td>0.75535</td>\n",
              "      <td>-0.08540</td>\n",
              "      <td>0.70887</td>\n",
              "      <td>-0.27502</td>\n",
              "      <td>0.43385</td>\n",
              "      <td>-0.12062</td>\n",
              "      <td>0.57528</td>\n",
              "      <td>-0.40220</td>\n",
              "      <td>0.58984</td>\n",
              "      <td>-0.22145</td>\n",
              "      <td>0.43100</td>\n",
              "      <td>-0.17365</td>\n",
              "      <td>0.60436</td>\n",
              "      <td>-0.24180</td>\n",
              "      <td>0.56045</td>\n",
              "      <td>-0.38238</td>\n",
              "      <td>g</td>\n",
              "    </tr>\n",
              "    <tr>\n",
              "      <th>3</th>\n",
              "      <td>1</td>\n",
              "      <td>0</td>\n",
              "      <td>1.00000</td>\n",
              "      <td>-0.45161</td>\n",
              "      <td>1.00000</td>\n",
              "      <td>1.00000</td>\n",
              "      <td>0.71216</td>\n",
              "      <td>-1.00000</td>\n",
              "      <td>0.00000</td>\n",
              "      <td>0.00000</td>\n",
              "      <td>0.00000</td>\n",
              "      <td>0.00000</td>\n",
              "      <td>0.00000</td>\n",
              "      <td>0.00000</td>\n",
              "      <td>-1.00000</td>\n",
              "      <td>0.14516</td>\n",
              "      <td>0.54094</td>\n",
              "      <td>-0.39330</td>\n",
              "      <td>-1.00000</td>\n",
              "      <td>-0.54467</td>\n",
              "      <td>-0.69975</td>\n",
              "      <td>1.00000</td>\n",
              "      <td>0.00000</td>\n",
              "      <td>0.00000</td>\n",
              "      <td>1.00000</td>\n",
              "      <td>0.90695</td>\n",
              "      <td>0.51613</td>\n",
              "      <td>1.00000</td>\n",
              "      <td>1.00000</td>\n",
              "      <td>-0.20099</td>\n",
              "      <td>0.25682</td>\n",
              "      <td>1.00000</td>\n",
              "      <td>-0.32382</td>\n",
              "      <td>1.00000</td>\n",
              "      <td>b</td>\n",
              "    </tr>\n",
              "    <tr>\n",
              "      <th>4</th>\n",
              "      <td>1</td>\n",
              "      <td>0</td>\n",
              "      <td>1.00000</td>\n",
              "      <td>-0.02401</td>\n",
              "      <td>0.94140</td>\n",
              "      <td>0.06531</td>\n",
              "      <td>0.92106</td>\n",
              "      <td>-0.23255</td>\n",
              "      <td>0.77152</td>\n",
              "      <td>-0.16399</td>\n",
              "      <td>0.52798</td>\n",
              "      <td>-0.20275</td>\n",
              "      <td>0.56409</td>\n",
              "      <td>-0.00712</td>\n",
              "      <td>0.34395</td>\n",
              "      <td>-0.27457</td>\n",
              "      <td>0.52940</td>\n",
              "      <td>-0.21780</td>\n",
              "      <td>0.45107</td>\n",
              "      <td>-0.17813</td>\n",
              "      <td>0.05982</td>\n",
              "      <td>-0.35575</td>\n",
              "      <td>0.02309</td>\n",
              "      <td>-0.52879</td>\n",
              "      <td>0.03286</td>\n",
              "      <td>-0.65158</td>\n",
              "      <td>0.13290</td>\n",
              "      <td>-0.53206</td>\n",
              "      <td>0.02431</td>\n",
              "      <td>-0.62197</td>\n",
              "      <td>-0.05707</td>\n",
              "      <td>-0.59573</td>\n",
              "      <td>-0.04608</td>\n",
              "      <td>-0.65697</td>\n",
              "      <td>g</td>\n",
              "    </tr>\n",
              "  </tbody>\n",
              "</table>\n",
              "</div>"
            ],
            "text/plain": [
              "   feature1  feature2  feature3  ...  feature33  feature34  label\n",
              "0         1         0   0.99539  ...    0.18641   -0.45300      g\n",
              "1         1         0   1.00000  ...   -0.13738   -0.02447      b\n",
              "2         1         0   1.00000  ...    0.56045   -0.38238      g\n",
              "3         1         0   1.00000  ...   -0.32382    1.00000      b\n",
              "4         1         0   1.00000  ...   -0.04608   -0.65697      g\n",
              "\n",
              "[5 rows x 35 columns]"
            ]
          },
          "metadata": {
            "tags": []
          },
          "execution_count": 15
        }
      ]
    },
    {
      "cell_type": "code",
      "metadata": {
        "id": "CM308-5h3Zby",
        "outputId": "a204ca21-9569-40f3-ca26-ef3e963f960f",
        "colab": {
          "base_uri": "https://localhost:8080/",
          "height": 34
        }
      },
      "source": [
        "df.shape"
      ],
      "execution_count": 16,
      "outputs": [
        {
          "output_type": "execute_result",
          "data": {
            "text/plain": [
              "(351, 35)"
            ]
          },
          "metadata": {
            "tags": []
          },
          "execution_count": 16
        }
      ]
    },
    {
      "cell_type": "code",
      "metadata": {
        "id": "VVUMHtDY3zPP",
        "outputId": "b2ec1578-f934-4c6e-db71-c642f36ef203",
        "colab": {
          "base_uri": "https://localhost:8080/",
          "height": 629
        }
      },
      "source": [
        "df.dtypes"
      ],
      "execution_count": 17,
      "outputs": [
        {
          "output_type": "execute_result",
          "data": {
            "text/plain": [
              "feature1       int64\n",
              "feature2       int64\n",
              "feature3     float64\n",
              "feature4     float64\n",
              "feature5     float64\n",
              "feature6     float64\n",
              "feature7     float64\n",
              "feature8     float64\n",
              "feature9     float64\n",
              "feature10    float64\n",
              "feature11    float64\n",
              "feature12    float64\n",
              "feature13    float64\n",
              "feature14    float64\n",
              "feature15    float64\n",
              "feature16    float64\n",
              "feature17    float64\n",
              "feature18    float64\n",
              "feature19    float64\n",
              "feature20    float64\n",
              "feature21    float64\n",
              "feature22    float64\n",
              "feature23    float64\n",
              "feature24    float64\n",
              "feature25    float64\n",
              "feature26    float64\n",
              "feature27    float64\n",
              "feature28    float64\n",
              "feature29    float64\n",
              "feature30    float64\n",
              "feature31    float64\n",
              "feature32    float64\n",
              "feature33    float64\n",
              "feature34    float64\n",
              "label         object\n",
              "dtype: object"
            ]
          },
          "metadata": {
            "tags": []
          },
          "execution_count": 17
        }
      ]
    },
    {
      "cell_type": "code",
      "metadata": {
        "id": "JRkmOpPa4RCj",
        "outputId": "dfc5735c-ae67-434a-f4cf-dae61568f392",
        "colab": {
          "base_uri": "https://localhost:8080/",
          "height": 663
        }
      },
      "source": [
        "#Cek missing values\n",
        "print(df.isnull().sum())\n",
        "print('\\nTerdapat {} Missing Values pada Dataset'.format(df.isnull().sum().sum()))"
      ],
      "execution_count": 19,
      "outputs": [
        {
          "output_type": "stream",
          "text": [
            "feature1     0\n",
            "feature2     0\n",
            "feature3     0\n",
            "feature4     0\n",
            "feature5     0\n",
            "feature6     0\n",
            "feature7     0\n",
            "feature8     0\n",
            "feature9     0\n",
            "feature10    0\n",
            "feature11    0\n",
            "feature12    0\n",
            "feature13    0\n",
            "feature14    0\n",
            "feature15    0\n",
            "feature16    0\n",
            "feature17    0\n",
            "feature18    0\n",
            "feature19    0\n",
            "feature20    0\n",
            "feature21    0\n",
            "feature22    0\n",
            "feature23    0\n",
            "feature24    0\n",
            "feature25    0\n",
            "feature26    0\n",
            "feature27    0\n",
            "feature28    0\n",
            "feature29    0\n",
            "feature30    0\n",
            "feature31    0\n",
            "feature32    0\n",
            "feature33    0\n",
            "feature34    0\n",
            "label        0\n",
            "dtype: int64\n",
            "\n",
            "Terdapat 0 Missing Values pada Dataset\n"
          ],
          "name": "stdout"
        }
      ]
    },
    {
      "cell_type": "code",
      "metadata": {
        "id": "EuIxvCDG4ZQ4",
        "outputId": "b4deefdc-34e3-43bb-f3fc-7af3e75d3b07",
        "colab": {
          "base_uri": "https://localhost:8080/",
          "height": 1000
        }
      },
      "source": [
        "#Cek korelasi\n",
        "plt.figure(figsize=(20, 20))\n",
        "sns.heatmap(df.corr(), cbar=True, square=True, annot=False, cmap='Wistia')\n",
        "plt.title('Korelasi antar feature/atribut terhadap target', fontsize=15)\n",
        "plt.show()"
      ],
      "execution_count": 23,
      "outputs": [
        {
          "output_type": "display_data",
          "data": {
            "image/png": "[encoded data removed]",
            "text/plain": [
              "<Figure size 1440x1440 with 2 Axes>"
            ]
          },
          "metadata": {
            "tags": [],
            "needs_background": "light"
          }
        }
      ]
    },
    {
      "cell_type": "code",
      "metadata": {
        "id": "2pI9xJSF4qm9",
        "outputId": "ac4923a2-2a88-4cd7-8e30-4b1336e92d9f",
        "colab": {
          "base_uri": "https://localhost:8080/",
          "height": 1000
        }
      },
      "source": [
        "df.describe().T"
      ],
      "execution_count": 24,
      "outputs": [
        {
          "output_type": "execute_result",
          "data": {
            "text/html": [
              "<div>\n",
              "<style scoped>\n",
              "    .dataframe tbody tr th:only-of-type {\n",
              "        vertical-align: middle;\n",
              "    }\n",
              "\n",
              "    .dataframe tbody tr th {\n",
              "        vertical-align: top;\n",
              "    }\n",
              "\n",
              "    .dataframe thead th {\n",
              "        text-align: right;\n",
              "    }\n",
              "</style>\n",
              "<table border=\"1\" class=\"dataframe\">\n",
              "  <thead>\n",
              "    <tr style=\"text-align: right;\">\n",
              "      <th></th>\n",
              "      <th>count</th>\n",
              "      <th>mean</th>\n",
              "      <th>std</th>\n",
              "      <th>min</th>\n",
              "      <th>25%</th>\n",
              "      <th>50%</th>\n",
              "      <th>75%</th>\n",
              "      <th>max</th>\n",
              "    </tr>\n",
              "  </thead>\n",
              "  <tbody>\n",
              "    <tr>\n",
              "      <th>feature1</th>\n",
              "      <td>351.0</td>\n",
              "      <td>0.891738</td>\n",
              "      <td>0.311155</td>\n",
              "      <td>0.0</td>\n",
              "      <td>1.000000</td>\n",
              "      <td>1.00000</td>\n",
              "      <td>1.000000</td>\n",
              "      <td>1.0</td>\n",
              "    </tr>\n",
              "    <tr>\n",
              "      <th>feature2</th>\n",
              "      <td>351.0</td>\n",
              "      <td>0.000000</td>\n",
              "      <td>0.000000</td>\n",
              "      <td>0.0</td>\n",
              "      <td>0.000000</td>\n",
              "      <td>0.00000</td>\n",
              "      <td>0.000000</td>\n",
              "      <td>0.0</td>\n",
              "    </tr>\n",
              "    <tr>\n",
              "      <th>feature3</th>\n",
              "      <td>351.0</td>\n",
              "      <td>0.641342</td>\n",
              "      <td>0.497708</td>\n",
              "      <td>-1.0</td>\n",
              "      <td>0.472135</td>\n",
              "      <td>0.87111</td>\n",
              "      <td>1.000000</td>\n",
              "      <td>1.0</td>\n",
              "    </tr>\n",
              "    <tr>\n",
              "      <th>feature4</th>\n",
              "      <td>351.0</td>\n",
              "      <td>0.044372</td>\n",
              "      <td>0.441435</td>\n",
              "      <td>-1.0</td>\n",
              "      <td>-0.064735</td>\n",
              "      <td>0.01631</td>\n",
              "      <td>0.194185</td>\n",
              "      <td>1.0</td>\n",
              "    </tr>\n",
              "    <tr>\n",
              "      <th>feature5</th>\n",
              "      <td>351.0</td>\n",
              "      <td>0.601068</td>\n",
              "      <td>0.519862</td>\n",
              "      <td>-1.0</td>\n",
              "      <td>0.412660</td>\n",
              "      <td>0.80920</td>\n",
              "      <td>1.000000</td>\n",
              "      <td>1.0</td>\n",
              "    </tr>\n",
              "    <tr>\n",
              "      <th>feature6</th>\n",
              "      <td>351.0</td>\n",
              "      <td>0.115889</td>\n",
              "      <td>0.460810</td>\n",
              "      <td>-1.0</td>\n",
              "      <td>-0.024795</td>\n",
              "      <td>0.02280</td>\n",
              "      <td>0.334655</td>\n",
              "      <td>1.0</td>\n",
              "    </tr>\n",
              "    <tr>\n",
              "      <th>feature7</th>\n",
              "      <td>351.0</td>\n",
              "      <td>0.550095</td>\n",
              "      <td>0.492654</td>\n",
              "      <td>-1.0</td>\n",
              "      <td>0.211310</td>\n",
              "      <td>0.72873</td>\n",
              "      <td>0.969240</td>\n",
              "      <td>1.0</td>\n",
              "    </tr>\n",
              "    <tr>\n",
              "      <th>feature8</th>\n",
              "      <td>351.0</td>\n",
              "      <td>0.119360</td>\n",
              "      <td>0.520750</td>\n",
              "      <td>-1.0</td>\n",
              "      <td>-0.054840</td>\n",
              "      <td>0.01471</td>\n",
              "      <td>0.445675</td>\n",
              "      <td>1.0</td>\n",
              "    </tr>\n",
              "    <tr>\n",
              "      <th>feature9</th>\n",
              "      <td>351.0</td>\n",
              "      <td>0.511848</td>\n",
              "      <td>0.507066</td>\n",
              "      <td>-1.0</td>\n",
              "      <td>0.087110</td>\n",
              "      <td>0.68421</td>\n",
              "      <td>0.953240</td>\n",
              "      <td>1.0</td>\n",
              "    </tr>\n",
              "    <tr>\n",
              "      <th>feature10</th>\n",
              "      <td>351.0</td>\n",
              "      <td>0.181345</td>\n",
              "      <td>0.483851</td>\n",
              "      <td>-1.0</td>\n",
              "      <td>-0.048075</td>\n",
              "      <td>0.01829</td>\n",
              "      <td>0.534195</td>\n",
              "      <td>1.0</td>\n",
              "    </tr>\n",
              "    <tr>\n",
              "      <th>feature11</th>\n",
              "      <td>351.0</td>\n",
              "      <td>0.476183</td>\n",
              "      <td>0.563496</td>\n",
              "      <td>-1.0</td>\n",
              "      <td>0.021120</td>\n",
              "      <td>0.66798</td>\n",
              "      <td>0.957895</td>\n",
              "      <td>1.0</td>\n",
              "    </tr>\n",
              "    <tr>\n",
              "      <th>feature12</th>\n",
              "      <td>351.0</td>\n",
              "      <td>0.155040</td>\n",
              "      <td>0.494817</td>\n",
              "      <td>-1.0</td>\n",
              "      <td>-0.065265</td>\n",
              "      <td>0.02825</td>\n",
              "      <td>0.482375</td>\n",
              "      <td>1.0</td>\n",
              "    </tr>\n",
              "    <tr>\n",
              "      <th>feature13</th>\n",
              "      <td>351.0</td>\n",
              "      <td>0.400801</td>\n",
              "      <td>0.622186</td>\n",
              "      <td>-1.0</td>\n",
              "      <td>0.000000</td>\n",
              "      <td>0.64407</td>\n",
              "      <td>0.955505</td>\n",
              "      <td>1.0</td>\n",
              "    </tr>\n",
              "    <tr>\n",
              "      <th>feature14</th>\n",
              "      <td>351.0</td>\n",
              "      <td>0.093414</td>\n",
              "      <td>0.494873</td>\n",
              "      <td>-1.0</td>\n",
              "      <td>-0.073725</td>\n",
              "      <td>0.03027</td>\n",
              "      <td>0.374860</td>\n",
              "      <td>1.0</td>\n",
              "    </tr>\n",
              "    <tr>\n",
              "      <th>feature15</th>\n",
              "      <td>351.0</td>\n",
              "      <td>0.344159</td>\n",
              "      <td>0.652828</td>\n",
              "      <td>-1.0</td>\n",
              "      <td>0.000000</td>\n",
              "      <td>0.60194</td>\n",
              "      <td>0.919330</td>\n",
              "      <td>1.0</td>\n",
              "    </tr>\n",
              "    <tr>\n",
              "      <th>feature16</th>\n",
              "      <td>351.0</td>\n",
              "      <td>0.071132</td>\n",
              "      <td>0.458371</td>\n",
              "      <td>-1.0</td>\n",
              "      <td>-0.081705</td>\n",
              "      <td>0.00000</td>\n",
              "      <td>0.308975</td>\n",
              "      <td>1.0</td>\n",
              "    </tr>\n",
              "    <tr>\n",
              "      <th>feature17</th>\n",
              "      <td>351.0</td>\n",
              "      <td>0.381949</td>\n",
              "      <td>0.618020</td>\n",
              "      <td>-1.0</td>\n",
              "      <td>0.000000</td>\n",
              "      <td>0.59091</td>\n",
              "      <td>0.935705</td>\n",
              "      <td>1.0</td>\n",
              "    </tr>\n",
              "    <tr>\n",
              "      <th>feature18</th>\n",
              "      <td>351.0</td>\n",
              "      <td>-0.003617</td>\n",
              "      <td>0.496762</td>\n",
              "      <td>-1.0</td>\n",
              "      <td>-0.225690</td>\n",
              "      <td>0.00000</td>\n",
              "      <td>0.195285</td>\n",
              "      <td>1.0</td>\n",
              "    </tr>\n",
              "    <tr>\n",
              "      <th>feature19</th>\n",
              "      <td>351.0</td>\n",
              "      <td>0.359390</td>\n",
              "      <td>0.626267</td>\n",
              "      <td>-1.0</td>\n",
              "      <td>0.000000</td>\n",
              "      <td>0.57619</td>\n",
              "      <td>0.899265</td>\n",
              "      <td>1.0</td>\n",
              "    </tr>\n",
              "    <tr>\n",
              "      <th>feature20</th>\n",
              "      <td>351.0</td>\n",
              "      <td>-0.024025</td>\n",
              "      <td>0.519076</td>\n",
              "      <td>-1.0</td>\n",
              "      <td>-0.234670</td>\n",
              "      <td>0.00000</td>\n",
              "      <td>0.134370</td>\n",
              "      <td>1.0</td>\n",
              "    </tr>\n",
              "    <tr>\n",
              "      <th>feature21</th>\n",
              "      <td>351.0</td>\n",
              "      <td>0.336695</td>\n",
              "      <td>0.609828</td>\n",
              "      <td>-1.0</td>\n",
              "      <td>0.000000</td>\n",
              "      <td>0.49909</td>\n",
              "      <td>0.894865</td>\n",
              "      <td>1.0</td>\n",
              "    </tr>\n",
              "    <tr>\n",
              "      <th>feature22</th>\n",
              "      <td>351.0</td>\n",
              "      <td>0.008296</td>\n",
              "      <td>0.518166</td>\n",
              "      <td>-1.0</td>\n",
              "      <td>-0.243870</td>\n",
              "      <td>0.00000</td>\n",
              "      <td>0.188760</td>\n",
              "      <td>1.0</td>\n",
              "    </tr>\n",
              "    <tr>\n",
              "      <th>feature23</th>\n",
              "      <td>351.0</td>\n",
              "      <td>0.362475</td>\n",
              "      <td>0.603767</td>\n",
              "      <td>-1.0</td>\n",
              "      <td>0.000000</td>\n",
              "      <td>0.53176</td>\n",
              "      <td>0.911235</td>\n",
              "      <td>1.0</td>\n",
              "    </tr>\n",
              "    <tr>\n",
              "      <th>feature24</th>\n",
              "      <td>351.0</td>\n",
              "      <td>-0.057406</td>\n",
              "      <td>0.527456</td>\n",
              "      <td>-1.0</td>\n",
              "      <td>-0.366885</td>\n",
              "      <td>0.00000</td>\n",
              "      <td>0.164630</td>\n",
              "      <td>1.0</td>\n",
              "    </tr>\n",
              "    <tr>\n",
              "      <th>feature25</th>\n",
              "      <td>351.0</td>\n",
              "      <td>0.396135</td>\n",
              "      <td>0.578451</td>\n",
              "      <td>-1.0</td>\n",
              "      <td>0.000000</td>\n",
              "      <td>0.55389</td>\n",
              "      <td>0.905240</td>\n",
              "      <td>1.0</td>\n",
              "    </tr>\n",
              "    <tr>\n",
              "      <th>feature26</th>\n",
              "      <td>351.0</td>\n",
              "      <td>-0.071187</td>\n",
              "      <td>0.508495</td>\n",
              "      <td>-1.0</td>\n",
              "      <td>-0.332390</td>\n",
              "      <td>-0.01505</td>\n",
              "      <td>0.156765</td>\n",
              "      <td>1.0</td>\n",
              "    </tr>\n",
              "    <tr>\n",
              "      <th>feature27</th>\n",
              "      <td>351.0</td>\n",
              "      <td>0.541641</td>\n",
              "      <td>0.516205</td>\n",
              "      <td>-1.0</td>\n",
              "      <td>0.286435</td>\n",
              "      <td>0.70824</td>\n",
              "      <td>0.999945</td>\n",
              "      <td>1.0</td>\n",
              "    </tr>\n",
              "    <tr>\n",
              "      <th>feature28</th>\n",
              "      <td>351.0</td>\n",
              "      <td>-0.069538</td>\n",
              "      <td>0.550025</td>\n",
              "      <td>-1.0</td>\n",
              "      <td>-0.443165</td>\n",
              "      <td>-0.01769</td>\n",
              "      <td>0.153535</td>\n",
              "      <td>1.0</td>\n",
              "    </tr>\n",
              "    <tr>\n",
              "      <th>feature29</th>\n",
              "      <td>351.0</td>\n",
              "      <td>0.378445</td>\n",
              "      <td>0.575886</td>\n",
              "      <td>-1.0</td>\n",
              "      <td>0.000000</td>\n",
              "      <td>0.49664</td>\n",
              "      <td>0.883465</td>\n",
              "      <td>1.0</td>\n",
              "    </tr>\n",
              "    <tr>\n",
              "      <th>feature30</th>\n",
              "      <td>351.0</td>\n",
              "      <td>-0.027907</td>\n",
              "      <td>0.507974</td>\n",
              "      <td>-1.0</td>\n",
              "      <td>-0.236885</td>\n",
              "      <td>0.00000</td>\n",
              "      <td>0.154075</td>\n",
              "      <td>1.0</td>\n",
              "    </tr>\n",
              "    <tr>\n",
              "      <th>feature31</th>\n",
              "      <td>351.0</td>\n",
              "      <td>0.352514</td>\n",
              "      <td>0.571483</td>\n",
              "      <td>-1.0</td>\n",
              "      <td>0.000000</td>\n",
              "      <td>0.44277</td>\n",
              "      <td>0.857620</td>\n",
              "      <td>1.0</td>\n",
              "    </tr>\n",
              "    <tr>\n",
              "      <th>feature32</th>\n",
              "      <td>351.0</td>\n",
              "      <td>-0.003794</td>\n",
              "      <td>0.513574</td>\n",
              "      <td>-1.0</td>\n",
              "      <td>-0.242595</td>\n",
              "      <td>0.00000</td>\n",
              "      <td>0.200120</td>\n",
              "      <td>1.0</td>\n",
              "    </tr>\n",
              "    <tr>\n",
              "      <th>feature33</th>\n",
              "      <td>351.0</td>\n",
              "      <td>0.349364</td>\n",
              "      <td>0.522663</td>\n",
              "      <td>-1.0</td>\n",
              "      <td>0.000000</td>\n",
              "      <td>0.40956</td>\n",
              "      <td>0.813765</td>\n",
              "      <td>1.0</td>\n",
              "    </tr>\n",
              "    <tr>\n",
              "      <th>feature34</th>\n",
              "      <td>351.0</td>\n",
              "      <td>0.014480</td>\n",
              "      <td>0.468337</td>\n",
              "      <td>-1.0</td>\n",
              "      <td>-0.165350</td>\n",
              "      <td>0.00000</td>\n",
              "      <td>0.171660</td>\n",
              "      <td>1.0</td>\n",
              "    </tr>\n",
              "  </tbody>\n",
              "</table>\n",
              "</div>"
            ],
            "text/plain": [
              "           count      mean       std  min       25%      50%       75%  max\n",
              "feature1   351.0  0.891738  0.311155  0.0  1.000000  1.00000  1.000000  1.0\n",
              "feature2   351.0  0.000000  0.000000  0.0  0.000000  0.00000  0.000000  0.0\n",
              "feature3   351.0  0.641342  0.497708 -1.0  0.472135  0.87111  1.000000  1.0\n",
              "feature4   351.0  0.044372  0.441435 -1.0 -0.064735  0.01631  0.194185  1.0\n",
              "feature5   351.0  0.601068  0.519862 -1.0  0.412660  0.80920  1.000000  1.0\n",
              "feature6   351.0  0.115889  0.460810 -1.0 -0.024795  0.02280  0.334655  1.0\n",
              "feature7   351.0  0.550095  0.492654 -1.0  0.211310  0.72873  0.969240  1.0\n",
              "feature8   351.0  0.119360  0.520750 -1.0 -0.054840  0.01471  0.445675  1.0\n",
              "feature9   351.0  0.511848  0.507066 -1.0  0.087110  0.68421  0.953240  1.0\n",
              "feature10  351.0  0.181345  0.483851 -1.0 -0.048075  0.01829  0.534195  1.0\n",
              "feature11  351.0  0.476183  0.563496 -1.0  0.021120  0.66798  0.957895  1.0\n",
              "feature12  351.0  0.155040  0.494817 -1.0 -0.065265  0.02825  0.482375  1.0\n",
              "feature13  351.0  0.400801  0.622186 -1.0  0.000000  0.64407  0.955505  1.0\n",
              "feature14  351.0  0.093414  0.494873 -1.0 -0.073725  0.03027  0.374860  1.0\n",
              "feature15  351.0  0.344159  0.652828 -1.0  0.000000  0.60194  0.919330  1.0\n",
              "feature16  351.0  0.071132  0.458371 -1.0 -0.081705  0.00000  0.308975  1.0\n",
              "feature17  351.0  0.381949  0.618020 -1.0  0.000000  0.59091  0.935705  1.0\n",
              "feature18  351.0 -0.003617  0.496762 -1.0 -0.225690  0.00000  0.195285  1.0\n",
              "feature19  351.0  0.359390  0.626267 -1.0  0.000000  0.57619  0.899265  1.0\n",
              "feature20  351.0 -0.024025  0.519076 -1.0 -0.234670  0.00000  0.134370  1.0\n",
              "feature21  351.0  0.336695  0.609828 -1.0  0.000000  0.49909  0.894865  1.0\n",
              "feature22  351.0  0.008296  0.518166 -1.0 -0.243870  0.00000  0.188760  1.0\n",
              "feature23  351.0  0.362475  0.603767 -1.0  0.000000  0.53176  0.911235  1.0\n",
              "feature24  351.0 -0.057406  0.527456 -1.0 -0.366885  0.00000  0.164630  1.0\n",
              "feature25  351.0  0.396135  0.578451 -1.0  0.000000  0.55389  0.905240  1.0\n",
              "feature26  351.0 -0.071187  0.508495 -1.0 -0.332390 -0.01505  0.156765  1.0\n",
              "feature27  351.0  0.541641  0.516205 -1.0  0.286435  0.70824  0.999945  1.0\n",
              "feature28  351.0 -0.069538  0.550025 -1.0 -0.443165 -0.01769  0.153535  1.0\n",
              "feature29  351.0  0.378445  0.575886 -1.0  0.000000  0.49664  0.883465  1.0\n",
              "feature30  351.0 -0.027907  0.507974 -1.0 -0.236885  0.00000  0.154075  1.0\n",
              "feature31  351.0  0.352514  0.571483 -1.0  0.000000  0.44277  0.857620  1.0\n",
              "feature32  351.0 -0.003794  0.513574 -1.0 -0.242595  0.00000  0.200120  1.0\n",
              "feature33  351.0  0.349364  0.522663 -1.0  0.000000  0.40956  0.813765  1.0\n",
              "feature34  351.0  0.014480  0.468337 -1.0 -0.165350  0.00000  0.171660  1.0"
            ]
          },
          "metadata": {
            "tags": []
          },
          "execution_count": 24
        }
      ]
    },
    {
      "cell_type": "markdown",
      "metadata": {
        "id": "iOXDTUBt-bVB"
      },
      "source": [
        "**Label Encoding**"
      ]
    },
    {
      "cell_type": "code",
      "metadata": {
        "id": "_jKMPol230pv",
        "outputId": "fe60a3c2-baca-45ab-a21f-12eda22e8132",
        "colab": {
          "base_uri": "https://localhost:8080/",
          "height": 68
        }
      },
      "source": [
        "df['label'].value_counts()"
      ],
      "execution_count": 25,
      "outputs": [
        {
          "output_type": "execute_result",
          "data": {
            "text/plain": [
              "g    225\n",
              "b    126\n",
              "Name: label, dtype: int64"
            ]
          },
          "metadata": {
            "tags": []
          },
          "execution_count": 25
        }
      ]
    },
    {
      "cell_type": "code",
      "metadata": {
        "id": "SFq93NFL4CYf"
      },
      "source": [
        "from sklearn.preprocessing import LabelEncoder"
      ],
      "execution_count": 26,
      "outputs": []
    },
    {
      "cell_type": "code",
      "metadata": {
        "id": "3I-vaeQm4Gh_"
      },
      "source": [
        "label_encode = LabelEncoder()\n",
        "df['label'] = label_encode.fit_transform(df['label'])"
      ],
      "execution_count": 27,
      "outputs": []
    },
    {
      "cell_type": "code",
      "metadata": {
        "id": "ks24Iy8p4KUa",
        "outputId": "04f33b6b-c38e-42c3-e9d6-4e403c5fffb1",
        "colab": {
          "base_uri": "https://localhost:8080/",
          "height": 418
        }
      },
      "source": [
        "print(df['label'].value_counts(), '\\n')\n",
        "sns.countplot(df['label'])"
      ],
      "execution_count": 28,
      "outputs": [
        {
          "output_type": "stream",
          "text": [
            "1    225\n",
            "0    126\n",
            "Name: label, dtype: int64 \n",
            "\n"
          ],
          "name": "stdout"
        },
        {
          "output_type": "stream",
          "text": [
            "/usr/local/lib/python3.6/dist-packages/seaborn/_decorators.py:43: FutureWarning: Pass the following variable as a keyword arg: x. From version 0.12, the only valid positional argument will be `data`, and passing other arguments without an explicit keyword will result in an error or misinterpretation.\n",
            "  FutureWarning\n"
          ],
          "name": "stderr"
        },
        {
          "output_type": "execute_result",
          "data": {
            "text/plain": [
              "<matplotlib.axes._subplots.AxesSubplot at 0x7fea76ba40f0>"
            ]
          },
          "metadata": {
            "tags": []
          },
          "execution_count": 28
        },
        {
          "output_type": "display_data",
          "data": {
            "image/png": "[encoded data removed]",
            "text/plain": [
              "<Figure size 432x288 with 1 Axes>"
            ]
          },
          "metadata": {
            "tags": [],
            "needs_background": "light"
          }
        }
      ]
    },
    {
      "cell_type": "code",
      "metadata": {
        "id": "285f-46h4OOY",
        "outputId": "547b0fba-159f-428f-b780-3e25f76f2a1d",
        "colab": {
          "base_uri": "https://localhost:8080/",
          "height": 34
        }
      },
      "source": [
        "df.shape"
      ],
      "execution_count": 30,
      "outputs": [
        {
          "output_type": "execute_result",
          "data": {
            "text/plain": [
              "(351, 35)"
            ]
          },
          "metadata": {
            "tags": []
          },
          "execution_count": 30
        }
      ]
    },
    {
      "cell_type": "code",
      "metadata": {
        "id": "prjKdr_t423d"
      },
      "source": [
        "X = df.drop(['label'], axis=1)\n",
        "y = df['label']"
      ],
      "execution_count": 31,
      "outputs": []
    },
    {
      "cell_type": "markdown",
      "metadata": {
        "id": "1PRV6hMM-e4W"
      },
      "source": [
        "**Dataset Splitting**"
      ]
    },
    {
      "cell_type": "code",
      "metadata": {
        "id": "cfer_4qw4-EZ",
        "outputId": "793c8c1f-3d0e-415c-a558-ffbe7da234e8",
        "colab": {
          "base_uri": "https://localhost:8080/",
          "height": 34
        }
      },
      "source": [
        "from sklearn.model_selection import train_test_split\n",
        "X_train, X_test, y_train, y_test = train_test_split(X, y, test_size=0.20, random_state=10)\n",
        "X_train.shape, X_test.shape, y_train.shape, y_test.shape"
      ],
      "execution_count": 32,
      "outputs": [
        {
          "output_type": "execute_result",
          "data": {
            "text/plain": [
              "((280, 34), (71, 34), (280,), (71,))"
            ]
          },
          "metadata": {
            "tags": []
          },
          "execution_count": 32
        }
      ]
    },
    {
      "cell_type": "markdown",
      "metadata": {
        "id": "rDlEhGaY5KRb"
      },
      "source": [
        "## **Deep Learning Model**"
      ]
    },
    {
      "cell_type": "code",
      "metadata": {
        "id": "QRbSWKuO4_po"
      },
      "source": [
        "from tensorflow.keras.models import Sequential\n",
        "from tensorflow.keras.layers import Dense\n",
        "from tensorflow.keras.layers import Dropout"
      ],
      "execution_count": 45,
      "outputs": []
    },
    {
      "cell_type": "code",
      "metadata": {
        "id": "hSKiLLYO52HR"
      },
      "source": [
        "def plot_loss_new(history):\n",
        "  history_df = pd.DataFrame(history.history)\n",
        "\n",
        "  min_loss_index = history_df[history_df['loss']==min(history_df['loss'])].index.values\n",
        "  min_loss = history_df.loc[min_loss_index]['loss']\n",
        "  min_val_loss_index = history_df[history_df['val_loss']==min(history_df['val_loss'])].index.values\n",
        "  min_val_loss = history_df.loc[min_val_loss_index]['val_loss']\n",
        "\n",
        "  plt.plot(history.history['loss'], label='loss')\n",
        "  plt.plot(history.history['val_loss'], label='val_loss')\n",
        "  plt.plot(min_loss_index, min_loss, 'o', c='k', ms=4, label='min loss')\n",
        "  plt.plot(min_val_loss_index, min_val_loss, 'o', c='k', ms=4, label='min val_loss')\n",
        "  plt.xlabel('Epoch')\n",
        "  plt.ylabel('Loss')\n",
        "  plt.legend()\n",
        "  plt.grid(True)\n",
        "  plt.show()\n",
        "\n",
        "  print('Minimum Loss             :', min_loss)\n",
        "  print()\n",
        "  print('Minimum Validation Loss  :', min_val_loss)"
      ],
      "execution_count": 50,
      "outputs": []
    },
    {
      "cell_type": "markdown",
      "metadata": {
        "id": "ryQSrgFP63Lo"
      },
      "source": [
        "**Baseline Layer**"
      ]
    },
    {
      "cell_type": "code",
      "metadata": {
        "id": "fyIfSqPG5BIT"
      },
      "source": [
        "model = Sequential()\n",
        "model.add(Dense(34, input_dim=34 , activation= 'relu', kernel_initializer='normal' )) \n",
        "model.add(Dropout(0.5))\n",
        "model.add(Dense(1,  activation= 'sigmoid', kernel_initializer='normal'))"
      ],
      "execution_count": 63,
      "outputs": []
    },
    {
      "cell_type": "code",
      "metadata": {
        "id": "uBH6VZGt5Ieh"
      },
      "source": [
        "from tensorflow.keras.optimizers import SGD, Adam, RMSprop\n",
        "\n",
        "opt = SGD(learning_rate=0.01, momentum=0.9, nesterov=False)\n",
        "\n",
        "model.compile(loss= 'binary_crossentropy' , optimizer=opt, metrics=['accuracy'])"
      ],
      "execution_count": 64,
      "outputs": []
    },
    {
      "cell_type": "code",
      "metadata": {
        "id": "U_ViPO025kOK",
        "outputId": "405fb388-a37a-4f5a-b266-0016c7c40eff",
        "colab": {
          "base_uri": "https://localhost:8080/",
          "height": 255
        }
      },
      "source": [
        "model.summary()"
      ],
      "execution_count": 65,
      "outputs": [
        {
          "output_type": "stream",
          "text": [
            "Model: \"sequential_3\"\n",
            "_________________________________________________________________\n",
            "Layer (type)                 Output Shape              Param #   \n",
            "=================================================================\n",
            "dense_6 (Dense)              (None, 34)                1190      \n",
            "_________________________________________________________________\n",
            "dropout_2 (Dropout)          (None, 34)                0         \n",
            "_________________________________________________________________\n",
            "dense_7 (Dense)              (None, 1)                 35        \n",
            "=================================================================\n",
            "Total params: 1,225\n",
            "Trainable params: 1,225\n",
            "Non-trainable params: 0\n",
            "_________________________________________________________________\n"
          ],
          "name": "stdout"
        }
      ]
    },
    {
      "cell_type": "code",
      "metadata": {
        "id": "snKI3ukz5rHq",
        "outputId": "dd0e9dbe-ca1c-453a-b6a6-83be210a7936",
        "colab": {
          "base_uri": "https://localhost:8080/",
          "height": 1000
        }
      },
      "source": [
        "history = model.fit(x=X_train, y=y_train, validation_data=(X_test, y_test), epochs=50, batch_size=8)"
      ],
      "execution_count": 66,
      "outputs": [
        {
          "output_type": "stream",
          "text": [
            "Epoch 1/50\n",
            "35/35 [==============================] - 0s 4ms/step - loss: 0.6696 - accuracy: 0.5893 - val_loss: 0.6056 - val_accuracy: 0.6761\n",
            "Epoch 2/50\n",
            "35/35 [==============================] - 0s 1ms/step - loss: 0.6022 - accuracy: 0.6321 - val_loss: 0.5468 - val_accuracy: 0.6761\n",
            "Epoch 3/50\n",
            "35/35 [==============================] - 0s 1ms/step - loss: 0.5566 - accuracy: 0.6607 - val_loss: 0.5025 - val_accuracy: 0.7746\n",
            "Epoch 4/50\n",
            "35/35 [==============================] - 0s 1ms/step - loss: 0.5379 - accuracy: 0.7893 - val_loss: 0.4644 - val_accuracy: 0.8310\n",
            "Epoch 5/50\n",
            "35/35 [==============================] - 0s 1ms/step - loss: 0.4411 - accuracy: 0.8464 - val_loss: 0.4279 - val_accuracy: 0.8592\n",
            "Epoch 6/50\n",
            "35/35 [==============================] - 0s 1ms/step - loss: 0.3981 - accuracy: 0.8679 - val_loss: 0.3979 - val_accuracy: 0.8732\n",
            "Epoch 7/50\n",
            "35/35 [==============================] - 0s 1ms/step - loss: 0.3446 - accuracy: 0.8893 - val_loss: 0.3738 - val_accuracy: 0.8873\n",
            "Epoch 8/50\n",
            "35/35 [==============================] - 0s 957us/step - loss: 0.2934 - accuracy: 0.9071 - val_loss: 0.3653 - val_accuracy: 0.8873\n",
            "Epoch 9/50\n",
            "35/35 [==============================] - 0s 1ms/step - loss: 0.2913 - accuracy: 0.9036 - val_loss: 0.3579 - val_accuracy: 0.8732\n",
            "Epoch 10/50\n",
            "35/35 [==============================] - 0s 961us/step - loss: 0.2543 - accuracy: 0.9179 - val_loss: 0.3453 - val_accuracy: 0.8873\n",
            "Epoch 11/50\n",
            "35/35 [==============================] - 0s 1ms/step - loss: 0.2088 - accuracy: 0.9429 - val_loss: 0.3395 - val_accuracy: 0.8873\n",
            "Epoch 12/50\n",
            "35/35 [==============================] - 0s 1ms/step - loss: 0.2362 - accuracy: 0.9071 - val_loss: 0.3460 - val_accuracy: 0.8873\n",
            "Epoch 13/50\n",
            "35/35 [==============================] - 0s 1ms/step - loss: 0.2028 - accuracy: 0.9500 - val_loss: 0.3432 - val_accuracy: 0.8873\n",
            "Epoch 14/50\n",
            "35/35 [==============================] - 0s 1ms/step - loss: 0.2226 - accuracy: 0.9179 - val_loss: 0.3250 - val_accuracy: 0.8873\n",
            "Epoch 15/50\n",
            "35/35 [==============================] - 0s 948us/step - loss: 0.2014 - accuracy: 0.9250 - val_loss: 0.3353 - val_accuracy: 0.8873\n",
            "Epoch 16/50\n",
            "35/35 [==============================] - 0s 966us/step - loss: 0.1996 - accuracy: 0.9321 - val_loss: 0.3303 - val_accuracy: 0.8873\n",
            "Epoch 17/50\n",
            "35/35 [==============================] - 0s 1ms/step - loss: 0.1960 - accuracy: 0.9464 - val_loss: 0.3146 - val_accuracy: 0.8873\n",
            "Epoch 18/50\n",
            "35/35 [==============================] - 0s 938us/step - loss: 0.1966 - accuracy: 0.9464 - val_loss: 0.3038 - val_accuracy: 0.8873\n",
            "Epoch 19/50\n",
            "35/35 [==============================] - 0s 943us/step - loss: 0.1871 - accuracy: 0.9429 - val_loss: 0.3443 - val_accuracy: 0.8873\n",
            "Epoch 20/50\n",
            "35/35 [==============================] - 0s 999us/step - loss: 0.1718 - accuracy: 0.9500 - val_loss: 0.2986 - val_accuracy: 0.8873\n",
            "Epoch 21/50\n",
            "35/35 [==============================] - 0s 1ms/step - loss: 0.1815 - accuracy: 0.9429 - val_loss: 0.3013 - val_accuracy: 0.8873\n",
            "Epoch 22/50\n",
            "35/35 [==============================] - 0s 979us/step - loss: 0.1626 - accuracy: 0.9607 - val_loss: 0.3018 - val_accuracy: 0.8873\n",
            "Epoch 23/50\n",
            "35/35 [==============================] - 0s 993us/step - loss: 0.1361 - accuracy: 0.9607 - val_loss: 0.3177 - val_accuracy: 0.8873\n",
            "Epoch 24/50\n",
            "35/35 [==============================] - 0s 1ms/step - loss: 0.1529 - accuracy: 0.9500 - val_loss: 0.3054 - val_accuracy: 0.8873\n",
            "Epoch 25/50\n",
            "35/35 [==============================] - 0s 1ms/step - loss: 0.1648 - accuracy: 0.9393 - val_loss: 0.3126 - val_accuracy: 0.8873\n",
            "Epoch 26/50\n",
            "35/35 [==============================] - 0s 1ms/step - loss: 0.1669 - accuracy: 0.9536 - val_loss: 0.2859 - val_accuracy: 0.8873\n",
            "Epoch 27/50\n",
            "35/35 [==============================] - 0s 989us/step - loss: 0.1634 - accuracy: 0.9464 - val_loss: 0.3378 - val_accuracy: 0.8873\n",
            "Epoch 28/50\n",
            "35/35 [==============================] - 0s 1ms/step - loss: 0.1486 - accuracy: 0.9607 - val_loss: 0.2806 - val_accuracy: 0.9014\n",
            "Epoch 29/50\n",
            "35/35 [==============================] - 0s 976us/step - loss: 0.1462 - accuracy: 0.9500 - val_loss: 0.2954 - val_accuracy: 0.8873\n",
            "Epoch 30/50\n",
            "35/35 [==============================] - 0s 1ms/step - loss: 0.1365 - accuracy: 0.9571 - val_loss: 0.3107 - val_accuracy: 0.8873\n",
            "Epoch 31/50\n",
            "35/35 [==============================] - 0s 1ms/step - loss: 0.1634 - accuracy: 0.9464 - val_loss: 0.2818 - val_accuracy: 0.9014\n",
            "Epoch 32/50\n",
            "35/35 [==============================] - 0s 971us/step - loss: 0.1127 - accuracy: 0.9714 - val_loss: 0.2833 - val_accuracy: 0.9014\n",
            "Epoch 33/50\n",
            "35/35 [==============================] - 0s 993us/step - loss: 0.1273 - accuracy: 0.9571 - val_loss: 0.2620 - val_accuracy: 0.9014\n",
            "Epoch 34/50\n",
            "35/35 [==============================] - 0s 1ms/step - loss: 0.1126 - accuracy: 0.9571 - val_loss: 0.3550 - val_accuracy: 0.8873\n",
            "Epoch 35/50\n",
            "35/35 [==============================] - 0s 1ms/step - loss: 0.1423 - accuracy: 0.9607 - val_loss: 0.2712 - val_accuracy: 0.9014\n",
            "Epoch 36/50\n",
            "35/35 [==============================] - 0s 1ms/step - loss: 0.1276 - accuracy: 0.9679 - val_loss: 0.3099 - val_accuracy: 0.8873\n",
            "Epoch 37/50\n",
            "35/35 [==============================] - 0s 987us/step - loss: 0.1431 - accuracy: 0.9464 - val_loss: 0.2755 - val_accuracy: 0.9014\n",
            "Epoch 38/50\n",
            "35/35 [==============================] - 0s 982us/step - loss: 0.1138 - accuracy: 0.9607 - val_loss: 0.3023 - val_accuracy: 0.8873\n",
            "Epoch 39/50\n",
            "35/35 [==============================] - 0s 1ms/step - loss: 0.1175 - accuracy: 0.9714 - val_loss: 0.2650 - val_accuracy: 0.9014\n",
            "Epoch 40/50\n",
            "35/35 [==============================] - 0s 950us/step - loss: 0.1115 - accuracy: 0.9607 - val_loss: 0.2785 - val_accuracy: 0.8873\n",
            "Epoch 41/50\n",
            "35/35 [==============================] - 0s 984us/step - loss: 0.1261 - accuracy: 0.9536 - val_loss: 0.2642 - val_accuracy: 0.8873\n",
            "Epoch 42/50\n",
            "35/35 [==============================] - 0s 1ms/step - loss: 0.0985 - accuracy: 0.9679 - val_loss: 0.2674 - val_accuracy: 0.9014\n",
            "Epoch 43/50\n",
            "35/35 [==============================] - 0s 964us/step - loss: 0.1040 - accuracy: 0.9643 - val_loss: 0.2789 - val_accuracy: 0.8732\n",
            "Epoch 44/50\n",
            "35/35 [==============================] - 0s 962us/step - loss: 0.1342 - accuracy: 0.9571 - val_loss: 0.2609 - val_accuracy: 0.8873\n",
            "Epoch 45/50\n",
            "35/35 [==============================] - 0s 944us/step - loss: 0.1107 - accuracy: 0.9714 - val_loss: 0.2759 - val_accuracy: 0.8873\n",
            "Epoch 46/50\n",
            "35/35 [==============================] - 0s 1ms/step - loss: 0.1070 - accuracy: 0.9607 - val_loss: 0.2602 - val_accuracy: 0.8873\n",
            "Epoch 47/50\n",
            "35/35 [==============================] - 0s 989us/step - loss: 0.1097 - accuracy: 0.9714 - val_loss: 0.2512 - val_accuracy: 0.9014\n",
            "Epoch 48/50\n",
            "35/35 [==============================] - 0s 972us/step - loss: 0.0954 - accuracy: 0.9607 - val_loss: 0.3208 - val_accuracy: 0.9014\n",
            "Epoch 49/50\n",
            "35/35 [==============================] - 0s 1ms/step - loss: 0.1077 - accuracy: 0.9679 - val_loss: 0.2654 - val_accuracy: 0.8732\n",
            "Epoch 50/50\n",
            "35/35 [==============================] - 0s 1ms/step - loss: 0.0957 - accuracy: 0.9786 - val_loss: 0.2754 - val_accuracy: 0.8873\n"
          ],
          "name": "stdout"
        }
      ]
    },
    {
      "cell_type": "code",
      "metadata": {
        "id": "nLItEBcZ6H3Q",
        "outputId": "51c04d25-5049-4b38-c06b-fc9f7ddf1e85",
        "colab": {
          "base_uri": "https://localhost:8080/",
          "height": 364
        }
      },
      "source": [
        "plot_loss_new(history)"
      ],
      "execution_count": 67,
      "outputs": [
        {
          "output_type": "display_data",
          "data": {
            "image/png": "[encoded data removed]",
            "text/plain": [
              "<Figure size 432x288 with 1 Axes>"
            ]
          },
          "metadata": {
            "tags": [],
            "needs_background": "light"
          }
        },
        {
          "output_type": "stream",
          "text": [
            "Minimum Loss             : 47    0.095424\n",
            "Name: loss, dtype: float64\n",
            "\n",
            "Minimum Validation Loss  : 46    0.251216\n",
            "Name: val_loss, dtype: float64\n"
          ],
          "name": "stdout"
        }
      ]
    },
    {
      "cell_type": "markdown",
      "metadata": {
        "id": "VWUScEKq97Zx"
      },
      "source": [
        "**Kita ingin mencari loss yang terendah, loss ini terhadap val_lossnya**\n",
        "\n",
        "Berdasarkan grafik epoch terhadap loss pada model CNN diatas, terlihat bahwa garis lossnya terus menurun dengan 50 epoch, begitupula dengan grafik val_loss yang terus menurun walaupun sempat mengalami peningkatan. Nilai val_loss terendah diperoleh saat epochnya sekitar 46, dimana diperoleh val_loss: 0.251216 dan val_accuracy: 0.9014"
      ]
    },
    {
      "cell_type": "markdown",
      "metadata": {
        "id": "Ej5vkQvf66xX"
      },
      "source": [
        "**Deeper Model**"
      ]
    },
    {
      "cell_type": "code",
      "metadata": {
        "id": "gQS3Lzr86JUs"
      },
      "source": [
        "model = Sequential()\n",
        "model.add(Dense(34, input_dim=34 , activation= 'relu', kernel_initializer='normal' )) # Activation relu dipakai, ini salah satu function yang paling banyak dipakai, 34 neuron karena ada 34 feature\n",
        "model.add(Dropout(0.5)) #mengurangi overfit\n",
        "model.add(Dense(15, activation= 'relu', kernel_initializer='normal' )) \n",
        "model.add(Dropout(0.5))\n",
        "model.add(Dense(1,  activation= 'sigmoid', kernel_initializer='normal')) # Activation sigmoid dipakai untuk binary classification"
      ],
      "execution_count": 72,
      "outputs": []
    },
    {
      "cell_type": "code",
      "metadata": {
        "id": "rJl_cEz47GP9"
      },
      "source": [
        "from tensorflow.keras.optimizers import SGD, Adam, RMSprop\n",
        "\n",
        "opt = SGD(learning_rate=0.01, momentum=0.9, nesterov=False) #optimizer sgd untuk mencari minima dari grafik fungsi loss\n",
        "\n",
        "model.compile(loss= 'binary_crossentropy' , optimizer=opt, metrics=['accuracy'])"
      ],
      "execution_count": 73,
      "outputs": []
    },
    {
      "cell_type": "code",
      "metadata": {
        "id": "gs62QjDN7Adu",
        "outputId": "5310cf3b-362b-46ce-8d61-a5a4facde273",
        "colab": {
          "base_uri": "https://localhost:8080/",
          "height": 1000
        }
      },
      "source": [
        "history_deep = model.fit(x=X_train, y=y_train, validation_data=(X_test, y_test), epochs=50, batch_size=8)"
      ],
      "execution_count": 74,
      "outputs": [
        {
          "output_type": "stream",
          "text": [
            "Epoch 1/50\n",
            "35/35 [==============================] - 0s 4ms/step - loss: 0.6799 - accuracy: 0.6179 - val_loss: 0.6501 - val_accuracy: 0.6761\n",
            "Epoch 2/50\n",
            "35/35 [==============================] - 0s 1ms/step - loss: 0.6585 - accuracy: 0.6321 - val_loss: 0.6352 - val_accuracy: 0.6761\n",
            "Epoch 3/50\n",
            "35/35 [==============================] - 0s 1ms/step - loss: 0.6545 - accuracy: 0.6321 - val_loss: 0.6280 - val_accuracy: 0.6761\n",
            "Epoch 4/50\n",
            "35/35 [==============================] - 0s 1ms/step - loss: 0.6530 - accuracy: 0.6321 - val_loss: 0.6224 - val_accuracy: 0.6761\n",
            "Epoch 5/50\n",
            "35/35 [==============================] - 0s 1ms/step - loss: 0.6466 - accuracy: 0.6321 - val_loss: 0.6126 - val_accuracy: 0.6761\n",
            "Epoch 6/50\n",
            "35/35 [==============================] - 0s 1ms/step - loss: 0.6322 - accuracy: 0.6321 - val_loss: 0.5912 - val_accuracy: 0.6761\n",
            "Epoch 7/50\n",
            "35/35 [==============================] - 0s 1ms/step - loss: 0.6162 - accuracy: 0.6321 - val_loss: 0.5625 - val_accuracy: 0.6761\n",
            "Epoch 8/50\n",
            "35/35 [==============================] - 0s 1ms/step - loss: 0.5647 - accuracy: 0.6679 - val_loss: 0.5076 - val_accuracy: 0.7183\n",
            "Epoch 9/50\n",
            "35/35 [==============================] - 0s 1ms/step - loss: 0.5263 - accuracy: 0.7679 - val_loss: 0.4787 - val_accuracy: 0.8732\n",
            "Epoch 10/50\n",
            "35/35 [==============================] - 0s 989us/step - loss: 0.4941 - accuracy: 0.7643 - val_loss: 0.4202 - val_accuracy: 0.8732\n",
            "Epoch 11/50\n",
            "35/35 [==============================] - 0s 1ms/step - loss: 0.4381 - accuracy: 0.7964 - val_loss: 0.3821 - val_accuracy: 0.8732\n",
            "Epoch 12/50\n",
            "35/35 [==============================] - 0s 1ms/step - loss: 0.4002 - accuracy: 0.8893 - val_loss: 0.3553 - val_accuracy: 0.9014\n",
            "Epoch 13/50\n",
            "35/35 [==============================] - 0s 1ms/step - loss: 0.3871 - accuracy: 0.8679 - val_loss: 0.3426 - val_accuracy: 0.8873\n",
            "Epoch 14/50\n",
            "35/35 [==============================] - 0s 1ms/step - loss: 0.3462 - accuracy: 0.8857 - val_loss: 0.3738 - val_accuracy: 0.8732\n",
            "Epoch 15/50\n",
            "35/35 [==============================] - 0s 1ms/step - loss: 0.3025 - accuracy: 0.9179 - val_loss: 0.3019 - val_accuracy: 0.8873\n",
            "Epoch 16/50\n",
            "35/35 [==============================] - 0s 1ms/step - loss: 0.2907 - accuracy: 0.9071 - val_loss: 0.2913 - val_accuracy: 0.8873\n",
            "Epoch 17/50\n",
            "35/35 [==============================] - 0s 1ms/step - loss: 0.2588 - accuracy: 0.9250 - val_loss: 0.2695 - val_accuracy: 0.9155\n",
            "Epoch 18/50\n",
            "35/35 [==============================] - 0s 1ms/step - loss: 0.2859 - accuracy: 0.8964 - val_loss: 0.2707 - val_accuracy: 0.9014\n",
            "Epoch 19/50\n",
            "35/35 [==============================] - 0s 1ms/step - loss: 0.2817 - accuracy: 0.9214 - val_loss: 0.3145 - val_accuracy: 0.8732\n",
            "Epoch 20/50\n",
            "35/35 [==============================] - 0s 1ms/step - loss: 0.2920 - accuracy: 0.9071 - val_loss: 0.3254 - val_accuracy: 0.8732\n",
            "Epoch 21/50\n",
            "35/35 [==============================] - 0s 1ms/step - loss: 0.2105 - accuracy: 0.9357 - val_loss: 0.2810 - val_accuracy: 0.8873\n",
            "Epoch 22/50\n",
            "35/35 [==============================] - 0s 1ms/step - loss: 0.2155 - accuracy: 0.9179 - val_loss: 0.3059 - val_accuracy: 0.9014\n",
            "Epoch 23/50\n",
            "35/35 [==============================] - 0s 1ms/step - loss: 0.1972 - accuracy: 0.9393 - val_loss: 0.2817 - val_accuracy: 0.8873\n",
            "Epoch 24/50\n",
            "35/35 [==============================] - 0s 1ms/step - loss: 0.2088 - accuracy: 0.9393 - val_loss: 0.3101 - val_accuracy: 0.8592\n",
            "Epoch 25/50\n",
            "35/35 [==============================] - 0s 1ms/step - loss: 0.1840 - accuracy: 0.9500 - val_loss: 0.2339 - val_accuracy: 0.8873\n",
            "Epoch 26/50\n",
            "35/35 [==============================] - 0s 1ms/step - loss: 0.1627 - accuracy: 0.9429 - val_loss: 0.3052 - val_accuracy: 0.8873\n",
            "Epoch 27/50\n",
            "35/35 [==============================] - 0s 1ms/step - loss: 0.1791 - accuracy: 0.9393 - val_loss: 0.2443 - val_accuracy: 0.9014\n",
            "Epoch 28/50\n",
            "35/35 [==============================] - 0s 1ms/step - loss: 0.1812 - accuracy: 0.9250 - val_loss: 0.4056 - val_accuracy: 0.8592\n",
            "Epoch 29/50\n",
            "35/35 [==============================] - 0s 1ms/step - loss: 0.1845 - accuracy: 0.9464 - val_loss: 0.2878 - val_accuracy: 0.8873\n",
            "Epoch 30/50\n",
            "35/35 [==============================] - 0s 1ms/step - loss: 0.1903 - accuracy: 0.9571 - val_loss: 0.1948 - val_accuracy: 0.9296\n",
            "Epoch 31/50\n",
            "35/35 [==============================] - 0s 1ms/step - loss: 0.1668 - accuracy: 0.9536 - val_loss: 0.2312 - val_accuracy: 0.8873\n",
            "Epoch 32/50\n",
            "35/35 [==============================] - 0s 1ms/step - loss: 0.1855 - accuracy: 0.9429 - val_loss: 0.1939 - val_accuracy: 0.9155\n",
            "Epoch 33/50\n",
            "35/35 [==============================] - 0s 1ms/step - loss: 0.1744 - accuracy: 0.9500 - val_loss: 0.1995 - val_accuracy: 0.9155\n",
            "Epoch 34/50\n",
            "35/35 [==============================] - 0s 1ms/step - loss: 0.1245 - accuracy: 0.9679 - val_loss: 0.1970 - val_accuracy: 0.9155\n",
            "Epoch 35/50\n",
            "35/35 [==============================] - 0s 1ms/step - loss: 0.1701 - accuracy: 0.9321 - val_loss: 0.2027 - val_accuracy: 0.9014\n",
            "Epoch 36/50\n",
            "35/35 [==============================] - 0s 1ms/step - loss: 0.1165 - accuracy: 0.9571 - val_loss: 0.1808 - val_accuracy: 0.9155\n",
            "Epoch 37/50\n",
            "35/35 [==============================] - 0s 1ms/step - loss: 0.1370 - accuracy: 0.9607 - val_loss: 0.2309 - val_accuracy: 0.8873\n",
            "Epoch 38/50\n",
            "35/35 [==============================] - 0s 1ms/step - loss: 0.1278 - accuracy: 0.9750 - val_loss: 0.1705 - val_accuracy: 0.8873\n",
            "Epoch 39/50\n",
            "35/35 [==============================] - 0s 1ms/step - loss: 0.1358 - accuracy: 0.9643 - val_loss: 0.2415 - val_accuracy: 0.8873\n",
            "Epoch 40/50\n",
            "35/35 [==============================] - 0s 1ms/step - loss: 0.1242 - accuracy: 0.9571 - val_loss: 0.2811 - val_accuracy: 0.8873\n",
            "Epoch 41/50\n",
            "35/35 [==============================] - 0s 1ms/step - loss: 0.1738 - accuracy: 0.9500 - val_loss: 0.2456 - val_accuracy: 0.8873\n",
            "Epoch 42/50\n",
            "35/35 [==============================] - 0s 1ms/step - loss: 0.1520 - accuracy: 0.9464 - val_loss: 0.2747 - val_accuracy: 0.9014\n",
            "Epoch 43/50\n",
            "35/35 [==============================] - 0s 1ms/step - loss: 0.1458 - accuracy: 0.9643 - val_loss: 0.2159 - val_accuracy: 0.9577\n",
            "Epoch 44/50\n",
            "35/35 [==============================] - 0s 1ms/step - loss: 0.1327 - accuracy: 0.9500 - val_loss: 0.2698 - val_accuracy: 0.9014\n",
            "Epoch 45/50\n",
            "35/35 [==============================] - 0s 1ms/step - loss: 0.1403 - accuracy: 0.9679 - val_loss: 0.1985 - val_accuracy: 0.9155\n",
            "Epoch 46/50\n",
            "35/35 [==============================] - 0s 1ms/step - loss: 0.1182 - accuracy: 0.9607 - val_loss: 0.2100 - val_accuracy: 0.8732\n",
            "Epoch 47/50\n",
            "35/35 [==============================] - 0s 1ms/step - loss: 0.1233 - accuracy: 0.9643 - val_loss: 0.2078 - val_accuracy: 0.8873\n",
            "Epoch 48/50\n",
            "35/35 [==============================] - 0s 1ms/step - loss: 0.1089 - accuracy: 0.9643 - val_loss: 0.1954 - val_accuracy: 0.9014\n",
            "Epoch 49/50\n",
            "35/35 [==============================] - 0s 1ms/step - loss: 0.1162 - accuracy: 0.9571 - val_loss: 0.2208 - val_accuracy: 0.9155\n",
            "Epoch 50/50\n",
            "35/35 [==============================] - 0s 1ms/step - loss: 0.1340 - accuracy: 0.9643 - val_loss: 0.2319 - val_accuracy: 0.9014\n"
          ],
          "name": "stdout"
        }
      ]
    },
    {
      "cell_type": "code",
      "metadata": {
        "id": "sOwN__1y7D1z",
        "outputId": "72974fa8-8448-4da6-e2ac-c054b3269d08",
        "colab": {
          "base_uri": "https://localhost:8080/",
          "height": 365
        }
      },
      "source": [
        "plot_loss_new(history_deep)"
      ],
      "execution_count": 75,
      "outputs": [
        {
          "output_type": "display_data",
          "data": {
            "image/png": "[encoded data removed]",
            "text/plain": [
              "<Figure size 432x288 with 1 Axes>"
            ]
          },
          "metadata": {
            "tags": [],
            "needs_background": "light"
          }
        },
        {
          "output_type": "stream",
          "text": [
            "Minimum Loss             : 47    0.108911\n",
            "Name: loss, dtype: float64\n",
            "\n",
            "Minimum Validation Loss  : 37    0.170503\n",
            "Name: val_loss, dtype: float64\n"
          ],
          "name": "stdout"
        }
      ]
    },
    {
      "cell_type": "markdown",
      "metadata": {
        "id": "arcX_ZQg9v9Y"
      },
      "source": [
        "**Kita ingin mencari loss yang terendah, loss ini terhadap val_lossnya**\n",
        "\n",
        "Berdasarkan grafik epoch terhadap loss pada model CNN diatas, terlihat bahwa garis lossnya terus menurun dengan 50 epoch, begitupula dengan grafik val_loss yang terus menurun walaupun masih mengalami peningkatan. Nilai val_loss terendah diperoleh saat epochnya sekitar 37, dimana diperoleh val_loss: 0.170503 dan val_accuracy: 0.8873"
      ]
    },
    {
      "cell_type": "markdown",
      "metadata": {
        "id": "vxroqgnC7jZF"
      },
      "source": [
        "**Wider Model**"
      ]
    },
    {
      "cell_type": "code",
      "metadata": {
        "id": "kYO4PDF27PkL"
      },
      "source": [
        "wide = Sequential()\n",
        "wide.add(Dense(45, input_dim=34 , activation= 'relu', kernel_initializer='normal' ))\n",
        "wide.add(Dropout(0.5))\n",
        "wide.add(Dense(1,  activation= 'sigmoid', kernel_initializer='normal'))"
      ],
      "execution_count": 76,
      "outputs": []
    },
    {
      "cell_type": "code",
      "metadata": {
        "id": "u1KMWeHK7XD0"
      },
      "source": [
        "from tensorflow.keras.optimizers import SGD, Adam, RMSprop\n",
        "\n",
        "opt = SGD(learning_rate=0.01, momentum=0.9, nesterov=False)\n",
        "\n",
        "wide.compile(loss= 'binary_crossentropy' , optimizer=opt, metrics=['accuracy'])"
      ],
      "execution_count": 77,
      "outputs": []
    },
    {
      "cell_type": "code",
      "metadata": {
        "id": "tWHHP6pm7Zi5",
        "outputId": "99edd4ae-e4e6-41b5-93c1-09394ac0d0da",
        "colab": {
          "base_uri": "https://localhost:8080/",
          "height": 1000
        }
      },
      "source": [
        "history_wide = wide.fit(x=X_train, y=y_train, validation_data=(X_test, y_test), epochs=50, batch_size=8)"
      ],
      "execution_count": 78,
      "outputs": [
        {
          "output_type": "stream",
          "text": [
            "Epoch 1/50\n",
            "35/35 [==============================] - 0s 4ms/step - loss: 0.6673 - accuracy: 0.5893 - val_loss: 0.6047 - val_accuracy: 0.6761\n",
            "Epoch 2/50\n",
            "35/35 [==============================] - 0s 1ms/step - loss: 0.6239 - accuracy: 0.6429 - val_loss: 0.5536 - val_accuracy: 0.6761\n",
            "Epoch 3/50\n",
            "35/35 [==============================] - 0s 1ms/step - loss: 0.5661 - accuracy: 0.6893 - val_loss: 0.5138 - val_accuracy: 0.7746\n",
            "Epoch 4/50\n",
            "35/35 [==============================] - 0s 1ms/step - loss: 0.4843 - accuracy: 0.7964 - val_loss: 0.4578 - val_accuracy: 0.8451\n",
            "Epoch 5/50\n",
            "35/35 [==============================] - 0s 1ms/step - loss: 0.4350 - accuracy: 0.8607 - val_loss: 0.4123 - val_accuracy: 0.8873\n",
            "Epoch 6/50\n",
            "35/35 [==============================] - 0s 1ms/step - loss: 0.3730 - accuracy: 0.8964 - val_loss: 0.3807 - val_accuracy: 0.8732\n",
            "Epoch 7/50\n",
            "35/35 [==============================] - 0s 1ms/step - loss: 0.3381 - accuracy: 0.9000 - val_loss: 0.3687 - val_accuracy: 0.8732\n",
            "Epoch 8/50\n",
            "35/35 [==============================] - 0s 999us/step - loss: 0.2971 - accuracy: 0.9321 - val_loss: 0.3306 - val_accuracy: 0.8873\n",
            "Epoch 9/50\n",
            "35/35 [==============================] - 0s 1ms/step - loss: 0.2803 - accuracy: 0.9071 - val_loss: 0.3167 - val_accuracy: 0.8873\n",
            "Epoch 10/50\n",
            "35/35 [==============================] - 0s 1ms/step - loss: 0.2350 - accuracy: 0.9393 - val_loss: 0.3124 - val_accuracy: 0.8873\n",
            "Epoch 11/50\n",
            "35/35 [==============================] - 0s 1ms/step - loss: 0.2458 - accuracy: 0.9179 - val_loss: 0.3179 - val_accuracy: 0.8873\n",
            "Epoch 12/50\n",
            "35/35 [==============================] - 0s 1ms/step - loss: 0.2201 - accuracy: 0.9214 - val_loss: 0.3056 - val_accuracy: 0.8873\n",
            "Epoch 13/50\n",
            "35/35 [==============================] - 0s 1ms/step - loss: 0.1980 - accuracy: 0.9429 - val_loss: 0.2984 - val_accuracy: 0.8873\n",
            "Epoch 14/50\n",
            "35/35 [==============================] - 0s 1ms/step - loss: 0.2036 - accuracy: 0.9464 - val_loss: 0.2917 - val_accuracy: 0.8873\n",
            "Epoch 15/50\n",
            "35/35 [==============================] - 0s 1ms/step - loss: 0.1852 - accuracy: 0.9571 - val_loss: 0.3274 - val_accuracy: 0.8873\n",
            "Epoch 16/50\n",
            "35/35 [==============================] - 0s 998us/step - loss: 0.1766 - accuracy: 0.9464 - val_loss: 0.2812 - val_accuracy: 0.8873\n",
            "Epoch 17/50\n",
            "35/35 [==============================] - 0s 1ms/step - loss: 0.1713 - accuracy: 0.9536 - val_loss: 0.2675 - val_accuracy: 0.8873\n",
            "Epoch 18/50\n",
            "35/35 [==============================] - 0s 1ms/step - loss: 0.1906 - accuracy: 0.9429 - val_loss: 0.2631 - val_accuracy: 0.8873\n",
            "Epoch 19/50\n",
            "35/35 [==============================] - 0s 1ms/step - loss: 0.1647 - accuracy: 0.9607 - val_loss: 0.2605 - val_accuracy: 0.8732\n",
            "Epoch 20/50\n",
            "35/35 [==============================] - 0s 1ms/step - loss: 0.1654 - accuracy: 0.9357 - val_loss: 0.2605 - val_accuracy: 0.8873\n",
            "Epoch 21/50\n",
            "35/35 [==============================] - 0s 1ms/step - loss: 0.1484 - accuracy: 0.9500 - val_loss: 0.3004 - val_accuracy: 0.8873\n",
            "Epoch 22/50\n",
            "35/35 [==============================] - 0s 1ms/step - loss: 0.1425 - accuracy: 0.9571 - val_loss: 0.2819 - val_accuracy: 0.8873\n",
            "Epoch 23/50\n",
            "35/35 [==============================] - 0s 1ms/step - loss: 0.1487 - accuracy: 0.9571 - val_loss: 0.2684 - val_accuracy: 0.8873\n",
            "Epoch 24/50\n",
            "35/35 [==============================] - 0s 1ms/step - loss: 0.1347 - accuracy: 0.9536 - val_loss: 0.2546 - val_accuracy: 0.8873\n",
            "Epoch 25/50\n",
            "35/35 [==============================] - 0s 1ms/step - loss: 0.1500 - accuracy: 0.9536 - val_loss: 0.2603 - val_accuracy: 0.8873\n",
            "Epoch 26/50\n",
            "35/35 [==============================] - 0s 1ms/step - loss: 0.1349 - accuracy: 0.9643 - val_loss: 0.2294 - val_accuracy: 0.8732\n",
            "Epoch 27/50\n",
            "35/35 [==============================] - 0s 1ms/step - loss: 0.1265 - accuracy: 0.9607 - val_loss: 0.2528 - val_accuracy: 0.8873\n",
            "Epoch 28/50\n",
            "35/35 [==============================] - 0s 1ms/step - loss: 0.1450 - accuracy: 0.9571 - val_loss: 0.2504 - val_accuracy: 0.8732\n",
            "Epoch 29/50\n",
            "35/35 [==============================] - 0s 1ms/step - loss: 0.1182 - accuracy: 0.9607 - val_loss: 0.2498 - val_accuracy: 0.8732\n",
            "Epoch 30/50\n",
            "35/35 [==============================] - 0s 962us/step - loss: 0.1225 - accuracy: 0.9643 - val_loss: 0.2643 - val_accuracy: 0.8732\n",
            "Epoch 31/50\n",
            "35/35 [==============================] - 0s 1ms/step - loss: 0.1085 - accuracy: 0.9679 - val_loss: 0.2547 - val_accuracy: 0.8732\n",
            "Epoch 32/50\n",
            "35/35 [==============================] - 0s 1ms/step - loss: 0.1153 - accuracy: 0.9714 - val_loss: 0.2451 - val_accuracy: 0.8732\n",
            "Epoch 33/50\n",
            "35/35 [==============================] - 0s 1ms/step - loss: 0.1351 - accuracy: 0.9500 - val_loss: 0.2619 - val_accuracy: 0.8732\n",
            "Epoch 34/50\n",
            "35/35 [==============================] - 0s 1ms/step - loss: 0.1183 - accuracy: 0.9571 - val_loss: 0.2559 - val_accuracy: 0.8873\n",
            "Epoch 35/50\n",
            "35/35 [==============================] - 0s 969us/step - loss: 0.1169 - accuracy: 0.9643 - val_loss: 0.2750 - val_accuracy: 0.8873\n",
            "Epoch 36/50\n",
            "35/35 [==============================] - 0s 988us/step - loss: 0.1216 - accuracy: 0.9607 - val_loss: 0.2453 - val_accuracy: 0.8873\n",
            "Epoch 37/50\n",
            "35/35 [==============================] - 0s 1ms/step - loss: 0.1045 - accuracy: 0.9714 - val_loss: 0.2461 - val_accuracy: 0.9014\n",
            "Epoch 38/50\n",
            "35/35 [==============================] - 0s 1ms/step - loss: 0.0946 - accuracy: 0.9679 - val_loss: 0.2724 - val_accuracy: 0.8873\n",
            "Epoch 39/50\n",
            "35/35 [==============================] - 0s 1ms/step - loss: 0.1124 - accuracy: 0.9679 - val_loss: 0.2721 - val_accuracy: 0.8873\n",
            "Epoch 40/50\n",
            "35/35 [==============================] - 0s 1ms/step - loss: 0.0963 - accuracy: 0.9821 - val_loss: 0.2870 - val_accuracy: 0.8732\n",
            "Epoch 41/50\n",
            "35/35 [==============================] - 0s 1ms/step - loss: 0.1070 - accuracy: 0.9714 - val_loss: 0.2274 - val_accuracy: 0.8873\n",
            "Epoch 42/50\n",
            "35/35 [==============================] - 0s 1ms/step - loss: 0.1057 - accuracy: 0.9679 - val_loss: 0.2553 - val_accuracy: 0.8873\n",
            "Epoch 43/50\n",
            "35/35 [==============================] - 0s 1ms/step - loss: 0.0942 - accuracy: 0.9679 - val_loss: 0.2630 - val_accuracy: 0.8873\n",
            "Epoch 44/50\n",
            "35/35 [==============================] - 0s 1ms/step - loss: 0.0947 - accuracy: 0.9750 - val_loss: 0.2634 - val_accuracy: 0.8873\n",
            "Epoch 45/50\n",
            "35/35 [==============================] - 0s 1ms/step - loss: 0.0956 - accuracy: 0.9714 - val_loss: 0.2443 - val_accuracy: 0.8873\n",
            "Epoch 46/50\n",
            "35/35 [==============================] - 0s 1ms/step - loss: 0.0902 - accuracy: 0.9821 - val_loss: 0.2521 - val_accuracy: 0.8873\n",
            "Epoch 47/50\n",
            "35/35 [==============================] - 0s 1ms/step - loss: 0.0942 - accuracy: 0.9679 - val_loss: 0.2634 - val_accuracy: 0.8873\n",
            "Epoch 48/50\n",
            "35/35 [==============================] - 0s 1ms/step - loss: 0.0932 - accuracy: 0.9714 - val_loss: 0.2290 - val_accuracy: 0.9014\n",
            "Epoch 49/50\n",
            "35/35 [==============================] - 0s 989us/step - loss: 0.0807 - accuracy: 0.9750 - val_loss: 0.2636 - val_accuracy: 0.8873\n",
            "Epoch 50/50\n",
            "35/35 [==============================] - 0s 1ms/step - loss: 0.0825 - accuracy: 0.9786 - val_loss: 0.2265 - val_accuracy: 0.8873\n"
          ],
          "name": "stdout"
        }
      ]
    },
    {
      "cell_type": "code",
      "metadata": {
        "id": "SO1JDfE47chd",
        "outputId": "6eb13deb-a0a9-4a78-9575-3dafa2316204",
        "colab": {
          "base_uri": "https://localhost:8080/",
          "height": 364
        }
      },
      "source": [
        "plot_loss_new(history_wide)"
      ],
      "execution_count": 79,
      "outputs": [
        {
          "output_type": "display_data",
          "data": {
            "image/png": "[encoded data removed]",
            "text/plain": [
              "<Figure size 432x288 with 1 Axes>"
            ]
          },
          "metadata": {
            "tags": [],
            "needs_background": "light"
          }
        },
        {
          "output_type": "stream",
          "text": [
            "Minimum Loss             : 48    0.080739\n",
            "Name: loss, dtype: float64\n",
            "\n",
            "Minimum Validation Loss  : 49    0.226475\n",
            "Name: val_loss, dtype: float64\n"
          ],
          "name": "stdout"
        }
      ]
    },
    {
      "cell_type": "markdown",
      "metadata": {
        "id": "VIxyoNFW9g4u"
      },
      "source": [
        "**Kita ingin mencari loss yang terendah, loss ini terhadap val_lossnya**\n",
        "\n",
        "Berdasarkan grafik epoch terhadap loss pada model CNN diatas, terlihat bahwa garis lossnya terus menurun dengan 50 epoch, begitupula dengan grafik val_loss yang terus menurun walaupun sempat mengalami peningkatan sedikit. Nilai val_loss terendah diperoleh saat epochnya sekitar 49, dimana diperoleh val_loss: 0.226475 dan val_accuracy: 0.8873"
      ]
    },
    {
      "cell_type": "markdown",
      "metadata": {
        "id": "DHc7EIsY-Gt0"
      },
      "source": [
        "Model terbaik adalah model deep learning dengan baseline layer dengan val_loss: 0.251216 dan val_accuracy: 0.9014"
      ]
    }
  ]
}