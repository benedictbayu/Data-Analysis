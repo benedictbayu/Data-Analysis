{
  "nbformat": 4,
  "nbformat_minor": 0,
  "metadata": {
    "colab": {
      "name": "Titanic dengan data preprocessing lain (Bonus).ipynb",
      "provenance": []
    },
    "kernelspec": {
      "name": "python3",
      "display_name": "Python 3"
    },
    "accelerator": "TPU"
  },
  "cells": [
    {
      "cell_type": "markdown",
      "metadata": {
        "id": "PRKDezHoCYeQ"
      },
      "source": [
        "**Benedictus Bayu Pramudhito**"
      ]
    },
    {
      "cell_type": "code",
      "metadata": {
        "id": "6A34gCdfmQfy",
        "outputId": "24011a5b-52c2-41ab-a526-f7c3d71720fb",
        "colab": {
          "base_uri": "https://localhost:8080/",
          "height": 34
        }
      },
      "source": [
        "from google.colab import drive\n",
        "drive.mount('/content/drive')"
      ],
      "execution_count": 1,
      "outputs": [
        {
          "output_type": "stream",
          "text": [
            "Drive already mounted at /content/drive; to attempt to forcibly remount, call drive.mount(\"/content/drive\", force_remount=True).\n"
          ],
          "name": "stdout"
        }
      ]
    },
    {
      "cell_type": "code",
      "metadata": {
        "id": "XqFw4fKp_CeM"
      },
      "source": [
        "import pandas as pd \n",
        "import numpy as np\n",
        "import matplotlib.pyplot as plt\n",
        "import seaborn as sns"
      ],
      "execution_count": 44,
      "outputs": []
    },
    {
      "cell_type": "code",
      "metadata": {
        "id": "0yaIlIZd_HuJ",
        "outputId": "9d282262-47f0-407d-9d5c-1aa5c64b7484",
        "colab": {
          "base_uri": "https://localhost:8080/",
          "height": 391
        }
      },
      "source": [
        "import os\n",
        "print('\\n'.join(os.listdir(r'./drive/My Drive')))"
      ],
      "execution_count": 45,
      "outputs": [
        {
          "output_type": "stream",
          "text": [
            "Getting started.pdf\n",
            "Tugas Akhir\n",
            "Banyuwangi-Bali \n",
            "CV Benedictus Bayu_(4) (1).pdf\n",
            "CV Benedictus Bayu_(4).pdf\n",
            "PT Transavia - Application Form (English) 2019.docx\n",
            "PT Transavia - Application Form (English) 2019.gdoc\n",
            "Video Telkom Marsya\n",
            "Video Telkom Bene\n",
            "Form Kandidat INDOCYBER (32).docx\n",
            "Form Kandidat INDOCYBER (32).gdoc\n",
            "Certificates\n",
            "Colab Test (Bootcamp ML 2020)\n",
            "Colab Notebooks\n",
            "cats-dogs.zip\n",
            "santa-dataset.zip\n",
            "Cermati\n",
            "titanic_train.csv\n",
            "titanic_eval.csv\n",
            "winequality-white.csv\n",
            "ionosphere_data_kaggle.csv\n",
            "ionosphere_data_kaggle (1).csv\n"
          ],
          "name": "stdout"
        }
      ]
    },
    {
      "cell_type": "code",
      "metadata": {
        "id": "OjZUTKb6-4Cr",
        "outputId": "25b49738-8b4c-47df-ee13-e413300deb11",
        "colab": {
          "base_uri": "https://localhost:8080/",
          "height": 204
        }
      },
      "source": [
        "train = pd.read_csv('./drive/My Drive/titanic_train.csv')\n",
        "test = pd.read_csv('./drive/My Drive/titanic_eval.csv')\n",
        "df = train.append(test, ignore_index=True)\n",
        "df.head()"
      ],
      "execution_count": 46,
      "outputs": [
        {
          "output_type": "execute_result",
          "data": {
            "text/html": [
              "<div>\n",
              "<style scoped>\n",
              "    .dataframe tbody tr th:only-of-type {\n",
              "        vertical-align: middle;\n",
              "    }\n",
              "\n",
              "    .dataframe tbody tr th {\n",
              "        vertical-align: top;\n",
              "    }\n",
              "\n",
              "    .dataframe thead th {\n",
              "        text-align: right;\n",
              "    }\n",
              "</style>\n",
              "<table border=\"1\" class=\"dataframe\">\n",
              "  <thead>\n",
              "    <tr style=\"text-align: right;\">\n",
              "      <th></th>\n",
              "      <th>survived</th>\n",
              "      <th>sex</th>\n",
              "      <th>age</th>\n",
              "      <th>n_siblings_spouses</th>\n",
              "      <th>parch</th>\n",
              "      <th>fare</th>\n",
              "      <th>class</th>\n",
              "      <th>deck</th>\n",
              "      <th>embark_town</th>\n",
              "      <th>alone</th>\n",
              "    </tr>\n",
              "  </thead>\n",
              "  <tbody>\n",
              "    <tr>\n",
              "      <th>0</th>\n",
              "      <td>0</td>\n",
              "      <td>male</td>\n",
              "      <td>22.0</td>\n",
              "      <td>1</td>\n",
              "      <td>0</td>\n",
              "      <td>7.2500</td>\n",
              "      <td>Third</td>\n",
              "      <td>unknown</td>\n",
              "      <td>Southampton</td>\n",
              "      <td>n</td>\n",
              "    </tr>\n",
              "    <tr>\n",
              "      <th>1</th>\n",
              "      <td>1</td>\n",
              "      <td>female</td>\n",
              "      <td>38.0</td>\n",
              "      <td>1</td>\n",
              "      <td>0</td>\n",
              "      <td>71.2833</td>\n",
              "      <td>First</td>\n",
              "      <td>C</td>\n",
              "      <td>Cherbourg</td>\n",
              "      <td>n</td>\n",
              "    </tr>\n",
              "    <tr>\n",
              "      <th>2</th>\n",
              "      <td>1</td>\n",
              "      <td>female</td>\n",
              "      <td>26.0</td>\n",
              "      <td>0</td>\n",
              "      <td>0</td>\n",
              "      <td>7.9250</td>\n",
              "      <td>Third</td>\n",
              "      <td>unknown</td>\n",
              "      <td>Southampton</td>\n",
              "      <td>y</td>\n",
              "    </tr>\n",
              "    <tr>\n",
              "      <th>3</th>\n",
              "      <td>1</td>\n",
              "      <td>female</td>\n",
              "      <td>35.0</td>\n",
              "      <td>1</td>\n",
              "      <td>0</td>\n",
              "      <td>53.1000</td>\n",
              "      <td>First</td>\n",
              "      <td>C</td>\n",
              "      <td>Southampton</td>\n",
              "      <td>n</td>\n",
              "    </tr>\n",
              "    <tr>\n",
              "      <th>4</th>\n",
              "      <td>0</td>\n",
              "      <td>male</td>\n",
              "      <td>28.0</td>\n",
              "      <td>0</td>\n",
              "      <td>0</td>\n",
              "      <td>8.4583</td>\n",
              "      <td>Third</td>\n",
              "      <td>unknown</td>\n",
              "      <td>Queenstown</td>\n",
              "      <td>y</td>\n",
              "    </tr>\n",
              "  </tbody>\n",
              "</table>\n",
              "</div>"
            ],
            "text/plain": [
              "   survived     sex   age  ...     deck  embark_town  alone\n",
              "0         0    male  22.0  ...  unknown  Southampton      n\n",
              "1         1  female  38.0  ...        C    Cherbourg      n\n",
              "2         1  female  26.0  ...  unknown  Southampton      y\n",
              "3         1  female  35.0  ...        C  Southampton      n\n",
              "4         0    male  28.0  ...  unknown   Queenstown      y\n",
              "\n",
              "[5 rows x 10 columns]"
            ]
          },
          "metadata": {
            "tags": []
          },
          "execution_count": 46
        }
      ]
    },
    {
      "cell_type": "code",
      "metadata": {
        "id": "I0DS3-Nf_Qj7",
        "outputId": "6810d8eb-d574-4c3f-84dd-dafb187f2011",
        "colab": {
          "base_uri": "https://localhost:8080/",
          "height": 34
        }
      },
      "source": [
        "print(train.shape, test.shape, df.shape)"
      ],
      "execution_count": 48,
      "outputs": [
        {
          "output_type": "stream",
          "text": [
            "(627, 10) (264, 10) (891, 10)\n"
          ],
          "name": "stdout"
        }
      ]
    },
    {
      "cell_type": "code",
      "metadata": {
        "id": "kon5N6s7EB3S"
      },
      "source": [
        "df.replace('unknown', np.nan, inplace=True)"
      ],
      "execution_count": 49,
      "outputs": []
    },
    {
      "cell_type": "code",
      "metadata": {
        "id": "2sg5Y011_qi7",
        "outputId": "833a646e-e277-4662-932d-dcab08cfa565",
        "colab": {
          "base_uri": "https://localhost:8080/",
          "height": 204
        }
      },
      "source": [
        "df.isnull().sum().sort_values()"
      ],
      "execution_count": 50,
      "outputs": [
        {
          "output_type": "execute_result",
          "data": {
            "text/plain": [
              "survived                0\n",
              "sex                     0\n",
              "age                     0\n",
              "n_siblings_spouses      0\n",
              "parch                   0\n",
              "fare                    0\n",
              "class                   0\n",
              "alone                   0\n",
              "embark_town             2\n",
              "deck                  688\n",
              "dtype: int64"
            ]
          },
          "metadata": {
            "tags": []
          },
          "execution_count": 50
        }
      ]
    },
    {
      "cell_type": "code",
      "metadata": {
        "id": "K1t_SPOyAHQn",
        "outputId": "564b9020-3d7a-413d-cc24-b6610bba07b7",
        "colab": {
          "base_uri": "https://localhost:8080/",
          "height": 68
        }
      },
      "source": [
        "df.columns"
      ],
      "execution_count": 51,
      "outputs": [
        {
          "output_type": "execute_result",
          "data": {
            "text/plain": [
              "Index(['survived', 'sex', 'age', 'n_siblings_spouses', 'parch', 'fare',\n",
              "       'class', 'deck', 'embark_town', 'alone'],\n",
              "      dtype='object')"
            ]
          },
          "metadata": {
            "tags": []
          },
          "execution_count": 51
        }
      ]
    },
    {
      "cell_type": "code",
      "metadata": {
        "id": "XmwIN2lPsZhv",
        "outputId": "1d5ef742-59b6-4b78-eff9-9d3d7dff7424",
        "colab": {
          "base_uri": "https://localhost:8080/",
          "height": 170
        }
      },
      "source": [
        "df['deck'].value_counts(dropna=False)"
      ],
      "execution_count": 52,
      "outputs": [
        {
          "output_type": "execute_result",
          "data": {
            "text/plain": [
              "NaN    688\n",
              "C       59\n",
              "B       47\n",
              "D       33\n",
              "E       32\n",
              "A       15\n",
              "F       13\n",
              "G        4\n",
              "Name: deck, dtype: int64"
            ]
          },
          "metadata": {
            "tags": []
          },
          "execution_count": 52
        }
      ]
    },
    {
      "cell_type": "code",
      "metadata": {
        "id": "ZvCMLOjMEQYE"
      },
      "source": [
        "df = df.drop(labels=['deck'], axis=1)"
      ],
      "execution_count": 53,
      "outputs": []
    },
    {
      "cell_type": "code",
      "metadata": {
        "id": "4pHLdSLltNAQ",
        "outputId": "609119ce-7cd9-41dc-bfa1-79639a8786e7",
        "colab": {
          "base_uri": "https://localhost:8080/",
          "height": 173
        }
      },
      "source": [
        "df.describe(include=['O'])"
      ],
      "execution_count": 54,
      "outputs": [
        {
          "output_type": "execute_result",
          "data": {
            "text/html": [
              "<div>\n",
              "<style scoped>\n",
              "    .dataframe tbody tr th:only-of-type {\n",
              "        vertical-align: middle;\n",
              "    }\n",
              "\n",
              "    .dataframe tbody tr th {\n",
              "        vertical-align: top;\n",
              "    }\n",
              "\n",
              "    .dataframe thead th {\n",
              "        text-align: right;\n",
              "    }\n",
              "</style>\n",
              "<table border=\"1\" class=\"dataframe\">\n",
              "  <thead>\n",
              "    <tr style=\"text-align: right;\">\n",
              "      <th></th>\n",
              "      <th>sex</th>\n",
              "      <th>class</th>\n",
              "      <th>embark_town</th>\n",
              "      <th>alone</th>\n",
              "    </tr>\n",
              "  </thead>\n",
              "  <tbody>\n",
              "    <tr>\n",
              "      <th>count</th>\n",
              "      <td>891</td>\n",
              "      <td>891</td>\n",
              "      <td>889</td>\n",
              "      <td>891</td>\n",
              "    </tr>\n",
              "    <tr>\n",
              "      <th>unique</th>\n",
              "      <td>2</td>\n",
              "      <td>3</td>\n",
              "      <td>3</td>\n",
              "      <td>2</td>\n",
              "    </tr>\n",
              "    <tr>\n",
              "      <th>top</th>\n",
              "      <td>male</td>\n",
              "      <td>Third</td>\n",
              "      <td>Southampton</td>\n",
              "      <td>y</td>\n",
              "    </tr>\n",
              "    <tr>\n",
              "      <th>freq</th>\n",
              "      <td>577</td>\n",
              "      <td>491</td>\n",
              "      <td>644</td>\n",
              "      <td>537</td>\n",
              "    </tr>\n",
              "  </tbody>\n",
              "</table>\n",
              "</div>"
            ],
            "text/plain": [
              "         sex  class  embark_town alone\n",
              "count    891    891          889   891\n",
              "unique     2      3            3     2\n",
              "top     male  Third  Southampton     y\n",
              "freq     577    491          644   537"
            ]
          },
          "metadata": {
            "tags": []
          },
          "execution_count": 54
        }
      ]
    },
    {
      "cell_type": "code",
      "metadata": {
        "id": "25fnsjZRtThb"
      },
      "source": [
        "df.embark_town.fillna('Southampton' , inplace=True)"
      ],
      "execution_count": 55,
      "outputs": []
    },
    {
      "cell_type": "code",
      "metadata": {
        "id": "NLopMHK1t3dc",
        "outputId": "7590e1a6-11ff-44bf-84d5-53bb15a21e0f",
        "colab": {
          "base_uri": "https://localhost:8080/",
          "height": 204
        }
      },
      "source": [
        "df.head()"
      ],
      "execution_count": 56,
      "outputs": [
        {
          "output_type": "execute_result",
          "data": {
            "text/html": [
              "<div>\n",
              "<style scoped>\n",
              "    .dataframe tbody tr th:only-of-type {\n",
              "        vertical-align: middle;\n",
              "    }\n",
              "\n",
              "    .dataframe tbody tr th {\n",
              "        vertical-align: top;\n",
              "    }\n",
              "\n",
              "    .dataframe thead th {\n",
              "        text-align: right;\n",
              "    }\n",
              "</style>\n",
              "<table border=\"1\" class=\"dataframe\">\n",
              "  <thead>\n",
              "    <tr style=\"text-align: right;\">\n",
              "      <th></th>\n",
              "      <th>survived</th>\n",
              "      <th>sex</th>\n",
              "      <th>age</th>\n",
              "      <th>n_siblings_spouses</th>\n",
              "      <th>parch</th>\n",
              "      <th>fare</th>\n",
              "      <th>class</th>\n",
              "      <th>embark_town</th>\n",
              "      <th>alone</th>\n",
              "    </tr>\n",
              "  </thead>\n",
              "  <tbody>\n",
              "    <tr>\n",
              "      <th>0</th>\n",
              "      <td>0</td>\n",
              "      <td>male</td>\n",
              "      <td>22.0</td>\n",
              "      <td>1</td>\n",
              "      <td>0</td>\n",
              "      <td>7.2500</td>\n",
              "      <td>Third</td>\n",
              "      <td>Southampton</td>\n",
              "      <td>n</td>\n",
              "    </tr>\n",
              "    <tr>\n",
              "      <th>1</th>\n",
              "      <td>1</td>\n",
              "      <td>female</td>\n",
              "      <td>38.0</td>\n",
              "      <td>1</td>\n",
              "      <td>0</td>\n",
              "      <td>71.2833</td>\n",
              "      <td>First</td>\n",
              "      <td>Cherbourg</td>\n",
              "      <td>n</td>\n",
              "    </tr>\n",
              "    <tr>\n",
              "      <th>2</th>\n",
              "      <td>1</td>\n",
              "      <td>female</td>\n",
              "      <td>26.0</td>\n",
              "      <td>0</td>\n",
              "      <td>0</td>\n",
              "      <td>7.9250</td>\n",
              "      <td>Third</td>\n",
              "      <td>Southampton</td>\n",
              "      <td>y</td>\n",
              "    </tr>\n",
              "    <tr>\n",
              "      <th>3</th>\n",
              "      <td>1</td>\n",
              "      <td>female</td>\n",
              "      <td>35.0</td>\n",
              "      <td>1</td>\n",
              "      <td>0</td>\n",
              "      <td>53.1000</td>\n",
              "      <td>First</td>\n",
              "      <td>Southampton</td>\n",
              "      <td>n</td>\n",
              "    </tr>\n",
              "    <tr>\n",
              "      <th>4</th>\n",
              "      <td>0</td>\n",
              "      <td>male</td>\n",
              "      <td>28.0</td>\n",
              "      <td>0</td>\n",
              "      <td>0</td>\n",
              "      <td>8.4583</td>\n",
              "      <td>Third</td>\n",
              "      <td>Queenstown</td>\n",
              "      <td>y</td>\n",
              "    </tr>\n",
              "  </tbody>\n",
              "</table>\n",
              "</div>"
            ],
            "text/plain": [
              "   survived     sex   age  ...  class  embark_town  alone\n",
              "0         0    male  22.0  ...  Third  Southampton      n\n",
              "1         1  female  38.0  ...  First    Cherbourg      n\n",
              "2         1  female  26.0  ...  Third  Southampton      y\n",
              "3         1  female  35.0  ...  First  Southampton      n\n",
              "4         0    male  28.0  ...  Third   Queenstown      y\n",
              "\n",
              "[5 rows x 9 columns]"
            ]
          },
          "metadata": {
            "tags": []
          },
          "execution_count": 56
        }
      ]
    },
    {
      "cell_type": "code",
      "metadata": {
        "id": "TW-JpjT1BhfL"
      },
      "source": [
        "embark_cat = pd.get_dummies(df['embark_town'])\n",
        "alone_cat = pd.get_dummies(df['alone'])\n",
        "parch_cat = pd.get_dummies(df['parch'])"
      ],
      "execution_count": 58,
      "outputs": []
    },
    {
      "cell_type": "code",
      "metadata": {
        "id": "SoSLzEcbB47-",
        "outputId": "0d5b9b9e-268e-4a0d-ac51-fa2afab71441",
        "colab": {
          "base_uri": "https://localhost:8080/",
          "height": 204
        }
      },
      "source": [
        "df = pd.concat([df, embark_cat, alone_cat, parch_cat], axis=1)\n",
        "df = df.drop(labels=['n_siblings_spouses','parch','age','fare','embark_town', 'alone'], axis=1)\n",
        "df.head()"
      ],
      "execution_count": 59,
      "outputs": [
        {
          "output_type": "execute_result",
          "data": {
            "text/html": [
              "<div>\n",
              "<style scoped>\n",
              "    .dataframe tbody tr th:only-of-type {\n",
              "        vertical-align: middle;\n",
              "    }\n",
              "\n",
              "    .dataframe tbody tr th {\n",
              "        vertical-align: top;\n",
              "    }\n",
              "\n",
              "    .dataframe thead th {\n",
              "        text-align: right;\n",
              "    }\n",
              "</style>\n",
              "<table border=\"1\" class=\"dataframe\">\n",
              "  <thead>\n",
              "    <tr style=\"text-align: right;\">\n",
              "      <th></th>\n",
              "      <th>survived</th>\n",
              "      <th>sex</th>\n",
              "      <th>class</th>\n",
              "      <th>Cherbourg</th>\n",
              "      <th>Queenstown</th>\n",
              "      <th>Southampton</th>\n",
              "      <th>n</th>\n",
              "      <th>y</th>\n",
              "      <th>0</th>\n",
              "      <th>1</th>\n",
              "      <th>2</th>\n",
              "      <th>3</th>\n",
              "      <th>4</th>\n",
              "      <th>5</th>\n",
              "      <th>6</th>\n",
              "    </tr>\n",
              "  </thead>\n",
              "  <tbody>\n",
              "    <tr>\n",
              "      <th>0</th>\n",
              "      <td>0</td>\n",
              "      <td>male</td>\n",
              "      <td>Third</td>\n",
              "      <td>0</td>\n",
              "      <td>0</td>\n",
              "      <td>1</td>\n",
              "      <td>1</td>\n",
              "      <td>0</td>\n",
              "      <td>1</td>\n",
              "      <td>0</td>\n",
              "      <td>0</td>\n",
              "      <td>0</td>\n",
              "      <td>0</td>\n",
              "      <td>0</td>\n",
              "      <td>0</td>\n",
              "    </tr>\n",
              "    <tr>\n",
              "      <th>1</th>\n",
              "      <td>1</td>\n",
              "      <td>female</td>\n",
              "      <td>First</td>\n",
              "      <td>1</td>\n",
              "      <td>0</td>\n",
              "      <td>0</td>\n",
              "      <td>1</td>\n",
              "      <td>0</td>\n",
              "      <td>1</td>\n",
              "      <td>0</td>\n",
              "      <td>0</td>\n",
              "      <td>0</td>\n",
              "      <td>0</td>\n",
              "      <td>0</td>\n",
              "      <td>0</td>\n",
              "    </tr>\n",
              "    <tr>\n",
              "      <th>2</th>\n",
              "      <td>1</td>\n",
              "      <td>female</td>\n",
              "      <td>Third</td>\n",
              "      <td>0</td>\n",
              "      <td>0</td>\n",
              "      <td>1</td>\n",
              "      <td>0</td>\n",
              "      <td>1</td>\n",
              "      <td>1</td>\n",
              "      <td>0</td>\n",
              "      <td>0</td>\n",
              "      <td>0</td>\n",
              "      <td>0</td>\n",
              "      <td>0</td>\n",
              "      <td>0</td>\n",
              "    </tr>\n",
              "    <tr>\n",
              "      <th>3</th>\n",
              "      <td>1</td>\n",
              "      <td>female</td>\n",
              "      <td>First</td>\n",
              "      <td>0</td>\n",
              "      <td>0</td>\n",
              "      <td>1</td>\n",
              "      <td>1</td>\n",
              "      <td>0</td>\n",
              "      <td>1</td>\n",
              "      <td>0</td>\n",
              "      <td>0</td>\n",
              "      <td>0</td>\n",
              "      <td>0</td>\n",
              "      <td>0</td>\n",
              "      <td>0</td>\n",
              "    </tr>\n",
              "    <tr>\n",
              "      <th>4</th>\n",
              "      <td>0</td>\n",
              "      <td>male</td>\n",
              "      <td>Third</td>\n",
              "      <td>0</td>\n",
              "      <td>1</td>\n",
              "      <td>0</td>\n",
              "      <td>0</td>\n",
              "      <td>1</td>\n",
              "      <td>1</td>\n",
              "      <td>0</td>\n",
              "      <td>0</td>\n",
              "      <td>0</td>\n",
              "      <td>0</td>\n",
              "      <td>0</td>\n",
              "      <td>0</td>\n",
              "    </tr>\n",
              "  </tbody>\n",
              "</table>\n",
              "</div>"
            ],
            "text/plain": [
              "   survived     sex  class  Cherbourg  Queenstown  ...  2  3  4  5  6\n",
              "0         0    male  Third          0           0  ...  0  0  0  0  0\n",
              "1         1  female  First          1           0  ...  0  0  0  0  0\n",
              "2         1  female  Third          0           0  ...  0  0  0  0  0\n",
              "3         1  female  First          0           0  ...  0  0  0  0  0\n",
              "4         0    male  Third          0           1  ...  0  0  0  0  0\n",
              "\n",
              "[5 rows x 15 columns]"
            ]
          },
          "metadata": {
            "tags": []
          },
          "execution_count": 59
        }
      ]
    },
    {
      "cell_type": "code",
      "metadata": {
        "id": "Ev2UWOkWud5o",
        "outputId": "0f542f66-902a-40f6-bc1c-8dc2274d95d4",
        "colab": {
          "base_uri": "https://localhost:8080/",
          "height": 204
        }
      },
      "source": [
        "from sklearn.preprocessing import LabelEncoder\n",
        "\n",
        "label_encode = LabelEncoder()\n",
        "df['class'] = label_encode.fit_transform(df['class'])\n",
        "#df['alone'] = label_encode.fit_transform(df['alone'])\n",
        "df['sex'] = label_encode.fit_transform(df['sex'])\n",
        "\n",
        "df.head()"
      ],
      "execution_count": 60,
      "outputs": [
        {
          "output_type": "execute_result",
          "data": {
            "text/html": [
              "<div>\n",
              "<style scoped>\n",
              "    .dataframe tbody tr th:only-of-type {\n",
              "        vertical-align: middle;\n",
              "    }\n",
              "\n",
              "    .dataframe tbody tr th {\n",
              "        vertical-align: top;\n",
              "    }\n",
              "\n",
              "    .dataframe thead th {\n",
              "        text-align: right;\n",
              "    }\n",
              "</style>\n",
              "<table border=\"1\" class=\"dataframe\">\n",
              "  <thead>\n",
              "    <tr style=\"text-align: right;\">\n",
              "      <th></th>\n",
              "      <th>survived</th>\n",
              "      <th>sex</th>\n",
              "      <th>class</th>\n",
              "      <th>Cherbourg</th>\n",
              "      <th>Queenstown</th>\n",
              "      <th>Southampton</th>\n",
              "      <th>n</th>\n",
              "      <th>y</th>\n",
              "      <th>0</th>\n",
              "      <th>1</th>\n",
              "      <th>2</th>\n",
              "      <th>3</th>\n",
              "      <th>4</th>\n",
              "      <th>5</th>\n",
              "      <th>6</th>\n",
              "    </tr>\n",
              "  </thead>\n",
              "  <tbody>\n",
              "    <tr>\n",
              "      <th>0</th>\n",
              "      <td>0</td>\n",
              "      <td>1</td>\n",
              "      <td>2</td>\n",
              "      <td>0</td>\n",
              "      <td>0</td>\n",
              "      <td>1</td>\n",
              "      <td>1</td>\n",
              "      <td>0</td>\n",
              "      <td>1</td>\n",
              "      <td>0</td>\n",
              "      <td>0</td>\n",
              "      <td>0</td>\n",
              "      <td>0</td>\n",
              "      <td>0</td>\n",
              "      <td>0</td>\n",
              "    </tr>\n",
              "    <tr>\n",
              "      <th>1</th>\n",
              "      <td>1</td>\n",
              "      <td>0</td>\n",
              "      <td>0</td>\n",
              "      <td>1</td>\n",
              "      <td>0</td>\n",
              "      <td>0</td>\n",
              "      <td>1</td>\n",
              "      <td>0</td>\n",
              "      <td>1</td>\n",
              "      <td>0</td>\n",
              "      <td>0</td>\n",
              "      <td>0</td>\n",
              "      <td>0</td>\n",
              "      <td>0</td>\n",
              "      <td>0</td>\n",
              "    </tr>\n",
              "    <tr>\n",
              "      <th>2</th>\n",
              "      <td>1</td>\n",
              "      <td>0</td>\n",
              "      <td>2</td>\n",
              "      <td>0</td>\n",
              "      <td>0</td>\n",
              "      <td>1</td>\n",
              "      <td>0</td>\n",
              "      <td>1</td>\n",
              "      <td>1</td>\n",
              "      <td>0</td>\n",
              "      <td>0</td>\n",
              "      <td>0</td>\n",
              "      <td>0</td>\n",
              "      <td>0</td>\n",
              "      <td>0</td>\n",
              "    </tr>\n",
              "    <tr>\n",
              "      <th>3</th>\n",
              "      <td>1</td>\n",
              "      <td>0</td>\n",
              "      <td>0</td>\n",
              "      <td>0</td>\n",
              "      <td>0</td>\n",
              "      <td>1</td>\n",
              "      <td>1</td>\n",
              "      <td>0</td>\n",
              "      <td>1</td>\n",
              "      <td>0</td>\n",
              "      <td>0</td>\n",
              "      <td>0</td>\n",
              "      <td>0</td>\n",
              "      <td>0</td>\n",
              "      <td>0</td>\n",
              "    </tr>\n",
              "    <tr>\n",
              "      <th>4</th>\n",
              "      <td>0</td>\n",
              "      <td>1</td>\n",
              "      <td>2</td>\n",
              "      <td>0</td>\n",
              "      <td>1</td>\n",
              "      <td>0</td>\n",
              "      <td>0</td>\n",
              "      <td>1</td>\n",
              "      <td>1</td>\n",
              "      <td>0</td>\n",
              "      <td>0</td>\n",
              "      <td>0</td>\n",
              "      <td>0</td>\n",
              "      <td>0</td>\n",
              "      <td>0</td>\n",
              "    </tr>\n",
              "  </tbody>\n",
              "</table>\n",
              "</div>"
            ],
            "text/plain": [
              "   survived  sex  class  Cherbourg  Queenstown  Southampton  ...  1  2  3  4  5  6\n",
              "0         0    1      2          0           0            1  ...  0  0  0  0  0  0\n",
              "1         1    0      0          1           0            0  ...  0  0  0  0  0  0\n",
              "2         1    0      2          0           0            1  ...  0  0  0  0  0  0\n",
              "3         1    0      0          0           0            1  ...  0  0  0  0  0  0\n",
              "4         0    1      2          0           1            0  ...  0  0  0  0  0  0\n",
              "\n",
              "[5 rows x 15 columns]"
            ]
          },
          "metadata": {
            "tags": []
          },
          "execution_count": 60
        }
      ]
    },
    {
      "cell_type": "code",
      "metadata": {
        "id": "CtCT9WF_A7qE",
        "outputId": "02420b6f-213a-49e1-8210-875c3aae886a",
        "colab": {
          "base_uri": "https://localhost:8080/",
          "height": 289
        }
      },
      "source": [
        "df.dtypes"
      ],
      "execution_count": 61,
      "outputs": [
        {
          "output_type": "execute_result",
          "data": {
            "text/plain": [
              "survived       int64\n",
              "sex            int64\n",
              "class          int64\n",
              "Cherbourg      uint8\n",
              "Queenstown     uint8\n",
              "Southampton    uint8\n",
              "n              uint8\n",
              "y              uint8\n",
              "0              uint8\n",
              "1              uint8\n",
              "2              uint8\n",
              "3              uint8\n",
              "4              uint8\n",
              "5              uint8\n",
              "6              uint8\n",
              "dtype: object"
            ]
          },
          "metadata": {
            "tags": []
          },
          "execution_count": 61
        }
      ]
    },
    {
      "cell_type": "code",
      "metadata": {
        "id": "0F4SuFCxvCy6",
        "outputId": "8e483f9f-2771-4feb-c7b0-9e65b5ce4be7",
        "colab": {
          "base_uri": "https://localhost:8080/",
          "height": 34
        }
      },
      "source": [
        "print(train.shape, test.shape, df.shape)"
      ],
      "execution_count": 62,
      "outputs": [
        {
          "output_type": "stream",
          "text": [
            "(627, 10) (264, 10) (891, 15)\n"
          ],
          "name": "stdout"
        }
      ]
    },
    {
      "cell_type": "code",
      "metadata": {
        "id": "XEb4fAI4Ejyg"
      },
      "source": [
        "X_train = df[0:627].drop(['survived'], axis=1).values\n",
        "y_train = df[0:627]['survived'].values\n",
        "X_test  = df[627:].drop(['survived'], axis=1).values\n",
        "y_test = df[627:]['survived'].values"
      ],
      "execution_count": 63,
      "outputs": []
    },
    {
      "cell_type": "code",
      "metadata": {
        "id": "Wv3xVrg6FF2P"
      },
      "source": [
        "from tensorflow.keras.models import Sequential\n",
        "from tensorflow.keras.layers import Dense\n",
        "from tensorflow.keras.layers import Dropout"
      ],
      "execution_count": 64,
      "outputs": []
    },
    {
      "cell_type": "code",
      "metadata": {
        "id": "Yv-Kvyz1FMWF"
      },
      "source": [
        "def plot_loss_new(history):\n",
        "  history_df = pd.DataFrame(history.history)\n",
        "\n",
        "  min_loss_index = history_df[history_df['loss']==min(history_df['loss'])].index.values\n",
        "  min_loss = history_df.loc[min_loss_index]['loss']\n",
        "  min_val_loss_index = history_df[history_df['val_loss']==min(history_df['val_loss'])].index.values\n",
        "  min_val_loss = history_df.loc[min_val_loss_index]['val_loss']\n",
        "\n",
        "  plt.plot(history.history['loss'], label='loss')\n",
        "  plt.plot(history.history['val_loss'], label='val_loss')\n",
        "  plt.plot(min_loss_index, min_loss, 'o', c='k', ms=4, label='min loss')\n",
        "  plt.plot(min_val_loss_index, min_val_loss, 'o', c='k', ms=4, label='min val_loss')\n",
        "  plt.xlabel('Epoch')\n",
        "  plt.ylabel('Loss')\n",
        "  plt.legend()\n",
        "  plt.grid(True)\n",
        "  plt.show()\n",
        "\n",
        "  print('Minimum Loss             :', min_loss)\n",
        "  print()\n",
        "  print('Minimum Validation Loss  :', min_val_loss)"
      ],
      "execution_count": 65,
      "outputs": []
    },
    {
      "cell_type": "code",
      "metadata": {
        "id": "drzafpkEEzDc",
        "outputId": "6462ecaf-b2a7-4497-ab7e-fc863f31bba2",
        "colab": {
          "base_uri": "https://localhost:8080/",
          "height": 323
        }
      },
      "source": [
        "model = Sequential()\n",
        "\n",
        "# layers\n",
        "model.add(Dense(9, kernel_initializer = 'normal', activation = 'relu', input_dim = 14))\n",
        "model.add(Dropout(0.25))\n",
        "model.add(Dense(9, kernel_initializer = 'normal', activation = 'relu'))\n",
        "#model.add(Dropout(0.25))\n",
        "model.add(Dense(5, kernel_initializer = 'normal', activation = 'relu'))\n",
        "#model.add(Dropout(0.25))\n",
        "model.add(Dense(1, kernel_initializer = 'normal', activation = 'sigmoid'))\n",
        "\n",
        "# summary\n",
        "model.summary()"
      ],
      "execution_count": 66,
      "outputs": [
        {
          "output_type": "stream",
          "text": [
            "Model: \"sequential_7\"\n",
            "_________________________________________________________________\n",
            "Layer (type)                 Output Shape              Param #   \n",
            "=================================================================\n",
            "dense_32 (Dense)             (None, 9)                 135       \n",
            "_________________________________________________________________\n",
            "dropout_13 (Dropout)         (None, 9)                 0         \n",
            "_________________________________________________________________\n",
            "dense_33 (Dense)             (None, 9)                 90        \n",
            "_________________________________________________________________\n",
            "dense_34 (Dense)             (None, 5)                 50        \n",
            "_________________________________________________________________\n",
            "dense_35 (Dense)             (None, 1)                 6         \n",
            "=================================================================\n",
            "Total params: 281\n",
            "Trainable params: 281\n",
            "Non-trainable params: 0\n",
            "_________________________________________________________________\n"
          ],
          "name": "stdout"
        }
      ]
    },
    {
      "cell_type": "code",
      "metadata": {
        "id": "5fDqaKxkFNAK",
        "outputId": "f27882af-eb11-4139-9d40-f6402eb03155",
        "colab": {
          "base_uri": "https://localhost:8080/",
          "height": 1000
        }
      },
      "source": [
        "# Compiling the NN\n",
        "model.compile(optimizer = 'rmsprop', loss = 'binary_crossentropy', metrics = ['accuracy'])\n",
        "\n",
        "# Train the NN\n",
        "history = model.fit(X_train, y_train, validation_data=(X_test, y_test), batch_size = 8, epochs = 100)"
      ],
      "execution_count": 67,
      "outputs": [
        {
          "output_type": "stream",
          "text": [
            "Epoch 1/100\n",
            "79/79 [==============================] - 0s 3ms/step - loss: 0.6903 - accuracy: 0.6140 - val_loss: 0.6867 - val_accuracy: 0.6250\n",
            "Epoch 2/100\n",
            "79/79 [==============================] - 0s 1ms/step - loss: 0.6847 - accuracy: 0.6124 - val_loss: 0.6800 - val_accuracy: 0.6250\n",
            "Epoch 3/100\n",
            "79/79 [==============================] - 0s 2ms/step - loss: 0.6777 - accuracy: 0.6124 - val_loss: 0.6707 - val_accuracy: 0.6250\n",
            "Epoch 4/100\n",
            "79/79 [==============================] - 0s 1ms/step - loss: 0.6661 - accuracy: 0.6124 - val_loss: 0.6550 - val_accuracy: 0.6250\n",
            "Epoch 5/100\n",
            "79/79 [==============================] - 0s 2ms/step - loss: 0.6447 - accuracy: 0.6124 - val_loss: 0.6350 - val_accuracy: 0.6250\n",
            "Epoch 6/100\n",
            "79/79 [==============================] - 0s 1ms/step - loss: 0.6349 - accuracy: 0.6124 - val_loss: 0.6249 - val_accuracy: 0.6250\n",
            "Epoch 7/100\n",
            "79/79 [==============================] - 0s 1ms/step - loss: 0.6196 - accuracy: 0.6124 - val_loss: 0.6148 - val_accuracy: 0.6250\n",
            "Epoch 8/100\n",
            "79/79 [==============================] - 0s 1ms/step - loss: 0.6121 - accuracy: 0.6124 - val_loss: 0.6057 - val_accuracy: 0.6250\n",
            "Epoch 9/100\n",
            "79/79 [==============================] - 0s 2ms/step - loss: 0.5937 - accuracy: 0.6124 - val_loss: 0.5950 - val_accuracy: 0.6250\n",
            "Epoch 10/100\n",
            "79/79 [==============================] - 0s 2ms/step - loss: 0.5873 - accuracy: 0.6268 - val_loss: 0.5842 - val_accuracy: 0.6894\n",
            "Epoch 11/100\n",
            "79/79 [==============================] - 0s 2ms/step - loss: 0.5773 - accuracy: 0.7113 - val_loss: 0.5753 - val_accuracy: 0.7083\n",
            "Epoch 12/100\n",
            "79/79 [==============================] - 0s 1ms/step - loss: 0.5709 - accuracy: 0.7384 - val_loss: 0.5643 - val_accuracy: 0.7159\n",
            "Epoch 13/100\n",
            "79/79 [==============================] - 0s 1ms/step - loss: 0.5429 - accuracy: 0.7544 - val_loss: 0.5503 - val_accuracy: 0.7386\n",
            "Epoch 14/100\n",
            "79/79 [==============================] - 0s 1ms/step - loss: 0.5385 - accuracy: 0.7448 - val_loss: 0.5390 - val_accuracy: 0.7462\n",
            "Epoch 15/100\n",
            "79/79 [==============================] - 0s 1ms/step - loss: 0.5240 - accuracy: 0.7863 - val_loss: 0.5281 - val_accuracy: 0.7841\n",
            "Epoch 16/100\n",
            "79/79 [==============================] - 0s 1ms/step - loss: 0.5119 - accuracy: 0.7863 - val_loss: 0.5206 - val_accuracy: 0.7765\n",
            "Epoch 17/100\n",
            "79/79 [==============================] - 0s 2ms/step - loss: 0.4947 - accuracy: 0.7879 - val_loss: 0.5147 - val_accuracy: 0.7727\n",
            "Epoch 18/100\n",
            "79/79 [==============================] - 0s 1ms/step - loss: 0.5021 - accuracy: 0.7799 - val_loss: 0.5081 - val_accuracy: 0.7576\n",
            "Epoch 19/100\n",
            "79/79 [==============================] - 0s 2ms/step - loss: 0.4868 - accuracy: 0.7927 - val_loss: 0.5036 - val_accuracy: 0.7614\n",
            "Epoch 20/100\n",
            "79/79 [==============================] - 0s 2ms/step - loss: 0.4803 - accuracy: 0.7911 - val_loss: 0.4999 - val_accuracy: 0.7879\n",
            "Epoch 21/100\n",
            "79/79 [==============================] - 0s 2ms/step - loss: 0.4620 - accuracy: 0.7959 - val_loss: 0.4987 - val_accuracy: 0.7538\n",
            "Epoch 22/100\n",
            "79/79 [==============================] - 0s 2ms/step - loss: 0.4720 - accuracy: 0.7863 - val_loss: 0.4943 - val_accuracy: 0.7803\n",
            "Epoch 23/100\n",
            "79/79 [==============================] - 0s 2ms/step - loss: 0.4764 - accuracy: 0.7911 - val_loss: 0.4905 - val_accuracy: 0.7879\n",
            "Epoch 24/100\n",
            "79/79 [==============================] - 0s 2ms/step - loss: 0.4605 - accuracy: 0.7927 - val_loss: 0.4917 - val_accuracy: 0.7538\n",
            "Epoch 25/100\n",
            "79/79 [==============================] - 0s 2ms/step - loss: 0.4642 - accuracy: 0.8006 - val_loss: 0.4849 - val_accuracy: 0.7992\n",
            "Epoch 26/100\n",
            "79/79 [==============================] - 0s 2ms/step - loss: 0.4631 - accuracy: 0.8054 - val_loss: 0.4939 - val_accuracy: 0.7538\n",
            "Epoch 27/100\n",
            "79/79 [==============================] - 0s 2ms/step - loss: 0.4708 - accuracy: 0.7815 - val_loss: 0.4846 - val_accuracy: 0.7765\n",
            "Epoch 28/100\n",
            "79/79 [==============================] - 0s 2ms/step - loss: 0.4462 - accuracy: 0.8182 - val_loss: 0.4809 - val_accuracy: 0.7879\n",
            "Epoch 29/100\n",
            "79/79 [==============================] - 0s 2ms/step - loss: 0.4565 - accuracy: 0.8070 - val_loss: 0.4846 - val_accuracy: 0.7765\n",
            "Epoch 30/100\n",
            "79/79 [==============================] - 0s 2ms/step - loss: 0.4668 - accuracy: 0.7974 - val_loss: 0.4791 - val_accuracy: 0.7879\n",
            "Epoch 31/100\n",
            "79/79 [==============================] - 0s 1ms/step - loss: 0.4518 - accuracy: 0.8006 - val_loss: 0.4774 - val_accuracy: 0.7917\n",
            "Epoch 32/100\n",
            "79/79 [==============================] - 0s 1ms/step - loss: 0.4524 - accuracy: 0.8150 - val_loss: 0.4771 - val_accuracy: 0.7879\n",
            "Epoch 33/100\n",
            "79/79 [==============================] - 0s 2ms/step - loss: 0.4527 - accuracy: 0.8070 - val_loss: 0.4753 - val_accuracy: 0.7917\n",
            "Epoch 34/100\n",
            "79/79 [==============================] - 0s 2ms/step - loss: 0.4404 - accuracy: 0.8150 - val_loss: 0.4776 - val_accuracy: 0.7803\n",
            "Epoch 35/100\n",
            "79/79 [==============================] - 0s 1ms/step - loss: 0.4566 - accuracy: 0.8054 - val_loss: 0.4748 - val_accuracy: 0.7992\n",
            "Epoch 36/100\n",
            "79/79 [==============================] - 0s 1ms/step - loss: 0.4499 - accuracy: 0.8070 - val_loss: 0.4741 - val_accuracy: 0.7992\n",
            "Epoch 37/100\n",
            "79/79 [==============================] - 0s 1ms/step - loss: 0.4572 - accuracy: 0.8134 - val_loss: 0.4715 - val_accuracy: 0.7992\n",
            "Epoch 38/100\n",
            "79/79 [==============================] - 0s 2ms/step - loss: 0.4314 - accuracy: 0.8182 - val_loss: 0.4746 - val_accuracy: 0.7992\n",
            "Epoch 39/100\n",
            "79/79 [==============================] - 0s 1ms/step - loss: 0.4482 - accuracy: 0.7990 - val_loss: 0.4761 - val_accuracy: 0.7992\n",
            "Epoch 40/100\n",
            "79/79 [==============================] - 0s 1ms/step - loss: 0.4334 - accuracy: 0.8166 - val_loss: 0.4741 - val_accuracy: 0.7992\n",
            "Epoch 41/100\n",
            "79/79 [==============================] - 0s 2ms/step - loss: 0.4408 - accuracy: 0.8198 - val_loss: 0.4727 - val_accuracy: 0.7992\n",
            "Epoch 42/100\n",
            "79/79 [==============================] - 0s 2ms/step - loss: 0.4485 - accuracy: 0.8086 - val_loss: 0.4760 - val_accuracy: 0.7992\n",
            "Epoch 43/100\n",
            "79/79 [==============================] - 0s 1ms/step - loss: 0.4391 - accuracy: 0.8166 - val_loss: 0.4755 - val_accuracy: 0.7992\n",
            "Epoch 44/100\n",
            "79/79 [==============================] - 0s 2ms/step - loss: 0.4406 - accuracy: 0.8134 - val_loss: 0.4740 - val_accuracy: 0.7992\n",
            "Epoch 45/100\n",
            "79/79 [==============================] - 0s 2ms/step - loss: 0.4510 - accuracy: 0.8038 - val_loss: 0.4756 - val_accuracy: 0.7992\n",
            "Epoch 46/100\n",
            "79/79 [==============================] - 0s 1ms/step - loss: 0.4432 - accuracy: 0.8134 - val_loss: 0.4761 - val_accuracy: 0.7992\n",
            "Epoch 47/100\n",
            "79/79 [==============================] - 0s 2ms/step - loss: 0.4470 - accuracy: 0.8102 - val_loss: 0.4722 - val_accuracy: 0.7992\n",
            "Epoch 48/100\n",
            "79/79 [==============================] - 0s 2ms/step - loss: 0.4316 - accuracy: 0.8182 - val_loss: 0.4749 - val_accuracy: 0.7992\n",
            "Epoch 49/100\n",
            "79/79 [==============================] - 0s 2ms/step - loss: 0.4515 - accuracy: 0.8086 - val_loss: 0.4752 - val_accuracy: 0.7992\n",
            "Epoch 50/100\n",
            "79/79 [==============================] - 0s 2ms/step - loss: 0.4481 - accuracy: 0.8054 - val_loss: 0.4768 - val_accuracy: 0.7992\n",
            "Epoch 51/100\n",
            "79/79 [==============================] - 0s 1ms/step - loss: 0.4475 - accuracy: 0.8118 - val_loss: 0.4741 - val_accuracy: 0.7992\n",
            "Epoch 52/100\n",
            "79/79 [==============================] - 0s 1ms/step - loss: 0.4365 - accuracy: 0.8102 - val_loss: 0.4789 - val_accuracy: 0.7992\n",
            "Epoch 53/100\n",
            "79/79 [==============================] - 0s 2ms/step - loss: 0.4394 - accuracy: 0.8262 - val_loss: 0.4781 - val_accuracy: 0.7992\n",
            "Epoch 54/100\n",
            "79/79 [==============================] - 0s 1ms/step - loss: 0.4478 - accuracy: 0.8150 - val_loss: 0.4804 - val_accuracy: 0.7992\n",
            "Epoch 55/100\n",
            "79/79 [==============================] - 0s 1ms/step - loss: 0.4418 - accuracy: 0.8198 - val_loss: 0.4794 - val_accuracy: 0.7992\n",
            "Epoch 56/100\n",
            "79/79 [==============================] - 0s 1ms/step - loss: 0.4490 - accuracy: 0.8070 - val_loss: 0.4780 - val_accuracy: 0.7992\n",
            "Epoch 57/100\n",
            "79/79 [==============================] - 0s 2ms/step - loss: 0.4211 - accuracy: 0.8134 - val_loss: 0.4763 - val_accuracy: 0.7992\n",
            "Epoch 58/100\n",
            "79/79 [==============================] - 0s 1ms/step - loss: 0.4511 - accuracy: 0.8102 - val_loss: 0.4774 - val_accuracy: 0.7992\n",
            "Epoch 59/100\n",
            "79/79 [==============================] - 0s 1ms/step - loss: 0.4477 - accuracy: 0.8054 - val_loss: 0.4768 - val_accuracy: 0.7992\n",
            "Epoch 60/100\n",
            "79/79 [==============================] - 0s 1ms/step - loss: 0.4562 - accuracy: 0.8054 - val_loss: 0.4761 - val_accuracy: 0.7992\n",
            "Epoch 61/100\n",
            "79/79 [==============================] - 0s 1ms/step - loss: 0.4269 - accuracy: 0.8134 - val_loss: 0.4834 - val_accuracy: 0.7992\n",
            "Epoch 62/100\n",
            "79/79 [==============================] - 0s 1ms/step - loss: 0.4282 - accuracy: 0.8150 - val_loss: 0.4821 - val_accuracy: 0.7992\n",
            "Epoch 63/100\n",
            "79/79 [==============================] - 0s 2ms/step - loss: 0.4364 - accuracy: 0.8198 - val_loss: 0.4846 - val_accuracy: 0.7992\n",
            "Epoch 64/100\n",
            "79/79 [==============================] - 0s 2ms/step - loss: 0.4339 - accuracy: 0.8198 - val_loss: 0.4840 - val_accuracy: 0.7992\n",
            "Epoch 65/100\n",
            "79/79 [==============================] - 0s 1ms/step - loss: 0.4420 - accuracy: 0.8118 - val_loss: 0.4797 - val_accuracy: 0.7992\n",
            "Epoch 66/100\n",
            "79/79 [==============================] - 0s 2ms/step - loss: 0.4527 - accuracy: 0.8102 - val_loss: 0.4793 - val_accuracy: 0.7992\n",
            "Epoch 67/100\n",
            "79/79 [==============================] - 0s 2ms/step - loss: 0.4343 - accuracy: 0.8102 - val_loss: 0.4803 - val_accuracy: 0.7992\n",
            "Epoch 68/100\n",
            "79/79 [==============================] - 0s 1ms/step - loss: 0.4518 - accuracy: 0.8134 - val_loss: 0.4796 - val_accuracy: 0.7992\n",
            "Epoch 69/100\n",
            "79/79 [==============================] - 0s 2ms/step - loss: 0.4505 - accuracy: 0.8038 - val_loss: 0.4825 - val_accuracy: 0.7992\n",
            "Epoch 70/100\n",
            "79/79 [==============================] - 0s 2ms/step - loss: 0.4444 - accuracy: 0.8150 - val_loss: 0.4809 - val_accuracy: 0.7992\n",
            "Epoch 71/100\n",
            "79/79 [==============================] - 0s 2ms/step - loss: 0.4462 - accuracy: 0.8070 - val_loss: 0.4812 - val_accuracy: 0.7992\n",
            "Epoch 72/100\n",
            "79/79 [==============================] - 0s 1ms/step - loss: 0.4358 - accuracy: 0.8150 - val_loss: 0.4787 - val_accuracy: 0.7992\n",
            "Epoch 73/100\n",
            "79/79 [==============================] - 0s 1ms/step - loss: 0.4427 - accuracy: 0.8134 - val_loss: 0.4792 - val_accuracy: 0.7992\n",
            "Epoch 74/100\n",
            "79/79 [==============================] - 0s 2ms/step - loss: 0.4423 - accuracy: 0.8198 - val_loss: 0.4864 - val_accuracy: 0.7917\n",
            "Epoch 75/100\n",
            "79/79 [==============================] - 0s 1ms/step - loss: 0.4487 - accuracy: 0.8134 - val_loss: 0.4826 - val_accuracy: 0.7992\n",
            "Epoch 76/100\n",
            "79/79 [==============================] - 0s 1ms/step - loss: 0.4393 - accuracy: 0.8182 - val_loss: 0.4806 - val_accuracy: 0.7992\n",
            "Epoch 77/100\n",
            "79/79 [==============================] - 0s 2ms/step - loss: 0.4404 - accuracy: 0.8150 - val_loss: 0.4799 - val_accuracy: 0.7992\n",
            "Epoch 78/100\n",
            "79/79 [==============================] - 0s 2ms/step - loss: 0.4488 - accuracy: 0.8102 - val_loss: 0.4799 - val_accuracy: 0.7992\n",
            "Epoch 79/100\n",
            "79/79 [==============================] - 0s 2ms/step - loss: 0.4400 - accuracy: 0.8150 - val_loss: 0.4799 - val_accuracy: 0.7992\n",
            "Epoch 80/100\n",
            "79/79 [==============================] - 0s 2ms/step - loss: 0.4328 - accuracy: 0.8230 - val_loss: 0.4803 - val_accuracy: 0.7992\n",
            "Epoch 81/100\n",
            "79/79 [==============================] - 0s 2ms/step - loss: 0.4379 - accuracy: 0.8246 - val_loss: 0.4827 - val_accuracy: 0.7992\n",
            "Epoch 82/100\n",
            "79/79 [==============================] - 0s 2ms/step - loss: 0.4388 - accuracy: 0.8134 - val_loss: 0.4837 - val_accuracy: 0.7992\n",
            "Epoch 83/100\n",
            "79/79 [==============================] - 0s 1ms/step - loss: 0.4437 - accuracy: 0.8134 - val_loss: 0.4876 - val_accuracy: 0.7955\n",
            "Epoch 84/100\n",
            "79/79 [==============================] - 0s 1ms/step - loss: 0.4346 - accuracy: 0.8230 - val_loss: 0.4830 - val_accuracy: 0.7992\n",
            "Epoch 85/100\n",
            "79/79 [==============================] - 0s 2ms/step - loss: 0.4396 - accuracy: 0.8102 - val_loss: 0.4838 - val_accuracy: 0.7992\n",
            "Epoch 86/100\n",
            "79/79 [==============================] - 0s 1ms/step - loss: 0.4444 - accuracy: 0.8214 - val_loss: 0.4826 - val_accuracy: 0.7992\n",
            "Epoch 87/100\n",
            "79/79 [==============================] - 0s 2ms/step - loss: 0.4353 - accuracy: 0.8166 - val_loss: 0.4818 - val_accuracy: 0.7992\n",
            "Epoch 88/100\n",
            "79/79 [==============================] - 0s 1ms/step - loss: 0.4501 - accuracy: 0.8134 - val_loss: 0.4832 - val_accuracy: 0.7992\n",
            "Epoch 89/100\n",
            "79/79 [==============================] - 0s 2ms/step - loss: 0.4478 - accuracy: 0.8070 - val_loss: 0.4825 - val_accuracy: 0.7992\n",
            "Epoch 90/100\n",
            "79/79 [==============================] - 0s 1ms/step - loss: 0.4378 - accuracy: 0.8102 - val_loss: 0.4818 - val_accuracy: 0.7992\n",
            "Epoch 91/100\n",
            "79/79 [==============================] - 0s 1ms/step - loss: 0.4427 - accuracy: 0.8134 - val_loss: 0.4821 - val_accuracy: 0.7992\n",
            "Epoch 92/100\n",
            "79/79 [==============================] - 0s 1ms/step - loss: 0.4446 - accuracy: 0.8150 - val_loss: 0.4808 - val_accuracy: 0.7992\n",
            "Epoch 93/100\n",
            "79/79 [==============================] - 0s 2ms/step - loss: 0.4372 - accuracy: 0.8246 - val_loss: 0.4854 - val_accuracy: 0.7992\n",
            "Epoch 94/100\n",
            "79/79 [==============================] - 0s 1ms/step - loss: 0.4390 - accuracy: 0.8102 - val_loss: 0.4837 - val_accuracy: 0.7992\n",
            "Epoch 95/100\n",
            "79/79 [==============================] - 0s 2ms/step - loss: 0.4382 - accuracy: 0.8166 - val_loss: 0.4838 - val_accuracy: 0.7992\n",
            "Epoch 96/100\n",
            "79/79 [==============================] - 0s 1ms/step - loss: 0.4452 - accuracy: 0.8182 - val_loss: 0.4867 - val_accuracy: 0.7803\n",
            "Epoch 97/100\n",
            "79/79 [==============================] - 0s 2ms/step - loss: 0.4362 - accuracy: 0.8118 - val_loss: 0.4839 - val_accuracy: 0.7992\n",
            "Epoch 98/100\n",
            "79/79 [==============================] - 0s 1ms/step - loss: 0.4441 - accuracy: 0.8118 - val_loss: 0.4837 - val_accuracy: 0.7917\n",
            "Epoch 99/100\n",
            "79/79 [==============================] - 0s 1ms/step - loss: 0.4302 - accuracy: 0.8150 - val_loss: 0.4852 - val_accuracy: 0.7879\n",
            "Epoch 100/100\n",
            "79/79 [==============================] - 0s 1ms/step - loss: 0.4441 - accuracy: 0.8102 - val_loss: 0.4870 - val_accuracy: 0.7879\n"
          ],
          "name": "stdout"
        }
      ]
    },
    {
      "cell_type": "code",
      "metadata": {
        "id": "Z2T248EOv93X",
        "outputId": "f48bd121-f55a-420f-c72f-8672bba124f8",
        "colab": {
          "base_uri": "https://localhost:8080/",
          "height": 366
        }
      },
      "source": [
        "plot_loss_new(history)"
      ],
      "execution_count": 68,
      "outputs": [
        {
          "output_type": "display_data",
          "data": {
            "image/png": "[encoded data removed]",
            "text/plain": [
              "<Figure size 432x288 with 1 Axes>"
            ]
          },
          "metadata": {
            "tags": [],
            "needs_background": "light"
          }
        },
        {
          "output_type": "stream",
          "text": [
            "Minimum Loss             : 56    0.421124\n",
            "Name: loss, dtype: float64\n",
            "\n",
            "Minimum Validation Loss  : 36    0.471497\n",
            "Name: val_loss, dtype: float64\n"
          ],
          "name": "stdout"
        }
      ]
    },
    {
      "cell_type": "markdown",
      "metadata": {
        "id": "vI30SFnDziOC"
      },
      "source": [
        "Sweet spot berada di epoch 36 dengan val_loss 0.471497 dan val_acc 0.7992"
      ]
    }
  ]
}