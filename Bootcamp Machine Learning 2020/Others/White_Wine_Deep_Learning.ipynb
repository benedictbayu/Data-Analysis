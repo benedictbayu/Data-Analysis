{
  "nbformat": 4,
  "nbformat_minor": 0,
  "metadata": {
    "colab": {
      "name": "White Wine Deep Learning.ipynb",
      "provenance": []
    },
    "kernelspec": {
      "name": "python3",
      "display_name": "Python 3"
    },
    "accelerator": "TPU"
  },
  "cells": [
    {
      "cell_type": "markdown",
      "metadata": {
        "id": "BBK41CBC9Yly"
      },
      "source": [
        "**Benedictus Bayu Pramudhito**"
      ]
    },
    {
      "cell_type": "code",
      "metadata": {
        "id": "bpLv4FRZmCAW"
      },
      "source": [
        "import pandas as pd \n",
        "import numpy as np\n",
        "import matplotlib.pyplot as plt\n",
        "import seaborn as sns"
      ],
      "execution_count": 39,
      "outputs": []
    },
    {
      "cell_type": "code",
      "metadata": {
        "id": "KJab-fCYp6Ko",
        "outputId": "d2d38dfb-5200-4c9b-9a62-33bc01ed6b50",
        "colab": {
          "base_uri": "https://localhost:8080/",
          "height": 374
        }
      },
      "source": [
        "import os\n",
        "print('\\n'.join(os.listdir(r'./drive/My Drive')))"
      ],
      "execution_count": 40,
      "outputs": [
        {
          "output_type": "stream",
          "text": [
            "Getting started.pdf\n",
            "Tugas Akhir\n",
            "Banyuwangi-Bali \n",
            "ionosphere_data_kaggle.csv\n",
            "CV Benedictus Bayu_(4) (1).pdf\n",
            "CV Benedictus Bayu_(4).pdf\n",
            "PT Transavia - Application Form (English) 2019.docx\n",
            "PT Transavia - Application Form (English) 2019.gdoc\n",
            "Video Telkom Marsya\n",
            "Video Telkom Bene\n",
            "Form Kandidat INDOCYBER (32).docx\n",
            "Form Kandidat INDOCYBER (32).gdoc\n",
            "Certificates\n",
            "Colab Test (Bootcamp ML 2020)\n",
            "Colab Notebooks\n",
            "cats-dogs.zip\n",
            "santa-dataset.zip\n",
            "Cermati\n",
            "titanic_train.csv\n",
            "titanic_eval.csv\n",
            "winequality-white.csv\n"
          ],
          "name": "stdout"
        }
      ]
    },
    {
      "cell_type": "code",
      "metadata": {
        "id": "lyWvqkmVp8ud",
        "outputId": "e4e4cb89-08b9-428d-a6d0-a9eddbb33d9f",
        "colab": {
          "base_uri": "https://localhost:8080/",
          "height": 204
        }
      },
      "source": [
        "df = pd.read_csv(r'./drive/My Drive/winequality-white.csv', delimiter=';')\n",
        "df.head()"
      ],
      "execution_count": 41,
      "outputs": [
        {
          "output_type": "execute_result",
          "data": {
            "text/html": [
              "<div>\n",
              "<style scoped>\n",
              "    .dataframe tbody tr th:only-of-type {\n",
              "        vertical-align: middle;\n",
              "    }\n",
              "\n",
              "    .dataframe tbody tr th {\n",
              "        vertical-align: top;\n",
              "    }\n",
              "\n",
              "    .dataframe thead th {\n",
              "        text-align: right;\n",
              "    }\n",
              "</style>\n",
              "<table border=\"1\" class=\"dataframe\">\n",
              "  <thead>\n",
              "    <tr style=\"text-align: right;\">\n",
              "      <th></th>\n",
              "      <th>fixed acidity</th>\n",
              "      <th>volatile acidity</th>\n",
              "      <th>citric acid</th>\n",
              "      <th>residual sugar</th>\n",
              "      <th>chlorides</th>\n",
              "      <th>free sulfur dioxide</th>\n",
              "      <th>total sulfur dioxide</th>\n",
              "      <th>density</th>\n",
              "      <th>pH</th>\n",
              "      <th>sulphates</th>\n",
              "      <th>alcohol</th>\n",
              "      <th>quality</th>\n",
              "    </tr>\n",
              "  </thead>\n",
              "  <tbody>\n",
              "    <tr>\n",
              "      <th>0</th>\n",
              "      <td>7.0</td>\n",
              "      <td>0.27</td>\n",
              "      <td>0.36</td>\n",
              "      <td>20.7</td>\n",
              "      <td>0.045</td>\n",
              "      <td>45.0</td>\n",
              "      <td>170.0</td>\n",
              "      <td>1.0010</td>\n",
              "      <td>3.00</td>\n",
              "      <td>0.45</td>\n",
              "      <td>8.8</td>\n",
              "      <td>6</td>\n",
              "    </tr>\n",
              "    <tr>\n",
              "      <th>1</th>\n",
              "      <td>6.3</td>\n",
              "      <td>0.30</td>\n",
              "      <td>0.34</td>\n",
              "      <td>1.6</td>\n",
              "      <td>0.049</td>\n",
              "      <td>14.0</td>\n",
              "      <td>132.0</td>\n",
              "      <td>0.9940</td>\n",
              "      <td>3.30</td>\n",
              "      <td>0.49</td>\n",
              "      <td>9.5</td>\n",
              "      <td>6</td>\n",
              "    </tr>\n",
              "    <tr>\n",
              "      <th>2</th>\n",
              "      <td>8.1</td>\n",
              "      <td>0.28</td>\n",
              "      <td>0.40</td>\n",
              "      <td>6.9</td>\n",
              "      <td>0.050</td>\n",
              "      <td>30.0</td>\n",
              "      <td>97.0</td>\n",
              "      <td>0.9951</td>\n",
              "      <td>3.26</td>\n",
              "      <td>0.44</td>\n",
              "      <td>10.1</td>\n",
              "      <td>6</td>\n",
              "    </tr>\n",
              "    <tr>\n",
              "      <th>3</th>\n",
              "      <td>7.2</td>\n",
              "      <td>0.23</td>\n",
              "      <td>0.32</td>\n",
              "      <td>8.5</td>\n",
              "      <td>0.058</td>\n",
              "      <td>47.0</td>\n",
              "      <td>186.0</td>\n",
              "      <td>0.9956</td>\n",
              "      <td>3.19</td>\n",
              "      <td>0.40</td>\n",
              "      <td>9.9</td>\n",
              "      <td>6</td>\n",
              "    </tr>\n",
              "    <tr>\n",
              "      <th>4</th>\n",
              "      <td>7.2</td>\n",
              "      <td>0.23</td>\n",
              "      <td>0.32</td>\n",
              "      <td>8.5</td>\n",
              "      <td>0.058</td>\n",
              "      <td>47.0</td>\n",
              "      <td>186.0</td>\n",
              "      <td>0.9956</td>\n",
              "      <td>3.19</td>\n",
              "      <td>0.40</td>\n",
              "      <td>9.9</td>\n",
              "      <td>6</td>\n",
              "    </tr>\n",
              "  </tbody>\n",
              "</table>\n",
              "</div>"
            ],
            "text/plain": [
              "   fixed acidity  volatile acidity  citric acid  ...  sulphates  alcohol  quality\n",
              "0            7.0              0.27         0.36  ...       0.45      8.8        6\n",
              "1            6.3              0.30         0.34  ...       0.49      9.5        6\n",
              "2            8.1              0.28         0.40  ...       0.44     10.1        6\n",
              "3            7.2              0.23         0.32  ...       0.40      9.9        6\n",
              "4            7.2              0.23         0.32  ...       0.40      9.9        6\n",
              "\n",
              "[5 rows x 12 columns]"
            ]
          },
          "metadata": {
            "tags": []
          },
          "execution_count": 41
        }
      ]
    },
    {
      "cell_type": "code",
      "metadata": {
        "id": "meMZKDesqBi9",
        "outputId": "b8c0c467-22fe-4b96-8bcc-17b057255386",
        "colab": {
          "base_uri": "https://localhost:8080/",
          "height": 34
        }
      },
      "source": [
        "df.shape"
      ],
      "execution_count": 42,
      "outputs": [
        {
          "output_type": "execute_result",
          "data": {
            "text/plain": [
              "(4898, 12)"
            ]
          },
          "metadata": {
            "tags": []
          },
          "execution_count": 42
        }
      ]
    },
    {
      "cell_type": "code",
      "metadata": {
        "id": "Ml1jynccqDKb",
        "outputId": "579fe3c6-c3ca-4983-88a4-e6454b014a48",
        "colab": {
          "base_uri": "https://localhost:8080/",
          "height": 238
        }
      },
      "source": [
        "df.dtypes"
      ],
      "execution_count": 43,
      "outputs": [
        {
          "output_type": "execute_result",
          "data": {
            "text/plain": [
              "fixed acidity           float64\n",
              "volatile acidity        float64\n",
              "citric acid             float64\n",
              "residual sugar          float64\n",
              "chlorides               float64\n",
              "free sulfur dioxide     float64\n",
              "total sulfur dioxide    float64\n",
              "density                 float64\n",
              "pH                      float64\n",
              "sulphates               float64\n",
              "alcohol                 float64\n",
              "quality                   int64\n",
              "dtype: object"
            ]
          },
          "metadata": {
            "tags": []
          },
          "execution_count": 43
        }
      ]
    },
    {
      "cell_type": "code",
      "metadata": {
        "id": "TmnV9xWoqEU7",
        "outputId": "aa633ad3-bbc4-4746-c585-6a2038e67819",
        "colab": {
          "base_uri": "https://localhost:8080/",
          "height": 272
        }
      },
      "source": [
        "#Cek missing values\n",
        "print(df.isnull().sum())\n",
        "print('\\nTerdapat {} Missing Values pada Dataset'.format(df.isnull().sum().sum()))"
      ],
      "execution_count": 44,
      "outputs": [
        {
          "output_type": "stream",
          "text": [
            "fixed acidity           0\n",
            "volatile acidity        0\n",
            "citric acid             0\n",
            "residual sugar          0\n",
            "chlorides               0\n",
            "free sulfur dioxide     0\n",
            "total sulfur dioxide    0\n",
            "density                 0\n",
            "pH                      0\n",
            "sulphates               0\n",
            "alcohol                 0\n",
            "quality                 0\n",
            "dtype: int64\n",
            "\n",
            "Terdapat 0 Missing Values pada Dataset\n"
          ],
          "name": "stdout"
        }
      ]
    },
    {
      "cell_type": "code",
      "metadata": {
        "id": "3MMUeQZhqF8t",
        "outputId": "a9ba5b98-daa4-483b-ec4c-6f0b25e499ef",
        "colab": {
          "base_uri": "https://localhost:8080/",
          "height": 421
        }
      },
      "source": [
        "df.describe().T"
      ],
      "execution_count": 45,
      "outputs": [
        {
          "output_type": "execute_result",
          "data": {
            "text/html": [
              "<div>\n",
              "<style scoped>\n",
              "    .dataframe tbody tr th:only-of-type {\n",
              "        vertical-align: middle;\n",
              "    }\n",
              "\n",
              "    .dataframe tbody tr th {\n",
              "        vertical-align: top;\n",
              "    }\n",
              "\n",
              "    .dataframe thead th {\n",
              "        text-align: right;\n",
              "    }\n",
              "</style>\n",
              "<table border=\"1\" class=\"dataframe\">\n",
              "  <thead>\n",
              "    <tr style=\"text-align: right;\">\n",
              "      <th></th>\n",
              "      <th>count</th>\n",
              "      <th>mean</th>\n",
              "      <th>std</th>\n",
              "      <th>min</th>\n",
              "      <th>25%</th>\n",
              "      <th>50%</th>\n",
              "      <th>75%</th>\n",
              "      <th>max</th>\n",
              "    </tr>\n",
              "  </thead>\n",
              "  <tbody>\n",
              "    <tr>\n",
              "      <th>fixed acidity</th>\n",
              "      <td>4898.0</td>\n",
              "      <td>6.854788</td>\n",
              "      <td>0.843868</td>\n",
              "      <td>3.80000</td>\n",
              "      <td>6.300000</td>\n",
              "      <td>6.80000</td>\n",
              "      <td>7.3000</td>\n",
              "      <td>14.20000</td>\n",
              "    </tr>\n",
              "    <tr>\n",
              "      <th>volatile acidity</th>\n",
              "      <td>4898.0</td>\n",
              "      <td>0.278241</td>\n",
              "      <td>0.100795</td>\n",
              "      <td>0.08000</td>\n",
              "      <td>0.210000</td>\n",
              "      <td>0.26000</td>\n",
              "      <td>0.3200</td>\n",
              "      <td>1.10000</td>\n",
              "    </tr>\n",
              "    <tr>\n",
              "      <th>citric acid</th>\n",
              "      <td>4898.0</td>\n",
              "      <td>0.334192</td>\n",
              "      <td>0.121020</td>\n",
              "      <td>0.00000</td>\n",
              "      <td>0.270000</td>\n",
              "      <td>0.32000</td>\n",
              "      <td>0.3900</td>\n",
              "      <td>1.66000</td>\n",
              "    </tr>\n",
              "    <tr>\n",
              "      <th>residual sugar</th>\n",
              "      <td>4898.0</td>\n",
              "      <td>6.391415</td>\n",
              "      <td>5.072058</td>\n",
              "      <td>0.60000</td>\n",
              "      <td>1.700000</td>\n",
              "      <td>5.20000</td>\n",
              "      <td>9.9000</td>\n",
              "      <td>65.80000</td>\n",
              "    </tr>\n",
              "    <tr>\n",
              "      <th>chlorides</th>\n",
              "      <td>4898.0</td>\n",
              "      <td>0.045772</td>\n",
              "      <td>0.021848</td>\n",
              "      <td>0.00900</td>\n",
              "      <td>0.036000</td>\n",
              "      <td>0.04300</td>\n",
              "      <td>0.0500</td>\n",
              "      <td>0.34600</td>\n",
              "    </tr>\n",
              "    <tr>\n",
              "      <th>free sulfur dioxide</th>\n",
              "      <td>4898.0</td>\n",
              "      <td>35.308085</td>\n",
              "      <td>17.007137</td>\n",
              "      <td>2.00000</td>\n",
              "      <td>23.000000</td>\n",
              "      <td>34.00000</td>\n",
              "      <td>46.0000</td>\n",
              "      <td>289.00000</td>\n",
              "    </tr>\n",
              "    <tr>\n",
              "      <th>total sulfur dioxide</th>\n",
              "      <td>4898.0</td>\n",
              "      <td>138.360657</td>\n",
              "      <td>42.498065</td>\n",
              "      <td>9.00000</td>\n",
              "      <td>108.000000</td>\n",
              "      <td>134.00000</td>\n",
              "      <td>167.0000</td>\n",
              "      <td>440.00000</td>\n",
              "    </tr>\n",
              "    <tr>\n",
              "      <th>density</th>\n",
              "      <td>4898.0</td>\n",
              "      <td>0.994027</td>\n",
              "      <td>0.002991</td>\n",
              "      <td>0.98711</td>\n",
              "      <td>0.991723</td>\n",
              "      <td>0.99374</td>\n",
              "      <td>0.9961</td>\n",
              "      <td>1.03898</td>\n",
              "    </tr>\n",
              "    <tr>\n",
              "      <th>pH</th>\n",
              "      <td>4898.0</td>\n",
              "      <td>3.188267</td>\n",
              "      <td>0.151001</td>\n",
              "      <td>2.72000</td>\n",
              "      <td>3.090000</td>\n",
              "      <td>3.18000</td>\n",
              "      <td>3.2800</td>\n",
              "      <td>3.82000</td>\n",
              "    </tr>\n",
              "    <tr>\n",
              "      <th>sulphates</th>\n",
              "      <td>4898.0</td>\n",
              "      <td>0.489847</td>\n",
              "      <td>0.114126</td>\n",
              "      <td>0.22000</td>\n",
              "      <td>0.410000</td>\n",
              "      <td>0.47000</td>\n",
              "      <td>0.5500</td>\n",
              "      <td>1.08000</td>\n",
              "    </tr>\n",
              "    <tr>\n",
              "      <th>alcohol</th>\n",
              "      <td>4898.0</td>\n",
              "      <td>10.514267</td>\n",
              "      <td>1.230621</td>\n",
              "      <td>8.00000</td>\n",
              "      <td>9.500000</td>\n",
              "      <td>10.40000</td>\n",
              "      <td>11.4000</td>\n",
              "      <td>14.20000</td>\n",
              "    </tr>\n",
              "    <tr>\n",
              "      <th>quality</th>\n",
              "      <td>4898.0</td>\n",
              "      <td>5.877909</td>\n",
              "      <td>0.885639</td>\n",
              "      <td>3.00000</td>\n",
              "      <td>5.000000</td>\n",
              "      <td>6.00000</td>\n",
              "      <td>6.0000</td>\n",
              "      <td>9.00000</td>\n",
              "    </tr>\n",
              "  </tbody>\n",
              "</table>\n",
              "</div>"
            ],
            "text/plain": [
              "                       count        mean  ...       75%        max\n",
              "fixed acidity         4898.0    6.854788  ...    7.3000   14.20000\n",
              "volatile acidity      4898.0    0.278241  ...    0.3200    1.10000\n",
              "citric acid           4898.0    0.334192  ...    0.3900    1.66000\n",
              "residual sugar        4898.0    6.391415  ...    9.9000   65.80000\n",
              "chlorides             4898.0    0.045772  ...    0.0500    0.34600\n",
              "free sulfur dioxide   4898.0   35.308085  ...   46.0000  289.00000\n",
              "total sulfur dioxide  4898.0  138.360657  ...  167.0000  440.00000\n",
              "density               4898.0    0.994027  ...    0.9961    1.03898\n",
              "pH                    4898.0    3.188267  ...    3.2800    3.82000\n",
              "sulphates             4898.0    0.489847  ...    0.5500    1.08000\n",
              "alcohol               4898.0   10.514267  ...   11.4000   14.20000\n",
              "quality               4898.0    5.877909  ...    6.0000    9.00000\n",
              "\n",
              "[12 rows x 8 columns]"
            ]
          },
          "metadata": {
            "tags": []
          },
          "execution_count": 45
        }
      ]
    },
    {
      "cell_type": "code",
      "metadata": {
        "id": "ZxACfEtSqIac",
        "outputId": "1804e1f3-ed94-4c7f-983f-a5c6b40c6e9b",
        "colab": {
          "base_uri": "https://localhost:8080/",
          "height": 221
        }
      },
      "source": [
        "#Cek korelasi\n",
        "df.corr()['quality'][:-1]"
      ],
      "execution_count": 46,
      "outputs": [
        {
          "output_type": "execute_result",
          "data": {
            "text/plain": [
              "fixed acidity          -0.113663\n",
              "volatile acidity       -0.194723\n",
              "citric acid            -0.009209\n",
              "residual sugar         -0.097577\n",
              "chlorides              -0.209934\n",
              "free sulfur dioxide     0.008158\n",
              "total sulfur dioxide   -0.174737\n",
              "density                -0.307123\n",
              "pH                      0.099427\n",
              "sulphates               0.053678\n",
              "alcohol                 0.435575\n",
              "Name: quality, dtype: float64"
            ]
          },
          "metadata": {
            "tags": []
          },
          "execution_count": 46
        }
      ]
    },
    {
      "cell_type": "code",
      "metadata": {
        "id": "-bLpE81EqQKL",
        "outputId": "afbc56d0-fd37-4d11-92e4-74ba120196e8",
        "colab": {
          "base_uri": "https://localhost:8080/",
          "height": 1000
        }
      },
      "source": [
        "plt.figure(figsize=(20, 20))\n",
        "sns.heatmap(df.corr(), cbar=True, square=True, fmt='.2f', annot=True, annot_kws={'size':15}, cmap='Wistia')\n",
        "plt.title('Korelasi antar feature/atribut terhadap target', fontsize=15)\n",
        "plt.show()"
      ],
      "execution_count": 47,
      "outputs": [
        {
          "output_type": "display_data",
          "data": {
            "image/png": "[encoded data removed]",
            "text/plain": [
              "<Figure size 1440x1440 with 2 Axes>"
            ]
          },
          "metadata": {
            "tags": [],
            "needs_background": "light"
          }
        }
      ]
    },
    {
      "cell_type": "code",
      "metadata": {
        "id": "Qg0nL_wzqRS5",
        "outputId": "b984608c-47c5-410f-fb94-52e659a5450d",
        "colab": {
          "base_uri": "https://localhost:8080/",
          "height": 421
        }
      },
      "source": [
        "df.describe().T"
      ],
      "execution_count": 48,
      "outputs": [
        {
          "output_type": "execute_result",
          "data": {
            "text/html": [
              "<div>\n",
              "<style scoped>\n",
              "    .dataframe tbody tr th:only-of-type {\n",
              "        vertical-align: middle;\n",
              "    }\n",
              "\n",
              "    .dataframe tbody tr th {\n",
              "        vertical-align: top;\n",
              "    }\n",
              "\n",
              "    .dataframe thead th {\n",
              "        text-align: right;\n",
              "    }\n",
              "</style>\n",
              "<table border=\"1\" class=\"dataframe\">\n",
              "  <thead>\n",
              "    <tr style=\"text-align: right;\">\n",
              "      <th></th>\n",
              "      <th>count</th>\n",
              "      <th>mean</th>\n",
              "      <th>std</th>\n",
              "      <th>min</th>\n",
              "      <th>25%</th>\n",
              "      <th>50%</th>\n",
              "      <th>75%</th>\n",
              "      <th>max</th>\n",
              "    </tr>\n",
              "  </thead>\n",
              "  <tbody>\n",
              "    <tr>\n",
              "      <th>fixed acidity</th>\n",
              "      <td>4898.0</td>\n",
              "      <td>6.854788</td>\n",
              "      <td>0.843868</td>\n",
              "      <td>3.80000</td>\n",
              "      <td>6.300000</td>\n",
              "      <td>6.80000</td>\n",
              "      <td>7.3000</td>\n",
              "      <td>14.20000</td>\n",
              "    </tr>\n",
              "    <tr>\n",
              "      <th>volatile acidity</th>\n",
              "      <td>4898.0</td>\n",
              "      <td>0.278241</td>\n",
              "      <td>0.100795</td>\n",
              "      <td>0.08000</td>\n",
              "      <td>0.210000</td>\n",
              "      <td>0.26000</td>\n",
              "      <td>0.3200</td>\n",
              "      <td>1.10000</td>\n",
              "    </tr>\n",
              "    <tr>\n",
              "      <th>citric acid</th>\n",
              "      <td>4898.0</td>\n",
              "      <td>0.334192</td>\n",
              "      <td>0.121020</td>\n",
              "      <td>0.00000</td>\n",
              "      <td>0.270000</td>\n",
              "      <td>0.32000</td>\n",
              "      <td>0.3900</td>\n",
              "      <td>1.66000</td>\n",
              "    </tr>\n",
              "    <tr>\n",
              "      <th>residual sugar</th>\n",
              "      <td>4898.0</td>\n",
              "      <td>6.391415</td>\n",
              "      <td>5.072058</td>\n",
              "      <td>0.60000</td>\n",
              "      <td>1.700000</td>\n",
              "      <td>5.20000</td>\n",
              "      <td>9.9000</td>\n",
              "      <td>65.80000</td>\n",
              "    </tr>\n",
              "    <tr>\n",
              "      <th>chlorides</th>\n",
              "      <td>4898.0</td>\n",
              "      <td>0.045772</td>\n",
              "      <td>0.021848</td>\n",
              "      <td>0.00900</td>\n",
              "      <td>0.036000</td>\n",
              "      <td>0.04300</td>\n",
              "      <td>0.0500</td>\n",
              "      <td>0.34600</td>\n",
              "    </tr>\n",
              "    <tr>\n",
              "      <th>free sulfur dioxide</th>\n",
              "      <td>4898.0</td>\n",
              "      <td>35.308085</td>\n",
              "      <td>17.007137</td>\n",
              "      <td>2.00000</td>\n",
              "      <td>23.000000</td>\n",
              "      <td>34.00000</td>\n",
              "      <td>46.0000</td>\n",
              "      <td>289.00000</td>\n",
              "    </tr>\n",
              "    <tr>\n",
              "      <th>total sulfur dioxide</th>\n",
              "      <td>4898.0</td>\n",
              "      <td>138.360657</td>\n",
              "      <td>42.498065</td>\n",
              "      <td>9.00000</td>\n",
              "      <td>108.000000</td>\n",
              "      <td>134.00000</td>\n",
              "      <td>167.0000</td>\n",
              "      <td>440.00000</td>\n",
              "    </tr>\n",
              "    <tr>\n",
              "      <th>density</th>\n",
              "      <td>4898.0</td>\n",
              "      <td>0.994027</td>\n",
              "      <td>0.002991</td>\n",
              "      <td>0.98711</td>\n",
              "      <td>0.991723</td>\n",
              "      <td>0.99374</td>\n",
              "      <td>0.9961</td>\n",
              "      <td>1.03898</td>\n",
              "    </tr>\n",
              "    <tr>\n",
              "      <th>pH</th>\n",
              "      <td>4898.0</td>\n",
              "      <td>3.188267</td>\n",
              "      <td>0.151001</td>\n",
              "      <td>2.72000</td>\n",
              "      <td>3.090000</td>\n",
              "      <td>3.18000</td>\n",
              "      <td>3.2800</td>\n",
              "      <td>3.82000</td>\n",
              "    </tr>\n",
              "    <tr>\n",
              "      <th>sulphates</th>\n",
              "      <td>4898.0</td>\n",
              "      <td>0.489847</td>\n",
              "      <td>0.114126</td>\n",
              "      <td>0.22000</td>\n",
              "      <td>0.410000</td>\n",
              "      <td>0.47000</td>\n",
              "      <td>0.5500</td>\n",
              "      <td>1.08000</td>\n",
              "    </tr>\n",
              "    <tr>\n",
              "      <th>alcohol</th>\n",
              "      <td>4898.0</td>\n",
              "      <td>10.514267</td>\n",
              "      <td>1.230621</td>\n",
              "      <td>8.00000</td>\n",
              "      <td>9.500000</td>\n",
              "      <td>10.40000</td>\n",
              "      <td>11.4000</td>\n",
              "      <td>14.20000</td>\n",
              "    </tr>\n",
              "    <tr>\n",
              "      <th>quality</th>\n",
              "      <td>4898.0</td>\n",
              "      <td>5.877909</td>\n",
              "      <td>0.885639</td>\n",
              "      <td>3.00000</td>\n",
              "      <td>5.000000</td>\n",
              "      <td>6.00000</td>\n",
              "      <td>6.0000</td>\n",
              "      <td>9.00000</td>\n",
              "    </tr>\n",
              "  </tbody>\n",
              "</table>\n",
              "</div>"
            ],
            "text/plain": [
              "                       count        mean  ...       75%        max\n",
              "fixed acidity         4898.0    6.854788  ...    7.3000   14.20000\n",
              "volatile acidity      4898.0    0.278241  ...    0.3200    1.10000\n",
              "citric acid           4898.0    0.334192  ...    0.3900    1.66000\n",
              "residual sugar        4898.0    6.391415  ...    9.9000   65.80000\n",
              "chlorides             4898.0    0.045772  ...    0.0500    0.34600\n",
              "free sulfur dioxide   4898.0   35.308085  ...   46.0000  289.00000\n",
              "total sulfur dioxide  4898.0  138.360657  ...  167.0000  440.00000\n",
              "density               4898.0    0.994027  ...    0.9961    1.03898\n",
              "pH                    4898.0    3.188267  ...    3.2800    3.82000\n",
              "sulphates             4898.0    0.489847  ...    0.5500    1.08000\n",
              "alcohol               4898.0   10.514267  ...   11.4000   14.20000\n",
              "quality               4898.0    5.877909  ...    6.0000    9.00000\n",
              "\n",
              "[12 rows x 8 columns]"
            ]
          },
          "metadata": {
            "tags": []
          },
          "execution_count": 48
        }
      ]
    },
    {
      "cell_type": "markdown",
      "metadata": {
        "id": "sAH7Yqo32WNb"
      },
      "source": [
        "**Binning**"
      ]
    },
    {
      "cell_type": "code",
      "metadata": {
        "id": "8oA9UH8mqVWr",
        "outputId": "6ec515fb-3afd-4041-e8d2-77ee40ddbd2f",
        "colab": {
          "base_uri": "https://localhost:8080/",
          "height": 34
        }
      },
      "source": [
        "print(min(df['quality']), max(df['quality']))"
      ],
      "execution_count": 49,
      "outputs": [
        {
          "output_type": "stream",
          "text": [
            "3 9\n"
          ],
          "name": "stdout"
        }
      ]
    },
    {
      "cell_type": "code",
      "metadata": {
        "id": "W4BRty42qYG4",
        "outputId": "a596d7b9-6037-4a46-dc3c-b119fadc7b1c",
        "colab": {
          "base_uri": "https://localhost:8080/",
          "height": 34
        }
      },
      "source": [
        "bins = np.linspace(min(df['quality']), max(df['quality']), 3)\n",
        "bins"
      ],
      "execution_count": 50,
      "outputs": [
        {
          "output_type": "execute_result",
          "data": {
            "text/plain": [
              "array([3., 6., 9.])"
            ]
          },
          "metadata": {
            "tags": []
          },
          "execution_count": 50
        }
      ]
    },
    {
      "cell_type": "code",
      "metadata": {
        "id": "WBkRoDUvqZMv",
        "outputId": "50128521-0849-492c-997e-55ecc5afbac1",
        "colab": {
          "base_uri": "https://localhost:8080/",
          "height": 221
        }
      },
      "source": [
        "qual_names = ['bad', 'good']\n",
        "df['quality_categories'] = pd.cut(df['quality'], bins, labels=qual_names, include_lowest=True)\n",
        "df.head()"
      ],
      "execution_count": 51,
      "outputs": [
        {
          "output_type": "execute_result",
          "data": {
            "text/html": [
              "<div>\n",
              "<style scoped>\n",
              "    .dataframe tbody tr th:only-of-type {\n",
              "        vertical-align: middle;\n",
              "    }\n",
              "\n",
              "    .dataframe tbody tr th {\n",
              "        vertical-align: top;\n",
              "    }\n",
              "\n",
              "    .dataframe thead th {\n",
              "        text-align: right;\n",
              "    }\n",
              "</style>\n",
              "<table border=\"1\" class=\"dataframe\">\n",
              "  <thead>\n",
              "    <tr style=\"text-align: right;\">\n",
              "      <th></th>\n",
              "      <th>fixed acidity</th>\n",
              "      <th>volatile acidity</th>\n",
              "      <th>citric acid</th>\n",
              "      <th>residual sugar</th>\n",
              "      <th>chlorides</th>\n",
              "      <th>free sulfur dioxide</th>\n",
              "      <th>total sulfur dioxide</th>\n",
              "      <th>density</th>\n",
              "      <th>pH</th>\n",
              "      <th>sulphates</th>\n",
              "      <th>alcohol</th>\n",
              "      <th>quality</th>\n",
              "      <th>quality_categories</th>\n",
              "    </tr>\n",
              "  </thead>\n",
              "  <tbody>\n",
              "    <tr>\n",
              "      <th>0</th>\n",
              "      <td>7.0</td>\n",
              "      <td>0.27</td>\n",
              "      <td>0.36</td>\n",
              "      <td>20.7</td>\n",
              "      <td>0.045</td>\n",
              "      <td>45.0</td>\n",
              "      <td>170.0</td>\n",
              "      <td>1.0010</td>\n",
              "      <td>3.00</td>\n",
              "      <td>0.45</td>\n",
              "      <td>8.8</td>\n",
              "      <td>6</td>\n",
              "      <td>bad</td>\n",
              "    </tr>\n",
              "    <tr>\n",
              "      <th>1</th>\n",
              "      <td>6.3</td>\n",
              "      <td>0.30</td>\n",
              "      <td>0.34</td>\n",
              "      <td>1.6</td>\n",
              "      <td>0.049</td>\n",
              "      <td>14.0</td>\n",
              "      <td>132.0</td>\n",
              "      <td>0.9940</td>\n",
              "      <td>3.30</td>\n",
              "      <td>0.49</td>\n",
              "      <td>9.5</td>\n",
              "      <td>6</td>\n",
              "      <td>bad</td>\n",
              "    </tr>\n",
              "    <tr>\n",
              "      <th>2</th>\n",
              "      <td>8.1</td>\n",
              "      <td>0.28</td>\n",
              "      <td>0.40</td>\n",
              "      <td>6.9</td>\n",
              "      <td>0.050</td>\n",
              "      <td>30.0</td>\n",
              "      <td>97.0</td>\n",
              "      <td>0.9951</td>\n",
              "      <td>3.26</td>\n",
              "      <td>0.44</td>\n",
              "      <td>10.1</td>\n",
              "      <td>6</td>\n",
              "      <td>bad</td>\n",
              "    </tr>\n",
              "    <tr>\n",
              "      <th>3</th>\n",
              "      <td>7.2</td>\n",
              "      <td>0.23</td>\n",
              "      <td>0.32</td>\n",
              "      <td>8.5</td>\n",
              "      <td>0.058</td>\n",
              "      <td>47.0</td>\n",
              "      <td>186.0</td>\n",
              "      <td>0.9956</td>\n",
              "      <td>3.19</td>\n",
              "      <td>0.40</td>\n",
              "      <td>9.9</td>\n",
              "      <td>6</td>\n",
              "      <td>bad</td>\n",
              "    </tr>\n",
              "    <tr>\n",
              "      <th>4</th>\n",
              "      <td>7.2</td>\n",
              "      <td>0.23</td>\n",
              "      <td>0.32</td>\n",
              "      <td>8.5</td>\n",
              "      <td>0.058</td>\n",
              "      <td>47.0</td>\n",
              "      <td>186.0</td>\n",
              "      <td>0.9956</td>\n",
              "      <td>3.19</td>\n",
              "      <td>0.40</td>\n",
              "      <td>9.9</td>\n",
              "      <td>6</td>\n",
              "      <td>bad</td>\n",
              "    </tr>\n",
              "  </tbody>\n",
              "</table>\n",
              "</div>"
            ],
            "text/plain": [
              "   fixed acidity  volatile acidity  ...  quality  quality_categories\n",
              "0            7.0              0.27  ...        6                 bad\n",
              "1            6.3              0.30  ...        6                 bad\n",
              "2            8.1              0.28  ...        6                 bad\n",
              "3            7.2              0.23  ...        6                 bad\n",
              "4            7.2              0.23  ...        6                 bad\n",
              "\n",
              "[5 rows x 13 columns]"
            ]
          },
          "metadata": {
            "tags": []
          },
          "execution_count": 51
        }
      ]
    },
    {
      "cell_type": "markdown",
      "metadata": {
        "id": "nn5Vi-5H2YsV"
      },
      "source": [
        "**Label Encoding**"
      ]
    },
    {
      "cell_type": "code",
      "metadata": {
        "id": "XrcBTZ91qaqe"
      },
      "source": [
        "from sklearn.preprocessing import LabelEncoder"
      ],
      "execution_count": 52,
      "outputs": []
    },
    {
      "cell_type": "code",
      "metadata": {
        "id": "k-P8_0kUqdrG"
      },
      "source": [
        "label_encode = LabelEncoder()\n",
        "df['quality_categories'] = label_encode.fit_transform(df['quality_categories'])"
      ],
      "execution_count": 53,
      "outputs": []
    },
    {
      "cell_type": "code",
      "metadata": {
        "id": "_3chyAD8qgZq",
        "outputId": "c1b765ab-f627-48b5-ebf2-4f594f640ee6",
        "colab": {
          "base_uri": "https://localhost:8080/",
          "height": 422
        }
      },
      "source": [
        "print(df['quality_categories'].value_counts(), '\\n')\n",
        "sns.countplot(df['quality_categories'])"
      ],
      "execution_count": 54,
      "outputs": [
        {
          "output_type": "stream",
          "text": [
            "0    3838\n",
            "1    1060\n",
            "Name: quality_categories, dtype: int64 \n",
            "\n"
          ],
          "name": "stdout"
        },
        {
          "output_type": "stream",
          "text": [
            "/usr/local/lib/python3.6/dist-packages/seaborn/_decorators.py:43: FutureWarning: Pass the following variable as a keyword arg: x. From version 0.12, the only valid positional argument will be `data`, and passing other arguments without an explicit keyword will result in an error or misinterpretation.\n",
            "  FutureWarning\n"
          ],
          "name": "stderr"
        },
        {
          "output_type": "execute_result",
          "data": {
            "text/plain": [
              "<matplotlib.axes._subplots.AxesSubplot at 0x7f4dc077cb00>"
            ]
          },
          "metadata": {
            "tags": []
          },
          "execution_count": 54
        },
        {
          "output_type": "display_data",
          "data": {
            "image/png": "[encoded data removed]",
            "text/plain": [
              "<Figure size 432x288 with 1 Axes>"
            ]
          },
          "metadata": {
            "tags": [],
            "needs_background": "light"
          }
        }
      ]
    },
    {
      "cell_type": "code",
      "metadata": {
        "id": "4nBS5VXCrtAC",
        "outputId": "8cc44760-007f-4b91-d17a-159fbfe62579",
        "colab": {
          "base_uri": "https://localhost:8080/",
          "height": 34
        }
      },
      "source": [
        "df.shape"
      ],
      "execution_count": 55,
      "outputs": [
        {
          "output_type": "execute_result",
          "data": {
            "text/plain": [
              "(4898, 13)"
            ]
          },
          "metadata": {
            "tags": []
          },
          "execution_count": 55
        }
      ]
    },
    {
      "cell_type": "code",
      "metadata": {
        "id": "WhLGNrGart7l"
      },
      "source": [
        "df.drop(['quality'], axis=1, inplace=True)"
      ],
      "execution_count": 56,
      "outputs": []
    },
    {
      "cell_type": "markdown",
      "metadata": {
        "id": "tHaaO-Ql2bPB"
      },
      "source": [
        "**Dataset Splitting**"
      ]
    },
    {
      "cell_type": "code",
      "metadata": {
        "id": "L69hZc6Vrv_U"
      },
      "source": [
        "X = df.drop(['quality_categories'], axis=1)\n",
        "y = df['quality_categories']"
      ],
      "execution_count": 57,
      "outputs": []
    },
    {
      "cell_type": "code",
      "metadata": {
        "id": "UsRVu42Fryxs",
        "outputId": "0a4d5941-9d15-470d-f578-f0a203d53873",
        "colab": {
          "base_uri": "https://localhost:8080/",
          "height": 34
        }
      },
      "source": [
        "from sklearn.model_selection import train_test_split\n",
        "X_train, X_test, y_train, y_test = train_test_split(X, y, test_size=0.20, random_state=10)\n",
        "X_train.shape, X_test.shape, y_train.shape, y_test.shape"
      ],
      "execution_count": 58,
      "outputs": [
        {
          "output_type": "execute_result",
          "data": {
            "text/plain": [
              "((3918, 11), (980, 11), (3918,), (980,))"
            ]
          },
          "metadata": {
            "tags": []
          },
          "execution_count": 58
        }
      ]
    },
    {
      "cell_type": "markdown",
      "metadata": {
        "id": "qSbV3IM32eEB"
      },
      "source": [
        "## **Deep learning Model**"
      ]
    },
    {
      "cell_type": "code",
      "metadata": {
        "id": "UxTrBxUysGyo"
      },
      "source": [
        "from tensorflow.keras.models import Sequential\n",
        "from tensorflow.keras.layers import Dense"
      ],
      "execution_count": 59,
      "outputs": []
    },
    {
      "cell_type": "code",
      "metadata": {
        "id": "tfkpar6LskF7"
      },
      "source": [
        "def plot_loss_new(history):\n",
        "  history_df = pd.DataFrame(history.history)\n",
        "\n",
        "  min_loss_index = history_df[history_df['loss']==min(history_df['loss'])].index.values\n",
        "  min_loss = history_df.loc[min_loss_index]['loss']\n",
        "  min_val_loss_index = history_df[history_df['val_loss']==min(history_df['val_loss'])].index.values\n",
        "  min_val_loss = history_df.loc[min_val_loss_index]['val_loss']\n",
        "\n",
        "  plt.plot(history.history['loss'], label='loss')\n",
        "  plt.plot(history.history['val_loss'], label='val_loss')\n",
        "  plt.plot(min_loss_index, min_loss, 'o', c='k', ms=4, label='min loss')\n",
        "  plt.plot(min_val_loss_index, min_val_loss, 'o', c='k', ms=4, label='min val_loss')\n",
        "  plt.xlabel('Epoch')\n",
        "  plt.ylabel('Loss')\n",
        "  plt.legend()\n",
        "  plt.grid(True)\n",
        "  plt.show()\n",
        "\n",
        "  print('Minimum Loss             :', min_loss)\n",
        "  print()\n",
        "  print('Minimum Validation Loss  :', min_val_loss)"
      ],
      "execution_count": 60,
      "outputs": []
    },
    {
      "cell_type": "markdown",
      "metadata": {
        "id": "TpcS96X62hXu"
      },
      "source": [
        "**Baseline Model**"
      ]
    },
    {
      "cell_type": "code",
      "metadata": {
        "id": "SPmM1NIDr2yM"
      },
      "source": [
        "model = Sequential()\n",
        "model.add(Dense(11, input_dim=11, kernel_initializer='normal', activation='relu')) #memakai 11 neuron\n",
        "model.add(Dense(1, kernel_initializer='normal')) #1 neuron karena hanya ada 2 kelas\n",
        "\n",
        "model.compile(loss='binary_crossentropy', optimizer='adam', metrics=['accuracy'])"
      ],
      "execution_count": 61,
      "outputs": []
    },
    {
      "cell_type": "code",
      "metadata": {
        "id": "-LjHwxQ6sb0D",
        "outputId": "a06faa44-8f99-4f52-b209-4595504be35f",
        "colab": {
          "base_uri": "https://localhost:8080/",
          "height": 221
        }
      },
      "source": [
        "model.summary()"
      ],
      "execution_count": 62,
      "outputs": [
        {
          "output_type": "stream",
          "text": [
            "Model: \"sequential_3\"\n",
            "_________________________________________________________________\n",
            "Layer (type)                 Output Shape              Param #   \n",
            "=================================================================\n",
            "dense_7 (Dense)              (None, 11)                132       \n",
            "_________________________________________________________________\n",
            "dense_8 (Dense)              (None, 1)                 12        \n",
            "=================================================================\n",
            "Total params: 144\n",
            "Trainable params: 144\n",
            "Non-trainable params: 0\n",
            "_________________________________________________________________\n"
          ],
          "name": "stdout"
        }
      ]
    },
    {
      "cell_type": "code",
      "metadata": {
        "id": "ZE93N4lUsWsy",
        "outputId": "92488abe-74d5-44b2-e030-93bcd4851ebf",
        "colab": {
          "base_uri": "https://localhost:8080/",
          "height": 1000
        }
      },
      "source": [
        "history = model.fit(x=X_train, y=y_train, validation_data=(X_test, y_test), epochs=100, batch_size=32)"
      ],
      "execution_count": 63,
      "outputs": [
        {
          "output_type": "stream",
          "text": [
            "Epoch 1/100\n",
            "123/123 [==============================] - 0s 3ms/step - loss: 0.5613 - accuracy: 0.7769 - val_loss: 0.5293 - val_accuracy: 0.7765\n",
            "Epoch 2/100\n",
            "123/123 [==============================] - 0s 1ms/step - loss: 0.5072 - accuracy: 0.7848 - val_loss: 0.4970 - val_accuracy: 0.7765\n",
            "Epoch 3/100\n",
            "123/123 [==============================] - 0s 1ms/step - loss: 0.4895 - accuracy: 0.7859 - val_loss: 0.4865 - val_accuracy: 0.7765\n",
            "Epoch 4/100\n",
            "123/123 [==============================] - 0s 1ms/step - loss: 0.4844 - accuracy: 0.7853 - val_loss: 0.4932 - val_accuracy: 0.7776\n",
            "Epoch 5/100\n",
            "123/123 [==============================] - 0s 2ms/step - loss: 0.5043 - accuracy: 0.7787 - val_loss: 0.4989 - val_accuracy: 0.7765\n",
            "Epoch 6/100\n",
            "123/123 [==============================] - 0s 1ms/step - loss: 0.4835 - accuracy: 0.7851 - val_loss: 0.4882 - val_accuracy: 0.7765\n",
            "Epoch 7/100\n",
            "123/123 [==============================] - 0s 1ms/step - loss: 0.4767 - accuracy: 0.7848 - val_loss: 0.4742 - val_accuracy: 0.7776\n",
            "Epoch 8/100\n",
            "123/123 [==============================] - 0s 1ms/step - loss: 0.4749 - accuracy: 0.7853 - val_loss: 0.4756 - val_accuracy: 0.7765\n",
            "Epoch 9/100\n",
            "123/123 [==============================] - 0s 1ms/step - loss: 0.4750 - accuracy: 0.7841 - val_loss: 0.4759 - val_accuracy: 0.7806\n",
            "Epoch 10/100\n",
            "123/123 [==============================] - 0s 1ms/step - loss: 0.4930 - accuracy: 0.7843 - val_loss: 0.5254 - val_accuracy: 0.7765\n",
            "Epoch 11/100\n",
            "123/123 [==============================] - 0s 2ms/step - loss: 0.4876 - accuracy: 0.7831 - val_loss: 0.4839 - val_accuracy: 0.7776\n",
            "Epoch 12/100\n",
            "123/123 [==============================] - 0s 2ms/step - loss: 0.4813 - accuracy: 0.7841 - val_loss: 0.4821 - val_accuracy: 0.7776\n",
            "Epoch 13/100\n",
            "123/123 [==============================] - 0s 1ms/step - loss: 0.4760 - accuracy: 0.7836 - val_loss: 0.4802 - val_accuracy: 0.7806\n",
            "Epoch 14/100\n",
            "123/123 [==============================] - 0s 1ms/step - loss: 0.4750 - accuracy: 0.7856 - val_loss: 0.4767 - val_accuracy: 0.7796\n",
            "Epoch 15/100\n",
            "123/123 [==============================] - 0s 1ms/step - loss: 0.4751 - accuracy: 0.7843 - val_loss: 0.4770 - val_accuracy: 0.7776\n",
            "Epoch 16/100\n",
            "123/123 [==============================] - 0s 1ms/step - loss: 0.4719 - accuracy: 0.7846 - val_loss: 0.4673 - val_accuracy: 0.7796\n",
            "Epoch 17/100\n",
            "123/123 [==============================] - 0s 1ms/step - loss: 0.4667 - accuracy: 0.7846 - val_loss: 0.4732 - val_accuracy: 0.7806\n",
            "Epoch 18/100\n",
            "123/123 [==============================] - 0s 1ms/step - loss: 0.4684 - accuracy: 0.7859 - val_loss: 0.4662 - val_accuracy: 0.7837\n",
            "Epoch 19/100\n",
            "123/123 [==============================] - 0s 1ms/step - loss: 0.4667 - accuracy: 0.7843 - val_loss: 0.4688 - val_accuracy: 0.7827\n",
            "Epoch 20/100\n",
            "123/123 [==============================] - 0s 1ms/step - loss: 0.4657 - accuracy: 0.7869 - val_loss: 0.4666 - val_accuracy: 0.7857\n",
            "Epoch 21/100\n",
            "123/123 [==============================] - 0s 1ms/step - loss: 0.4676 - accuracy: 0.7838 - val_loss: 0.4722 - val_accuracy: 0.7765\n",
            "Epoch 22/100\n",
            "123/123 [==============================] - 0s 1ms/step - loss: 0.4624 - accuracy: 0.7861 - val_loss: 0.4606 - val_accuracy: 0.7827\n",
            "Epoch 23/100\n",
            "123/123 [==============================] - 0s 1ms/step - loss: 0.4567 - accuracy: 0.7889 - val_loss: 0.4557 - val_accuracy: 0.7837\n",
            "Epoch 24/100\n",
            "123/123 [==============================] - 0s 1ms/step - loss: 0.4580 - accuracy: 0.7871 - val_loss: 0.4645 - val_accuracy: 0.7847\n",
            "Epoch 25/100\n",
            "123/123 [==============================] - 0s 1ms/step - loss: 0.4649 - accuracy: 0.7859 - val_loss: 0.4663 - val_accuracy: 0.7765\n",
            "Epoch 26/100\n",
            "123/123 [==============================] - 0s 1ms/step - loss: 0.4540 - accuracy: 0.7899 - val_loss: 0.4827 - val_accuracy: 0.7857\n",
            "Epoch 27/100\n",
            "123/123 [==============================] - 0s 2ms/step - loss: 0.4594 - accuracy: 0.7869 - val_loss: 0.4704 - val_accuracy: 0.7857\n",
            "Epoch 28/100\n",
            "123/123 [==============================] - 0s 1ms/step - loss: 0.4571 - accuracy: 0.7897 - val_loss: 0.4758 - val_accuracy: 0.7786\n",
            "Epoch 29/100\n",
            "123/123 [==============================] - 0s 1ms/step - loss: 0.4485 - accuracy: 0.7889 - val_loss: 0.4466 - val_accuracy: 0.7847\n",
            "Epoch 30/100\n",
            "123/123 [==============================] - 0s 1ms/step - loss: 0.4635 - accuracy: 0.7894 - val_loss: 0.4553 - val_accuracy: 0.7827\n",
            "Epoch 31/100\n",
            "123/123 [==============================] - 0s 1ms/step - loss: 0.7653 - accuracy: 0.7289 - val_loss: 0.4915 - val_accuracy: 0.7765\n",
            "Epoch 32/100\n",
            "123/123 [==============================] - 0s 1ms/step - loss: 0.4678 - accuracy: 0.7859 - val_loss: 0.4739 - val_accuracy: 0.7765\n",
            "Epoch 33/100\n",
            "123/123 [==============================] - 0s 1ms/step - loss: 0.4607 - accuracy: 0.7864 - val_loss: 0.4667 - val_accuracy: 0.7765\n",
            "Epoch 34/100\n",
            "123/123 [==============================] - 0s 2ms/step - loss: 0.4594 - accuracy: 0.7861 - val_loss: 0.4651 - val_accuracy: 0.7776\n",
            "Epoch 35/100\n",
            "123/123 [==============================] - 0s 1ms/step - loss: 0.4543 - accuracy: 0.7861 - val_loss: 0.4571 - val_accuracy: 0.7786\n",
            "Epoch 36/100\n",
            "123/123 [==============================] - 0s 1ms/step - loss: 0.4571 - accuracy: 0.7889 - val_loss: 0.4742 - val_accuracy: 0.7816\n",
            "Epoch 37/100\n",
            "123/123 [==============================] - 0s 1ms/step - loss: 0.4580 - accuracy: 0.7876 - val_loss: 0.4671 - val_accuracy: 0.7816\n",
            "Epoch 38/100\n",
            "123/123 [==============================] - 0s 1ms/step - loss: 0.4554 - accuracy: 0.7887 - val_loss: 0.4647 - val_accuracy: 0.7806\n",
            "Epoch 39/100\n",
            "123/123 [==============================] - 0s 1ms/step - loss: 0.4525 - accuracy: 0.7887 - val_loss: 0.4594 - val_accuracy: 0.7857\n",
            "Epoch 40/100\n",
            "123/123 [==============================] - 0s 1ms/step - loss: 0.4511 - accuracy: 0.7902 - val_loss: 0.4571 - val_accuracy: 0.7867\n",
            "Epoch 41/100\n",
            "123/123 [==============================] - 0s 1ms/step - loss: 0.4489 - accuracy: 0.7894 - val_loss: 0.4567 - val_accuracy: 0.7837\n",
            "Epoch 42/100\n",
            "123/123 [==============================] - 0s 1ms/step - loss: 0.4459 - accuracy: 0.7897 - val_loss: 0.4474 - val_accuracy: 0.7827\n",
            "Epoch 43/100\n",
            "123/123 [==============================] - 0s 1ms/step - loss: 0.4444 - accuracy: 0.7905 - val_loss: 0.4763 - val_accuracy: 0.7847\n",
            "Epoch 44/100\n",
            "123/123 [==============================] - 0s 2ms/step - loss: 0.4505 - accuracy: 0.7920 - val_loss: 0.4524 - val_accuracy: 0.7847\n",
            "Epoch 45/100\n",
            "123/123 [==============================] - 0s 2ms/step - loss: 0.4423 - accuracy: 0.7925 - val_loss: 0.4564 - val_accuracy: 0.7816\n",
            "Epoch 46/100\n",
            "123/123 [==============================] - 0s 2ms/step - loss: 0.4739 - accuracy: 0.7892 - val_loss: 0.4565 - val_accuracy: 0.7867\n",
            "Epoch 47/100\n",
            "123/123 [==============================] - 0s 2ms/step - loss: 0.4472 - accuracy: 0.7910 - val_loss: 0.4558 - val_accuracy: 0.7847\n",
            "Epoch 48/100\n",
            "123/123 [==============================] - 0s 2ms/step - loss: 0.4447 - accuracy: 0.7915 - val_loss: 0.4499 - val_accuracy: 0.7898\n",
            "Epoch 49/100\n",
            "123/123 [==============================] - 0s 2ms/step - loss: 0.4452 - accuracy: 0.7922 - val_loss: 0.4486 - val_accuracy: 0.7898\n",
            "Epoch 50/100\n",
            "123/123 [==============================] - 0s 2ms/step - loss: 0.4441 - accuracy: 0.7915 - val_loss: 0.4564 - val_accuracy: 0.7837\n",
            "Epoch 51/100\n",
            "123/123 [==============================] - 0s 2ms/step - loss: 0.4439 - accuracy: 0.7933 - val_loss: 0.4492 - val_accuracy: 0.7878\n",
            "Epoch 52/100\n",
            "123/123 [==============================] - 0s 2ms/step - loss: 0.4428 - accuracy: 0.7938 - val_loss: 0.4489 - val_accuracy: 0.7878\n",
            "Epoch 53/100\n",
            "123/123 [==============================] - 0s 2ms/step - loss: 0.4481 - accuracy: 0.7943 - val_loss: 0.4463 - val_accuracy: 0.7878\n",
            "Epoch 54/100\n",
            "123/123 [==============================] - 0s 2ms/step - loss: 0.4433 - accuracy: 0.7938 - val_loss: 0.4526 - val_accuracy: 0.7867\n",
            "Epoch 55/100\n",
            "123/123 [==============================] - 0s 2ms/step - loss: 0.4515 - accuracy: 0.7930 - val_loss: 0.4458 - val_accuracy: 0.7939\n",
            "Epoch 56/100\n",
            "123/123 [==============================] - 0s 2ms/step - loss: 0.4425 - accuracy: 0.7961 - val_loss: 0.4447 - val_accuracy: 0.7939\n",
            "Epoch 57/100\n",
            "123/123 [==============================] - 0s 2ms/step - loss: 0.4481 - accuracy: 0.7940 - val_loss: 0.4438 - val_accuracy: 0.7929\n",
            "Epoch 58/100\n",
            "123/123 [==============================] - 0s 2ms/step - loss: 0.4452 - accuracy: 0.7956 - val_loss: 0.4548 - val_accuracy: 0.7867\n",
            "Epoch 59/100\n",
            "123/123 [==============================] - 0s 2ms/step - loss: 0.4416 - accuracy: 0.7961 - val_loss: 0.4462 - val_accuracy: 0.7929\n",
            "Epoch 60/100\n",
            "123/123 [==============================] - 0s 2ms/step - loss: 0.6682 - accuracy: 0.7481 - val_loss: 0.6856 - val_accuracy: 0.7857\n",
            "Epoch 61/100\n",
            "123/123 [==============================] - 0s 2ms/step - loss: 0.5568 - accuracy: 0.7958 - val_loss: 0.4782 - val_accuracy: 0.7867\n",
            "Epoch 62/100\n",
            "123/123 [==============================] - 0s 2ms/step - loss: 0.4583 - accuracy: 0.7869 - val_loss: 0.4575 - val_accuracy: 0.7765\n",
            "Epoch 63/100\n",
            "123/123 [==============================] - 0s 2ms/step - loss: 0.4472 - accuracy: 0.7859 - val_loss: 0.4535 - val_accuracy: 0.7776\n",
            "Epoch 64/100\n",
            "123/123 [==============================] - 0s 2ms/step - loss: 0.4443 - accuracy: 0.7871 - val_loss: 0.4503 - val_accuracy: 0.7816\n",
            "Epoch 65/100\n",
            "123/123 [==============================] - 0s 2ms/step - loss: 0.4431 - accuracy: 0.7892 - val_loss: 0.4483 - val_accuracy: 0.7806\n",
            "Epoch 66/100\n",
            "123/123 [==============================] - 0s 2ms/step - loss: 0.4415 - accuracy: 0.7912 - val_loss: 0.4509 - val_accuracy: 0.7796\n",
            "Epoch 67/100\n",
            "123/123 [==============================] - 0s 2ms/step - loss: 0.4402 - accuracy: 0.7938 - val_loss: 0.4462 - val_accuracy: 0.7857\n",
            "Epoch 68/100\n",
            "123/123 [==============================] - 0s 2ms/step - loss: 0.4399 - accuracy: 0.7928 - val_loss: 0.4449 - val_accuracy: 0.7878\n",
            "Epoch 69/100\n",
            "123/123 [==============================] - 0s 2ms/step - loss: 0.4394 - accuracy: 0.7966 - val_loss: 0.4432 - val_accuracy: 0.7918\n",
            "Epoch 70/100\n",
            "123/123 [==============================] - 0s 2ms/step - loss: 0.4429 - accuracy: 0.7953 - val_loss: 0.4478 - val_accuracy: 0.7898\n",
            "Epoch 71/100\n",
            "123/123 [==============================] - 0s 2ms/step - loss: 0.4408 - accuracy: 0.7956 - val_loss: 0.4453 - val_accuracy: 0.7888\n",
            "Epoch 72/100\n",
            "123/123 [==============================] - 0s 2ms/step - loss: 0.4385 - accuracy: 0.7966 - val_loss: 0.4440 - val_accuracy: 0.7918\n",
            "Epoch 73/100\n",
            "123/123 [==============================] - 0s 1ms/step - loss: 0.4413 - accuracy: 0.7963 - val_loss: 0.4434 - val_accuracy: 0.7867\n",
            "Epoch 74/100\n",
            "123/123 [==============================] - 0s 1ms/step - loss: 0.4412 - accuracy: 0.7920 - val_loss: 0.4878 - val_accuracy: 0.7898\n",
            "Epoch 75/100\n",
            "123/123 [==============================] - 0s 1ms/step - loss: 0.4492 - accuracy: 0.7928 - val_loss: 0.4490 - val_accuracy: 0.7857\n",
            "Epoch 76/100\n",
            "123/123 [==============================] - 0s 1ms/step - loss: 0.4403 - accuracy: 0.7907 - val_loss: 0.4430 - val_accuracy: 0.7898\n",
            "Epoch 77/100\n",
            "123/123 [==============================] - 0s 1ms/step - loss: 0.4390 - accuracy: 0.7958 - val_loss: 0.4489 - val_accuracy: 0.7878\n",
            "Epoch 78/100\n",
            "123/123 [==============================] - 0s 2ms/step - loss: 0.4374 - accuracy: 0.7976 - val_loss: 0.4444 - val_accuracy: 0.7888\n",
            "Epoch 79/100\n",
            "123/123 [==============================] - 0s 1ms/step - loss: 0.4442 - accuracy: 0.7984 - val_loss: 0.4426 - val_accuracy: 0.7867\n",
            "Epoch 80/100\n",
            "123/123 [==============================] - 0s 1ms/step - loss: 0.4439 - accuracy: 0.7907 - val_loss: 0.4922 - val_accuracy: 0.7765\n",
            "Epoch 81/100\n",
            "123/123 [==============================] - 0s 1ms/step - loss: 0.4400 - accuracy: 0.7956 - val_loss: 0.4390 - val_accuracy: 0.7878\n",
            "Epoch 82/100\n",
            "123/123 [==============================] - 0s 1ms/step - loss: 0.4600 - accuracy: 0.7905 - val_loss: 0.4550 - val_accuracy: 0.7857\n",
            "Epoch 83/100\n",
            "123/123 [==============================] - 0s 1ms/step - loss: 0.4356 - accuracy: 0.7961 - val_loss: 0.4452 - val_accuracy: 0.7867\n",
            "Epoch 84/100\n",
            "123/123 [==============================] - 0s 2ms/step - loss: 0.4413 - accuracy: 0.7981 - val_loss: 0.4415 - val_accuracy: 0.7847\n",
            "Epoch 85/100\n",
            "123/123 [==============================] - 0s 1ms/step - loss: 0.4446 - accuracy: 0.7953 - val_loss: 0.4482 - val_accuracy: 0.7847\n",
            "Epoch 86/100\n",
            "123/123 [==============================] - 0s 1ms/step - loss: 0.4482 - accuracy: 0.7953 - val_loss: 0.4852 - val_accuracy: 0.7888\n",
            "Epoch 87/100\n",
            "123/123 [==============================] - 0s 1ms/step - loss: 0.4545 - accuracy: 0.7899 - val_loss: 0.4569 - val_accuracy: 0.7827\n",
            "Epoch 88/100\n",
            "123/123 [==============================] - 0s 1ms/step - loss: 0.4380 - accuracy: 0.7989 - val_loss: 0.4390 - val_accuracy: 0.7888\n",
            "Epoch 89/100\n",
            "123/123 [==============================] - 0s 1ms/step - loss: 0.4357 - accuracy: 0.7938 - val_loss: 0.4382 - val_accuracy: 0.7857\n",
            "Epoch 90/100\n",
            "123/123 [==============================] - 0s 1ms/step - loss: 0.4413 - accuracy: 0.7981 - val_loss: 0.4350 - val_accuracy: 0.7878\n",
            "Epoch 91/100\n",
            "123/123 [==============================] - 0s 1ms/step - loss: 0.4344 - accuracy: 0.7986 - val_loss: 0.4334 - val_accuracy: 0.7888\n",
            "Epoch 92/100\n",
            "123/123 [==============================] - 0s 1ms/step - loss: 0.4337 - accuracy: 0.7938 - val_loss: 0.4506 - val_accuracy: 0.7827\n",
            "Epoch 93/100\n",
            "123/123 [==============================] - 0s 1ms/step - loss: 0.4395 - accuracy: 0.7961 - val_loss: 0.4331 - val_accuracy: 0.7837\n",
            "Epoch 94/100\n",
            "123/123 [==============================] - 0s 1ms/step - loss: 0.4372 - accuracy: 0.7943 - val_loss: 0.4437 - val_accuracy: 0.7867\n",
            "Epoch 95/100\n",
            "123/123 [==============================] - 0s 1ms/step - loss: 0.4548 - accuracy: 0.7971 - val_loss: 0.4847 - val_accuracy: 0.7888\n",
            "Epoch 96/100\n",
            "123/123 [==============================] - 0s 1ms/step - loss: 0.4449 - accuracy: 0.7956 - val_loss: 0.4445 - val_accuracy: 0.7857\n",
            "Epoch 97/100\n",
            "123/123 [==============================] - 0s 1ms/step - loss: 0.4438 - accuracy: 0.7940 - val_loss: 0.4363 - val_accuracy: 0.7888\n",
            "Epoch 98/100\n",
            "123/123 [==============================] - 0s 1ms/step - loss: 0.4339 - accuracy: 0.7948 - val_loss: 0.4356 - val_accuracy: 0.7847\n",
            "Epoch 99/100\n",
            "123/123 [==============================] - 0s 1ms/step - loss: 0.4333 - accuracy: 0.7986 - val_loss: 0.4385 - val_accuracy: 0.7878\n",
            "Epoch 100/100\n",
            "123/123 [==============================] - 0s 1ms/step - loss: 0.4603 - accuracy: 0.7912 - val_loss: 0.4531 - val_accuracy: 0.7857\n"
          ],
          "name": "stdout"
        }
      ]
    },
    {
      "cell_type": "code",
      "metadata": {
        "id": "QtL_plVqsdLT",
        "outputId": "77fe3736-e95a-4cce-fc13-c782afcefa14",
        "colab": {
          "base_uri": "https://localhost:8080/",
          "height": 364
        }
      },
      "source": [
        "plot_loss_new(history)"
      ],
      "execution_count": 64,
      "outputs": [
        {
          "output_type": "display_data",
          "data": {
            "image/png": "[encoded data removed]",
            "text/plain": [
              "<Figure size 432x288 with 1 Axes>"
            ]
          },
          "metadata": {
            "tags": [],
            "needs_background": "light"
          }
        },
        {
          "output_type": "stream",
          "text": [
            "Minimum Loss             : 98    0.433329\n",
            "Name: loss, dtype: float64\n",
            "\n",
            "Minimum Validation Loss  : 92    0.43312\n",
            "Name: val_loss, dtype: float64\n"
          ],
          "name": "stdout"
        }
      ]
    },
    {
      "cell_type": "markdown",
      "metadata": {
        "id": "o6EeBzQo2vTs"
      },
      "source": [
        "Model tidak overfit, walaupun masih terjadi peningkatan dan penurunan nilai loss dan val_loss. Val_loss minimum ada di epoch 92 dengan nilai 0.433132 dengan val_accuracy 0.7837"
      ]
    },
    {
      "cell_type": "markdown",
      "metadata": {
        "id": "sozbJD4A2k7v"
      },
      "source": [
        "**Deeper Model**"
      ]
    },
    {
      "cell_type": "code",
      "metadata": {
        "id": "xpOKuBNcsmYz"
      },
      "source": [
        "deep = Sequential()\n",
        "deep.add(Dense(11, input_dim=11, kernel_initializer='normal', activation='relu'))\n",
        "deep.add(Dense(6, kernel_initializer='normal', activation='relu'))\n",
        "deep.add(Dense(1, kernel_initializer='normal'))\n",
        "\n",
        "deep.compile(loss='binary_crossentropy', optimizer='adam', metrics=['accuracy'])"
      ],
      "execution_count": 65,
      "outputs": []
    },
    {
      "cell_type": "code",
      "metadata": {
        "id": "BTq07-YHs35-",
        "outputId": "2e311cc0-609a-489e-abdd-a29ad05cad5b",
        "colab": {
          "base_uri": "https://localhost:8080/",
          "height": 255
        }
      },
      "source": [
        "deep.summary()"
      ],
      "execution_count": 66,
      "outputs": [
        {
          "output_type": "stream",
          "text": [
            "Model: \"sequential_4\"\n",
            "_________________________________________________________________\n",
            "Layer (type)                 Output Shape              Param #   \n",
            "=================================================================\n",
            "dense_9 (Dense)              (None, 11)                132       \n",
            "_________________________________________________________________\n",
            "dense_10 (Dense)             (None, 6)                 72        \n",
            "_________________________________________________________________\n",
            "dense_11 (Dense)             (None, 1)                 7         \n",
            "=================================================================\n",
            "Total params: 211\n",
            "Trainable params: 211\n",
            "Non-trainable params: 0\n",
            "_________________________________________________________________\n"
          ],
          "name": "stdout"
        }
      ]
    },
    {
      "cell_type": "code",
      "metadata": {
        "id": "cKAMe8QZs5iT",
        "outputId": "932c6480-1ae3-4015-88dc-914d1de17c8c",
        "colab": {
          "base_uri": "https://localhost:8080/",
          "height": 1000
        }
      },
      "source": [
        "history_deep = deep.fit(x=X_train, y=y_train, validation_data=(X_test, y_test), epochs=100, batch_size=32)"
      ],
      "execution_count": 67,
      "outputs": [
        {
          "output_type": "stream",
          "text": [
            "Epoch 1/100\n",
            "123/123 [==============================] - 0s 3ms/step - loss: 3.3110 - accuracy: 0.7853 - val_loss: 3.4470 - val_accuracy: 0.7765\n",
            "Epoch 2/100\n",
            "123/123 [==============================] - 0s 1ms/step - loss: 3.3110 - accuracy: 0.7853 - val_loss: 3.4470 - val_accuracy: 0.7765\n",
            "Epoch 3/100\n",
            "123/123 [==============================] - 0s 1ms/step - loss: 3.3110 - accuracy: 0.7853 - val_loss: 3.4470 - val_accuracy: 0.7765\n",
            "Epoch 4/100\n",
            "123/123 [==============================] - 0s 1ms/step - loss: 3.3110 - accuracy: 0.7853 - val_loss: 3.4470 - val_accuracy: 0.7765\n",
            "Epoch 5/100\n",
            "123/123 [==============================] - 0s 2ms/step - loss: 3.3110 - accuracy: 0.7853 - val_loss: 3.4470 - val_accuracy: 0.7765\n",
            "Epoch 6/100\n",
            "123/123 [==============================] - 0s 1ms/step - loss: 3.3110 - accuracy: 0.7853 - val_loss: 3.4470 - val_accuracy: 0.7765\n",
            "Epoch 7/100\n",
            "123/123 [==============================] - 0s 1ms/step - loss: 3.3110 - accuracy: 0.7853 - val_loss: 3.4470 - val_accuracy: 0.7765\n",
            "Epoch 8/100\n",
            "123/123 [==============================] - 0s 1ms/step - loss: 3.3110 - accuracy: 0.7853 - val_loss: 3.4470 - val_accuracy: 0.7765\n",
            "Epoch 9/100\n",
            "123/123 [==============================] - 0s 1ms/step - loss: 3.3110 - accuracy: 0.7853 - val_loss: 3.4470 - val_accuracy: 0.7765\n",
            "Epoch 10/100\n",
            "123/123 [==============================] - 0s 1ms/step - loss: 3.3110 - accuracy: 0.7853 - val_loss: 3.4470 - val_accuracy: 0.7765\n",
            "Epoch 11/100\n",
            "123/123 [==============================] - 0s 1ms/step - loss: 3.3110 - accuracy: 0.7853 - val_loss: 3.4470 - val_accuracy: 0.7765\n",
            "Epoch 12/100\n",
            "123/123 [==============================] - 0s 1ms/step - loss: 3.3110 - accuracy: 0.7853 - val_loss: 3.4470 - val_accuracy: 0.7765\n",
            "Epoch 13/100\n",
            "123/123 [==============================] - 0s 1ms/step - loss: 3.3110 - accuracy: 0.7853 - val_loss: 3.4470 - val_accuracy: 0.7765\n",
            "Epoch 14/100\n",
            "123/123 [==============================] - 0s 2ms/step - loss: 3.3110 - accuracy: 0.7853 - val_loss: 3.4470 - val_accuracy: 0.7765\n",
            "Epoch 15/100\n",
            "123/123 [==============================] - 0s 1ms/step - loss: 3.3110 - accuracy: 0.7853 - val_loss: 3.4470 - val_accuracy: 0.7765\n",
            "Epoch 16/100\n",
            "123/123 [==============================] - 0s 1ms/step - loss: 3.3110 - accuracy: 0.7853 - val_loss: 3.4470 - val_accuracy: 0.7765\n",
            "Epoch 17/100\n",
            "123/123 [==============================] - 0s 2ms/step - loss: 3.3110 - accuracy: 0.7853 - val_loss: 3.4470 - val_accuracy: 0.7765\n",
            "Epoch 18/100\n",
            "123/123 [==============================] - 0s 2ms/step - loss: 3.3110 - accuracy: 0.7853 - val_loss: 3.4470 - val_accuracy: 0.7765\n",
            "Epoch 19/100\n",
            "123/123 [==============================] - 0s 2ms/step - loss: 3.3110 - accuracy: 0.7853 - val_loss: 3.4470 - val_accuracy: 0.7765\n",
            "Epoch 20/100\n",
            "123/123 [==============================] - 0s 1ms/step - loss: 3.3110 - accuracy: 0.7853 - val_loss: 3.4470 - val_accuracy: 0.7765\n",
            "Epoch 21/100\n",
            "123/123 [==============================] - 0s 1ms/step - loss: 3.3110 - accuracy: 0.7853 - val_loss: 3.4470 - val_accuracy: 0.7765\n",
            "Epoch 22/100\n",
            "123/123 [==============================] - 0s 1ms/step - loss: 3.3110 - accuracy: 0.7853 - val_loss: 3.4470 - val_accuracy: 0.7765\n",
            "Epoch 23/100\n",
            "123/123 [==============================] - 0s 1ms/step - loss: 3.3110 - accuracy: 0.7853 - val_loss: 3.4470 - val_accuracy: 0.7765\n",
            "Epoch 24/100\n",
            "123/123 [==============================] - 0s 1ms/step - loss: 3.3110 - accuracy: 0.7853 - val_loss: 3.4470 - val_accuracy: 0.7765\n",
            "Epoch 25/100\n",
            "123/123 [==============================] - 0s 1ms/step - loss: 3.3110 - accuracy: 0.7853 - val_loss: 3.4470 - val_accuracy: 0.7765\n",
            "Epoch 26/100\n",
            "123/123 [==============================] - 0s 1ms/step - loss: 3.3110 - accuracy: 0.7853 - val_loss: 3.4470 - val_accuracy: 0.7765\n",
            "Epoch 27/100\n",
            "123/123 [==============================] - 0s 1ms/step - loss: 3.3110 - accuracy: 0.7853 - val_loss: 3.4470 - val_accuracy: 0.7765\n",
            "Epoch 28/100\n",
            "123/123 [==============================] - 0s 2ms/step - loss: 3.3110 - accuracy: 0.7853 - val_loss: 3.4470 - val_accuracy: 0.7765\n",
            "Epoch 29/100\n",
            "123/123 [==============================] - 0s 1ms/step - loss: 3.3110 - accuracy: 0.7853 - val_loss: 3.4470 - val_accuracy: 0.7765\n",
            "Epoch 30/100\n",
            "123/123 [==============================] - 0s 2ms/step - loss: 3.3110 - accuracy: 0.7853 - val_loss: 3.4470 - val_accuracy: 0.7765\n",
            "Epoch 31/100\n",
            "123/123 [==============================] - 0s 1ms/step - loss: 3.3110 - accuracy: 0.7853 - val_loss: 3.4470 - val_accuracy: 0.7765\n",
            "Epoch 32/100\n",
            "123/123 [==============================] - 0s 1ms/step - loss: 3.3110 - accuracy: 0.7853 - val_loss: 3.4470 - val_accuracy: 0.7765\n",
            "Epoch 33/100\n",
            "123/123 [==============================] - 0s 1ms/step - loss: 3.3110 - accuracy: 0.7853 - val_loss: 3.4470 - val_accuracy: 0.7765\n",
            "Epoch 34/100\n",
            "123/123 [==============================] - 0s 2ms/step - loss: 3.3110 - accuracy: 0.7853 - val_loss: 3.4470 - val_accuracy: 0.7765\n",
            "Epoch 35/100\n",
            "123/123 [==============================] - 0s 1ms/step - loss: 3.3110 - accuracy: 0.7853 - val_loss: 3.4470 - val_accuracy: 0.7765\n",
            "Epoch 36/100\n",
            "123/123 [==============================] - 0s 1ms/step - loss: 3.3110 - accuracy: 0.7853 - val_loss: 3.4470 - val_accuracy: 0.7765\n",
            "Epoch 37/100\n",
            "123/123 [==============================] - 0s 1ms/step - loss: 3.3110 - accuracy: 0.7853 - val_loss: 3.4470 - val_accuracy: 0.7765\n",
            "Epoch 38/100\n",
            "123/123 [==============================] - 0s 1ms/step - loss: 3.3110 - accuracy: 0.7853 - val_loss: 3.4470 - val_accuracy: 0.7765\n",
            "Epoch 39/100\n",
            "123/123 [==============================] - 0s 2ms/step - loss: 3.3110 - accuracy: 0.7853 - val_loss: 3.4470 - val_accuracy: 0.7765\n",
            "Epoch 40/100\n",
            "123/123 [==============================] - 0s 1ms/step - loss: 3.3110 - accuracy: 0.7853 - val_loss: 3.4470 - val_accuracy: 0.7765\n",
            "Epoch 41/100\n",
            "123/123 [==============================] - 0s 2ms/step - loss: 3.3110 - accuracy: 0.7853 - val_loss: 3.4470 - val_accuracy: 0.7765\n",
            "Epoch 42/100\n",
            "123/123 [==============================] - 0s 1ms/step - loss: 3.3110 - accuracy: 0.7853 - val_loss: 3.4470 - val_accuracy: 0.7765\n",
            "Epoch 43/100\n",
            "123/123 [==============================] - 0s 2ms/step - loss: 3.3110 - accuracy: 0.7853 - val_loss: 3.4470 - val_accuracy: 0.7765\n",
            "Epoch 44/100\n",
            "123/123 [==============================] - 0s 2ms/step - loss: 3.3110 - accuracy: 0.7853 - val_loss: 3.4470 - val_accuracy: 0.7765\n",
            "Epoch 45/100\n",
            "123/123 [==============================] - 0s 1ms/step - loss: 3.3110 - accuracy: 0.7853 - val_loss: 3.4470 - val_accuracy: 0.7765\n",
            "Epoch 46/100\n",
            "123/123 [==============================] - 0s 1ms/step - loss: 3.3110 - accuracy: 0.7853 - val_loss: 3.4470 - val_accuracy: 0.7765\n",
            "Epoch 47/100\n",
            "123/123 [==============================] - 0s 1ms/step - loss: 3.3110 - accuracy: 0.7853 - val_loss: 3.4470 - val_accuracy: 0.7765\n",
            "Epoch 48/100\n",
            "123/123 [==============================] - 0s 1ms/step - loss: 3.3110 - accuracy: 0.7853 - val_loss: 3.4470 - val_accuracy: 0.7765\n",
            "Epoch 49/100\n",
            "123/123 [==============================] - 0s 1ms/step - loss: 3.3110 - accuracy: 0.7853 - val_loss: 3.4470 - val_accuracy: 0.7765\n",
            "Epoch 50/100\n",
            "123/123 [==============================] - 0s 1ms/step - loss: 3.3110 - accuracy: 0.7853 - val_loss: 3.4470 - val_accuracy: 0.7765\n",
            "Epoch 51/100\n",
            "123/123 [==============================] - 0s 1ms/step - loss: 3.3110 - accuracy: 0.7853 - val_loss: 3.4470 - val_accuracy: 0.7765\n",
            "Epoch 52/100\n",
            "123/123 [==============================] - 0s 1ms/step - loss: 3.3110 - accuracy: 0.7853 - val_loss: 3.4470 - val_accuracy: 0.7765\n",
            "Epoch 53/100\n",
            "123/123 [==============================] - 0s 1ms/step - loss: 3.3110 - accuracy: 0.7853 - val_loss: 3.4470 - val_accuracy: 0.7765\n",
            "Epoch 54/100\n",
            "123/123 [==============================] - 0s 1ms/step - loss: 3.3110 - accuracy: 0.7853 - val_loss: 3.4470 - val_accuracy: 0.7765\n",
            "Epoch 55/100\n",
            "123/123 [==============================] - 0s 1ms/step - loss: 3.3110 - accuracy: 0.7853 - val_loss: 3.4470 - val_accuracy: 0.7765\n",
            "Epoch 56/100\n",
            "123/123 [==============================] - 0s 2ms/step - loss: 3.3110 - accuracy: 0.7853 - val_loss: 3.4470 - val_accuracy: 0.7765\n",
            "Epoch 57/100\n",
            "123/123 [==============================] - 0s 1ms/step - loss: 3.3110 - accuracy: 0.7853 - val_loss: 3.4470 - val_accuracy: 0.7765\n",
            "Epoch 58/100\n",
            "123/123 [==============================] - 0s 1ms/step - loss: 3.3110 - accuracy: 0.7853 - val_loss: 3.4470 - val_accuracy: 0.7765\n",
            "Epoch 59/100\n",
            "123/123 [==============================] - 0s 1ms/step - loss: 3.3110 - accuracy: 0.7853 - val_loss: 3.4470 - val_accuracy: 0.7765\n",
            "Epoch 60/100\n",
            "123/123 [==============================] - 0s 1ms/step - loss: 3.3110 - accuracy: 0.7853 - val_loss: 3.4470 - val_accuracy: 0.7765\n",
            "Epoch 61/100\n",
            "123/123 [==============================] - 0s 1ms/step - loss: 3.3110 - accuracy: 0.7853 - val_loss: 3.4470 - val_accuracy: 0.7765\n",
            "Epoch 62/100\n",
            "123/123 [==============================] - 0s 1ms/step - loss: 3.3110 - accuracy: 0.7853 - val_loss: 3.4470 - val_accuracy: 0.7765\n",
            "Epoch 63/100\n",
            "123/123 [==============================] - 0s 1ms/step - loss: 3.3110 - accuracy: 0.7853 - val_loss: 3.4470 - val_accuracy: 0.7765\n",
            "Epoch 64/100\n",
            "123/123 [==============================] - 0s 1ms/step - loss: 3.3110 - accuracy: 0.7853 - val_loss: 3.4470 - val_accuracy: 0.7765\n",
            "Epoch 65/100\n",
            "123/123 [==============================] - 0s 2ms/step - loss: 3.3110 - accuracy: 0.7853 - val_loss: 3.4470 - val_accuracy: 0.7765\n",
            "Epoch 66/100\n",
            "123/123 [==============================] - 0s 1ms/step - loss: 3.3110 - accuracy: 0.7853 - val_loss: 3.4470 - val_accuracy: 0.7765\n",
            "Epoch 67/100\n",
            "123/123 [==============================] - 0s 1ms/step - loss: 3.3110 - accuracy: 0.7853 - val_loss: 3.4470 - val_accuracy: 0.7765\n",
            "Epoch 68/100\n",
            "123/123 [==============================] - 0s 2ms/step - loss: 3.3110 - accuracy: 0.7853 - val_loss: 3.4470 - val_accuracy: 0.7765\n",
            "Epoch 69/100\n",
            "123/123 [==============================] - 0s 1ms/step - loss: 3.3110 - accuracy: 0.7853 - val_loss: 3.4470 - val_accuracy: 0.7765\n",
            "Epoch 70/100\n",
            "123/123 [==============================] - 0s 1ms/step - loss: 3.3110 - accuracy: 0.7853 - val_loss: 3.4470 - val_accuracy: 0.7765\n",
            "Epoch 71/100\n",
            "123/123 [==============================] - 0s 1ms/step - loss: 3.3110 - accuracy: 0.7853 - val_loss: 3.4470 - val_accuracy: 0.7765\n",
            "Epoch 72/100\n",
            "123/123 [==============================] - 0s 1ms/step - loss: 3.3110 - accuracy: 0.7853 - val_loss: 3.4470 - val_accuracy: 0.7765\n",
            "Epoch 73/100\n",
            "123/123 [==============================] - 0s 1ms/step - loss: 3.3110 - accuracy: 0.7853 - val_loss: 3.4470 - val_accuracy: 0.7765\n",
            "Epoch 74/100\n",
            "123/123 [==============================] - 0s 1ms/step - loss: 3.3110 - accuracy: 0.7853 - val_loss: 3.4470 - val_accuracy: 0.7765\n",
            "Epoch 75/100\n",
            "123/123 [==============================] - 0s 1ms/step - loss: 3.3110 - accuracy: 0.7853 - val_loss: 3.4470 - val_accuracy: 0.7765\n",
            "Epoch 76/100\n",
            "123/123 [==============================] - 0s 1ms/step - loss: 3.3110 - accuracy: 0.7853 - val_loss: 3.4470 - val_accuracy: 0.7765\n",
            "Epoch 77/100\n",
            "123/123 [==============================] - 0s 2ms/step - loss: 3.3110 - accuracy: 0.7853 - val_loss: 3.4470 - val_accuracy: 0.7765\n",
            "Epoch 78/100\n",
            "123/123 [==============================] - 0s 1ms/step - loss: 3.3110 - accuracy: 0.7853 - val_loss: 3.4470 - val_accuracy: 0.7765\n",
            "Epoch 79/100\n",
            "123/123 [==============================] - 0s 1ms/step - loss: 3.3110 - accuracy: 0.7853 - val_loss: 3.4470 - val_accuracy: 0.7765\n",
            "Epoch 80/100\n",
            "123/123 [==============================] - 0s 1ms/step - loss: 3.3110 - accuracy: 0.7853 - val_loss: 3.4470 - val_accuracy: 0.7765\n",
            "Epoch 81/100\n",
            "123/123 [==============================] - 0s 1ms/step - loss: 3.3110 - accuracy: 0.7853 - val_loss: 3.4470 - val_accuracy: 0.7765\n",
            "Epoch 82/100\n",
            "123/123 [==============================] - 0s 1ms/step - loss: 3.3110 - accuracy: 0.7853 - val_loss: 3.4470 - val_accuracy: 0.7765\n",
            "Epoch 83/100\n",
            "123/123 [==============================] - 0s 1ms/step - loss: 3.3110 - accuracy: 0.7853 - val_loss: 3.4470 - val_accuracy: 0.7765\n",
            "Epoch 84/100\n",
            "123/123 [==============================] - 0s 1ms/step - loss: 3.3110 - accuracy: 0.7853 - val_loss: 3.4470 - val_accuracy: 0.7765\n",
            "Epoch 85/100\n",
            "123/123 [==============================] - 0s 1ms/step - loss: 3.3110 - accuracy: 0.7853 - val_loss: 3.4470 - val_accuracy: 0.7765\n",
            "Epoch 86/100\n",
            "123/123 [==============================] - 0s 1ms/step - loss: 3.3110 - accuracy: 0.7853 - val_loss: 3.4470 - val_accuracy: 0.7765\n",
            "Epoch 87/100\n",
            "123/123 [==============================] - 0s 1ms/step - loss: 3.3110 - accuracy: 0.7853 - val_loss: 3.4470 - val_accuracy: 0.7765\n",
            "Epoch 88/100\n",
            "123/123 [==============================] - 0s 2ms/step - loss: 3.3110 - accuracy: 0.7853 - val_loss: 3.4470 - val_accuracy: 0.7765\n",
            "Epoch 89/100\n",
            "123/123 [==============================] - 0s 1ms/step - loss: 3.3110 - accuracy: 0.7853 - val_loss: 3.4470 - val_accuracy: 0.7765\n",
            "Epoch 90/100\n",
            "123/123 [==============================] - 0s 1ms/step - loss: 3.3110 - accuracy: 0.7853 - val_loss: 3.4470 - val_accuracy: 0.7765\n",
            "Epoch 91/100\n",
            "123/123 [==============================] - 0s 1ms/step - loss: 3.3110 - accuracy: 0.7853 - val_loss: 3.4470 - val_accuracy: 0.7765\n",
            "Epoch 92/100\n",
            "123/123 [==============================] - 0s 1ms/step - loss: 3.3110 - accuracy: 0.7853 - val_loss: 3.4470 - val_accuracy: 0.7765\n",
            "Epoch 93/100\n",
            "123/123 [==============================] - 0s 2ms/step - loss: 3.3110 - accuracy: 0.7853 - val_loss: 3.4470 - val_accuracy: 0.7765\n",
            "Epoch 94/100\n",
            "123/123 [==============================] - 0s 1ms/step - loss: 3.3110 - accuracy: 0.7853 - val_loss: 3.4470 - val_accuracy: 0.7765\n",
            "Epoch 95/100\n",
            "123/123 [==============================] - 0s 1ms/step - loss: 3.3110 - accuracy: 0.7853 - val_loss: 3.4470 - val_accuracy: 0.7765\n",
            "Epoch 96/100\n",
            "123/123 [==============================] - 0s 1ms/step - loss: 3.3110 - accuracy: 0.7853 - val_loss: 3.4470 - val_accuracy: 0.7765\n",
            "Epoch 97/100\n",
            "123/123 [==============================] - 0s 2ms/step - loss: 3.3110 - accuracy: 0.7853 - val_loss: 3.4470 - val_accuracy: 0.7765\n",
            "Epoch 98/100\n",
            "123/123 [==============================] - 0s 1ms/step - loss: 3.3110 - accuracy: 0.7853 - val_loss: 3.4470 - val_accuracy: 0.7765\n",
            "Epoch 99/100\n",
            "123/123 [==============================] - 0s 2ms/step - loss: 3.3110 - accuracy: 0.7853 - val_loss: 3.4470 - val_accuracy: 0.7765\n",
            "Epoch 100/100\n",
            "123/123 [==============================] - 0s 1ms/step - loss: 3.3110 - accuracy: 0.7853 - val_loss: 3.4470 - val_accuracy: 0.7765\n"
          ],
          "name": "stdout"
        }
      ]
    },
    {
      "cell_type": "code",
      "metadata": {
        "id": "XgGhk2MVs9HY"
      },
      "source": [
        "predict_deep = deep.predict(X_test)\n",
        "\n",
        "predict_deep = predict_deep.flatten()"
      ],
      "execution_count": 68,
      "outputs": []
    },
    {
      "cell_type": "code",
      "metadata": {
        "id": "tFbFiM3DtlX7",
        "outputId": "131c3535-7f81-459e-ecf9-4e666db13605",
        "colab": {
          "base_uri": "https://localhost:8080/",
          "height": 551
        }
      },
      "source": [
        "plot_loss_new(history_deep)"
      ],
      "execution_count": 69,
      "outputs": [
        {
          "output_type": "display_data",
          "data": {
            "image/png": "[encoded data removed]",
            "text/plain": [
              "<Figure size 432x288 with 1 Axes>"
            ]
          },
          "metadata": {
            "tags": [],
            "needs_background": "light"
          }
        },
        {
          "output_type": "stream",
          "text": [
            "Minimum Loss             : 10    3.310969\n",
            "26    3.310969\n",
            "Name: loss, dtype: float64\n",
            "\n",
            "Minimum Validation Loss  : 0     3.447004\n",
            "1     3.447004\n",
            "2     3.447004\n",
            "3     3.447004\n",
            "4     3.447004\n",
            "        ...   \n",
            "95    3.447004\n",
            "96    3.447004\n",
            "97    3.447004\n",
            "98    3.447004\n",
            "99    3.447004\n",
            "Name: val_loss, Length: 100, dtype: float64\n"
          ],
          "name": "stdout"
        }
      ]
    },
    {
      "cell_type": "markdown",
      "metadata": {
        "id": "7PBtlwiJ9USB"
      },
      "source": [
        "Model overfit, nilai val_loss 3.447004 dengan val_accuracy 0.7765"
      ]
    },
    {
      "cell_type": "markdown",
      "metadata": {
        "id": "dcWK1h888erH"
      },
      "source": [
        "**Wider Model**"
      ]
    },
    {
      "cell_type": "code",
      "metadata": {
        "id": "RfIEMaYEtJ70"
      },
      "source": [
        "wider = Sequential()\n",
        "wider.add(Dense(20, input_dim=11, kernel_initializer='normal', activation='relu'))\n",
        "wider.add(Dense(1, kernel_initializer='normal'))\n",
        "\n",
        "wider.compile(loss='binary_crossentropy', optimizer='adam', metrics=['accuracy'])"
      ],
      "execution_count": 70,
      "outputs": []
    },
    {
      "cell_type": "code",
      "metadata": {
        "id": "vvVf_Z5EtQLp",
        "outputId": "d6209d97-26d5-46c2-dcad-59f24963c849",
        "colab": {
          "base_uri": "https://localhost:8080/",
          "height": 221
        }
      },
      "source": [
        "wider.summary()"
      ],
      "execution_count": 71,
      "outputs": [
        {
          "output_type": "stream",
          "text": [
            "Model: \"sequential_5\"\n",
            "_________________________________________________________________\n",
            "Layer (type)                 Output Shape              Param #   \n",
            "=================================================================\n",
            "dense_12 (Dense)             (None, 20)                240       \n",
            "_________________________________________________________________\n",
            "dense_13 (Dense)             (None, 1)                 21        \n",
            "=================================================================\n",
            "Total params: 261\n",
            "Trainable params: 261\n",
            "Non-trainable params: 0\n",
            "_________________________________________________________________\n"
          ],
          "name": "stdout"
        }
      ]
    },
    {
      "cell_type": "code",
      "metadata": {
        "id": "EBCjL8m1tSZW",
        "outputId": "c9c5dbd8-1f8b-4e58-956c-82ff9670a503",
        "colab": {
          "base_uri": "https://localhost:8080/",
          "height": 1000
        }
      },
      "source": [
        "history_wide = wider.fit(x=X_train, y=y_train, validation_data=(X_test, y_test), epochs=100, batch_size=32)"
      ],
      "execution_count": 72,
      "outputs": [
        {
          "output_type": "stream",
          "text": [
            "Epoch 1/100\n",
            "123/123 [==============================] - 0s 4ms/step - loss: 3.3110 - accuracy: 0.7853 - val_loss: 3.4470 - val_accuracy: 0.7765\n",
            "Epoch 2/100\n",
            "123/123 [==============================] - 0s 1ms/step - loss: 3.3110 - accuracy: 0.7853 - val_loss: 3.4470 - val_accuracy: 0.7765\n",
            "Epoch 3/100\n",
            "123/123 [==============================] - 0s 1ms/step - loss: 3.3110 - accuracy: 0.7853 - val_loss: 3.4470 - val_accuracy: 0.7765\n",
            "Epoch 4/100\n",
            "123/123 [==============================] - 0s 1ms/step - loss: 3.3110 - accuracy: 0.7853 - val_loss: 3.4470 - val_accuracy: 0.7765\n",
            "Epoch 5/100\n",
            "123/123 [==============================] - 0s 1ms/step - loss: 3.3110 - accuracy: 0.7853 - val_loss: 3.4470 - val_accuracy: 0.7765\n",
            "Epoch 6/100\n",
            "123/123 [==============================] - 0s 1ms/step - loss: 3.3110 - accuracy: 0.7853 - val_loss: 3.4470 - val_accuracy: 0.7765\n",
            "Epoch 7/100\n",
            "123/123 [==============================] - 0s 1ms/step - loss: 3.3110 - accuracy: 0.7853 - val_loss: 3.4470 - val_accuracy: 0.7765\n",
            "Epoch 8/100\n",
            "123/123 [==============================] - 0s 1ms/step - loss: 3.3110 - accuracy: 0.7853 - val_loss: 3.4470 - val_accuracy: 0.7765\n",
            "Epoch 9/100\n",
            "123/123 [==============================] - 0s 2ms/step - loss: 3.3110 - accuracy: 0.7853 - val_loss: 3.4470 - val_accuracy: 0.7765\n",
            "Epoch 10/100\n",
            "123/123 [==============================] - 0s 1ms/step - loss: 3.3110 - accuracy: 0.7853 - val_loss: 3.4470 - val_accuracy: 0.7765\n",
            "Epoch 11/100\n",
            "123/123 [==============================] - 0s 1ms/step - loss: 3.3110 - accuracy: 0.7853 - val_loss: 3.4470 - val_accuracy: 0.7765\n",
            "Epoch 12/100\n",
            "123/123 [==============================] - 0s 1ms/step - loss: 3.3110 - accuracy: 0.7853 - val_loss: 3.4470 - val_accuracy: 0.7765\n",
            "Epoch 13/100\n",
            "123/123 [==============================] - 0s 2ms/step - loss: 3.3110 - accuracy: 0.7853 - val_loss: 3.4470 - val_accuracy: 0.7765\n",
            "Epoch 14/100\n",
            "123/123 [==============================] - 0s 1ms/step - loss: 3.3110 - accuracy: 0.7853 - val_loss: 3.4470 - val_accuracy: 0.7765\n",
            "Epoch 15/100\n",
            "123/123 [==============================] - 0s 1ms/step - loss: 3.3110 - accuracy: 0.7853 - val_loss: 3.4470 - val_accuracy: 0.7765\n",
            "Epoch 16/100\n",
            "123/123 [==============================] - 0s 1ms/step - loss: 3.3110 - accuracy: 0.7853 - val_loss: 3.4470 - val_accuracy: 0.7765\n",
            "Epoch 17/100\n",
            "123/123 [==============================] - 0s 1ms/step - loss: 3.3110 - accuracy: 0.7853 - val_loss: 3.4470 - val_accuracy: 0.7765\n",
            "Epoch 18/100\n",
            "123/123 [==============================] - 0s 1ms/step - loss: 3.3110 - accuracy: 0.7853 - val_loss: 3.4470 - val_accuracy: 0.7765\n",
            "Epoch 19/100\n",
            "123/123 [==============================] - 0s 1ms/step - loss: 3.3110 - accuracy: 0.7853 - val_loss: 3.4470 - val_accuracy: 0.7765\n",
            "Epoch 20/100\n",
            "123/123 [==============================] - 0s 1ms/step - loss: 3.3110 - accuracy: 0.7853 - val_loss: 3.4470 - val_accuracy: 0.7765\n",
            "Epoch 21/100\n",
            "123/123 [==============================] - 0s 1ms/step - loss: 3.3110 - accuracy: 0.7853 - val_loss: 3.4470 - val_accuracy: 0.7765\n",
            "Epoch 22/100\n",
            "123/123 [==============================] - 0s 1ms/step - loss: 3.3110 - accuracy: 0.7853 - val_loss: 3.4470 - val_accuracy: 0.7765\n",
            "Epoch 23/100\n",
            "123/123 [==============================] - 0s 1ms/step - loss: 3.3110 - accuracy: 0.7853 - val_loss: 3.4470 - val_accuracy: 0.7765\n",
            "Epoch 24/100\n",
            "123/123 [==============================] - 0s 1ms/step - loss: 3.3110 - accuracy: 0.7853 - val_loss: 3.4470 - val_accuracy: 0.7765\n",
            "Epoch 25/100\n",
            "123/123 [==============================] - 0s 1ms/step - loss: 3.3110 - accuracy: 0.7853 - val_loss: 3.4470 - val_accuracy: 0.7765\n",
            "Epoch 26/100\n",
            "123/123 [==============================] - 0s 1ms/step - loss: 3.3110 - accuracy: 0.7853 - val_loss: 3.4470 - val_accuracy: 0.7765\n",
            "Epoch 27/100\n",
            "123/123 [==============================] - 0s 1ms/step - loss: 3.3110 - accuracy: 0.7853 - val_loss: 3.4470 - val_accuracy: 0.7765\n",
            "Epoch 28/100\n",
            "123/123 [==============================] - 0s 1ms/step - loss: 3.3110 - accuracy: 0.7853 - val_loss: 3.4470 - val_accuracy: 0.7765\n",
            "Epoch 29/100\n",
            "123/123 [==============================] - 0s 1ms/step - loss: 3.3110 - accuracy: 0.7853 - val_loss: 3.4470 - val_accuracy: 0.7765\n",
            "Epoch 30/100\n",
            "123/123 [==============================] - 0s 1ms/step - loss: 3.3110 - accuracy: 0.7853 - val_loss: 3.4470 - val_accuracy: 0.7765\n",
            "Epoch 31/100\n",
            "123/123 [==============================] - 0s 2ms/step - loss: 3.3110 - accuracy: 0.7853 - val_loss: 3.4470 - val_accuracy: 0.7765\n",
            "Epoch 32/100\n",
            "123/123 [==============================] - 0s 1ms/step - loss: 3.3110 - accuracy: 0.7853 - val_loss: 3.4470 - val_accuracy: 0.7765\n",
            "Epoch 33/100\n",
            "123/123 [==============================] - 0s 1ms/step - loss: 3.3110 - accuracy: 0.7853 - val_loss: 3.4470 - val_accuracy: 0.7765\n",
            "Epoch 34/100\n",
            "123/123 [==============================] - 0s 1ms/step - loss: 3.3110 - accuracy: 0.7853 - val_loss: 3.4470 - val_accuracy: 0.7765\n",
            "Epoch 35/100\n",
            "123/123 [==============================] - 0s 1ms/step - loss: 3.3110 - accuracy: 0.7853 - val_loss: 3.4470 - val_accuracy: 0.7765\n",
            "Epoch 36/100\n",
            "123/123 [==============================] - 0s 2ms/step - loss: 3.3110 - accuracy: 0.7853 - val_loss: 3.4470 - val_accuracy: 0.7765\n",
            "Epoch 37/100\n",
            "123/123 [==============================] - 0s 2ms/step - loss: 3.3110 - accuracy: 0.7853 - val_loss: 3.4470 - val_accuracy: 0.7765\n",
            "Epoch 38/100\n",
            "123/123 [==============================] - 0s 1ms/step - loss: 3.3110 - accuracy: 0.7853 - val_loss: 3.4470 - val_accuracy: 0.7765\n",
            "Epoch 39/100\n",
            "123/123 [==============================] - 0s 2ms/step - loss: 3.3110 - accuracy: 0.7853 - val_loss: 3.4470 - val_accuracy: 0.7765\n",
            "Epoch 40/100\n",
            "123/123 [==============================] - 0s 1ms/step - loss: 3.3110 - accuracy: 0.7853 - val_loss: 3.4470 - val_accuracy: 0.7765\n",
            "Epoch 41/100\n",
            "123/123 [==============================] - 0s 1ms/step - loss: 3.3110 - accuracy: 0.7853 - val_loss: 3.4470 - val_accuracy: 0.7765\n",
            "Epoch 42/100\n",
            "123/123 [==============================] - 0s 2ms/step - loss: 3.3110 - accuracy: 0.7853 - val_loss: 3.4470 - val_accuracy: 0.7765\n",
            "Epoch 43/100\n",
            "123/123 [==============================] - 0s 1ms/step - loss: 3.3110 - accuracy: 0.7853 - val_loss: 3.4470 - val_accuracy: 0.7765\n",
            "Epoch 44/100\n",
            "123/123 [==============================] - 0s 1ms/step - loss: 3.3110 - accuracy: 0.7853 - val_loss: 3.4470 - val_accuracy: 0.7765\n",
            "Epoch 45/100\n",
            "123/123 [==============================] - 0s 1ms/step - loss: 3.3110 - accuracy: 0.7853 - val_loss: 3.4470 - val_accuracy: 0.7765\n",
            "Epoch 46/100\n",
            "123/123 [==============================] - 0s 1ms/step - loss: 3.3110 - accuracy: 0.7853 - val_loss: 3.4470 - val_accuracy: 0.7765\n",
            "Epoch 47/100\n",
            "123/123 [==============================] - 0s 2ms/step - loss: 3.3110 - accuracy: 0.7853 - val_loss: 3.4470 - val_accuracy: 0.7765\n",
            "Epoch 48/100\n",
            "123/123 [==============================] - 0s 1ms/step - loss: 3.3110 - accuracy: 0.7853 - val_loss: 3.4470 - val_accuracy: 0.7765\n",
            "Epoch 49/100\n",
            "123/123 [==============================] - 0s 1ms/step - loss: 3.3110 - accuracy: 0.7853 - val_loss: 3.4470 - val_accuracy: 0.7765\n",
            "Epoch 50/100\n",
            "123/123 [==============================] - 0s 1ms/step - loss: 3.3110 - accuracy: 0.7853 - val_loss: 3.4470 - val_accuracy: 0.7765\n",
            "Epoch 51/100\n",
            "123/123 [==============================] - 0s 1ms/step - loss: 3.3110 - accuracy: 0.7853 - val_loss: 3.4470 - val_accuracy: 0.7765\n",
            "Epoch 52/100\n",
            "123/123 [==============================] - 0s 2ms/step - loss: 3.3110 - accuracy: 0.7853 - val_loss: 3.4470 - val_accuracy: 0.7765\n",
            "Epoch 53/100\n",
            "123/123 [==============================] - 0s 2ms/step - loss: 3.3110 - accuracy: 0.7853 - val_loss: 3.4470 - val_accuracy: 0.7765\n",
            "Epoch 54/100\n",
            "123/123 [==============================] - 0s 1ms/step - loss: 3.3110 - accuracy: 0.7853 - val_loss: 3.4470 - val_accuracy: 0.7765\n",
            "Epoch 55/100\n",
            "123/123 [==============================] - 0s 1ms/step - loss: 3.3110 - accuracy: 0.7853 - val_loss: 3.4470 - val_accuracy: 0.7765\n",
            "Epoch 56/100\n",
            "123/123 [==============================] - 0s 1ms/step - loss: 3.3110 - accuracy: 0.7853 - val_loss: 3.4470 - val_accuracy: 0.7765\n",
            "Epoch 57/100\n",
            "123/123 [==============================] - 0s 1ms/step - loss: 3.3110 - accuracy: 0.7853 - val_loss: 3.4470 - val_accuracy: 0.7765\n",
            "Epoch 58/100\n",
            "123/123 [==============================] - 0s 1ms/step - loss: 3.3110 - accuracy: 0.7853 - val_loss: 3.4470 - val_accuracy: 0.7765\n",
            "Epoch 59/100\n",
            "123/123 [==============================] - 0s 1ms/step - loss: 3.3110 - accuracy: 0.7853 - val_loss: 3.4470 - val_accuracy: 0.7765\n",
            "Epoch 60/100\n",
            "123/123 [==============================] - 0s 1ms/step - loss: 3.3110 - accuracy: 0.7853 - val_loss: 3.4470 - val_accuracy: 0.7765\n",
            "Epoch 61/100\n",
            "123/123 [==============================] - 0s 1ms/step - loss: 3.3110 - accuracy: 0.7853 - val_loss: 3.4470 - val_accuracy: 0.7765\n",
            "Epoch 62/100\n",
            "123/123 [==============================] - 0s 1ms/step - loss: 3.3110 - accuracy: 0.7853 - val_loss: 3.4470 - val_accuracy: 0.7765\n",
            "Epoch 63/100\n",
            "123/123 [==============================] - 0s 2ms/step - loss: 3.3110 - accuracy: 0.7853 - val_loss: 3.4470 - val_accuracy: 0.7765\n",
            "Epoch 64/100\n",
            "123/123 [==============================] - 0s 1ms/step - loss: 3.3110 - accuracy: 0.7853 - val_loss: 3.4470 - val_accuracy: 0.7765\n",
            "Epoch 65/100\n",
            "123/123 [==============================] - 0s 1ms/step - loss: 3.3110 - accuracy: 0.7853 - val_loss: 3.4470 - val_accuracy: 0.7765\n",
            "Epoch 66/100\n",
            "123/123 [==============================] - 0s 1ms/step - loss: 3.3110 - accuracy: 0.7853 - val_loss: 3.4470 - val_accuracy: 0.7765\n",
            "Epoch 67/100\n",
            "123/123 [==============================] - 0s 1ms/step - loss: 3.3110 - accuracy: 0.7853 - val_loss: 3.4470 - val_accuracy: 0.7765\n",
            "Epoch 68/100\n",
            "123/123 [==============================] - 0s 1ms/step - loss: 3.3110 - accuracy: 0.7853 - val_loss: 3.4470 - val_accuracy: 0.7765\n",
            "Epoch 69/100\n",
            "123/123 [==============================] - 0s 1ms/step - loss: 3.3110 - accuracy: 0.7853 - val_loss: 3.4470 - val_accuracy: 0.7765\n",
            "Epoch 70/100\n",
            "123/123 [==============================] - 0s 2ms/step - loss: 3.3110 - accuracy: 0.7853 - val_loss: 3.4470 - val_accuracy: 0.7765\n",
            "Epoch 71/100\n",
            "123/123 [==============================] - 0s 1ms/step - loss: 3.3110 - accuracy: 0.7853 - val_loss: 3.4470 - val_accuracy: 0.7765\n",
            "Epoch 72/100\n",
            "123/123 [==============================] - 0s 1ms/step - loss: 3.3110 - accuracy: 0.7853 - val_loss: 3.4470 - val_accuracy: 0.7765\n",
            "Epoch 73/100\n",
            "123/123 [==============================] - 0s 1ms/step - loss: 3.3110 - accuracy: 0.7853 - val_loss: 3.4470 - val_accuracy: 0.7765\n",
            "Epoch 74/100\n",
            "123/123 [==============================] - 0s 1ms/step - loss: 3.3110 - accuracy: 0.7853 - val_loss: 3.4470 - val_accuracy: 0.7765\n",
            "Epoch 75/100\n",
            "123/123 [==============================] - 0s 2ms/step - loss: 3.3110 - accuracy: 0.7853 - val_loss: 3.4470 - val_accuracy: 0.7765\n",
            "Epoch 76/100\n",
            "123/123 [==============================] - 0s 1ms/step - loss: 3.3110 - accuracy: 0.7853 - val_loss: 3.4470 - val_accuracy: 0.7765\n",
            "Epoch 77/100\n",
            "123/123 [==============================] - 0s 1ms/step - loss: 3.3110 - accuracy: 0.7853 - val_loss: 3.4470 - val_accuracy: 0.7765\n",
            "Epoch 78/100\n",
            "123/123 [==============================] - 0s 1ms/step - loss: 3.3110 - accuracy: 0.7853 - val_loss: 3.4470 - val_accuracy: 0.7765\n",
            "Epoch 79/100\n",
            "123/123 [==============================] - 0s 1ms/step - loss: 3.3110 - accuracy: 0.7853 - val_loss: 3.4470 - val_accuracy: 0.7765\n",
            "Epoch 80/100\n",
            "123/123 [==============================] - 0s 1ms/step - loss: 3.3110 - accuracy: 0.7853 - val_loss: 3.4470 - val_accuracy: 0.7765\n",
            "Epoch 81/100\n",
            "123/123 [==============================] - 0s 1ms/step - loss: 3.3110 - accuracy: 0.7853 - val_loss: 3.4470 - val_accuracy: 0.7765\n",
            "Epoch 82/100\n",
            "123/123 [==============================] - 0s 1ms/step - loss: 3.3110 - accuracy: 0.7853 - val_loss: 3.4470 - val_accuracy: 0.7765\n",
            "Epoch 83/100\n",
            "123/123 [==============================] - 0s 1ms/step - loss: 3.3110 - accuracy: 0.7853 - val_loss: 3.4470 - val_accuracy: 0.7765\n",
            "Epoch 84/100\n",
            "123/123 [==============================] - 0s 1ms/step - loss: 3.3110 - accuracy: 0.7853 - val_loss: 3.4470 - val_accuracy: 0.7765\n",
            "Epoch 85/100\n",
            "123/123 [==============================] - 0s 1ms/step - loss: 3.3110 - accuracy: 0.7853 - val_loss: 3.4470 - val_accuracy: 0.7765\n",
            "Epoch 86/100\n",
            "123/123 [==============================] - 0s 2ms/step - loss: 3.3110 - accuracy: 0.7853 - val_loss: 3.4470 - val_accuracy: 0.7765\n",
            "Epoch 87/100\n",
            "123/123 [==============================] - 0s 1ms/step - loss: 3.3110 - accuracy: 0.7853 - val_loss: 3.4470 - val_accuracy: 0.7765\n",
            "Epoch 88/100\n",
            "123/123 [==============================] - 0s 1ms/step - loss: 3.3110 - accuracy: 0.7853 - val_loss: 3.4470 - val_accuracy: 0.7765\n",
            "Epoch 89/100\n",
            "123/123 [==============================] - 0s 1ms/step - loss: 3.3110 - accuracy: 0.7853 - val_loss: 3.4470 - val_accuracy: 0.7765\n",
            "Epoch 90/100\n",
            "123/123 [==============================] - 0s 1ms/step - loss: 3.3110 - accuracy: 0.7853 - val_loss: 3.4470 - val_accuracy: 0.7765\n",
            "Epoch 91/100\n",
            "123/123 [==============================] - 0s 1ms/step - loss: 3.3110 - accuracy: 0.7853 - val_loss: 3.4470 - val_accuracy: 0.7765\n",
            "Epoch 92/100\n",
            "123/123 [==============================] - 0s 1ms/step - loss: 3.3110 - accuracy: 0.7853 - val_loss: 3.4470 - val_accuracy: 0.7765\n",
            "Epoch 93/100\n",
            "123/123 [==============================] - 0s 1ms/step - loss: 3.3110 - accuracy: 0.7853 - val_loss: 3.4470 - val_accuracy: 0.7765\n",
            "Epoch 94/100\n",
            "123/123 [==============================] - 0s 1ms/step - loss: 3.3110 - accuracy: 0.7853 - val_loss: 3.4470 - val_accuracy: 0.7765\n",
            "Epoch 95/100\n",
            "123/123 [==============================] - 0s 1ms/step - loss: 3.3110 - accuracy: 0.7853 - val_loss: 3.4470 - val_accuracy: 0.7765\n",
            "Epoch 96/100\n",
            "123/123 [==============================] - 0s 1ms/step - loss: 3.3110 - accuracy: 0.7853 - val_loss: 3.4470 - val_accuracy: 0.7765\n",
            "Epoch 97/100\n",
            "123/123 [==============================] - 0s 2ms/step - loss: 3.3110 - accuracy: 0.7853 - val_loss: 3.4470 - val_accuracy: 0.7765\n",
            "Epoch 98/100\n",
            "123/123 [==============================] - 0s 1ms/step - loss: 3.3110 - accuracy: 0.7853 - val_loss: 3.4470 - val_accuracy: 0.7765\n",
            "Epoch 99/100\n",
            "123/123 [==============================] - 0s 1ms/step - loss: 3.3110 - accuracy: 0.7853 - val_loss: 3.4470 - val_accuracy: 0.7765\n",
            "Epoch 100/100\n",
            "123/123 [==============================] - 0s 1ms/step - loss: 3.3110 - accuracy: 0.7853 - val_loss: 3.4470 - val_accuracy: 0.7765\n"
          ],
          "name": "stdout"
        }
      ]
    },
    {
      "cell_type": "code",
      "metadata": {
        "id": "LixluI4ftW7W",
        "outputId": "df61c5e8-bfc7-49d8-cb78-e56e3eaa5102",
        "colab": {
          "base_uri": "https://localhost:8080/",
          "height": 551
        }
      },
      "source": [
        "plot_loss_new(history_wide)"
      ],
      "execution_count": 74,
      "outputs": [
        {
          "output_type": "display_data",
          "data": {
            "image/png": "[encoded data removed]",
            "text/plain": [
              "<Figure size 432x288 with 1 Axes>"
            ]
          },
          "metadata": {
            "tags": [],
            "needs_background": "light"
          }
        },
        {
          "output_type": "stream",
          "text": [
            "Minimum Loss             : 29    3.310969\n",
            "45    3.310969\n",
            "Name: loss, dtype: float64\n",
            "\n",
            "Minimum Validation Loss  : 0     3.447004\n",
            "1     3.447004\n",
            "2     3.447004\n",
            "3     3.447004\n",
            "4     3.447004\n",
            "        ...   \n",
            "95    3.447004\n",
            "96    3.447004\n",
            "97    3.447004\n",
            "98    3.447004\n",
            "99    3.447004\n",
            "Name: val_loss, Length: 100, dtype: float64\n"
          ],
          "name": "stdout"
        }
      ]
    },
    {
      "cell_type": "markdown",
      "metadata": {
        "id": "LpGmsIrE8Xb1"
      },
      "source": [
        "Model overfit, nilai val_loss 3.447004 dengan val_accuracy 0.7765"
      ]
    },
    {
      "cell_type": "markdown",
      "metadata": {
        "id": "UxLh2Csw8hFH"
      },
      "source": [
        "**Base layer dengan SGD**"
      ]
    },
    {
      "cell_type": "code",
      "metadata": {
        "id": "_Q8WMKBGvRX9"
      },
      "source": [
        "from tensorflow.keras.optimizers import SGD\n",
        "\n",
        "model = Sequential()\n",
        "model.add(Dense(11, input_dim=11, kernel_initializer='normal', activation='relu'))\n",
        "model.add(Dense(1, kernel_initializer='normal'))\n",
        "\n",
        "opt = SGD(learning_rate=0.001, momentum=0.9)\n",
        "\n",
        "model.compile(loss='binary_crossentropy', optimizer=opt, metrics=['accuracy'])"
      ],
      "execution_count": 76,
      "outputs": []
    },
    {
      "cell_type": "code",
      "metadata": {
        "id": "O8dojRXlvlSP",
        "outputId": "e3e05f2f-0ba4-4c48-ba82-39695b03401f",
        "colab": {
          "base_uri": "https://localhost:8080/",
          "height": 221
        }
      },
      "source": [
        "model.summary()"
      ],
      "execution_count": 77,
      "outputs": [
        {
          "output_type": "stream",
          "text": [
            "Model: \"sequential_6\"\n",
            "_________________________________________________________________\n",
            "Layer (type)                 Output Shape              Param #   \n",
            "=================================================================\n",
            "dense_14 (Dense)             (None, 11)                132       \n",
            "_________________________________________________________________\n",
            "dense_15 (Dense)             (None, 1)                 12        \n",
            "=================================================================\n",
            "Total params: 144\n",
            "Trainable params: 144\n",
            "Non-trainable params: 0\n",
            "_________________________________________________________________\n"
          ],
          "name": "stdout"
        }
      ]
    },
    {
      "cell_type": "code",
      "metadata": {
        "id": "QeYFa8QXvm1u",
        "outputId": "3c407cf8-1ce3-4448-e57c-29c91876bdde",
        "colab": {
          "base_uri": "https://localhost:8080/",
          "height": 1000
        }
      },
      "source": [
        "history_sgd = model.fit(x=X_train, y=y_train, validation_data=(X_test, y_test), epochs=100, batch_size=32)"
      ],
      "execution_count": 78,
      "outputs": [
        {
          "output_type": "stream",
          "text": [
            "Epoch 1/100\n",
            "123/123 [==============================] - 0s 2ms/step - loss: 3.3521 - accuracy: 0.7802 - val_loss: 3.4470 - val_accuracy: 0.7765\n",
            "Epoch 2/100\n",
            "123/123 [==============================] - 0s 1ms/step - loss: 3.3110 - accuracy: 0.7853 - val_loss: 3.4470 - val_accuracy: 0.7765\n",
            "Epoch 3/100\n",
            "123/123 [==============================] - 0s 1ms/step - loss: 3.3110 - accuracy: 0.7853 - val_loss: 3.4470 - val_accuracy: 0.7765\n",
            "Epoch 4/100\n",
            "123/123 [==============================] - 0s 1ms/step - loss: 3.3110 - accuracy: 0.7853 - val_loss: 3.4470 - val_accuracy: 0.7765\n",
            "Epoch 5/100\n",
            "123/123 [==============================] - 0s 1ms/step - loss: 3.3110 - accuracy: 0.7853 - val_loss: 3.4470 - val_accuracy: 0.7765\n",
            "Epoch 6/100\n",
            "123/123 [==============================] - 0s 1ms/step - loss: 3.3110 - accuracy: 0.7853 - val_loss: 3.4470 - val_accuracy: 0.7765\n",
            "Epoch 7/100\n",
            "123/123 [==============================] - 0s 1ms/step - loss: 3.3110 - accuracy: 0.7853 - val_loss: 3.4470 - val_accuracy: 0.7765\n",
            "Epoch 8/100\n",
            "123/123 [==============================] - 0s 1ms/step - loss: 3.3110 - accuracy: 0.7853 - val_loss: 3.4470 - val_accuracy: 0.7765\n",
            "Epoch 9/100\n",
            "123/123 [==============================] - 0s 2ms/step - loss: 3.3110 - accuracy: 0.7853 - val_loss: 3.4470 - val_accuracy: 0.7765\n",
            "Epoch 10/100\n",
            "123/123 [==============================] - 0s 1ms/step - loss: 3.3110 - accuracy: 0.7853 - val_loss: 3.4470 - val_accuracy: 0.7765\n",
            "Epoch 11/100\n",
            "123/123 [==============================] - 0s 1ms/step - loss: 3.3110 - accuracy: 0.7853 - val_loss: 3.4470 - val_accuracy: 0.7765\n",
            "Epoch 12/100\n",
            "123/123 [==============================] - 0s 1ms/step - loss: 3.3110 - accuracy: 0.7853 - val_loss: 3.4470 - val_accuracy: 0.7765\n",
            "Epoch 13/100\n",
            "123/123 [==============================] - 0s 1ms/step - loss: 3.3110 - accuracy: 0.7853 - val_loss: 3.4470 - val_accuracy: 0.7765\n",
            "Epoch 14/100\n",
            "123/123 [==============================] - 0s 1ms/step - loss: 3.3110 - accuracy: 0.7853 - val_loss: 3.4470 - val_accuracy: 0.7765\n",
            "Epoch 15/100\n",
            "123/123 [==============================] - 0s 1ms/step - loss: 3.3110 - accuracy: 0.7853 - val_loss: 3.4470 - val_accuracy: 0.7765\n",
            "Epoch 16/100\n",
            "123/123 [==============================] - 0s 1ms/step - loss: 3.3110 - accuracy: 0.7853 - val_loss: 3.4470 - val_accuracy: 0.7765\n",
            "Epoch 17/100\n",
            "123/123 [==============================] - 0s 1ms/step - loss: 3.3110 - accuracy: 0.7853 - val_loss: 3.4470 - val_accuracy: 0.7765\n",
            "Epoch 18/100\n",
            "123/123 [==============================] - 0s 1ms/step - loss: 3.3110 - accuracy: 0.7853 - val_loss: 3.4470 - val_accuracy: 0.7765\n",
            "Epoch 19/100\n",
            "123/123 [==============================] - 0s 1ms/step - loss: 3.3110 - accuracy: 0.7853 - val_loss: 3.4470 - val_accuracy: 0.7765\n",
            "Epoch 20/100\n",
            "123/123 [==============================] - 0s 1ms/step - loss: 3.3110 - accuracy: 0.7853 - val_loss: 3.4470 - val_accuracy: 0.7765\n",
            "Epoch 21/100\n",
            "123/123 [==============================] - 0s 1ms/step - loss: 3.3110 - accuracy: 0.7853 - val_loss: 3.4470 - val_accuracy: 0.7765\n",
            "Epoch 22/100\n",
            "123/123 [==============================] - 0s 1ms/step - loss: 3.3110 - accuracy: 0.7853 - val_loss: 3.4470 - val_accuracy: 0.7765\n",
            "Epoch 23/100\n",
            "123/123 [==============================] - 0s 1ms/step - loss: 3.3110 - accuracy: 0.7853 - val_loss: 3.4470 - val_accuracy: 0.7765\n",
            "Epoch 24/100\n",
            "123/123 [==============================] - 0s 1ms/step - loss: 3.3110 - accuracy: 0.7853 - val_loss: 3.4470 - val_accuracy: 0.7765\n",
            "Epoch 25/100\n",
            "123/123 [==============================] - 0s 1ms/step - loss: 3.3110 - accuracy: 0.7853 - val_loss: 3.4470 - val_accuracy: 0.7765\n",
            "Epoch 26/100\n",
            "123/123 [==============================] - 0s 1ms/step - loss: 3.3110 - accuracy: 0.7853 - val_loss: 3.4470 - val_accuracy: 0.7765\n",
            "Epoch 27/100\n",
            "123/123 [==============================] - 0s 1ms/step - loss: 3.3110 - accuracy: 0.7853 - val_loss: 3.4470 - val_accuracy: 0.7765\n",
            "Epoch 28/100\n",
            "123/123 [==============================] - 0s 1ms/step - loss: 3.3110 - accuracy: 0.7853 - val_loss: 3.4470 - val_accuracy: 0.7765\n",
            "Epoch 29/100\n",
            "123/123 [==============================] - 0s 1ms/step - loss: 3.3110 - accuracy: 0.7853 - val_loss: 3.4470 - val_accuracy: 0.7765\n",
            "Epoch 30/100\n",
            "123/123 [==============================] - 0s 1ms/step - loss: 3.3110 - accuracy: 0.7853 - val_loss: 3.4470 - val_accuracy: 0.7765\n",
            "Epoch 31/100\n",
            "123/123 [==============================] - 0s 1ms/step - loss: 3.3110 - accuracy: 0.7853 - val_loss: 3.4470 - val_accuracy: 0.7765\n",
            "Epoch 32/100\n",
            "123/123 [==============================] - 0s 1ms/step - loss: 3.3110 - accuracy: 0.7853 - val_loss: 3.4470 - val_accuracy: 0.7765\n",
            "Epoch 33/100\n",
            "123/123 [==============================] - 0s 1ms/step - loss: 3.3110 - accuracy: 0.7853 - val_loss: 3.4470 - val_accuracy: 0.7765\n",
            "Epoch 34/100\n",
            "123/123 [==============================] - 0s 1ms/step - loss: 3.3110 - accuracy: 0.7853 - val_loss: 3.4470 - val_accuracy: 0.7765\n",
            "Epoch 35/100\n",
            "123/123 [==============================] - 0s 1ms/step - loss: 3.3110 - accuracy: 0.7853 - val_loss: 3.4470 - val_accuracy: 0.7765\n",
            "Epoch 36/100\n",
            "123/123 [==============================] - 0s 1ms/step - loss: 3.3110 - accuracy: 0.7853 - val_loss: 3.4470 - val_accuracy: 0.7765\n",
            "Epoch 37/100\n",
            "123/123 [==============================] - 0s 1ms/step - loss: 3.3110 - accuracy: 0.7853 - val_loss: 3.4470 - val_accuracy: 0.7765\n",
            "Epoch 38/100\n",
            "123/123 [==============================] - 0s 1ms/step - loss: 3.3110 - accuracy: 0.7853 - val_loss: 3.4470 - val_accuracy: 0.7765\n",
            "Epoch 39/100\n",
            "123/123 [==============================] - 0s 1ms/step - loss: 3.3110 - accuracy: 0.7853 - val_loss: 3.4470 - val_accuracy: 0.7765\n",
            "Epoch 40/100\n",
            "123/123 [==============================] - 0s 1ms/step - loss: 3.3110 - accuracy: 0.7853 - val_loss: 3.4470 - val_accuracy: 0.7765\n",
            "Epoch 41/100\n",
            "123/123 [==============================] - 0s 1ms/step - loss: 3.3110 - accuracy: 0.7853 - val_loss: 3.4470 - val_accuracy: 0.7765\n",
            "Epoch 42/100\n",
            "123/123 [==============================] - 0s 1ms/step - loss: 3.3110 - accuracy: 0.7853 - val_loss: 3.4470 - val_accuracy: 0.7765\n",
            "Epoch 43/100\n",
            "123/123 [==============================] - 0s 1ms/step - loss: 3.3110 - accuracy: 0.7853 - val_loss: 3.4470 - val_accuracy: 0.7765\n",
            "Epoch 44/100\n",
            "123/123 [==============================] - 0s 1ms/step - loss: 3.3110 - accuracy: 0.7853 - val_loss: 3.4470 - val_accuracy: 0.7765\n",
            "Epoch 45/100\n",
            "123/123 [==============================] - 0s 1ms/step - loss: 3.3110 - accuracy: 0.7853 - val_loss: 3.4470 - val_accuracy: 0.7765\n",
            "Epoch 46/100\n",
            "123/123 [==============================] - 0s 1ms/step - loss: 3.3110 - accuracy: 0.7853 - val_loss: 3.4470 - val_accuracy: 0.7765\n",
            "Epoch 47/100\n",
            "123/123 [==============================] - 0s 1ms/step - loss: 3.3110 - accuracy: 0.7853 - val_loss: 3.4470 - val_accuracy: 0.7765\n",
            "Epoch 48/100\n",
            "123/123 [==============================] - 0s 1ms/step - loss: 3.3110 - accuracy: 0.7853 - val_loss: 3.4470 - val_accuracy: 0.7765\n",
            "Epoch 49/100\n",
            "123/123 [==============================] - 0s 2ms/step - loss: 3.3110 - accuracy: 0.7853 - val_loss: 3.4470 - val_accuracy: 0.7765\n",
            "Epoch 50/100\n",
            "123/123 [==============================] - 0s 1ms/step - loss: 3.3110 - accuracy: 0.7853 - val_loss: 3.4470 - val_accuracy: 0.7765\n",
            "Epoch 51/100\n",
            "123/123 [==============================] - 0s 1ms/step - loss: 3.3110 - accuracy: 0.7853 - val_loss: 3.4470 - val_accuracy: 0.7765\n",
            "Epoch 52/100\n",
            "123/123 [==============================] - 0s 1ms/step - loss: 3.3110 - accuracy: 0.7853 - val_loss: 3.4470 - val_accuracy: 0.7765\n",
            "Epoch 53/100\n",
            "123/123 [==============================] - 0s 1ms/step - loss: 3.3110 - accuracy: 0.7853 - val_loss: 3.4470 - val_accuracy: 0.7765\n",
            "Epoch 54/100\n",
            "123/123 [==============================] - 0s 1ms/step - loss: 3.3110 - accuracy: 0.7853 - val_loss: 3.4470 - val_accuracy: 0.7765\n",
            "Epoch 55/100\n",
            "123/123 [==============================] - 0s 1ms/step - loss: 3.3110 - accuracy: 0.7853 - val_loss: 3.4470 - val_accuracy: 0.7765\n",
            "Epoch 56/100\n",
            "123/123 [==============================] - 0s 1ms/step - loss: 3.3110 - accuracy: 0.7853 - val_loss: 3.4470 - val_accuracy: 0.7765\n",
            "Epoch 57/100\n",
            "123/123 [==============================] - 0s 1ms/step - loss: 3.3110 - accuracy: 0.7853 - val_loss: 3.4470 - val_accuracy: 0.7765\n",
            "Epoch 58/100\n",
            "123/123 [==============================] - 0s 1ms/step - loss: 3.3110 - accuracy: 0.7853 - val_loss: 3.4470 - val_accuracy: 0.7765\n",
            "Epoch 59/100\n",
            "123/123 [==============================] - 0s 1ms/step - loss: 3.3110 - accuracy: 0.7853 - val_loss: 3.4470 - val_accuracy: 0.7765\n",
            "Epoch 60/100\n",
            "123/123 [==============================] - 0s 1ms/step - loss: 3.3110 - accuracy: 0.7853 - val_loss: 3.4470 - val_accuracy: 0.7765\n",
            "Epoch 61/100\n",
            "123/123 [==============================] - 0s 1ms/step - loss: 3.3110 - accuracy: 0.7853 - val_loss: 3.4470 - val_accuracy: 0.7765\n",
            "Epoch 62/100\n",
            "123/123 [==============================] - 0s 1ms/step - loss: 3.3110 - accuracy: 0.7853 - val_loss: 3.4470 - val_accuracy: 0.7765\n",
            "Epoch 63/100\n",
            "123/123 [==============================] - 0s 1ms/step - loss: 3.3110 - accuracy: 0.7853 - val_loss: 3.4470 - val_accuracy: 0.7765\n",
            "Epoch 64/100\n",
            "123/123 [==============================] - 0s 1ms/step - loss: 3.3110 - accuracy: 0.7853 - val_loss: 3.4470 - val_accuracy: 0.7765\n",
            "Epoch 65/100\n",
            "123/123 [==============================] - 0s 1ms/step - loss: 3.3110 - accuracy: 0.7853 - val_loss: 3.4470 - val_accuracy: 0.7765\n",
            "Epoch 66/100\n",
            "123/123 [==============================] - 0s 1ms/step - loss: 3.3110 - accuracy: 0.7853 - val_loss: 3.4470 - val_accuracy: 0.7765\n",
            "Epoch 67/100\n",
            "123/123 [==============================] - 0s 1ms/step - loss: 3.3110 - accuracy: 0.7853 - val_loss: 3.4470 - val_accuracy: 0.7765\n",
            "Epoch 68/100\n",
            "123/123 [==============================] - 0s 1ms/step - loss: 3.3110 - accuracy: 0.7853 - val_loss: 3.4470 - val_accuracy: 0.7765\n",
            "Epoch 69/100\n",
            "123/123 [==============================] - 0s 1ms/step - loss: 3.3110 - accuracy: 0.7853 - val_loss: 3.4470 - val_accuracy: 0.7765\n",
            "Epoch 70/100\n",
            "123/123 [==============================] - 0s 1ms/step - loss: 3.3110 - accuracy: 0.7853 - val_loss: 3.4470 - val_accuracy: 0.7765\n",
            "Epoch 71/100\n",
            "123/123 [==============================] - 0s 1ms/step - loss: 3.3110 - accuracy: 0.7853 - val_loss: 3.4470 - val_accuracy: 0.7765\n",
            "Epoch 72/100\n",
            "123/123 [==============================] - 0s 1ms/step - loss: 3.3110 - accuracy: 0.7853 - val_loss: 3.4470 - val_accuracy: 0.7765\n",
            "Epoch 73/100\n",
            "123/123 [==============================] - 0s 1ms/step - loss: 3.3110 - accuracy: 0.7853 - val_loss: 3.4470 - val_accuracy: 0.7765\n",
            "Epoch 74/100\n",
            "123/123 [==============================] - 0s 1ms/step - loss: 3.3110 - accuracy: 0.7853 - val_loss: 3.4470 - val_accuracy: 0.7765\n",
            "Epoch 75/100\n",
            "123/123 [==============================] - 0s 1ms/step - loss: 3.3110 - accuracy: 0.7853 - val_loss: 3.4470 - val_accuracy: 0.7765\n",
            "Epoch 76/100\n",
            "123/123 [==============================] - 0s 1ms/step - loss: 3.3110 - accuracy: 0.7853 - val_loss: 3.4470 - val_accuracy: 0.7765\n",
            "Epoch 77/100\n",
            "123/123 [==============================] - 0s 1ms/step - loss: 3.3110 - accuracy: 0.7853 - val_loss: 3.4470 - val_accuracy: 0.7765\n",
            "Epoch 78/100\n",
            "123/123 [==============================] - 0s 1ms/step - loss: 3.3110 - accuracy: 0.7853 - val_loss: 3.4470 - val_accuracy: 0.7765\n",
            "Epoch 79/100\n",
            "123/123 [==============================] - 0s 1ms/step - loss: 3.3110 - accuracy: 0.7853 - val_loss: 3.4470 - val_accuracy: 0.7765\n",
            "Epoch 80/100\n",
            "123/123 [==============================] - 0s 1ms/step - loss: 3.3110 - accuracy: 0.7853 - val_loss: 3.4470 - val_accuracy: 0.7765\n",
            "Epoch 81/100\n",
            "123/123 [==============================] - 0s 1ms/step - loss: 3.3110 - accuracy: 0.7853 - val_loss: 3.4470 - val_accuracy: 0.7765\n",
            "Epoch 82/100\n",
            "123/123 [==============================] - 0s 1ms/step - loss: 3.3110 - accuracy: 0.7853 - val_loss: 3.4470 - val_accuracy: 0.7765\n",
            "Epoch 83/100\n",
            "123/123 [==============================] - 0s 1ms/step - loss: 3.3110 - accuracy: 0.7853 - val_loss: 3.4470 - val_accuracy: 0.7765\n",
            "Epoch 84/100\n",
            "123/123 [==============================] - 0s 1ms/step - loss: 3.3110 - accuracy: 0.7853 - val_loss: 3.4470 - val_accuracy: 0.7765\n",
            "Epoch 85/100\n",
            "123/123 [==============================] - 0s 1ms/step - loss: 3.3110 - accuracy: 0.7853 - val_loss: 3.4470 - val_accuracy: 0.7765\n",
            "Epoch 86/100\n",
            "123/123 [==============================] - 0s 1ms/step - loss: 3.3110 - accuracy: 0.7853 - val_loss: 3.4470 - val_accuracy: 0.7765\n",
            "Epoch 87/100\n",
            "123/123 [==============================] - 0s 1ms/step - loss: 3.3110 - accuracy: 0.7853 - val_loss: 3.4470 - val_accuracy: 0.7765\n",
            "Epoch 88/100\n",
            "123/123 [==============================] - 0s 1ms/step - loss: 3.3110 - accuracy: 0.7853 - val_loss: 3.4470 - val_accuracy: 0.7765\n",
            "Epoch 89/100\n",
            "123/123 [==============================] - 0s 1ms/step - loss: 3.3110 - accuracy: 0.7853 - val_loss: 3.4470 - val_accuracy: 0.7765\n",
            "Epoch 90/100\n",
            "123/123 [==============================] - 0s 1ms/step - loss: 3.3110 - accuracy: 0.7853 - val_loss: 3.4470 - val_accuracy: 0.7765\n",
            "Epoch 91/100\n",
            "123/123 [==============================] - 0s 2ms/step - loss: 3.3110 - accuracy: 0.7853 - val_loss: 3.4470 - val_accuracy: 0.7765\n",
            "Epoch 92/100\n",
            "123/123 [==============================] - 0s 2ms/step - loss: 3.3110 - accuracy: 0.7853 - val_loss: 3.4470 - val_accuracy: 0.7765\n",
            "Epoch 93/100\n",
            "123/123 [==============================] - 0s 1ms/step - loss: 3.3110 - accuracy: 0.7853 - val_loss: 3.4470 - val_accuracy: 0.7765\n",
            "Epoch 94/100\n",
            "123/123 [==============================] - 0s 1ms/step - loss: 3.3110 - accuracy: 0.7853 - val_loss: 3.4470 - val_accuracy: 0.7765\n",
            "Epoch 95/100\n",
            "123/123 [==============================] - 0s 1ms/step - loss: 3.3110 - accuracy: 0.7853 - val_loss: 3.4470 - val_accuracy: 0.7765\n",
            "Epoch 96/100\n",
            "123/123 [==============================] - 0s 1ms/step - loss: 3.3110 - accuracy: 0.7853 - val_loss: 3.4470 - val_accuracy: 0.7765\n",
            "Epoch 97/100\n",
            "123/123 [==============================] - 0s 1ms/step - loss: 3.3110 - accuracy: 0.7853 - val_loss: 3.4470 - val_accuracy: 0.7765\n",
            "Epoch 98/100\n",
            "123/123 [==============================] - 0s 1ms/step - loss: 3.3110 - accuracy: 0.7853 - val_loss: 3.4470 - val_accuracy: 0.7765\n",
            "Epoch 99/100\n",
            "123/123 [==============================] - 0s 1ms/step - loss: 3.3110 - accuracy: 0.7853 - val_loss: 3.4470 - val_accuracy: 0.7765\n",
            "Epoch 100/100\n",
            "123/123 [==============================] - 0s 1ms/step - loss: 3.3110 - accuracy: 0.7853 - val_loss: 3.4470 - val_accuracy: 0.7765\n"
          ],
          "name": "stdout"
        }
      ]
    },
    {
      "cell_type": "code",
      "metadata": {
        "id": "KFZl_J-ovsEX",
        "outputId": "4d9c2bf4-abb7-4e97-92a7-533bf590c0b5",
        "colab": {
          "base_uri": "https://localhost:8080/",
          "height": 534
        }
      },
      "source": [
        "plot_loss_new(history_sgd)"
      ],
      "execution_count": 79,
      "outputs": [
        {
          "output_type": "display_data",
          "data": {
            "image/png": "[encoded data removed]",
            "text/plain": [
              "<Figure size 432x288 with 1 Axes>"
            ]
          },
          "metadata": {
            "tags": [],
            "needs_background": "light"
          }
        },
        {
          "output_type": "stream",
          "text": [
            "Minimum Loss             : 81    3.310968\n",
            "Name: loss, dtype: float64\n",
            "\n",
            "Minimum Validation Loss  : 0     3.447004\n",
            "1     3.447004\n",
            "2     3.447004\n",
            "3     3.447004\n",
            "4     3.447004\n",
            "        ...   \n",
            "95    3.447004\n",
            "96    3.447004\n",
            "97    3.447004\n",
            "98    3.447004\n",
            "99    3.447004\n",
            "Name: val_loss, Length: 100, dtype: float64\n"
          ],
          "name": "stdout"
        }
      ]
    },
    {
      "cell_type": "markdown",
      "metadata": {
        "id": "dXpa3ZP38Tqm"
      },
      "source": [
        "Model overfit, nilai val_loss 3.447004 dengan val_accuracy 0.7765"
      ]
    },
    {
      "cell_type": "markdown",
      "metadata": {
        "id": "jwTu6mT48lPK"
      },
      "source": [
        "**Base layer dengan Dropout dan SGD**"
      ]
    },
    {
      "cell_type": "code",
      "metadata": {
        "id": "HLGMLLJExMNh"
      },
      "source": [
        "from tensorflow.keras.optimizers import SGD\n",
        "from tensorflow.keras.layers import Dropout\n",
        "\n",
        "model = Sequential()\n",
        "model.add(Dense(11, input_dim=11, kernel_initializer='normal', activation='relu'))\n",
        "model.add(Dropout(0.5))\n",
        "model.add(Dense(1, kernel_initializer='normal'))\n",
        "\n",
        "opt = SGD(learning_rate=0.001, momentum=0.9)\n",
        "\n",
        "model.compile(loss='binary_crossentropy', optimizer=opt, metrics=['accuracy'])"
      ],
      "execution_count": 80,
      "outputs": []
    },
    {
      "cell_type": "code",
      "metadata": {
        "id": "aiHT0QQAxpkD",
        "outputId": "91c3edf6-83bc-405d-9439-6b504a842b9a",
        "colab": {
          "base_uri": "https://localhost:8080/",
          "height": 255
        }
      },
      "source": [
        "model.summary()"
      ],
      "execution_count": 81,
      "outputs": [
        {
          "output_type": "stream",
          "text": [
            "Model: \"sequential_7\"\n",
            "_________________________________________________________________\n",
            "Layer (type)                 Output Shape              Param #   \n",
            "=================================================================\n",
            "dense_16 (Dense)             (None, 11)                132       \n",
            "_________________________________________________________________\n",
            "dropout (Dropout)            (None, 11)                0         \n",
            "_________________________________________________________________\n",
            "dense_17 (Dense)             (None, 1)                 12        \n",
            "=================================================================\n",
            "Total params: 144\n",
            "Trainable params: 144\n",
            "Non-trainable params: 0\n",
            "_________________________________________________________________\n"
          ],
          "name": "stdout"
        }
      ]
    },
    {
      "cell_type": "code",
      "metadata": {
        "id": "OfG6ATi4xsCm",
        "outputId": "be0fc14c-8337-4a61-dabf-c58f9dbd045a",
        "colab": {
          "base_uri": "https://localhost:8080/",
          "height": 1000
        }
      },
      "source": [
        "history_dropout = model.fit(x=X_train, y=y_train, validation_data=(X_test, y_test), epochs=100, batch_size=32)"
      ],
      "execution_count": 82,
      "outputs": [
        {
          "output_type": "stream",
          "text": [
            "Epoch 1/100\n",
            "123/123 [==============================] - 0s 3ms/step - loss: 3.6977 - accuracy: 0.7351 - val_loss: 3.4470 - val_accuracy: 0.7765\n",
            "Epoch 2/100\n",
            "123/123 [==============================] - 0s 1ms/step - loss: 2.9936 - accuracy: 0.7853 - val_loss: 3.4470 - val_accuracy: 0.7765\n",
            "Epoch 3/100\n",
            "123/123 [==============================] - 0s 1ms/step - loss: 2.9666 - accuracy: 0.7853 - val_loss: 3.4470 - val_accuracy: 0.7765\n",
            "Epoch 4/100\n",
            "123/123 [==============================] - 0s 1ms/step - loss: 2.9291 - accuracy: 0.7853 - val_loss: 3.4470 - val_accuracy: 0.7765\n",
            "Epoch 5/100\n",
            "123/123 [==============================] - 0s 1ms/step - loss: 2.9808 - accuracy: 0.7853 - val_loss: 3.4470 - val_accuracy: 0.7765\n",
            "Epoch 6/100\n",
            "123/123 [==============================] - 0s 1ms/step - loss: 2.9581 - accuracy: 0.7853 - val_loss: 3.4470 - val_accuracy: 0.7765\n",
            "Epoch 7/100\n",
            "123/123 [==============================] - 0s 1ms/step - loss: 2.9496 - accuracy: 0.7853 - val_loss: 3.4470 - val_accuracy: 0.7765\n",
            "Epoch 8/100\n",
            "123/123 [==============================] - 0s 1ms/step - loss: 2.9680 - accuracy: 0.7853 - val_loss: 3.4470 - val_accuracy: 0.7765\n",
            "Epoch 9/100\n",
            "123/123 [==============================] - 0s 1ms/step - loss: 2.9572 - accuracy: 0.7853 - val_loss: 3.4470 - val_accuracy: 0.7765\n",
            "Epoch 10/100\n",
            "123/123 [==============================] - 0s 1ms/step - loss: 2.9759 - accuracy: 0.7853 - val_loss: 3.4470 - val_accuracy: 0.7765\n",
            "Epoch 11/100\n",
            "123/123 [==============================] - 0s 1ms/step - loss: 2.9381 - accuracy: 0.7853 - val_loss: 3.4470 - val_accuracy: 0.7765\n",
            "Epoch 12/100\n",
            "123/123 [==============================] - 0s 1ms/step - loss: 2.9755 - accuracy: 0.7853 - val_loss: 3.4470 - val_accuracy: 0.7765\n",
            "Epoch 13/100\n",
            "123/123 [==============================] - 0s 1ms/step - loss: 2.9589 - accuracy: 0.7853 - val_loss: 3.4470 - val_accuracy: 0.7765\n",
            "Epoch 14/100\n",
            "123/123 [==============================] - 0s 1ms/step - loss: 2.9271 - accuracy: 0.7853 - val_loss: 3.4470 - val_accuracy: 0.7765\n",
            "Epoch 15/100\n",
            "123/123 [==============================] - 0s 1ms/step - loss: 2.9790 - accuracy: 0.7853 - val_loss: 3.4470 - val_accuracy: 0.7765\n",
            "Epoch 16/100\n",
            "123/123 [==============================] - 0s 1ms/step - loss: 2.9613 - accuracy: 0.7853 - val_loss: 3.4470 - val_accuracy: 0.7765\n",
            "Epoch 17/100\n",
            "123/123 [==============================] - 0s 1ms/step - loss: 2.9771 - accuracy: 0.7853 - val_loss: 3.4470 - val_accuracy: 0.7765\n",
            "Epoch 18/100\n",
            "123/123 [==============================] - 0s 1ms/step - loss: 2.9335 - accuracy: 0.7853 - val_loss: 3.4470 - val_accuracy: 0.7765\n",
            "Epoch 19/100\n",
            "123/123 [==============================] - 0s 1ms/step - loss: 2.8966 - accuracy: 0.7853 - val_loss: 3.4470 - val_accuracy: 0.7765\n",
            "Epoch 20/100\n",
            "123/123 [==============================] - 0s 1ms/step - loss: 2.8982 - accuracy: 0.7853 - val_loss: 3.4470 - val_accuracy: 0.7765\n",
            "Epoch 21/100\n",
            "123/123 [==============================] - 0s 1ms/step - loss: 2.9332 - accuracy: 0.7853 - val_loss: 3.4470 - val_accuracy: 0.7765\n",
            "Epoch 22/100\n",
            "123/123 [==============================] - 0s 1ms/step - loss: 2.9688 - accuracy: 0.7853 - val_loss: 3.4470 - val_accuracy: 0.7765\n",
            "Epoch 23/100\n",
            "123/123 [==============================] - 0s 1ms/step - loss: 2.9544 - accuracy: 0.7853 - val_loss: 3.4470 - val_accuracy: 0.7765\n",
            "Epoch 24/100\n",
            "123/123 [==============================] - 0s 1ms/step - loss: 2.9952 - accuracy: 0.7853 - val_loss: 3.4470 - val_accuracy: 0.7765\n",
            "Epoch 25/100\n",
            "123/123 [==============================] - 0s 1ms/step - loss: 2.9766 - accuracy: 0.7853 - val_loss: 3.4470 - val_accuracy: 0.7765\n",
            "Epoch 26/100\n",
            "123/123 [==============================] - 0s 1ms/step - loss: 2.9588 - accuracy: 0.7853 - val_loss: 3.4470 - val_accuracy: 0.7765\n",
            "Epoch 27/100\n",
            "123/123 [==============================] - 0s 1ms/step - loss: 2.9290 - accuracy: 0.7853 - val_loss: 3.4470 - val_accuracy: 0.7765\n",
            "Epoch 28/100\n",
            "123/123 [==============================] - 0s 1ms/step - loss: 2.9439 - accuracy: 0.7853 - val_loss: 3.4470 - val_accuracy: 0.7765\n",
            "Epoch 29/100\n",
            "123/123 [==============================] - 0s 1ms/step - loss: 3.0120 - accuracy: 0.7853 - val_loss: 3.4470 - val_accuracy: 0.7765\n",
            "Epoch 30/100\n",
            "123/123 [==============================] - 0s 1ms/step - loss: 2.9509 - accuracy: 0.7853 - val_loss: 3.4470 - val_accuracy: 0.7765\n",
            "Epoch 31/100\n",
            "123/123 [==============================] - 0s 1ms/step - loss: 2.9452 - accuracy: 0.7853 - val_loss: 3.4470 - val_accuracy: 0.7765\n",
            "Epoch 32/100\n",
            "123/123 [==============================] - 0s 1ms/step - loss: 2.9697 - accuracy: 0.7853 - val_loss: 3.4470 - val_accuracy: 0.7765\n",
            "Epoch 33/100\n",
            "123/123 [==============================] - 0s 1ms/step - loss: 2.9917 - accuracy: 0.7853 - val_loss: 3.4470 - val_accuracy: 0.7765\n",
            "Epoch 34/100\n",
            "123/123 [==============================] - 0s 1ms/step - loss: 2.9892 - accuracy: 0.7853 - val_loss: 3.4470 - val_accuracy: 0.7765\n",
            "Epoch 35/100\n",
            "123/123 [==============================] - 0s 1ms/step - loss: 2.9594 - accuracy: 0.7853 - val_loss: 3.4470 - val_accuracy: 0.7765\n",
            "Epoch 36/100\n",
            "123/123 [==============================] - 0s 1ms/step - loss: 2.9709 - accuracy: 0.7853 - val_loss: 3.4470 - val_accuracy: 0.7765\n",
            "Epoch 37/100\n",
            "123/123 [==============================] - 0s 1ms/step - loss: 2.9225 - accuracy: 0.7853 - val_loss: 3.4470 - val_accuracy: 0.7765\n",
            "Epoch 38/100\n",
            "123/123 [==============================] - 0s 1ms/step - loss: 3.0168 - accuracy: 0.7853 - val_loss: 3.4470 - val_accuracy: 0.7765\n",
            "Epoch 39/100\n",
            "123/123 [==============================] - 0s 1ms/step - loss: 2.9688 - accuracy: 0.7853 - val_loss: 3.4470 - val_accuracy: 0.7765\n",
            "Epoch 40/100\n",
            "123/123 [==============================] - 0s 1ms/step - loss: 2.9173 - accuracy: 0.7853 - val_loss: 3.4470 - val_accuracy: 0.7765\n",
            "Epoch 41/100\n",
            "123/123 [==============================] - 0s 1ms/step - loss: 2.9872 - accuracy: 0.7853 - val_loss: 3.4470 - val_accuracy: 0.7765\n",
            "Epoch 42/100\n",
            "123/123 [==============================] - 0s 1ms/step - loss: 2.9244 - accuracy: 0.7853 - val_loss: 3.4470 - val_accuracy: 0.7765\n",
            "Epoch 43/100\n",
            "123/123 [==============================] - 0s 1ms/step - loss: 3.0153 - accuracy: 0.7853 - val_loss: 3.4470 - val_accuracy: 0.7765\n",
            "Epoch 44/100\n",
            "123/123 [==============================] - 0s 1ms/step - loss: 2.9558 - accuracy: 0.7853 - val_loss: 3.4470 - val_accuracy: 0.7765\n",
            "Epoch 45/100\n",
            "123/123 [==============================] - 0s 2ms/step - loss: 2.9695 - accuracy: 0.7853 - val_loss: 3.4470 - val_accuracy: 0.7765\n",
            "Epoch 46/100\n",
            "123/123 [==============================] - 0s 1ms/step - loss: 2.9711 - accuracy: 0.7853 - val_loss: 3.4470 - val_accuracy: 0.7765\n",
            "Epoch 47/100\n",
            "123/123 [==============================] - 0s 1ms/step - loss: 2.9834 - accuracy: 0.7853 - val_loss: 3.4470 - val_accuracy: 0.7765\n",
            "Epoch 48/100\n",
            "123/123 [==============================] - 0s 1ms/step - loss: 3.0334 - accuracy: 0.7853 - val_loss: 3.4470 - val_accuracy: 0.7765\n",
            "Epoch 49/100\n",
            "123/123 [==============================] - 0s 1ms/step - loss: 2.9236 - accuracy: 0.7853 - val_loss: 3.4470 - val_accuracy: 0.7765\n",
            "Epoch 50/100\n",
            "123/123 [==============================] - 0s 1ms/step - loss: 2.9883 - accuracy: 0.7853 - val_loss: 3.4470 - val_accuracy: 0.7765\n",
            "Epoch 51/100\n",
            "123/123 [==============================] - 0s 1ms/step - loss: 3.0170 - accuracy: 0.7853 - val_loss: 3.4470 - val_accuracy: 0.7765\n",
            "Epoch 52/100\n",
            "123/123 [==============================] - 0s 1ms/step - loss: 2.9486 - accuracy: 0.7853 - val_loss: 3.4470 - val_accuracy: 0.7765\n",
            "Epoch 53/100\n",
            "123/123 [==============================] - 0s 1ms/step - loss: 2.9215 - accuracy: 0.7853 - val_loss: 3.4470 - val_accuracy: 0.7765\n",
            "Epoch 54/100\n",
            "123/123 [==============================] - 0s 1ms/step - loss: 2.9634 - accuracy: 0.7853 - val_loss: 3.4470 - val_accuracy: 0.7765\n",
            "Epoch 55/100\n",
            "123/123 [==============================] - 0s 1ms/step - loss: 2.9549 - accuracy: 0.7853 - val_loss: 3.4470 - val_accuracy: 0.7765\n",
            "Epoch 56/100\n",
            "123/123 [==============================] - 0s 1ms/step - loss: 2.9788 - accuracy: 0.7853 - val_loss: 3.4470 - val_accuracy: 0.7765\n",
            "Epoch 57/100\n",
            "123/123 [==============================] - 0s 1ms/step - loss: 2.9938 - accuracy: 0.7853 - val_loss: 3.4470 - val_accuracy: 0.7765\n",
            "Epoch 58/100\n",
            "123/123 [==============================] - 0s 1ms/step - loss: 2.9581 - accuracy: 0.7853 - val_loss: 3.4470 - val_accuracy: 0.7765\n",
            "Epoch 59/100\n",
            "123/123 [==============================] - 0s 1ms/step - loss: 2.9901 - accuracy: 0.7853 - val_loss: 3.4470 - val_accuracy: 0.7765\n",
            "Epoch 60/100\n",
            "123/123 [==============================] - 0s 1ms/step - loss: 2.9571 - accuracy: 0.7853 - val_loss: 3.4470 - val_accuracy: 0.7765\n",
            "Epoch 61/100\n",
            "123/123 [==============================] - 0s 1ms/step - loss: 2.9030 - accuracy: 0.7853 - val_loss: 3.4470 - val_accuracy: 0.7765\n",
            "Epoch 62/100\n",
            "123/123 [==============================] - 0s 1ms/step - loss: 2.9439 - accuracy: 0.7853 - val_loss: 3.4470 - val_accuracy: 0.7765\n",
            "Epoch 63/100\n",
            "123/123 [==============================] - 0s 1ms/step - loss: 2.9336 - accuracy: 0.7853 - val_loss: 3.4470 - val_accuracy: 0.7765\n",
            "Epoch 64/100\n",
            "123/123 [==============================] - 0s 1ms/step - loss: 2.8861 - accuracy: 0.7853 - val_loss: 3.4470 - val_accuracy: 0.7765\n",
            "Epoch 65/100\n",
            "123/123 [==============================] - 0s 1ms/step - loss: 2.9478 - accuracy: 0.7853 - val_loss: 3.4470 - val_accuracy: 0.7765\n",
            "Epoch 66/100\n",
            "123/123 [==============================] - 0s 1ms/step - loss: 3.0095 - accuracy: 0.7853 - val_loss: 3.4470 - val_accuracy: 0.7765\n",
            "Epoch 67/100\n",
            "123/123 [==============================] - 0s 1ms/step - loss: 2.9758 - accuracy: 0.7853 - val_loss: 3.4470 - val_accuracy: 0.7765\n",
            "Epoch 68/100\n",
            "123/123 [==============================] - 0s 1ms/step - loss: 2.9632 - accuracy: 0.7853 - val_loss: 3.4470 - val_accuracy: 0.7765\n",
            "Epoch 69/100\n",
            "123/123 [==============================] - 0s 1ms/step - loss: 2.9731 - accuracy: 0.7853 - val_loss: 3.4470 - val_accuracy: 0.7765\n",
            "Epoch 70/100\n",
            "123/123 [==============================] - 0s 1ms/step - loss: 2.9873 - accuracy: 0.7853 - val_loss: 3.4470 - val_accuracy: 0.7765\n",
            "Epoch 71/100\n",
            "123/123 [==============================] - 0s 1ms/step - loss: 2.9456 - accuracy: 0.7853 - val_loss: 3.4470 - val_accuracy: 0.7765\n",
            "Epoch 72/100\n",
            "123/123 [==============================] - 0s 1ms/step - loss: 2.9832 - accuracy: 0.7853 - val_loss: 3.4470 - val_accuracy: 0.7765\n",
            "Epoch 73/100\n",
            "123/123 [==============================] - 0s 1ms/step - loss: 3.0315 - accuracy: 0.7853 - val_loss: 3.4470 - val_accuracy: 0.7765\n",
            "Epoch 74/100\n",
            "123/123 [==============================] - 0s 1ms/step - loss: 2.9745 - accuracy: 0.7853 - val_loss: 3.4470 - val_accuracy: 0.7765\n",
            "Epoch 75/100\n",
            "123/123 [==============================] - 0s 1ms/step - loss: 2.9078 - accuracy: 0.7853 - val_loss: 3.4470 - val_accuracy: 0.7765\n",
            "Epoch 76/100\n",
            "123/123 [==============================] - 0s 1ms/step - loss: 2.9771 - accuracy: 0.7853 - val_loss: 3.4470 - val_accuracy: 0.7765\n",
            "Epoch 77/100\n",
            "123/123 [==============================] - 0s 1ms/step - loss: 2.9842 - accuracy: 0.7853 - val_loss: 3.4470 - val_accuracy: 0.7765\n",
            "Epoch 78/100\n",
            "123/123 [==============================] - 0s 1ms/step - loss: 2.9742 - accuracy: 0.7853 - val_loss: 3.4470 - val_accuracy: 0.7765\n",
            "Epoch 79/100\n",
            "123/123 [==============================] - 0s 1ms/step - loss: 2.9282 - accuracy: 0.7853 - val_loss: 3.4470 - val_accuracy: 0.7765\n",
            "Epoch 80/100\n",
            "123/123 [==============================] - 0s 1ms/step - loss: 2.9430 - accuracy: 0.7853 - val_loss: 3.4470 - val_accuracy: 0.7765\n",
            "Epoch 81/100\n",
            "123/123 [==============================] - 0s 1ms/step - loss: 2.9038 - accuracy: 0.7853 - val_loss: 3.4470 - val_accuracy: 0.7765\n",
            "Epoch 82/100\n",
            "123/123 [==============================] - 0s 1ms/step - loss: 2.9307 - accuracy: 0.7853 - val_loss: 3.4470 - val_accuracy: 0.7765\n",
            "Epoch 83/100\n",
            "123/123 [==============================] - 0s 1ms/step - loss: 2.9606 - accuracy: 0.7853 - val_loss: 3.4470 - val_accuracy: 0.7765\n",
            "Epoch 84/100\n",
            "123/123 [==============================] - 0s 1ms/step - loss: 2.9874 - accuracy: 0.7853 - val_loss: 3.4470 - val_accuracy: 0.7765\n",
            "Epoch 85/100\n",
            "123/123 [==============================] - 0s 1ms/step - loss: 2.9751 - accuracy: 0.7853 - val_loss: 3.4470 - val_accuracy: 0.7765\n",
            "Epoch 86/100\n",
            "123/123 [==============================] - 0s 1ms/step - loss: 2.9718 - accuracy: 0.7853 - val_loss: 3.4470 - val_accuracy: 0.7765\n",
            "Epoch 87/100\n",
            "123/123 [==============================] - 0s 1ms/step - loss: 2.9480 - accuracy: 0.7853 - val_loss: 3.4470 - val_accuracy: 0.7765\n",
            "Epoch 88/100\n",
            "123/123 [==============================] - 0s 1ms/step - loss: 2.9914 - accuracy: 0.7853 - val_loss: 3.4470 - val_accuracy: 0.7765\n",
            "Epoch 89/100\n",
            "123/123 [==============================] - 0s 1ms/step - loss: 2.9896 - accuracy: 0.7853 - val_loss: 3.4470 - val_accuracy: 0.7765\n",
            "Epoch 90/100\n",
            "123/123 [==============================] - 0s 1ms/step - loss: 2.9827 - accuracy: 0.7853 - val_loss: 3.4470 - val_accuracy: 0.7765\n",
            "Epoch 91/100\n",
            "123/123 [==============================] - 0s 1ms/step - loss: 2.9476 - accuracy: 0.7853 - val_loss: 3.4470 - val_accuracy: 0.7765\n",
            "Epoch 92/100\n",
            "123/123 [==============================] - 0s 1ms/step - loss: 2.8861 - accuracy: 0.7853 - val_loss: 3.4470 - val_accuracy: 0.7765\n",
            "Epoch 93/100\n",
            "123/123 [==============================] - 0s 1ms/step - loss: 2.9040 - accuracy: 0.7853 - val_loss: 3.4470 - val_accuracy: 0.7765\n",
            "Epoch 94/100\n",
            "123/123 [==============================] - 0s 1ms/step - loss: 2.9588 - accuracy: 0.7853 - val_loss: 3.4470 - val_accuracy: 0.7765\n",
            "Epoch 95/100\n",
            "123/123 [==============================] - 0s 1ms/step - loss: 2.9251 - accuracy: 0.7853 - val_loss: 3.4470 - val_accuracy: 0.7765\n",
            "Epoch 96/100\n",
            "123/123 [==============================] - 0s 1ms/step - loss: 2.9915 - accuracy: 0.7853 - val_loss: 3.4470 - val_accuracy: 0.7765\n",
            "Epoch 97/100\n",
            "123/123 [==============================] - 0s 1ms/step - loss: 2.9595 - accuracy: 0.7853 - val_loss: 3.4470 - val_accuracy: 0.7765\n",
            "Epoch 98/100\n",
            "123/123 [==============================] - 0s 1ms/step - loss: 2.9681 - accuracy: 0.7853 - val_loss: 3.4470 - val_accuracy: 0.7765\n",
            "Epoch 99/100\n",
            "123/123 [==============================] - 0s 1ms/step - loss: 2.9845 - accuracy: 0.7853 - val_loss: 3.4470 - val_accuracy: 0.7765\n",
            "Epoch 100/100\n",
            "123/123 [==============================] - 0s 1ms/step - loss: 3.0335 - accuracy: 0.7853 - val_loss: 3.4470 - val_accuracy: 0.7765\n"
          ],
          "name": "stdout"
        }
      ]
    },
    {
      "cell_type": "code",
      "metadata": {
        "id": "mAPZ4AZIxvds",
        "outputId": "93bde1eb-824c-4537-e4c0-e152a6930f86",
        "colab": {
          "base_uri": "https://localhost:8080/",
          "height": 534
        }
      },
      "source": [
        "plot_loss_new(history_dropout)"
      ],
      "execution_count": 83,
      "outputs": [
        {
          "output_type": "display_data",
          "data": {
            "image/png": "[encoded data removed]",
            "text/plain": [
              "<Figure size 432x288 with 1 Axes>"
            ]
          },
          "metadata": {
            "tags": [],
            "needs_background": "light"
          }
        },
        {
          "output_type": "stream",
          "text": [
            "Minimum Loss             : 63    2.88607\n",
            "Name: loss, dtype: float64\n",
            "\n",
            "Minimum Validation Loss  : 0     3.447004\n",
            "1     3.447004\n",
            "2     3.447004\n",
            "3     3.447004\n",
            "4     3.447004\n",
            "        ...   \n",
            "95    3.447004\n",
            "96    3.447004\n",
            "97    3.447004\n",
            "98    3.447004\n",
            "99    3.447004\n",
            "Name: val_loss, Length: 100, dtype: float64\n"
          ],
          "name": "stdout"
        }
      ]
    },
    {
      "cell_type": "markdown",
      "metadata": {
        "id": "E0Bw9djQ8J10"
      },
      "source": [
        "Model overfit, nilai val_loss 3.447004 dengan val_accuracy 0.7765"
      ]
    },
    {
      "cell_type": "code",
      "metadata": {
        "id": "u6ggigDf1MAh"
      },
      "source": [
        "from tensorflow.keras.models import Sequential\n",
        "from tensorflow.keras.layers import Conv2D\n",
        "from tensorflow.keras.layers import MaxPooling2D\n",
        "from tensorflow.keras.layers import Dense\n",
        "from tensorflow.keras.layers import Flatten\n",
        "from tensorflow.keras.optimizers import SGD\n",
        "from tensorflow.keras.layers import BatchNormalization"
      ],
      "execution_count": 85,
      "outputs": []
    },
    {
      "cell_type": "markdown",
      "metadata": {
        "id": "4tlNSQE58p81"
      },
      "source": [
        "**Deep layer dengan dropout**"
      ]
    },
    {
      "cell_type": "code",
      "metadata": {
        "id": "C8E1KoJWx5xi"
      },
      "source": [
        "deep1 = Sequential()\n",
        "deep1.add(Dense(11, input_dim=11, kernel_initializer='normal', activation='relu'))\n",
        "deep1.add(Dropout(0.25))\n",
        "deep1.add(Dense(6, kernel_initializer='normal', activation='relu'))\n",
        "deep1.add(Dropout(0.25))\n",
        "deep1.add(Dense(1, kernel_initializer='normal'))\n",
        "\n",
        "deep1.compile(loss='binary_crossentropy', optimizer='adam', metrics=['accuracy'])"
      ],
      "execution_count": 87,
      "outputs": []
    },
    {
      "cell_type": "code",
      "metadata": {
        "id": "_uUbe792yhWX",
        "outputId": "6a55924e-077a-4317-de68-67cc4e817f76",
        "colab": {
          "base_uri": "https://localhost:8080/",
          "height": 323
        }
      },
      "source": [
        "deep1.summary()"
      ],
      "execution_count": 88,
      "outputs": [
        {
          "output_type": "stream",
          "text": [
            "Model: \"sequential_9\"\n",
            "_________________________________________________________________\n",
            "Layer (type)                 Output Shape              Param #   \n",
            "=================================================================\n",
            "dense_20 (Dense)             (None, 11)                132       \n",
            "_________________________________________________________________\n",
            "dropout_1 (Dropout)          (None, 11)                0         \n",
            "_________________________________________________________________\n",
            "dense_21 (Dense)             (None, 6)                 72        \n",
            "_________________________________________________________________\n",
            "dropout_2 (Dropout)          (None, 6)                 0         \n",
            "_________________________________________________________________\n",
            "dense_22 (Dense)             (None, 1)                 7         \n",
            "=================================================================\n",
            "Total params: 211\n",
            "Trainable params: 211\n",
            "Non-trainable params: 0\n",
            "_________________________________________________________________\n"
          ],
          "name": "stdout"
        }
      ]
    },
    {
      "cell_type": "code",
      "metadata": {
        "id": "HkIzVRiE1ze1",
        "outputId": "bcfd5663-8581-4ee3-b99f-e605c095184c",
        "colab": {
          "base_uri": "https://localhost:8080/",
          "height": 1000
        }
      },
      "source": [
        "history_dropout_deep = deep1.fit(x=X_train, y=y_train, validation_data=(X_test, y_test), epochs=100, batch_size=32)"
      ],
      "execution_count": 90,
      "outputs": [
        {
          "output_type": "stream",
          "text": [
            "Epoch 1/100\n",
            "123/123 [==============================] - 0s 3ms/step - loss: 0.6163 - accuracy: 0.7825 - val_loss: 0.5621 - val_accuracy: 0.7765\n",
            "Epoch 2/100\n",
            "123/123 [==============================] - 0s 1ms/step - loss: 0.5598 - accuracy: 0.7836 - val_loss: 0.5513 - val_accuracy: 0.7765\n",
            "Epoch 3/100\n",
            "123/123 [==============================] - 0s 1ms/step - loss: 0.5424 - accuracy: 0.7846 - val_loss: 0.5437 - val_accuracy: 0.7765\n",
            "Epoch 4/100\n",
            "123/123 [==============================] - 0s 2ms/step - loss: 0.5303 - accuracy: 0.7846 - val_loss: 0.5159 - val_accuracy: 0.7765\n",
            "Epoch 5/100\n",
            "123/123 [==============================] - 0s 1ms/step - loss: 0.5171 - accuracy: 0.7848 - val_loss: 0.4996 - val_accuracy: 0.7765\n",
            "Epoch 6/100\n",
            "123/123 [==============================] - 0s 2ms/step - loss: 0.5043 - accuracy: 0.7848 - val_loss: 0.4893 - val_accuracy: 0.7765\n",
            "Epoch 7/100\n",
            "123/123 [==============================] - 0s 1ms/step - loss: 0.4963 - accuracy: 0.7853 - val_loss: 0.4845 - val_accuracy: 0.7765\n",
            "Epoch 8/100\n",
            "123/123 [==============================] - 0s 1ms/step - loss: 0.4937 - accuracy: 0.7828 - val_loss: 0.4931 - val_accuracy: 0.7765\n",
            "Epoch 9/100\n",
            "123/123 [==============================] - 0s 1ms/step - loss: 0.4885 - accuracy: 0.7805 - val_loss: 0.4871 - val_accuracy: 0.7765\n",
            "Epoch 10/100\n",
            "123/123 [==============================] - 0s 2ms/step - loss: 0.4924 - accuracy: 0.7825 - val_loss: 0.4773 - val_accuracy: 0.7765\n",
            "Epoch 11/100\n",
            "123/123 [==============================] - 0s 1ms/step - loss: 0.4927 - accuracy: 0.7805 - val_loss: 0.4892 - val_accuracy: 0.7765\n",
            "Epoch 12/100\n",
            "123/123 [==============================] - 0s 2ms/step - loss: 0.4851 - accuracy: 0.7820 - val_loss: 0.4830 - val_accuracy: 0.7776\n",
            "Epoch 13/100\n",
            "123/123 [==============================] - 0s 2ms/step - loss: 0.4885 - accuracy: 0.7802 - val_loss: 0.4743 - val_accuracy: 0.7776\n",
            "Epoch 14/100\n",
            "123/123 [==============================] - 0s 2ms/step - loss: 0.4828 - accuracy: 0.7856 - val_loss: 0.4730 - val_accuracy: 0.7786\n",
            "Epoch 15/100\n",
            "123/123 [==============================] - 0s 2ms/step - loss: 0.4826 - accuracy: 0.7831 - val_loss: 0.4732 - val_accuracy: 0.7796\n",
            "Epoch 16/100\n",
            "123/123 [==============================] - 0s 1ms/step - loss: 0.4847 - accuracy: 0.7805 - val_loss: 0.4835 - val_accuracy: 0.7765\n",
            "Epoch 17/100\n",
            "123/123 [==============================] - 0s 1ms/step - loss: 0.4813 - accuracy: 0.7818 - val_loss: 0.4820 - val_accuracy: 0.7765\n",
            "Epoch 18/100\n",
            "123/123 [==============================] - 0s 2ms/step - loss: 0.4775 - accuracy: 0.7820 - val_loss: 0.4759 - val_accuracy: 0.7765\n",
            "Epoch 19/100\n",
            "123/123 [==============================] - 0s 2ms/step - loss: 0.4851 - accuracy: 0.7846 - val_loss: 0.4729 - val_accuracy: 0.7786\n",
            "Epoch 20/100\n",
            "123/123 [==============================] - 0s 2ms/step - loss: 0.4802 - accuracy: 0.7818 - val_loss: 0.4684 - val_accuracy: 0.7786\n",
            "Epoch 21/100\n",
            "123/123 [==============================] - 0s 1ms/step - loss: 0.4800 - accuracy: 0.7823 - val_loss: 0.4683 - val_accuracy: 0.7806\n",
            "Epoch 22/100\n",
            "123/123 [==============================] - 0s 2ms/step - loss: 0.4758 - accuracy: 0.7836 - val_loss: 0.4661 - val_accuracy: 0.7806\n",
            "Epoch 23/100\n",
            "123/123 [==============================] - 0s 1ms/step - loss: 0.4845 - accuracy: 0.7879 - val_loss: 0.4689 - val_accuracy: 0.7776\n",
            "Epoch 24/100\n",
            "123/123 [==============================] - 0s 2ms/step - loss: 0.4742 - accuracy: 0.7864 - val_loss: 0.4746 - val_accuracy: 0.7776\n",
            "Epoch 25/100\n",
            "123/123 [==============================] - 0s 2ms/step - loss: 0.4743 - accuracy: 0.7876 - val_loss: 0.4736 - val_accuracy: 0.7796\n",
            "Epoch 26/100\n",
            "123/123 [==============================] - 0s 1ms/step - loss: 0.4792 - accuracy: 0.7843 - val_loss: 0.4798 - val_accuracy: 0.7765\n",
            "Epoch 27/100\n",
            "123/123 [==============================] - 0s 2ms/step - loss: 0.4746 - accuracy: 0.7851 - val_loss: 0.4789 - val_accuracy: 0.7765\n",
            "Epoch 28/100\n",
            "123/123 [==============================] - 0s 2ms/step - loss: 0.4755 - accuracy: 0.7866 - val_loss: 0.4627 - val_accuracy: 0.7816\n",
            "Epoch 29/100\n",
            "123/123 [==============================] - 0s 2ms/step - loss: 0.4689 - accuracy: 0.7841 - val_loss: 0.4626 - val_accuracy: 0.7806\n",
            "Epoch 30/100\n",
            "123/123 [==============================] - 0s 2ms/step - loss: 0.4689 - accuracy: 0.7879 - val_loss: 0.4654 - val_accuracy: 0.7827\n",
            "Epoch 31/100\n",
            "123/123 [==============================] - 0s 1ms/step - loss: 0.4761 - accuracy: 0.7864 - val_loss: 0.4664 - val_accuracy: 0.7806\n",
            "Epoch 32/100\n",
            "123/123 [==============================] - 0s 2ms/step - loss: 0.4666 - accuracy: 0.7866 - val_loss: 0.4736 - val_accuracy: 0.7816\n",
            "Epoch 33/100\n",
            "123/123 [==============================] - 0s 2ms/step - loss: 0.4633 - accuracy: 0.7902 - val_loss: 0.4597 - val_accuracy: 0.7867\n",
            "Epoch 34/100\n",
            "123/123 [==============================] - 0s 2ms/step - loss: 0.4659 - accuracy: 0.7894 - val_loss: 0.4573 - val_accuracy: 0.7867\n",
            "Epoch 35/100\n",
            "123/123 [==============================] - 0s 2ms/step - loss: 0.4671 - accuracy: 0.7884 - val_loss: 0.4637 - val_accuracy: 0.7847\n",
            "Epoch 36/100\n",
            "123/123 [==============================] - 0s 2ms/step - loss: 0.4706 - accuracy: 0.7902 - val_loss: 0.4622 - val_accuracy: 0.7786\n",
            "Epoch 37/100\n",
            "123/123 [==============================] - 0s 1ms/step - loss: 0.4641 - accuracy: 0.7907 - val_loss: 0.4608 - val_accuracy: 0.7816\n",
            "Epoch 38/100\n",
            "123/123 [==============================] - 0s 2ms/step - loss: 0.4676 - accuracy: 0.7841 - val_loss: 0.4661 - val_accuracy: 0.7837\n",
            "Epoch 39/100\n",
            "123/123 [==============================] - 0s 2ms/step - loss: 0.4651 - accuracy: 0.7866 - val_loss: 0.4527 - val_accuracy: 0.7847\n",
            "Epoch 40/100\n",
            "123/123 [==============================] - 0s 2ms/step - loss: 0.4643 - accuracy: 0.7920 - val_loss: 0.4599 - val_accuracy: 0.7847\n",
            "Epoch 41/100\n",
            "123/123 [==============================] - 0s 2ms/step - loss: 0.4615 - accuracy: 0.7871 - val_loss: 0.4546 - val_accuracy: 0.7898\n",
            "Epoch 42/100\n",
            "123/123 [==============================] - 0s 2ms/step - loss: 0.4618 - accuracy: 0.7940 - val_loss: 0.4705 - val_accuracy: 0.7908\n",
            "Epoch 43/100\n",
            "123/123 [==============================] - 0s 2ms/step - loss: 0.4678 - accuracy: 0.7884 - val_loss: 0.4528 - val_accuracy: 0.7878\n",
            "Epoch 44/100\n",
            "123/123 [==============================] - 0s 2ms/step - loss: 0.4692 - accuracy: 0.7808 - val_loss: 0.4599 - val_accuracy: 0.7857\n",
            "Epoch 45/100\n",
            "123/123 [==============================] - 0s 2ms/step - loss: 0.4571 - accuracy: 0.7897 - val_loss: 0.4668 - val_accuracy: 0.7786\n",
            "Epoch 46/100\n",
            "123/123 [==============================] - 0s 1ms/step - loss: 0.4630 - accuracy: 0.7940 - val_loss: 0.4577 - val_accuracy: 0.7898\n",
            "Epoch 47/100\n",
            "123/123 [==============================] - 0s 2ms/step - loss: 0.4705 - accuracy: 0.7882 - val_loss: 0.4515 - val_accuracy: 0.7888\n",
            "Epoch 48/100\n",
            "123/123 [==============================] - 0s 1ms/step - loss: 0.4608 - accuracy: 0.7943 - val_loss: 0.4584 - val_accuracy: 0.7878\n",
            "Epoch 49/100\n",
            "123/123 [==============================] - 0s 1ms/step - loss: 0.4969 - accuracy: 0.7892 - val_loss: 0.5048 - val_accuracy: 0.7765\n",
            "Epoch 50/100\n",
            "123/123 [==============================] - 0s 1ms/step - loss: 0.4802 - accuracy: 0.7866 - val_loss: 0.4728 - val_accuracy: 0.7765\n",
            "Epoch 51/100\n",
            "123/123 [==============================] - 0s 2ms/step - loss: 0.4775 - accuracy: 0.7846 - val_loss: 0.4783 - val_accuracy: 0.7765\n",
            "Epoch 52/100\n",
            "123/123 [==============================] - 0s 1ms/step - loss: 0.4761 - accuracy: 0.7887 - val_loss: 0.4679 - val_accuracy: 0.7765\n",
            "Epoch 53/100\n",
            "123/123 [==============================] - 0s 2ms/step - loss: 0.4765 - accuracy: 0.7905 - val_loss: 0.4782 - val_accuracy: 0.7765\n",
            "Epoch 54/100\n",
            "123/123 [==============================] - 0s 1ms/step - loss: 0.4705 - accuracy: 0.7917 - val_loss: 0.4719 - val_accuracy: 0.7765\n",
            "Epoch 55/100\n",
            "123/123 [==============================] - 0s 2ms/step - loss: 0.4720 - accuracy: 0.7871 - val_loss: 0.4575 - val_accuracy: 0.7816\n",
            "Epoch 56/100\n",
            "123/123 [==============================] - 0s 2ms/step - loss: 0.4695 - accuracy: 0.7876 - val_loss: 0.4575 - val_accuracy: 0.7857\n",
            "Epoch 57/100\n",
            "123/123 [==============================] - 0s 2ms/step - loss: 0.4748 - accuracy: 0.7851 - val_loss: 0.4597 - val_accuracy: 0.7796\n",
            "Epoch 58/100\n",
            "123/123 [==============================] - 0s 2ms/step - loss: 0.4663 - accuracy: 0.7920 - val_loss: 0.4588 - val_accuracy: 0.7847\n",
            "Epoch 59/100\n",
            "123/123 [==============================] - 0s 2ms/step - loss: 0.4655 - accuracy: 0.7915 - val_loss: 0.4522 - val_accuracy: 0.7867\n",
            "Epoch 60/100\n",
            "123/123 [==============================] - 0s 2ms/step - loss: 0.4706 - accuracy: 0.7912 - val_loss: 0.4531 - val_accuracy: 0.7898\n",
            "Epoch 61/100\n",
            "123/123 [==============================] - 0s 2ms/step - loss: 0.4739 - accuracy: 0.7856 - val_loss: 0.4631 - val_accuracy: 0.7765\n",
            "Epoch 62/100\n",
            "123/123 [==============================] - 0s 2ms/step - loss: 0.4719 - accuracy: 0.7894 - val_loss: 0.4544 - val_accuracy: 0.7878\n",
            "Epoch 63/100\n",
            "123/123 [==============================] - 0s 1ms/step - loss: 0.4677 - accuracy: 0.7902 - val_loss: 0.4533 - val_accuracy: 0.7867\n",
            "Epoch 64/100\n",
            "123/123 [==============================] - 0s 2ms/step - loss: 0.4670 - accuracy: 0.7897 - val_loss: 0.4694 - val_accuracy: 0.7776\n",
            "Epoch 65/100\n",
            "123/123 [==============================] - 0s 2ms/step - loss: 0.4658 - accuracy: 0.7907 - val_loss: 0.4551 - val_accuracy: 0.7867\n",
            "Epoch 66/100\n",
            "123/123 [==============================] - 0s 2ms/step - loss: 0.4681 - accuracy: 0.7887 - val_loss: 0.4559 - val_accuracy: 0.7878\n",
            "Epoch 67/100\n",
            "123/123 [==============================] - 0s 2ms/step - loss: 0.4637 - accuracy: 0.7899 - val_loss: 0.4525 - val_accuracy: 0.7898\n",
            "Epoch 68/100\n",
            "123/123 [==============================] - 0s 2ms/step - loss: 0.4743 - accuracy: 0.7866 - val_loss: 0.4608 - val_accuracy: 0.7786\n",
            "Epoch 69/100\n",
            "123/123 [==============================] - 0s 2ms/step - loss: 0.4735 - accuracy: 0.7884 - val_loss: 0.4550 - val_accuracy: 0.7827\n",
            "Epoch 70/100\n",
            "123/123 [==============================] - 0s 2ms/step - loss: 0.4691 - accuracy: 0.7869 - val_loss: 0.4577 - val_accuracy: 0.7847\n",
            "Epoch 71/100\n",
            "123/123 [==============================] - 0s 2ms/step - loss: 0.4617 - accuracy: 0.7963 - val_loss: 0.4569 - val_accuracy: 0.7918\n",
            "Epoch 72/100\n",
            "123/123 [==============================] - 0s 2ms/step - loss: 0.4706 - accuracy: 0.7897 - val_loss: 0.4762 - val_accuracy: 0.7755\n",
            "Epoch 73/100\n",
            "123/123 [==============================] - 0s 2ms/step - loss: 0.4703 - accuracy: 0.7910 - val_loss: 0.4556 - val_accuracy: 0.7888\n",
            "Epoch 74/100\n",
            "123/123 [==============================] - 0s 2ms/step - loss: 0.4647 - accuracy: 0.7899 - val_loss: 0.4586 - val_accuracy: 0.7827\n",
            "Epoch 75/100\n",
            "123/123 [==============================] - 0s 2ms/step - loss: 0.4675 - accuracy: 0.7879 - val_loss: 0.4551 - val_accuracy: 0.7878\n",
            "Epoch 76/100\n",
            "123/123 [==============================] - 0s 2ms/step - loss: 0.4667 - accuracy: 0.7940 - val_loss: 0.4558 - val_accuracy: 0.7878\n",
            "Epoch 77/100\n",
            "123/123 [==============================] - 0s 2ms/step - loss: 0.4649 - accuracy: 0.7902 - val_loss: 0.4544 - val_accuracy: 0.7857\n",
            "Epoch 78/100\n",
            "123/123 [==============================] - 0s 2ms/step - loss: 0.4659 - accuracy: 0.7920 - val_loss: 0.4551 - val_accuracy: 0.7878\n",
            "Epoch 79/100\n",
            "123/123 [==============================] - 0s 2ms/step - loss: 0.4675 - accuracy: 0.7945 - val_loss: 0.4550 - val_accuracy: 0.7878\n",
            "Epoch 80/100\n",
            "123/123 [==============================] - 0s 2ms/step - loss: 0.4623 - accuracy: 0.7884 - val_loss: 0.4599 - val_accuracy: 0.7827\n",
            "Epoch 81/100\n",
            "123/123 [==============================] - 0s 2ms/step - loss: 0.4655 - accuracy: 0.7935 - val_loss: 0.4611 - val_accuracy: 0.7776\n",
            "Epoch 82/100\n",
            "123/123 [==============================] - 0s 2ms/step - loss: 0.4620 - accuracy: 0.7928 - val_loss: 0.4525 - val_accuracy: 0.7867\n",
            "Epoch 83/100\n",
            "123/123 [==============================] - 0s 2ms/step - loss: 0.4669 - accuracy: 0.7905 - val_loss: 0.4547 - val_accuracy: 0.7878\n",
            "Epoch 84/100\n",
            "123/123 [==============================] - 0s 2ms/step - loss: 0.4682 - accuracy: 0.7956 - val_loss: 0.4527 - val_accuracy: 0.7898\n",
            "Epoch 85/100\n",
            "123/123 [==============================] - 0s 2ms/step - loss: 0.4656 - accuracy: 0.7897 - val_loss: 0.4562 - val_accuracy: 0.7857\n",
            "Epoch 86/100\n",
            "123/123 [==============================] - 0s 2ms/step - loss: 0.4658 - accuracy: 0.7935 - val_loss: 0.4574 - val_accuracy: 0.7857\n",
            "Epoch 87/100\n",
            "123/123 [==============================] - 0s 2ms/step - loss: 0.4668 - accuracy: 0.7948 - val_loss: 0.4620 - val_accuracy: 0.7786\n",
            "Epoch 88/100\n",
            "123/123 [==============================] - 0s 2ms/step - loss: 0.4644 - accuracy: 0.7905 - val_loss: 0.4587 - val_accuracy: 0.7847\n",
            "Epoch 89/100\n",
            "123/123 [==============================] - 0s 2ms/step - loss: 0.4642 - accuracy: 0.7950 - val_loss: 0.4570 - val_accuracy: 0.7847\n",
            "Epoch 90/100\n",
            "123/123 [==============================] - 0s 2ms/step - loss: 0.4682 - accuracy: 0.7905 - val_loss: 0.4679 - val_accuracy: 0.7847\n",
            "Epoch 91/100\n",
            "123/123 [==============================] - 0s 2ms/step - loss: 0.4687 - accuracy: 0.7905 - val_loss: 0.4571 - val_accuracy: 0.7847\n",
            "Epoch 92/100\n",
            "123/123 [==============================] - 0s 2ms/step - loss: 0.4656 - accuracy: 0.7968 - val_loss: 0.4648 - val_accuracy: 0.7878\n",
            "Epoch 93/100\n",
            "123/123 [==============================] - 0s 2ms/step - loss: 0.4681 - accuracy: 0.7940 - val_loss: 0.4595 - val_accuracy: 0.7827\n",
            "Epoch 94/100\n",
            "123/123 [==============================] - 0s 2ms/step - loss: 0.4653 - accuracy: 0.7956 - val_loss: 0.4601 - val_accuracy: 0.7776\n",
            "Epoch 95/100\n",
            "123/123 [==============================] - 0s 2ms/step - loss: 0.4619 - accuracy: 0.7874 - val_loss: 0.4622 - val_accuracy: 0.7827\n",
            "Epoch 96/100\n",
            "123/123 [==============================] - 0s 2ms/step - loss: 0.4654 - accuracy: 0.7887 - val_loss: 0.4731 - val_accuracy: 0.7796\n",
            "Epoch 97/100\n",
            "123/123 [==============================] - 0s 2ms/step - loss: 0.4622 - accuracy: 0.7882 - val_loss: 0.4551 - val_accuracy: 0.7847\n",
            "Epoch 98/100\n",
            "123/123 [==============================] - 0s 2ms/step - loss: 0.4694 - accuracy: 0.7871 - val_loss: 0.4592 - val_accuracy: 0.7806\n",
            "Epoch 99/100\n",
            "123/123 [==============================] - 0s 2ms/step - loss: 0.4634 - accuracy: 0.7905 - val_loss: 0.4535 - val_accuracy: 0.7908\n",
            "Epoch 100/100\n",
            "123/123 [==============================] - 0s 1ms/step - loss: 0.4626 - accuracy: 0.7981 - val_loss: 0.4579 - val_accuracy: 0.7888\n"
          ],
          "name": "stdout"
        }
      ]
    },
    {
      "cell_type": "code",
      "metadata": {
        "id": "y8aCRbZg15Bh",
        "outputId": "1596e0d0-5eef-4ba7-b36f-2d67316ffd3e",
        "colab": {
          "base_uri": "https://localhost:8080/",
          "height": 364
        }
      },
      "source": [
        "plot_loss_new(history_dropout_deep)"
      ],
      "execution_count": 91,
      "outputs": [
        {
          "output_type": "display_data",
          "data": {
            "image/png": "[encoded data removed]",
            "text/plain": [
              "<Figure size 432x288 with 1 Axes>"
            ]
          },
          "metadata": {
            "tags": [],
            "needs_background": "light"
          }
        },
        {
          "output_type": "stream",
          "text": [
            "Minimum Loss             : 44    0.45708\n",
            "Name: loss, dtype: float64\n",
            "\n",
            "Minimum Validation Loss  : 46    0.451538\n",
            "Name: val_loss, dtype: float64\n"
          ],
          "name": "stdout"
        }
      ]
    },
    {
      "cell_type": "markdown",
      "metadata": {
        "id": "24yWeV0I8tF3"
      },
      "source": [
        "Model tidak overfit, val_loss minimum ada di epoch 46 dengan nilai 0.451538 dengan val_accuracy 0.788"
      ]
    },
    {
      "cell_type": "markdown",
      "metadata": {
        "id": "rmKyMbGt9I7g"
      },
      "source": [
        "Model terbaik diperoleh dengan Model Deeper dengan Dropout dan optimizer Adam dengan val_loss 0.451538 dan val_accuracy 0.788"
      ]
    }
  ]
}