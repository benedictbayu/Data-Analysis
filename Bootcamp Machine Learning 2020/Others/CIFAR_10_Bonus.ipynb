{
  "nbformat": 4,
  "nbformat_minor": 0,
  "metadata": {
    "colab": {
      "name": "CIFAR-10 Bonus.ipynb",
      "provenance": []
    },
    "kernelspec": {
      "name": "python3",
      "display_name": "Python 3"
    },
    "accelerator": "GPU"
  },
  "cells": [
    {
      "cell_type": "markdown",
      "metadata": {
        "id": "j9GthuqX1DBa"
      },
      "source": [
        "# **CIFAR-10**"
      ]
    },
    {
      "cell_type": "markdown",
      "metadata": {
        "id": "AOqiPFZO9d-c"
      },
      "source": [
        "**Benedictus Bayu Pramudhito**"
      ]
    },
    {
      "cell_type": "code",
      "metadata": {
        "id": "X2CjAi5clKSW"
      },
      "source": [
        "from tensorflow.keras.datasets import cifar10\n",
        "import matplotlib.pyplot as plt\n",
        "import pandas as pd"
      ],
      "execution_count": 30,
      "outputs": []
    },
    {
      "cell_type": "code",
      "metadata": {
        "id": "7U0GcJfWnbWh",
        "outputId": "4cd934c5-8b51-4668-c70b-11f9318e3eab",
        "colab": {
          "base_uri": "https://localhost:8080/",
          "height": 317
        }
      },
      "source": [
        "(X_train, y_train), (X_test, y_test) = cifar10.load_data()\n",
        "\n",
        "print(\"Train\", X_train.shape, y_train.shape)\n",
        "print(\"Test\", X_test.shape, y_test.shape)\n",
        "\n",
        "plt.imshow(X_train[50], cmap=plt.get_cmap('gray'))"
      ],
      "execution_count": 31,
      "outputs": [
        {
          "output_type": "stream",
          "text": [
            "Train (50000, 32, 32, 3) (50000, 1)\n",
            "Test (10000, 32, 32, 3) (10000, 1)\n"
          ],
          "name": "stdout"
        },
        {
          "output_type": "execute_result",
          "data": {
            "text/plain": [
              "<matplotlib.image.AxesImage at 0x7f4ed9fe1b70>"
            ]
          },
          "metadata": {
            "tags": []
          },
          "execution_count": 31
        },
        {
          "output_type": "display_data",
          "data": {
            "image/png": "[encoded data removed]",
            "text/plain": [
              "<Figure size 432x288 with 1 Axes>"
            ]
          },
          "metadata": {
            "tags": [],
            "needs_background": "light"
          }
        }
      ]
    },
    {
      "cell_type": "code",
      "metadata": {
        "id": "nlPEjyQ3nd_V",
        "outputId": "6b35afc2-66b1-4655-a12d-29dc565c2e63",
        "colab": {
          "base_uri": "https://localhost:8080/",
          "height": 1000
        }
      },
      "source": [
        "X_train"
      ],
      "execution_count": 32,
      "outputs": [
        {
          "output_type": "execute_result",
          "data": {
            "text/plain": [
              "array([[[[ 59,  62,  63],\n",
              "         [ 43,  46,  45],\n",
              "         [ 50,  48,  43],\n",
              "         ...,\n",
              "         [158, 132, 108],\n",
              "         [152, 125, 102],\n",
              "         [148, 124, 103]],\n",
              "\n",
              "        [[ 16,  20,  20],\n",
              "         [  0,   0,   0],\n",
              "         [ 18,   8,   0],\n",
              "         ...,\n",
              "         [123,  88,  55],\n",
              "         [119,  83,  50],\n",
              "         [122,  87,  57]],\n",
              "\n",
              "        [[ 25,  24,  21],\n",
              "         [ 16,   7,   0],\n",
              "         [ 49,  27,   8],\n",
              "         ...,\n",
              "         [118,  84,  50],\n",
              "         [120,  84,  50],\n",
              "         [109,  73,  42]],\n",
              "\n",
              "        ...,\n",
              "\n",
              "        [[208, 170,  96],\n",
              "         [201, 153,  34],\n",
              "         [198, 161,  26],\n",
              "         ...,\n",
              "         [160, 133,  70],\n",
              "         [ 56,  31,   7],\n",
              "         [ 53,  34,  20]],\n",
              "\n",
              "        [[180, 139,  96],\n",
              "         [173, 123,  42],\n",
              "         [186, 144,  30],\n",
              "         ...,\n",
              "         [184, 148,  94],\n",
              "         [ 97,  62,  34],\n",
              "         [ 83,  53,  34]],\n",
              "\n",
              "        [[177, 144, 116],\n",
              "         [168, 129,  94],\n",
              "         [179, 142,  87],\n",
              "         ...,\n",
              "         [216, 184, 140],\n",
              "         [151, 118,  84],\n",
              "         [123,  92,  72]]],\n",
              "\n",
              "\n",
              "       [[[154, 177, 187],\n",
              "         [126, 137, 136],\n",
              "         [105, 104,  95],\n",
              "         ...,\n",
              "         [ 91,  95,  71],\n",
              "         [ 87,  90,  71],\n",
              "         [ 79,  81,  70]],\n",
              "\n",
              "        [[140, 160, 169],\n",
              "         [145, 153, 154],\n",
              "         [125, 125, 118],\n",
              "         ...,\n",
              "         [ 96,  99,  78],\n",
              "         [ 77,  80,  62],\n",
              "         [ 71,  73,  61]],\n",
              "\n",
              "        [[140, 155, 164],\n",
              "         [139, 146, 149],\n",
              "         [115, 115, 112],\n",
              "         ...,\n",
              "         [ 79,  82,  64],\n",
              "         [ 68,  70,  55],\n",
              "         [ 67,  69,  55]],\n",
              "\n",
              "        ...,\n",
              "\n",
              "        [[175, 167, 166],\n",
              "         [156, 154, 160],\n",
              "         [154, 160, 170],\n",
              "         ...,\n",
              "         [ 42,  34,  36],\n",
              "         [ 61,  53,  57],\n",
              "         [ 93,  83,  91]],\n",
              "\n",
              "        [[165, 154, 128],\n",
              "         [156, 152, 130],\n",
              "         [159, 161, 142],\n",
              "         ...,\n",
              "         [103,  93,  96],\n",
              "         [123, 114, 120],\n",
              "         [131, 121, 131]],\n",
              "\n",
              "        [[163, 148, 120],\n",
              "         [158, 148, 122],\n",
              "         [163, 156, 133],\n",
              "         ...,\n",
              "         [143, 133, 139],\n",
              "         [143, 134, 142],\n",
              "         [143, 133, 144]]],\n",
              "\n",
              "\n",
              "       [[[255, 255, 255],\n",
              "         [253, 253, 253],\n",
              "         [253, 253, 253],\n",
              "         ...,\n",
              "         [253, 253, 253],\n",
              "         [253, 253, 253],\n",
              "         [253, 253, 253]],\n",
              "\n",
              "        [[255, 255, 255],\n",
              "         [255, 255, 255],\n",
              "         [255, 255, 255],\n",
              "         ...,\n",
              "         [255, 255, 255],\n",
              "         [255, 255, 255],\n",
              "         [255, 255, 255]],\n",
              "\n",
              "        [[255, 255, 255],\n",
              "         [254, 254, 254],\n",
              "         [254, 254, 254],\n",
              "         ...,\n",
              "         [254, 254, 254],\n",
              "         [254, 254, 254],\n",
              "         [254, 254, 254]],\n",
              "\n",
              "        ...,\n",
              "\n",
              "        [[113, 120, 112],\n",
              "         [111, 118, 111],\n",
              "         [105, 112, 106],\n",
              "         ...,\n",
              "         [ 72,  81,  80],\n",
              "         [ 72,  80,  79],\n",
              "         [ 72,  80,  79]],\n",
              "\n",
              "        [[111, 118, 110],\n",
              "         [104, 111, 104],\n",
              "         [ 99, 106,  98],\n",
              "         ...,\n",
              "         [ 68,  75,  73],\n",
              "         [ 70,  76,  75],\n",
              "         [ 78,  84,  82]],\n",
              "\n",
              "        [[106, 113, 105],\n",
              "         [ 99, 106,  98],\n",
              "         [ 95, 102,  94],\n",
              "         ...,\n",
              "         [ 78,  85,  83],\n",
              "         [ 79,  85,  83],\n",
              "         [ 80,  86,  84]]],\n",
              "\n",
              "\n",
              "       ...,\n",
              "\n",
              "\n",
              "       [[[ 35, 178, 235],\n",
              "         [ 40, 176, 239],\n",
              "         [ 42, 176, 241],\n",
              "         ...,\n",
              "         [ 99, 177, 219],\n",
              "         [ 79, 147, 197],\n",
              "         [ 89, 148, 189]],\n",
              "\n",
              "        [[ 57, 182, 234],\n",
              "         [ 44, 184, 250],\n",
              "         [ 50, 183, 240],\n",
              "         ...,\n",
              "         [156, 182, 200],\n",
              "         [141, 177, 206],\n",
              "         [116, 149, 175]],\n",
              "\n",
              "        [[ 98, 197, 237],\n",
              "         [ 64, 189, 252],\n",
              "         [ 69, 192, 245],\n",
              "         ...,\n",
              "         [188, 195, 206],\n",
              "         [119, 135, 147],\n",
              "         [ 61,  79,  90]],\n",
              "\n",
              "        ...,\n",
              "\n",
              "        [[ 73,  79,  77],\n",
              "         [ 53,  63,  68],\n",
              "         [ 54,  68,  80],\n",
              "         ...,\n",
              "         [ 17,  40,  64],\n",
              "         [ 21,  36,  51],\n",
              "         [ 33,  48,  49]],\n",
              "\n",
              "        [[ 61,  68,  75],\n",
              "         [ 55,  70,  86],\n",
              "         [ 57,  79, 103],\n",
              "         ...,\n",
              "         [ 24,  48,  72],\n",
              "         [ 17,  35,  53],\n",
              "         [  7,  23,  32]],\n",
              "\n",
              "        [[ 44,  56,  73],\n",
              "         [ 46,  66,  88],\n",
              "         [ 49,  77, 105],\n",
              "         ...,\n",
              "         [ 27,  52,  77],\n",
              "         [ 21,  43,  66],\n",
              "         [ 12,  31,  50]]],\n",
              "\n",
              "\n",
              "       [[[189, 211, 240],\n",
              "         [186, 208, 236],\n",
              "         [185, 207, 235],\n",
              "         ...,\n",
              "         [175, 195, 224],\n",
              "         [172, 194, 222],\n",
              "         [169, 194, 220]],\n",
              "\n",
              "        [[194, 210, 239],\n",
              "         [191, 207, 236],\n",
              "         [190, 206, 235],\n",
              "         ...,\n",
              "         [173, 192, 220],\n",
              "         [171, 191, 218],\n",
              "         [167, 190, 216]],\n",
              "\n",
              "        [[208, 219, 244],\n",
              "         [205, 216, 240],\n",
              "         [204, 215, 239],\n",
              "         ...,\n",
              "         [175, 191, 217],\n",
              "         [172, 190, 216],\n",
              "         [169, 191, 215]],\n",
              "\n",
              "        ...,\n",
              "\n",
              "        [[207, 199, 181],\n",
              "         [203, 195, 175],\n",
              "         [203, 196, 173],\n",
              "         ...,\n",
              "         [135, 132, 127],\n",
              "         [162, 158, 150],\n",
              "         [168, 163, 151]],\n",
              "\n",
              "        [[198, 190, 170],\n",
              "         [189, 181, 159],\n",
              "         [180, 172, 147],\n",
              "         ...,\n",
              "         [178, 171, 160],\n",
              "         [175, 169, 156],\n",
              "         [175, 169, 154]],\n",
              "\n",
              "        [[198, 189, 173],\n",
              "         [189, 181, 162],\n",
              "         [178, 170, 149],\n",
              "         ...,\n",
              "         [195, 184, 169],\n",
              "         [196, 189, 171],\n",
              "         [195, 190, 171]]],\n",
              "\n",
              "\n",
              "       [[[229, 229, 239],\n",
              "         [236, 237, 247],\n",
              "         [234, 236, 247],\n",
              "         ...,\n",
              "         [217, 219, 233],\n",
              "         [221, 223, 234],\n",
              "         [222, 223, 233]],\n",
              "\n",
              "        [[222, 221, 229],\n",
              "         [239, 239, 249],\n",
              "         [233, 234, 246],\n",
              "         ...,\n",
              "         [223, 223, 236],\n",
              "         [227, 228, 238],\n",
              "         [210, 211, 220]],\n",
              "\n",
              "        [[213, 206, 211],\n",
              "         [234, 232, 239],\n",
              "         [231, 233, 244],\n",
              "         ...,\n",
              "         [220, 220, 232],\n",
              "         [220, 219, 232],\n",
              "         [202, 203, 215]],\n",
              "\n",
              "        ...,\n",
              "\n",
              "        [[150, 143, 135],\n",
              "         [140, 135, 127],\n",
              "         [132, 127, 120],\n",
              "         ...,\n",
              "         [224, 222, 218],\n",
              "         [230, 228, 225],\n",
              "         [241, 241, 238]],\n",
              "\n",
              "        [[137, 132, 126],\n",
              "         [130, 127, 120],\n",
              "         [125, 121, 115],\n",
              "         ...,\n",
              "         [181, 180, 178],\n",
              "         [202, 201, 198],\n",
              "         [212, 211, 207]],\n",
              "\n",
              "        [[122, 119, 114],\n",
              "         [118, 116, 110],\n",
              "         [120, 116, 111],\n",
              "         ...,\n",
              "         [179, 177, 173],\n",
              "         [164, 164, 162],\n",
              "         [163, 163, 161]]]], dtype=uint8)"
            ]
          },
          "metadata": {
            "tags": []
          },
          "execution_count": 32
        }
      ]
    },
    {
      "cell_type": "code",
      "metadata": {
        "id": "ecSj3FiYnl_n",
        "outputId": "494e4e58-43df-4d9c-b2a5-667b461a76a0",
        "colab": {
          "base_uri": "https://localhost:8080/",
          "height": 34
        }
      },
      "source": [
        "X_train.shape #dimensi dari gambar, ada 3 dimensi karena gambarnya rgb bukan greyscale"
      ],
      "execution_count": 33,
      "outputs": [
        {
          "output_type": "execute_result",
          "data": {
            "text/plain": [
              "(50000, 32, 32, 3)"
            ]
          },
          "metadata": {
            "tags": []
          },
          "execution_count": 33
        }
      ]
    },
    {
      "cell_type": "code",
      "metadata": {
        "id": "n5QXVgKlntLa",
        "outputId": "e45ac034-da7b-438d-912d-83b4cfd19fad",
        "colab": {
          "base_uri": "https://localhost:8080/",
          "height": 136
        }
      },
      "source": [
        "#lakukan feature engineering seperti one hot encoding agar mesin bisa mengetahui problem klasifikasi dari dataset\n",
        "from tensorflow.keras.utils import to_categorical\n",
        "\n",
        "y_train = to_categorical(y_train)\n",
        "y_test = to_categorical(y_test)\n",
        "\n",
        "print(y_train)"
      ],
      "execution_count": 34,
      "outputs": [
        {
          "output_type": "stream",
          "text": [
            "[[0. 0. 0. ... 0. 0. 0.]\n",
            " [0. 0. 0. ... 0. 0. 1.]\n",
            " [0. 0. 0. ... 0. 0. 1.]\n",
            " ...\n",
            " [0. 0. 0. ... 0. 0. 1.]\n",
            " [0. 1. 0. ... 0. 0. 0.]\n",
            " [0. 1. 0. ... 0. 0. 0.]]\n"
          ],
          "name": "stdout"
        }
      ]
    },
    {
      "cell_type": "code",
      "metadata": {
        "id": "JUqx3-XGoF5x"
      },
      "source": [
        "#casting dataset menjadi float\n",
        "X_train = X_train.astype('float32')\n",
        "X_test = X_test.astype('float32')\n",
        "\n",
        "X_train = X_train / 255.0 #rescale agar nilainya 0 hingga 1\n",
        "X_test = X_test / 255.0"
      ],
      "execution_count": 35,
      "outputs": []
    },
    {
      "cell_type": "code",
      "metadata": {
        "id": "bhg9M1YtoIj0",
        "outputId": "e669827c-3de7-4099-fee9-0395e57d8c1f",
        "colab": {
          "base_uri": "https://localhost:8080/",
          "height": 1000
        }
      },
      "source": [
        "X_train"
      ],
      "execution_count": 36,
      "outputs": [
        {
          "output_type": "execute_result",
          "data": {
            "text/plain": [
              "array([[[[0.23137255, 0.24313726, 0.24705882],\n",
              "         [0.16862746, 0.18039216, 0.1764706 ],\n",
              "         [0.19607843, 0.1882353 , 0.16862746],\n",
              "         ...,\n",
              "         [0.61960787, 0.5176471 , 0.42352942],\n",
              "         [0.59607846, 0.49019608, 0.4       ],\n",
              "         [0.5803922 , 0.4862745 , 0.40392157]],\n",
              "\n",
              "        [[0.0627451 , 0.07843138, 0.07843138],\n",
              "         [0.        , 0.        , 0.        ],\n",
              "         [0.07058824, 0.03137255, 0.        ],\n",
              "         ...,\n",
              "         [0.48235294, 0.34509805, 0.21568628],\n",
              "         [0.46666667, 0.3254902 , 0.19607843],\n",
              "         [0.47843137, 0.34117648, 0.22352941]],\n",
              "\n",
              "        [[0.09803922, 0.09411765, 0.08235294],\n",
              "         [0.0627451 , 0.02745098, 0.        ],\n",
              "         [0.19215687, 0.10588235, 0.03137255],\n",
              "         ...,\n",
              "         [0.4627451 , 0.32941177, 0.19607843],\n",
              "         [0.47058824, 0.32941177, 0.19607843],\n",
              "         [0.42745098, 0.28627452, 0.16470589]],\n",
              "\n",
              "        ...,\n",
              "\n",
              "        [[0.8156863 , 0.6666667 , 0.3764706 ],\n",
              "         [0.7882353 , 0.6       , 0.13333334],\n",
              "         [0.7764706 , 0.6313726 , 0.10196079],\n",
              "         ...,\n",
              "         [0.627451  , 0.52156866, 0.27450982],\n",
              "         [0.21960784, 0.12156863, 0.02745098],\n",
              "         [0.20784314, 0.13333334, 0.07843138]],\n",
              "\n",
              "        [[0.7058824 , 0.54509807, 0.3764706 ],\n",
              "         [0.6784314 , 0.48235294, 0.16470589],\n",
              "         [0.7294118 , 0.5647059 , 0.11764706],\n",
              "         ...,\n",
              "         [0.72156864, 0.5803922 , 0.36862746],\n",
              "         [0.38039216, 0.24313726, 0.13333334],\n",
              "         [0.3254902 , 0.20784314, 0.13333334]],\n",
              "\n",
              "        [[0.69411767, 0.5647059 , 0.45490196],\n",
              "         [0.65882355, 0.5058824 , 0.36862746],\n",
              "         [0.7019608 , 0.5568628 , 0.34117648],\n",
              "         ...,\n",
              "         [0.84705883, 0.72156864, 0.54901963],\n",
              "         [0.5921569 , 0.4627451 , 0.32941177],\n",
              "         [0.48235294, 0.36078432, 0.28235295]]],\n",
              "\n",
              "\n",
              "       [[[0.6039216 , 0.69411767, 0.73333335],\n",
              "         [0.49411765, 0.5372549 , 0.53333336],\n",
              "         [0.4117647 , 0.40784314, 0.37254903],\n",
              "         ...,\n",
              "         [0.35686275, 0.37254903, 0.2784314 ],\n",
              "         [0.34117648, 0.3529412 , 0.2784314 ],\n",
              "         [0.30980393, 0.31764707, 0.27450982]],\n",
              "\n",
              "        [[0.54901963, 0.627451  , 0.6627451 ],\n",
              "         [0.5686275 , 0.6       , 0.6039216 ],\n",
              "         [0.49019608, 0.49019608, 0.4627451 ],\n",
              "         ...,\n",
              "         [0.3764706 , 0.3882353 , 0.30588236],\n",
              "         [0.3019608 , 0.3137255 , 0.24313726],\n",
              "         [0.2784314 , 0.28627452, 0.23921569]],\n",
              "\n",
              "        [[0.54901963, 0.60784316, 0.6431373 ],\n",
              "         [0.54509807, 0.57254905, 0.58431375],\n",
              "         [0.4509804 , 0.4509804 , 0.4392157 ],\n",
              "         ...,\n",
              "         [0.30980393, 0.32156864, 0.2509804 ],\n",
              "         [0.26666668, 0.27450982, 0.21568628],\n",
              "         [0.2627451 , 0.27058825, 0.21568628]],\n",
              "\n",
              "        ...,\n",
              "\n",
              "        [[0.6862745 , 0.654902  , 0.6509804 ],\n",
              "         [0.6117647 , 0.6039216 , 0.627451  ],\n",
              "         [0.6039216 , 0.627451  , 0.6666667 ],\n",
              "         ...,\n",
              "         [0.16470589, 0.13333334, 0.14117648],\n",
              "         [0.23921569, 0.20784314, 0.22352941],\n",
              "         [0.3647059 , 0.3254902 , 0.35686275]],\n",
              "\n",
              "        [[0.64705884, 0.6039216 , 0.5019608 ],\n",
              "         [0.6117647 , 0.59607846, 0.50980395],\n",
              "         [0.62352943, 0.6313726 , 0.5568628 ],\n",
              "         ...,\n",
              "         [0.40392157, 0.3647059 , 0.3764706 ],\n",
              "         [0.48235294, 0.44705883, 0.47058824],\n",
              "         [0.5137255 , 0.4745098 , 0.5137255 ]],\n",
              "\n",
              "        [[0.6392157 , 0.5803922 , 0.47058824],\n",
              "         [0.61960787, 0.5803922 , 0.47843137],\n",
              "         [0.6392157 , 0.6117647 , 0.52156866],\n",
              "         ...,\n",
              "         [0.56078434, 0.52156866, 0.54509807],\n",
              "         [0.56078434, 0.5254902 , 0.5568628 ],\n",
              "         [0.56078434, 0.52156866, 0.5647059 ]]],\n",
              "\n",
              "\n",
              "       [[[1.        , 1.        , 1.        ],\n",
              "         [0.99215686, 0.99215686, 0.99215686],\n",
              "         [0.99215686, 0.99215686, 0.99215686],\n",
              "         ...,\n",
              "         [0.99215686, 0.99215686, 0.99215686],\n",
              "         [0.99215686, 0.99215686, 0.99215686],\n",
              "         [0.99215686, 0.99215686, 0.99215686]],\n",
              "\n",
              "        [[1.        , 1.        , 1.        ],\n",
              "         [1.        , 1.        , 1.        ],\n",
              "         [1.        , 1.        , 1.        ],\n",
              "         ...,\n",
              "         [1.        , 1.        , 1.        ],\n",
              "         [1.        , 1.        , 1.        ],\n",
              "         [1.        , 1.        , 1.        ]],\n",
              "\n",
              "        [[1.        , 1.        , 1.        ],\n",
              "         [0.99607843, 0.99607843, 0.99607843],\n",
              "         [0.99607843, 0.99607843, 0.99607843],\n",
              "         ...,\n",
              "         [0.99607843, 0.99607843, 0.99607843],\n",
              "         [0.99607843, 0.99607843, 0.99607843],\n",
              "         [0.99607843, 0.99607843, 0.99607843]],\n",
              "\n",
              "        ...,\n",
              "\n",
              "        [[0.44313726, 0.47058824, 0.4392157 ],\n",
              "         [0.43529412, 0.4627451 , 0.43529412],\n",
              "         [0.4117647 , 0.4392157 , 0.41568628],\n",
              "         ...,\n",
              "         [0.28235295, 0.31764707, 0.3137255 ],\n",
              "         [0.28235295, 0.3137255 , 0.30980393],\n",
              "         [0.28235295, 0.3137255 , 0.30980393]],\n",
              "\n",
              "        [[0.43529412, 0.4627451 , 0.43137255],\n",
              "         [0.40784314, 0.43529412, 0.40784314],\n",
              "         [0.3882353 , 0.41568628, 0.38431373],\n",
              "         ...,\n",
              "         [0.26666668, 0.29411766, 0.28627452],\n",
              "         [0.27450982, 0.29803923, 0.29411766],\n",
              "         [0.30588236, 0.32941177, 0.32156864]],\n",
              "\n",
              "        [[0.41568628, 0.44313726, 0.4117647 ],\n",
              "         [0.3882353 , 0.41568628, 0.38431373],\n",
              "         [0.37254903, 0.4       , 0.36862746],\n",
              "         ...,\n",
              "         [0.30588236, 0.33333334, 0.3254902 ],\n",
              "         [0.30980393, 0.33333334, 0.3254902 ],\n",
              "         [0.3137255 , 0.3372549 , 0.32941177]]],\n",
              "\n",
              "\n",
              "       ...,\n",
              "\n",
              "\n",
              "       [[[0.13725491, 0.69803923, 0.92156863],\n",
              "         [0.15686275, 0.6901961 , 0.9372549 ],\n",
              "         [0.16470589, 0.6901961 , 0.94509804],\n",
              "         ...,\n",
              "         [0.3882353 , 0.69411767, 0.85882354],\n",
              "         [0.30980393, 0.5764706 , 0.77254903],\n",
              "         [0.34901962, 0.5803922 , 0.7411765 ]],\n",
              "\n",
              "        [[0.22352941, 0.7137255 , 0.91764706],\n",
              "         [0.17254902, 0.72156864, 0.98039216],\n",
              "         [0.19607843, 0.7176471 , 0.9411765 ],\n",
              "         ...,\n",
              "         [0.6117647 , 0.7137255 , 0.78431374],\n",
              "         [0.5529412 , 0.69411767, 0.80784315],\n",
              "         [0.45490196, 0.58431375, 0.6862745 ]],\n",
              "\n",
              "        [[0.38431373, 0.77254903, 0.92941177],\n",
              "         [0.2509804 , 0.7411765 , 0.9882353 ],\n",
              "         [0.27058825, 0.7529412 , 0.9607843 ],\n",
              "         ...,\n",
              "         [0.7372549 , 0.7647059 , 0.80784315],\n",
              "         [0.46666667, 0.5294118 , 0.5764706 ],\n",
              "         [0.23921569, 0.30980393, 0.3529412 ]],\n",
              "\n",
              "        ...,\n",
              "\n",
              "        [[0.28627452, 0.30980393, 0.3019608 ],\n",
              "         [0.20784314, 0.24705882, 0.26666668],\n",
              "         [0.21176471, 0.26666668, 0.3137255 ],\n",
              "         ...,\n",
              "         [0.06666667, 0.15686275, 0.2509804 ],\n",
              "         [0.08235294, 0.14117648, 0.2       ],\n",
              "         [0.12941177, 0.1882353 , 0.19215687]],\n",
              "\n",
              "        [[0.23921569, 0.26666668, 0.29411766],\n",
              "         [0.21568628, 0.27450982, 0.3372549 ],\n",
              "         [0.22352941, 0.30980393, 0.40392157],\n",
              "         ...,\n",
              "         [0.09411765, 0.1882353 , 0.28235295],\n",
              "         [0.06666667, 0.13725491, 0.20784314],\n",
              "         [0.02745098, 0.09019608, 0.1254902 ]],\n",
              "\n",
              "        [[0.17254902, 0.21960784, 0.28627452],\n",
              "         [0.18039216, 0.25882354, 0.34509805],\n",
              "         [0.19215687, 0.3019608 , 0.4117647 ],\n",
              "         ...,\n",
              "         [0.10588235, 0.20392157, 0.3019608 ],\n",
              "         [0.08235294, 0.16862746, 0.25882354],\n",
              "         [0.04705882, 0.12156863, 0.19607843]]],\n",
              "\n",
              "\n",
              "       [[[0.7411765 , 0.827451  , 0.9411765 ],\n",
              "         [0.7294118 , 0.8156863 , 0.9254902 ],\n",
              "         [0.7254902 , 0.8117647 , 0.92156863],\n",
              "         ...,\n",
              "         [0.6862745 , 0.7647059 , 0.8784314 ],\n",
              "         [0.6745098 , 0.7607843 , 0.87058824],\n",
              "         [0.6627451 , 0.7607843 , 0.8627451 ]],\n",
              "\n",
              "        [[0.7607843 , 0.8235294 , 0.9372549 ],\n",
              "         [0.7490196 , 0.8117647 , 0.9254902 ],\n",
              "         [0.74509805, 0.80784315, 0.92156863],\n",
              "         ...,\n",
              "         [0.6784314 , 0.7529412 , 0.8627451 ],\n",
              "         [0.67058825, 0.7490196 , 0.85490197],\n",
              "         [0.654902  , 0.74509805, 0.84705883]],\n",
              "\n",
              "        [[0.8156863 , 0.85882354, 0.95686275],\n",
              "         [0.8039216 , 0.84705883, 0.9411765 ],\n",
              "         [0.8       , 0.84313726, 0.9372549 ],\n",
              "         ...,\n",
              "         [0.6862745 , 0.7490196 , 0.8509804 ],\n",
              "         [0.6745098 , 0.74509805, 0.84705883],\n",
              "         [0.6627451 , 0.7490196 , 0.84313726]],\n",
              "\n",
              "        ...,\n",
              "\n",
              "        [[0.8117647 , 0.78039217, 0.70980394],\n",
              "         [0.79607844, 0.7647059 , 0.6862745 ],\n",
              "         [0.79607844, 0.76862746, 0.6784314 ],\n",
              "         ...,\n",
              "         [0.5294118 , 0.5176471 , 0.49803922],\n",
              "         [0.63529414, 0.61960787, 0.5882353 ],\n",
              "         [0.65882355, 0.6392157 , 0.5921569 ]],\n",
              "\n",
              "        [[0.7764706 , 0.74509805, 0.6666667 ],\n",
              "         [0.7411765 , 0.70980394, 0.62352943],\n",
              "         [0.7058824 , 0.6745098 , 0.5764706 ],\n",
              "         ...,\n",
              "         [0.69803923, 0.67058825, 0.627451  ],\n",
              "         [0.6862745 , 0.6627451 , 0.6117647 ],\n",
              "         [0.6862745 , 0.6627451 , 0.6039216 ]],\n",
              "\n",
              "        [[0.7764706 , 0.7411765 , 0.6784314 ],\n",
              "         [0.7411765 , 0.70980394, 0.63529414],\n",
              "         [0.69803923, 0.6666667 , 0.58431375],\n",
              "         ...,\n",
              "         [0.7647059 , 0.72156864, 0.6627451 ],\n",
              "         [0.76862746, 0.7411765 , 0.67058825],\n",
              "         [0.7647059 , 0.74509805, 0.67058825]]],\n",
              "\n",
              "\n",
              "       [[[0.8980392 , 0.8980392 , 0.9372549 ],\n",
              "         [0.9254902 , 0.92941177, 0.96862745],\n",
              "         [0.91764706, 0.9254902 , 0.96862745],\n",
              "         ...,\n",
              "         [0.8509804 , 0.85882354, 0.9137255 ],\n",
              "         [0.8666667 , 0.8745098 , 0.91764706],\n",
              "         [0.87058824, 0.8745098 , 0.9137255 ]],\n",
              "\n",
              "        [[0.87058824, 0.8666667 , 0.8980392 ],\n",
              "         [0.9372549 , 0.9372549 , 0.9764706 ],\n",
              "         [0.9137255 , 0.91764706, 0.9647059 ],\n",
              "         ...,\n",
              "         [0.8745098 , 0.8745098 , 0.9254902 ],\n",
              "         [0.8901961 , 0.89411765, 0.93333334],\n",
              "         [0.8235294 , 0.827451  , 0.8627451 ]],\n",
              "\n",
              "        [[0.8352941 , 0.80784315, 0.827451  ],\n",
              "         [0.91764706, 0.9098039 , 0.9372549 ],\n",
              "         [0.90588236, 0.9137255 , 0.95686275],\n",
              "         ...,\n",
              "         [0.8627451 , 0.8627451 , 0.9098039 ],\n",
              "         [0.8627451 , 0.85882354, 0.9098039 ],\n",
              "         [0.7921569 , 0.79607844, 0.84313726]],\n",
              "\n",
              "        ...,\n",
              "\n",
              "        [[0.5882353 , 0.56078434, 0.5294118 ],\n",
              "         [0.54901963, 0.5294118 , 0.49803922],\n",
              "         [0.5176471 , 0.49803922, 0.47058824],\n",
              "         ...,\n",
              "         [0.8784314 , 0.87058824, 0.85490197],\n",
              "         [0.9019608 , 0.89411765, 0.88235295],\n",
              "         [0.94509804, 0.94509804, 0.93333334]],\n",
              "\n",
              "        [[0.5372549 , 0.5176471 , 0.49411765],\n",
              "         [0.50980395, 0.49803922, 0.47058824],\n",
              "         [0.49019608, 0.4745098 , 0.4509804 ],\n",
              "         ...,\n",
              "         [0.70980394, 0.7058824 , 0.69803923],\n",
              "         [0.7921569 , 0.7882353 , 0.7764706 ],\n",
              "         [0.83137256, 0.827451  , 0.8117647 ]],\n",
              "\n",
              "        [[0.47843137, 0.46666667, 0.44705883],\n",
              "         [0.4627451 , 0.45490196, 0.43137255],\n",
              "         [0.47058824, 0.45490196, 0.43529412],\n",
              "         ...,\n",
              "         [0.7019608 , 0.69411767, 0.6784314 ],\n",
              "         [0.6431373 , 0.6431373 , 0.63529414],\n",
              "         [0.6392157 , 0.6392157 , 0.6313726 ]]]], dtype=float32)"
            ]
          },
          "metadata": {
            "tags": []
          },
          "execution_count": 36
        }
      ]
    },
    {
      "cell_type": "code",
      "metadata": {
        "id": "pDx_kCkpUAx-"
      },
      "source": [
        "\"\"\"\n",
        "from tensorflow.keras.preprocessing.image import ImageDataGenerator\n",
        "\n",
        "test_datagen = ImageDataGenerator(rescale=1.0/255.0)\n",
        "train_datagen = ImageDataGenerator(rescale=1.0/255.0, width_shift_range=0.1, height_shift_range=0.1, horizontal_flip=True)\n",
        "\n",
        "train_augmented_iteration = train_datagen.flow(X_train, y_train, batch_size=128)\n",
        "test_augmented_iteration = test_datagen.flow(X_test, y_test, batch_size=128)\n",
        "\"\"\""
      ],
      "execution_count": 21,
      "outputs": []
    },
    {
      "cell_type": "code",
      "metadata": {
        "id": "VmyPeS15oKNn"
      },
      "source": [
        "from tensorflow.keras.models import Sequential\n",
        "from tensorflow.keras.layers import Conv2D\n",
        "from tensorflow.keras.layers import MaxPooling2D\n",
        "from tensorflow.keras.layers import Dense\n",
        "from tensorflow.keras.layers import Flatten\n",
        "from tensorflow.keras.optimizers import SGD\n",
        "from tensorflow.keras.layers import BatchNormalization"
      ],
      "execution_count": 37,
      "outputs": []
    },
    {
      "cell_type": "code",
      "metadata": {
        "id": "AYD2g0_ZoOBM"
      },
      "source": [
        "def plot_loss_new(history):\n",
        "  history_df = pd.DataFrame(history.history)\n",
        "\n",
        "  min_loss_index = history_df[history_df['loss']==min(history_df['loss'])].index.values\n",
        "  min_loss = history_df.loc[min_loss_index]['loss']\n",
        "  min_val_loss_index = history_df[history_df['val_loss']==min(history_df['val_loss'])].index.values\n",
        "  min_val_loss = history_df.loc[min_val_loss_index]['val_loss']\n",
        "\n",
        "  plt.plot(history.history['loss'], label='loss')\n",
        "  plt.plot(history.history['val_loss'], label='val_loss')\n",
        "  plt.plot(min_loss_index, min_loss, 'o', c='k', ms=4, label='min loss')\n",
        "  plt.plot(min_val_loss_index, min_val_loss, 'o', c='k', ms=4, label='min val_loss')\n",
        "  plt.xlabel('Epoch')\n",
        "  plt.ylabel('Loss')\n",
        "  plt.legend()\n",
        "  plt.grid(True)\n",
        "  plt.show()\n",
        "\n",
        "  print('Minimum Loss             :', min_loss)\n",
        "  print()\n",
        "  print('Minimum Validation Loss  :', min_val_loss)"
      ],
      "execution_count": 38,
      "outputs": []
    },
    {
      "cell_type": "markdown",
      "metadata": {
        "id": "xkmWO9Ux0OIs"
      },
      "source": [
        "## **Deep Learning CNN Model**"
      ]
    },
    {
      "cell_type": "code",
      "metadata": {
        "id": "3rgfF0dAoPx2",
        "outputId": "d999f3ef-1c7a-4d4c-e830-885c418c0e4b",
        "colab": {
          "base_uri": "https://localhost:8080/",
          "height": 425
        }
      },
      "source": [
        "model = Sequential([\n",
        "                    Conv2D(32, (3, 3), activation='relu', kernel_initializer='he_uniform', padding='same', input_shape=(32, 32, 3)),\n",
        "                    MaxPooling2D(2, 2),\n",
        "                    Conv2D(64, (3, 3), activation='relu', kernel_initializer='he_uniform', padding='same'),\n",
        "                    MaxPooling2D(2, 2),\n",
        "                    Conv2D(64, (3, 3), activation='relu', kernel_initializer='he_uniform', padding='same'),\n",
        "                    Flatten(),\n",
        "                    Dense(128, activation='relu'),\n",
        "                    Dense(10, activation='softmax')\n",
        "                  ])\n",
        "\n",
        "opt = SGD(learning_rate=0.001, momentum=0.9)\n",
        "\n",
        "model.summary()\n",
        "\n",
        "model.compile(optimizer=opt, loss='categorical_crossentropy', metrics=['accuracy'])"
      ],
      "execution_count": 43,
      "outputs": [
        {
          "output_type": "stream",
          "text": [
            "Model: \"sequential_5\"\n",
            "_________________________________________________________________\n",
            "Layer (type)                 Output Shape              Param #   \n",
            "=================================================================\n",
            "conv2d_12 (Conv2D)           (None, 32, 32, 32)        896       \n",
            "_________________________________________________________________\n",
            "max_pooling2d_6 (MaxPooling2 (None, 16, 16, 32)        0         \n",
            "_________________________________________________________________\n",
            "conv2d_13 (Conv2D)           (None, 16, 16, 64)        18496     \n",
            "_________________________________________________________________\n",
            "max_pooling2d_7 (MaxPooling2 (None, 8, 8, 64)          0         \n",
            "_________________________________________________________________\n",
            "conv2d_14 (Conv2D)           (None, 8, 8, 64)          36928     \n",
            "_________________________________________________________________\n",
            "flatten_5 (Flatten)          (None, 4096)              0         \n",
            "_________________________________________________________________\n",
            "dense_12 (Dense)             (None, 128)               524416    \n",
            "_________________________________________________________________\n",
            "dense_13 (Dense)             (None, 10)                1290      \n",
            "=================================================================\n",
            "Total params: 582,026\n",
            "Trainable params: 582,026\n",
            "Non-trainable params: 0\n",
            "_________________________________________________________________\n"
          ],
          "name": "stdout"
        }
      ]
    },
    {
      "cell_type": "code",
      "metadata": {
        "id": "jJhT1N8Gorhj",
        "outputId": "94470832-6374-44c7-ca52-fae7be95e6d2",
        "colab": {
          "base_uri": "https://localhost:8080/",
          "height": 1000
        }
      },
      "source": [
        "history = model.fit(X_train, y_train, epochs=50, validation_data=(X_test, y_test), batch_size=64)"
      ],
      "execution_count": 44,
      "outputs": [
        {
          "output_type": "stream",
          "text": [
            "Epoch 1/50\n",
            "782/782 [==============================] - 3s 4ms/step - loss: 1.7580 - accuracy: 0.3728 - val_loss: 1.4935 - val_accuracy: 0.4660\n",
            "Epoch 2/50\n",
            "782/782 [==============================] - 3s 4ms/step - loss: 1.4206 - accuracy: 0.4926 - val_loss: 1.3613 - val_accuracy: 0.5119\n",
            "Epoch 3/50\n",
            "782/782 [==============================] - 3s 4ms/step - loss: 1.2700 - accuracy: 0.5530 - val_loss: 1.2326 - val_accuracy: 0.5659\n",
            "Epoch 4/50\n",
            "782/782 [==============================] - 3s 4ms/step - loss: 1.1665 - accuracy: 0.5897 - val_loss: 1.1321 - val_accuracy: 0.5963\n",
            "Epoch 5/50\n",
            "782/782 [==============================] - 3s 4ms/step - loss: 1.0811 - accuracy: 0.6212 - val_loss: 1.0924 - val_accuracy: 0.6183\n",
            "Epoch 6/50\n",
            "782/782 [==============================] - 3s 4ms/step - loss: 1.0213 - accuracy: 0.6420 - val_loss: 1.0284 - val_accuracy: 0.6413\n",
            "Epoch 7/50\n",
            "782/782 [==============================] - 3s 4ms/step - loss: 0.9632 - accuracy: 0.6634 - val_loss: 0.9796 - val_accuracy: 0.6536\n",
            "Epoch 8/50\n",
            "782/782 [==============================] - 3s 4ms/step - loss: 0.9192 - accuracy: 0.6783 - val_loss: 0.9413 - val_accuracy: 0.6750\n",
            "Epoch 9/50\n",
            "782/782 [==============================] - 3s 4ms/step - loss: 0.8768 - accuracy: 0.6954 - val_loss: 0.9624 - val_accuracy: 0.6661\n",
            "Epoch 10/50\n",
            "782/782 [==============================] - 3s 4ms/step - loss: 0.8359 - accuracy: 0.7113 - val_loss: 0.9447 - val_accuracy: 0.6707\n",
            "Epoch 11/50\n",
            "782/782 [==============================] - 3s 4ms/step - loss: 0.8026 - accuracy: 0.7212 - val_loss: 0.9048 - val_accuracy: 0.6871\n",
            "Epoch 12/50\n",
            "782/782 [==============================] - 3s 4ms/step - loss: 0.7677 - accuracy: 0.7347 - val_loss: 0.9426 - val_accuracy: 0.6766\n",
            "Epoch 13/50\n",
            "782/782 [==============================] - 3s 4ms/step - loss: 0.7382 - accuracy: 0.7446 - val_loss: 0.8763 - val_accuracy: 0.7012\n",
            "Epoch 14/50\n",
            "782/782 [==============================] - 3s 4ms/step - loss: 0.7076 - accuracy: 0.7571 - val_loss: 0.8780 - val_accuracy: 0.7014\n",
            "Epoch 15/50\n",
            "782/782 [==============================] - 3s 4ms/step - loss: 0.6728 - accuracy: 0.7691 - val_loss: 0.8422 - val_accuracy: 0.7135\n",
            "Epoch 16/50\n",
            "782/782 [==============================] - 3s 4ms/step - loss: 0.6425 - accuracy: 0.7778 - val_loss: 0.8354 - val_accuracy: 0.7176\n",
            "Epoch 17/50\n",
            "782/782 [==============================] - 3s 4ms/step - loss: 0.6152 - accuracy: 0.7892 - val_loss: 0.8575 - val_accuracy: 0.7145\n",
            "Epoch 18/50\n",
            "782/782 [==============================] - 3s 4ms/step - loss: 0.5872 - accuracy: 0.7972 - val_loss: 0.8615 - val_accuracy: 0.7078\n",
            "Epoch 19/50\n",
            "782/782 [==============================] - 3s 4ms/step - loss: 0.5588 - accuracy: 0.8085 - val_loss: 0.8753 - val_accuracy: 0.7101\n",
            "Epoch 20/50\n",
            "782/782 [==============================] - 3s 4ms/step - loss: 0.5289 - accuracy: 0.8177 - val_loss: 0.8526 - val_accuracy: 0.7192\n",
            "Epoch 21/50\n",
            "782/782 [==============================] - 3s 4ms/step - loss: 0.5000 - accuracy: 0.8287 - val_loss: 0.8685 - val_accuracy: 0.7102\n",
            "Epoch 22/50\n",
            "782/782 [==============================] - 3s 4ms/step - loss: 0.4743 - accuracy: 0.8378 - val_loss: 0.8803 - val_accuracy: 0.7123\n",
            "Epoch 23/50\n",
            "782/782 [==============================] - 3s 4ms/step - loss: 0.4450 - accuracy: 0.8478 - val_loss: 0.8945 - val_accuracy: 0.7154\n",
            "Epoch 24/50\n",
            "782/782 [==============================] - 3s 4ms/step - loss: 0.4188 - accuracy: 0.8593 - val_loss: 0.9191 - val_accuracy: 0.7092\n",
            "Epoch 25/50\n",
            "782/782 [==============================] - 3s 4ms/step - loss: 0.3966 - accuracy: 0.8653 - val_loss: 0.8970 - val_accuracy: 0.7182\n",
            "Epoch 26/50\n",
            "782/782 [==============================] - 3s 4ms/step - loss: 0.3700 - accuracy: 0.8743 - val_loss: 0.8957 - val_accuracy: 0.7201\n",
            "Epoch 27/50\n",
            "782/782 [==============================] - 3s 4ms/step - loss: 0.3423 - accuracy: 0.8847 - val_loss: 0.9496 - val_accuracy: 0.7097\n",
            "Epoch 28/50\n",
            "782/782 [==============================] - 3s 4ms/step - loss: 0.3178 - accuracy: 0.8940 - val_loss: 0.9347 - val_accuracy: 0.7221\n",
            "Epoch 29/50\n",
            "782/782 [==============================] - 3s 4ms/step - loss: 0.2914 - accuracy: 0.9036 - val_loss: 0.9519 - val_accuracy: 0.7200\n",
            "Epoch 30/50\n",
            "782/782 [==============================] - 3s 4ms/step - loss: 0.2666 - accuracy: 0.9114 - val_loss: 0.9888 - val_accuracy: 0.7184\n",
            "Epoch 31/50\n",
            "782/782 [==============================] - 3s 4ms/step - loss: 0.2422 - accuracy: 0.9205 - val_loss: 1.0411 - val_accuracy: 0.7123\n",
            "Epoch 32/50\n",
            "782/782 [==============================] - 3s 4ms/step - loss: 0.2234 - accuracy: 0.9286 - val_loss: 1.0331 - val_accuracy: 0.7124\n",
            "Epoch 33/50\n",
            "782/782 [==============================] - 3s 4ms/step - loss: 0.1983 - accuracy: 0.9376 - val_loss: 1.0704 - val_accuracy: 0.7181\n",
            "Epoch 34/50\n",
            "782/782 [==============================] - 3s 4ms/step - loss: 0.1791 - accuracy: 0.9446 - val_loss: 1.1221 - val_accuracy: 0.7129\n",
            "Epoch 35/50\n",
            "782/782 [==============================] - 3s 4ms/step - loss: 0.1583 - accuracy: 0.9522 - val_loss: 1.1434 - val_accuracy: 0.7158\n",
            "Epoch 36/50\n",
            "782/782 [==============================] - 3s 4ms/step - loss: 0.1457 - accuracy: 0.9552 - val_loss: 1.1913 - val_accuracy: 0.7126\n",
            "Epoch 37/50\n",
            "782/782 [==============================] - 3s 4ms/step - loss: 0.1259 - accuracy: 0.9632 - val_loss: 1.2675 - val_accuracy: 0.7095\n",
            "Epoch 38/50\n",
            "782/782 [==============================] - 3s 4ms/step - loss: 0.1130 - accuracy: 0.9673 - val_loss: 1.2267 - val_accuracy: 0.7178\n",
            "Epoch 39/50\n",
            "782/782 [==============================] - 3s 4ms/step - loss: 0.0923 - accuracy: 0.9759 - val_loss: 1.2845 - val_accuracy: 0.7120\n",
            "Epoch 40/50\n",
            "782/782 [==============================] - 3s 4ms/step - loss: 0.0778 - accuracy: 0.9813 - val_loss: 1.3616 - val_accuracy: 0.7113\n",
            "Epoch 41/50\n",
            "782/782 [==============================] - 3s 4ms/step - loss: 0.0692 - accuracy: 0.9844 - val_loss: 1.3907 - val_accuracy: 0.7113\n",
            "Epoch 42/50\n",
            "782/782 [==============================] - 3s 4ms/step - loss: 0.0590 - accuracy: 0.9870 - val_loss: 1.4656 - val_accuracy: 0.7097\n",
            "Epoch 43/50\n",
            "782/782 [==============================] - 3s 4ms/step - loss: 0.0499 - accuracy: 0.9904 - val_loss: 1.4226 - val_accuracy: 0.7168\n",
            "Epoch 44/50\n",
            "782/782 [==============================] - 3s 4ms/step - loss: 0.0349 - accuracy: 0.9954 - val_loss: 1.4999 - val_accuracy: 0.7145\n",
            "Epoch 45/50\n",
            "782/782 [==============================] - 3s 4ms/step - loss: 0.0347 - accuracy: 0.9946 - val_loss: 1.5027 - val_accuracy: 0.7207\n",
            "Epoch 46/50\n",
            "782/782 [==============================] - 3s 4ms/step - loss: 0.0223 - accuracy: 0.9982 - val_loss: 1.5403 - val_accuracy: 0.7187\n",
            "Epoch 47/50\n",
            "782/782 [==============================] - 3s 4ms/step - loss: 0.0196 - accuracy: 0.9984 - val_loss: 1.5886 - val_accuracy: 0.7185\n",
            "Epoch 48/50\n",
            "782/782 [==============================] - 3s 4ms/step - loss: 0.0155 - accuracy: 0.9990 - val_loss: 1.6405 - val_accuracy: 0.7183\n",
            "Epoch 49/50\n",
            "782/782 [==============================] - 3s 4ms/step - loss: 0.0135 - accuracy: 0.9993 - val_loss: 1.6425 - val_accuracy: 0.7180\n",
            "Epoch 50/50\n",
            "782/782 [==============================] - 3s 4ms/step - loss: 0.0104 - accuracy: 0.9997 - val_loss: 1.6725 - val_accuracy: 0.7196\n"
          ],
          "name": "stdout"
        }
      ]
    },
    {
      "cell_type": "code",
      "metadata": {
        "id": "qSFrfQzIpEJ9",
        "outputId": "88d54fc7-25d3-4f86-c0a7-1bc8b3381bf9",
        "colab": {
          "base_uri": "https://localhost:8080/",
          "height": 364
        }
      },
      "source": [
        "plot_loss_new(history)"
      ],
      "execution_count": 45,
      "outputs": [
        {
          "output_type": "display_data",
          "data": {
            "image/png": "[encoded data removed]",
            "text/plain": [
              "<Figure size 432x288 with 1 Axes>"
            ]
          },
          "metadata": {
            "tags": [],
            "needs_background": "light"
          }
        },
        {
          "output_type": "stream",
          "text": [
            "Minimum Loss             : 49    0.010381\n",
            "Name: loss, dtype: float64\n",
            "\n",
            "Minimum Validation Loss  : 15    0.835409\n",
            "Name: val_loss, dtype: float64\n"
          ],
          "name": "stdout"
        }
      ]
    },
    {
      "cell_type": "markdown",
      "metadata": {
        "id": "AG3NMJpMzx6u"
      },
      "source": [
        "**Kita ingin mencari loss yang terendah, loss ini terhadap val_lossnya**\n",
        "\n",
        "Berdasarkan grafik epoch terhadap loss pada model CNN diatas, terlihat bahwa garis lossnya memang sudah mencapai titik terendahnya dengan 50 epoch, walaupun grafik val_lossnya mengalami peningkatan setelah 15 epoch. Nilai val_loss terendah diperoleh saat epochnya sekitar 15, dimana diperoleh val_loss: 0.835409 dan val_accuracy: 0.7176"
      ]
    },
    {
      "cell_type": "markdown",
      "metadata": {
        "id": "8sGQ8zLE0Jl6"
      },
      "source": [
        "## **VGG**"
      ]
    },
    {
      "cell_type": "code",
      "metadata": {
        "id": "PIC2LFzfqtsB"
      },
      "source": [
        "from tensorflow.keras.applications import vgg16, vgg19\n",
        "from tensorflow.keras.layers import Dropout"
      ],
      "execution_count": 10,
      "outputs": []
    },
    {
      "cell_type": "code",
      "metadata": {
        "id": "bLDFN88rrGvn"
      },
      "source": [
        "#VGG Block\n",
        "model1 = Sequential()\n",
        "model1.add(Conv2D(32, (3, 3), activation='relu', kernel_initializer='he_uniform', padding='same', input_shape=(32, 32, 3)))\n",
        "model1.add(Conv2D(32, (3, 3), activation='relu', kernel_initializer='he_uniform', padding='same'))\n",
        "model1.add(MaxPooling2D((2, 2)))\n",
        "model1.add(Dropout(0.25))\n",
        "model1.add(Conv2D(64, (3, 3), activation='relu', kernel_initializer='he_uniform', padding='same'))\n",
        "model1.add(Conv2D(64, (3, 3), activation='relu', kernel_initializer='he_uniform', padding='same'))\n",
        "model1.add(MaxPooling2D((2, 2)))\n",
        "model1.add(Dropout(0.25))\n",
        "model1.add(Conv2D(128, (3, 3), activation='relu', kernel_initializer='he_uniform', padding='same'))\n",
        "model1.add(Conv2D(128, (3, 3), activation='relu', kernel_initializer='he_uniform', padding='same'))\n",
        "model1.add(MaxPooling2D((2, 2)))\n",
        "model1.add(Dropout(0.25))\n",
        "model1.add(Flatten())\n",
        "model1.add(Dense(128, activation='relu', kernel_initializer='he_uniform'))\n",
        "model1.add(Dropout(0.25))\n",
        "model1.add(Dense(10, activation='softmax'))"
      ],
      "execution_count": 39,
      "outputs": []
    },
    {
      "cell_type": "code",
      "metadata": {
        "id": "-1NysG_tWSxE",
        "outputId": "98205b50-0b34-4a97-b24c-0225fa4bccff",
        "colab": {
          "base_uri": "https://localhost:8080/",
          "height": 697
        }
      },
      "source": [
        "opt = SGD(learning_rate=0.001, momentum=0.9)\n",
        "\n",
        "model1.summary()\n",
        "\n",
        "model1.compile(optimizer=opt, loss='categorical_crossentropy', metrics=['accuracy'])"
      ],
      "execution_count": 40,
      "outputs": [
        {
          "output_type": "stream",
          "text": [
            "Model: \"sequential_4\"\n",
            "_________________________________________________________________\n",
            "Layer (type)                 Output Shape              Param #   \n",
            "=================================================================\n",
            "conv2d_6 (Conv2D)            (None, 32, 32, 32)        896       \n",
            "_________________________________________________________________\n",
            "conv2d_7 (Conv2D)            (None, 32, 32, 32)        9248      \n",
            "_________________________________________________________________\n",
            "max_pooling2d_3 (MaxPooling2 (None, 16, 16, 32)        0         \n",
            "_________________________________________________________________\n",
            "dropout_9 (Dropout)          (None, 16, 16, 32)        0         \n",
            "_________________________________________________________________\n",
            "conv2d_8 (Conv2D)            (None, 16, 16, 64)        18496     \n",
            "_________________________________________________________________\n",
            "conv2d_9 (Conv2D)            (None, 16, 16, 64)        36928     \n",
            "_________________________________________________________________\n",
            "max_pooling2d_4 (MaxPooling2 (None, 8, 8, 64)          0         \n",
            "_________________________________________________________________\n",
            "dropout_10 (Dropout)         (None, 8, 8, 64)          0         \n",
            "_________________________________________________________________\n",
            "conv2d_10 (Conv2D)           (None, 8, 8, 128)         73856     \n",
            "_________________________________________________________________\n",
            "conv2d_11 (Conv2D)           (None, 8, 8, 128)         147584    \n",
            "_________________________________________________________________\n",
            "max_pooling2d_5 (MaxPooling2 (None, 4, 4, 128)         0         \n",
            "_________________________________________________________________\n",
            "dropout_11 (Dropout)         (None, 4, 4, 128)         0         \n",
            "_________________________________________________________________\n",
            "flatten_4 (Flatten)          (None, 2048)              0         \n",
            "_________________________________________________________________\n",
            "dense_10 (Dense)             (None, 128)               262272    \n",
            "_________________________________________________________________\n",
            "dropout_12 (Dropout)         (None, 128)               0         \n",
            "_________________________________________________________________\n",
            "dense_11 (Dense)             (None, 10)                1290      \n",
            "=================================================================\n",
            "Total params: 550,570\n",
            "Trainable params: 550,570\n",
            "Non-trainable params: 0\n",
            "_________________________________________________________________\n"
          ],
          "name": "stdout"
        }
      ]
    },
    {
      "cell_type": "code",
      "metadata": {
        "id": "M1Pa-Gp6rQH9",
        "outputId": "371424fd-77e6-42f4-a34b-4b30ad45270d",
        "colab": {
          "base_uri": "https://localhost:8080/",
          "height": 1000
        }
      },
      "source": [
        "history_vgg = model1.fit(X_train, y_train, epochs=50, validation_data=(X_test, y_test), batch_size=64)"
      ],
      "execution_count": 41,
      "outputs": [
        {
          "output_type": "stream",
          "text": [
            "Epoch 1/50\n",
            "782/782 [==============================] - 5s 7ms/step - loss: 2.0846 - accuracy: 0.2234 - val_loss: 1.7795 - val_accuracy: 0.3636\n",
            "Epoch 2/50\n",
            "782/782 [==============================] - 5s 6ms/step - loss: 1.7280 - accuracy: 0.3613 - val_loss: 1.5830 - val_accuracy: 0.4225\n",
            "Epoch 3/50\n",
            "782/782 [==============================] - 5s 6ms/step - loss: 1.5814 - accuracy: 0.4130 - val_loss: 1.4225 - val_accuracy: 0.4876\n",
            "Epoch 4/50\n",
            "782/782 [==============================] - 5s 6ms/step - loss: 1.4858 - accuracy: 0.4538 - val_loss: 1.3622 - val_accuracy: 0.5015\n",
            "Epoch 5/50\n",
            "782/782 [==============================] - 5s 6ms/step - loss: 1.4153 - accuracy: 0.4831 - val_loss: 1.2764 - val_accuracy: 0.5393\n",
            "Epoch 6/50\n",
            "782/782 [==============================] - 5s 6ms/step - loss: 1.3545 - accuracy: 0.5085 - val_loss: 1.2052 - val_accuracy: 0.5682\n",
            "Epoch 7/50\n",
            "782/782 [==============================] - 5s 6ms/step - loss: 1.2993 - accuracy: 0.5304 - val_loss: 1.1726 - val_accuracy: 0.5889\n",
            "Epoch 8/50\n",
            "782/782 [==============================] - 5s 6ms/step - loss: 1.2410 - accuracy: 0.5544 - val_loss: 1.1336 - val_accuracy: 0.5971\n",
            "Epoch 9/50\n",
            "782/782 [==============================] - 5s 6ms/step - loss: 1.1959 - accuracy: 0.5728 - val_loss: 1.0668 - val_accuracy: 0.6242\n",
            "Epoch 10/50\n",
            "782/782 [==============================] - 5s 6ms/step - loss: 1.1453 - accuracy: 0.5921 - val_loss: 1.0211 - val_accuracy: 0.6375\n",
            "Epoch 11/50\n",
            "782/782 [==============================] - 5s 6ms/step - loss: 1.0974 - accuracy: 0.6093 - val_loss: 1.0145 - val_accuracy: 0.6421\n",
            "Epoch 12/50\n",
            "782/782 [==============================] - 5s 6ms/step - loss: 1.0615 - accuracy: 0.6229 - val_loss: 0.9509 - val_accuracy: 0.6651\n",
            "Epoch 13/50\n",
            "782/782 [==============================] - 5s 6ms/step - loss: 1.0249 - accuracy: 0.6394 - val_loss: 0.9229 - val_accuracy: 0.6789\n",
            "Epoch 14/50\n",
            "782/782 [==============================] - 5s 6ms/step - loss: 0.9947 - accuracy: 0.6478 - val_loss: 0.8986 - val_accuracy: 0.6832\n",
            "Epoch 15/50\n",
            "782/782 [==============================] - 5s 6ms/step - loss: 0.9674 - accuracy: 0.6576 - val_loss: 0.8654 - val_accuracy: 0.6931\n",
            "Epoch 16/50\n",
            "782/782 [==============================] - 5s 6ms/step - loss: 0.9421 - accuracy: 0.6670 - val_loss: 0.8321 - val_accuracy: 0.7066\n",
            "Epoch 17/50\n",
            "782/782 [==============================] - 5s 6ms/step - loss: 0.9159 - accuracy: 0.6756 - val_loss: 0.8528 - val_accuracy: 0.7023\n",
            "Epoch 18/50\n",
            "782/782 [==============================] - 5s 6ms/step - loss: 0.8921 - accuracy: 0.6865 - val_loss: 0.7943 - val_accuracy: 0.7219\n",
            "Epoch 19/50\n",
            "782/782 [==============================] - 5s 6ms/step - loss: 0.8740 - accuracy: 0.6939 - val_loss: 0.7784 - val_accuracy: 0.7284\n",
            "Epoch 20/50\n",
            "782/782 [==============================] - 5s 6ms/step - loss: 0.8520 - accuracy: 0.6980 - val_loss: 0.7600 - val_accuracy: 0.7366\n",
            "Epoch 21/50\n",
            "782/782 [==============================] - 5s 6ms/step - loss: 0.8339 - accuracy: 0.7052 - val_loss: 0.7622 - val_accuracy: 0.7344\n",
            "Epoch 22/50\n",
            "782/782 [==============================] - 5s 6ms/step - loss: 0.8165 - accuracy: 0.7121 - val_loss: 0.7336 - val_accuracy: 0.7475\n",
            "Epoch 23/50\n",
            "782/782 [==============================] - 5s 6ms/step - loss: 0.8041 - accuracy: 0.7168 - val_loss: 0.7408 - val_accuracy: 0.7420\n",
            "Epoch 24/50\n",
            "782/782 [==============================] - 5s 6ms/step - loss: 0.7907 - accuracy: 0.7200 - val_loss: 0.7258 - val_accuracy: 0.7460\n",
            "Epoch 25/50\n",
            "782/782 [==============================] - 5s 6ms/step - loss: 0.7693 - accuracy: 0.7314 - val_loss: 0.7066 - val_accuracy: 0.7530\n",
            "Epoch 26/50\n",
            "782/782 [==============================] - 5s 6ms/step - loss: 0.7598 - accuracy: 0.7348 - val_loss: 0.7339 - val_accuracy: 0.7432\n",
            "Epoch 27/50\n",
            "782/782 [==============================] - 5s 6ms/step - loss: 0.7496 - accuracy: 0.7369 - val_loss: 0.7034 - val_accuracy: 0.7543\n",
            "Epoch 28/50\n",
            "782/782 [==============================] - 5s 6ms/step - loss: 0.7346 - accuracy: 0.7418 - val_loss: 0.6857 - val_accuracy: 0.7603\n",
            "Epoch 29/50\n",
            "782/782 [==============================] - 5s 6ms/step - loss: 0.7290 - accuracy: 0.7438 - val_loss: 0.6655 - val_accuracy: 0.7678\n",
            "Epoch 30/50\n",
            "782/782 [==============================] - 5s 6ms/step - loss: 0.7083 - accuracy: 0.7542 - val_loss: 0.6664 - val_accuracy: 0.7712\n",
            "Epoch 31/50\n",
            "782/782 [==============================] - 5s 6ms/step - loss: 0.7024 - accuracy: 0.7558 - val_loss: 0.6673 - val_accuracy: 0.7675\n",
            "Epoch 32/50\n",
            "782/782 [==============================] - 5s 6ms/step - loss: 0.6917 - accuracy: 0.7553 - val_loss: 0.6641 - val_accuracy: 0.7673\n",
            "Epoch 33/50\n",
            "782/782 [==============================] - 5s 6ms/step - loss: 0.6782 - accuracy: 0.7621 - val_loss: 0.6452 - val_accuracy: 0.7763\n",
            "Epoch 34/50\n",
            "782/782 [==============================] - 5s 6ms/step - loss: 0.6696 - accuracy: 0.7658 - val_loss: 0.6339 - val_accuracy: 0.7817\n",
            "Epoch 35/50\n",
            "782/782 [==============================] - 5s 6ms/step - loss: 0.6612 - accuracy: 0.7667 - val_loss: 0.6511 - val_accuracy: 0.7707\n",
            "Epoch 36/50\n",
            "782/782 [==============================] - 5s 6ms/step - loss: 0.6539 - accuracy: 0.7711 - val_loss: 0.6229 - val_accuracy: 0.7837\n",
            "Epoch 37/50\n",
            "782/782 [==============================] - 5s 6ms/step - loss: 0.6435 - accuracy: 0.7729 - val_loss: 0.6065 - val_accuracy: 0.7900\n",
            "Epoch 38/50\n",
            "782/782 [==============================] - 5s 6ms/step - loss: 0.6330 - accuracy: 0.7780 - val_loss: 0.6352 - val_accuracy: 0.7788\n",
            "Epoch 39/50\n",
            "782/782 [==============================] - 5s 6ms/step - loss: 0.6300 - accuracy: 0.7759 - val_loss: 0.6308 - val_accuracy: 0.7825\n",
            "Epoch 40/50\n",
            "782/782 [==============================] - 5s 7ms/step - loss: 0.6170 - accuracy: 0.7812 - val_loss: 0.6285 - val_accuracy: 0.7818\n",
            "Epoch 41/50\n",
            "782/782 [==============================] - 5s 7ms/step - loss: 0.6107 - accuracy: 0.7872 - val_loss: 0.6063 - val_accuracy: 0.7909\n",
            "Epoch 42/50\n",
            "782/782 [==============================] - 5s 7ms/step - loss: 0.6018 - accuracy: 0.7888 - val_loss: 0.6049 - val_accuracy: 0.7898\n",
            "Epoch 43/50\n",
            "782/782 [==============================] - 5s 7ms/step - loss: 0.5929 - accuracy: 0.7918 - val_loss: 0.6082 - val_accuracy: 0.7878\n",
            "Epoch 44/50\n",
            "782/782 [==============================] - 5s 6ms/step - loss: 0.5863 - accuracy: 0.7942 - val_loss: 0.5889 - val_accuracy: 0.7980\n",
            "Epoch 45/50\n",
            "782/782 [==============================] - 5s 6ms/step - loss: 0.5789 - accuracy: 0.7963 - val_loss: 0.5857 - val_accuracy: 0.7960\n",
            "Epoch 46/50\n",
            "782/782 [==============================] - 5s 7ms/step - loss: 0.5729 - accuracy: 0.7987 - val_loss: 0.5989 - val_accuracy: 0.7948\n",
            "Epoch 47/50\n",
            "782/782 [==============================] - 5s 7ms/step - loss: 0.5607 - accuracy: 0.8015 - val_loss: 0.5832 - val_accuracy: 0.8017\n",
            "Epoch 48/50\n",
            "782/782 [==============================] - 5s 7ms/step - loss: 0.5576 - accuracy: 0.8052 - val_loss: 0.5607 - val_accuracy: 0.8081\n",
            "Epoch 49/50\n",
            "782/782 [==============================] - 5s 6ms/step - loss: 0.5572 - accuracy: 0.8043 - val_loss: 0.5702 - val_accuracy: 0.8002\n",
            "Epoch 50/50\n",
            "782/782 [==============================] - 5s 7ms/step - loss: 0.5489 - accuracy: 0.8053 - val_loss: 0.5931 - val_accuracy: 0.7946\n"
          ],
          "name": "stdout"
        }
      ]
    },
    {
      "cell_type": "code",
      "metadata": {
        "id": "tU3Qoy36rZjE",
        "outputId": "54cc82e8-ef3c-43a3-a812-42ded436c73c",
        "colab": {
          "base_uri": "https://localhost:8080/",
          "height": 364
        }
      },
      "source": [
        "plot_loss_new(history_vgg)"
      ],
      "execution_count": 42,
      "outputs": [
        {
          "output_type": "display_data",
          "data": {
            "image/png": "[encoded data removed]",
            "text/plain": [
              "<Figure size 432x288 with 1 Axes>"
            ]
          },
          "metadata": {
            "tags": [],
            "needs_background": "light"
          }
        },
        {
          "output_type": "stream",
          "text": [
            "Minimum Loss             : 49    0.548875\n",
            "Name: loss, dtype: float64\n",
            "\n",
            "Minimum Validation Loss  : 47    0.560704\n",
            "Name: val_loss, dtype: float64\n"
          ],
          "name": "stdout"
        }
      ]
    },
    {
      "cell_type": "markdown",
      "metadata": {
        "id": "Eb2mRI0uzfyT"
      },
      "source": [
        "**Kita ingin mencari loss yang terendah, loss ini terhadap val_lossnya**\n",
        "\n",
        "Berdasarkan grafik epoch terhadap loss pada model CNN diatas, terlihat bahwa model yang kita buat sudah bagus karena tidak overfit dan juga tidak underfitting, grafiknya pun sudah cukup landai. Nilai val_loss terendah diperoleh saat epochnya 48, dimana diperoleh val_loss: 0.5607 dan val_accuracy: 0.8081`"
      ]
    },
    {
      "cell_type": "markdown",
      "metadata": {
        "id": "NT0aO91a0dom"
      },
      "source": [
        "## **Deep Learning CNN Model with Variation**"
      ]
    },
    {
      "cell_type": "code",
      "metadata": {
        "id": "el17b9dQui1G",
        "outputId": "37d74844-7d3f-4893-9398-390add6d07e3",
        "colab": {
          "base_uri": "https://localhost:8080/",
          "height": 765
        }
      },
      "source": [
        "from keras.layers import Dense, Dropout, Activation, Flatten\n",
        "\n",
        "model = Sequential()\n",
        "model.add(Conv2D(32, (3, 3), padding='same',input_shape=(32,32,3)))\n",
        "model.add(Activation('relu'))\n",
        "model.add(Conv2D(32, (3, 3)))\n",
        "model.add(Activation('relu'))\n",
        "model.add(MaxPooling2D(pool_size=(2, 2)))\n",
        "model.add(Dropout(0.25))\n",
        "\n",
        "model.add(Conv2D(64, (3, 3), padding='same'))\n",
        "model.add(Activation('relu'))\n",
        "model.add(Conv2D(64, (3, 3)))\n",
        "model.add(Activation('relu'))\n",
        "model.add(MaxPooling2D(pool_size=(2, 2)))\n",
        "model.add(Dropout(0.25))\n",
        "\n",
        "model.add(Flatten())\n",
        "model.add(Dense(512))\n",
        "model.add(Activation('relu'))\n",
        "model.add(Dropout(0.5))\n",
        "model.add(Dense(10))\n",
        "model.add(Activation('softmax'))\n",
        "\n",
        "model.summary()"
      ],
      "execution_count": 46,
      "outputs": [
        {
          "output_type": "stream",
          "text": [
            "Model: \"sequential_6\"\n",
            "_________________________________________________________________\n",
            "Layer (type)                 Output Shape              Param #   \n",
            "=================================================================\n",
            "conv2d_15 (Conv2D)           (None, 32, 32, 32)        896       \n",
            "_________________________________________________________________\n",
            "activation (Activation)      (None, 32, 32, 32)        0         \n",
            "_________________________________________________________________\n",
            "conv2d_16 (Conv2D)           (None, 30, 30, 32)        9248      \n",
            "_________________________________________________________________\n",
            "activation_1 (Activation)    (None, 30, 30, 32)        0         \n",
            "_________________________________________________________________\n",
            "max_pooling2d_8 (MaxPooling2 (None, 15, 15, 32)        0         \n",
            "_________________________________________________________________\n",
            "dropout_13 (Dropout)         (None, 15, 15, 32)        0         \n",
            "_________________________________________________________________\n",
            "conv2d_17 (Conv2D)           (None, 15, 15, 64)        18496     \n",
            "_________________________________________________________________\n",
            "activation_2 (Activation)    (None, 15, 15, 64)        0         \n",
            "_________________________________________________________________\n",
            "conv2d_18 (Conv2D)           (None, 13, 13, 64)        36928     \n",
            "_________________________________________________________________\n",
            "activation_3 (Activation)    (None, 13, 13, 64)        0         \n",
            "_________________________________________________________________\n",
            "max_pooling2d_9 (MaxPooling2 (None, 6, 6, 64)          0         \n",
            "_________________________________________________________________\n",
            "dropout_14 (Dropout)         (None, 6, 6, 64)          0         \n",
            "_________________________________________________________________\n",
            "flatten_6 (Flatten)          (None, 2304)              0         \n",
            "_________________________________________________________________\n",
            "dense_14 (Dense)             (None, 512)               1180160   \n",
            "_________________________________________________________________\n",
            "activation_4 (Activation)    (None, 512)               0         \n",
            "_________________________________________________________________\n",
            "dropout_15 (Dropout)         (None, 512)               0         \n",
            "_________________________________________________________________\n",
            "dense_15 (Dense)             (None, 10)                5130      \n",
            "_________________________________________________________________\n",
            "activation_5 (Activation)    (None, 10)                0         \n",
            "=================================================================\n",
            "Total params: 1,250,858\n",
            "Trainable params: 1,250,858\n",
            "Non-trainable params: 0\n",
            "_________________________________________________________________\n"
          ],
          "name": "stdout"
        }
      ]
    },
    {
      "cell_type": "code",
      "metadata": {
        "id": "tUmKi44AwrdA"
      },
      "source": [
        "from tensorflow.keras.optimizers import RMSprop\n",
        "\n",
        "opt = SGD(learning_rate=0.001, momentum=0.9)\n",
        "\n",
        "model.compile(loss='categorical_crossentropy',\n",
        "              optimizer=opt,\n",
        "              metrics=['accuracy'])"
      ],
      "execution_count": 47,
      "outputs": []
    },
    {
      "cell_type": "code",
      "metadata": {
        "id": "_yIPTjXswR58",
        "outputId": "87c50544-de42-4817-ba30-b2edee1a1f03",
        "colab": {
          "base_uri": "https://localhost:8080/",
          "height": 1000
        }
      },
      "source": [
        "history_newlayers = model.fit(X_train, y_train, epochs=50, validation_data=(X_test, y_test), batch_size=64)"
      ],
      "execution_count": 48,
      "outputs": [
        {
          "output_type": "stream",
          "text": [
            "Epoch 1/50\n",
            "782/782 [==============================] - 5s 6ms/step - loss: 2.2635 - accuracy: 0.1361 - val_loss: 2.0608 - val_accuracy: 0.2470\n",
            "Epoch 2/50\n",
            "782/782 [==============================] - 4s 6ms/step - loss: 2.0078 - accuracy: 0.2593 - val_loss: 1.8931 - val_accuracy: 0.3298\n",
            "Epoch 3/50\n",
            "782/782 [==============================] - 4s 6ms/step - loss: 1.8105 - accuracy: 0.3374 - val_loss: 1.6671 - val_accuracy: 0.4061\n",
            "Epoch 4/50\n",
            "782/782 [==============================] - 4s 6ms/step - loss: 1.7117 - accuracy: 0.3742 - val_loss: 1.6123 - val_accuracy: 0.4165\n",
            "Epoch 5/50\n",
            "782/782 [==============================] - 4s 5ms/step - loss: 1.6371 - accuracy: 0.4021 - val_loss: 1.5197 - val_accuracy: 0.4488\n",
            "Epoch 6/50\n",
            "782/782 [==============================] - 4s 6ms/step - loss: 1.5640 - accuracy: 0.4297 - val_loss: 1.4597 - val_accuracy: 0.4714\n",
            "Epoch 7/50\n",
            "782/782 [==============================] - 4s 6ms/step - loss: 1.5050 - accuracy: 0.4497 - val_loss: 1.3866 - val_accuracy: 0.4999\n",
            "Epoch 8/50\n",
            "782/782 [==============================] - 4s 6ms/step - loss: 1.4482 - accuracy: 0.4735 - val_loss: 1.3559 - val_accuracy: 0.5100\n",
            "Epoch 9/50\n",
            "782/782 [==============================] - 4s 6ms/step - loss: 1.4007 - accuracy: 0.4917 - val_loss: 1.2939 - val_accuracy: 0.5364\n",
            "Epoch 10/50\n",
            "782/782 [==============================] - 4s 6ms/step - loss: 1.3591 - accuracy: 0.5104 - val_loss: 1.2486 - val_accuracy: 0.5568\n",
            "Epoch 11/50\n",
            "782/782 [==============================] - 4s 6ms/step - loss: 1.3191 - accuracy: 0.5242 - val_loss: 1.2107 - val_accuracy: 0.5681\n",
            "Epoch 12/50\n",
            "782/782 [==============================] - 4s 6ms/step - loss: 1.2829 - accuracy: 0.5407 - val_loss: 1.2024 - val_accuracy: 0.5656\n",
            "Epoch 13/50\n",
            "782/782 [==============================] - 4s 6ms/step - loss: 1.2538 - accuracy: 0.5510 - val_loss: 1.1475 - val_accuracy: 0.5950\n",
            "Epoch 14/50\n",
            "782/782 [==============================] - 4s 6ms/step - loss: 1.2185 - accuracy: 0.5649 - val_loss: 1.1157 - val_accuracy: 0.6072\n",
            "Epoch 15/50\n",
            "782/782 [==============================] - 4s 6ms/step - loss: 1.1889 - accuracy: 0.5771 - val_loss: 1.1058 - val_accuracy: 0.6114\n",
            "Epoch 16/50\n",
            "782/782 [==============================] - 4s 6ms/step - loss: 1.1600 - accuracy: 0.5873 - val_loss: 1.0630 - val_accuracy: 0.6194\n",
            "Epoch 17/50\n",
            "782/782 [==============================] - 4s 6ms/step - loss: 1.1314 - accuracy: 0.5982 - val_loss: 1.0382 - val_accuracy: 0.6321\n",
            "Epoch 18/50\n",
            "782/782 [==============================] - 4s 5ms/step - loss: 1.1090 - accuracy: 0.6072 - val_loss: 1.0362 - val_accuracy: 0.6283\n",
            "Epoch 19/50\n",
            "782/782 [==============================] - 4s 6ms/step - loss: 1.0815 - accuracy: 0.6166 - val_loss: 0.9832 - val_accuracy: 0.6530\n",
            "Epoch 20/50\n",
            "782/782 [==============================] - 4s 6ms/step - loss: 1.0565 - accuracy: 0.6247 - val_loss: 0.9619 - val_accuracy: 0.6609\n",
            "Epoch 21/50\n",
            "782/782 [==============================] - 4s 5ms/step - loss: 1.0383 - accuracy: 0.6304 - val_loss: 0.9371 - val_accuracy: 0.6718\n",
            "Epoch 22/50\n",
            "782/782 [==============================] - 4s 6ms/step - loss: 1.0174 - accuracy: 0.6410 - val_loss: 0.9259 - val_accuracy: 0.6789\n",
            "Epoch 23/50\n",
            "782/782 [==============================] - 4s 6ms/step - loss: 1.0042 - accuracy: 0.6432 - val_loss: 0.9089 - val_accuracy: 0.6861\n",
            "Epoch 24/50\n",
            "782/782 [==============================] - 4s 5ms/step - loss: 0.9756 - accuracy: 0.6533 - val_loss: 0.8954 - val_accuracy: 0.6866\n",
            "Epoch 25/50\n",
            "782/782 [==============================] - 4s 5ms/step - loss: 0.9624 - accuracy: 0.6605 - val_loss: 0.8785 - val_accuracy: 0.6944\n",
            "Epoch 26/50\n",
            "782/782 [==============================] - 4s 6ms/step - loss: 0.9407 - accuracy: 0.6696 - val_loss: 0.8666 - val_accuracy: 0.6972\n",
            "Epoch 27/50\n",
            "782/782 [==============================] - 4s 6ms/step - loss: 0.9229 - accuracy: 0.6733 - val_loss: 0.8528 - val_accuracy: 0.7034\n",
            "Epoch 28/50\n",
            "782/782 [==============================] - 4s 6ms/step - loss: 0.9091 - accuracy: 0.6804 - val_loss: 0.8365 - val_accuracy: 0.7121\n",
            "Epoch 29/50\n",
            "782/782 [==============================] - 4s 6ms/step - loss: 0.8936 - accuracy: 0.6851 - val_loss: 0.8375 - val_accuracy: 0.7125\n",
            "Epoch 30/50\n",
            "782/782 [==============================] - 4s 6ms/step - loss: 0.8791 - accuracy: 0.6898 - val_loss: 0.8133 - val_accuracy: 0.7145\n",
            "Epoch 31/50\n",
            "782/782 [==============================] - 4s 6ms/step - loss: 0.8691 - accuracy: 0.6934 - val_loss: 0.8083 - val_accuracy: 0.7202\n",
            "Epoch 32/50\n",
            "782/782 [==============================] - 4s 6ms/step - loss: 0.8582 - accuracy: 0.6994 - val_loss: 0.8013 - val_accuracy: 0.7247\n",
            "Epoch 33/50\n",
            "782/782 [==============================] - 4s 6ms/step - loss: 0.8426 - accuracy: 0.7044 - val_loss: 0.7858 - val_accuracy: 0.7296\n",
            "Epoch 34/50\n",
            "782/782 [==============================] - 4s 6ms/step - loss: 0.8290 - accuracy: 0.7085 - val_loss: 0.7628 - val_accuracy: 0.7362\n",
            "Epoch 35/50\n",
            "782/782 [==============================] - 4s 6ms/step - loss: 0.8173 - accuracy: 0.7121 - val_loss: 0.7653 - val_accuracy: 0.7387\n",
            "Epoch 36/50\n",
            "782/782 [==============================] - 4s 6ms/step - loss: 0.8059 - accuracy: 0.7148 - val_loss: 0.7548 - val_accuracy: 0.7405\n",
            "Epoch 37/50\n",
            "782/782 [==============================] - 4s 5ms/step - loss: 0.7943 - accuracy: 0.7206 - val_loss: 0.7473 - val_accuracy: 0.7441\n",
            "Epoch 38/50\n",
            "782/782 [==============================] - 4s 6ms/step - loss: 0.7844 - accuracy: 0.7253 - val_loss: 0.7428 - val_accuracy: 0.7412\n",
            "Epoch 39/50\n",
            "782/782 [==============================] - 5s 6ms/step - loss: 0.7718 - accuracy: 0.7269 - val_loss: 0.7378 - val_accuracy: 0.7454\n",
            "Epoch 40/50\n",
            "782/782 [==============================] - 5s 6ms/step - loss: 0.7637 - accuracy: 0.7307 - val_loss: 0.7282 - val_accuracy: 0.7496\n",
            "Epoch 41/50\n",
            "782/782 [==============================] - 4s 6ms/step - loss: 0.7527 - accuracy: 0.7337 - val_loss: 0.7171 - val_accuracy: 0.7548\n",
            "Epoch 42/50\n",
            "782/782 [==============================] - 4s 5ms/step - loss: 0.7333 - accuracy: 0.7385 - val_loss: 0.7106 - val_accuracy: 0.7534\n",
            "Epoch 43/50\n",
            "782/782 [==============================] - 4s 5ms/step - loss: 0.7334 - accuracy: 0.7427 - val_loss: 0.7129 - val_accuracy: 0.7536\n",
            "Epoch 44/50\n",
            "782/782 [==============================] - 4s 5ms/step - loss: 0.7242 - accuracy: 0.7454 - val_loss: 0.7022 - val_accuracy: 0.7549\n",
            "Epoch 45/50\n",
            "782/782 [==============================] - 4s 6ms/step - loss: 0.7142 - accuracy: 0.7497 - val_loss: 0.6993 - val_accuracy: 0.7573\n",
            "Epoch 46/50\n",
            "782/782 [==============================] - 4s 5ms/step - loss: 0.7026 - accuracy: 0.7518 - val_loss: 0.6835 - val_accuracy: 0.7637\n",
            "Epoch 47/50\n",
            "782/782 [==============================] - 4s 5ms/step - loss: 0.6958 - accuracy: 0.7553 - val_loss: 0.6934 - val_accuracy: 0.7579\n",
            "Epoch 48/50\n",
            "782/782 [==============================] - 4s 6ms/step - loss: 0.6884 - accuracy: 0.7553 - val_loss: 0.7064 - val_accuracy: 0.7550\n",
            "Epoch 49/50\n",
            "782/782 [==============================] - 4s 6ms/step - loss: 0.6787 - accuracy: 0.7590 - val_loss: 0.6661 - val_accuracy: 0.7717\n",
            "Epoch 50/50\n",
            "782/782 [==============================] - 4s 5ms/step - loss: 0.6709 - accuracy: 0.7641 - val_loss: 0.6841 - val_accuracy: 0.7629\n"
          ],
          "name": "stdout"
        }
      ]
    },
    {
      "cell_type": "code",
      "metadata": {
        "id": "SbcAJxj5wl5k",
        "outputId": "98d1ec9b-8ce1-4770-ca7b-7a91234d83c0",
        "colab": {
          "base_uri": "https://localhost:8080/",
          "height": 364
        }
      },
      "source": [
        "plot_loss_new(history_newlayers)"
      ],
      "execution_count": null,
      "outputs": [
        {
          "output_type": "display_data",
          "data": {
            "image/png": "[encoded data removed]",
            "text/plain": [
              "<Figure size 432x288 with 1 Axes>"
            ]
          },
          "metadata": {
            "tags": [],
            "needs_background": "light"
          }
        },
        {
          "output_type": "stream",
          "text": [
            "Minimum Loss             : 49    0.630435\n",
            "Name: loss, dtype: float64\n",
            "\n",
            "Minimum Validation Loss  : 42    0.65664\n",
            "Name: val_loss, dtype: float64\n"
          ],
          "name": "stdout"
        }
      ]
    },
    {
      "cell_type": "markdown",
      "metadata": {
        "id": "xi7pvpK7zE88"
      },
      "source": [
        "**Kita ingin mencari loss yang terendah, loss ini terhadap val_lossnya**\n",
        "\n",
        "Berdasarkan grafik epoch terhadap loss pada model CNN diatas, terlihat bahwa garis lossnya memang sudah mencapai titik terendahnya dengan 50 epoch, begitupula dengan grafik val_loss yang terus menurun walaupun sempat mengalami peningkatan sedikit. Oleh karena itu, nilai val_loss terendah diperoleh saat epochnya sekitar 42, dimana diperoleh val_loss: 0.65664 dan val_accuracy: 0.7802"
      ]
    },
    {
      "cell_type": "markdown",
      "metadata": {
        "id": "Siw5Gtjd0lzN"
      },
      "source": [
        "Model terbaik diperoleh dengan **VGG Block** dengan val_loss 0.5607 dan val_accuracy 0.8081"
      ]
    }
  ]
}