{
  "nbformat": 4,
  "nbformat_minor": 0,
  "metadata": {
    "colab": {
      "name": "Regression and Classification Problems.ipynb",
      "provenance": []
    },
    "kernelspec": {
      "name": "python3",
      "display_name": "Python 3"
    }
  },
  "cells": [
    {
      "cell_type": "markdown",
      "metadata": {
        "id": "EW0uuKeEfUPZ"
      },
      "source": [
        "**Benedictus Bayu Pramudhito**"
      ]
    },
    {
      "cell_type": "markdown",
      "metadata": {
        "id": "86kdiBGabfvO"
      },
      "source": [
        "# Machine Learning\n",
        "\n",
        "---\n",
        "\n"
      ]
    },
    {
      "cell_type": "markdown",
      "metadata": {
        "id": "-I6t2Qombnq8"
      },
      "source": [
        "## **1. Breast-cancer-wisconsin**"
      ]
    },
    {
      "cell_type": "code",
      "metadata": {
        "id": "kKSmzKf_LsjF",
        "outputId": "2035a634-f7f3-4064-b2d2-4e42fec239e7",
        "colab": {
          "base_uri": "https://localhost:8080/",
          "height": 34
        }
      },
      "source": [
        "from google.colab import drive\n",
        "drive.mount('/content/drive')"
      ],
      "execution_count": null,
      "outputs": [
        {
          "output_type": "stream",
          "text": [
            "Mounted at /content/drive\n"
          ],
          "name": "stdout"
        }
      ]
    },
    {
      "cell_type": "code",
      "metadata": {
        "id": "cX0iUboMcGSu"
      },
      "source": [
        "import pandas as pd\n",
        "import numpy as np\n",
        "import matplotlib.pyplot as plt\n",
        "import seaborn as sns"
      ],
      "execution_count": null,
      "outputs": []
    },
    {
      "cell_type": "code",
      "metadata": {
        "id": "IAkxkyyYNV-y",
        "outputId": "bb1db031-cc85-4a87-ad87-d352472c66ab",
        "colab": {
          "base_uri": "https://localhost:8080/",
          "height": 187
        }
      },
      "source": [
        "import os\n",
        "print('\\n'.join(os.listdir(r'./drive/My Drive/Colab Test (Bootcamp ML 2020)/Quiz')))"
      ],
      "execution_count": null,
      "outputs": [
        {
          "output_type": "stream",
          "text": [
            "breast-cancer-wisconsin.xlsx\n",
            "cancer.csv\n",
            "breast-cancer-wisconsin.csv\n",
            "breast-cancer-wisconsin.names\n",
            "banknote.csv\n",
            "banknote.names\n",
            "Quiz_A.ipynb\n",
            ".DS_Store\n",
            "banknote.xlsx\n",
            "columns banknote.csv\n"
          ],
          "name": "stdout"
        }
      ]
    },
    {
      "cell_type": "code",
      "metadata": {
        "id": "P-_0U7e1NWDx",
        "outputId": "a12f1f9e-e836-4f56-f4b8-e2a400169ab5",
        "colab": {
          "base_uri": "https://localhost:8080/",
          "height": 221
        }
      },
      "source": [
        "df = pd.read_csv(r'./drive/My Drive/Colab Test (Bootcamp ML 2020)/Quiz/cancer.csv')\n",
        "df.head()"
      ],
      "execution_count": null,
      "outputs": [
        {
          "output_type": "execute_result",
          "data": {
            "text/html": [
              "<div>\n",
              "<style scoped>\n",
              "    .dataframe tbody tr th:only-of-type {\n",
              "        vertical-align: middle;\n",
              "    }\n",
              "\n",
              "    .dataframe tbody tr th {\n",
              "        vertical-align: top;\n",
              "    }\n",
              "\n",
              "    .dataframe thead th {\n",
              "        text-align: right;\n",
              "    }\n",
              "</style>\n",
              "<table border=\"1\" class=\"dataframe\">\n",
              "  <thead>\n",
              "    <tr style=\"text-align: right;\">\n",
              "      <th></th>\n",
              "      <th>Clump Thickness</th>\n",
              "      <th>Uniformity of Cell Size</th>\n",
              "      <th>Uniformity of Cell Shape</th>\n",
              "      <th>Marginal Adhesion</th>\n",
              "      <th>Single Epithelial Cell Size</th>\n",
              "      <th>Bare Nuclei</th>\n",
              "      <th>Bland Chromatin</th>\n",
              "      <th>Normal Nucleoli</th>\n",
              "      <th>Mitoses</th>\n",
              "      <th>Class</th>\n",
              "    </tr>\n",
              "  </thead>\n",
              "  <tbody>\n",
              "    <tr>\n",
              "      <th>0</th>\n",
              "      <td>5</td>\n",
              "      <td>1</td>\n",
              "      <td>1</td>\n",
              "      <td>1</td>\n",
              "      <td>2</td>\n",
              "      <td>1</td>\n",
              "      <td>3</td>\n",
              "      <td>1</td>\n",
              "      <td>1</td>\n",
              "      <td>2</td>\n",
              "    </tr>\n",
              "    <tr>\n",
              "      <th>1</th>\n",
              "      <td>5</td>\n",
              "      <td>4</td>\n",
              "      <td>4</td>\n",
              "      <td>5</td>\n",
              "      <td>7</td>\n",
              "      <td>10</td>\n",
              "      <td>3</td>\n",
              "      <td>2</td>\n",
              "      <td>1</td>\n",
              "      <td>2</td>\n",
              "    </tr>\n",
              "    <tr>\n",
              "      <th>2</th>\n",
              "      <td>3</td>\n",
              "      <td>1</td>\n",
              "      <td>1</td>\n",
              "      <td>1</td>\n",
              "      <td>2</td>\n",
              "      <td>2</td>\n",
              "      <td>3</td>\n",
              "      <td>1</td>\n",
              "      <td>1</td>\n",
              "      <td>2</td>\n",
              "    </tr>\n",
              "    <tr>\n",
              "      <th>3</th>\n",
              "      <td>6</td>\n",
              "      <td>8</td>\n",
              "      <td>8</td>\n",
              "      <td>1</td>\n",
              "      <td>3</td>\n",
              "      <td>4</td>\n",
              "      <td>3</td>\n",
              "      <td>7</td>\n",
              "      <td>1</td>\n",
              "      <td>2</td>\n",
              "    </tr>\n",
              "    <tr>\n",
              "      <th>4</th>\n",
              "      <td>4</td>\n",
              "      <td>1</td>\n",
              "      <td>1</td>\n",
              "      <td>3</td>\n",
              "      <td>2</td>\n",
              "      <td>1</td>\n",
              "      <td>3</td>\n",
              "      <td>1</td>\n",
              "      <td>1</td>\n",
              "      <td>2</td>\n",
              "    </tr>\n",
              "  </tbody>\n",
              "</table>\n",
              "</div>"
            ],
            "text/plain": [
              "   Clump Thickness  Uniformity of Cell Size  ...  Mitoses  Class\n",
              "0                5                        1  ...        1      2\n",
              "1                5                        4  ...        1      2\n",
              "2                3                        1  ...        1      2\n",
              "3                6                        8  ...        1      2\n",
              "4                4                        1  ...        1      2\n",
              "\n",
              "[5 rows x 10 columns]"
            ]
          },
          "metadata": {
            "tags": []
          },
          "execution_count": 71
        }
      ]
    },
    {
      "cell_type": "code",
      "metadata": {
        "id": "Kqm29xuKNV26",
        "outputId": "f8fbf477-55cf-466c-ccc6-a0fb7996ee29",
        "colab": {
          "base_uri": "https://localhost:8080/",
          "height": 34
        }
      },
      "source": [
        "df.shape"
      ],
      "execution_count": null,
      "outputs": [
        {
          "output_type": "execute_result",
          "data": {
            "text/plain": [
              "(699, 10)"
            ]
          },
          "metadata": {
            "tags": []
          },
          "execution_count": 72
        }
      ]
    },
    {
      "cell_type": "code",
      "metadata": {
        "id": "z69S_uMUNpfh",
        "outputId": "917f327d-7b79-45b6-bed9-a6c7391216a0",
        "colab": {
          "base_uri": "https://localhost:8080/",
          "height": 238
        }
      },
      "source": [
        "print(df.isnull().sum())\n",
        "print('\\nTerdapat {} Missing Values pada Dataset'.format(df.isnull().sum().sum()))"
      ],
      "execution_count": null,
      "outputs": [
        {
          "output_type": "stream",
          "text": [
            "Clump Thickness                0\n",
            "Uniformity of Cell Size        0\n",
            "Uniformity of Cell Shape       0\n",
            "Marginal Adhesion              0\n",
            "Single Epithelial Cell Size    0\n",
            "Bare Nuclei                    0\n",
            "Bland Chromatin                0\n",
            "Normal Nucleoli                0\n",
            "Mitoses                        0\n",
            "Class                          0\n",
            "dtype: int64\n",
            "\n",
            "Terdapat 0 Missing Values pada Dataset\n"
          ],
          "name": "stdout"
        }
      ]
    },
    {
      "cell_type": "code",
      "metadata": {
        "id": "Cx1ftxT_NpjZ",
        "outputId": "d888c1ec-bddf-422c-8205-365009326516",
        "colab": {
          "base_uri": "https://localhost:8080/",
          "height": 983
        }
      },
      "source": [
        "#Cek korelasi dari tiap atribut terhadap targetnya\n",
        "plt.figure(figsize=(15,15))\n",
        "sns.heatmap(df.corr(), annot=True, annot_kws={'size' : 15}, cmap='Wistia')\n",
        "plt.show()"
      ],
      "execution_count": null,
      "outputs": [
        {
          "output_type": "display_data",
          "data": {
            "image/png": "[encoded data removed]",
            "text/plain": [
              "<Figure size 1080x1080 with 2 Axes>"
            ]
          },
          "metadata": {
            "tags": [],
            "needs_background": "light"
          }
        }
      ]
    },
    {
      "cell_type": "markdown",
      "metadata": {
        "id": "SccPh31uOPo2"
      },
      "source": [
        "Terdapat korelasi yang tinggi antara kolom atribut dengan targetnya (Class)"
      ]
    },
    {
      "cell_type": "code",
      "metadata": {
        "id": "7O3eWXr9Npbm",
        "outputId": "197cf8a8-1b67-4632-e14a-9d7dbfa6b950",
        "colab": {
          "base_uri": "https://localhost:8080/",
          "height": 204
        }
      },
      "source": [
        "df.dtypes"
      ],
      "execution_count": null,
      "outputs": [
        {
          "output_type": "execute_result",
          "data": {
            "text/plain": [
              "Clump Thickness                 int64\n",
              "Uniformity of Cell Size         int64\n",
              "Uniformity of Cell Shape        int64\n",
              "Marginal Adhesion               int64\n",
              "Single Epithelial Cell Size     int64\n",
              "Bare Nuclei                    object\n",
              "Bland Chromatin                 int64\n",
              "Normal Nucleoli                 int64\n",
              "Mitoses                         int64\n",
              "Class                           int64\n",
              "dtype: object"
            ]
          },
          "metadata": {
            "tags": []
          },
          "execution_count": 24
        }
      ]
    },
    {
      "cell_type": "code",
      "metadata": {
        "id": "FjzzAtlFPwV-",
        "outputId": "b564cec4-3a09-4fe5-8f16-3676efb1e43c",
        "colab": {
          "base_uri": "https://localhost:8080/",
          "height": 187
        }
      },
      "source": [
        "df.drop(columns='Bare Nuclei', axis=1,inplace=True)\n",
        "\n",
        "df.dtypes"
      ],
      "execution_count": null,
      "outputs": [
        {
          "output_type": "execute_result",
          "data": {
            "text/plain": [
              "Clump Thickness                int64\n",
              "Uniformity of Cell Size        int64\n",
              "Uniformity of Cell Shape       int64\n",
              "Marginal Adhesion              int64\n",
              "Single Epithelial Cell Size    int64\n",
              "Bland Chromatin                int64\n",
              "Normal Nucleoli                int64\n",
              "Mitoses                        int64\n",
              "Class                          int64\n",
              "dtype: object"
            ]
          },
          "metadata": {
            "tags": []
          },
          "execution_count": 45
        }
      ]
    },
    {
      "cell_type": "code",
      "metadata": {
        "id": "7PhAeQxDQLmu",
        "outputId": "dd8e1973-2965-451b-8f10-21af843e81aa",
        "colab": {
          "base_uri": "https://localhost:8080/",
          "height": 221
        }
      },
      "source": [
        "#Mengganti isi dari kolom Class menjadi B dan M\n",
        "df['Class'] = df['Class'].replace(2, 'B')\n",
        "df['Class'] = df['Class'].replace(4, 'M')\n",
        "\n",
        "df.head()"
      ],
      "execution_count": null,
      "outputs": [
        {
          "output_type": "execute_result",
          "data": {
            "text/html": [
              "<div>\n",
              "<style scoped>\n",
              "    .dataframe tbody tr th:only-of-type {\n",
              "        vertical-align: middle;\n",
              "    }\n",
              "\n",
              "    .dataframe tbody tr th {\n",
              "        vertical-align: top;\n",
              "    }\n",
              "\n",
              "    .dataframe thead th {\n",
              "        text-align: right;\n",
              "    }\n",
              "</style>\n",
              "<table border=\"1\" class=\"dataframe\">\n",
              "  <thead>\n",
              "    <tr style=\"text-align: right;\">\n",
              "      <th></th>\n",
              "      <th>Clump Thickness</th>\n",
              "      <th>Uniformity of Cell Size</th>\n",
              "      <th>Uniformity of Cell Shape</th>\n",
              "      <th>Marginal Adhesion</th>\n",
              "      <th>Single Epithelial Cell Size</th>\n",
              "      <th>Bland Chromatin</th>\n",
              "      <th>Normal Nucleoli</th>\n",
              "      <th>Mitoses</th>\n",
              "      <th>Class</th>\n",
              "    </tr>\n",
              "  </thead>\n",
              "  <tbody>\n",
              "    <tr>\n",
              "      <th>0</th>\n",
              "      <td>5</td>\n",
              "      <td>1</td>\n",
              "      <td>1</td>\n",
              "      <td>1</td>\n",
              "      <td>2</td>\n",
              "      <td>3</td>\n",
              "      <td>1</td>\n",
              "      <td>1</td>\n",
              "      <td>B</td>\n",
              "    </tr>\n",
              "    <tr>\n",
              "      <th>1</th>\n",
              "      <td>5</td>\n",
              "      <td>4</td>\n",
              "      <td>4</td>\n",
              "      <td>5</td>\n",
              "      <td>7</td>\n",
              "      <td>3</td>\n",
              "      <td>2</td>\n",
              "      <td>1</td>\n",
              "      <td>B</td>\n",
              "    </tr>\n",
              "    <tr>\n",
              "      <th>2</th>\n",
              "      <td>3</td>\n",
              "      <td>1</td>\n",
              "      <td>1</td>\n",
              "      <td>1</td>\n",
              "      <td>2</td>\n",
              "      <td>3</td>\n",
              "      <td>1</td>\n",
              "      <td>1</td>\n",
              "      <td>B</td>\n",
              "    </tr>\n",
              "    <tr>\n",
              "      <th>3</th>\n",
              "      <td>6</td>\n",
              "      <td>8</td>\n",
              "      <td>8</td>\n",
              "      <td>1</td>\n",
              "      <td>3</td>\n",
              "      <td>3</td>\n",
              "      <td>7</td>\n",
              "      <td>1</td>\n",
              "      <td>B</td>\n",
              "    </tr>\n",
              "    <tr>\n",
              "      <th>4</th>\n",
              "      <td>4</td>\n",
              "      <td>1</td>\n",
              "      <td>1</td>\n",
              "      <td>3</td>\n",
              "      <td>2</td>\n",
              "      <td>3</td>\n",
              "      <td>1</td>\n",
              "      <td>1</td>\n",
              "      <td>B</td>\n",
              "    </tr>\n",
              "  </tbody>\n",
              "</table>\n",
              "</div>"
            ],
            "text/plain": [
              "   Clump Thickness  Uniformity of Cell Size  ...  Mitoses  Class\n",
              "0                5                        1  ...        1      B\n",
              "1                5                        4  ...        1      B\n",
              "2                3                        1  ...        1      B\n",
              "3                6                        8  ...        1      B\n",
              "4                4                        1  ...        1      B\n",
              "\n",
              "[5 rows x 9 columns]"
            ]
          },
          "metadata": {
            "tags": []
          },
          "execution_count": 46
        }
      ]
    },
    {
      "cell_type": "code",
      "metadata": {
        "id": "CU3caJsUQSP8",
        "outputId": "6993e0ee-dc91-48b0-e74e-b1e88e671b36",
        "colab": {
          "base_uri": "https://localhost:8080/",
          "height": 289
        }
      },
      "source": [
        "df.info()"
      ],
      "execution_count": null,
      "outputs": [
        {
          "output_type": "stream",
          "text": [
            "<class 'pandas.core.frame.DataFrame'>\n",
            "RangeIndex: 699 entries, 0 to 698\n",
            "Data columns (total 9 columns):\n",
            " #   Column                       Non-Null Count  Dtype \n",
            "---  ------                       --------------  ----- \n",
            " 0   Clump Thickness              699 non-null    int64 \n",
            " 1   Uniformity of Cell Size      699 non-null    int64 \n",
            " 2   Uniformity of Cell Shape     699 non-null    int64 \n",
            " 3   Marginal Adhesion            699 non-null    int64 \n",
            " 4   Single Epithelial Cell Size  699 non-null    int64 \n",
            " 5   Bland Chromatin              699 non-null    int64 \n",
            " 6   Normal Nucleoli              699 non-null    int64 \n",
            " 7   Mitoses                      699 non-null    int64 \n",
            " 8   Class                        699 non-null    object\n",
            "dtypes: int64(8), object(1)\n",
            "memory usage: 49.3+ KB\n"
          ],
          "name": "stdout"
        }
      ]
    },
    {
      "cell_type": "code",
      "metadata": {
        "id": "QQHeFPs_QWAQ",
        "outputId": "b2949b3c-1640-43f4-fd20-0d8b28939cc9",
        "colab": {
          "base_uri": "https://localhost:8080/",
          "height": 352
        }
      },
      "source": [
        "#Cek distribusi kelas\n",
        "plt.figure(figsize=(7, 5))\n",
        "sns.countplot(df['Class'], palette='Paired')\n",
        "plt.title('Distribusi Kelas', fontsize=15)\n",
        "plt.show()"
      ],
      "execution_count": null,
      "outputs": [
        {
          "output_type": "display_data",
          "data": {
            "image/png": "[encoded data removed]",
            "text/plain": [
              "<Figure size 504x360 with 1 Axes>"
            ]
          },
          "metadata": {
            "tags": [],
            "needs_background": "light"
          }
        }
      ]
    },
    {
      "cell_type": "markdown",
      "metadata": {
        "id": "nuEzQXVEPcKQ"
      },
      "source": [
        "**Machine Learning Model**\n",
        "\n",
        "**Data Preprocessing**"
      ]
    },
    {
      "cell_type": "code",
      "metadata": {
        "id": "J6Rr8MqtOjp9"
      },
      "source": [
        "#Akan digunakan 3 algoritma\n",
        "from sklearn.svm import SVC\n",
        "from sklearn.neighbors import KNeighborsClassifier\n",
        "from sklearn.ensemble import RandomForestClassifier\n",
        "\n",
        "from sklearn.preprocessing import StandardScaler, PowerTransformer\n",
        "from sklearn.model_selection import train_test_split\n",
        "from sklearn.metrics import accuracy_score, precision_score, f1_score, recall_score, confusion_matrix, classification_report"
      ],
      "execution_count": null,
      "outputs": []
    },
    {
      "cell_type": "code",
      "metadata": {
        "id": "XQYQ-mtMOjS-"
      },
      "source": [
        "X = df.drop(['Class'], axis=1)\n",
        "y = df['Class']"
      ],
      "execution_count": null,
      "outputs": []
    },
    {
      "cell_type": "code",
      "metadata": {
        "id": "NusMbVU-OjXP"
      },
      "source": [
        "#Memakai standard scaler sebagai preprocessornya\n",
        "scaler = StandardScaler()\n",
        "X_scaled = scaler.fit_transform(X.values)"
      ],
      "execution_count": null,
      "outputs": []
    },
    {
      "cell_type": "code",
      "metadata": {
        "id": "1VoAtjWkOjNL",
        "outputId": "fcf57823-5c91-4a97-9e4e-4c10b0a899bc",
        "colab": {
          "base_uri": "https://localhost:8080/",
          "height": 34
        }
      },
      "source": [
        "#Train test split data\n",
        "X_train, X_test, y_train, y_test = train_test_split(X_scaled, y, test_size=0.2, random_state=42)\n",
        "X_train.shape, X_test.shape, y_train.shape, y_test.shape"
      ],
      "execution_count": null,
      "outputs": [
        {
          "output_type": "execute_result",
          "data": {
            "text/plain": [
              "((559, 8), (140, 8), (559,), (140,))"
            ]
          },
          "metadata": {
            "tags": []
          },
          "execution_count": 52
        }
      ]
    },
    {
      "cell_type": "markdown",
      "metadata": {
        "id": "AfJ0kzOrQlE3"
      },
      "source": [
        "**SVM**"
      ]
    },
    {
      "cell_type": "code",
      "metadata": {
        "id": "kd1WZe0jQkuc",
        "outputId": "2f1c3ad5-f477-43c1-eb36-3d4e6d9c6ac4",
        "colab": {
          "base_uri": "https://localhost:8080/",
          "height": 323
        }
      },
      "source": [
        "#Hyperparameter tuning\n",
        "types = ['rbf', 'poly', 'linear']\n",
        "for i in types:\n",
        "  svmc = SVC(kernel=i)\n",
        "  svmc.fit(X_train, y_train)\n",
        "  prediksi_svc = svmc.predict(X_train)\n",
        "  prediksi_svc_test = svmc.predict(X_test)\n",
        "  y_pred_svm = svmc.predict(X_test)\n",
        "  cm = confusion_matrix(y_test, y_pred_svm)\n",
        "  print('Nilai Akurasi SVC pada Training Set dengan Kernel = {}'.format(i), 'adalah', round(accuracy_score(prediksi_svc, y_train), 2))\n",
        "  print('Nilai Akurasi SVC pada Testing Set dengan Kernel = {}'.format(i), 'adalah', round(accuracy_score(prediksi_svc_test, y_test), 2))\n",
        "  print('Precision Score kernel = {} adalah {}'.format(i, precision_score(y_test, y_pred_svm, average='macro')))\n",
        "  print('F1 Score kernel = {} adalah {}'.format(i, f1_score(y_test, y_pred_svm, average='macro')))\n",
        "  print('Recall Score kernel = {} adalah {}'.format(i, recall_score(y_test, y_pred_svm, average='macro')))\n",
        "  #print(classification_report(y_test, y_pred_svm))\n",
        "  #print(cm)\n",
        "  print('=======================================================================================================================================')"
      ],
      "execution_count": null,
      "outputs": [
        {
          "output_type": "stream",
          "text": [
            "Nilai Akurasi SVC pada Training Set dengan Kernel = rbf adalah 0.97\n",
            "Nilai Akurasi SVC pada Testing Set dengan Kernel = rbf adalah 0.96\n",
            "Precision Score kernel = rbf adalah 0.9567530064754857\n",
            "F1 Score kernel = rbf adalah 0.9592999592999593\n",
            "Recall Score kernel = rbf adalah 0.9619883040935673\n",
            "=======================================================================================================================================\n",
            "Nilai Akurasi SVC pada Training Set dengan Kernel = poly adalah 0.95\n",
            "Nilai Akurasi SVC pada Testing Set dengan Kernel = poly adalah 0.96\n",
            "Precision Score kernel = poly adalah 0.9702970297029703\n",
            "F1 Score kernel = poly adalah 0.9489795918367347\n",
            "Recall Score kernel = poly adalah 0.9333333333333333\n",
            "=======================================================================================================================================\n",
            "Nilai Akurasi SVC pada Training Set dengan Kernel = linear adalah 0.96\n",
            "Nilai Akurasi SVC pada Testing Set dengan Kernel = linear adalah 0.96\n",
            "Precision Score kernel = linear adalah 0.9567530064754857\n",
            "F1 Score kernel = linear adalah 0.9592999592999593\n",
            "Recall Score kernel = linear adalah 0.9619883040935673\n",
            "=======================================================================================================================================\n"
          ],
          "name": "stdout"
        }
      ]
    },
    {
      "cell_type": "markdown",
      "metadata": {
        "id": "DPS_eOG5SOTu"
      },
      "source": [
        "Setelah dilakukan hyparameter tuning, diperoleh hasil bahwa ketiga kernel pada SVM memberikan nilai akurasi yang sama persis dengan nilai f1 score, recall score, dan precision score yang tidak terlalu jauh bedanya sehingga ketiga kernel ini dapat memberikan hasil evaluasi yang baik pada dataset"
      ]
    },
    {
      "cell_type": "markdown",
      "metadata": {
        "id": "ggJlOYPrSnGN"
      },
      "source": [
        "**KNN**\n",
        "\n",
        "Memakai hyperparameter tuning untuk setiap metrics (accuracy, f1, recall, precision)"
      ]
    },
    {
      "cell_type": "code",
      "metadata": {
        "id": "0A2eEB76Qi8G",
        "outputId": "bd68ea04-b000-4892-f54c-a31f51f0df8e",
        "colab": {
          "base_uri": "https://localhost:8080/",
          "height": 547
        }
      },
      "source": [
        "neig = np.arange(1, 26, 2)\n",
        "train_accuracy = []\n",
        "test_accuracy = []\n",
        "\n",
        "for i, k in enumerate(neig):\n",
        "  knn = KNeighborsClassifier(n_neighbors=k)\n",
        "  knn.fit(X_train, y_train)\n",
        "  train_accuracy.append(knn.score(X_train, y_train))\n",
        "  test_accuracy.append(knn.score(X_test, y_test))\n",
        "\n",
        "plt.figure(figsize=[10,8])\n",
        "plt.plot(neig, test_accuracy, label = 'Testing Accuracy')\n",
        "plt.plot(neig, train_accuracy, label = 'Training Accuracy')\n",
        "plt.legend()\n",
        "plt.title('-value VS Accuracy')\n",
        "plt.xlabel('Number of Neighbors')\n",
        "plt.ylabel('Accuracy')\n",
        "plt.xticks(neig)\n",
        "plt.grid()\n",
        "plt.show()\n",
        "print(\"\\nNilai Akurasi terbaik untuk Model KNN adalah {}\".format(round(np.max(test_accuracy), 2)))"
      ],
      "execution_count": null,
      "outputs": [
        {
          "output_type": "display_data",
          "data": {
            "image/png": "[encoded data removed]",
            "text/plain": [
              "<Figure size 720x576 with 1 Axes>"
            ]
          },
          "metadata": {
            "tags": [],
            "needs_background": "light"
          }
        },
        {
          "output_type": "stream",
          "text": [
            "\n",
            "Nilai Akurasi terbaik untuk Model KNN adalah 0.98\n"
          ],
          "name": "stdout"
        }
      ]
    },
    {
      "cell_type": "markdown",
      "metadata": {
        "id": "qLrFphteS5Qv"
      },
      "source": [
        "Nilai akurasi terbaik untuk model KNN diperoleh dengan K=7"
      ]
    },
    {
      "cell_type": "code",
      "metadata": {
        "id": "tBFfKTF_TBJ-",
        "outputId": "cc7c8f5c-bc8e-4149-a7d4-dc1666f6c9c6",
        "colab": {
          "base_uri": "https://localhost:8080/",
          "height": 547
        }
      },
      "source": [
        "neig = np.arange(1, 26, 2)\n",
        "precision_train_accuracy = []\n",
        "precision_test_accuracy = []\n",
        "\n",
        "for i, k in enumerate(neig):\n",
        "  knn = KNeighborsClassifier(n_neighbors=k)\n",
        "  knn.fit(X_train, y_train)\n",
        "  prediksi_knn_train = knn.predict(X_train)\n",
        "  prediksi_knn_test = knn.predict(X_test)\n",
        "  precision_train_accuracy.append(precision_score(y_train, prediksi_knn_train, average='macro'))\n",
        "  precision_test_accuracy.append(precision_score(y_test, prediksi_knn_test, average='macro'))\n",
        "\n",
        "plt.figure(figsize=[10,8])\n",
        "plt.plot(neig, precision_test_accuracy, label = 'Precision Testing Accuracy')\n",
        "plt.plot(neig, precision_train_accuracy, label = 'Precision Training Accuracy')\n",
        "plt.legend()\n",
        "plt.title('-value VS Accuracy')\n",
        "plt.xlabel('Number of Neighbors')\n",
        "plt.ylabel('Accuracy')\n",
        "plt.xticks(neig)\n",
        "plt.grid()\n",
        "plt.show()\n",
        "print(\"\\nNilai Precision terbaik untuk Model KNN adalah {}\".format(round(np.max(precision_test_accuracy), 2)))"
      ],
      "execution_count": null,
      "outputs": [
        {
          "output_type": "display_data",
          "data": {
            "image/png": "[encoded data removed]",
            "text/plain": [
              "<Figure size 720x576 with 1 Axes>"
            ]
          },
          "metadata": {
            "tags": [],
            "needs_background": "light"
          }
        },
        {
          "output_type": "stream",
          "text": [
            "\n",
            "Nilai Precision terbaik untuk Model KNN adalah 0.98\n"
          ],
          "name": "stdout"
        }
      ]
    },
    {
      "cell_type": "markdown",
      "metadata": {
        "id": "6EoHauGgTIyA"
      },
      "source": [
        "Nilai precision score terbaik untuk KNN diperoleh dengan K=7"
      ]
    },
    {
      "cell_type": "code",
      "metadata": {
        "id": "hVtkXTVnQiyR",
        "outputId": "e8e32556-9ee8-4a3f-97d6-5fa63788c7e1",
        "colab": {
          "base_uri": "https://localhost:8080/",
          "height": 547
        }
      },
      "source": [
        "neig = np.arange(1, 26, 2)\n",
        "recall_train_accuracy = []\n",
        "recall_test_accuracy = []\n",
        "\n",
        "for i, k in enumerate(neig):\n",
        "  knn = KNeighborsClassifier(n_neighbors=k)\n",
        "  knn.fit(X_train, y_train)\n",
        "  prediksi_knn_train = knn.predict(X_train)\n",
        "  prediksi_knn_test = knn.predict(X_test)\n",
        "  recall_train_accuracy.append(recall_score(y_train, prediksi_knn_train, average='macro'))\n",
        "  recall_test_accuracy.append(recall_score(y_test, prediksi_knn_test, average='macro'))\n",
        "\n",
        "plt.figure(figsize=[10,8])\n",
        "plt.plot(neig, recall_test_accuracy, label = 'Recall Testing Accuracy')\n",
        "plt.plot(neig, recall_train_accuracy, label = 'Recall Training Accuracy')\n",
        "plt.legend()\n",
        "plt.title('-value VS Accuracy')\n",
        "plt.xlabel('Number of Neighbors')\n",
        "plt.ylabel('Accuracy')\n",
        "plt.xticks(neig)\n",
        "plt.grid()\n",
        "plt.show()\n",
        "print(\"\\nNilai Recall Score terbaik untuk Model KNN adalah {}\".format(round(np.max(recall_test_accuracy),2)))"
      ],
      "execution_count": null,
      "outputs": [
        {
          "output_type": "display_data",
          "data": {
            "image/png": "[encoded data removed]",
            "text/plain": [
              "<Figure size 720x576 with 1 Axes>"
            ]
          },
          "metadata": {
            "tags": [],
            "needs_background": "light"
          }
        },
        {
          "output_type": "stream",
          "text": [
            "\n",
            "Nilai Recall Score terbaik untuk Model KNN adalah 0.97\n"
          ],
          "name": "stdout"
        }
      ]
    },
    {
      "cell_type": "markdown",
      "metadata": {
        "id": "EtvSuwmfTTx_"
      },
      "source": [
        "Nilai Recall score terbaik untuk KNN diperoleh dengan K= 3, 5, dan 7"
      ]
    },
    {
      "cell_type": "code",
      "metadata": {
        "id": "wh2bRS7gQij-",
        "outputId": "b0441287-d526-4a16-f3bb-0f914d99dd7b",
        "colab": {
          "base_uri": "https://localhost:8080/",
          "height": 547
        }
      },
      "source": [
        "neig = np.arange(1, 26, 2)\n",
        "f1_train_accuracy = []\n",
        "f1_test_accuracy = []\n",
        "\n",
        "for i, k in enumerate(neig):\n",
        "  knn = KNeighborsClassifier(n_neighbors=k)\n",
        "  knn.fit(X_train, y_train)\n",
        "  prediksi_knn_train = knn.predict(X_train)\n",
        "  prediksi_knn_test = knn.predict(X_test)\n",
        "  f1_train_accuracy.append(f1_score(y_train, prediksi_knn_train, average='macro'))\n",
        "  f1_test_accuracy.append(f1_score(y_test, prediksi_knn_test, average='macro'))\n",
        "\n",
        "plt.figure(figsize=[10,8])\n",
        "plt.plot(neig, f1_test_accuracy, label = 'F1 Testing Accuracy')\n",
        "plt.plot(neig, f1_train_accuracy, label = 'F1 Training Accuracy')\n",
        "plt.legend()\n",
        "plt.title('-value VS Accuracy')\n",
        "plt.xlabel('Number of Neighbors')\n",
        "plt.ylabel('Accuracy')\n",
        "plt.xticks(neig)\n",
        "plt.grid()\n",
        "plt.show()\n",
        "print(\"\\nNilai F1 Score terbaik untuk Model KNN adalah {}\".format(round(np.max(f1_test_accuracy),2)))"
      ],
      "execution_count": null,
      "outputs": [
        {
          "output_type": "display_data",
          "data": {
            "image/png": "[encoded data removed]",
            "text/plain": [
              "<Figure size 720x576 with 1 Axes>"
            ]
          },
          "metadata": {
            "tags": [],
            "needs_background": "light"
          }
        },
        {
          "output_type": "stream",
          "text": [
            "\n",
            "Nilai F1 Score terbaik untuk Model KNN adalah 0.98\n"
          ],
          "name": "stdout"
        }
      ]
    },
    {
      "cell_type": "markdown",
      "metadata": {
        "id": "-b7WaMCOTvKl"
      },
      "source": [
        "Nilai F1 Score terbaik diperoleh dengan nilai K = 7"
      ]
    },
    {
      "cell_type": "code",
      "metadata": {
        "id": "0KBXxjw0TzMO",
        "outputId": "2ab4eebd-4e1d-470e-e61d-0145e34eabea",
        "colab": {
          "base_uri": "https://localhost:8080/",
          "height": 425
        }
      },
      "source": [
        "estimator = [50, 100, 200, 300]\n",
        "for i in estimator:\n",
        "  rf = RandomForestClassifier(n_estimators=i, max_depth=5)\n",
        "  rf.fit(X_train, y_train)\n",
        "  prediksi_rf = rf.predict(X_train)\n",
        "  prediksi_rf_test = rf.predict(X_test)\n",
        "  y_pred_rf = rf.predict(X_test)\n",
        "  cm = confusion_matrix(y_test, y_pred_rf)\n",
        "  print('Nilai Akurasi Random Forest pada Training Set dengan n_estimator = {}'.format(i), 'adalah', round(accuracy_score(prediksi_rf, y_train), 2))\n",
        "  print('Nilai Akurasi Random Forest pada Testing Set dengan n_estimator = {}'.format(i), 'adalah', round(accuracy_score(prediksi_rf_test, y_test), 2))\n",
        "  print('Precision Score dengan n_estimator = {} adalah {}'.format(i, precision_score(y_test, y_pred_rf, average='macro')))\n",
        "  print('F1 Score dengan n_estimator = {} adalah {}'.format(i, f1_score(y_test, y_pred_rf, average='macro')))\n",
        "  print('Recall Score dengan n_estimator = {} adalah {}'.format(i, recall_score(y_test, y_pred_rf, average='macro')))\n",
        "  #print(classification_report(y_test, y_pred_rf))\n",
        "  #print(cm)\n",
        "  print('=======================================================================================================================================')"
      ],
      "execution_count": null,
      "outputs": [
        {
          "output_type": "stream",
          "text": [
            "Nilai Akurasi Random Forest pada Training Set dengan n_estimator = 50 adalah 0.97\n",
            "Nilai Akurasi Random Forest pada Testing Set dengan n_estimator = 50 adalah 0.97\n",
            "Precision Score dengan n_estimator = 50 adalah 0.9627087622969572\n",
            "F1 Score dengan n_estimator = 50 adalah 0.967622571692877\n",
            "Recall Score dengan n_estimator = 50 adalah 0.9730994152046784\n",
            "=======================================================================================================================================\n",
            "Nilai Akurasi Random Forest pada Training Set dengan n_estimator = 100 adalah 0.98\n",
            "Nilai Akurasi Random Forest pada Testing Set dengan n_estimator = 100 adalah 0.97\n",
            "Precision Score dengan n_estimator = 100 adalah 0.9627087622969572\n",
            "F1 Score dengan n_estimator = 100 adalah 0.967622571692877\n",
            "Recall Score dengan n_estimator = 100 adalah 0.9730994152046784\n",
            "=======================================================================================================================================\n",
            "Nilai Akurasi Random Forest pada Training Set dengan n_estimator = 200 adalah 0.98\n",
            "Nilai Akurasi Random Forest pada Testing Set dengan n_estimator = 200 adalah 0.97\n",
            "Precision Score dengan n_estimator = 200 adalah 0.9627087622969572\n",
            "F1 Score dengan n_estimator = 200 adalah 0.967622571692877\n",
            "Recall Score dengan n_estimator = 200 adalah 0.9730994152046784\n",
            "=======================================================================================================================================\n",
            "Nilai Akurasi Random Forest pada Training Set dengan n_estimator = 300 adalah 0.98\n",
            "Nilai Akurasi Random Forest pada Testing Set dengan n_estimator = 300 adalah 0.96\n",
            "Precision Score dengan n_estimator = 300 adalah 0.9567530064754857\n",
            "F1 Score dengan n_estimator = 300 adalah 0.9592999592999593\n",
            "Recall Score dengan n_estimator = 300 adalah 0.9619883040935673\n",
            "=======================================================================================================================================\n"
          ],
          "name": "stdout"
        }
      ]
    },
    {
      "cell_type": "markdown",
      "metadata": {
        "id": "7afYu_zVUPzX"
      },
      "source": [
        "Nilai hasil evaluasi metrics (accuracy, f1 score, precision score, dan recall score) terbaik untuk model Support Vector Classifier diperoleh dengan n_estimator 100 dan 200"
      ]
    },
    {
      "cell_type": "markdown",
      "metadata": {
        "id": "NdBrwJADcJ8W"
      },
      "source": [
        "## **2. Dataset Banknote**"
      ]
    },
    {
      "cell_type": "code",
      "metadata": {
        "id": "sDG2r9FQcdaR"
      },
      "source": [
        "import pandas as pd\n",
        "import numpy as np\n",
        "import matplotlib.pyplot as plt\n",
        "import seaborn as sns"
      ],
      "execution_count": null,
      "outputs": []
    },
    {
      "cell_type": "code",
      "metadata": {
        "id": "-vzE9NDIU9nY",
        "outputId": "2005625f-06c5-4163-8ef7-239dd4ca36cd",
        "colab": {
          "base_uri": "https://localhost:8080/",
          "height": 187
        }
      },
      "source": [
        "import os\n",
        "print('\\n'.join(os.listdir(r'./drive/My Drive/Colab Test (Bootcamp ML 2020)/Quiz')))"
      ],
      "execution_count": null,
      "outputs": [
        {
          "output_type": "stream",
          "text": [
            "breast-cancer-wisconsin.xlsx\n",
            "cancer.csv\n",
            "breast-cancer-wisconsin.csv\n",
            "breast-cancer-wisconsin.names\n",
            "banknote.csv\n",
            "banknote.names\n",
            "Quiz_A.ipynb\n",
            ".DS_Store\n",
            "banknote.xlsx\n",
            "columns banknote.csv\n"
          ],
          "name": "stdout"
        }
      ]
    },
    {
      "cell_type": "code",
      "metadata": {
        "id": "4_x3Q9IDVE2j",
        "outputId": "0999e84f-3042-4c29-ecbf-109fa155ac66",
        "colab": {
          "base_uri": "https://localhost:8080/",
          "height": 204
        }
      },
      "source": [
        "df = pd.read_csv(r'./drive/My Drive/Colab Test (Bootcamp ML 2020)/Quiz/columns banknote.csv')\n",
        "df.head()"
      ],
      "execution_count": null,
      "outputs": [
        {
          "output_type": "execute_result",
          "data": {
            "text/html": [
              "<div>\n",
              "<style scoped>\n",
              "    .dataframe tbody tr th:only-of-type {\n",
              "        vertical-align: middle;\n",
              "    }\n",
              "\n",
              "    .dataframe tbody tr th {\n",
              "        vertical-align: top;\n",
              "    }\n",
              "\n",
              "    .dataframe thead th {\n",
              "        text-align: right;\n",
              "    }\n",
              "</style>\n",
              "<table border=\"1\" class=\"dataframe\">\n",
              "  <thead>\n",
              "    <tr style=\"text-align: right;\">\n",
              "      <th></th>\n",
              "      <th>variance of Wavelet Transformed image</th>\n",
              "      <th>skewness of Wavelet Transformed image</th>\n",
              "      <th>curtosis of Wavelet Transformed image</th>\n",
              "      <th>entropy of image</th>\n",
              "      <th>class</th>\n",
              "    </tr>\n",
              "  </thead>\n",
              "  <tbody>\n",
              "    <tr>\n",
              "      <th>0</th>\n",
              "      <td>3.62160</td>\n",
              "      <td>8.6661</td>\n",
              "      <td>-2.8073</td>\n",
              "      <td>-0.44699</td>\n",
              "      <td>0</td>\n",
              "    </tr>\n",
              "    <tr>\n",
              "      <th>1</th>\n",
              "      <td>4.54590</td>\n",
              "      <td>8.1674</td>\n",
              "      <td>-2.4586</td>\n",
              "      <td>-1.46210</td>\n",
              "      <td>0</td>\n",
              "    </tr>\n",
              "    <tr>\n",
              "      <th>2</th>\n",
              "      <td>3.86600</td>\n",
              "      <td>-2.6383</td>\n",
              "      <td>1.9242</td>\n",
              "      <td>0.10645</td>\n",
              "      <td>0</td>\n",
              "    </tr>\n",
              "    <tr>\n",
              "      <th>3</th>\n",
              "      <td>3.45660</td>\n",
              "      <td>9.5228</td>\n",
              "      <td>-4.0112</td>\n",
              "      <td>-3.59440</td>\n",
              "      <td>0</td>\n",
              "    </tr>\n",
              "    <tr>\n",
              "      <th>4</th>\n",
              "      <td>0.32924</td>\n",
              "      <td>-4.4552</td>\n",
              "      <td>4.5718</td>\n",
              "      <td>-0.98880</td>\n",
              "      <td>0</td>\n",
              "    </tr>\n",
              "  </tbody>\n",
              "</table>\n",
              "</div>"
            ],
            "text/plain": [
              "   variance of Wavelet Transformed image  ...  class\n",
              "0                                3.62160  ...      0\n",
              "1                                4.54590  ...      0\n",
              "2                                3.86600  ...      0\n",
              "3                                3.45660  ...      0\n",
              "4                                0.32924  ...      0\n",
              "\n",
              "[5 rows x 5 columns]"
            ]
          },
          "metadata": {
            "tags": []
          },
          "execution_count": 77
        }
      ]
    },
    {
      "cell_type": "code",
      "metadata": {
        "id": "g_zkTq8hVLY1",
        "outputId": "d193b71e-3cd6-4d42-e01b-ebc42d03c9fc",
        "colab": {
          "base_uri": "https://localhost:8080/",
          "height": 34
        }
      },
      "source": [
        "df.shape"
      ],
      "execution_count": null,
      "outputs": [
        {
          "output_type": "execute_result",
          "data": {
            "text/plain": [
              "(1372, 5)"
            ]
          },
          "metadata": {
            "tags": []
          },
          "execution_count": 78
        }
      ]
    },
    {
      "cell_type": "code",
      "metadata": {
        "id": "Zlb5qmG4VNnV",
        "outputId": "17eedbc9-e3c9-47c7-d079-9913d634dadc",
        "colab": {
          "base_uri": "https://localhost:8080/",
          "height": 119
        }
      },
      "source": [
        "df.dtypes"
      ],
      "execution_count": null,
      "outputs": [
        {
          "output_type": "execute_result",
          "data": {
            "text/plain": [
              "variance of Wavelet Transformed image    float64\n",
              "skewness of Wavelet Transformed image    float64\n",
              "curtosis of Wavelet Transformed image    float64\n",
              "entropy of image                         float64\n",
              "class                                      int64\n",
              "dtype: object"
            ]
          },
          "metadata": {
            "tags": []
          },
          "execution_count": 79
        }
      ]
    },
    {
      "cell_type": "code",
      "metadata": {
        "id": "zBLfZmIfVPB5",
        "outputId": "9318c21e-b8ca-4eae-fcb6-80b16b3d152d",
        "colab": {
          "base_uri": "https://localhost:8080/",
          "height": 297
        }
      },
      "source": [
        "df.describe()"
      ],
      "execution_count": null,
      "outputs": [
        {
          "output_type": "execute_result",
          "data": {
            "text/html": [
              "<div>\n",
              "<style scoped>\n",
              "    .dataframe tbody tr th:only-of-type {\n",
              "        vertical-align: middle;\n",
              "    }\n",
              "\n",
              "    .dataframe tbody tr th {\n",
              "        vertical-align: top;\n",
              "    }\n",
              "\n",
              "    .dataframe thead th {\n",
              "        text-align: right;\n",
              "    }\n",
              "</style>\n",
              "<table border=\"1\" class=\"dataframe\">\n",
              "  <thead>\n",
              "    <tr style=\"text-align: right;\">\n",
              "      <th></th>\n",
              "      <th>variance of Wavelet Transformed image</th>\n",
              "      <th>skewness of Wavelet Transformed image</th>\n",
              "      <th>curtosis of Wavelet Transformed image</th>\n",
              "      <th>entropy of image</th>\n",
              "      <th>class</th>\n",
              "    </tr>\n",
              "  </thead>\n",
              "  <tbody>\n",
              "    <tr>\n",
              "      <th>count</th>\n",
              "      <td>1372.000000</td>\n",
              "      <td>1372.000000</td>\n",
              "      <td>1372.000000</td>\n",
              "      <td>1372.000000</td>\n",
              "      <td>1372.000000</td>\n",
              "    </tr>\n",
              "    <tr>\n",
              "      <th>mean</th>\n",
              "      <td>0.433735</td>\n",
              "      <td>1.922353</td>\n",
              "      <td>1.397627</td>\n",
              "      <td>-1.191657</td>\n",
              "      <td>0.444606</td>\n",
              "    </tr>\n",
              "    <tr>\n",
              "      <th>std</th>\n",
              "      <td>2.842763</td>\n",
              "      <td>5.869047</td>\n",
              "      <td>4.310030</td>\n",
              "      <td>2.101013</td>\n",
              "      <td>0.497103</td>\n",
              "    </tr>\n",
              "    <tr>\n",
              "      <th>min</th>\n",
              "      <td>-7.042100</td>\n",
              "      <td>-13.773100</td>\n",
              "      <td>-5.286100</td>\n",
              "      <td>-8.548200</td>\n",
              "      <td>0.000000</td>\n",
              "    </tr>\n",
              "    <tr>\n",
              "      <th>25%</th>\n",
              "      <td>-1.773000</td>\n",
              "      <td>-1.708200</td>\n",
              "      <td>-1.574975</td>\n",
              "      <td>-2.413450</td>\n",
              "      <td>0.000000</td>\n",
              "    </tr>\n",
              "    <tr>\n",
              "      <th>50%</th>\n",
              "      <td>0.496180</td>\n",
              "      <td>2.319650</td>\n",
              "      <td>0.616630</td>\n",
              "      <td>-0.586650</td>\n",
              "      <td>0.000000</td>\n",
              "    </tr>\n",
              "    <tr>\n",
              "      <th>75%</th>\n",
              "      <td>2.821475</td>\n",
              "      <td>6.814625</td>\n",
              "      <td>3.179250</td>\n",
              "      <td>0.394810</td>\n",
              "      <td>1.000000</td>\n",
              "    </tr>\n",
              "    <tr>\n",
              "      <th>max</th>\n",
              "      <td>6.824800</td>\n",
              "      <td>12.951600</td>\n",
              "      <td>17.927400</td>\n",
              "      <td>2.449500</td>\n",
              "      <td>1.000000</td>\n",
              "    </tr>\n",
              "  </tbody>\n",
              "</table>\n",
              "</div>"
            ],
            "text/plain": [
              "       variance of Wavelet Transformed image  ...        class\n",
              "count                            1372.000000  ...  1372.000000\n",
              "mean                                0.433735  ...     0.444606\n",
              "std                                 2.842763  ...     0.497103\n",
              "min                                -7.042100  ...     0.000000\n",
              "25%                                -1.773000  ...     0.000000\n",
              "50%                                 0.496180  ...     0.000000\n",
              "75%                                 2.821475  ...     1.000000\n",
              "max                                 6.824800  ...     1.000000\n",
              "\n",
              "[8 rows x 5 columns]"
            ]
          },
          "metadata": {
            "tags": []
          },
          "execution_count": 80
        }
      ]
    },
    {
      "cell_type": "code",
      "metadata": {
        "id": "y7_Y3EC5VQ5c",
        "outputId": "8c353b7e-b87c-43f3-bd5d-e47958803e40",
        "colab": {
          "base_uri": "https://localhost:8080/",
          "height": 789
        }
      },
      "source": [
        "#Cek korelasi antar atribut terhadap targetnya\n",
        "plt.figure(figsize=(10,10))\n",
        "sns.heatmap(df.corr(), annot=True, annot_kws={'size':10})\n",
        "plt.show()"
      ],
      "execution_count": null,
      "outputs": [
        {
          "output_type": "display_data",
          "data": {
            "image/png": "[encoded data removed]",
            "text/plain": [
              "<Figure size 720x720 with 2 Axes>"
            ]
          },
          "metadata": {
            "tags": [],
            "needs_background": "light"
          }
        }
      ]
    },
    {
      "cell_type": "code",
      "metadata": {
        "id": "qFFWjJKwVc0A",
        "outputId": "54eec06f-782d-4312-cfdd-ab0559a65262",
        "colab": {
          "base_uri": "https://localhost:8080/",
          "height": 338
        }
      },
      "source": [
        "plt.figure(figsize=(5,5))\n",
        "sns.countplot(df['class'])\n",
        "plt.show()"
      ],
      "execution_count": null,
      "outputs": [
        {
          "output_type": "display_data",
          "data": {
            "image/png": "[encoded data removed]",
            "text/plain": [
              "<Figure size 360x360 with 1 Axes>"
            ]
          },
          "metadata": {
            "tags": [],
            "needs_background": "light"
          }
        }
      ]
    },
    {
      "cell_type": "markdown",
      "metadata": {
        "id": "4Poo4gSSV9rt"
      },
      "source": [
        "**Machine Learning Model**\n",
        "\n",
        "**Data Preprocessing**"
      ]
    },
    {
      "cell_type": "code",
      "metadata": {
        "id": "tNkFTiXfVuPQ"
      },
      "source": [
        "#Akan digunakan 3 algoritma\n",
        "from sklearn.linear_model import LinearRegression\n",
        "from sklearn.svm import SVR\n",
        "from sklearn.ensemble import RandomForestRegressor\n",
        "\n",
        "from sklearn.preprocessing import StandardScaler\n",
        "from sklearn.model_selection import train_test_split\n",
        "from sklearn.metrics import mean_squared_error, mean_absolute_error, r2_score\n",
        "from sklearn.model_selection import RandomizedSearchCV"
      ],
      "execution_count": null,
      "outputs": []
    },
    {
      "cell_type": "code",
      "metadata": {
        "id": "2GEvfew_WXVC"
      },
      "source": [
        "X = df.drop(['class'], axis=1)\n",
        "y = df['class']"
      ],
      "execution_count": null,
      "outputs": []
    },
    {
      "cell_type": "code",
      "metadata": {
        "id": "UzIMeSFtWdGm"
      },
      "source": [
        "stdr = StandardScaler()\n",
        "X_stdr = stdr.fit_transform(X.values)\n",
        "y_stdr = stdr.fit_transform(df['class'].values.reshape(-1, 1)).flatten()"
      ],
      "execution_count": null,
      "outputs": []
    },
    {
      "cell_type": "code",
      "metadata": {
        "id": "XUWeVnabWhAM",
        "outputId": "2ce12970-6bca-40e2-ac1e-b2c8352ffed4",
        "colab": {
          "base_uri": "https://localhost:8080/",
          "height": 34
        }
      },
      "source": [
        "X_train, X_test, y_train, y_test = train_test_split(X_stdr, y_stdr, test_size=0.2, random_state=42)\n",
        "X_train.shape, X_test.shape, y_train.shape, y_test.shape"
      ],
      "execution_count": null,
      "outputs": [
        {
          "output_type": "execute_result",
          "data": {
            "text/plain": [
              "((1097, 4), (275, 4), (1097,), (275,))"
            ]
          },
          "metadata": {
            "tags": []
          },
          "execution_count": 94
        }
      ]
    },
    {
      "cell_type": "markdown",
      "metadata": {
        "id": "5MnRfiX8Wv1K"
      },
      "source": [
        "**Linear Regression**"
      ]
    },
    {
      "cell_type": "code",
      "metadata": {
        "id": "-nY4zXYqWm5f"
      },
      "source": [
        "linreg = LinearRegression()\n",
        "linreg.fit(X_train, y_train)\n",
        "prediksi_linreg = linreg.predict(X_test)"
      ],
      "execution_count": null,
      "outputs": []
    },
    {
      "cell_type": "code",
      "metadata": {
        "id": "6AWpYvVTWyOW",
        "outputId": "586ad4db-5b36-48ac-cb99-3d8d0a98c34f",
        "colab": {
          "base_uri": "https://localhost:8080/",
          "height": 34
        }
      },
      "source": [
        "linreg.get_params()"
      ],
      "execution_count": null,
      "outputs": [
        {
          "output_type": "execute_result",
          "data": {
            "text/plain": [
              "{'copy_X': True, 'fit_intercept': True, 'n_jobs': None, 'normalize': False}"
            ]
          },
          "metadata": {
            "tags": []
          },
          "execution_count": 96
        }
      ]
    },
    {
      "cell_type": "code",
      "metadata": {
        "id": "VRBzX1F8WzeV"
      },
      "source": [
        "linreg = LinearRegression(normalize=True)\n",
        "linreg.fit(X_train, y_train)\n",
        "prediksi_linreg = linreg.predict(X_test)"
      ],
      "execution_count": null,
      "outputs": []
    },
    {
      "cell_type": "code",
      "metadata": {
        "id": "TneGg_9_W5go",
        "outputId": "57c5207c-f1ea-4c10-9a74-9c1b2f5798e5",
        "colab": {
          "base_uri": "https://localhost:8080/",
          "height": 85
        }
      },
      "source": [
        "mse = mean_squared_error(y_test, prediksi_linreg)\n",
        "mae = mean_absolute_error(y_test, prediksi_linreg)\n",
        "r2 = r2_score(y_test, prediksi_linreg)\n",
        "print('MSE (Mean Squared Error) Using Standard Scaler is  :', mse)\n",
        "print('MAE (Mean Absolute Error) Using Standard Scaler is :', mae)\n",
        "print('r^2 score Using Standard Scaler is                 :', r2)\n",
        "print('RMSE (Root Mean Squared Error) is                  :', np.sqrt(mean_squared_error(y_test, prediksi_linreg)))"
      ],
      "execution_count": null,
      "outputs": [
        {
          "output_type": "stream",
          "text": [
            "MSE (Mean Squared Error) Using Standard Scaler is  : 0.1356597638793747\n",
            "MAE (Mean Absolute Error) Using Standard Scaler is : 0.27250722311959014\n",
            "r^2 score Using Standard Scaler is                 : 0.865219335956345\n",
            "RMSE (Root Mean Squared Error) is                  : 0.36832019206035216\n"
          ],
          "name": "stdout"
        }
      ]
    },
    {
      "cell_type": "markdown",
      "metadata": {
        "id": "9_UXc_AEXJ8N"
      },
      "source": [
        "**Support Vector Regressor**"
      ]
    },
    {
      "cell_type": "code",
      "metadata": {
        "id": "lZ6xditnXJnR",
        "outputId": "ee95897f-be15-4a48-a7e9-795265187790",
        "colab": {
          "base_uri": "https://localhost:8080/",
          "height": 272
        }
      },
      "source": [
        "#Lakukan hyperparameter tuning\n",
        "types = ['rbf', 'poly', 'linear']\n",
        "for i in types:\n",
        "  svr = SVR(kernel=i)\n",
        "  svr.fit(X_train, y_train)\n",
        "  prediksi_svr = svr.predict(X_train)\n",
        "  prediksi_svr_test = svr.predict(X_test)\n",
        "  mse = mean_squared_error(y_test, prediksi_svr_test)\n",
        "  mae = mean_absolute_error(y_test, prediksi_svr_test)\n",
        "  r2 = r2_score(y_test, prediksi_svr_test)\n",
        "  print('MSE (Mean Squared Error) Using Standard Scaler is  :', mse)\n",
        "  print('MAE (Mean Absolute Error) Using Standard Scaler is :', mae)\n",
        "  print('r^2 score Using Standard Scaler is                 :', r2)\n",
        "  print('Nilai RMSE SVC dengan Kernel = {} adalah {}'.format(i, np.sqrt(mean_squared_error(y_test, prediksi_svr_test))))\n",
        "  print('========================================================================================================================')"
      ],
      "execution_count": null,
      "outputs": [
        {
          "output_type": "stream",
          "text": [
            "MSE (Mean Squared Error) Using Standard Scaler is  : 0.0348537942546939\n",
            "MAE (Mean Absolute Error) Using Standard Scaler is : 0.12276825264720763\n",
            "r^2 score Using Standard Scaler is                 : 0.965372064643533\n",
            "Nilai RMSE SVC dengan Kernel = rbf adalah 0.18669170912146554\n",
            "========================================================================================================================\n",
            "MSE (Mean Squared Error) Using Standard Scaler is  : 0.3677587866537798\n",
            "MAE (Mean Absolute Error) Using Standard Scaler is : 0.4826055721877752\n",
            "r^2 score Using Standard Scaler is                 : 0.6346243568788839\n",
            "Nilai RMSE SVC dengan Kernel = poly adalah 0.606431188721177\n",
            "========================================================================================================================\n",
            "MSE (Mean Squared Error) Using Standard Scaler is  : 0.1355259276946136\n",
            "MAE (Mean Absolute Error) Using Standard Scaler is : 0.26729855797906643\n",
            "r^2 score Using Standard Scaler is                 : 0.8653523048583933\n",
            "Nilai RMSE SVC dengan Kernel = linear adalah 0.36813846266671674\n",
            "========================================================================================================================\n"
          ],
          "name": "stdout"
        }
      ]
    },
    {
      "cell_type": "markdown",
      "metadata": {
        "id": "BdgcD73LX6cf"
      },
      "source": [
        "Model SVR dengan kernel rbf memberikan nilai MSE, MAE, R2, dan RMSE yang terbaik pada dataset"
      ]
    },
    {
      "cell_type": "markdown",
      "metadata": {
        "id": "3DnOI0WYxmgs"
      },
      "source": [
        "**Random Forest Regressor**"
      ]
    },
    {
      "cell_type": "code",
      "metadata": {
        "id": "2_X0Uo6wXA7Q",
        "outputId": "1a8498e3-701e-4fc6-a6ab-ba8b622d1ff0",
        "colab": {
          "base_uri": "https://localhost:8080/",
          "height": 323
        }
      },
      "source": [
        "rf = RandomForestRegressor()\n",
        "rf.get_params()"
      ],
      "execution_count": null,
      "outputs": [
        {
          "output_type": "execute_result",
          "data": {
            "text/plain": [
              "{'bootstrap': True,\n",
              " 'ccp_alpha': 0.0,\n",
              " 'criterion': 'mse',\n",
              " 'max_depth': None,\n",
              " 'max_features': 'auto',\n",
              " 'max_leaf_nodes': None,\n",
              " 'max_samples': None,\n",
              " 'min_impurity_decrease': 0.0,\n",
              " 'min_impurity_split': None,\n",
              " 'min_samples_leaf': 1,\n",
              " 'min_samples_split': 2,\n",
              " 'min_weight_fraction_leaf': 0.0,\n",
              " 'n_estimators': 100,\n",
              " 'n_jobs': None,\n",
              " 'oob_score': False,\n",
              " 'random_state': None,\n",
              " 'verbose': 0,\n",
              " 'warm_start': False}"
            ]
          },
          "metadata": {
            "tags": []
          },
          "execution_count": 108
        }
      ]
    },
    {
      "cell_type": "code",
      "metadata": {
        "id": "ZxGIRVSvYHIT"
      },
      "source": [
        "n_estimators = [int(x) for x in np.linspace(start=200, stop=2000, num=10)]\n",
        "max_features = ['auto', 'sqrt']\n",
        "max_depth = [int(x) for x in np.linspace(10, 110, num=11)]\n",
        "max_depth.append(None)\n",
        "min_samples_split = [2, 5, 10]\n",
        "min_samples_leaf = [1, 2, 4]\n",
        "bootstrap = [True, False]"
      ],
      "execution_count": null,
      "outputs": []
    },
    {
      "cell_type": "code",
      "metadata": {
        "id": "HJeGJqEqYIu_",
        "outputId": "835dce03-aac7-4a40-9e5d-327d7893bdc6",
        "colab": {
          "base_uri": "https://localhost:8080/",
          "height": 54
        }
      },
      "source": [
        "random_grid = {'n_estimators' : n_estimators,\n",
        "               'max_features' : max_features, \n",
        "               'max_depth' : max_depth,\n",
        "               'min_samples_split' : min_samples_split,\n",
        "               'min_samples_leaf' : min_samples_leaf,\n",
        "               'bootstrap' : bootstrap}\n",
        "\n",
        "print(random_grid)"
      ],
      "execution_count": null,
      "outputs": [
        {
          "output_type": "stream",
          "text": [
            "{'n_estimators': [200, 400, 600, 800, 1000, 1200, 1400, 1600, 1800, 2000], 'max_features': ['auto', 'sqrt'], 'max_depth': [10, 20, 30, 40, 50, 60, 70, 80, 90, 100, 110, None], 'min_samples_split': [2, 5, 10], 'min_samples_leaf': [1, 2, 4], 'bootstrap': [True, False]}\n"
          ],
          "name": "stdout"
        }
      ]
    },
    {
      "cell_type": "code",
      "metadata": {
        "id": "twlSHKtdYKvp",
        "outputId": "f385661d-597b-4c71-ab4c-4eef1131f2dd",
        "colab": {
          "base_uri": "https://localhost:8080/",
          "height": 561
        }
      },
      "source": [
        "rf = RandomForestRegressor()\n",
        "rf_random = RandomizedSearchCV(estimator=rf, param_distributions=random_grid, n_iter=100, cv=3, verbose=2, random_state=42, n_jobs=-1)\n",
        "rf_random.fit(X_train, y_train)"
      ],
      "execution_count": null,
      "outputs": [
        {
          "output_type": "stream",
          "text": [
            "Fitting 3 folds for each of 100 candidates, totalling 300 fits\n"
          ],
          "name": "stdout"
        },
        {
          "output_type": "stream",
          "text": [
            "[Parallel(n_jobs=-1)]: Using backend LokyBackend with 2 concurrent workers.\n",
            "[Parallel(n_jobs=-1)]: Done  37 tasks      | elapsed:  1.0min\n",
            "[Parallel(n_jobs=-1)]: Done 158 tasks      | elapsed:  4.0min\n",
            "[Parallel(n_jobs=-1)]: Done 300 out of 300 | elapsed:  7.7min finished\n"
          ],
          "name": "stderr"
        },
        {
          "output_type": "execute_result",
          "data": {
            "text/plain": [
              "RandomizedSearchCV(cv=3, error_score=nan,\n",
              "                   estimator=RandomForestRegressor(bootstrap=True,\n",
              "                                                   ccp_alpha=0.0,\n",
              "                                                   criterion='mse',\n",
              "                                                   max_depth=None,\n",
              "                                                   max_features='auto',\n",
              "                                                   max_leaf_nodes=None,\n",
              "                                                   max_samples=None,\n",
              "                                                   min_impurity_decrease=0.0,\n",
              "                                                   min_impurity_split=None,\n",
              "                                                   min_samples_leaf=1,\n",
              "                                                   min_samples_split=2,\n",
              "                                                   min_weight_fraction_leaf=0.0,\n",
              "                                                   n_estimators=100,\n",
              "                                                   n_jobs=None, oob_score=Fals...\n",
              "                   param_distributions={'bootstrap': [True, False],\n",
              "                                        'max_depth': [10, 20, 30, 40, 50, 60,\n",
              "                                                      70, 80, 90, 100, 110,\n",
              "                                                      None],\n",
              "                                        'max_features': ['auto', 'sqrt'],\n",
              "                                        'min_samples_leaf': [1, 2, 4],\n",
              "                                        'min_samples_split': [2, 5, 10],\n",
              "                                        'n_estimators': [200, 400, 600, 800,\n",
              "                                                         1000, 1200, 1400, 1600,\n",
              "                                                         1800, 2000]},\n",
              "                   pre_dispatch='2*n_jobs', random_state=42, refit=True,\n",
              "                   return_train_score=False, scoring=None, verbose=2)"
            ]
          },
          "metadata": {
            "tags": []
          },
          "execution_count": 111
        }
      ]
    },
    {
      "cell_type": "code",
      "metadata": {
        "id": "LYT8acG5YO8G",
        "outputId": "c89c0ebc-0a77-4239-fdf4-504fa9c59c52",
        "colab": {
          "base_uri": "https://localhost:8080/",
          "height": 119
        }
      },
      "source": [
        "rf_random.best_params_"
      ],
      "execution_count": null,
      "outputs": [
        {
          "output_type": "execute_result",
          "data": {
            "text/plain": [
              "{'bootstrap': False,\n",
              " 'max_depth': None,\n",
              " 'max_features': 'sqrt',\n",
              " 'min_samples_leaf': 1,\n",
              " 'min_samples_split': 2,\n",
              " 'n_estimators': 400}"
            ]
          },
          "metadata": {
            "tags": []
          },
          "execution_count": 112
        }
      ]
    },
    {
      "cell_type": "code",
      "metadata": {
        "id": "IvJsJZ66aD9U",
        "outputId": "aa0bd051-15cc-4a77-b6b6-6b6910862fc8",
        "colab": {
          "base_uri": "https://localhost:8080/",
          "height": 85
        }
      },
      "source": [
        "rf = RandomForestRegressor(n_estimators=400, bootstrap=False, max_depth=None, max_features='sqrt', min_samples_leaf=1, min_samples_split=2)\n",
        "rf.fit(X_train, y_train)\n",
        "prediksi_rf = rf.predict(X_train)\n",
        "prediksi_rf_test = rf.predict(X_test)\n",
        "r2 = r2_score(y_test, prediksi_rf_test)\n",
        "mse = mean_squared_error(y_test, prediksi_rf_test)\n",
        "mae = mean_absolute_error(y_test, prediksi_rf_test)\n",
        "print('MSE (Mean Squared Error) Using Standard Scaler is            :', mse)\n",
        "print('MAE (Mean Absolute Error) Using Standard Scaler is           :', mae)\n",
        "print('r^2 score Using Standard Scaler is                           :', r2)\n",
        "print('RMSE untuk model Random Forest dengan n_estimator 400 adalah :', np.sqrt(mean_squared_error(y_test, prediksi_rf_test)))"
      ],
      "execution_count": null,
      "outputs": [
        {
          "output_type": "stream",
          "text": [
            "MSE (Mean Squared Error) Using Standard Scaler is            : 0.020924643012544646\n",
            "MAE (Mean Absolute Error) Using Standard Scaler is           : 0.038564670900879\n",
            "r^2 score Using Standard Scaler is                           : 0.9792109524632898\n",
            "RMSE untuk model Random Forest dengan n_estimator 400 adalah : 0.14465352748047539\n"
          ],
          "name": "stdout"
        }
      ]
    },
    {
      "cell_type": "markdown",
      "metadata": {
        "id": "1NduoSsHad3X"
      },
      "source": [
        "**RF**\n",
        "1. MSE (Mean Squared Error) Using Standard Scaler is            : **0.020924643012544646**\n",
        "2. MAE (Mean Absolute Error) Using Standard Scaler is           : **0.038564670900879**\n",
        "3. r^2 score Using Standard Scaler is                           : **0.9792109524632898**\n",
        "4. RMSE untuk model Random Forest dengan n_estimator 400 adalah : **0.14465352748047539**\n",
        "\n",
        "**SVR**\n",
        "1. MSE (Mean Squared Error) Using Standard Scaler is  : 0.0348537942546939\n",
        "2. MAE (Mean Absolute Error) Using Standard Scaler is : 0.12276825264720763\n",
        "3. r^2 score Using Standard Scaler is                 : 0.965372064643533\n",
        "4. Nilai RMSE SVC dengan Kernel = rbf adalah 0.18669170912146554\n",
        "\n",
        "**Linear Regression**\n",
        "1. MSE (Mean Squared Error) Using Standard Scaler is  : 0.1356597638793747\n",
        "2. MAE (Mean Absolute Error) Using Standard Scaler is : 0.27250722311959014\n",
        "3. r^2 score Using Standard Scaler is                 : 0.865219335956345\n",
        "4. RMSE (Root Mean Squared Error) is                  : 0.36832019206035216\n"
      ]
    },
    {
      "cell_type": "markdown",
      "metadata": {
        "id": "8YihF6M9a2Go"
      },
      "source": [
        "Model terbaik diperoleh dengan algoritma Random Forest Regressor"
      ]
    },
    {
      "cell_type": "markdown",
      "metadata": {
        "id": "FXQPfz7ojoG_"
      },
      "source": [
        "## **Dataset Horse**"
      ]
    },
    {
      "cell_type": "code",
      "metadata": {
        "id": "0_OcWWikjnGq"
      },
      "source": [
        "import pandas as pd\n",
        "import numpy as np\n",
        "import matplotlib.pyplot as plt\n",
        "import seaborn as sns"
      ],
      "execution_count": null,
      "outputs": []
    },
    {
      "cell_type": "code",
      "metadata": {
        "id": "IaasdK9ijyWz",
        "outputId": "c2419d4c-aef5-4e95-c6d1-85dbf48c4a28",
        "colab": {
          "base_uri": "https://localhost:8080/",
          "height": 204
        }
      },
      "source": [
        "import os\n",
        "print('\\n'.join(os.listdir(r'./drive/My Drive/Colab Test (Bootcamp ML 2020)/Quiz')))"
      ],
      "execution_count": null,
      "outputs": [
        {
          "output_type": "stream",
          "text": [
            "breast-cancer-wisconsin.xlsx\n",
            "cancer.csv\n",
            "breast-cancer-wisconsin.csv\n",
            "breast-cancer-wisconsin.names\n",
            "banknote.csv\n",
            "banknote.names\n",
            "Quiz_A.ipynb\n",
            ".DS_Store\n",
            "banknote.xlsx\n",
            "columns banknote.csv\n",
            "horse-colic - horse-colic.csv\n"
          ],
          "name": "stdout"
        }
      ]
    },
    {
      "cell_type": "code",
      "metadata": {
        "id": "OhZJCeLdj3K9",
        "outputId": "ba3cd944-29e6-47c5-88ca-5857650b3bce",
        "colab": {
          "base_uri": "https://localhost:8080/",
          "height": 224
        }
      },
      "source": [
        "df = pd.read_csv(r'./drive/My Drive/Colab Test (Bootcamp ML 2020)/Quiz/horse-colic - horse-colic.csv')\n",
        "df.head()"
      ],
      "execution_count": null,
      "outputs": [
        {
          "output_type": "execute_result",
          "data": {
            "text/html": [
              "<div>\n",
              "<style scoped>\n",
              "    .dataframe tbody tr th:only-of-type {\n",
              "        vertical-align: middle;\n",
              "    }\n",
              "\n",
              "    .dataframe tbody tr th {\n",
              "        vertical-align: top;\n",
              "    }\n",
              "\n",
              "    .dataframe thead th {\n",
              "        text-align: right;\n",
              "    }\n",
              "</style>\n",
              "<table border=\"1\" class=\"dataframe\">\n",
              "  <thead>\n",
              "    <tr style=\"text-align: right;\">\n",
              "      <th></th>\n",
              "      <th>surgery</th>\n",
              "      <th>age</th>\n",
              "      <th>hos_num</th>\n",
              "      <th>rec_temp</th>\n",
              "      <th>pulse</th>\n",
              "      <th>res_rate</th>\n",
              "      <th>temp_of_ex</th>\n",
              "      <th>per_pulse</th>\n",
              "      <th>mm</th>\n",
              "      <th>cft</th>\n",
              "      <th>pain</th>\n",
              "      <th>peristalsis</th>\n",
              "      <th>abd_dis</th>\n",
              "      <th>nas_tube</th>\n",
              "      <th>nas_ref</th>\n",
              "      <th>nas_ref_ph</th>\n",
              "      <th>rec_ex</th>\n",
              "      <th>abdomen</th>\n",
              "      <th>pcv</th>\n",
              "      <th>tot_protein</th>\n",
              "      <th>ab_app</th>\n",
              "      <th>ab_tot_protein</th>\n",
              "      <th>outcome</th>\n",
              "      <th>surgical_les</th>\n",
              "      <th>t_of_les1</th>\n",
              "      <th>t_of_les2</th>\n",
              "      <th>t_of_les3</th>\n",
              "      <th>cp_data</th>\n",
              "    </tr>\n",
              "  </thead>\n",
              "  <tbody>\n",
              "    <tr>\n",
              "      <th>0</th>\n",
              "      <td>2</td>\n",
              "      <td>1</td>\n",
              "      <td>530101</td>\n",
              "      <td>38.50</td>\n",
              "      <td>66</td>\n",
              "      <td>28</td>\n",
              "      <td>3</td>\n",
              "      <td>3</td>\n",
              "      <td>?</td>\n",
              "      <td>2</td>\n",
              "      <td>5</td>\n",
              "      <td>4</td>\n",
              "      <td>4</td>\n",
              "      <td>?</td>\n",
              "      <td>?</td>\n",
              "      <td>?</td>\n",
              "      <td>3</td>\n",
              "      <td>5</td>\n",
              "      <td>45.00</td>\n",
              "      <td>8.40</td>\n",
              "      <td>?</td>\n",
              "      <td>?</td>\n",
              "      <td>2</td>\n",
              "      <td>2</td>\n",
              "      <td>11300</td>\n",
              "      <td>0</td>\n",
              "      <td>0</td>\n",
              "      <td>2</td>\n",
              "    </tr>\n",
              "    <tr>\n",
              "      <th>1</th>\n",
              "      <td>1</td>\n",
              "      <td>1</td>\n",
              "      <td>534817</td>\n",
              "      <td>39.2</td>\n",
              "      <td>88</td>\n",
              "      <td>20</td>\n",
              "      <td>?</td>\n",
              "      <td>?</td>\n",
              "      <td>4</td>\n",
              "      <td>1</td>\n",
              "      <td>3</td>\n",
              "      <td>4</td>\n",
              "      <td>2</td>\n",
              "      <td>?</td>\n",
              "      <td>?</td>\n",
              "      <td>?</td>\n",
              "      <td>4</td>\n",
              "      <td>2</td>\n",
              "      <td>50</td>\n",
              "      <td>85</td>\n",
              "      <td>2</td>\n",
              "      <td>2</td>\n",
              "      <td>3</td>\n",
              "      <td>2</td>\n",
              "      <td>2208</td>\n",
              "      <td>0</td>\n",
              "      <td>0</td>\n",
              "      <td>2</td>\n",
              "    </tr>\n",
              "    <tr>\n",
              "      <th>2</th>\n",
              "      <td>2</td>\n",
              "      <td>1</td>\n",
              "      <td>530334</td>\n",
              "      <td>38.30</td>\n",
              "      <td>40</td>\n",
              "      <td>24</td>\n",
              "      <td>1</td>\n",
              "      <td>1</td>\n",
              "      <td>3</td>\n",
              "      <td>1</td>\n",
              "      <td>3</td>\n",
              "      <td>3</td>\n",
              "      <td>1</td>\n",
              "      <td>?</td>\n",
              "      <td>?</td>\n",
              "      <td>?</td>\n",
              "      <td>1</td>\n",
              "      <td>1</td>\n",
              "      <td>33.00</td>\n",
              "      <td>6.70</td>\n",
              "      <td>?</td>\n",
              "      <td>?</td>\n",
              "      <td>1</td>\n",
              "      <td>2</td>\n",
              "      <td>0</td>\n",
              "      <td>0</td>\n",
              "      <td>0</td>\n",
              "      <td>1</td>\n",
              "    </tr>\n",
              "    <tr>\n",
              "      <th>3</th>\n",
              "      <td>1</td>\n",
              "      <td>9</td>\n",
              "      <td>5290409</td>\n",
              "      <td>39.10</td>\n",
              "      <td>164</td>\n",
              "      <td>84</td>\n",
              "      <td>4</td>\n",
              "      <td>1</td>\n",
              "      <td>6</td>\n",
              "      <td>2</td>\n",
              "      <td>2</td>\n",
              "      <td>4</td>\n",
              "      <td>4</td>\n",
              "      <td>1</td>\n",
              "      <td>2</td>\n",
              "      <td>5.00</td>\n",
              "      <td>3</td>\n",
              "      <td>?</td>\n",
              "      <td>48.00</td>\n",
              "      <td>7.20</td>\n",
              "      <td>3</td>\n",
              "      <td>5.30</td>\n",
              "      <td>2</td>\n",
              "      <td>1</td>\n",
              "      <td>2208</td>\n",
              "      <td>0</td>\n",
              "      <td>0</td>\n",
              "      <td>1</td>\n",
              "    </tr>\n",
              "    <tr>\n",
              "      <th>4</th>\n",
              "      <td>2</td>\n",
              "      <td>1</td>\n",
              "      <td>530255</td>\n",
              "      <td>37.30</td>\n",
              "      <td>104</td>\n",
              "      <td>35</td>\n",
              "      <td>?</td>\n",
              "      <td>?</td>\n",
              "      <td>6</td>\n",
              "      <td>2</td>\n",
              "      <td>?</td>\n",
              "      <td>?</td>\n",
              "      <td>?</td>\n",
              "      <td>?</td>\n",
              "      <td>?</td>\n",
              "      <td>?</td>\n",
              "      <td>?</td>\n",
              "      <td>?</td>\n",
              "      <td>74.00</td>\n",
              "      <td>7.40</td>\n",
              "      <td>?</td>\n",
              "      <td>?</td>\n",
              "      <td>2</td>\n",
              "      <td>2</td>\n",
              "      <td>4300</td>\n",
              "      <td>0</td>\n",
              "      <td>0</td>\n",
              "      <td>2</td>\n",
              "    </tr>\n",
              "  </tbody>\n",
              "</table>\n",
              "</div>"
            ],
            "text/plain": [
              "  surgery  age  hos_num rec_temp  ... t_of_les1 t_of_les2 t_of_les3 cp_data\n",
              "0       2    1   530101    38.50  ...     11300         0         0       2\n",
              "1       1    1   534817     39.2  ...      2208         0         0       2\n",
              "2       2    1   530334    38.30  ...         0         0         0       1\n",
              "3       1    9  5290409    39.10  ...      2208         0         0       1\n",
              "4       2    1   530255    37.30  ...      4300         0         0       2\n",
              "\n",
              "[5 rows x 28 columns]"
            ]
          },
          "metadata": {
            "tags": []
          },
          "execution_count": 140
        }
      ]
    },
    {
      "cell_type": "code",
      "metadata": {
        "id": "pL2-QNILj_aJ"
      },
      "source": [
        "df.replace('?', np.nan, inplace=True)"
      ],
      "execution_count": null,
      "outputs": []
    },
    {
      "cell_type": "code",
      "metadata": {
        "id": "Yd7i2p25kQFb",
        "outputId": "d139fae4-c00b-441e-e97a-17518aad67bc",
        "colab": {
          "base_uri": "https://localhost:8080/",
          "height": 544
        }
      },
      "source": [
        "print(df.isnull().sum().sort_values())\n",
        "print('\\nTerdapat {} Missing Values pada Dataset'.format(df.isnull().sum().sum()))"
      ],
      "execution_count": null,
      "outputs": [
        {
          "output_type": "stream",
          "text": [
            "cp_data             0\n",
            "age                 0\n",
            "hos_num             0\n",
            "t_of_les2           0\n",
            "t_of_les1           0\n",
            "surgical_les        0\n",
            "t_of_les3           0\n",
            "outcome             1\n",
            "surgery             1\n",
            "pulse              24\n",
            "pcv                29\n",
            "cft                32\n",
            "tot_protein        33\n",
            "peristalsis        44\n",
            "mm                 47\n",
            "pain               55\n",
            "abd_dis            56\n",
            "temp_of_ex         56\n",
            "res_rate           58\n",
            "rec_temp           60\n",
            "per_pulse          69\n",
            "rec_ex            102\n",
            "nas_tube          104\n",
            "nas_ref           106\n",
            "abdomen           118\n",
            "ab_app            165\n",
            "ab_tot_protein    198\n",
            "nas_ref_ph        247\n",
            "dtype: int64\n",
            "\n",
            "Terdapat 1605 Missing Values pada Dataset\n"
          ],
          "name": "stdout"
        }
      ]
    },
    {
      "cell_type": "code",
      "metadata": {
        "id": "ejUS43j4kgMu",
        "outputId": "7bf069b8-deba-42a5-8b0b-bb65a6122984",
        "colab": {
          "base_uri": "https://localhost:8080/",
          "height": 917
        }
      },
      "source": [
        "#Cek Missing Values\n",
        "nulls =  df.isnull().sum().sort_values(ascending=False)\n",
        "percnt = round(nulls/len(df)*100, 2)\n",
        "\n",
        "df_null = pd.DataFrame(columns=['Features', 'Total', 'Percent'])\n",
        "df_null['Features'] = nulls.index\n",
        "df_null['Total'] = nulls.values\n",
        "df_null['Percent'] = percnt.values\n",
        "\n",
        "#Cek attribut dengan missing values > dari 30%\n",
        "df_null"
      ],
      "execution_count": null,
      "outputs": [
        {
          "output_type": "execute_result",
          "data": {
            "text/html": [
              "<div>\n",
              "<style scoped>\n",
              "    .dataframe tbody tr th:only-of-type {\n",
              "        vertical-align: middle;\n",
              "    }\n",
              "\n",
              "    .dataframe tbody tr th {\n",
              "        vertical-align: top;\n",
              "    }\n",
              "\n",
              "    .dataframe thead th {\n",
              "        text-align: right;\n",
              "    }\n",
              "</style>\n",
              "<table border=\"1\" class=\"dataframe\">\n",
              "  <thead>\n",
              "    <tr style=\"text-align: right;\">\n",
              "      <th></th>\n",
              "      <th>Features</th>\n",
              "      <th>Total</th>\n",
              "      <th>Percent</th>\n",
              "    </tr>\n",
              "  </thead>\n",
              "  <tbody>\n",
              "    <tr>\n",
              "      <th>0</th>\n",
              "      <td>nas_ref_ph</td>\n",
              "      <td>247</td>\n",
              "      <td>82.33</td>\n",
              "    </tr>\n",
              "    <tr>\n",
              "      <th>1</th>\n",
              "      <td>ab_tot_protein</td>\n",
              "      <td>198</td>\n",
              "      <td>66.00</td>\n",
              "    </tr>\n",
              "    <tr>\n",
              "      <th>2</th>\n",
              "      <td>ab_app</td>\n",
              "      <td>165</td>\n",
              "      <td>55.00</td>\n",
              "    </tr>\n",
              "    <tr>\n",
              "      <th>3</th>\n",
              "      <td>abdomen</td>\n",
              "      <td>118</td>\n",
              "      <td>39.33</td>\n",
              "    </tr>\n",
              "    <tr>\n",
              "      <th>4</th>\n",
              "      <td>nas_ref</td>\n",
              "      <td>106</td>\n",
              "      <td>35.33</td>\n",
              "    </tr>\n",
              "    <tr>\n",
              "      <th>5</th>\n",
              "      <td>nas_tube</td>\n",
              "      <td>104</td>\n",
              "      <td>34.67</td>\n",
              "    </tr>\n",
              "    <tr>\n",
              "      <th>6</th>\n",
              "      <td>rec_ex</td>\n",
              "      <td>102</td>\n",
              "      <td>34.00</td>\n",
              "    </tr>\n",
              "    <tr>\n",
              "      <th>7</th>\n",
              "      <td>per_pulse</td>\n",
              "      <td>69</td>\n",
              "      <td>23.00</td>\n",
              "    </tr>\n",
              "    <tr>\n",
              "      <th>8</th>\n",
              "      <td>rec_temp</td>\n",
              "      <td>60</td>\n",
              "      <td>20.00</td>\n",
              "    </tr>\n",
              "    <tr>\n",
              "      <th>9</th>\n",
              "      <td>res_rate</td>\n",
              "      <td>58</td>\n",
              "      <td>19.33</td>\n",
              "    </tr>\n",
              "    <tr>\n",
              "      <th>10</th>\n",
              "      <td>temp_of_ex</td>\n",
              "      <td>56</td>\n",
              "      <td>18.67</td>\n",
              "    </tr>\n",
              "    <tr>\n",
              "      <th>11</th>\n",
              "      <td>abd_dis</td>\n",
              "      <td>56</td>\n",
              "      <td>18.67</td>\n",
              "    </tr>\n",
              "    <tr>\n",
              "      <th>12</th>\n",
              "      <td>pain</td>\n",
              "      <td>55</td>\n",
              "      <td>18.33</td>\n",
              "    </tr>\n",
              "    <tr>\n",
              "      <th>13</th>\n",
              "      <td>mm</td>\n",
              "      <td>47</td>\n",
              "      <td>15.67</td>\n",
              "    </tr>\n",
              "    <tr>\n",
              "      <th>14</th>\n",
              "      <td>peristalsis</td>\n",
              "      <td>44</td>\n",
              "      <td>14.67</td>\n",
              "    </tr>\n",
              "    <tr>\n",
              "      <th>15</th>\n",
              "      <td>tot_protein</td>\n",
              "      <td>33</td>\n",
              "      <td>11.00</td>\n",
              "    </tr>\n",
              "    <tr>\n",
              "      <th>16</th>\n",
              "      <td>cft</td>\n",
              "      <td>32</td>\n",
              "      <td>10.67</td>\n",
              "    </tr>\n",
              "    <tr>\n",
              "      <th>17</th>\n",
              "      <td>pcv</td>\n",
              "      <td>29</td>\n",
              "      <td>9.67</td>\n",
              "    </tr>\n",
              "    <tr>\n",
              "      <th>18</th>\n",
              "      <td>pulse</td>\n",
              "      <td>24</td>\n",
              "      <td>8.00</td>\n",
              "    </tr>\n",
              "    <tr>\n",
              "      <th>19</th>\n",
              "      <td>surgery</td>\n",
              "      <td>1</td>\n",
              "      <td>0.33</td>\n",
              "    </tr>\n",
              "    <tr>\n",
              "      <th>20</th>\n",
              "      <td>outcome</td>\n",
              "      <td>1</td>\n",
              "      <td>0.33</td>\n",
              "    </tr>\n",
              "    <tr>\n",
              "      <th>21</th>\n",
              "      <td>t_of_les3</td>\n",
              "      <td>0</td>\n",
              "      <td>0.00</td>\n",
              "    </tr>\n",
              "    <tr>\n",
              "      <th>22</th>\n",
              "      <td>surgical_les</td>\n",
              "      <td>0</td>\n",
              "      <td>0.00</td>\n",
              "    </tr>\n",
              "    <tr>\n",
              "      <th>23</th>\n",
              "      <td>t_of_les1</td>\n",
              "      <td>0</td>\n",
              "      <td>0.00</td>\n",
              "    </tr>\n",
              "    <tr>\n",
              "      <th>24</th>\n",
              "      <td>t_of_les2</td>\n",
              "      <td>0</td>\n",
              "      <td>0.00</td>\n",
              "    </tr>\n",
              "    <tr>\n",
              "      <th>25</th>\n",
              "      <td>hos_num</td>\n",
              "      <td>0</td>\n",
              "      <td>0.00</td>\n",
              "    </tr>\n",
              "    <tr>\n",
              "      <th>26</th>\n",
              "      <td>age</td>\n",
              "      <td>0</td>\n",
              "      <td>0.00</td>\n",
              "    </tr>\n",
              "    <tr>\n",
              "      <th>27</th>\n",
              "      <td>cp_data</td>\n",
              "      <td>0</td>\n",
              "      <td>0.00</td>\n",
              "    </tr>\n",
              "  </tbody>\n",
              "</table>\n",
              "</div>"
            ],
            "text/plain": [
              "          Features  Total  Percent\n",
              "0       nas_ref_ph    247    82.33\n",
              "1   ab_tot_protein    198    66.00\n",
              "2           ab_app    165    55.00\n",
              "3          abdomen    118    39.33\n",
              "4          nas_ref    106    35.33\n",
              "5         nas_tube    104    34.67\n",
              "6           rec_ex    102    34.00\n",
              "7        per_pulse     69    23.00\n",
              "8         rec_temp     60    20.00\n",
              "9         res_rate     58    19.33\n",
              "10      temp_of_ex     56    18.67\n",
              "11         abd_dis     56    18.67\n",
              "12            pain     55    18.33\n",
              "13              mm     47    15.67\n",
              "14     peristalsis     44    14.67\n",
              "15     tot_protein     33    11.00\n",
              "16             cft     32    10.67\n",
              "17             pcv     29     9.67\n",
              "18           pulse     24     8.00\n",
              "19         surgery      1     0.33\n",
              "20         outcome      1     0.33\n",
              "21       t_of_les3      0     0.00\n",
              "22    surgical_les      0     0.00\n",
              "23       t_of_les1      0     0.00\n",
              "24       t_of_les2      0     0.00\n",
              "25         hos_num      0     0.00\n",
              "26             age      0     0.00\n",
              "27         cp_data      0     0.00"
            ]
          },
          "metadata": {
            "tags": []
          },
          "execution_count": 144
        }
      ]
    },
    {
      "cell_type": "code",
      "metadata": {
        "id": "tSrsJDy4kxZG",
        "outputId": "167112eb-a36b-4842-b8b3-66f66e81bec8",
        "colab": {
          "base_uri": "https://localhost:8080/",
          "height": 136
        }
      },
      "source": [
        "#drop kolom dengan nilai nan yang lebih dari 30 persen\n",
        "for i in df_null['Features'][df_null['Percent'] > 30]:\n",
        "  df = df.drop([i], axis=1)\n",
        "  print(df.shape, i)"
      ],
      "execution_count": null,
      "outputs": [
        {
          "output_type": "stream",
          "text": [
            "(300, 27) nas_ref_ph\n",
            "(300, 26) ab_tot_protein\n",
            "(300, 25) ab_app\n",
            "(300, 24) abdomen\n",
            "(300, 23) nas_ref\n",
            "(300, 22) nas_tube\n",
            "(300, 21) rec_ex\n"
          ],
          "name": "stdout"
        }
      ]
    },
    {
      "cell_type": "code",
      "metadata": {
        "id": "ewMYODGLk708",
        "outputId": "04b21584-7214-4325-c6c5-5e148b4a241b",
        "colab": {
          "base_uri": "https://localhost:8080/",
          "height": 34
        }
      },
      "source": [
        "df.shape"
      ],
      "execution_count": null,
      "outputs": [
        {
          "output_type": "execute_result",
          "data": {
            "text/plain": [
              "(300, 21)"
            ]
          },
          "metadata": {
            "tags": []
          },
          "execution_count": 146
        }
      ]
    },
    {
      "cell_type": "code",
      "metadata": {
        "id": "FlPR1926lBxD",
        "outputId": "2ccf4e31-9d70-41bf-d526-7fa73cca0251",
        "colab": {
          "base_uri": "https://localhost:8080/",
          "height": 391
        }
      },
      "source": [
        "df.isnull().sum().sort_values()"
      ],
      "execution_count": null,
      "outputs": [
        {
          "output_type": "execute_result",
          "data": {
            "text/plain": [
              "cp_data          0\n",
              "age              0\n",
              "hos_num          0\n",
              "t_of_les2        0\n",
              "t_of_les1        0\n",
              "surgical_les     0\n",
              "t_of_les3        0\n",
              "outcome          1\n",
              "surgery          1\n",
              "pulse           24\n",
              "pcv             29\n",
              "cft             32\n",
              "tot_protein     33\n",
              "peristalsis     44\n",
              "mm              47\n",
              "pain            55\n",
              "abd_dis         56\n",
              "temp_of_ex      56\n",
              "res_rate        58\n",
              "rec_temp        60\n",
              "per_pulse       69\n",
              "dtype: int64"
            ]
          },
          "metadata": {
            "tags": []
          },
          "execution_count": 150
        }
      ]
    },
    {
      "cell_type": "code",
      "metadata": {
        "id": "Pf9r1bIXlPPJ",
        "outputId": "c1283f94-4780-43d3-ed21-db51ed46ba51",
        "colab": {
          "base_uri": "https://localhost:8080/",
          "height": 391
        }
      },
      "source": [
        "df.dtypes"
      ],
      "execution_count": null,
      "outputs": [
        {
          "output_type": "execute_result",
          "data": {
            "text/plain": [
              "surgery         object\n",
              "age              int64\n",
              "hos_num          int64\n",
              "rec_temp        object\n",
              "pulse           object\n",
              "res_rate        object\n",
              "temp_of_ex      object\n",
              "per_pulse       object\n",
              "mm              object\n",
              "cft             object\n",
              "pain            object\n",
              "peristalsis     object\n",
              "abd_dis         object\n",
              "pcv             object\n",
              "tot_protein     object\n",
              "outcome         object\n",
              "surgical_les     int64\n",
              "t_of_les1        int64\n",
              "t_of_les2        int64\n",
              "t_of_les3        int64\n",
              "cp_data          int64\n",
              "dtype: object"
            ]
          },
          "metadata": {
            "tags": []
          },
          "execution_count": 152
        }
      ]
    },
    {
      "cell_type": "code",
      "metadata": {
        "id": "qKx3T4iVlW4G",
        "outputId": "01a25541-3098-4741-e323-27f02a261e22",
        "colab": {
          "base_uri": "https://localhost:8080/",
          "height": 697
        }
      },
      "source": [
        "#Isi Missing Values lainnya dengan mode values\n",
        "for i in df.columns:\n",
        "  if df[i].isnull().sum() > 0:\n",
        "    df[i].fillna(df[i].mode().mean(), inplace=True)\n",
        "    print('filled', i)"
      ],
      "execution_count": null,
      "outputs": [
        {
          "output_type": "stream",
          "text": [
            "filled surgery\n",
            "filled rec_temp\n",
            "filled pulse\n",
            "filled res_rate\n",
            "filled temp_of_ex\n",
            "filled per_pulse\n",
            "filled mm\n",
            "filled cft\n",
            "filled pain\n",
            "filled peristalsis\n",
            "filled abd_dis\n"
          ],
          "name": "stdout"
        },
        {
          "output_type": "error",
          "ename": "TypeError",
          "evalue": "ignored",
          "traceback": [
            "\u001b[0;31m---------------------------------------------------------------------------\u001b[0m",
            "\u001b[0;31mValueError\u001b[0m                                Traceback (most recent call last)",
            "\u001b[0;32m/usr/local/lib/python3.6/dist-packages/pandas/core/nanops.py\u001b[0m in \u001b[0;36m_ensure_numeric\u001b[0;34m(x)\u001b[0m\n\u001b[1;32m   1302\u001b[0m         \u001b[0;32mtry\u001b[0m\u001b[0;34m:\u001b[0m\u001b[0;34m\u001b[0m\u001b[0;34m\u001b[0m\u001b[0m\n\u001b[0;32m-> 1303\u001b[0;31m             \u001b[0mx\u001b[0m \u001b[0;34m=\u001b[0m \u001b[0mfloat\u001b[0m\u001b[0;34m(\u001b[0m\u001b[0mx\u001b[0m\u001b[0;34m)\u001b[0m\u001b[0;34m\u001b[0m\u001b[0;34m\u001b[0m\u001b[0m\n\u001b[0m\u001b[1;32m   1304\u001b[0m         \u001b[0;32mexcept\u001b[0m \u001b[0mValueError\u001b[0m\u001b[0;34m:\u001b[0m\u001b[0;34m\u001b[0m\u001b[0;34m\u001b[0m\u001b[0m\n",
            "\u001b[0;31mValueError\u001b[0m: could not convert string to float: '40.0044.00'",
            "\nDuring handling of the above exception, another exception occurred:\n",
            "\u001b[0;31mValueError\u001b[0m                                Traceback (most recent call last)",
            "\u001b[0;32m/usr/local/lib/python3.6/dist-packages/pandas/core/nanops.py\u001b[0m in \u001b[0;36m_ensure_numeric\u001b[0;34m(x)\u001b[0m\n\u001b[1;32m   1306\u001b[0m             \u001b[0;32mtry\u001b[0m\u001b[0;34m:\u001b[0m\u001b[0;34m\u001b[0m\u001b[0;34m\u001b[0m\u001b[0m\n\u001b[0;32m-> 1307\u001b[0;31m                 \u001b[0mx\u001b[0m \u001b[0;34m=\u001b[0m \u001b[0mcomplex\u001b[0m\u001b[0;34m(\u001b[0m\u001b[0mx\u001b[0m\u001b[0;34m)\u001b[0m\u001b[0;34m\u001b[0m\u001b[0;34m\u001b[0m\u001b[0m\n\u001b[0m\u001b[1;32m   1308\u001b[0m             \u001b[0;32mexcept\u001b[0m \u001b[0mValueError\u001b[0m\u001b[0;34m:\u001b[0m\u001b[0;34m\u001b[0m\u001b[0;34m\u001b[0m\u001b[0m\n",
            "\u001b[0;31mValueError\u001b[0m: complex() arg is a malformed string",
            "\nDuring handling of the above exception, another exception occurred:\n",
            "\u001b[0;31mTypeError\u001b[0m                                 Traceback (most recent call last)",
            "\u001b[0;32m<ipython-input-158-2630ba23aec8>\u001b[0m in \u001b[0;36m<module>\u001b[0;34m()\u001b[0m\n\u001b[1;32m      2\u001b[0m \u001b[0;32mfor\u001b[0m \u001b[0mi\u001b[0m \u001b[0;32min\u001b[0m \u001b[0mdf\u001b[0m\u001b[0;34m.\u001b[0m\u001b[0mcolumns\u001b[0m\u001b[0;34m:\u001b[0m\u001b[0;34m\u001b[0m\u001b[0;34m\u001b[0m\u001b[0m\n\u001b[1;32m      3\u001b[0m   \u001b[0;32mif\u001b[0m \u001b[0mdf\u001b[0m\u001b[0;34m[\u001b[0m\u001b[0mi\u001b[0m\u001b[0;34m]\u001b[0m\u001b[0;34m.\u001b[0m\u001b[0misnull\u001b[0m\u001b[0;34m(\u001b[0m\u001b[0;34m)\u001b[0m\u001b[0;34m.\u001b[0m\u001b[0msum\u001b[0m\u001b[0;34m(\u001b[0m\u001b[0;34m)\u001b[0m \u001b[0;34m>\u001b[0m \u001b[0;36m0\u001b[0m\u001b[0;34m:\u001b[0m\u001b[0;34m\u001b[0m\u001b[0;34m\u001b[0m\u001b[0m\n\u001b[0;32m----> 4\u001b[0;31m     \u001b[0mdf\u001b[0m\u001b[0;34m[\u001b[0m\u001b[0mi\u001b[0m\u001b[0;34m]\u001b[0m\u001b[0;34m.\u001b[0m\u001b[0mfillna\u001b[0m\u001b[0;34m(\u001b[0m\u001b[0mdf\u001b[0m\u001b[0;34m[\u001b[0m\u001b[0mi\u001b[0m\u001b[0;34m]\u001b[0m\u001b[0;34m.\u001b[0m\u001b[0mmode\u001b[0m\u001b[0;34m(\u001b[0m\u001b[0;34m)\u001b[0m\u001b[0;34m.\u001b[0m\u001b[0mmean\u001b[0m\u001b[0;34m(\u001b[0m\u001b[0;34m)\u001b[0m\u001b[0;34m,\u001b[0m \u001b[0minplace\u001b[0m\u001b[0;34m=\u001b[0m\u001b[0;32mTrue\u001b[0m\u001b[0;34m)\u001b[0m\u001b[0;34m\u001b[0m\u001b[0;34m\u001b[0m\u001b[0m\n\u001b[0m\u001b[1;32m      5\u001b[0m     \u001b[0mprint\u001b[0m\u001b[0;34m(\u001b[0m\u001b[0;34m'filled'\u001b[0m\u001b[0;34m,\u001b[0m \u001b[0mi\u001b[0m\u001b[0;34m)\u001b[0m\u001b[0;34m\u001b[0m\u001b[0;34m\u001b[0m\u001b[0m\n",
            "\u001b[0;32m/usr/local/lib/python3.6/dist-packages/pandas/core/generic.py\u001b[0m in \u001b[0;36mstat_func\u001b[0;34m(self, axis, skipna, level, numeric_only, **kwargs)\u001b[0m\n\u001b[1;32m  11213\u001b[0m             \u001b[0;32mreturn\u001b[0m \u001b[0mself\u001b[0m\u001b[0;34m.\u001b[0m\u001b[0m_agg_by_level\u001b[0m\u001b[0;34m(\u001b[0m\u001b[0mname\u001b[0m\u001b[0;34m,\u001b[0m \u001b[0maxis\u001b[0m\u001b[0;34m=\u001b[0m\u001b[0maxis\u001b[0m\u001b[0;34m,\u001b[0m \u001b[0mlevel\u001b[0m\u001b[0;34m=\u001b[0m\u001b[0mlevel\u001b[0m\u001b[0;34m,\u001b[0m \u001b[0mskipna\u001b[0m\u001b[0;34m=\u001b[0m\u001b[0mskipna\u001b[0m\u001b[0;34m)\u001b[0m\u001b[0;34m\u001b[0m\u001b[0;34m\u001b[0m\u001b[0m\n\u001b[1;32m  11214\u001b[0m         return self._reduce(\n\u001b[0;32m> 11215\u001b[0;31m             \u001b[0mf\u001b[0m\u001b[0;34m,\u001b[0m \u001b[0mname\u001b[0m\u001b[0;34m,\u001b[0m \u001b[0maxis\u001b[0m\u001b[0;34m=\u001b[0m\u001b[0maxis\u001b[0m\u001b[0;34m,\u001b[0m \u001b[0mskipna\u001b[0m\u001b[0;34m=\u001b[0m\u001b[0mskipna\u001b[0m\u001b[0;34m,\u001b[0m \u001b[0mnumeric_only\u001b[0m\u001b[0;34m=\u001b[0m\u001b[0mnumeric_only\u001b[0m\u001b[0;34m\u001b[0m\u001b[0;34m\u001b[0m\u001b[0m\n\u001b[0m\u001b[1;32m  11216\u001b[0m         )\n\u001b[1;32m  11217\u001b[0m \u001b[0;34m\u001b[0m\u001b[0m\n",
            "\u001b[0;32m/usr/local/lib/python3.6/dist-packages/pandas/core/series.py\u001b[0m in \u001b[0;36m_reduce\u001b[0;34m(self, op, name, axis, skipna, numeric_only, filter_type, **kwds)\u001b[0m\n\u001b[1;32m   3889\u001b[0m                 )\n\u001b[1;32m   3890\u001b[0m             \u001b[0;32mwith\u001b[0m \u001b[0mnp\u001b[0m\u001b[0;34m.\u001b[0m\u001b[0merrstate\u001b[0m\u001b[0;34m(\u001b[0m\u001b[0mall\u001b[0m\u001b[0;34m=\u001b[0m\u001b[0;34m\"ignore\"\u001b[0m\u001b[0;34m)\u001b[0m\u001b[0;34m:\u001b[0m\u001b[0;34m\u001b[0m\u001b[0;34m\u001b[0m\u001b[0m\n\u001b[0;32m-> 3891\u001b[0;31m                 \u001b[0;32mreturn\u001b[0m \u001b[0mop\u001b[0m\u001b[0;34m(\u001b[0m\u001b[0mdelegate\u001b[0m\u001b[0;34m,\u001b[0m \u001b[0mskipna\u001b[0m\u001b[0;34m=\u001b[0m\u001b[0mskipna\u001b[0m\u001b[0;34m,\u001b[0m \u001b[0;34m**\u001b[0m\u001b[0mkwds\u001b[0m\u001b[0;34m)\u001b[0m\u001b[0;34m\u001b[0m\u001b[0;34m\u001b[0m\u001b[0m\n\u001b[0m\u001b[1;32m   3892\u001b[0m \u001b[0;34m\u001b[0m\u001b[0m\n\u001b[1;32m   3893\u001b[0m         \u001b[0;31m# TODO(EA) dispatch to Index\u001b[0m\u001b[0;34m\u001b[0m\u001b[0;34m\u001b[0m\u001b[0;34m\u001b[0m\u001b[0m\n",
            "\u001b[0;32m/usr/local/lib/python3.6/dist-packages/pandas/core/nanops.py\u001b[0m in \u001b[0;36m_f\u001b[0;34m(*args, **kwargs)\u001b[0m\n\u001b[1;32m     67\u001b[0m             \u001b[0;32mtry\u001b[0m\u001b[0;34m:\u001b[0m\u001b[0;34m\u001b[0m\u001b[0;34m\u001b[0m\u001b[0m\n\u001b[1;32m     68\u001b[0m                 \u001b[0;32mwith\u001b[0m \u001b[0mnp\u001b[0m\u001b[0;34m.\u001b[0m\u001b[0merrstate\u001b[0m\u001b[0;34m(\u001b[0m\u001b[0minvalid\u001b[0m\u001b[0;34m=\u001b[0m\u001b[0;34m\"ignore\"\u001b[0m\u001b[0;34m)\u001b[0m\u001b[0;34m:\u001b[0m\u001b[0;34m\u001b[0m\u001b[0;34m\u001b[0m\u001b[0m\n\u001b[0;32m---> 69\u001b[0;31m                     \u001b[0;32mreturn\u001b[0m \u001b[0mf\u001b[0m\u001b[0;34m(\u001b[0m\u001b[0;34m*\u001b[0m\u001b[0margs\u001b[0m\u001b[0;34m,\u001b[0m \u001b[0;34m**\u001b[0m\u001b[0mkwargs\u001b[0m\u001b[0;34m)\u001b[0m\u001b[0;34m\u001b[0m\u001b[0;34m\u001b[0m\u001b[0m\n\u001b[0m\u001b[1;32m     70\u001b[0m             \u001b[0;32mexcept\u001b[0m \u001b[0mValueError\u001b[0m \u001b[0;32mas\u001b[0m \u001b[0me\u001b[0m\u001b[0;34m:\u001b[0m\u001b[0;34m\u001b[0m\u001b[0;34m\u001b[0m\u001b[0m\n\u001b[1;32m     71\u001b[0m                 \u001b[0;31m# we want to transform an object array\u001b[0m\u001b[0;34m\u001b[0m\u001b[0;34m\u001b[0m\u001b[0;34m\u001b[0m\u001b[0m\n",
            "\u001b[0;32m/usr/local/lib/python3.6/dist-packages/pandas/core/nanops.py\u001b[0m in \u001b[0;36mf\u001b[0;34m(values, axis, skipna, **kwds)\u001b[0m\n\u001b[1;32m    123\u001b[0m                     \u001b[0mresult\u001b[0m \u001b[0;34m=\u001b[0m \u001b[0malt\u001b[0m\u001b[0;34m(\u001b[0m\u001b[0mvalues\u001b[0m\u001b[0;34m,\u001b[0m \u001b[0maxis\u001b[0m\u001b[0;34m=\u001b[0m\u001b[0maxis\u001b[0m\u001b[0;34m,\u001b[0m \u001b[0mskipna\u001b[0m\u001b[0;34m=\u001b[0m\u001b[0mskipna\u001b[0m\u001b[0;34m,\u001b[0m \u001b[0;34m**\u001b[0m\u001b[0mkwds\u001b[0m\u001b[0;34m)\u001b[0m\u001b[0;34m\u001b[0m\u001b[0;34m\u001b[0m\u001b[0m\n\u001b[1;32m    124\u001b[0m             \u001b[0;32melse\u001b[0m\u001b[0;34m:\u001b[0m\u001b[0;34m\u001b[0m\u001b[0;34m\u001b[0m\u001b[0m\n\u001b[0;32m--> 125\u001b[0;31m                 \u001b[0mresult\u001b[0m \u001b[0;34m=\u001b[0m \u001b[0malt\u001b[0m\u001b[0;34m(\u001b[0m\u001b[0mvalues\u001b[0m\u001b[0;34m,\u001b[0m \u001b[0maxis\u001b[0m\u001b[0;34m=\u001b[0m\u001b[0maxis\u001b[0m\u001b[0;34m,\u001b[0m \u001b[0mskipna\u001b[0m\u001b[0;34m=\u001b[0m\u001b[0mskipna\u001b[0m\u001b[0;34m,\u001b[0m \u001b[0;34m**\u001b[0m\u001b[0mkwds\u001b[0m\u001b[0;34m)\u001b[0m\u001b[0;34m\u001b[0m\u001b[0;34m\u001b[0m\u001b[0m\n\u001b[0m\u001b[1;32m    126\u001b[0m \u001b[0;34m\u001b[0m\u001b[0m\n\u001b[1;32m    127\u001b[0m             \u001b[0;32mreturn\u001b[0m \u001b[0mresult\u001b[0m\u001b[0;34m\u001b[0m\u001b[0;34m\u001b[0m\u001b[0m\n",
            "\u001b[0;32m/usr/local/lib/python3.6/dist-packages/pandas/core/nanops.py\u001b[0m in \u001b[0;36mnanmean\u001b[0;34m(values, axis, skipna, mask)\u001b[0m\n\u001b[1;32m    540\u001b[0m         \u001b[0mdtype_count\u001b[0m \u001b[0;34m=\u001b[0m \u001b[0mdtype\u001b[0m\u001b[0;34m\u001b[0m\u001b[0;34m\u001b[0m\u001b[0m\n\u001b[1;32m    541\u001b[0m     \u001b[0mcount\u001b[0m \u001b[0;34m=\u001b[0m \u001b[0m_get_counts\u001b[0m\u001b[0;34m(\u001b[0m\u001b[0mvalues\u001b[0m\u001b[0;34m.\u001b[0m\u001b[0mshape\u001b[0m\u001b[0;34m,\u001b[0m \u001b[0mmask\u001b[0m\u001b[0;34m,\u001b[0m \u001b[0maxis\u001b[0m\u001b[0;34m,\u001b[0m \u001b[0mdtype\u001b[0m\u001b[0;34m=\u001b[0m\u001b[0mdtype_count\u001b[0m\u001b[0;34m)\u001b[0m\u001b[0;34m\u001b[0m\u001b[0;34m\u001b[0m\u001b[0m\n\u001b[0;32m--> 542\u001b[0;31m     \u001b[0mthe_sum\u001b[0m \u001b[0;34m=\u001b[0m \u001b[0m_ensure_numeric\u001b[0m\u001b[0;34m(\u001b[0m\u001b[0mvalues\u001b[0m\u001b[0;34m.\u001b[0m\u001b[0msum\u001b[0m\u001b[0;34m(\u001b[0m\u001b[0maxis\u001b[0m\u001b[0;34m,\u001b[0m \u001b[0mdtype\u001b[0m\u001b[0;34m=\u001b[0m\u001b[0mdtype_sum\u001b[0m\u001b[0;34m)\u001b[0m\u001b[0;34m)\u001b[0m\u001b[0;34m\u001b[0m\u001b[0;34m\u001b[0m\u001b[0m\n\u001b[0m\u001b[1;32m    543\u001b[0m \u001b[0;34m\u001b[0m\u001b[0m\n\u001b[1;32m    544\u001b[0m     \u001b[0;32mif\u001b[0m \u001b[0maxis\u001b[0m \u001b[0;32mis\u001b[0m \u001b[0;32mnot\u001b[0m \u001b[0;32mNone\u001b[0m \u001b[0;32mand\u001b[0m \u001b[0mgetattr\u001b[0m\u001b[0;34m(\u001b[0m\u001b[0mthe_sum\u001b[0m\u001b[0;34m,\u001b[0m \u001b[0;34m\"ndim\"\u001b[0m\u001b[0;34m,\u001b[0m \u001b[0;32mFalse\u001b[0m\u001b[0;34m)\u001b[0m\u001b[0;34m:\u001b[0m\u001b[0;34m\u001b[0m\u001b[0;34m\u001b[0m\u001b[0m\n",
            "\u001b[0;32m/usr/local/lib/python3.6/dist-packages/pandas/core/nanops.py\u001b[0m in \u001b[0;36m_ensure_numeric\u001b[0;34m(x)\u001b[0m\n\u001b[1;32m   1308\u001b[0m             \u001b[0;32mexcept\u001b[0m \u001b[0mValueError\u001b[0m\u001b[0;34m:\u001b[0m\u001b[0;34m\u001b[0m\u001b[0;34m\u001b[0m\u001b[0m\n\u001b[1;32m   1309\u001b[0m                 \u001b[0;31m# e.g. \"foo\"\u001b[0m\u001b[0;34m\u001b[0m\u001b[0;34m\u001b[0m\u001b[0;34m\u001b[0m\u001b[0m\n\u001b[0;32m-> 1310\u001b[0;31m                 \u001b[0;32mraise\u001b[0m \u001b[0mTypeError\u001b[0m\u001b[0;34m(\u001b[0m\u001b[0;34mf\"Could not convert {x} to numeric\"\u001b[0m\u001b[0;34m)\u001b[0m\u001b[0;34m\u001b[0m\u001b[0;34m\u001b[0m\u001b[0m\n\u001b[0m\u001b[1;32m   1311\u001b[0m     \u001b[0;32mreturn\u001b[0m \u001b[0mx\u001b[0m\u001b[0;34m\u001b[0m\u001b[0;34m\u001b[0m\u001b[0m\n\u001b[1;32m   1312\u001b[0m \u001b[0;34m\u001b[0m\u001b[0m\n",
            "\u001b[0;31mTypeError\u001b[0m: Could not convert 40.0044.00 to numeric"
          ]
        }
      ]
    },
    {
      "cell_type": "code",
      "metadata": {
        "id": "zXNCIHV3oLCE",
        "outputId": "1652a186-4921-4249-d5f0-430ac18c3fab",
        "colab": {
          "base_uri": "https://localhost:8080/",
          "height": 391
        }
      },
      "source": [
        "df.isnull().sum().sort_values()"
      ],
      "execution_count": null,
      "outputs": [
        {
          "output_type": "execute_result",
          "data": {
            "text/plain": [
              "surgery          0\n",
              "t_of_les2        0\n",
              "t_of_les1        0\n",
              "surgical_les     0\n",
              "abd_dis          0\n",
              "peristalsis      0\n",
              "t_of_les3        0\n",
              "cft              0\n",
              "pain             0\n",
              "per_pulse        0\n",
              "temp_of_ex       0\n",
              "res_rate         0\n",
              "pulse            0\n",
              "rec_temp         0\n",
              "hos_num          0\n",
              "age              0\n",
              "mm               0\n",
              "cp_data          0\n",
              "outcome          1\n",
              "pcv             29\n",
              "tot_protein     33\n",
              "dtype: int64"
            ]
          },
          "metadata": {
            "tags": []
          },
          "execution_count": 168
        }
      ]
    },
    {
      "cell_type": "code",
      "metadata": {
        "id": "GWrmFFziliP7"
      },
      "source": [
        "df['tot_protein'].fillna(df['tot_protein'].mode().mean(), inplace=True)"
      ],
      "execution_count": null,
      "outputs": []
    },
    {
      "cell_type": "code",
      "metadata": {
        "id": "9Kyj5n7DohRY"
      },
      "source": [
        "df['outcome'].fillna(df['outcome'].mode().mean(), inplace=True)"
      ],
      "execution_count": null,
      "outputs": []
    },
    {
      "cell_type": "code",
      "metadata": {
        "id": "oVyLumqNooWF",
        "outputId": "af8001b7-bc60-44d9-9f2b-6f9cb25fdb2b",
        "colab": {
          "base_uri": "https://localhost:8080/",
          "height": 34
        }
      },
      "source": [
        "#drop kolom pcv\n",
        "df.drop(columns='pcv', inplace=True, axis=1)\n",
        "\n",
        "#cek total missing values pada dataset\n",
        "df.isnull().sum().sum()"
      ],
      "execution_count": null,
      "outputs": [
        {
          "output_type": "execute_result",
          "data": {
            "text/plain": [
              "0"
            ]
          },
          "metadata": {
            "tags": []
          },
          "execution_count": 172
        }
      ]
    },
    {
      "cell_type": "code",
      "metadata": {
        "id": "c9ggEK89mwN8",
        "outputId": "2eec5208-ef7d-4dc7-d7a8-c341c1181c45",
        "colab": {
          "base_uri": "https://localhost:8080/",
          "height": 374
        }
      },
      "source": [
        "df.dtypes"
      ],
      "execution_count": null,
      "outputs": [
        {
          "output_type": "execute_result",
          "data": {
            "text/plain": [
              "surgery         object\n",
              "age              int64\n",
              "hos_num          int64\n",
              "rec_temp        object\n",
              "pulse           object\n",
              "res_rate        object\n",
              "temp_of_ex      object\n",
              "per_pulse       object\n",
              "mm              object\n",
              "cft             object\n",
              "pain            object\n",
              "peristalsis     object\n",
              "abd_dis         object\n",
              "tot_protein     object\n",
              "outcome         object\n",
              "surgical_les     int64\n",
              "t_of_les1        int64\n",
              "t_of_les2        int64\n",
              "t_of_les3        int64\n",
              "cp_data          int64\n",
              "dtype: object"
            ]
          },
          "metadata": {
            "tags": []
          },
          "execution_count": 173
        }
      ]
    },
    {
      "cell_type": "code",
      "metadata": {
        "id": "UNwHRlxoo4Ae"
      },
      "source": [
        "df[['surgery', 'rec_temp', 'pulse', 'res_rate', 'temp_of_ex', 'per_pulse', 'mm', 'cft', 'pain', 'peristalsis', 'abd_dis', 'tot_protein', 'outcome']] = df[['surgery', 'rec_temp', 'pulse', 'res_rate', 'temp_of_ex', 'per_pulse', 'mm', 'cft', 'pain', 'peristalsis', 'abd_dis', 'tot_protein', 'outcome']].astype('float')"
      ],
      "execution_count": null,
      "outputs": []
    },
    {
      "cell_type": "code",
      "metadata": {
        "id": "QRRo6J2SpOb-",
        "outputId": "46de1ff3-a65f-4c44-de32-5249d38ae08e",
        "colab": {
          "base_uri": "https://localhost:8080/",
          "height": 374
        }
      },
      "source": [
        "#kita sudah casting tipe datanya menjadi float\n",
        "df.dtypes"
      ],
      "execution_count": null,
      "outputs": [
        {
          "output_type": "execute_result",
          "data": {
            "text/plain": [
              "surgery         float64\n",
              "age               int64\n",
              "hos_num           int64\n",
              "rec_temp        float64\n",
              "pulse           float64\n",
              "res_rate        float64\n",
              "temp_of_ex      float64\n",
              "per_pulse       float64\n",
              "mm              float64\n",
              "cft             float64\n",
              "pain            float64\n",
              "peristalsis     float64\n",
              "abd_dis         float64\n",
              "tot_protein     float64\n",
              "outcome         float64\n",
              "surgical_les      int64\n",
              "t_of_les1         int64\n",
              "t_of_les2         int64\n",
              "t_of_les3         int64\n",
              "cp_data           int64\n",
              "dtype: object"
            ]
          },
          "metadata": {
            "tags": []
          },
          "execution_count": 175
        }
      ]
    },
    {
      "cell_type": "markdown",
      "metadata": {
        "id": "YiUct1ovp97l"
      },
      "source": [
        "1 = lived\n",
        "               2 = died\n",
        "               3 = was euthanized"
      ]
    },
    {
      "cell_type": "code",
      "metadata": {
        "id": "qeycl1Nyp2XL",
        "outputId": "54ccd649-6852-4f99-fa61-b4e61207ec47",
        "colab": {
          "base_uri": "https://localhost:8080/",
          "height": 241
        }
      },
      "source": [
        "df['outcome'] = df['outcome'].replace(1, 'lived')\n",
        "df['outcome'] = df['outcome'].replace(2, 'died')\n",
        "df['outcome'] = df['outcome'].replace(3, 'was euthanized')\n",
        "\n",
        "df.head()"
      ],
      "execution_count": null,
      "outputs": [
        {
          "output_type": "execute_result",
          "data": {
            "text/html": [
              "<div>\n",
              "<style scoped>\n",
              "    .dataframe tbody tr th:only-of-type {\n",
              "        vertical-align: middle;\n",
              "    }\n",
              "\n",
              "    .dataframe tbody tr th {\n",
              "        vertical-align: top;\n",
              "    }\n",
              "\n",
              "    .dataframe thead th {\n",
              "        text-align: right;\n",
              "    }\n",
              "</style>\n",
              "<table border=\"1\" class=\"dataframe\">\n",
              "  <thead>\n",
              "    <tr style=\"text-align: right;\">\n",
              "      <th></th>\n",
              "      <th>surgery</th>\n",
              "      <th>age</th>\n",
              "      <th>hos_num</th>\n",
              "      <th>rec_temp</th>\n",
              "      <th>pulse</th>\n",
              "      <th>res_rate</th>\n",
              "      <th>temp_of_ex</th>\n",
              "      <th>per_pulse</th>\n",
              "      <th>mm</th>\n",
              "      <th>cft</th>\n",
              "      <th>pain</th>\n",
              "      <th>peristalsis</th>\n",
              "      <th>abd_dis</th>\n",
              "      <th>tot_protein</th>\n",
              "      <th>outcome</th>\n",
              "      <th>surgical_les</th>\n",
              "      <th>t_of_les1</th>\n",
              "      <th>t_of_les2</th>\n",
              "      <th>t_of_les3</th>\n",
              "      <th>cp_data</th>\n",
              "    </tr>\n",
              "  </thead>\n",
              "  <tbody>\n",
              "    <tr>\n",
              "      <th>0</th>\n",
              "      <td>2.0</td>\n",
              "      <td>1</td>\n",
              "      <td>530101</td>\n",
              "      <td>38.5</td>\n",
              "      <td>66.0</td>\n",
              "      <td>28.0</td>\n",
              "      <td>3.0</td>\n",
              "      <td>3.0</td>\n",
              "      <td>1.0</td>\n",
              "      <td>2.0</td>\n",
              "      <td>5.0</td>\n",
              "      <td>4.0</td>\n",
              "      <td>4.0</td>\n",
              "      <td>8.4</td>\n",
              "      <td>died</td>\n",
              "      <td>2</td>\n",
              "      <td>11300</td>\n",
              "      <td>0</td>\n",
              "      <td>0</td>\n",
              "      <td>2</td>\n",
              "    </tr>\n",
              "    <tr>\n",
              "      <th>1</th>\n",
              "      <td>1.0</td>\n",
              "      <td>1</td>\n",
              "      <td>534817</td>\n",
              "      <td>39.2</td>\n",
              "      <td>88.0</td>\n",
              "      <td>20.0</td>\n",
              "      <td>3.0</td>\n",
              "      <td>1.0</td>\n",
              "      <td>4.0</td>\n",
              "      <td>1.0</td>\n",
              "      <td>3.0</td>\n",
              "      <td>4.0</td>\n",
              "      <td>2.0</td>\n",
              "      <td>85.0</td>\n",
              "      <td>was euthanized</td>\n",
              "      <td>2</td>\n",
              "      <td>2208</td>\n",
              "      <td>0</td>\n",
              "      <td>0</td>\n",
              "      <td>2</td>\n",
              "    </tr>\n",
              "    <tr>\n",
              "      <th>2</th>\n",
              "      <td>2.0</td>\n",
              "      <td>1</td>\n",
              "      <td>530334</td>\n",
              "      <td>38.3</td>\n",
              "      <td>40.0</td>\n",
              "      <td>24.0</td>\n",
              "      <td>1.0</td>\n",
              "      <td>1.0</td>\n",
              "      <td>3.0</td>\n",
              "      <td>1.0</td>\n",
              "      <td>3.0</td>\n",
              "      <td>3.0</td>\n",
              "      <td>1.0</td>\n",
              "      <td>6.7</td>\n",
              "      <td>lived</td>\n",
              "      <td>2</td>\n",
              "      <td>0</td>\n",
              "      <td>0</td>\n",
              "      <td>0</td>\n",
              "      <td>1</td>\n",
              "    </tr>\n",
              "    <tr>\n",
              "      <th>3</th>\n",
              "      <td>1.0</td>\n",
              "      <td>9</td>\n",
              "      <td>5290409</td>\n",
              "      <td>39.1</td>\n",
              "      <td>164.0</td>\n",
              "      <td>84.0</td>\n",
              "      <td>4.0</td>\n",
              "      <td>1.0</td>\n",
              "      <td>6.0</td>\n",
              "      <td>2.0</td>\n",
              "      <td>2.0</td>\n",
              "      <td>4.0</td>\n",
              "      <td>4.0</td>\n",
              "      <td>7.2</td>\n",
              "      <td>died</td>\n",
              "      <td>1</td>\n",
              "      <td>2208</td>\n",
              "      <td>0</td>\n",
              "      <td>0</td>\n",
              "      <td>1</td>\n",
              "    </tr>\n",
              "    <tr>\n",
              "      <th>4</th>\n",
              "      <td>2.0</td>\n",
              "      <td>1</td>\n",
              "      <td>530255</td>\n",
              "      <td>37.3</td>\n",
              "      <td>104.0</td>\n",
              "      <td>35.0</td>\n",
              "      <td>3.0</td>\n",
              "      <td>1.0</td>\n",
              "      <td>6.0</td>\n",
              "      <td>2.0</td>\n",
              "      <td>3.0</td>\n",
              "      <td>3.0</td>\n",
              "      <td>1.0</td>\n",
              "      <td>7.4</td>\n",
              "      <td>died</td>\n",
              "      <td>2</td>\n",
              "      <td>4300</td>\n",
              "      <td>0</td>\n",
              "      <td>0</td>\n",
              "      <td>2</td>\n",
              "    </tr>\n",
              "  </tbody>\n",
              "</table>\n",
              "</div>"
            ],
            "text/plain": [
              "   surgery  age  hos_num  rec_temp  ...  t_of_les1  t_of_les2  t_of_les3  cp_data\n",
              "0      2.0    1   530101      38.5  ...      11300          0          0        2\n",
              "1      1.0    1   534817      39.2  ...       2208          0          0        2\n",
              "2      2.0    1   530334      38.3  ...          0          0          0        1\n",
              "3      1.0    9  5290409      39.1  ...       2208          0          0        1\n",
              "4      2.0    1   530255      37.3  ...       4300          0          0        2\n",
              "\n",
              "[5 rows x 20 columns]"
            ]
          },
          "metadata": {
            "tags": []
          },
          "execution_count": 176
        }
      ]
    },
    {
      "cell_type": "code",
      "metadata": {
        "id": "PJJcS6sUqFuf",
        "outputId": "f3e2d15e-74d2-48d8-f002-47d300a1da4e",
        "colab": {
          "base_uri": "https://localhost:8080/",
          "height": 476
        }
      },
      "source": [
        "df.info()"
      ],
      "execution_count": null,
      "outputs": [
        {
          "output_type": "stream",
          "text": [
            "<class 'pandas.core.frame.DataFrame'>\n",
            "RangeIndex: 300 entries, 0 to 299\n",
            "Data columns (total 20 columns):\n",
            " #   Column        Non-Null Count  Dtype  \n",
            "---  ------        --------------  -----  \n",
            " 0   surgery       300 non-null    float64\n",
            " 1   age           300 non-null    int64  \n",
            " 2   hos_num       300 non-null    int64  \n",
            " 3   rec_temp      300 non-null    float64\n",
            " 4   pulse         300 non-null    float64\n",
            " 5   res_rate      300 non-null    float64\n",
            " 6   temp_of_ex    300 non-null    float64\n",
            " 7   per_pulse     300 non-null    float64\n",
            " 8   mm            300 non-null    float64\n",
            " 9   cft           300 non-null    float64\n",
            " 10  pain          300 non-null    float64\n",
            " 11  peristalsis   300 non-null    float64\n",
            " 12  abd_dis       300 non-null    float64\n",
            " 13  tot_protein   300 non-null    float64\n",
            " 14  outcome       300 non-null    object \n",
            " 15  surgical_les  300 non-null    int64  \n",
            " 16  t_of_les1     300 non-null    int64  \n",
            " 17  t_of_les2     300 non-null    int64  \n",
            " 18  t_of_les3     300 non-null    int64  \n",
            " 19  cp_data       300 non-null    int64  \n",
            "dtypes: float64(12), int64(7), object(1)\n",
            "memory usage: 47.0+ KB\n"
          ],
          "name": "stdout"
        }
      ]
    },
    {
      "cell_type": "markdown",
      "metadata": {
        "id": "MEAIbZEqpXnO"
      },
      "source": [
        "**Machine Learning**\n",
        "\n",
        "**Data Preprocessing**"
      ]
    },
    {
      "cell_type": "code",
      "metadata": {
        "id": "MEhY3OS5qZnE"
      },
      "source": [
        "from sklearn.preprocessing import StandardScaler, PowerTransformer\n",
        "scaler = StandardScaler()"
      ],
      "execution_count": null,
      "outputs": []
    },
    {
      "cell_type": "code",
      "metadata": {
        "id": "wMoboD-wpPn4"
      },
      "source": [
        "X = df.drop(['outcome'], axis=1)\n",
        "y = df['outcome']"
      ],
      "execution_count": null,
      "outputs": []
    },
    {
      "cell_type": "code",
      "metadata": {
        "id": "FIn5q9WJqNlj"
      },
      "source": [
        "X_scaled = scaler.fit_transform(X.values)\n",
        "#y_scaled = scaler.fit(y.values)"
      ],
      "execution_count": null,
      "outputs": []
    },
    {
      "cell_type": "code",
      "metadata": {
        "id": "ZK4ya34uqdHm",
        "outputId": "533585f5-6006-4265-e267-d97a15aaa027",
        "colab": {
          "base_uri": "https://localhost:8080/",
          "height": 34
        }
      },
      "source": [
        "from sklearn.model_selection import train_test_split\n",
        "X_train, X_test, y_train, y_test = train_test_split(X_scaled, y, test_size=0.2, random_state=42)\n",
        "X_train.shape, X_test.shape, y_train.shape, y_test.shape"
      ],
      "execution_count": null,
      "outputs": [
        {
          "output_type": "execute_result",
          "data": {
            "text/plain": [
              "((240, 19), (60, 19), (240,), (60,))"
            ]
          },
          "metadata": {
            "tags": []
          },
          "execution_count": 182
        }
      ]
    },
    {
      "cell_type": "code",
      "metadata": {
        "id": "A5COcG_rqolN"
      },
      "source": [
        "#Akan digunakan 3 algoritma\n",
        "from sklearn.svm import SVC\n",
        "from sklearn.neighbors import KNeighborsClassifier\n",
        "from sklearn.ensemble import RandomForestClassifier"
      ],
      "execution_count": null,
      "outputs": []
    },
    {
      "cell_type": "markdown",
      "metadata": {
        "id": "2ku12ou1qp2k"
      },
      "source": [
        "**SVC**"
      ]
    },
    {
      "cell_type": "code",
      "metadata": {
        "id": "xWxpngitqfJb",
        "outputId": "f941d371-230d-453c-8076-0f450ba2c1d4",
        "colab": {
          "base_uri": "https://localhost:8080/",
          "height": 377
        }
      },
      "source": [
        "#Hyperparameter tuning\n",
        "types = ['rbf', 'poly', 'linear']\n",
        "for i in types:\n",
        "  svmc = SVC(kernel=i)\n",
        "  svmc.fit(X_train, y_train)\n",
        "  prediksi_svc = svmc.predict(X_train)\n",
        "  prediksi_svc_test = svmc.predict(X_test)\n",
        "  y_pred_svm = svmc.predict(X_test)\n",
        "  cm = confusion_matrix(y_test, y_pred_svm)\n",
        "  print('Nilai Akurasi SVC pada Training Set dengan Kernel = {}'.format(i), 'adalah', round(accuracy_score(prediksi_svc, y_train), 2))\n",
        "  print('Nilai Akurasi SVC pada Testing Set dengan Kernel = {}'.format(i), 'adalah', round(accuracy_score(prediksi_svc_test, y_test), 2))\n",
        "  print('Precision Score kernel = {} adalah {}'.format(i, precision_score(y_test, y_pred_svm, average='macro')))\n",
        "  print('F1 Score kernel = {} adalah {}'.format(i, f1_score(y_test, y_pred_svm, average='macro')))\n",
        "  print('Recall Score kernel = {} adalah {}'.format(i, recall_score(y_test, y_pred_svm, average='macro')))\n",
        "  #print(classification_report(y_test, y_pred_svm))\n",
        "  #print(cm)\n",
        "  print('=======================================================================================================================================')"
      ],
      "execution_count": null,
      "outputs": [
        {
          "output_type": "stream",
          "text": [
            "Nilai Akurasi SVC pada Training Set dengan Kernel = rbf adalah 0.8\n",
            "Nilai Akurasi SVC pada Testing Set dengan Kernel = rbf adalah 0.65\n",
            "Precision Score kernel = rbf adalah 0.44459644322845415\n",
            "F1 Score kernel = rbf adalah 0.48566748566748563\n",
            "Recall Score kernel = rbf adalah 0.5403225806451614\n",
            "=======================================================================================================================================\n",
            "Nilai Akurasi SVC pada Training Set dengan Kernel = poly adalah 0.77\n",
            "Nilai Akurasi SVC pada Testing Set dengan Kernel = poly adalah 0.6\n",
            "Precision Score kernel = poly adalah 0.79979035639413\n",
            "F1 Score kernel = poly adalah 0.43722943722943725\n",
            "Recall Score kernel = poly adalah 0.4523883374689826\n",
            "=======================================================================================================================================\n",
            "Nilai Akurasi SVC pada Training Set dengan Kernel = linear adalah 0.73\n",
            "Nilai Akurasi SVC pada Testing Set dengan Kernel = linear adalah 0.62\n",
            "Precision Score kernel = linear adalah 0.5880902043692742\n",
            "F1 Score kernel = linear adalah 0.5213459073108195\n",
            "Recall Score kernel = linear adalah 0.5130789909015716\n",
            "=======================================================================================================================================\n"
          ],
          "name": "stdout"
        },
        {
          "output_type": "stream",
          "text": [
            "/usr/local/lib/python3.6/dist-packages/sklearn/metrics/_classification.py:1272: UndefinedMetricWarning: Precision is ill-defined and being set to 0.0 in labels with no predicted samples. Use `zero_division` parameter to control this behavior.\n",
            "  _warn_prf(average, modifier, msg_start, len(result))\n"
          ],
          "name": "stderr"
        }
      ]
    },
    {
      "cell_type": "markdown",
      "metadata": {
        "id": "NmlCFRY1rNeg"
      },
      "source": [
        "**KNN**\n",
        "\n",
        "dengan hyperparameter tuning"
      ]
    },
    {
      "cell_type": "code",
      "metadata": {
        "id": "NiX81D_kq5IJ",
        "outputId": "bb3b4f7b-3181-4353-fdd2-c656baf0c6d9",
        "colab": {
          "base_uri": "https://localhost:8080/",
          "height": 547
        }
      },
      "source": [
        "neig = np.arange(1, 26, 2)\n",
        "train_accuracy = []\n",
        "test_accuracy = []\n",
        "\n",
        "for i, k in enumerate(neig):\n",
        "  knn = KNeighborsClassifier(n_neighbors=k)\n",
        "  knn.fit(X_train, y_train)\n",
        "  train_accuracy.append(knn.score(X_train, y_train))\n",
        "  test_accuracy.append(knn.score(X_test, y_test))\n",
        "\n",
        "plt.figure(figsize=[10,8])\n",
        "plt.plot(neig, test_accuracy, label = 'Testing Accuracy')\n",
        "plt.plot(neig, train_accuracy, label = 'Training Accuracy')\n",
        "plt.legend()\n",
        "plt.title('-value VS Accuracy')\n",
        "plt.xlabel('Number of Neighbors')\n",
        "plt.ylabel('Accuracy')\n",
        "plt.xticks(neig)\n",
        "plt.grid()\n",
        "plt.show()\n",
        "print(\"\\nNilai Akurasi terbaik untuk Model KNN adalah {}\".format(round(np.max(test_accuracy), 2)))"
      ],
      "execution_count": null,
      "outputs": [
        {
          "output_type": "display_data",
          "data": {
            "image/png": "[encoded data removed]",
            "text/plain": [
              "<Figure size 720x576 with 1 Axes>"
            ]
          },
          "metadata": {
            "tags": [],
            "needs_background": "light"
          }
        },
        {
          "output_type": "stream",
          "text": [
            "\n",
            "Nilai Akurasi terbaik untuk Model KNN adalah 0.73\n"
          ],
          "name": "stdout"
        }
      ]
    },
    {
      "cell_type": "markdown",
      "metadata": {
        "id": "GPvjYlwmrZii"
      },
      "source": [
        "Nilai akurasi terbaik diperoleh dengan nilai K = 5"
      ]
    },
    {
      "cell_type": "code",
      "metadata": {
        "id": "fvatPdCDrVtE",
        "outputId": "47b93f0b-3a10-454b-bb94-d592d80ff29e",
        "colab": {
          "base_uri": "https://localhost:8080/",
          "height": 635
        }
      },
      "source": [
        "neig = np.arange(1, 26, 2)\n",
        "precision_train_accuracy = []\n",
        "precision_test_accuracy = []\n",
        "\n",
        "for i, k in enumerate(neig):\n",
        "  knn = KNeighborsClassifier(n_neighbors=k)\n",
        "  knn.fit(X_train, y_train)\n",
        "  prediksi_knn_train = knn.predict(X_train)\n",
        "  prediksi_knn_test = knn.predict(X_test)\n",
        "  precision_train_accuracy.append(precision_score(y_train, prediksi_knn_train, average='macro'))\n",
        "  precision_test_accuracy.append(precision_score(y_test, prediksi_knn_test, average='macro'))\n",
        "\n",
        "plt.figure(figsize=[10,8])\n",
        "plt.plot(neig, precision_test_accuracy, label = 'Precision Testing Accuracy')\n",
        "plt.plot(neig, precision_train_accuracy, label = 'Precision Training Accuracy')\n",
        "plt.legend()\n",
        "plt.title('-value VS Accuracy')\n",
        "plt.xlabel('Number of Neighbors')\n",
        "plt.ylabel('Accuracy')\n",
        "plt.xticks(neig)\n",
        "plt.grid()\n",
        "plt.show()\n",
        "print(\"\\nNilai Precision terbaik untuk Model KNN adalah {}\".format(round(np.max(precision_test_accuracy), 2)))"
      ],
      "execution_count": null,
      "outputs": [
        {
          "output_type": "stream",
          "text": [
            "/usr/local/lib/python3.6/dist-packages/sklearn/metrics/_classification.py:1272: UndefinedMetricWarning: Precision is ill-defined and being set to 0.0 in labels with no predicted samples. Use `zero_division` parameter to control this behavior.\n",
            "  _warn_prf(average, modifier, msg_start, len(result))\n",
            "/usr/local/lib/python3.6/dist-packages/sklearn/metrics/_classification.py:1272: UndefinedMetricWarning: Precision is ill-defined and being set to 0.0 in labels with no predicted samples. Use `zero_division` parameter to control this behavior.\n",
            "  _warn_prf(average, modifier, msg_start, len(result))\n"
          ],
          "name": "stderr"
        },
        {
          "output_type": "display_data",
          "data": {
            "image/png": "[encoded data removed]",
            "text/plain": [
              "<Figure size 720x576 with 1 Axes>"
            ]
          },
          "metadata": {
            "tags": [],
            "needs_background": "light"
          }
        },
        {
          "output_type": "stream",
          "text": [
            "\n",
            "Nilai Precision terbaik untuk Model KNN adalah 0.81\n"
          ],
          "name": "stdout"
        }
      ]
    },
    {
      "cell_type": "markdown",
      "metadata": {
        "id": "OnOto4JDrxdO"
      },
      "source": [
        "Nilai precision terbaik diperoleh dengan nilai K = 5"
      ]
    },
    {
      "cell_type": "code",
      "metadata": {
        "id": "kryNio16ruNy",
        "outputId": "3aba6d16-05d7-449d-b914-442f556e94be",
        "colab": {
          "base_uri": "https://localhost:8080/",
          "height": 547
        }
      },
      "source": [
        "neig = np.arange(1, 26, 2)\n",
        "recall_train_accuracy = []\n",
        "recall_test_accuracy = []\n",
        "\n",
        "for i, k in enumerate(neig):\n",
        "  knn = KNeighborsClassifier(n_neighbors=k)\n",
        "  knn.fit(X_train, y_train)\n",
        "  prediksi_knn_train = knn.predict(X_train)\n",
        "  prediksi_knn_test = knn.predict(X_test)\n",
        "  recall_train_accuracy.append(recall_score(y_train, prediksi_knn_train, average='macro'))\n",
        "  recall_test_accuracy.append(recall_score(y_test, prediksi_knn_test, average='macro'))\n",
        "\n",
        "plt.figure(figsize=[10,8])\n",
        "plt.plot(neig, recall_test_accuracy, label = 'Recall Testing Accuracy')\n",
        "plt.plot(neig, recall_train_accuracy, label = 'Recall Training Accuracy')\n",
        "plt.legend()\n",
        "plt.title('-value VS Accuracy')\n",
        "plt.xlabel('Number of Neighbors')\n",
        "plt.ylabel('Accuracy')\n",
        "plt.xticks(neig)\n",
        "plt.grid()\n",
        "plt.show()\n",
        "print(\"\\nNilai Recall Score terbaik untuk Model KNN adalah {}\".format(round(np.max(recall_test_accuracy),2)))"
      ],
      "execution_count": null,
      "outputs": [
        {
          "output_type": "display_data",
          "data": {
            "image/png": "[encoded data removed]",
            "text/plain": [
              "<Figure size 720x576 with 1 Axes>"
            ]
          },
          "metadata": {
            "tags": [],
            "needs_background": "light"
          }
        },
        {
          "output_type": "stream",
          "text": [
            "\n",
            "Nilai Recall Score terbaik untuk Model KNN adalah 0.66\n"
          ],
          "name": "stdout"
        }
      ]
    },
    {
      "cell_type": "markdown",
      "metadata": {
        "id": "jnw4NXk9r4TZ"
      },
      "source": [
        "Nilai Recall terbaik diperoleh dengan nilai K = 5"
      ]
    },
    {
      "cell_type": "code",
      "metadata": {
        "id": "_oEkH4xJr1mT",
        "outputId": "37e415ca-0061-4a60-d444-f5757eacbc70",
        "colab": {
          "base_uri": "https://localhost:8080/",
          "height": 547
        }
      },
      "source": [
        "neig = np.arange(1, 26, 2)\n",
        "f1_train_accuracy = []\n",
        "f1_test_accuracy = []\n",
        "\n",
        "for i, k in enumerate(neig):\n",
        "  knn = KNeighborsClassifier(n_neighbors=k)\n",
        "  knn.fit(X_train, y_train)\n",
        "  prediksi_knn_train = knn.predict(X_train)\n",
        "  prediksi_knn_test = knn.predict(X_test)\n",
        "  f1_train_accuracy.append(f1_score(y_train, prediksi_knn_train, average='macro'))\n",
        "  f1_test_accuracy.append(f1_score(y_test, prediksi_knn_test, average='macro'))\n",
        "\n",
        "plt.figure(figsize=[10,8])\n",
        "plt.plot(neig, f1_test_accuracy, label = 'F1 Testing Accuracy')\n",
        "plt.plot(neig, f1_train_accuracy, label = 'F1 Training Accuracy')\n",
        "plt.legend()\n",
        "plt.title('-value VS Accuracy')\n",
        "plt.xlabel('Number of Neighbors')\n",
        "plt.ylabel('Accuracy')\n",
        "plt.xticks(neig)\n",
        "plt.grid()\n",
        "plt.show()\n",
        "print(\"\\nNilai F1 Score terbaik untuk Model KNN adalah {}\".format(round(np.max(f1_test_accuracy),2)))"
      ],
      "execution_count": null,
      "outputs": [
        {
          "output_type": "display_data",
          "data": {
            "image/png": "[encoded data removed]",
            "text/plain": [
              "<Figure size 720x576 with 1 Axes>"
            ]
          },
          "metadata": {
            "tags": [],
            "needs_background": "light"
          }
        },
        {
          "output_type": "stream",
          "text": [
            "\n",
            "Nilai F1 Score terbaik untuk Model KNN adalah 0.67\n"
          ],
          "name": "stdout"
        }
      ]
    },
    {
      "cell_type": "markdown",
      "metadata": {
        "id": "Bne4d4ZPr_UD"
      },
      "source": [
        "Nilai F1 terbaik diperoleh dengan nilai K = 5"
      ]
    },
    {
      "cell_type": "markdown",
      "metadata": {
        "id": "jznxSgqhsBmq"
      },
      "source": [
        "**Random Forest**\n",
        "\n",
        "dengan hyperparamter tuning"
      ]
    },
    {
      "cell_type": "code",
      "metadata": {
        "id": "4TpJCBxor8CQ",
        "outputId": "47ae1044-2199-4e8b-b07c-890611bd7541",
        "colab": {
          "base_uri": "https://localhost:8080/",
          "height": 513
        }
      },
      "source": [
        "estimator = [50, 100, 200, 300]\n",
        "for i in estimator:\n",
        "  rf = RandomForestClassifier(n_estimators=i, max_depth=5)\n",
        "  rf.fit(X_train, y_train)\n",
        "  prediksi_rf = rf.predict(X_train)\n",
        "  prediksi_rf_test = rf.predict(X_test)\n",
        "  y_pred_rf = rf.predict(X_test)\n",
        "  cm = confusion_matrix(y_test, y_pred_rf)\n",
        "  print('Nilai Akurasi Random Forest pada Training Set dengan n_estimator = {}'.format(i), 'adalah', round(accuracy_score(prediksi_rf, y_train), 2))\n",
        "  print('Nilai Akurasi Random Forest pada Testing Set dengan n_estimator = {}'.format(i), 'adalah', round(accuracy_score(prediksi_rf_test, y_test), 2))\n",
        "  print('Precision Score dengan n_estimator = {} adalah {}'.format(i, precision_score(y_test, y_pred_rf, average='macro')))\n",
        "  print('F1 Score dengan n_estimator = {} adalah {}'.format(i, f1_score(y_test, y_pred_rf, average='macro')))\n",
        "  print('Recall Score dengan n_estimator = {} adalah {}'.format(i, recall_score(y_test, y_pred_rf, average='macro')))\n",
        "  #print(classification_report(y_test, y_pred_rf))\n",
        "  #print(cm)\n",
        "  print('=======================================================================================================================================')"
      ],
      "execution_count": null,
      "outputs": [
        {
          "output_type": "stream",
          "text": [
            "Nilai Akurasi Random Forest pada Training Set dengan n_estimator = 50 adalah 0.87\n",
            "Nilai Akurasi Random Forest pada Testing Set dengan n_estimator = 50 adalah 0.68\n",
            "Precision Score dengan n_estimator = 50 adalah 0.8100529100529101\n",
            "F1 Score dengan n_estimator = 50 adalah 0.5464494569757727\n",
            "Recall Score dengan n_estimator = 50 adalah 0.5666356492969397\n",
            "=======================================================================================================================================\n",
            "Nilai Akurasi Random Forest pada Training Set dengan n_estimator = 100 adalah 0.87\n",
            "Nilai Akurasi Random Forest pada Testing Set dengan n_estimator = 100 adalah 0.67\n",
            "Precision Score dengan n_estimator = 100 adalah 0.4720496894409938\n",
            "F1 Score dengan n_estimator = 100 adalah 0.49552669552669554\n",
            "Recall Score dengan n_estimator = 100 adalah 0.540994623655914\n",
            "=======================================================================================================================================\n"
          ],
          "name": "stdout"
        },
        {
          "output_type": "stream",
          "text": [
            "/usr/local/lib/python3.6/dist-packages/sklearn/metrics/_classification.py:1272: UndefinedMetricWarning: Precision is ill-defined and being set to 0.0 in labels with no predicted samples. Use `zero_division` parameter to control this behavior.\n",
            "  _warn_prf(average, modifier, msg_start, len(result))\n"
          ],
          "name": "stderr"
        },
        {
          "output_type": "stream",
          "text": [
            "Nilai Akurasi Random Forest pada Training Set dengan n_estimator = 200 adalah 0.88\n",
            "Nilai Akurasi Random Forest pada Testing Set dengan n_estimator = 200 adalah 0.65\n",
            "Precision Score dengan n_estimator = 200 adalah 0.8074494949494949\n",
            "F1 Score dengan n_estimator = 200 adalah 0.5145670082378943\n",
            "Recall Score dengan n_estimator = 200 adalah 0.5249689826302729\n",
            "=======================================================================================================================================\n",
            "Nilai Akurasi Random Forest pada Training Set dengan n_estimator = 300 adalah 0.88\n",
            "Nilai Akurasi Random Forest pada Testing Set dengan n_estimator = 300 adalah 0.68\n",
            "Precision Score dengan n_estimator = 300 adalah 0.49585921325051757\n",
            "F1 Score dengan n_estimator = 300 adalah 0.5177489177489177\n",
            "Recall Score dengan n_estimator = 300 adalah 0.5618279569892474\n",
            "=======================================================================================================================================\n"
          ],
          "name": "stdout"
        },
        {
          "output_type": "stream",
          "text": [
            "/usr/local/lib/python3.6/dist-packages/sklearn/metrics/_classification.py:1272: UndefinedMetricWarning: Precision is ill-defined and being set to 0.0 in labels with no predicted samples. Use `zero_division` parameter to control this behavior.\n",
            "  _warn_prf(average, modifier, msg_start, len(result))\n"
          ],
          "name": "stderr"
        }
      ]
    },
    {
      "cell_type": "markdown",
      "metadata": {
        "id": "N5wV-k8EsTzw"
      },
      "source": [
        "**KNN**\n",
        "1. Nilai Akurasi terbaik untuk Model KNN adalah **0.73**\n",
        "2. Nilai Precision terbaik untuk Model KNN adalah **0.81**\n",
        "3. Nilai Recall Score terbaik untuk Model KNN adalah **0.66**\n",
        "4. Nilai F1 Score terbaik untuk Model KNN adalah **0.67**\n",
        "\n",
        "**SVC**\n",
        "1. Nilai Akurasi SVC pada Testing Set dengan Kernel = rbf adalah 0.65\n",
        "2. Precision Score kernel = rbf adalah 0.44459644322845415\n",
        "3. F1 Score kernel = rbf adalah 0.48566748566748563\n",
        "4. Recall Score kernel = rbf adalah 0.5403225806451614\n",
        "\n",
        "**Random Forest**\n",
        "1. Nilai Akurasi Random Forest pada Testing Set dengan n_estimator = 50 adalah 0.68\n",
        "2. Precision Score dengan n_estimator = 50 adalah **0.8100529100529101**\n",
        "3. F1 Score dengan n_estimator = 50 adalah 0.5464494569757727\n",
        "4. Recall Score dengan n_estimator = 50 adalah 0.5666356492969397\n"
      ]
    },
    {
      "cell_type": "markdown",
      "metadata": {
        "id": "oUNk3qQatNSI"
      },
      "source": [
        "Nilai akurasi, recall, dan f1 score tertinggi diperoleh dengan model KNN, sementara itu nilai precision score tertinggi diperoleh dengan model KNN dan Random Forest"
      ]
    },
    {
      "cell_type": "markdown",
      "metadata": {
        "id": "-Et6yAQcthrK"
      },
      "source": [
        "## **Dataset Abalone**"
      ]
    },
    {
      "cell_type": "code",
      "metadata": {
        "id": "bTnR1AxdsD_E",
        "outputId": "b9c3b6c9-c7c6-4566-8c8e-0c8dc56f4913",
        "colab": {
          "base_uri": "https://localhost:8080/",
          "height": 221
        }
      },
      "source": [
        "import os\n",
        "print('\\n'.join(os.listdir(r'./drive/My Drive/Colab Test (Bootcamp ML 2020)/Quiz')))"
      ],
      "execution_count": null,
      "outputs": [
        {
          "output_type": "stream",
          "text": [
            "breast-cancer-wisconsin.xlsx\n",
            "cancer.csv\n",
            "breast-cancer-wisconsin.csv\n",
            "breast-cancer-wisconsin.names\n",
            "banknote.csv\n",
            "banknote.names\n",
            "Quiz_A.ipynb\n",
            ".DS_Store\n",
            "banknote.xlsx\n",
            "columns banknote.csv\n",
            "horse-colic - horse-colic.csv\n",
            "abalone.csv\n"
          ],
          "name": "stdout"
        }
      ]
    },
    {
      "cell_type": "code",
      "metadata": {
        "id": "idP2eXyKuXEB",
        "outputId": "a1eed321-30b4-45fb-98f2-144b838de1f0",
        "colab": {
          "base_uri": "https://localhost:8080/",
          "height": 204
        }
      },
      "source": [
        "df = pd.read_csv(r'./drive/My Drive/Colab Test (Bootcamp ML 2020)/Quiz/abalone.csv', names=['Sex', 'Length', 'Diameter', 'Height', 'Whole weight', 'Shucked weight', 'Viscera weight', 'Shell weight', 'Rings'])\n",
        "df.head()"
      ],
      "execution_count": null,
      "outputs": [
        {
          "output_type": "execute_result",
          "data": {
            "text/html": [
              "<div>\n",
              "<style scoped>\n",
              "    .dataframe tbody tr th:only-of-type {\n",
              "        vertical-align: middle;\n",
              "    }\n",
              "\n",
              "    .dataframe tbody tr th {\n",
              "        vertical-align: top;\n",
              "    }\n",
              "\n",
              "    .dataframe thead th {\n",
              "        text-align: right;\n",
              "    }\n",
              "</style>\n",
              "<table border=\"1\" class=\"dataframe\">\n",
              "  <thead>\n",
              "    <tr style=\"text-align: right;\">\n",
              "      <th></th>\n",
              "      <th>Sex</th>\n",
              "      <th>Length</th>\n",
              "      <th>Diameter</th>\n",
              "      <th>Height</th>\n",
              "      <th>Whole weight</th>\n",
              "      <th>Shucked weight</th>\n",
              "      <th>Viscera weight</th>\n",
              "      <th>Shell weight</th>\n",
              "      <th>Rings</th>\n",
              "    </tr>\n",
              "  </thead>\n",
              "  <tbody>\n",
              "    <tr>\n",
              "      <th>0</th>\n",
              "      <td>M</td>\n",
              "      <td>0.455</td>\n",
              "      <td>0.365</td>\n",
              "      <td>0.095</td>\n",
              "      <td>0.5140</td>\n",
              "      <td>0.2245</td>\n",
              "      <td>0.1010</td>\n",
              "      <td>0.150</td>\n",
              "      <td>15</td>\n",
              "    </tr>\n",
              "    <tr>\n",
              "      <th>1</th>\n",
              "      <td>M</td>\n",
              "      <td>0.350</td>\n",
              "      <td>0.265</td>\n",
              "      <td>0.090</td>\n",
              "      <td>0.2255</td>\n",
              "      <td>0.0995</td>\n",
              "      <td>0.0485</td>\n",
              "      <td>0.070</td>\n",
              "      <td>7</td>\n",
              "    </tr>\n",
              "    <tr>\n",
              "      <th>2</th>\n",
              "      <td>F</td>\n",
              "      <td>0.530</td>\n",
              "      <td>0.420</td>\n",
              "      <td>0.135</td>\n",
              "      <td>0.6770</td>\n",
              "      <td>0.2565</td>\n",
              "      <td>0.1415</td>\n",
              "      <td>0.210</td>\n",
              "      <td>9</td>\n",
              "    </tr>\n",
              "    <tr>\n",
              "      <th>3</th>\n",
              "      <td>M</td>\n",
              "      <td>0.440</td>\n",
              "      <td>0.365</td>\n",
              "      <td>0.125</td>\n",
              "      <td>0.5160</td>\n",
              "      <td>0.2155</td>\n",
              "      <td>0.1140</td>\n",
              "      <td>0.155</td>\n",
              "      <td>10</td>\n",
              "    </tr>\n",
              "    <tr>\n",
              "      <th>4</th>\n",
              "      <td>I</td>\n",
              "      <td>0.330</td>\n",
              "      <td>0.255</td>\n",
              "      <td>0.080</td>\n",
              "      <td>0.2050</td>\n",
              "      <td>0.0895</td>\n",
              "      <td>0.0395</td>\n",
              "      <td>0.055</td>\n",
              "      <td>7</td>\n",
              "    </tr>\n",
              "  </tbody>\n",
              "</table>\n",
              "</div>"
            ],
            "text/plain": [
              "  Sex  Length  Diameter  ...  Viscera weight  Shell weight  Rings\n",
              "0   M   0.455     0.365  ...          0.1010         0.150     15\n",
              "1   M   0.350     0.265  ...          0.0485         0.070      7\n",
              "2   F   0.530     0.420  ...          0.1415         0.210      9\n",
              "3   M   0.440     0.365  ...          0.1140         0.155     10\n",
              "4   I   0.330     0.255  ...          0.0395         0.055      7\n",
              "\n",
              "[5 rows x 9 columns]"
            ]
          },
          "metadata": {
            "tags": []
          },
          "execution_count": 209
        }
      ]
    },
    {
      "cell_type": "code",
      "metadata": {
        "id": "GL6PobabvC1O",
        "outputId": "7b81f1ad-70f9-4dfd-d235-35debe841c14",
        "colab": {
          "base_uri": "https://localhost:8080/",
          "height": 221
        }
      },
      "source": [
        "print(df.isnull().sum())\n",
        "print('\\nTerdapat {} Missing Values pada Dataset'.format(df.isnull().sum().sum()))"
      ],
      "execution_count": null,
      "outputs": [
        {
          "output_type": "stream",
          "text": [
            "Sex               0\n",
            "Length            0\n",
            "Diameter          0\n",
            "Height            0\n",
            "Whole weight      0\n",
            "Shucked weight    0\n",
            "Viscera weight    0\n",
            "Shell weight      0\n",
            "Rings             0\n",
            "dtype: int64\n",
            "\n",
            "Terdapat 0 Missing Values pada Dataset\n"
          ],
          "name": "stdout"
        }
      ]
    },
    {
      "cell_type": "code",
      "metadata": {
        "id": "WjVKD-6RvMEM",
        "outputId": "76e2fe59-1c17-4402-8796-10d7d8c04d6e",
        "colab": {
          "base_uri": "https://localhost:8080/",
          "height": 34
        }
      },
      "source": [
        "df.shape"
      ],
      "execution_count": null,
      "outputs": [
        {
          "output_type": "execute_result",
          "data": {
            "text/plain": [
              "(4177, 9)"
            ]
          },
          "metadata": {
            "tags": []
          },
          "execution_count": 211
        }
      ]
    },
    {
      "cell_type": "code",
      "metadata": {
        "id": "LtUqBbdKvQYB",
        "outputId": "fe5d24f7-3f7a-4d7a-db09-abc447276958",
        "colab": {
          "base_uri": "https://localhost:8080/",
          "height": 297
        }
      },
      "source": [
        "df.describe()"
      ],
      "execution_count": null,
      "outputs": [
        {
          "output_type": "execute_result",
          "data": {
            "text/html": [
              "<div>\n",
              "<style scoped>\n",
              "    .dataframe tbody tr th:only-of-type {\n",
              "        vertical-align: middle;\n",
              "    }\n",
              "\n",
              "    .dataframe tbody tr th {\n",
              "        vertical-align: top;\n",
              "    }\n",
              "\n",
              "    .dataframe thead th {\n",
              "        text-align: right;\n",
              "    }\n",
              "</style>\n",
              "<table border=\"1\" class=\"dataframe\">\n",
              "  <thead>\n",
              "    <tr style=\"text-align: right;\">\n",
              "      <th></th>\n",
              "      <th>Length</th>\n",
              "      <th>Diameter</th>\n",
              "      <th>Height</th>\n",
              "      <th>Whole weight</th>\n",
              "      <th>Shucked weight</th>\n",
              "      <th>Viscera weight</th>\n",
              "      <th>Shell weight</th>\n",
              "      <th>Rings</th>\n",
              "    </tr>\n",
              "  </thead>\n",
              "  <tbody>\n",
              "    <tr>\n",
              "      <th>count</th>\n",
              "      <td>4177.000000</td>\n",
              "      <td>4177.000000</td>\n",
              "      <td>4177.000000</td>\n",
              "      <td>4177.000000</td>\n",
              "      <td>4177.000000</td>\n",
              "      <td>4177.000000</td>\n",
              "      <td>4177.000000</td>\n",
              "      <td>4177.000000</td>\n",
              "    </tr>\n",
              "    <tr>\n",
              "      <th>mean</th>\n",
              "      <td>0.523992</td>\n",
              "      <td>0.407881</td>\n",
              "      <td>0.139516</td>\n",
              "      <td>0.828742</td>\n",
              "      <td>0.359367</td>\n",
              "      <td>0.180594</td>\n",
              "      <td>0.238831</td>\n",
              "      <td>9.933684</td>\n",
              "    </tr>\n",
              "    <tr>\n",
              "      <th>std</th>\n",
              "      <td>0.120093</td>\n",
              "      <td>0.099240</td>\n",
              "      <td>0.041827</td>\n",
              "      <td>0.490389</td>\n",
              "      <td>0.221963</td>\n",
              "      <td>0.109614</td>\n",
              "      <td>0.139203</td>\n",
              "      <td>3.224169</td>\n",
              "    </tr>\n",
              "    <tr>\n",
              "      <th>min</th>\n",
              "      <td>0.075000</td>\n",
              "      <td>0.055000</td>\n",
              "      <td>0.000000</td>\n",
              "      <td>0.002000</td>\n",
              "      <td>0.001000</td>\n",
              "      <td>0.000500</td>\n",
              "      <td>0.001500</td>\n",
              "      <td>1.000000</td>\n",
              "    </tr>\n",
              "    <tr>\n",
              "      <th>25%</th>\n",
              "      <td>0.450000</td>\n",
              "      <td>0.350000</td>\n",
              "      <td>0.115000</td>\n",
              "      <td>0.441500</td>\n",
              "      <td>0.186000</td>\n",
              "      <td>0.093500</td>\n",
              "      <td>0.130000</td>\n",
              "      <td>8.000000</td>\n",
              "    </tr>\n",
              "    <tr>\n",
              "      <th>50%</th>\n",
              "      <td>0.545000</td>\n",
              "      <td>0.425000</td>\n",
              "      <td>0.140000</td>\n",
              "      <td>0.799500</td>\n",
              "      <td>0.336000</td>\n",
              "      <td>0.171000</td>\n",
              "      <td>0.234000</td>\n",
              "      <td>9.000000</td>\n",
              "    </tr>\n",
              "    <tr>\n",
              "      <th>75%</th>\n",
              "      <td>0.615000</td>\n",
              "      <td>0.480000</td>\n",
              "      <td>0.165000</td>\n",
              "      <td>1.153000</td>\n",
              "      <td>0.502000</td>\n",
              "      <td>0.253000</td>\n",
              "      <td>0.329000</td>\n",
              "      <td>11.000000</td>\n",
              "    </tr>\n",
              "    <tr>\n",
              "      <th>max</th>\n",
              "      <td>0.815000</td>\n",
              "      <td>0.650000</td>\n",
              "      <td>1.130000</td>\n",
              "      <td>2.825500</td>\n",
              "      <td>1.488000</td>\n",
              "      <td>0.760000</td>\n",
              "      <td>1.005000</td>\n",
              "      <td>29.000000</td>\n",
              "    </tr>\n",
              "  </tbody>\n",
              "</table>\n",
              "</div>"
            ],
            "text/plain": [
              "            Length     Diameter  ...  Shell weight        Rings\n",
              "count  4177.000000  4177.000000  ...   4177.000000  4177.000000\n",
              "mean      0.523992     0.407881  ...      0.238831     9.933684\n",
              "std       0.120093     0.099240  ...      0.139203     3.224169\n",
              "min       0.075000     0.055000  ...      0.001500     1.000000\n",
              "25%       0.450000     0.350000  ...      0.130000     8.000000\n",
              "50%       0.545000     0.425000  ...      0.234000     9.000000\n",
              "75%       0.615000     0.480000  ...      0.329000    11.000000\n",
              "max       0.815000     0.650000  ...      1.005000    29.000000\n",
              "\n",
              "[8 rows x 8 columns]"
            ]
          },
          "metadata": {
            "tags": []
          },
          "execution_count": 212
        }
      ]
    },
    {
      "cell_type": "code",
      "metadata": {
        "id": "ktz6G_Cbu_gc",
        "outputId": "c84f8559-3a99-4c19-c179-9cbd0f6c002a",
        "colab": {
          "base_uri": "https://localhost:8080/",
          "height": 289
        }
      },
      "source": [
        "df.info()"
      ],
      "execution_count": null,
      "outputs": [
        {
          "output_type": "stream",
          "text": [
            "<class 'pandas.core.frame.DataFrame'>\n",
            "RangeIndex: 4177 entries, 0 to 4176\n",
            "Data columns (total 9 columns):\n",
            " #   Column          Non-Null Count  Dtype  \n",
            "---  ------          --------------  -----  \n",
            " 0   Sex             4177 non-null   object \n",
            " 1   Length          4177 non-null   float64\n",
            " 2   Diameter        4177 non-null   float64\n",
            " 3   Height          4177 non-null   float64\n",
            " 4   Whole weight    4177 non-null   float64\n",
            " 5   Shucked weight  4177 non-null   float64\n",
            " 6   Viscera weight  4177 non-null   float64\n",
            " 7   Shell weight    4177 non-null   float64\n",
            " 8   Rings           4177 non-null   int64  \n",
            "dtypes: float64(7), int64(1), object(1)\n",
            "memory usage: 293.8+ KB\n"
          ],
          "name": "stdout"
        }
      ]
    },
    {
      "cell_type": "code",
      "metadata": {
        "id": "SHax5vNUvsUo",
        "outputId": "1f94e2a2-4fb1-43c1-f5f0-518492018706",
        "colab": {
          "base_uri": "https://localhost:8080/",
          "height": 85
        }
      },
      "source": [
        "df['Sex'].value_counts()"
      ],
      "execution_count": null,
      "outputs": [
        {
          "output_type": "execute_result",
          "data": {
            "text/plain": [
              "M    1528\n",
              "I    1342\n",
              "F    1307\n",
              "Name: Sex, dtype: int64"
            ]
          },
          "metadata": {
            "tags": []
          },
          "execution_count": 214
        }
      ]
    },
    {
      "cell_type": "code",
      "metadata": {
        "id": "vLHcUdPQv5-g",
        "outputId": "34b4dc21-9213-4ac3-ec37-2cabf366e9c6",
        "colab": {
          "base_uri": "https://localhost:8080/",
          "height": 204
        }
      },
      "source": [
        "df.head()"
      ],
      "execution_count": null,
      "outputs": [
        {
          "output_type": "execute_result",
          "data": {
            "text/html": [
              "<div>\n",
              "<style scoped>\n",
              "    .dataframe tbody tr th:only-of-type {\n",
              "        vertical-align: middle;\n",
              "    }\n",
              "\n",
              "    .dataframe tbody tr th {\n",
              "        vertical-align: top;\n",
              "    }\n",
              "\n",
              "    .dataframe thead th {\n",
              "        text-align: right;\n",
              "    }\n",
              "</style>\n",
              "<table border=\"1\" class=\"dataframe\">\n",
              "  <thead>\n",
              "    <tr style=\"text-align: right;\">\n",
              "      <th></th>\n",
              "      <th>Sex</th>\n",
              "      <th>Length</th>\n",
              "      <th>Diameter</th>\n",
              "      <th>Height</th>\n",
              "      <th>Whole weight</th>\n",
              "      <th>Shucked weight</th>\n",
              "      <th>Viscera weight</th>\n",
              "      <th>Shell weight</th>\n",
              "      <th>Rings</th>\n",
              "    </tr>\n",
              "  </thead>\n",
              "  <tbody>\n",
              "    <tr>\n",
              "      <th>0</th>\n",
              "      <td>M</td>\n",
              "      <td>0.455</td>\n",
              "      <td>0.365</td>\n",
              "      <td>0.095</td>\n",
              "      <td>0.5140</td>\n",
              "      <td>0.2245</td>\n",
              "      <td>0.1010</td>\n",
              "      <td>0.150</td>\n",
              "      <td>15</td>\n",
              "    </tr>\n",
              "    <tr>\n",
              "      <th>1</th>\n",
              "      <td>M</td>\n",
              "      <td>0.350</td>\n",
              "      <td>0.265</td>\n",
              "      <td>0.090</td>\n",
              "      <td>0.2255</td>\n",
              "      <td>0.0995</td>\n",
              "      <td>0.0485</td>\n",
              "      <td>0.070</td>\n",
              "      <td>7</td>\n",
              "    </tr>\n",
              "    <tr>\n",
              "      <th>2</th>\n",
              "      <td>F</td>\n",
              "      <td>0.530</td>\n",
              "      <td>0.420</td>\n",
              "      <td>0.135</td>\n",
              "      <td>0.6770</td>\n",
              "      <td>0.2565</td>\n",
              "      <td>0.1415</td>\n",
              "      <td>0.210</td>\n",
              "      <td>9</td>\n",
              "    </tr>\n",
              "    <tr>\n",
              "      <th>3</th>\n",
              "      <td>M</td>\n",
              "      <td>0.440</td>\n",
              "      <td>0.365</td>\n",
              "      <td>0.125</td>\n",
              "      <td>0.5160</td>\n",
              "      <td>0.2155</td>\n",
              "      <td>0.1140</td>\n",
              "      <td>0.155</td>\n",
              "      <td>10</td>\n",
              "    </tr>\n",
              "    <tr>\n",
              "      <th>4</th>\n",
              "      <td>I</td>\n",
              "      <td>0.330</td>\n",
              "      <td>0.255</td>\n",
              "      <td>0.080</td>\n",
              "      <td>0.2050</td>\n",
              "      <td>0.0895</td>\n",
              "      <td>0.0395</td>\n",
              "      <td>0.055</td>\n",
              "      <td>7</td>\n",
              "    </tr>\n",
              "  </tbody>\n",
              "</table>\n",
              "</div>"
            ],
            "text/plain": [
              "  Sex  Length  Diameter  ...  Viscera weight  Shell weight  Rings\n",
              "0   M   0.455     0.365  ...          0.1010         0.150     15\n",
              "1   M   0.350     0.265  ...          0.0485         0.070      7\n",
              "2   F   0.530     0.420  ...          0.1415         0.210      9\n",
              "3   M   0.440     0.365  ...          0.1140         0.155     10\n",
              "4   I   0.330     0.255  ...          0.0395         0.055      7\n",
              "\n",
              "[5 rows x 9 columns]"
            ]
          },
          "metadata": {
            "tags": []
          },
          "execution_count": 215
        }
      ]
    },
    {
      "cell_type": "code",
      "metadata": {
        "id": "WgoSI9JPvduu",
        "outputId": "7c7f6d5f-5be2-4071-a010-a56b42432245",
        "colab": {
          "base_uri": "https://localhost:8080/",
          "height": 665
        }
      },
      "source": [
        "#Cek korelasi antar atribut terhadap targetnya\n",
        "plt.figure(figsize=(10,10))\n",
        "sns.heatmap(df.corr(), annot=True, annot_kws={'size':10})\n",
        "plt.show()"
      ],
      "execution_count": null,
      "outputs": [
        {
          "output_type": "display_data",
          "data": {
            "image/png": "[encoded data removed]",
            "text/plain": [
              "<Figure size 720x720 with 2 Axes>"
            ]
          },
          "metadata": {
            "tags": [],
            "needs_background": "light"
          }
        }
      ]
    },
    {
      "cell_type": "code",
      "metadata": {
        "id": "uvNEGIMDvhC1",
        "outputId": "8da3a7e2-2461-4810-d749-926da9c5480c",
        "colab": {
          "base_uri": "https://localhost:8080/",
          "height": 204
        }
      },
      "source": [
        "#drop kolom sex\n",
        "df.drop(columns='Sex', axis=1, inplace=True)\n",
        "df.head()"
      ],
      "execution_count": null,
      "outputs": [
        {
          "output_type": "execute_result",
          "data": {
            "text/html": [
              "<div>\n",
              "<style scoped>\n",
              "    .dataframe tbody tr th:only-of-type {\n",
              "        vertical-align: middle;\n",
              "    }\n",
              "\n",
              "    .dataframe tbody tr th {\n",
              "        vertical-align: top;\n",
              "    }\n",
              "\n",
              "    .dataframe thead th {\n",
              "        text-align: right;\n",
              "    }\n",
              "</style>\n",
              "<table border=\"1\" class=\"dataframe\">\n",
              "  <thead>\n",
              "    <tr style=\"text-align: right;\">\n",
              "      <th></th>\n",
              "      <th>Length</th>\n",
              "      <th>Diameter</th>\n",
              "      <th>Height</th>\n",
              "      <th>Whole weight</th>\n",
              "      <th>Shucked weight</th>\n",
              "      <th>Viscera weight</th>\n",
              "      <th>Shell weight</th>\n",
              "      <th>Rings</th>\n",
              "    </tr>\n",
              "  </thead>\n",
              "  <tbody>\n",
              "    <tr>\n",
              "      <th>0</th>\n",
              "      <td>0.455</td>\n",
              "      <td>0.365</td>\n",
              "      <td>0.095</td>\n",
              "      <td>0.5140</td>\n",
              "      <td>0.2245</td>\n",
              "      <td>0.1010</td>\n",
              "      <td>0.150</td>\n",
              "      <td>15</td>\n",
              "    </tr>\n",
              "    <tr>\n",
              "      <th>1</th>\n",
              "      <td>0.350</td>\n",
              "      <td>0.265</td>\n",
              "      <td>0.090</td>\n",
              "      <td>0.2255</td>\n",
              "      <td>0.0995</td>\n",
              "      <td>0.0485</td>\n",
              "      <td>0.070</td>\n",
              "      <td>7</td>\n",
              "    </tr>\n",
              "    <tr>\n",
              "      <th>2</th>\n",
              "      <td>0.530</td>\n",
              "      <td>0.420</td>\n",
              "      <td>0.135</td>\n",
              "      <td>0.6770</td>\n",
              "      <td>0.2565</td>\n",
              "      <td>0.1415</td>\n",
              "      <td>0.210</td>\n",
              "      <td>9</td>\n",
              "    </tr>\n",
              "    <tr>\n",
              "      <th>3</th>\n",
              "      <td>0.440</td>\n",
              "      <td>0.365</td>\n",
              "      <td>0.125</td>\n",
              "      <td>0.5160</td>\n",
              "      <td>0.2155</td>\n",
              "      <td>0.1140</td>\n",
              "      <td>0.155</td>\n",
              "      <td>10</td>\n",
              "    </tr>\n",
              "    <tr>\n",
              "      <th>4</th>\n",
              "      <td>0.330</td>\n",
              "      <td>0.255</td>\n",
              "      <td>0.080</td>\n",
              "      <td>0.2050</td>\n",
              "      <td>0.0895</td>\n",
              "      <td>0.0395</td>\n",
              "      <td>0.055</td>\n",
              "      <td>7</td>\n",
              "    </tr>\n",
              "  </tbody>\n",
              "</table>\n",
              "</div>"
            ],
            "text/plain": [
              "   Length  Diameter  Height  ...  Viscera weight  Shell weight  Rings\n",
              "0   0.455     0.365   0.095  ...          0.1010         0.150     15\n",
              "1   0.350     0.265   0.090  ...          0.0485         0.070      7\n",
              "2   0.530     0.420   0.135  ...          0.1415         0.210      9\n",
              "3   0.440     0.365   0.125  ...          0.1140         0.155     10\n",
              "4   0.330     0.255   0.080  ...          0.0395         0.055      7\n",
              "\n",
              "[5 rows x 8 columns]"
            ]
          },
          "metadata": {
            "tags": []
          },
          "execution_count": 217
        }
      ]
    },
    {
      "cell_type": "markdown",
      "metadata": {
        "id": "9MwySFqiwiiW"
      },
      "source": [
        "**Machine Learning Model**\n",
        "\n",
        "**Data Preprocessing**"
      ]
    },
    {
      "cell_type": "code",
      "metadata": {
        "id": "I1mPccFjwhCc"
      },
      "source": [
        "#Akan digunakan 3 algoritma\n",
        "from sklearn.linear_model import LinearRegression\n",
        "from sklearn.svm import SVR\n",
        "from xgboost import XGBRegressor\n",
        "\n",
        "from sklearn.preprocessing import StandardScaler\n",
        "from sklearn.model_selection import train_test_split\n",
        "from sklearn.metrics import mean_squared_error, mean_absolute_error, r2_score\n",
        "from sklearn.model_selection import RandomizedSearchCV"
      ],
      "execution_count": null,
      "outputs": []
    },
    {
      "cell_type": "code",
      "metadata": {
        "id": "5E3ziFxcw7Z9"
      },
      "source": [
        "X = df.drop(['Rings'], axis=1)\n",
        "y = df['Rings']"
      ],
      "execution_count": null,
      "outputs": []
    },
    {
      "cell_type": "code",
      "metadata": {
        "id": "VdG-CZ1bw_Yq"
      },
      "source": [
        "stdr = StandardScaler()\n",
        "powbox = PowerTransformer(method='yeo-johnson', standardize=True)\n",
        "X_stdr = stdr.fit_transform(X.values)\n",
        "y_stdr = stdr.fit_transform(df['Rings'].values.reshape(-1, 1)).flatten()\n",
        "\n",
        "X_powbox = powbox.fit_transform(X.values)\n",
        "y_powbox = powbox.fit_transform(df['Rings'].values.reshape(-1, 1)).flatten()"
      ],
      "execution_count": null,
      "outputs": []
    },
    {
      "cell_type": "code",
      "metadata": {
        "id": "9VbsHv5ryS5H",
        "outputId": "f7d7f4ac-30b7-475c-ccb6-bc8afce33897",
        "colab": {
          "base_uri": "https://localhost:8080/",
          "height": 34
        }
      },
      "source": [
        "X_train, X_test, y_train, y_test = train_test_split(X_powbox, y_powbox, test_size=0.2, random_state=42)\n",
        "X_train.shape, X_test.shape, y_train.shape, y_test.shape"
      ],
      "execution_count": null,
      "outputs": [
        {
          "output_type": "execute_result",
          "data": {
            "text/plain": [
              "((3341, 7), (836, 7), (3341,), (836,))"
            ]
          },
          "metadata": {
            "tags": []
          },
          "execution_count": 243
        }
      ]
    },
    {
      "cell_type": "markdown",
      "metadata": {
        "id": "RlYyfR1wxREG"
      },
      "source": [
        "**Linear Regression**"
      ]
    },
    {
      "cell_type": "code",
      "metadata": {
        "id": "llgvcBixxGTx"
      },
      "source": [
        "linreg = LinearRegression()\n",
        "linreg.fit(X_train, y_train)\n",
        "prediksi_linreg = linreg.predict(X_test)"
      ],
      "execution_count": null,
      "outputs": []
    },
    {
      "cell_type": "code",
      "metadata": {
        "id": "HQcvyyztxTMA"
      },
      "source": [
        "linreg = LinearRegression(normalize=True)\n",
        "linreg.fit(X_train, y_train)\n",
        "prediksi_linreg = linreg.predict(X_test)"
      ],
      "execution_count": null,
      "outputs": []
    },
    {
      "cell_type": "code",
      "metadata": {
        "id": "xOsyCWtgxUWq",
        "outputId": "1a40c837-2636-4f8a-9e43-5cabbd891724",
        "colab": {
          "base_uri": "https://localhost:8080/",
          "height": 85
        }
      },
      "source": [
        "mse = mean_squared_error(y_test, prediksi_linreg)\n",
        "mae = mean_absolute_error(y_test, prediksi_linreg)\n",
        "r2 = r2_score(y_test, prediksi_linreg)\n",
        "print('MSE (Mean Squared Error) Using Power Transformers is  :', mse)\n",
        "print('MAE (Mean Absolute Error) Using Power Transformers is :', mae)\n",
        "print('r^2 score Using Standard Scaler is                 :', r2)\n",
        "print('RMSE (Root Mean Squared Error) is                  :', np.sqrt(mean_squared_error(y_test, prediksi_linreg)))"
      ],
      "execution_count": null,
      "outputs": [
        {
          "output_type": "stream",
          "text": [
            "MSE (Mean Squared Error) Using Power Transformers is  : 0.4220685848869214\n",
            "MAE (Mean Absolute Error) Using Power Transformers is : 0.5049691757104534\n",
            "r^2 score Using Standard Scaler is                 : 0.5940998587867343\n",
            "RMSE (Root Mean Squared Error) is                  : 0.6496680574623639\n"
          ],
          "name": "stdout"
        }
      ]
    },
    {
      "cell_type": "markdown",
      "metadata": {
        "id": "_7sGOtc4xzx7"
      },
      "source": [
        "**SVR**"
      ]
    },
    {
      "cell_type": "code",
      "metadata": {
        "id": "ZTnko46UxVmq",
        "outputId": "1813d408-c073-4bf7-df32-83373ec4e7b7",
        "colab": {
          "base_uri": "https://localhost:8080/",
          "height": 272
        }
      },
      "source": [
        "#Lakukan hyperparameter tuning\n",
        "types = ['rbf', 'poly', 'linear']\n",
        "for i in types:\n",
        "  svr = SVR(kernel=i)\n",
        "  svr.fit(X_train, y_train)\n",
        "  prediksi_svr = svr.predict(X_train)\n",
        "  prediksi_svr_test = svr.predict(X_test)\n",
        "  mse = mean_squared_error(y_test, prediksi_svr_test)\n",
        "  mae = mean_absolute_error(y_test, prediksi_svr_test)\n",
        "  r2 = r2_score(y_test, prediksi_svr_test)\n",
        "  print('MSE (Mean Squared Error) Using Power Transformers is  :', mse)\n",
        "  print('MAE (Mean Absolute Error) Using Power Transformers is :', mae)\n",
        "  print('r^2 score Using Standard Scaler is                 :', r2)\n",
        "  print('Nilai RMSE SVC dengan Kernel = {} adalah {}'.format(i, np.sqrt(mean_squared_error(y_test, prediksi_svr_test))))\n",
        "  print('========================================================================================================================')"
      ],
      "execution_count": null,
      "outputs": [
        {
          "output_type": "stream",
          "text": [
            "MSE (Mean Squared Error) Using Power Transformers is  : 0.3711536421328578\n",
            "MAE (Mean Absolute Error) Using Power Transformers is : 0.46248275280059964\n",
            "r^2 score Using Standard Scaler is                 : 0.6430643711758205\n",
            "Nilai RMSE SVC dengan Kernel = rbf adalah 0.6092238029926751\n",
            "========================================================================================================================\n",
            "MSE (Mean Squared Error) Using Power Transformers is  : 0.596523689786514\n",
            "MAE (Mean Absolute Error) Using Power Transformers is : 0.5654139059825111\n",
            "r^2 score Using Standard Scaler is                 : 0.42632771404610836\n",
            "Nilai RMSE SVC dengan Kernel = poly adalah 0.7723494609220065\n",
            "========================================================================================================================\n",
            "MSE (Mean Squared Error) Using Power Transformers is  : 0.42272887446631\n",
            "MAE (Mean Absolute Error) Using Power Transformers is : 0.5012193432943206\n",
            "r^2 score Using Standard Scaler is                 : 0.5934648633307533\n",
            "Nilai RMSE SVC dengan Kernel = linear adalah 0.6501760334450278\n",
            "========================================================================================================================\n"
          ],
          "name": "stdout"
        }
      ]
    },
    {
      "cell_type": "markdown",
      "metadata": {
        "id": "uMzeOMqCyiBg"
      },
      "source": [
        "**XGBoost Regressor**\n",
        "\n",
        "dengan hyperparameter tuning"
      ]
    },
    {
      "cell_type": "code",
      "metadata": {
        "id": "kniLVDqAywMQ",
        "outputId": "d3ba7ba3-988b-4c0e-b2ce-5044dd227117",
        "colab": {
          "base_uri": "https://localhost:8080/",
          "height": 357
        }
      },
      "source": [
        "rating = [0.3, 0.03, 0.003, 0.0003]\n",
        "for i in rating:\n",
        "  xgb = XGBRegressor(objective='reg:squarederror', colsample_bytree=0.5, learning_rate=i, max_depth=4, alpha=10, n_estimators=1000)\n",
        "  xgb.fit(X_train, y_train)\n",
        "  prediksi_xgb = xgb.predict(X_train)\n",
        "  prediksi_xgb_test = xgb.predict(X_test)\n",
        "  r2 = r2_score(y_test, prediksi_xgb_test)\n",
        "  mse = mean_squared_error(y_test, prediksi_xgb_test)\n",
        "  mae = mean_absolute_error(y_test, prediksi_xgb_test)\n",
        "  print('MSE (Mean Squared Error) Using Power Transformers is  :', mse)\n",
        "  print('MAE (Mean Absolute Error) Using Power Transformers is :', mae)\n",
        "  print('r^2 score Using Power Transformers is :', r2)\n",
        "  print('Nilai RMSE XGBoost Regressor pada Testing Set dengan Learning Rate = {}'.format(i), 'adalah', np.sqrt(mean_squared_error(prediksi_xgb_test, y_test)))\n",
        "  print('================================================================================================================================================================)')"
      ],
      "execution_count": null,
      "outputs": [
        {
          "output_type": "stream",
          "text": [
            "MSE (Mean Squared Error) Using Power Transformers is  : 0.45459917056743326\n",
            "MAE (Mean Absolute Error) Using Power Transformers is : 0.5146230568376727\n",
            "r^2 score Using Power Transformers is : 0.5628154424755616\n",
            "Nilai RMSE XGBoost Regressor pada Testing Set dengan Learning Rate = 0.3 adalah 0.6742396981544718\n",
            "================================================================================================================================================================)\n",
            "MSE (Mean Squared Error) Using Power Transformers is  : 0.39100911850486436\n",
            "MAE (Mean Absolute Error) Using Power Transformers is : 0.4755898564040367\n",
            "r^2 score Using Power Transformers is : 0.6239695108809864\n",
            "Nilai RMSE XGBoost Regressor pada Testing Set dengan Learning Rate = 0.03 adalah 0.6253072192969343\n",
            "================================================================================================================================================================)\n",
            "MSE (Mean Squared Error) Using Power Transformers is  : 0.4165885652593902\n",
            "MAE (Mean Absolute Error) Using Power Transformers is : 0.495402590602731\n",
            "r^2 score Using Power Transformers is : 0.5993699518955647\n",
            "Nilai RMSE XGBoost Regressor pada Testing Set dengan Learning Rate = 0.003 adalah 0.6454367244427529\n",
            "================================================================================================================================================================)\n",
            "MSE (Mean Squared Error) Using Power Transformers is  : 0.9368656613478499\n",
            "MAE (Mean Absolute Error) Using Power Transformers is : 0.7732262274509305\n",
            "r^2 score Using Power Transformers is : 0.0990234339738102\n",
            "Nilai RMSE XGBoost Regressor pada Testing Set dengan Learning Rate = 0.0003 adalah 0.9679182100507511\n",
            "================================================================================================================================================================)\n"
          ],
          "name": "stdout"
        }
      ]
    },
    {
      "cell_type": "markdown",
      "metadata": {
        "id": "VmFX-t5d3PSk"
      },
      "source": [
        "**SVR**\n",
        "\n",
        "1. MSE (Mean Squared Error) Using Power Transformers is  : 0.3711536421328578\n",
        "2. MAE (Mean Absolute Error) Using Power Transformers is : 0.46248275280059964\n",
        "3. r^2 score Using Power Transformers is                 : **0.6430643711758205**\n",
        "4. Nilai RMSE SVC dengan Kernel = rbf adalah **0.6092238029926751**\n",
        "\n",
        "**Linear Regression**\n",
        "\n",
        "1. MSE (Mean Squared Error) Using Power Transformers is  : 0.4220685848869214\n",
        "2. MAE (Mean Absolute Error) Using Power Transformers is : 0.5049691757104534\n",
        "3. r^2 score Using Power Transformers is                 : 0.5940998587867343\n",
        "4. RMSE (Root Mean Squared Error) is                  : 0.6496680574623639\n",
        "\n",
        "**XGBoost Regressor**\n",
        "1. MSE (Mean Squared Error) Using Power Transformers is  : 0.39100911850486436\n",
        "2. MAE (Mean Absolute Error) Using Power Transformers is : 0.4755898564040367\n",
        "3. r^2 score Using Power Transformers is : 0.6239695108809864\n",
        "4. Nilai RMSE XGBoost Regressor pada Testing Set dengan Learning Rate = 0.03 adalah 0.6253072192969343"
      ]
    },
    {
      "cell_type": "markdown",
      "metadata": {
        "id": "W3DGVd043454"
      },
      "source": [
        "Nilai R2 tertinggi dan RMSE terendah diperoleh dengan algoritma Support Vector Machine Regressor"
      ]
    }
  ]
}