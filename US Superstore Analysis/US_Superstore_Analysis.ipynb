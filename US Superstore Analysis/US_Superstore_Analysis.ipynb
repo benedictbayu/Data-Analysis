{
  "nbformat": 4,
  "nbformat_minor": 0,
  "metadata": {
    "kernelspec": {
      "display_name": "Python [conda env:jcopml]",
      "language": "python",
      "name": "conda-env-jcopml-py"
    },
    "language_info": {
      "codemirror_mode": {
        "name": "ipython",
        "version": 3
      },
      "file_extension": ".py",
      "mimetype": "text/x-python",
      "name": "python",
      "nbconvert_exporter": "python",
      "pygments_lexer": "ipython3",
      "version": "3.7.6"
    },
    "colab": {
      "name": "US Superstore Analysis",
      "provenance": []
    }
  },
  "cells": [
    {
      "cell_type": "markdown",
      "metadata": {
        "id": "3d90QQxXfUoN",
        "colab_type": "text"
      },
      "source": [
        "### **US Superstore Analysis**"
      ]
    },
    {
      "cell_type": "markdown",
      "metadata": {
        "id": "hXOYW5SZjq2Y",
        "colab_type": "text"
      },
      "source": [
        "![World of Shopping](https://thumbs.dreamstime.com/z/online-shopping-flat-design-world-illustration-50444436.jpg)\n",
        "\n",
        "\n"
      ]
    },
    {
      "cell_type": "markdown",
      "metadata": {
        "id": "zTD8XmqLhAM5",
        "colab_type": "text"
      },
      "source": [
        "Toko online telah berkembang menjadi salah satu primadona di masa kini karena kemudahan dan kenyamanannya bagi orang-orang untuk memilih dan membeli barang-barang yang mereka inginkan cukup dari lewat aplikasi di handphone mereka dan mereka bisa melakukan itu di rumah atau di kantor tanpa harus mendatangi tokonya secara langsung\n",
        "\n",
        "Salah satu hal yang paling menarik dari toko online adalah di masa liburan panjang karena pada umumnya toko-toko konvensional sangat ramai diserbu pengunjung dimasa liburan dan bisa menyebabkan antrian panjang yang membuat orang-orang menjadi malas untuk mengantre. Namun, keberadaan toko online ini membuat orang-orang menjadi tidak perlu mengantre lagi untuk mendapatkan barang-barang yang mereka inginkan"
      ]
    },
    {
      "cell_type": "markdown",
      "metadata": {
        "id": "cttvg5KjfZJz",
        "colab_type": "text"
      },
      "source": [
        "**Import Libraries Tambahan**"
      ]
    },
    {
      "cell_type": "code",
      "metadata": {
        "id": "P6c63f48fdTT",
        "colab_type": "code",
        "colab": {
          "base_uri": "https://localhost:8080/",
          "height": 955
        },
        "outputId": "ff320b4a-e2fc-46e8-9d42-dd675def40c1"
      },
      "source": [
        "!pip install jcopml"
      ],
      "execution_count": 139,
      "outputs": [
        {
          "output_type": "stream",
          "text": [
            "Requirement already satisfied: jcopml in /usr/local/lib/python3.6/dist-packages (1.1.10)\n",
            "Requirement already satisfied: scipy in /usr/local/lib/python3.6/dist-packages (from jcopml) (1.4.1)\n",
            "Requirement already satisfied: pandas in /usr/local/lib/python3.6/dist-packages (from jcopml) (1.0.5)\n",
            "Requirement already satisfied: scikit-optimize in /usr/local/lib/python3.6/dist-packages (from jcopml) (0.7.4)\n",
            "Requirement already satisfied: seaborn in /usr/local/lib/python3.6/dist-packages (from jcopml) (0.10.1)\n",
            "Requirement already satisfied: statsmodels in /usr/local/lib/python3.6/dist-packages (from jcopml) (0.10.2)\n",
            "Requirement already satisfied: matplotlib in /usr/local/lib/python3.6/dist-packages (from jcopml) (3.2.2)\n",
            "Requirement already satisfied: numpy in /usr/local/lib/python3.6/dist-packages (from jcopml) (1.18.5)\n",
            "Requirement already satisfied: scikit-learn in /usr/local/lib/python3.6/dist-packages (from jcopml) (0.22.2.post1)\n",
            "Requirement already satisfied: ipywidgets in /usr/local/lib/python3.6/dist-packages (from jcopml) (7.5.1)\n",
            "Requirement already satisfied: pytz>=2017.2 in /usr/local/lib/python3.6/dist-packages (from pandas->jcopml) (2018.9)\n",
            "Requirement already satisfied: python-dateutil>=2.6.1 in /usr/local/lib/python3.6/dist-packages (from pandas->jcopml) (2.8.1)\n",
            "Requirement already satisfied: joblib>=0.11 in /usr/local/lib/python3.6/dist-packages (from scikit-optimize->jcopml) (0.16.0)\n",
            "Requirement already satisfied: pyaml>=16.9 in /usr/local/lib/python3.6/dist-packages (from scikit-optimize->jcopml) (20.4.0)\n",
            "Requirement already satisfied: patsy>=0.4.0 in /usr/local/lib/python3.6/dist-packages (from statsmodels->jcopml) (0.5.1)\n",
            "Requirement already satisfied: cycler>=0.10 in /usr/local/lib/python3.6/dist-packages (from matplotlib->jcopml) (0.10.0)\n",
            "Requirement already satisfied: kiwisolver>=1.0.1 in /usr/local/lib/python3.6/dist-packages (from matplotlib->jcopml) (1.2.0)\n",
            "Requirement already satisfied: pyparsing!=2.0.4,!=2.1.2,!=2.1.6,>=2.0.1 in /usr/local/lib/python3.6/dist-packages (from matplotlib->jcopml) (2.4.7)\n",
            "Requirement already satisfied: traitlets>=4.3.1 in /usr/local/lib/python3.6/dist-packages (from ipywidgets->jcopml) (4.3.3)\n",
            "Requirement already satisfied: ipykernel>=4.5.1 in /usr/local/lib/python3.6/dist-packages (from ipywidgets->jcopml) (4.10.1)\n",
            "Requirement already satisfied: widgetsnbextension~=3.5.0 in /usr/local/lib/python3.6/dist-packages (from ipywidgets->jcopml) (3.5.1)\n",
            "Requirement already satisfied: ipython>=4.0.0; python_version >= \"3.3\" in /usr/local/lib/python3.6/dist-packages (from ipywidgets->jcopml) (5.5.0)\n",
            "Requirement already satisfied: nbformat>=4.2.0 in /usr/local/lib/python3.6/dist-packages (from ipywidgets->jcopml) (5.0.7)\n",
            "Requirement already satisfied: six>=1.5 in /usr/local/lib/python3.6/dist-packages (from python-dateutil>=2.6.1->pandas->jcopml) (1.15.0)\n",
            "Requirement already satisfied: PyYAML in /usr/local/lib/python3.6/dist-packages (from pyaml>=16.9->scikit-optimize->jcopml) (3.13)\n",
            "Requirement already satisfied: decorator in /usr/local/lib/python3.6/dist-packages (from traitlets>=4.3.1->ipywidgets->jcopml) (4.4.2)\n",
            "Requirement already satisfied: ipython-genutils in /usr/local/lib/python3.6/dist-packages (from traitlets>=4.3.1->ipywidgets->jcopml) (0.2.0)\n",
            "Requirement already satisfied: tornado>=4.0 in /usr/local/lib/python3.6/dist-packages (from ipykernel>=4.5.1->ipywidgets->jcopml) (5.1.1)\n",
            "Requirement already satisfied: jupyter-client in /usr/local/lib/python3.6/dist-packages (from ipykernel>=4.5.1->ipywidgets->jcopml) (5.3.5)\n",
            "Requirement already satisfied: notebook>=4.4.1 in /usr/local/lib/python3.6/dist-packages (from widgetsnbextension~=3.5.0->ipywidgets->jcopml) (5.3.1)\n",
            "Requirement already satisfied: pexpect; sys_platform != \"win32\" in /usr/local/lib/python3.6/dist-packages (from ipython>=4.0.0; python_version >= \"3.3\"->ipywidgets->jcopml) (4.8.0)\n",
            "Requirement already satisfied: setuptools>=18.5 in /usr/local/lib/python3.6/dist-packages (from ipython>=4.0.0; python_version >= \"3.3\"->ipywidgets->jcopml) (49.1.0)\n",
            "Requirement already satisfied: simplegeneric>0.8 in /usr/local/lib/python3.6/dist-packages (from ipython>=4.0.0; python_version >= \"3.3\"->ipywidgets->jcopml) (0.8.1)\n",
            "Requirement already satisfied: pygments in /usr/local/lib/python3.6/dist-packages (from ipython>=4.0.0; python_version >= \"3.3\"->ipywidgets->jcopml) (2.1.3)\n",
            "Requirement already satisfied: prompt-toolkit<2.0.0,>=1.0.4 in /usr/local/lib/python3.6/dist-packages (from ipython>=4.0.0; python_version >= \"3.3\"->ipywidgets->jcopml) (1.0.18)\n",
            "Requirement already satisfied: pickleshare in /usr/local/lib/python3.6/dist-packages (from ipython>=4.0.0; python_version >= \"3.3\"->ipywidgets->jcopml) (0.7.5)\n",
            "Requirement already satisfied: jupyter-core in /usr/local/lib/python3.6/dist-packages (from nbformat>=4.2.0->ipywidgets->jcopml) (4.6.3)\n",
            "Requirement already satisfied: jsonschema!=2.5.0,>=2.4 in /usr/local/lib/python3.6/dist-packages (from nbformat>=4.2.0->ipywidgets->jcopml) (2.6.0)\n",
            "Requirement already satisfied: pyzmq>=13 in /usr/local/lib/python3.6/dist-packages (from jupyter-client->ipykernel>=4.5.1->ipywidgets->jcopml) (19.0.1)\n",
            "Requirement already satisfied: Send2Trash in /usr/local/lib/python3.6/dist-packages (from notebook>=4.4.1->widgetsnbextension~=3.5.0->ipywidgets->jcopml) (1.5.0)\n",
            "Requirement already satisfied: terminado>=0.8.1 in /usr/local/lib/python3.6/dist-packages (from notebook>=4.4.1->widgetsnbextension~=3.5.0->ipywidgets->jcopml) (0.8.3)\n",
            "Requirement already satisfied: jinja2 in /usr/local/lib/python3.6/dist-packages (from notebook>=4.4.1->widgetsnbextension~=3.5.0->ipywidgets->jcopml) (2.11.2)\n",
            "Requirement already satisfied: nbconvert in /usr/local/lib/python3.6/dist-packages (from notebook>=4.4.1->widgetsnbextension~=3.5.0->ipywidgets->jcopml) (5.6.1)\n",
            "Requirement already satisfied: ptyprocess>=0.5 in /usr/local/lib/python3.6/dist-packages (from pexpect; sys_platform != \"win32\"->ipython>=4.0.0; python_version >= \"3.3\"->ipywidgets->jcopml) (0.6.0)\n",
            "Requirement already satisfied: wcwidth in /usr/local/lib/python3.6/dist-packages (from prompt-toolkit<2.0.0,>=1.0.4->ipython>=4.0.0; python_version >= \"3.3\"->ipywidgets->jcopml) (0.2.5)\n",
            "Requirement already satisfied: MarkupSafe>=0.23 in /usr/local/lib/python3.6/dist-packages (from jinja2->notebook>=4.4.1->widgetsnbextension~=3.5.0->ipywidgets->jcopml) (1.1.1)\n",
            "Requirement already satisfied: pandocfilters>=1.4.1 in /usr/local/lib/python3.6/dist-packages (from nbconvert->notebook>=4.4.1->widgetsnbextension~=3.5.0->ipywidgets->jcopml) (1.4.2)\n",
            "Requirement already satisfied: defusedxml in /usr/local/lib/python3.6/dist-packages (from nbconvert->notebook>=4.4.1->widgetsnbextension~=3.5.0->ipywidgets->jcopml) (0.6.0)\n",
            "Requirement already satisfied: bleach in /usr/local/lib/python3.6/dist-packages (from nbconvert->notebook>=4.4.1->widgetsnbextension~=3.5.0->ipywidgets->jcopml) (3.1.5)\n",
            "Requirement already satisfied: mistune<2,>=0.8.1 in /usr/local/lib/python3.6/dist-packages (from nbconvert->notebook>=4.4.1->widgetsnbextension~=3.5.0->ipywidgets->jcopml) (0.8.4)\n",
            "Requirement already satisfied: entrypoints>=0.2.2 in /usr/local/lib/python3.6/dist-packages (from nbconvert->notebook>=4.4.1->widgetsnbextension~=3.5.0->ipywidgets->jcopml) (0.3)\n",
            "Requirement already satisfied: testpath in /usr/local/lib/python3.6/dist-packages (from nbconvert->notebook>=4.4.1->widgetsnbextension~=3.5.0->ipywidgets->jcopml) (0.4.4)\n",
            "Requirement already satisfied: webencodings in /usr/local/lib/python3.6/dist-packages (from bleach->nbconvert->notebook>=4.4.1->widgetsnbextension~=3.5.0->ipywidgets->jcopml) (0.5.1)\n",
            "Requirement already satisfied: packaging in /usr/local/lib/python3.6/dist-packages (from bleach->nbconvert->notebook>=4.4.1->widgetsnbextension~=3.5.0->ipywidgets->jcopml) (20.4)\n"
          ],
          "name": "stdout"
        }
      ]
    },
    {
      "cell_type": "markdown",
      "metadata": {
        "id": "2D2xLdBxfiXB",
        "colab_type": "text"
      },
      "source": [
        "##### **Import Libraries**"
      ]
    },
    {
      "cell_type": "code",
      "metadata": {
        "id": "RQgNbVQZfUoO",
        "colab_type": "code",
        "colab": {}
      },
      "source": [
        "#operasi dasar\n",
        "import pandas as pd\n",
        "import numpy as np\n",
        "\n",
        "#visualisasi data\n",
        "import matplotlib.pyplot as plt\n",
        "import seaborn as sns\n",
        "%matplotlib inline\n",
        "\n",
        "import warnings\n",
        "warnings.filterwarnings('ignore')"
      ],
      "execution_count": 140,
      "outputs": []
    },
    {
      "cell_type": "markdown",
      "metadata": {
        "id": "BnEnDP8SfmNk",
        "colab_type": "text"
      },
      "source": [
        "##### **Import Dataset**"
      ]
    },
    {
      "cell_type": "code",
      "metadata": {
        "id": "9jwOlKzzfUoX",
        "colab_type": "code",
        "colab": {
          "base_uri": "https://localhost:8080/",
          "height": 547
        },
        "outputId": "077e6fee-9a9f-496a-f1a0-a773859f6e7c"
      },
      "source": [
        "df = pd.read_excel(r'US Superstore data.xls')\n",
        "df.head()"
      ],
      "execution_count": 141,
      "outputs": [
        {
          "output_type": "execute_result",
          "data": {
            "text/html": [
              "<div>\n",
              "<style scoped>\n",
              "    .dataframe tbody tr th:only-of-type {\n",
              "        vertical-align: middle;\n",
              "    }\n",
              "\n",
              "    .dataframe tbody tr th {\n",
              "        vertical-align: top;\n",
              "    }\n",
              "\n",
              "    .dataframe thead th {\n",
              "        text-align: right;\n",
              "    }\n",
              "</style>\n",
              "<table border=\"1\" class=\"dataframe\">\n",
              "  <thead>\n",
              "    <tr style=\"text-align: right;\">\n",
              "      <th></th>\n",
              "      <th>Row ID</th>\n",
              "      <th>Order ID</th>\n",
              "      <th>Order Date</th>\n",
              "      <th>Ship Date</th>\n",
              "      <th>Ship Mode</th>\n",
              "      <th>Customer ID</th>\n",
              "      <th>Customer Name</th>\n",
              "      <th>Segment</th>\n",
              "      <th>Country</th>\n",
              "      <th>City</th>\n",
              "      <th>State</th>\n",
              "      <th>Postal Code</th>\n",
              "      <th>Region</th>\n",
              "      <th>Product ID</th>\n",
              "      <th>Category</th>\n",
              "      <th>Sub-Category</th>\n",
              "      <th>Product Name</th>\n",
              "      <th>Sales</th>\n",
              "      <th>Quantity</th>\n",
              "      <th>Discount</th>\n",
              "      <th>Profit</th>\n",
              "    </tr>\n",
              "  </thead>\n",
              "  <tbody>\n",
              "    <tr>\n",
              "      <th>0</th>\n",
              "      <td>1</td>\n",
              "      <td>CA-2016-152156</td>\n",
              "      <td>2016-11-08</td>\n",
              "      <td>2016-11-11</td>\n",
              "      <td>Second Class</td>\n",
              "      <td>CG-12520</td>\n",
              "      <td>Claire Gute</td>\n",
              "      <td>Consumer</td>\n",
              "      <td>United States</td>\n",
              "      <td>Henderson</td>\n",
              "      <td>Kentucky</td>\n",
              "      <td>42420</td>\n",
              "      <td>South</td>\n",
              "      <td>FUR-BO-10001798</td>\n",
              "      <td>Furniture</td>\n",
              "      <td>Bookcases</td>\n",
              "      <td>Bush Somerset Collection Bookcase</td>\n",
              "      <td>261.9600</td>\n",
              "      <td>2</td>\n",
              "      <td>0.00</td>\n",
              "      <td>41.9136</td>\n",
              "    </tr>\n",
              "    <tr>\n",
              "      <th>1</th>\n",
              "      <td>2</td>\n",
              "      <td>CA-2016-152156</td>\n",
              "      <td>2016-11-08</td>\n",
              "      <td>2016-11-11</td>\n",
              "      <td>Second Class</td>\n",
              "      <td>CG-12520</td>\n",
              "      <td>Claire Gute</td>\n",
              "      <td>Consumer</td>\n",
              "      <td>United States</td>\n",
              "      <td>Henderson</td>\n",
              "      <td>Kentucky</td>\n",
              "      <td>42420</td>\n",
              "      <td>South</td>\n",
              "      <td>FUR-CH-10000454</td>\n",
              "      <td>Furniture</td>\n",
              "      <td>Chairs</td>\n",
              "      <td>Hon Deluxe Fabric Upholstered Stacking Chairs,...</td>\n",
              "      <td>731.9400</td>\n",
              "      <td>3</td>\n",
              "      <td>0.00</td>\n",
              "      <td>219.5820</td>\n",
              "    </tr>\n",
              "    <tr>\n",
              "      <th>2</th>\n",
              "      <td>3</td>\n",
              "      <td>CA-2016-138688</td>\n",
              "      <td>2016-06-12</td>\n",
              "      <td>2016-06-16</td>\n",
              "      <td>Second Class</td>\n",
              "      <td>DV-13045</td>\n",
              "      <td>Darrin Van Huff</td>\n",
              "      <td>Corporate</td>\n",
              "      <td>United States</td>\n",
              "      <td>Los Angeles</td>\n",
              "      <td>California</td>\n",
              "      <td>90036</td>\n",
              "      <td>West</td>\n",
              "      <td>OFF-LA-10000240</td>\n",
              "      <td>Office Supplies</td>\n",
              "      <td>Labels</td>\n",
              "      <td>Self-Adhesive Address Labels for Typewriters b...</td>\n",
              "      <td>14.6200</td>\n",
              "      <td>2</td>\n",
              "      <td>0.00</td>\n",
              "      <td>6.8714</td>\n",
              "    </tr>\n",
              "    <tr>\n",
              "      <th>3</th>\n",
              "      <td>4</td>\n",
              "      <td>US-2015-108966</td>\n",
              "      <td>2015-10-11</td>\n",
              "      <td>2015-10-18</td>\n",
              "      <td>Standard Class</td>\n",
              "      <td>SO-20335</td>\n",
              "      <td>Sean O'Donnell</td>\n",
              "      <td>Consumer</td>\n",
              "      <td>United States</td>\n",
              "      <td>Fort Lauderdale</td>\n",
              "      <td>Florida</td>\n",
              "      <td>33311</td>\n",
              "      <td>South</td>\n",
              "      <td>FUR-TA-10000577</td>\n",
              "      <td>Furniture</td>\n",
              "      <td>Tables</td>\n",
              "      <td>Bretford CR4500 Series Slim Rectangular Table</td>\n",
              "      <td>957.5775</td>\n",
              "      <td>5</td>\n",
              "      <td>0.45</td>\n",
              "      <td>-383.0310</td>\n",
              "    </tr>\n",
              "    <tr>\n",
              "      <th>4</th>\n",
              "      <td>5</td>\n",
              "      <td>US-2015-108966</td>\n",
              "      <td>2015-10-11</td>\n",
              "      <td>2015-10-18</td>\n",
              "      <td>Standard Class</td>\n",
              "      <td>SO-20335</td>\n",
              "      <td>Sean O'Donnell</td>\n",
              "      <td>Consumer</td>\n",
              "      <td>United States</td>\n",
              "      <td>Fort Lauderdale</td>\n",
              "      <td>Florida</td>\n",
              "      <td>33311</td>\n",
              "      <td>South</td>\n",
              "      <td>OFF-ST-10000760</td>\n",
              "      <td>Office Supplies</td>\n",
              "      <td>Storage</td>\n",
              "      <td>Eldon Fold 'N Roll Cart System</td>\n",
              "      <td>22.3680</td>\n",
              "      <td>2</td>\n",
              "      <td>0.20</td>\n",
              "      <td>2.5164</td>\n",
              "    </tr>\n",
              "  </tbody>\n",
              "</table>\n",
              "</div>"
            ],
            "text/plain": [
              "   Row ID        Order ID Order Date  ... Quantity Discount    Profit\n",
              "0       1  CA-2016-152156 2016-11-08  ...        2     0.00   41.9136\n",
              "1       2  CA-2016-152156 2016-11-08  ...        3     0.00  219.5820\n",
              "2       3  CA-2016-138688 2016-06-12  ...        2     0.00    6.8714\n",
              "3       4  US-2015-108966 2015-10-11  ...        5     0.45 -383.0310\n",
              "4       5  US-2015-108966 2015-10-11  ...        2     0.20    2.5164\n",
              "\n",
              "[5 rows x 21 columns]"
            ]
          },
          "metadata": {
            "tags": []
          },
          "execution_count": 141
        }
      ]
    },
    {
      "cell_type": "markdown",
      "metadata": {
        "id": "FI_oI0VmfUob",
        "colab_type": "text"
      },
      "source": [
        "### **Data Cleaning**"
      ]
    },
    {
      "cell_type": "code",
      "metadata": {
        "id": "jp2SNMs7fUoc",
        "colab_type": "code",
        "colab": {}
      },
      "source": [
        "from jcopml.plot import plot_missing_value"
      ],
      "execution_count": 142,
      "outputs": []
    },
    {
      "cell_type": "code",
      "metadata": {
        "id": "PK9xBskzfUof",
        "colab_type": "code",
        "colab": {
          "base_uri": "https://localhost:8080/",
          "height": 1000
        },
        "outputId": "862a40fb-dea1-42dc-ef5d-100948241de2"
      },
      "source": [
        "plot_missing_value(df, return_df=True)"
      ],
      "execution_count": 143,
      "outputs": [
        {
          "output_type": "execute_result",
          "data": {
            "text/html": [
              "<div>\n",
              "<style scoped>\n",
              "    .dataframe tbody tr th:only-of-type {\n",
              "        vertical-align: middle;\n",
              "    }\n",
              "\n",
              "    .dataframe tbody tr th {\n",
              "        vertical-align: top;\n",
              "    }\n",
              "\n",
              "    .dataframe thead th {\n",
              "        text-align: right;\n",
              "    }\n",
              "</style>\n",
              "<table border=\"1\" class=\"dataframe\">\n",
              "  <thead>\n",
              "    <tr style=\"text-align: right;\">\n",
              "      <th></th>\n",
              "      <th>missing_value</th>\n",
              "      <th>%</th>\n",
              "    </tr>\n",
              "  </thead>\n",
              "  <tbody>\n",
              "    <tr>\n",
              "      <th>Row ID</th>\n",
              "      <td>0</td>\n",
              "      <td>0.0</td>\n",
              "    </tr>\n",
              "    <tr>\n",
              "      <th>Order ID</th>\n",
              "      <td>0</td>\n",
              "      <td>0.0</td>\n",
              "    </tr>\n",
              "    <tr>\n",
              "      <th>Order Date</th>\n",
              "      <td>0</td>\n",
              "      <td>0.0</td>\n",
              "    </tr>\n",
              "    <tr>\n",
              "      <th>Ship Date</th>\n",
              "      <td>0</td>\n",
              "      <td>0.0</td>\n",
              "    </tr>\n",
              "    <tr>\n",
              "      <th>Ship Mode</th>\n",
              "      <td>0</td>\n",
              "      <td>0.0</td>\n",
              "    </tr>\n",
              "    <tr>\n",
              "      <th>Customer ID</th>\n",
              "      <td>0</td>\n",
              "      <td>0.0</td>\n",
              "    </tr>\n",
              "    <tr>\n",
              "      <th>Customer Name</th>\n",
              "      <td>0</td>\n",
              "      <td>0.0</td>\n",
              "    </tr>\n",
              "    <tr>\n",
              "      <th>Segment</th>\n",
              "      <td>0</td>\n",
              "      <td>0.0</td>\n",
              "    </tr>\n",
              "    <tr>\n",
              "      <th>Country</th>\n",
              "      <td>0</td>\n",
              "      <td>0.0</td>\n",
              "    </tr>\n",
              "    <tr>\n",
              "      <th>City</th>\n",
              "      <td>0</td>\n",
              "      <td>0.0</td>\n",
              "    </tr>\n",
              "    <tr>\n",
              "      <th>State</th>\n",
              "      <td>0</td>\n",
              "      <td>0.0</td>\n",
              "    </tr>\n",
              "    <tr>\n",
              "      <th>Postal Code</th>\n",
              "      <td>0</td>\n",
              "      <td>0.0</td>\n",
              "    </tr>\n",
              "    <tr>\n",
              "      <th>Region</th>\n",
              "      <td>0</td>\n",
              "      <td>0.0</td>\n",
              "    </tr>\n",
              "    <tr>\n",
              "      <th>Product ID</th>\n",
              "      <td>0</td>\n",
              "      <td>0.0</td>\n",
              "    </tr>\n",
              "    <tr>\n",
              "      <th>Category</th>\n",
              "      <td>0</td>\n",
              "      <td>0.0</td>\n",
              "    </tr>\n",
              "    <tr>\n",
              "      <th>Sub-Category</th>\n",
              "      <td>0</td>\n",
              "      <td>0.0</td>\n",
              "    </tr>\n",
              "    <tr>\n",
              "      <th>Product Name</th>\n",
              "      <td>0</td>\n",
              "      <td>0.0</td>\n",
              "    </tr>\n",
              "    <tr>\n",
              "      <th>Sales</th>\n",
              "      <td>0</td>\n",
              "      <td>0.0</td>\n",
              "    </tr>\n",
              "    <tr>\n",
              "      <th>Quantity</th>\n",
              "      <td>0</td>\n",
              "      <td>0.0</td>\n",
              "    </tr>\n",
              "    <tr>\n",
              "      <th>Discount</th>\n",
              "      <td>0</td>\n",
              "      <td>0.0</td>\n",
              "    </tr>\n",
              "    <tr>\n",
              "      <th>Profit</th>\n",
              "      <td>0</td>\n",
              "      <td>0.0</td>\n",
              "    </tr>\n",
              "  </tbody>\n",
              "</table>\n",
              "</div>"
            ],
            "text/plain": [
              "               missing_value    %\n",
              "Row ID                     0  0.0\n",
              "Order ID                   0  0.0\n",
              "Order Date                 0  0.0\n",
              "Ship Date                  0  0.0\n",
              "Ship Mode                  0  0.0\n",
              "Customer ID                0  0.0\n",
              "Customer Name              0  0.0\n",
              "Segment                    0  0.0\n",
              "Country                    0  0.0\n",
              "City                       0  0.0\n",
              "State                      0  0.0\n",
              "Postal Code                0  0.0\n",
              "Region                     0  0.0\n",
              "Product ID                 0  0.0\n",
              "Category                   0  0.0\n",
              "Sub-Category               0  0.0\n",
              "Product Name               0  0.0\n",
              "Sales                      0  0.0\n",
              "Quantity                   0  0.0\n",
              "Discount                   0  0.0\n",
              "Profit                     0  0.0"
            ]
          },
          "metadata": {
            "tags": []
          },
          "execution_count": 143
        },
        {
          "output_type": "display_data",
          "data": {
            "image/png": "[encoded data removed]",
            "text/plain": [
              "<Figure size 1080x576 with 1 Axes>"
            ]
          },
          "metadata": {
            "tags": [],
            "needs_background": "light"
          }
        }
      ]
    },
    {
      "cell_type": "code",
      "metadata": {
        "id": "zCT3MgeTfUol",
        "colab_type": "code",
        "colab": {
          "base_uri": "https://localhost:8080/",
          "height": 34
        },
        "outputId": "b8a59023-cbf5-4d52-83b9-3a96c1c3598c"
      },
      "source": [
        "print(f'Dataset memiliki {df.shape[0]} baris dan {df.shape[1]} kolom')"
      ],
      "execution_count": 144,
      "outputs": [
        {
          "output_type": "stream",
          "text": [
            "Dataset memiliki 9994 baris dan 21 kolom\n"
          ],
          "name": "stdout"
        }
      ]
    },
    {
      "cell_type": "code",
      "metadata": {
        "id": "5isYFk5FfUoq",
        "colab_type": "code",
        "colab": {
          "base_uri": "https://localhost:8080/",
          "height": 493
        },
        "outputId": "bbbf2377-0d0d-4c86-eee2-4b5f56a8ef3c"
      },
      "source": [
        "df.info()"
      ],
      "execution_count": 145,
      "outputs": [
        {
          "output_type": "stream",
          "text": [
            "<class 'pandas.core.frame.DataFrame'>\n",
            "RangeIndex: 9994 entries, 0 to 9993\n",
            "Data columns (total 21 columns):\n",
            " #   Column         Non-Null Count  Dtype         \n",
            "---  ------         --------------  -----         \n",
            " 0   Row ID         9994 non-null   int64         \n",
            " 1   Order ID       9994 non-null   object        \n",
            " 2   Order Date     9994 non-null   datetime64[ns]\n",
            " 3   Ship Date      9994 non-null   datetime64[ns]\n",
            " 4   Ship Mode      9994 non-null   object        \n",
            " 5   Customer ID    9994 non-null   object        \n",
            " 6   Customer Name  9994 non-null   object        \n",
            " 7   Segment        9994 non-null   object        \n",
            " 8   Country        9994 non-null   object        \n",
            " 9   City           9994 non-null   object        \n",
            " 10  State          9994 non-null   object        \n",
            " 11  Postal Code    9994 non-null   int64         \n",
            " 12  Region         9994 non-null   object        \n",
            " 13  Product ID     9994 non-null   object        \n",
            " 14  Category       9994 non-null   object        \n",
            " 15  Sub-Category   9994 non-null   object        \n",
            " 16  Product Name   9994 non-null   object        \n",
            " 17  Sales          9994 non-null   float64       \n",
            " 18  Quantity       9994 non-null   int64         \n",
            " 19  Discount       9994 non-null   float64       \n",
            " 20  Profit         9994 non-null   float64       \n",
            "dtypes: datetime64[ns](2), float64(3), int64(3), object(13)\n",
            "memory usage: 1.6+ MB\n"
          ],
          "name": "stdout"
        }
      ]
    },
    {
      "cell_type": "markdown",
      "metadata": {
        "id": "rbb1cZ6YgSGa",
        "colab_type": "text"
      },
      "source": [
        "Dataset tidak memiliki missing values"
      ]
    },
    {
      "cell_type": "markdown",
      "metadata": {
        "id": "DA_KCY8CfUow",
        "colab_type": "text"
      },
      "source": [
        "##### **Membuang Kolom yang tidak perlu**"
      ]
    },
    {
      "cell_type": "code",
      "metadata": {
        "id": "T8nzuPd7fUow",
        "colab_type": "code",
        "colab": {
          "base_uri": "https://localhost:8080/",
          "height": 297
        },
        "outputId": "0691baf3-aae9-4833-cf35-b8250ecb08d2"
      },
      "source": [
        "df.describe()"
      ],
      "execution_count": 146,
      "outputs": [
        {
          "output_type": "execute_result",
          "data": {
            "text/html": [
              "<div>\n",
              "<style scoped>\n",
              "    .dataframe tbody tr th:only-of-type {\n",
              "        vertical-align: middle;\n",
              "    }\n",
              "\n",
              "    .dataframe tbody tr th {\n",
              "        vertical-align: top;\n",
              "    }\n",
              "\n",
              "    .dataframe thead th {\n",
              "        text-align: right;\n",
              "    }\n",
              "</style>\n",
              "<table border=\"1\" class=\"dataframe\">\n",
              "  <thead>\n",
              "    <tr style=\"text-align: right;\">\n",
              "      <th></th>\n",
              "      <th>Row ID</th>\n",
              "      <th>Postal Code</th>\n",
              "      <th>Sales</th>\n",
              "      <th>Quantity</th>\n",
              "      <th>Discount</th>\n",
              "      <th>Profit</th>\n",
              "    </tr>\n",
              "  </thead>\n",
              "  <tbody>\n",
              "    <tr>\n",
              "      <th>count</th>\n",
              "      <td>9994.000000</td>\n",
              "      <td>9994.000000</td>\n",
              "      <td>9994.000000</td>\n",
              "      <td>9994.000000</td>\n",
              "      <td>9994.000000</td>\n",
              "      <td>9994.000000</td>\n",
              "    </tr>\n",
              "    <tr>\n",
              "      <th>mean</th>\n",
              "      <td>4997.500000</td>\n",
              "      <td>55190.379428</td>\n",
              "      <td>229.858001</td>\n",
              "      <td>3.789574</td>\n",
              "      <td>0.156203</td>\n",
              "      <td>28.656896</td>\n",
              "    </tr>\n",
              "    <tr>\n",
              "      <th>std</th>\n",
              "      <td>2885.163629</td>\n",
              "      <td>32063.693350</td>\n",
              "      <td>623.245101</td>\n",
              "      <td>2.225110</td>\n",
              "      <td>0.206452</td>\n",
              "      <td>234.260108</td>\n",
              "    </tr>\n",
              "    <tr>\n",
              "      <th>min</th>\n",
              "      <td>1.000000</td>\n",
              "      <td>1040.000000</td>\n",
              "      <td>0.444000</td>\n",
              "      <td>1.000000</td>\n",
              "      <td>0.000000</td>\n",
              "      <td>-6599.978000</td>\n",
              "    </tr>\n",
              "    <tr>\n",
              "      <th>25%</th>\n",
              "      <td>2499.250000</td>\n",
              "      <td>23223.000000</td>\n",
              "      <td>17.280000</td>\n",
              "      <td>2.000000</td>\n",
              "      <td>0.000000</td>\n",
              "      <td>1.728750</td>\n",
              "    </tr>\n",
              "    <tr>\n",
              "      <th>50%</th>\n",
              "      <td>4997.500000</td>\n",
              "      <td>56430.500000</td>\n",
              "      <td>54.490000</td>\n",
              "      <td>3.000000</td>\n",
              "      <td>0.200000</td>\n",
              "      <td>8.666500</td>\n",
              "    </tr>\n",
              "    <tr>\n",
              "      <th>75%</th>\n",
              "      <td>7495.750000</td>\n",
              "      <td>90008.000000</td>\n",
              "      <td>209.940000</td>\n",
              "      <td>5.000000</td>\n",
              "      <td>0.200000</td>\n",
              "      <td>29.364000</td>\n",
              "    </tr>\n",
              "    <tr>\n",
              "      <th>max</th>\n",
              "      <td>9994.000000</td>\n",
              "      <td>99301.000000</td>\n",
              "      <td>22638.480000</td>\n",
              "      <td>14.000000</td>\n",
              "      <td>0.800000</td>\n",
              "      <td>8399.976000</td>\n",
              "    </tr>\n",
              "  </tbody>\n",
              "</table>\n",
              "</div>"
            ],
            "text/plain": [
              "            Row ID   Postal Code  ...     Discount       Profit\n",
              "count  9994.000000   9994.000000  ...  9994.000000  9994.000000\n",
              "mean   4997.500000  55190.379428  ...     0.156203    28.656896\n",
              "std    2885.163629  32063.693350  ...     0.206452   234.260108\n",
              "min       1.000000   1040.000000  ...     0.000000 -6599.978000\n",
              "25%    2499.250000  23223.000000  ...     0.000000     1.728750\n",
              "50%    4997.500000  56430.500000  ...     0.200000     8.666500\n",
              "75%    7495.750000  90008.000000  ...     0.200000    29.364000\n",
              "max    9994.000000  99301.000000  ...     0.800000  8399.976000\n",
              "\n",
              "[8 rows x 6 columns]"
            ]
          },
          "metadata": {
            "tags": []
          },
          "execution_count": 146
        }
      ]
    },
    {
      "cell_type": "code",
      "metadata": {
        "id": "jIhKU5FkfUoz",
        "colab_type": "code",
        "colab": {
          "base_uri": "https://localhost:8080/",
          "height": 207
        },
        "outputId": "f0936d6f-0c11-4272-91f9-78bb38fcd0c7"
      },
      "source": [
        "df.describe(include=['object'])"
      ],
      "execution_count": 147,
      "outputs": [
        {
          "output_type": "execute_result",
          "data": {
            "text/html": [
              "<div>\n",
              "<style scoped>\n",
              "    .dataframe tbody tr th:only-of-type {\n",
              "        vertical-align: middle;\n",
              "    }\n",
              "\n",
              "    .dataframe tbody tr th {\n",
              "        vertical-align: top;\n",
              "    }\n",
              "\n",
              "    .dataframe thead th {\n",
              "        text-align: right;\n",
              "    }\n",
              "</style>\n",
              "<table border=\"1\" class=\"dataframe\">\n",
              "  <thead>\n",
              "    <tr style=\"text-align: right;\">\n",
              "      <th></th>\n",
              "      <th>Order ID</th>\n",
              "      <th>Ship Mode</th>\n",
              "      <th>Customer ID</th>\n",
              "      <th>Customer Name</th>\n",
              "      <th>Segment</th>\n",
              "      <th>Country</th>\n",
              "      <th>City</th>\n",
              "      <th>State</th>\n",
              "      <th>Region</th>\n",
              "      <th>Product ID</th>\n",
              "      <th>Category</th>\n",
              "      <th>Sub-Category</th>\n",
              "      <th>Product Name</th>\n",
              "    </tr>\n",
              "  </thead>\n",
              "  <tbody>\n",
              "    <tr>\n",
              "      <th>count</th>\n",
              "      <td>9994</td>\n",
              "      <td>9994</td>\n",
              "      <td>9994</td>\n",
              "      <td>9994</td>\n",
              "      <td>9994</td>\n",
              "      <td>9994</td>\n",
              "      <td>9994</td>\n",
              "      <td>9994</td>\n",
              "      <td>9994</td>\n",
              "      <td>9994</td>\n",
              "      <td>9994</td>\n",
              "      <td>9994</td>\n",
              "      <td>9994</td>\n",
              "    </tr>\n",
              "    <tr>\n",
              "      <th>unique</th>\n",
              "      <td>5009</td>\n",
              "      <td>4</td>\n",
              "      <td>793</td>\n",
              "      <td>793</td>\n",
              "      <td>3</td>\n",
              "      <td>1</td>\n",
              "      <td>531</td>\n",
              "      <td>49</td>\n",
              "      <td>4</td>\n",
              "      <td>1862</td>\n",
              "      <td>3</td>\n",
              "      <td>17</td>\n",
              "      <td>1850</td>\n",
              "    </tr>\n",
              "    <tr>\n",
              "      <th>top</th>\n",
              "      <td>CA-2017-100111</td>\n",
              "      <td>Standard Class</td>\n",
              "      <td>WB-21850</td>\n",
              "      <td>William Brown</td>\n",
              "      <td>Consumer</td>\n",
              "      <td>United States</td>\n",
              "      <td>New York City</td>\n",
              "      <td>California</td>\n",
              "      <td>West</td>\n",
              "      <td>OFF-PA-10001970</td>\n",
              "      <td>Office Supplies</td>\n",
              "      <td>Binders</td>\n",
              "      <td>Staple envelope</td>\n",
              "    </tr>\n",
              "    <tr>\n",
              "      <th>freq</th>\n",
              "      <td>14</td>\n",
              "      <td>5968</td>\n",
              "      <td>37</td>\n",
              "      <td>37</td>\n",
              "      <td>5191</td>\n",
              "      <td>9994</td>\n",
              "      <td>915</td>\n",
              "      <td>2001</td>\n",
              "      <td>3203</td>\n",
              "      <td>19</td>\n",
              "      <td>6026</td>\n",
              "      <td>1523</td>\n",
              "      <td>48</td>\n",
              "    </tr>\n",
              "  </tbody>\n",
              "</table>\n",
              "</div>"
            ],
            "text/plain": [
              "              Order ID       Ship Mode  ... Sub-Category     Product Name\n",
              "count             9994            9994  ...         9994             9994\n",
              "unique            5009               4  ...           17             1850\n",
              "top     CA-2017-100111  Standard Class  ...      Binders  Staple envelope\n",
              "freq                14            5968  ...         1523               48\n",
              "\n",
              "[4 rows x 13 columns]"
            ]
          },
          "metadata": {
            "tags": []
          },
          "execution_count": 147
        }
      ]
    },
    {
      "cell_type": "code",
      "metadata": {
        "id": "d0290PJRfUo2",
        "colab_type": "code",
        "colab": {
          "base_uri": "https://localhost:8080/",
          "height": 204
        },
        "outputId": "16e13099-c4db-462a-8a86-501eb87fd268"
      },
      "source": [
        "df['Row ID'].head(10)"
      ],
      "execution_count": 148,
      "outputs": [
        {
          "output_type": "execute_result",
          "data": {
            "text/plain": [
              "0     1\n",
              "1     2\n",
              "2     3\n",
              "3     4\n",
              "4     5\n",
              "5     6\n",
              "6     7\n",
              "7     8\n",
              "8     9\n",
              "9    10\n",
              "Name: Row ID, dtype: int64"
            ]
          },
          "metadata": {
            "tags": []
          },
          "execution_count": 148
        }
      ]
    },
    {
      "cell_type": "markdown",
      "metadata": {
        "id": "iDG98mwcfUo6",
        "colab_type": "text"
      },
      "source": [
        "1. Kolom Row ID -> hanya berisi serial number yang tidak banyak memberikan informasi apapun sehingga bisa kita drop\n",
        "2. Kolom Country -> setelah di describe pun terlihat hanya memiliki 1 unique value yaitu United States sehingga tidak banyak memberikan informasi dan bisa kita drop"
      ]
    },
    {
      "cell_type": "code",
      "metadata": {
        "id": "FhyGrL1ZfUo6",
        "colab_type": "code",
        "colab": {}
      },
      "source": [
        "df.drop('Row ID', axis=1, inplace=True)"
      ],
      "execution_count": 149,
      "outputs": []
    },
    {
      "cell_type": "code",
      "metadata": {
        "id": "IY2hfTqYfUo9",
        "colab_type": "code",
        "colab": {}
      },
      "source": [
        "df.drop('Country', axis=1, inplace=True)"
      ],
      "execution_count": 150,
      "outputs": []
    },
    {
      "cell_type": "code",
      "metadata": {
        "id": "P7aY9enffUpC",
        "colab_type": "code",
        "colab": {
          "base_uri": "https://localhost:8080/",
          "height": 400
        },
        "outputId": "b95f60cb-936a-4fff-cab5-7fdab1590ee0"
      },
      "source": [
        "print(df.shape)\n",
        "df.head(3)"
      ],
      "execution_count": 151,
      "outputs": [
        {
          "output_type": "stream",
          "text": [
            "(9994, 19)\n"
          ],
          "name": "stdout"
        },
        {
          "output_type": "execute_result",
          "data": {
            "text/html": [
              "<div>\n",
              "<style scoped>\n",
              "    .dataframe tbody tr th:only-of-type {\n",
              "        vertical-align: middle;\n",
              "    }\n",
              "\n",
              "    .dataframe tbody tr th {\n",
              "        vertical-align: top;\n",
              "    }\n",
              "\n",
              "    .dataframe thead th {\n",
              "        text-align: right;\n",
              "    }\n",
              "</style>\n",
              "<table border=\"1\" class=\"dataframe\">\n",
              "  <thead>\n",
              "    <tr style=\"text-align: right;\">\n",
              "      <th></th>\n",
              "      <th>Order ID</th>\n",
              "      <th>Order Date</th>\n",
              "      <th>Ship Date</th>\n",
              "      <th>Ship Mode</th>\n",
              "      <th>Customer ID</th>\n",
              "      <th>Customer Name</th>\n",
              "      <th>Segment</th>\n",
              "      <th>City</th>\n",
              "      <th>State</th>\n",
              "      <th>Postal Code</th>\n",
              "      <th>Region</th>\n",
              "      <th>Product ID</th>\n",
              "      <th>Category</th>\n",
              "      <th>Sub-Category</th>\n",
              "      <th>Product Name</th>\n",
              "      <th>Sales</th>\n",
              "      <th>Quantity</th>\n",
              "      <th>Discount</th>\n",
              "      <th>Profit</th>\n",
              "    </tr>\n",
              "  </thead>\n",
              "  <tbody>\n",
              "    <tr>\n",
              "      <th>0</th>\n",
              "      <td>CA-2016-152156</td>\n",
              "      <td>2016-11-08</td>\n",
              "      <td>2016-11-11</td>\n",
              "      <td>Second Class</td>\n",
              "      <td>CG-12520</td>\n",
              "      <td>Claire Gute</td>\n",
              "      <td>Consumer</td>\n",
              "      <td>Henderson</td>\n",
              "      <td>Kentucky</td>\n",
              "      <td>42420</td>\n",
              "      <td>South</td>\n",
              "      <td>FUR-BO-10001798</td>\n",
              "      <td>Furniture</td>\n",
              "      <td>Bookcases</td>\n",
              "      <td>Bush Somerset Collection Bookcase</td>\n",
              "      <td>261.96</td>\n",
              "      <td>2</td>\n",
              "      <td>0.0</td>\n",
              "      <td>41.9136</td>\n",
              "    </tr>\n",
              "    <tr>\n",
              "      <th>1</th>\n",
              "      <td>CA-2016-152156</td>\n",
              "      <td>2016-11-08</td>\n",
              "      <td>2016-11-11</td>\n",
              "      <td>Second Class</td>\n",
              "      <td>CG-12520</td>\n",
              "      <td>Claire Gute</td>\n",
              "      <td>Consumer</td>\n",
              "      <td>Henderson</td>\n",
              "      <td>Kentucky</td>\n",
              "      <td>42420</td>\n",
              "      <td>South</td>\n",
              "      <td>FUR-CH-10000454</td>\n",
              "      <td>Furniture</td>\n",
              "      <td>Chairs</td>\n",
              "      <td>Hon Deluxe Fabric Upholstered Stacking Chairs,...</td>\n",
              "      <td>731.94</td>\n",
              "      <td>3</td>\n",
              "      <td>0.0</td>\n",
              "      <td>219.5820</td>\n",
              "    </tr>\n",
              "    <tr>\n",
              "      <th>2</th>\n",
              "      <td>CA-2016-138688</td>\n",
              "      <td>2016-06-12</td>\n",
              "      <td>2016-06-16</td>\n",
              "      <td>Second Class</td>\n",
              "      <td>DV-13045</td>\n",
              "      <td>Darrin Van Huff</td>\n",
              "      <td>Corporate</td>\n",
              "      <td>Los Angeles</td>\n",
              "      <td>California</td>\n",
              "      <td>90036</td>\n",
              "      <td>West</td>\n",
              "      <td>OFF-LA-10000240</td>\n",
              "      <td>Office Supplies</td>\n",
              "      <td>Labels</td>\n",
              "      <td>Self-Adhesive Address Labels for Typewriters b...</td>\n",
              "      <td>14.62</td>\n",
              "      <td>2</td>\n",
              "      <td>0.0</td>\n",
              "      <td>6.8714</td>\n",
              "    </tr>\n",
              "  </tbody>\n",
              "</table>\n",
              "</div>"
            ],
            "text/plain": [
              "         Order ID Order Date  Ship Date  ... Quantity Discount    Profit\n",
              "0  CA-2016-152156 2016-11-08 2016-11-11  ...        2      0.0   41.9136\n",
              "1  CA-2016-152156 2016-11-08 2016-11-11  ...        3      0.0  219.5820\n",
              "2  CA-2016-138688 2016-06-12 2016-06-16  ...        2      0.0    6.8714\n",
              "\n",
              "[3 rows x 19 columns]"
            ]
          },
          "metadata": {
            "tags": []
          },
          "execution_count": 151
        }
      ]
    },
    {
      "cell_type": "markdown",
      "metadata": {
        "id": "XPpx5N6nfUpu",
        "colab_type": "text"
      },
      "source": [
        "##### **Data Visualization**"
      ]
    },
    {
      "cell_type": "markdown",
      "metadata": {
        "id": "8CkxbghElG6B",
        "colab_type": "text"
      },
      "source": [
        "Kita ingin melihat variasi dari Office Supplies yang ada di toko"
      ]
    },
    {
      "cell_type": "code",
      "metadata": {
        "id": "EpmRsoEplHbu",
        "colab_type": "code",
        "colab": {
          "base_uri": "https://localhost:8080/",
          "height": 575
        },
        "outputId": "9ee0b347-d5ca-4642-da5b-d79630fb280e"
      },
      "source": [
        "plt.figure(figsize=(12,10))\n",
        "variasi = df['Sub-Category'].value_counts()\n",
        "colors = plt.cm.Pastel2(np.linspace(0, 1, 17))\n",
        "variasi.plot.pie(colors=colors, autopct='%.2f%%', shadow=True)\n",
        "plt.axis('off')\n",
        "plt.show()"
      ],
      "execution_count": 152,
      "outputs": [
        {
          "output_type": "display_data",
          "data": {
            "image/png": "[encoded data removed]",
            "text/plain": [
              "<Figure size 864x720 with 1 Axes>"
            ]
          },
          "metadata": {
            "tags": []
          }
        }
      ]
    },
    {
      "cell_type": "markdown",
      "metadata": {
        "id": "2g4CVhBymddM",
        "colab_type": "text"
      },
      "source": [
        "Terlihat bahwa store memiliki variasi office supplies yang beragam terutama untuk departemen binder dan kertas"
      ]
    },
    {
      "cell_type": "code",
      "metadata": {
        "id": "3RDqpNQQnS4_",
        "colab_type": "code",
        "colab": {
          "base_uri": "https://localhost:8080/",
          "height": 638
        },
        "outputId": "3f68ea01-8cb2-44d0-8d11-613fe390108f"
      },
      "source": [
        "profit = pd.DataFrame(df.groupby('Sub-Category')['Profit', 'Sales'].agg(['sum']))\n",
        "profit"
      ],
      "execution_count": 155,
      "outputs": [
        {
          "output_type": "execute_result",
          "data": {
            "text/html": [
              "<div>\n",
              "<style scoped>\n",
              "    .dataframe tbody tr th:only-of-type {\n",
              "        vertical-align: middle;\n",
              "    }\n",
              "\n",
              "    .dataframe tbody tr th {\n",
              "        vertical-align: top;\n",
              "    }\n",
              "\n",
              "    .dataframe thead tr th {\n",
              "        text-align: left;\n",
              "    }\n",
              "\n",
              "    .dataframe thead tr:last-of-type th {\n",
              "        text-align: right;\n",
              "    }\n",
              "</style>\n",
              "<table border=\"1\" class=\"dataframe\">\n",
              "  <thead>\n",
              "    <tr>\n",
              "      <th></th>\n",
              "      <th>Profit</th>\n",
              "      <th>Sales</th>\n",
              "    </tr>\n",
              "    <tr>\n",
              "      <th></th>\n",
              "      <th>sum</th>\n",
              "      <th>sum</th>\n",
              "    </tr>\n",
              "    <tr>\n",
              "      <th>Sub-Category</th>\n",
              "      <th></th>\n",
              "      <th></th>\n",
              "    </tr>\n",
              "  </thead>\n",
              "  <tbody>\n",
              "    <tr>\n",
              "      <th>Accessories</th>\n",
              "      <td>41936.6357</td>\n",
              "      <td>167380.3180</td>\n",
              "    </tr>\n",
              "    <tr>\n",
              "      <th>Appliances</th>\n",
              "      <td>18138.0054</td>\n",
              "      <td>107532.1610</td>\n",
              "    </tr>\n",
              "    <tr>\n",
              "      <th>Art</th>\n",
              "      <td>6527.7870</td>\n",
              "      <td>27118.7920</td>\n",
              "    </tr>\n",
              "    <tr>\n",
              "      <th>Binders</th>\n",
              "      <td>30221.7633</td>\n",
              "      <td>203412.7330</td>\n",
              "    </tr>\n",
              "    <tr>\n",
              "      <th>Bookcases</th>\n",
              "      <td>-3472.5560</td>\n",
              "      <td>114879.9963</td>\n",
              "    </tr>\n",
              "    <tr>\n",
              "      <th>Chairs</th>\n",
              "      <td>26590.1663</td>\n",
              "      <td>328449.1030</td>\n",
              "    </tr>\n",
              "    <tr>\n",
              "      <th>Copiers</th>\n",
              "      <td>55617.8249</td>\n",
              "      <td>149528.0300</td>\n",
              "    </tr>\n",
              "    <tr>\n",
              "      <th>Envelopes</th>\n",
              "      <td>6964.1767</td>\n",
              "      <td>16476.4020</td>\n",
              "    </tr>\n",
              "    <tr>\n",
              "      <th>Fasteners</th>\n",
              "      <td>949.5182</td>\n",
              "      <td>3024.2800</td>\n",
              "    </tr>\n",
              "    <tr>\n",
              "      <th>Furnishings</th>\n",
              "      <td>13059.1436</td>\n",
              "      <td>91705.1640</td>\n",
              "    </tr>\n",
              "    <tr>\n",
              "      <th>Labels</th>\n",
              "      <td>5546.2540</td>\n",
              "      <td>12486.3120</td>\n",
              "    </tr>\n",
              "    <tr>\n",
              "      <th>Machines</th>\n",
              "      <td>3384.7569</td>\n",
              "      <td>189238.6310</td>\n",
              "    </tr>\n",
              "    <tr>\n",
              "      <th>Paper</th>\n",
              "      <td>34053.5693</td>\n",
              "      <td>78479.2060</td>\n",
              "    </tr>\n",
              "    <tr>\n",
              "      <th>Phones</th>\n",
              "      <td>44515.7306</td>\n",
              "      <td>330007.0540</td>\n",
              "    </tr>\n",
              "    <tr>\n",
              "      <th>Storage</th>\n",
              "      <td>21278.8264</td>\n",
              "      <td>223843.6080</td>\n",
              "    </tr>\n",
              "    <tr>\n",
              "      <th>Supplies</th>\n",
              "      <td>-1189.0995</td>\n",
              "      <td>46673.5380</td>\n",
              "    </tr>\n",
              "    <tr>\n",
              "      <th>Tables</th>\n",
              "      <td>-17725.4811</td>\n",
              "      <td>206965.5320</td>\n",
              "    </tr>\n",
              "  </tbody>\n",
              "</table>\n",
              "</div>"
            ],
            "text/plain": [
              "                  Profit        Sales\n",
              "                     sum          sum\n",
              "Sub-Category                         \n",
              "Accessories   41936.6357  167380.3180\n",
              "Appliances    18138.0054  107532.1610\n",
              "Art            6527.7870   27118.7920\n",
              "Binders       30221.7633  203412.7330\n",
              "Bookcases     -3472.5560  114879.9963\n",
              "Chairs        26590.1663  328449.1030\n",
              "Copiers       55617.8249  149528.0300\n",
              "Envelopes      6964.1767   16476.4020\n",
              "Fasteners       949.5182    3024.2800\n",
              "Furnishings   13059.1436   91705.1640\n",
              "Labels         5546.2540   12486.3120\n",
              "Machines       3384.7569  189238.6310\n",
              "Paper         34053.5693   78479.2060\n",
              "Phones        44515.7306  330007.0540\n",
              "Storage       21278.8264  223843.6080\n",
              "Supplies      -1189.0995   46673.5380\n",
              "Tables       -17725.4811  206965.5320"
            ]
          },
          "metadata": {
            "tags": []
          },
          "execution_count": 155
        }
      ]
    },
    {
      "cell_type": "code",
      "metadata": {
        "id": "LaBHtLznnpKO",
        "colab_type": "code",
        "colab": {
          "base_uri": "https://localhost:8080/",
          "height": 346
        },
        "outputId": "9e3825ba-fe03-4ef1-a860-6dc9df64e3a8"
      },
      "source": [
        "colors = plt.cm.winter(np.linspace(0, 1, 2))\n",
        "profit.plot.bar(color=colors)\n",
        "plt.title('Total Profit dan Sales dari Tiap Sub-Category', fontsize=15)\n",
        "plt.show()"
      ],
      "execution_count": 156,
      "outputs": [
        {
          "output_type": "display_data",
          "data": {
            "image/png": "[encoded data removed]",
            "text/plain": [
              "<Figure size 432x288 with 1 Axes>"
            ]
          },
          "metadata": {
            "tags": [],
            "needs_background": "light"
          }
        }
      ]
    },
    {
      "cell_type": "markdown",
      "metadata": {
        "id": "LkZRNk4Zr2EN",
        "colab_type": "text"
      },
      "source": [
        "Profit tertinggi didapat oleh Copiers. Sementara itu hasil penjualan kursi dan telepon merupakan yang tertinggi di toko, jauh lebih tinggi dibanding penjualan sub-category lainnya\n",
        "\n",
        "Uniknya, orang-orang cenderung untuk tidak membeli meja dan rak buku di store. Ini terlihat dari profit minus yang didapatkan oleh toko"
      ]
    },
    {
      "cell_type": "markdown",
      "metadata": {
        "id": "EjiB9IbUsacM",
        "colab_type": "text"
      },
      "source": [
        "Berikutnya kita akan melihat produk-produk apa saja yang dijual di toko"
      ]
    },
    {
      "cell_type": "code",
      "metadata": {
        "id": "s5TXR3wksesN",
        "colab_type": "code",
        "colab": {
          "base_uri": "https://localhost:8080/",
          "height": 255
        },
        "outputId": "4f6f76ec-8be7-4a22-f4b1-47800ff40ecc"
      },
      "source": [
        "print('Superstore menjual {} jenis barang, diantaranya: '.format(df['Product Name'].nunique()))\n",
        "print()\n",
        "df['Product Name'].value_counts()"
      ],
      "execution_count": 157,
      "outputs": [
        {
          "output_type": "stream",
          "text": [
            "Superstore menjual 1850 jenis barang, diantaranya: \n",
            "\n"
          ],
          "name": "stdout"
        },
        {
          "output_type": "execute_result",
          "data": {
            "text/plain": [
              "Staple envelope                                                            48\n",
              "Easy-staple paper                                                          46\n",
              "Staples                                                                    46\n",
              "Avery Non-Stick Binders                                                    20\n",
              "Staples in misc. colors                                                    19\n",
              "                                                                           ..\n",
              "Xerox 1918                                                                  1\n",
              "Universal Ultra Bright White Copier/Laser Paper, 8 1/2\" x 11\", Ream         1\n",
              "NeatDesk Desktop Scanner & Digital Filing System                            1\n",
              "Avery 484                                                                   1\n",
              "Sanitaire Vibra Groomer IR Commercial Upright Vacuum, Replacement Belts     1\n",
              "Name: Product Name, Length: 1850, dtype: int64"
            ]
          },
          "metadata": {
            "tags": []
          },
          "execution_count": 157
        }
      ]
    },
    {
      "cell_type": "markdown",
      "metadata": {
        "id": "rcGMqee5tNQp",
        "colab_type": "text"
      },
      "source": [
        "Karena begitu banyaknya produk yang dijual di superstore, kita hanya akan melihat 10 barang dengan distribusi terbesar di superstore"
      ]
    },
    {
      "cell_type": "code",
      "metadata": {
        "id": "h-SC775AtJIz",
        "colab_type": "code",
        "colab": {
          "base_uri": "https://localhost:8080/",
          "height": 596
        },
        "outputId": "017e2394-e801-4247-ee0c-0def9298248c"
      },
      "source": [
        "plt.figure(figsize=(12, 10))\n",
        "produk = df['Product Name'].value_counts().head(10)\n",
        "colors=plt.cm.Set1(np.linspace(0, 1, 10))\n",
        "produk.plot.pie(colors=colors, autopct='%.2f%%', shadow=True)\n",
        "\n",
        "center_circle = plt.Circle((0,0), 0.5, color='black', fc='white', linewidth=.55)\n",
        "fig = plt.gcf()\n",
        "fig.gca().add_artist(center_circle)\n",
        "\n",
        "plt.title('Distribusi Produk di Superstore', fontsize=20)\n",
        "plt.axis('off')\n",
        "plt.show()"
      ],
      "execution_count": 158,
      "outputs": [
        {
          "output_type": "display_data",
          "data": {
            "image/png": "[encoded data removed]",
            "text/plain": [
              "<Figure size 864x720 with 1 Axes>"
            ]
          },
          "metadata": {
            "tags": []
          }
        }
      ]
    },
    {
      "cell_type": "markdown",
      "metadata": {
        "id": "_EbgM0ojwHLg",
        "colab_type": "text"
      },
      "source": [
        "Terlihat bahwa produk Staple envelope dan Easy-staple paper merupakan produk dengan distribusi terbesar di superstore"
      ]
    },
    {
      "cell_type": "markdown",
      "metadata": {
        "id": "a62VkJo-wloW",
        "colab_type": "text"
      },
      "source": [
        "Berikutnya kita akan melihat count dari sub-category dilihat dari regionnya"
      ]
    },
    {
      "cell_type": "code",
      "metadata": {
        "id": "DtGTUE9KwiNu",
        "colab_type": "code",
        "colab": {
          "base_uri": "https://localhost:8080/",
          "height": 564
        },
        "outputId": "deec0bed-131b-4850-e4b9-af5a43bd05a0"
      },
      "source": [
        "plt.figure(figsize=(15, 8))\n",
        "ax = sns.countplot(df['Sub-Category'], hue='Region', data=df, palette='inferno')\n",
        "ax.set_title(label='Count Sub-Category Berdasarkan Regionnya', fontsize=15)\n",
        "plt.xticks(rotation=90)\n",
        "plt.show()"
      ],
      "execution_count": 159,
      "outputs": [
        {
          "output_type": "display_data",
          "data": {
            "image/png": "[encoded data removed]",
            "text/plain": [
              "<Figure size 1080x576 with 1 Axes>"
            ]
          },
          "metadata": {
            "tags": [],
            "needs_background": "light"
          }
        }
      ]
    },
    {
      "cell_type": "markdown",
      "metadata": {
        "id": "lY3q2cqcxjac",
        "colab_type": "text"
      },
      "source": [
        "Orang-orang yang tinggal di Wilayah Barat cenderung membeli barang lebih sering di superstore"
      ]
    },
    {
      "cell_type": "markdown",
      "metadata": {
        "id": "rkoimsOifUpF",
        "colab_type": "text"
      },
      "source": [
        "**Membuat Kolom Baru Untuk Mendapat Pemahaman Yang Lebih Baik dari Dataset**"
      ]
    },
    {
      "cell_type": "markdown",
      "metadata": {
        "id": "3axbjwh2yLHr",
        "colab_type": "text"
      },
      "source": [
        "1. Cost"
      ]
    },
    {
      "cell_type": "code",
      "metadata": {
        "id": "Pm89ist0fUpF",
        "colab_type": "code",
        "colab": {}
      },
      "source": [
        "df['Cost'] = df['Sales']-df['Profit']"
      ],
      "execution_count": 160,
      "outputs": []
    },
    {
      "cell_type": "markdown",
      "metadata": {
        "id": "XgqSbT5-yMLp",
        "colab_type": "text"
      },
      "source": [
        "2. Profit"
      ]
    },
    {
      "cell_type": "code",
      "metadata": {
        "id": "fFVYlDD4fUpI",
        "colab_type": "code",
        "colab": {}
      },
      "source": [
        "df['% Profit'] = (df['Profit']/df['Cost'])*100"
      ],
      "execution_count": 161,
      "outputs": []
    },
    {
      "cell_type": "markdown",
      "metadata": {
        "id": "5x9VkJuTyNdB",
        "colab_type": "text"
      },
      "source": [
        "3. Shipment Duration"
      ]
    },
    {
      "cell_type": "code",
      "metadata": {
        "id": "yW73D1kOfUpL",
        "colab_type": "code",
        "colab": {}
      },
      "source": [
        "df['Shipment Duration'] = ((pd.to_datetime(df['Ship Date'])) - (pd.to_datetime(df['Order Date']))).dt.days"
      ],
      "execution_count": 162,
      "outputs": []
    },
    {
      "cell_type": "markdown",
      "metadata": {
        "id": "8-8SueasyaZB",
        "colab_type": "text"
      },
      "source": [
        "4. Order Year"
      ]
    },
    {
      "cell_type": "code",
      "metadata": {
        "id": "cEnR0iWvfUpP",
        "colab_type": "code",
        "colab": {}
      },
      "source": [
        "df['Order Year'] = df['Order Date'].dt.year"
      ],
      "execution_count": 163,
      "outputs": []
    },
    {
      "cell_type": "markdown",
      "metadata": {
        "id": "RfTqGP5vyvQA",
        "colab_type": "text"
      },
      "source": [
        "5. Order Month"
      ]
    },
    {
      "cell_type": "code",
      "metadata": {
        "id": "HT_DuWtNfUpS",
        "colab_type": "code",
        "colab": {
          "base_uri": "https://localhost:8080/",
          "height": 204
        },
        "outputId": "2c69f1c6-28bc-497a-a450-ac4e0cb6e474"
      },
      "source": [
        "df['Order Month'] = df['Order Date'].dt.month\n",
        "df[['Product Name', 'Order Month']].head()"
      ],
      "execution_count": 164,
      "outputs": [
        {
          "output_type": "execute_result",
          "data": {
            "text/html": [
              "<div>\n",
              "<style scoped>\n",
              "    .dataframe tbody tr th:only-of-type {\n",
              "        vertical-align: middle;\n",
              "    }\n",
              "\n",
              "    .dataframe tbody tr th {\n",
              "        vertical-align: top;\n",
              "    }\n",
              "\n",
              "    .dataframe thead th {\n",
              "        text-align: right;\n",
              "    }\n",
              "</style>\n",
              "<table border=\"1\" class=\"dataframe\">\n",
              "  <thead>\n",
              "    <tr style=\"text-align: right;\">\n",
              "      <th></th>\n",
              "      <th>Product Name</th>\n",
              "      <th>Order Month</th>\n",
              "    </tr>\n",
              "  </thead>\n",
              "  <tbody>\n",
              "    <tr>\n",
              "      <th>0</th>\n",
              "      <td>Bush Somerset Collection Bookcase</td>\n",
              "      <td>11</td>\n",
              "    </tr>\n",
              "    <tr>\n",
              "      <th>1</th>\n",
              "      <td>Hon Deluxe Fabric Upholstered Stacking Chairs,...</td>\n",
              "      <td>11</td>\n",
              "    </tr>\n",
              "    <tr>\n",
              "      <th>2</th>\n",
              "      <td>Self-Adhesive Address Labels for Typewriters b...</td>\n",
              "      <td>6</td>\n",
              "    </tr>\n",
              "    <tr>\n",
              "      <th>3</th>\n",
              "      <td>Bretford CR4500 Series Slim Rectangular Table</td>\n",
              "      <td>10</td>\n",
              "    </tr>\n",
              "    <tr>\n",
              "      <th>4</th>\n",
              "      <td>Eldon Fold 'N Roll Cart System</td>\n",
              "      <td>10</td>\n",
              "    </tr>\n",
              "  </tbody>\n",
              "</table>\n",
              "</div>"
            ],
            "text/plain": [
              "                                        Product Name  Order Month\n",
              "0                  Bush Somerset Collection Bookcase           11\n",
              "1  Hon Deluxe Fabric Upholstered Stacking Chairs,...           11\n",
              "2  Self-Adhesive Address Labels for Typewriters b...            6\n",
              "3      Bretford CR4500 Series Slim Rectangular Table           10\n",
              "4                     Eldon Fold 'N Roll Cart System           10"
            ]
          },
          "metadata": {
            "tags": []
          },
          "execution_count": 164
        }
      ]
    },
    {
      "cell_type": "markdown",
      "metadata": {
        "id": "o_5JNQxcy5UR",
        "colab_type": "text"
      },
      "source": [
        "6. Season"
      ]
    },
    {
      "cell_type": "code",
      "metadata": {
        "id": "lOIgub8gfUpW",
        "colab_type": "code",
        "colab": {
          "base_uri": "https://localhost:8080/",
          "height": 221
        },
        "outputId": "6f614a07-8903-4af2-85f3-54961d43f636"
      },
      "source": [
        "df['Order Date'].dt.strftime('%B')"
      ],
      "execution_count": 165,
      "outputs": [
        {
          "output_type": "execute_result",
          "data": {
            "text/plain": [
              "0       November\n",
              "1       November\n",
              "2           June\n",
              "3        October\n",
              "4        October\n",
              "          ...   \n",
              "9989     January\n",
              "9990    February\n",
              "9991    February\n",
              "9992    February\n",
              "9993         May\n",
              "Name: Order Date, Length: 9994, dtype: object"
            ]
          },
          "metadata": {
            "tags": []
          },
          "execution_count": 165
        }
      ]
    },
    {
      "cell_type": "code",
      "metadata": {
        "id": "vn8VuLvtfUpY",
        "colab_type": "code",
        "colab": {}
      },
      "source": [
        "def season(x):\n",
        "    if x>=3 and x<=5:\n",
        "        a = 'Spring'\n",
        "        \n",
        "    elif x>=6 and x<=8:\n",
        "        a = 'Summer'\n",
        "        \n",
        "    elif x>=9 and x<=11:\n",
        "        a = 'Fall'\n",
        "        \n",
        "    else:\n",
        "        a = 'Winter'\n",
        "    return a"
      ],
      "execution_count": 166,
      "outputs": []
    },
    {
      "cell_type": "code",
      "metadata": {
        "id": "vnZXELR9fUpc",
        "colab_type": "code",
        "colab": {
          "base_uri": "https://localhost:8080/",
          "height": 204
        },
        "outputId": "4530b87c-7a72-4a2f-bec3-58b54b2800d4"
      },
      "source": [
        "df.loc[:4, ['Product Name', 'Sales', 'Quantity', 'Discount', 'Profit', 'Cost', '% Profit', 'Shipment Duration', 'Order Year', 'Order Month', 'Season']]"
      ],
      "execution_count": 173,
      "outputs": [
        {
          "output_type": "execute_result",
          "data": {
            "text/html": [
              "<div>\n",
              "<style scoped>\n",
              "    .dataframe tbody tr th:only-of-type {\n",
              "        vertical-align: middle;\n",
              "    }\n",
              "\n",
              "    .dataframe tbody tr th {\n",
              "        vertical-align: top;\n",
              "    }\n",
              "\n",
              "    .dataframe thead th {\n",
              "        text-align: right;\n",
              "    }\n",
              "</style>\n",
              "<table border=\"1\" class=\"dataframe\">\n",
              "  <thead>\n",
              "    <tr style=\"text-align: right;\">\n",
              "      <th></th>\n",
              "      <th>Product Name</th>\n",
              "      <th>Sales</th>\n",
              "      <th>Quantity</th>\n",
              "      <th>Discount</th>\n",
              "      <th>Profit</th>\n",
              "      <th>Cost</th>\n",
              "      <th>% Profit</th>\n",
              "      <th>Shipment Duration</th>\n",
              "      <th>Order Year</th>\n",
              "      <th>Order Month</th>\n",
              "      <th>Season</th>\n",
              "    </tr>\n",
              "  </thead>\n",
              "  <tbody>\n",
              "    <tr>\n",
              "      <th>0</th>\n",
              "      <td>Bush Somerset Collection Bookcase</td>\n",
              "      <td>261.9600</td>\n",
              "      <td>2</td>\n",
              "      <td>0.00</td>\n",
              "      <td>41.9136</td>\n",
              "      <td>220.0464</td>\n",
              "      <td>19.047619</td>\n",
              "      <td>3</td>\n",
              "      <td>2016</td>\n",
              "      <td>11</td>\n",
              "      <td>Fall</td>\n",
              "    </tr>\n",
              "    <tr>\n",
              "      <th>1</th>\n",
              "      <td>Hon Deluxe Fabric Upholstered Stacking Chairs,...</td>\n",
              "      <td>731.9400</td>\n",
              "      <td>3</td>\n",
              "      <td>0.00</td>\n",
              "      <td>219.5820</td>\n",
              "      <td>512.3580</td>\n",
              "      <td>42.857143</td>\n",
              "      <td>3</td>\n",
              "      <td>2016</td>\n",
              "      <td>11</td>\n",
              "      <td>Fall</td>\n",
              "    </tr>\n",
              "    <tr>\n",
              "      <th>2</th>\n",
              "      <td>Self-Adhesive Address Labels for Typewriters b...</td>\n",
              "      <td>14.6200</td>\n",
              "      <td>2</td>\n",
              "      <td>0.00</td>\n",
              "      <td>6.8714</td>\n",
              "      <td>7.7486</td>\n",
              "      <td>88.679245</td>\n",
              "      <td>4</td>\n",
              "      <td>2016</td>\n",
              "      <td>6</td>\n",
              "      <td>Summer</td>\n",
              "    </tr>\n",
              "    <tr>\n",
              "      <th>3</th>\n",
              "      <td>Bretford CR4500 Series Slim Rectangular Table</td>\n",
              "      <td>957.5775</td>\n",
              "      <td>5</td>\n",
              "      <td>0.45</td>\n",
              "      <td>-383.0310</td>\n",
              "      <td>1340.6085</td>\n",
              "      <td>-28.571429</td>\n",
              "      <td>7</td>\n",
              "      <td>2015</td>\n",
              "      <td>10</td>\n",
              "      <td>Fall</td>\n",
              "    </tr>\n",
              "    <tr>\n",
              "      <th>4</th>\n",
              "      <td>Eldon Fold 'N Roll Cart System</td>\n",
              "      <td>22.3680</td>\n",
              "      <td>2</td>\n",
              "      <td>0.20</td>\n",
              "      <td>2.5164</td>\n",
              "      <td>19.8516</td>\n",
              "      <td>12.676056</td>\n",
              "      <td>7</td>\n",
              "      <td>2015</td>\n",
              "      <td>10</td>\n",
              "      <td>Fall</td>\n",
              "    </tr>\n",
              "  </tbody>\n",
              "</table>\n",
              "</div>"
            ],
            "text/plain": [
              "                                        Product Name  ...  Season\n",
              "0                  Bush Somerset Collection Bookcase  ...    Fall\n",
              "1  Hon Deluxe Fabric Upholstered Stacking Chairs,...  ...    Fall\n",
              "2  Self-Adhesive Address Labels for Typewriters b...  ...  Summer\n",
              "3      Bretford CR4500 Series Slim Rectangular Table  ...    Fall\n",
              "4                     Eldon Fold 'N Roll Cart System  ...    Fall\n",
              "\n",
              "[5 rows x 11 columns]"
            ]
          },
          "metadata": {
            "tags": []
          },
          "execution_count": 173
        }
      ]
    },
    {
      "cell_type": "code",
      "metadata": {
        "id": "Wznwo0MofUpa",
        "colab_type": "code",
        "colab": {
          "base_uri": "https://localhost:8080/",
          "height": 547
        },
        "outputId": "f1b1ef78-4b4b-46b5-98d9-689cc572a111"
      },
      "source": [
        "df['Season'] = df['Order Month'].apply(season)\n",
        "df.head()"
      ],
      "execution_count": 169,
      "outputs": [
        {
          "output_type": "execute_result",
          "data": {
            "text/html": [
              "<div>\n",
              "<style scoped>\n",
              "    .dataframe tbody tr th:only-of-type {\n",
              "        vertical-align: middle;\n",
              "    }\n",
              "\n",
              "    .dataframe tbody tr th {\n",
              "        vertical-align: top;\n",
              "    }\n",
              "\n",
              "    .dataframe thead th {\n",
              "        text-align: right;\n",
              "    }\n",
              "</style>\n",
              "<table border=\"1\" class=\"dataframe\">\n",
              "  <thead>\n",
              "    <tr style=\"text-align: right;\">\n",
              "      <th></th>\n",
              "      <th>Order ID</th>\n",
              "      <th>Order Date</th>\n",
              "      <th>Ship Date</th>\n",
              "      <th>Ship Mode</th>\n",
              "      <th>Customer ID</th>\n",
              "      <th>Customer Name</th>\n",
              "      <th>Segment</th>\n",
              "      <th>City</th>\n",
              "      <th>State</th>\n",
              "      <th>Postal Code</th>\n",
              "      <th>Region</th>\n",
              "      <th>Product ID</th>\n",
              "      <th>Category</th>\n",
              "      <th>Sub-Category</th>\n",
              "      <th>Product Name</th>\n",
              "      <th>Sales</th>\n",
              "      <th>Quantity</th>\n",
              "      <th>Discount</th>\n",
              "      <th>Profit</th>\n",
              "      <th>Cost</th>\n",
              "      <th>% Profit</th>\n",
              "      <th>Shipment Duration</th>\n",
              "      <th>Order Year</th>\n",
              "      <th>Order Month</th>\n",
              "      <th>Season</th>\n",
              "    </tr>\n",
              "  </thead>\n",
              "  <tbody>\n",
              "    <tr>\n",
              "      <th>0</th>\n",
              "      <td>CA-2016-152156</td>\n",
              "      <td>2016-11-08</td>\n",
              "      <td>2016-11-11</td>\n",
              "      <td>Second Class</td>\n",
              "      <td>CG-12520</td>\n",
              "      <td>Claire Gute</td>\n",
              "      <td>Consumer</td>\n",
              "      <td>Henderson</td>\n",
              "      <td>Kentucky</td>\n",
              "      <td>42420</td>\n",
              "      <td>South</td>\n",
              "      <td>FUR-BO-10001798</td>\n",
              "      <td>Furniture</td>\n",
              "      <td>Bookcases</td>\n",
              "      <td>Bush Somerset Collection Bookcase</td>\n",
              "      <td>261.9600</td>\n",
              "      <td>2</td>\n",
              "      <td>0.00</td>\n",
              "      <td>41.9136</td>\n",
              "      <td>220.0464</td>\n",
              "      <td>19.047619</td>\n",
              "      <td>3</td>\n",
              "      <td>2016</td>\n",
              "      <td>11</td>\n",
              "      <td>Fall</td>\n",
              "    </tr>\n",
              "    <tr>\n",
              "      <th>1</th>\n",
              "      <td>CA-2016-152156</td>\n",
              "      <td>2016-11-08</td>\n",
              "      <td>2016-11-11</td>\n",
              "      <td>Second Class</td>\n",
              "      <td>CG-12520</td>\n",
              "      <td>Claire Gute</td>\n",
              "      <td>Consumer</td>\n",
              "      <td>Henderson</td>\n",
              "      <td>Kentucky</td>\n",
              "      <td>42420</td>\n",
              "      <td>South</td>\n",
              "      <td>FUR-CH-10000454</td>\n",
              "      <td>Furniture</td>\n",
              "      <td>Chairs</td>\n",
              "      <td>Hon Deluxe Fabric Upholstered Stacking Chairs,...</td>\n",
              "      <td>731.9400</td>\n",
              "      <td>3</td>\n",
              "      <td>0.00</td>\n",
              "      <td>219.5820</td>\n",
              "      <td>512.3580</td>\n",
              "      <td>42.857143</td>\n",
              "      <td>3</td>\n",
              "      <td>2016</td>\n",
              "      <td>11</td>\n",
              "      <td>Fall</td>\n",
              "    </tr>\n",
              "    <tr>\n",
              "      <th>2</th>\n",
              "      <td>CA-2016-138688</td>\n",
              "      <td>2016-06-12</td>\n",
              "      <td>2016-06-16</td>\n",
              "      <td>Second Class</td>\n",
              "      <td>DV-13045</td>\n",
              "      <td>Darrin Van Huff</td>\n",
              "      <td>Corporate</td>\n",
              "      <td>Los Angeles</td>\n",
              "      <td>California</td>\n",
              "      <td>90036</td>\n",
              "      <td>West</td>\n",
              "      <td>OFF-LA-10000240</td>\n",
              "      <td>Office Supplies</td>\n",
              "      <td>Labels</td>\n",
              "      <td>Self-Adhesive Address Labels for Typewriters b...</td>\n",
              "      <td>14.6200</td>\n",
              "      <td>2</td>\n",
              "      <td>0.00</td>\n",
              "      <td>6.8714</td>\n",
              "      <td>7.7486</td>\n",
              "      <td>88.679245</td>\n",
              "      <td>4</td>\n",
              "      <td>2016</td>\n",
              "      <td>6</td>\n",
              "      <td>Summer</td>\n",
              "    </tr>\n",
              "    <tr>\n",
              "      <th>3</th>\n",
              "      <td>US-2015-108966</td>\n",
              "      <td>2015-10-11</td>\n",
              "      <td>2015-10-18</td>\n",
              "      <td>Standard Class</td>\n",
              "      <td>SO-20335</td>\n",
              "      <td>Sean O'Donnell</td>\n",
              "      <td>Consumer</td>\n",
              "      <td>Fort Lauderdale</td>\n",
              "      <td>Florida</td>\n",
              "      <td>33311</td>\n",
              "      <td>South</td>\n",
              "      <td>FUR-TA-10000577</td>\n",
              "      <td>Furniture</td>\n",
              "      <td>Tables</td>\n",
              "      <td>Bretford CR4500 Series Slim Rectangular Table</td>\n",
              "      <td>957.5775</td>\n",
              "      <td>5</td>\n",
              "      <td>0.45</td>\n",
              "      <td>-383.0310</td>\n",
              "      <td>1340.6085</td>\n",
              "      <td>-28.571429</td>\n",
              "      <td>7</td>\n",
              "      <td>2015</td>\n",
              "      <td>10</td>\n",
              "      <td>Fall</td>\n",
              "    </tr>\n",
              "    <tr>\n",
              "      <th>4</th>\n",
              "      <td>US-2015-108966</td>\n",
              "      <td>2015-10-11</td>\n",
              "      <td>2015-10-18</td>\n",
              "      <td>Standard Class</td>\n",
              "      <td>SO-20335</td>\n",
              "      <td>Sean O'Donnell</td>\n",
              "      <td>Consumer</td>\n",
              "      <td>Fort Lauderdale</td>\n",
              "      <td>Florida</td>\n",
              "      <td>33311</td>\n",
              "      <td>South</td>\n",
              "      <td>OFF-ST-10000760</td>\n",
              "      <td>Office Supplies</td>\n",
              "      <td>Storage</td>\n",
              "      <td>Eldon Fold 'N Roll Cart System</td>\n",
              "      <td>22.3680</td>\n",
              "      <td>2</td>\n",
              "      <td>0.20</td>\n",
              "      <td>2.5164</td>\n",
              "      <td>19.8516</td>\n",
              "      <td>12.676056</td>\n",
              "      <td>7</td>\n",
              "      <td>2015</td>\n",
              "      <td>10</td>\n",
              "      <td>Fall</td>\n",
              "    </tr>\n",
              "  </tbody>\n",
              "</table>\n",
              "</div>"
            ],
            "text/plain": [
              "         Order ID Order Date  Ship Date  ... Order Year Order Month  Season\n",
              "0  CA-2016-152156 2016-11-08 2016-11-11  ...       2016          11    Fall\n",
              "1  CA-2016-152156 2016-11-08 2016-11-11  ...       2016          11    Fall\n",
              "2  CA-2016-138688 2016-06-12 2016-06-16  ...       2016           6  Summer\n",
              "3  US-2015-108966 2015-10-11 2015-10-18  ...       2015          10    Fall\n",
              "4  US-2015-108966 2015-10-11 2015-10-18  ...       2015          10    Fall\n",
              "\n",
              "[5 rows x 25 columns]"
            ]
          },
          "metadata": {
            "tags": []
          },
          "execution_count": 169
        }
      ]
    },
    {
      "cell_type": "code",
      "metadata": {
        "id": "ql4k67_gfUpg",
        "colab_type": "code",
        "colab": {
          "base_uri": "https://localhost:8080/",
          "height": 561
        },
        "outputId": "fea01274-d294-44d8-d13a-6bc932e75b37"
      },
      "source": [
        "df.info()"
      ],
      "execution_count": 170,
      "outputs": [
        {
          "output_type": "stream",
          "text": [
            "<class 'pandas.core.frame.DataFrame'>\n",
            "RangeIndex: 9994 entries, 0 to 9993\n",
            "Data columns (total 25 columns):\n",
            " #   Column             Non-Null Count  Dtype         \n",
            "---  ------             --------------  -----         \n",
            " 0   Order ID           9994 non-null   object        \n",
            " 1   Order Date         9994 non-null   datetime64[ns]\n",
            " 2   Ship Date          9994 non-null   datetime64[ns]\n",
            " 3   Ship Mode          9994 non-null   object        \n",
            " 4   Customer ID        9994 non-null   object        \n",
            " 5   Customer Name      9994 non-null   object        \n",
            " 6   Segment            9994 non-null   object        \n",
            " 7   City               9994 non-null   object        \n",
            " 8   State              9994 non-null   object        \n",
            " 9   Postal Code        9994 non-null   int64         \n",
            " 10  Region             9994 non-null   object        \n",
            " 11  Product ID         9994 non-null   object        \n",
            " 12  Category           9994 non-null   object        \n",
            " 13  Sub-Category       9994 non-null   object        \n",
            " 14  Product Name       9994 non-null   object        \n",
            " 15  Sales              9994 non-null   float64       \n",
            " 16  Quantity           9994 non-null   int64         \n",
            " 17  Discount           9994 non-null   float64       \n",
            " 18  Profit             9994 non-null   float64       \n",
            " 19  Cost               9994 non-null   float64       \n",
            " 20  % Profit           9994 non-null   float64       \n",
            " 21  Shipment Duration  9994 non-null   int64         \n",
            " 22  Order Year         9994 non-null   int64         \n",
            " 23  Order Month        9994 non-null   int64         \n",
            " 24  Season             9994 non-null   object        \n",
            "dtypes: datetime64[ns](2), float64(5), int64(5), object(13)\n",
            "memory usage: 1.9+ MB\n"
          ],
          "name": "stdout"
        }
      ]
    },
    {
      "cell_type": "code",
      "metadata": {
        "id": "8jZwF7RCzqgb",
        "colab_type": "code",
        "colab": {
          "base_uri": "https://localhost:8080/",
          "height": 34
        },
        "outputId": "d6fe11e4-0f06-4ee6-8bfa-81470ba87e20"
      },
      "source": [
        "print(f'Setelah Data Preprocess, dataset memiliki {df.shape[0]} baris dan {df.shape[1]} kolom')"
      ],
      "execution_count": 171,
      "outputs": [
        {
          "output_type": "stream",
          "text": [
            "Setelah Data Preprocess, dataset memiliki 9994 baris dan 25 kolom\n"
          ],
          "name": "stdout"
        }
      ]
    },
    {
      "cell_type": "markdown",
      "metadata": {
        "id": "11lHdoRV__Mk",
        "colab_type": "text"
      },
      "source": [
        "Berikutnya kita akan melihat persentase profit dari 5 produk"
      ]
    },
    {
      "cell_type": "code",
      "metadata": {
        "id": "lrF9G24H0npw",
        "colab_type": "code",
        "colab": {
          "base_uri": "https://localhost:8080/",
          "height": 204
        },
        "outputId": "7e8dbb4d-2229-48cb-f6b9-c4494a737bfa"
      },
      "source": [
        "df.iloc[[0,1,2,3,4], [14,20]]"
      ],
      "execution_count": 176,
      "outputs": [
        {
          "output_type": "execute_result",
          "data": {
            "text/html": [
              "<div>\n",
              "<style scoped>\n",
              "    .dataframe tbody tr th:only-of-type {\n",
              "        vertical-align: middle;\n",
              "    }\n",
              "\n",
              "    .dataframe tbody tr th {\n",
              "        vertical-align: top;\n",
              "    }\n",
              "\n",
              "    .dataframe thead th {\n",
              "        text-align: right;\n",
              "    }\n",
              "</style>\n",
              "<table border=\"1\" class=\"dataframe\">\n",
              "  <thead>\n",
              "    <tr style=\"text-align: right;\">\n",
              "      <th></th>\n",
              "      <th>Product Name</th>\n",
              "      <th>% Profit</th>\n",
              "    </tr>\n",
              "  </thead>\n",
              "  <tbody>\n",
              "    <tr>\n",
              "      <th>0</th>\n",
              "      <td>Bush Somerset Collection Bookcase</td>\n",
              "      <td>19.047619</td>\n",
              "    </tr>\n",
              "    <tr>\n",
              "      <th>1</th>\n",
              "      <td>Hon Deluxe Fabric Upholstered Stacking Chairs,...</td>\n",
              "      <td>42.857143</td>\n",
              "    </tr>\n",
              "    <tr>\n",
              "      <th>2</th>\n",
              "      <td>Self-Adhesive Address Labels for Typewriters b...</td>\n",
              "      <td>88.679245</td>\n",
              "    </tr>\n",
              "    <tr>\n",
              "      <th>3</th>\n",
              "      <td>Bretford CR4500 Series Slim Rectangular Table</td>\n",
              "      <td>-28.571429</td>\n",
              "    </tr>\n",
              "    <tr>\n",
              "      <th>4</th>\n",
              "      <td>Eldon Fold 'N Roll Cart System</td>\n",
              "      <td>12.676056</td>\n",
              "    </tr>\n",
              "  </tbody>\n",
              "</table>\n",
              "</div>"
            ],
            "text/plain": [
              "                                        Product Name   % Profit\n",
              "0                  Bush Somerset Collection Bookcase  19.047619\n",
              "1  Hon Deluxe Fabric Upholstered Stacking Chairs,...  42.857143\n",
              "2  Self-Adhesive Address Labels for Typewriters b...  88.679245\n",
              "3      Bretford CR4500 Series Slim Rectangular Table -28.571429\n",
              "4                     Eldon Fold 'N Roll Cart System  12.676056"
            ]
          },
          "metadata": {
            "tags": []
          },
          "execution_count": 176
        }
      ]
    },
    {
      "cell_type": "markdown",
      "metadata": {
        "id": "EH-tT5pEC2WI",
        "colab_type": "text"
      },
      "source": [
        "Berikutnya kita akan melihat Sub-Category yang mendapatkan persentasi profit 100%"
      ]
    },
    {
      "cell_type": "code",
      "metadata": {
        "id": "SLhyy_EaAKwt",
        "colab_type": "code",
        "colab": {
          "base_uri": "https://localhost:8080/",
          "height": 419
        },
        "outputId": "9a69e687-4a47-4c1b-cf34-d39a9125cc5a"
      },
      "source": [
        "df1 = df.sort_values(['% Profit', 'Product Name'], ascending=False)\n",
        "pd.set_option('display.max_rows', 50)\n",
        "df1.groupby('% Profit')['Sub-Category', '% Profit'].head()"
      ],
      "execution_count": 194,
      "outputs": [
        {
          "output_type": "execute_result",
          "data": {
            "text/html": [
              "<div>\n",
              "<style scoped>\n",
              "    .dataframe tbody tr th:only-of-type {\n",
              "        vertical-align: middle;\n",
              "    }\n",
              "\n",
              "    .dataframe tbody tr th {\n",
              "        vertical-align: top;\n",
              "    }\n",
              "\n",
              "    .dataframe thead th {\n",
              "        text-align: right;\n",
              "    }\n",
              "</style>\n",
              "<table border=\"1\" class=\"dataframe\">\n",
              "  <thead>\n",
              "    <tr style=\"text-align: right;\">\n",
              "      <th></th>\n",
              "      <th>Sub-Category</th>\n",
              "      <th>% Profit</th>\n",
              "    </tr>\n",
              "  </thead>\n",
              "  <tbody>\n",
              "    <tr>\n",
              "      <th>1696</th>\n",
              "      <td>Phones</td>\n",
              "      <td>100.000000</td>\n",
              "    </tr>\n",
              "    <tr>\n",
              "      <th>4611</th>\n",
              "      <td>Binders</td>\n",
              "      <td>100.000000</td>\n",
              "    </tr>\n",
              "    <tr>\n",
              "      <th>3984</th>\n",
              "      <td>Paper</td>\n",
              "      <td>100.000000</td>\n",
              "    </tr>\n",
              "    <tr>\n",
              "      <th>4651</th>\n",
              "      <td>Paper</td>\n",
              "      <td>100.000000</td>\n",
              "    </tr>\n",
              "    <tr>\n",
              "      <th>6600</th>\n",
              "      <td>Paper</td>\n",
              "      <td>100.000000</td>\n",
              "    </tr>\n",
              "    <tr>\n",
              "      <th>...</th>\n",
              "      <td>...</td>\n",
              "      <td>...</td>\n",
              "    </tr>\n",
              "    <tr>\n",
              "      <th>8916</th>\n",
              "      <td>Appliances</td>\n",
              "      <td>-72.972973</td>\n",
              "    </tr>\n",
              "    <tr>\n",
              "      <th>8766</th>\n",
              "      <td>Appliances</td>\n",
              "      <td>-73.333333</td>\n",
              "    </tr>\n",
              "    <tr>\n",
              "      <th>676</th>\n",
              "      <td>Appliances</td>\n",
              "      <td>-73.333333</td>\n",
              "    </tr>\n",
              "    <tr>\n",
              "      <th>261</th>\n",
              "      <td>Appliances</td>\n",
              "      <td>-73.333333</td>\n",
              "    </tr>\n",
              "    <tr>\n",
              "      <th>9164</th>\n",
              "      <td>Appliances</td>\n",
              "      <td>-73.333333</td>\n",
              "    </tr>\n",
              "  </tbody>\n",
              "</table>\n",
              "<p>3461 rows × 2 columns</p>\n",
              "</div>"
            ],
            "text/plain": [
              "     Sub-Category    % Profit\n",
              "1696       Phones  100.000000\n",
              "4611      Binders  100.000000\n",
              "3984        Paper  100.000000\n",
              "4651        Paper  100.000000\n",
              "6600        Paper  100.000000\n",
              "...           ...         ...\n",
              "8916   Appliances  -72.972973\n",
              "8766   Appliances  -73.333333\n",
              "676    Appliances  -73.333333\n",
              "261    Appliances  -73.333333\n",
              "9164   Appliances  -73.333333\n",
              "\n",
              "[3461 rows x 2 columns]"
            ]
          },
          "metadata": {
            "tags": []
          },
          "execution_count": 194
        }
      ]
    },
    {
      "cell_type": "code",
      "metadata": {
        "id": "HBuGIiRjAi9P",
        "colab_type": "code",
        "colab": {
          "base_uri": "https://localhost:8080/",
          "height": 204
        },
        "outputId": "d6475a6c-ccb5-4b1e-be8d-7c3125d920ef"
      },
      "source": [
        "df['Sub-Category'][df['% Profit']==100.000000].value_counts()"
      ],
      "execution_count": 197,
      "outputs": [
        {
          "output_type": "execute_result",
          "data": {
            "text/plain": [
              "Binders        45\n",
              "Paper          31\n",
              "Envelopes      20\n",
              "Labels         16\n",
              "Fasteners      11\n",
              "Art             5\n",
              "Furnishings     5\n",
              "Phones          3\n",
              "Machines        2\n",
              "Copiers         2\n",
              "Name: Sub-Category, dtype: int64"
            ]
          },
          "metadata": {
            "tags": []
          },
          "execution_count": 197
        }
      ]
    },
    {
      "cell_type": "markdown",
      "metadata": {
        "id": "gHCv4Ib4C3Xn",
        "colab_type": "text"
      },
      "source": [
        "Terlihat bahwa Sub-Category binders, paper, envelopes, labels, fasteners, art, furnishings, phones, machines, dan copiers pernah mendapat persentase profit sebesar 100% dengan sub-category binders merupakan sub-category yang paling sering mendapatkan persentase profit 100%"
      ]
    },
    {
      "cell_type": "markdown",
      "metadata": {
        "id": "72WTx8GJDx1P",
        "colab_type": "text"
      },
      "source": [
        "Berikutnya kita akan melihat distribusi per segmennya"
      ]
    },
    {
      "cell_type": "code",
      "metadata": {
        "id": "gJ-fOfg2CVJf",
        "colab_type": "code",
        "colab": {
          "base_uri": "https://localhost:8080/",
          "height": 85
        },
        "outputId": "99f56e43-1cb8-4b17-f00f-305eb6ff6a23"
      },
      "source": [
        "segmen = df['Segment'].value_counts()\n",
        "segmen"
      ],
      "execution_count": 200,
      "outputs": [
        {
          "output_type": "execute_result",
          "data": {
            "text/plain": [
              "Consumer       5191\n",
              "Corporate      3020\n",
              "Home Office    1783\n",
              "Name: Segment, dtype: int64"
            ]
          },
          "metadata": {
            "tags": []
          },
          "execution_count": 200
        }
      ]
    },
    {
      "cell_type": "code",
      "metadata": {
        "id": "AstoOtyQDRpv",
        "colab_type": "code",
        "colab": {
          "base_uri": "https://localhost:8080/",
          "height": 515
        },
        "outputId": "25a1da5f-35cf-45a6-e58c-9926618b4cfe"
      },
      "source": [
        "plt.figure(figsize=(10, 8))\n",
        "ax = sns.barplot(x=segmen[:].index, y=segmen[:].values, palette='winter')\n",
        "ax.set_title(label='Distribusi per Segmen', fontsize=15)\n",
        "ax.set_xlabel(xlabel='Segmen', fontsize=10)\n",
        "plt.show()"
      ],
      "execution_count": 201,
      "outputs": [
        {
          "output_type": "display_data",
          "data": {
            "image/png": "[encoded data removed]",
            "text/plain": [
              "<Figure size 720x576 with 1 Axes>"
            ]
          },
          "metadata": {
            "tags": [],
            "needs_background": "light"
          }
        }
      ]
    },
    {
      "cell_type": "markdown",
      "metadata": {
        "id": "rL4n9y0KDtpT",
        "colab_type": "text"
      },
      "source": [
        "Terlihat bahwa distribusi tertinggi ada di segmen Consumer"
      ]
    },
    {
      "cell_type": "markdown",
      "metadata": {
        "id": "u054NnmWEHSv",
        "colab_type": "text"
      },
      "source": [
        "Berikutnya kita akan melihat siapakah pelanggan yang memberikan profit terbesar bagi toko dan berasal dari state manakah pelanggan tersebut"
      ]
    },
    {
      "cell_type": "code",
      "metadata": {
        "id": "4NlGq7hADsIO",
        "colab_type": "code",
        "colab": {
          "base_uri": "https://localhost:8080/",
          "height": 1000
        },
        "outputId": "9918b36f-b134-4544-a463-f9a250129545"
      },
      "source": [
        "Top_20_Customer = df.sort_values(['Profit'], ascending=False).head(20)\n",
        "Top_20_Customer"
      ],
      "execution_count": 202,
      "outputs": [
        {
          "output_type": "execute_result",
          "data": {
            "text/html": [
              "<div>\n",
              "<style scoped>\n",
              "    .dataframe tbody tr th:only-of-type {\n",
              "        vertical-align: middle;\n",
              "    }\n",
              "\n",
              "    .dataframe tbody tr th {\n",
              "        vertical-align: top;\n",
              "    }\n",
              "\n",
              "    .dataframe thead th {\n",
              "        text-align: right;\n",
              "    }\n",
              "</style>\n",
              "<table border=\"1\" class=\"dataframe\">\n",
              "  <thead>\n",
              "    <tr style=\"text-align: right;\">\n",
              "      <th></th>\n",
              "      <th>Order ID</th>\n",
              "      <th>Order Date</th>\n",
              "      <th>Ship Date</th>\n",
              "      <th>Ship Mode</th>\n",
              "      <th>Customer ID</th>\n",
              "      <th>Customer Name</th>\n",
              "      <th>Segment</th>\n",
              "      <th>City</th>\n",
              "      <th>State</th>\n",
              "      <th>Postal Code</th>\n",
              "      <th>Region</th>\n",
              "      <th>Product ID</th>\n",
              "      <th>Category</th>\n",
              "      <th>Sub-Category</th>\n",
              "      <th>Product Name</th>\n",
              "      <th>Sales</th>\n",
              "      <th>Quantity</th>\n",
              "      <th>Discount</th>\n",
              "      <th>Profit</th>\n",
              "      <th>Cost</th>\n",
              "      <th>% Profit</th>\n",
              "      <th>Shipment Duration</th>\n",
              "      <th>Order Year</th>\n",
              "      <th>Order Month</th>\n",
              "      <th>Season</th>\n",
              "    </tr>\n",
              "  </thead>\n",
              "  <tbody>\n",
              "    <tr>\n",
              "      <th>6826</th>\n",
              "      <td>CA-2016-118689</td>\n",
              "      <td>2016-10-02</td>\n",
              "      <td>2016-10-09</td>\n",
              "      <td>Standard Class</td>\n",
              "      <td>TC-20980</td>\n",
              "      <td>Tamara Chand</td>\n",
              "      <td>Corporate</td>\n",
              "      <td>Lafayette</td>\n",
              "      <td>Indiana</td>\n",
              "      <td>47905</td>\n",
              "      <td>Central</td>\n",
              "      <td>TEC-CO-10004722</td>\n",
              "      <td>Technology</td>\n",
              "      <td>Copiers</td>\n",
              "      <td>Canon imageCLASS 2200 Advanced Copier</td>\n",
              "      <td>17499.950</td>\n",
              "      <td>5</td>\n",
              "      <td>0.0</td>\n",
              "      <td>8399.9760</td>\n",
              "      <td>9099.9740</td>\n",
              "      <td>92.307692</td>\n",
              "      <td>7</td>\n",
              "      <td>2016</td>\n",
              "      <td>10</td>\n",
              "      <td>Fall</td>\n",
              "    </tr>\n",
              "    <tr>\n",
              "      <th>8153</th>\n",
              "      <td>CA-2017-140151</td>\n",
              "      <td>2017-03-23</td>\n",
              "      <td>2017-03-25</td>\n",
              "      <td>First Class</td>\n",
              "      <td>RB-19360</td>\n",
              "      <td>Raymond Buch</td>\n",
              "      <td>Consumer</td>\n",
              "      <td>Seattle</td>\n",
              "      <td>Washington</td>\n",
              "      <td>98115</td>\n",
              "      <td>West</td>\n",
              "      <td>TEC-CO-10004722</td>\n",
              "      <td>Technology</td>\n",
              "      <td>Copiers</td>\n",
              "      <td>Canon imageCLASS 2200 Advanced Copier</td>\n",
              "      <td>13999.960</td>\n",
              "      <td>4</td>\n",
              "      <td>0.0</td>\n",
              "      <td>6719.9808</td>\n",
              "      <td>7279.9792</td>\n",
              "      <td>92.307692</td>\n",
              "      <td>2</td>\n",
              "      <td>2017</td>\n",
              "      <td>3</td>\n",
              "      <td>Spring</td>\n",
              "    </tr>\n",
              "    <tr>\n",
              "      <th>4190</th>\n",
              "      <td>CA-2017-166709</td>\n",
              "      <td>2017-11-17</td>\n",
              "      <td>2017-11-22</td>\n",
              "      <td>Standard Class</td>\n",
              "      <td>HL-15040</td>\n",
              "      <td>Hunter Lopez</td>\n",
              "      <td>Consumer</td>\n",
              "      <td>Newark</td>\n",
              "      <td>Delaware</td>\n",
              "      <td>19711</td>\n",
              "      <td>East</td>\n",
              "      <td>TEC-CO-10004722</td>\n",
              "      <td>Technology</td>\n",
              "      <td>Copiers</td>\n",
              "      <td>Canon imageCLASS 2200 Advanced Copier</td>\n",
              "      <td>10499.970</td>\n",
              "      <td>3</td>\n",
              "      <td>0.0</td>\n",
              "      <td>5039.9856</td>\n",
              "      <td>5459.9844</td>\n",
              "      <td>92.307692</td>\n",
              "      <td>5</td>\n",
              "      <td>2017</td>\n",
              "      <td>11</td>\n",
              "      <td>Fall</td>\n",
              "    </tr>\n",
              "    <tr>\n",
              "      <th>9039</th>\n",
              "      <td>CA-2016-117121</td>\n",
              "      <td>2016-12-17</td>\n",
              "      <td>2016-12-21</td>\n",
              "      <td>Standard Class</td>\n",
              "      <td>AB-10105</td>\n",
              "      <td>Adrian Barton</td>\n",
              "      <td>Consumer</td>\n",
              "      <td>Detroit</td>\n",
              "      <td>Michigan</td>\n",
              "      <td>48205</td>\n",
              "      <td>Central</td>\n",
              "      <td>OFF-BI-10000545</td>\n",
              "      <td>Office Supplies</td>\n",
              "      <td>Binders</td>\n",
              "      <td>GBC Ibimaster 500 Manual ProClick Binding System</td>\n",
              "      <td>9892.740</td>\n",
              "      <td>13</td>\n",
              "      <td>0.0</td>\n",
              "      <td>4946.3700</td>\n",
              "      <td>4946.3700</td>\n",
              "      <td>100.000000</td>\n",
              "      <td>4</td>\n",
              "      <td>2016</td>\n",
              "      <td>12</td>\n",
              "      <td>Winter</td>\n",
              "    </tr>\n",
              "    <tr>\n",
              "      <th>4098</th>\n",
              "      <td>CA-2014-116904</td>\n",
              "      <td>2014-09-23</td>\n",
              "      <td>2014-09-28</td>\n",
              "      <td>Standard Class</td>\n",
              "      <td>SC-20095</td>\n",
              "      <td>Sanjit Chand</td>\n",
              "      <td>Consumer</td>\n",
              "      <td>Minneapolis</td>\n",
              "      <td>Minnesota</td>\n",
              "      <td>55407</td>\n",
              "      <td>Central</td>\n",
              "      <td>OFF-BI-10001120</td>\n",
              "      <td>Office Supplies</td>\n",
              "      <td>Binders</td>\n",
              "      <td>Ibico EPK-21 Electric Binding System</td>\n",
              "      <td>9449.950</td>\n",
              "      <td>5</td>\n",
              "      <td>0.0</td>\n",
              "      <td>4630.4755</td>\n",
              "      <td>4819.4745</td>\n",
              "      <td>96.078431</td>\n",
              "      <td>5</td>\n",
              "      <td>2014</td>\n",
              "      <td>9</td>\n",
              "      <td>Fall</td>\n",
              "    </tr>\n",
              "    <tr>\n",
              "      <th>2623</th>\n",
              "      <td>CA-2017-127180</td>\n",
              "      <td>2017-10-22</td>\n",
              "      <td>2017-10-24</td>\n",
              "      <td>First Class</td>\n",
              "      <td>TA-21385</td>\n",
              "      <td>Tom Ashbrook</td>\n",
              "      <td>Home Office</td>\n",
              "      <td>New York City</td>\n",
              "      <td>New York</td>\n",
              "      <td>10024</td>\n",
              "      <td>East</td>\n",
              "      <td>TEC-CO-10004722</td>\n",
              "      <td>Technology</td>\n",
              "      <td>Copiers</td>\n",
              "      <td>Canon imageCLASS 2200 Advanced Copier</td>\n",
              "      <td>11199.968</td>\n",
              "      <td>4</td>\n",
              "      <td>0.2</td>\n",
              "      <td>3919.9888</td>\n",
              "      <td>7279.9792</td>\n",
              "      <td>53.846154</td>\n",
              "      <td>2</td>\n",
              "      <td>2017</td>\n",
              "      <td>10</td>\n",
              "      <td>Fall</td>\n",
              "    </tr>\n",
              "    <tr>\n",
              "      <th>509</th>\n",
              "      <td>CA-2015-145352</td>\n",
              "      <td>2015-03-16</td>\n",
              "      <td>2015-03-22</td>\n",
              "      <td>Standard Class</td>\n",
              "      <td>CM-12385</td>\n",
              "      <td>Christopher Martinez</td>\n",
              "      <td>Consumer</td>\n",
              "      <td>Atlanta</td>\n",
              "      <td>Georgia</td>\n",
              "      <td>30318</td>\n",
              "      <td>South</td>\n",
              "      <td>OFF-BI-10003527</td>\n",
              "      <td>Office Supplies</td>\n",
              "      <td>Binders</td>\n",
              "      <td>Fellowes PB500 Electric Punch Plastic Comb Bin...</td>\n",
              "      <td>6354.950</td>\n",
              "      <td>5</td>\n",
              "      <td>0.0</td>\n",
              "      <td>3177.4750</td>\n",
              "      <td>3177.4750</td>\n",
              "      <td>100.000000</td>\n",
              "      <td>6</td>\n",
              "      <td>2015</td>\n",
              "      <td>3</td>\n",
              "      <td>Spring</td>\n",
              "    </tr>\n",
              "    <tr>\n",
              "      <th>8488</th>\n",
              "      <td>CA-2016-158841</td>\n",
              "      <td>2016-02-02</td>\n",
              "      <td>2016-02-04</td>\n",
              "      <td>Second Class</td>\n",
              "      <td>SE-20110</td>\n",
              "      <td>Sanjit Engle</td>\n",
              "      <td>Consumer</td>\n",
              "      <td>Arlington</td>\n",
              "      <td>Virginia</td>\n",
              "      <td>22204</td>\n",
              "      <td>South</td>\n",
              "      <td>TEC-MA-10001127</td>\n",
              "      <td>Technology</td>\n",
              "      <td>Machines</td>\n",
              "      <td>HP Designjet T520 Inkjet Large Format Printer ...</td>\n",
              "      <td>8749.950</td>\n",
              "      <td>5</td>\n",
              "      <td>0.0</td>\n",
              "      <td>2799.9840</td>\n",
              "      <td>5949.9660</td>\n",
              "      <td>47.058824</td>\n",
              "      <td>2</td>\n",
              "      <td>2016</td>\n",
              "      <td>2</td>\n",
              "      <td>Winter</td>\n",
              "    </tr>\n",
              "    <tr>\n",
              "      <th>7666</th>\n",
              "      <td>US-2016-140158</td>\n",
              "      <td>2016-10-04</td>\n",
              "      <td>2016-10-08</td>\n",
              "      <td>Standard Class</td>\n",
              "      <td>DR-12940</td>\n",
              "      <td>Daniel Raglin</td>\n",
              "      <td>Home Office</td>\n",
              "      <td>Providence</td>\n",
              "      <td>Rhode Island</td>\n",
              "      <td>2908</td>\n",
              "      <td>East</td>\n",
              "      <td>TEC-CO-10001449</td>\n",
              "      <td>Technology</td>\n",
              "      <td>Copiers</td>\n",
              "      <td>Hewlett Packard LaserJet 3310 Copier</td>\n",
              "      <td>5399.910</td>\n",
              "      <td>9</td>\n",
              "      <td>0.0</td>\n",
              "      <td>2591.9568</td>\n",
              "      <td>2807.9532</td>\n",
              "      <td>92.307692</td>\n",
              "      <td>4</td>\n",
              "      <td>2016</td>\n",
              "      <td>10</td>\n",
              "      <td>Fall</td>\n",
              "    </tr>\n",
              "    <tr>\n",
              "      <th>6520</th>\n",
              "      <td>CA-2017-138289</td>\n",
              "      <td>2017-01-16</td>\n",
              "      <td>2017-01-18</td>\n",
              "      <td>Second Class</td>\n",
              "      <td>AR-10540</td>\n",
              "      <td>Andy Reiter</td>\n",
              "      <td>Consumer</td>\n",
              "      <td>Jackson</td>\n",
              "      <td>Michigan</td>\n",
              "      <td>49201</td>\n",
              "      <td>Central</td>\n",
              "      <td>OFF-BI-10004995</td>\n",
              "      <td>Office Supplies</td>\n",
              "      <td>Binders</td>\n",
              "      <td>GBC DocuBind P400 Electric Binding System</td>\n",
              "      <td>5443.960</td>\n",
              "      <td>4</td>\n",
              "      <td>0.0</td>\n",
              "      <td>2504.2216</td>\n",
              "      <td>2939.7384</td>\n",
              "      <td>85.185185</td>\n",
              "      <td>2</td>\n",
              "      <td>2017</td>\n",
              "      <td>1</td>\n",
              "      <td>Winter</td>\n",
              "    </tr>\n",
              "    <tr>\n",
              "      <th>1085</th>\n",
              "      <td>US-2016-143819</td>\n",
              "      <td>2016-03-01</td>\n",
              "      <td>2016-03-05</td>\n",
              "      <td>Standard Class</td>\n",
              "      <td>KD-16270</td>\n",
              "      <td>Karen Daniels</td>\n",
              "      <td>Consumer</td>\n",
              "      <td>Yonkers</td>\n",
              "      <td>New York</td>\n",
              "      <td>10701</td>\n",
              "      <td>East</td>\n",
              "      <td>TEC-MA-10003979</td>\n",
              "      <td>Technology</td>\n",
              "      <td>Machines</td>\n",
              "      <td>Ativa V4110MDD Micro-Cut Shredder</td>\n",
              "      <td>4899.930</td>\n",
              "      <td>7</td>\n",
              "      <td>0.0</td>\n",
              "      <td>2400.9657</td>\n",
              "      <td>2498.9643</td>\n",
              "      <td>96.078431</td>\n",
              "      <td>4</td>\n",
              "      <td>2016</td>\n",
              "      <td>3</td>\n",
              "      <td>Spring</td>\n",
              "    </tr>\n",
              "    <tr>\n",
              "      <th>4277</th>\n",
              "      <td>US-2016-107440</td>\n",
              "      <td>2016-04-16</td>\n",
              "      <td>2016-04-20</td>\n",
              "      <td>Standard Class</td>\n",
              "      <td>BS-11365</td>\n",
              "      <td>Bill Shonely</td>\n",
              "      <td>Corporate</td>\n",
              "      <td>Lakewood</td>\n",
              "      <td>New Jersey</td>\n",
              "      <td>8701</td>\n",
              "      <td>East</td>\n",
              "      <td>TEC-MA-10001047</td>\n",
              "      <td>Technology</td>\n",
              "      <td>Machines</td>\n",
              "      <td>3D Systems Cube Printer, 2nd Generation, Magenta</td>\n",
              "      <td>9099.930</td>\n",
              "      <td>7</td>\n",
              "      <td>0.0</td>\n",
              "      <td>2365.9818</td>\n",
              "      <td>6733.9482</td>\n",
              "      <td>35.135135</td>\n",
              "      <td>4</td>\n",
              "      <td>2016</td>\n",
              "      <td>4</td>\n",
              "      <td>Spring</td>\n",
              "    </tr>\n",
              "    <tr>\n",
              "      <th>8990</th>\n",
              "      <td>US-2015-128587</td>\n",
              "      <td>2015-12-24</td>\n",
              "      <td>2015-12-30</td>\n",
              "      <td>Standard Class</td>\n",
              "      <td>HM-14860</td>\n",
              "      <td>Harry Marie</td>\n",
              "      <td>Corporate</td>\n",
              "      <td>Springfield</td>\n",
              "      <td>Missouri</td>\n",
              "      <td>65807</td>\n",
              "      <td>Central</td>\n",
              "      <td>TEC-CO-10003763</td>\n",
              "      <td>Technology</td>\n",
              "      <td>Copiers</td>\n",
              "      <td>Canon PC1060 Personal Laser Copier</td>\n",
              "      <td>4899.930</td>\n",
              "      <td>7</td>\n",
              "      <td>0.0</td>\n",
              "      <td>2302.9671</td>\n",
              "      <td>2596.9629</td>\n",
              "      <td>88.679245</td>\n",
              "      <td>6</td>\n",
              "      <td>2015</td>\n",
              "      <td>12</td>\n",
              "      <td>Winter</td>\n",
              "    </tr>\n",
              "    <tr>\n",
              "      <th>6626</th>\n",
              "      <td>CA-2014-145541</td>\n",
              "      <td>2014-12-14</td>\n",
              "      <td>2014-12-21</td>\n",
              "      <td>Standard Class</td>\n",
              "      <td>TB-21400</td>\n",
              "      <td>Tom Boeckenhauer</td>\n",
              "      <td>Consumer</td>\n",
              "      <td>New York City</td>\n",
              "      <td>New York</td>\n",
              "      <td>10024</td>\n",
              "      <td>East</td>\n",
              "      <td>TEC-MA-10001127</td>\n",
              "      <td>Technology</td>\n",
              "      <td>Machines</td>\n",
              "      <td>HP Designjet T520 Inkjet Large Format Printer ...</td>\n",
              "      <td>6999.960</td>\n",
              "      <td>4</td>\n",
              "      <td>0.0</td>\n",
              "      <td>2239.9872</td>\n",
              "      <td>4759.9728</td>\n",
              "      <td>47.058824</td>\n",
              "      <td>7</td>\n",
              "      <td>2014</td>\n",
              "      <td>12</td>\n",
              "      <td>Winter</td>\n",
              "    </tr>\n",
              "    <tr>\n",
              "      <th>8204</th>\n",
              "      <td>CA-2015-114811</td>\n",
              "      <td>2015-11-08</td>\n",
              "      <td>2015-11-08</td>\n",
              "      <td>Same Day</td>\n",
              "      <td>KD-16495</td>\n",
              "      <td>Keith Dawkins</td>\n",
              "      <td>Corporate</td>\n",
              "      <td>New York City</td>\n",
              "      <td>New York</td>\n",
              "      <td>10024</td>\n",
              "      <td>East</td>\n",
              "      <td>TEC-MA-10000045</td>\n",
              "      <td>Technology</td>\n",
              "      <td>Machines</td>\n",
              "      <td>Zebra ZM400 Thermal Label Printer</td>\n",
              "      <td>4643.800</td>\n",
              "      <td>4</td>\n",
              "      <td>0.0</td>\n",
              "      <td>2229.0240</td>\n",
              "      <td>2414.7760</td>\n",
              "      <td>92.307692</td>\n",
              "      <td>0</td>\n",
              "      <td>2015</td>\n",
              "      <td>11</td>\n",
              "      <td>Fall</td>\n",
              "    </tr>\n",
              "    <tr>\n",
              "      <th>318</th>\n",
              "      <td>CA-2014-164973</td>\n",
              "      <td>2014-11-04</td>\n",
              "      <td>2014-11-09</td>\n",
              "      <td>Standard Class</td>\n",
              "      <td>NM-18445</td>\n",
              "      <td>Nathan Mautz</td>\n",
              "      <td>Home Office</td>\n",
              "      <td>New York City</td>\n",
              "      <td>New York</td>\n",
              "      <td>10024</td>\n",
              "      <td>East</td>\n",
              "      <td>TEC-MA-10002927</td>\n",
              "      <td>Technology</td>\n",
              "      <td>Machines</td>\n",
              "      <td>Canon imageCLASS MF7460 Monochrome Digital Las...</td>\n",
              "      <td>3991.980</td>\n",
              "      <td>2</td>\n",
              "      <td>0.0</td>\n",
              "      <td>1995.9900</td>\n",
              "      <td>1995.9900</td>\n",
              "      <td>100.000000</td>\n",
              "      <td>5</td>\n",
              "      <td>2014</td>\n",
              "      <td>11</td>\n",
              "      <td>Fall</td>\n",
              "    </tr>\n",
              "    <tr>\n",
              "      <th>7683</th>\n",
              "      <td>CA-2015-120782</td>\n",
              "      <td>2015-04-28</td>\n",
              "      <td>2015-05-01</td>\n",
              "      <td>First Class</td>\n",
              "      <td>SD-20485</td>\n",
              "      <td>Shirley Daniels</td>\n",
              "      <td>Home Office</td>\n",
              "      <td>Midland</td>\n",
              "      <td>Michigan</td>\n",
              "      <td>48640</td>\n",
              "      <td>Central</td>\n",
              "      <td>OFF-BI-10003527</td>\n",
              "      <td>Office Supplies</td>\n",
              "      <td>Binders</td>\n",
              "      <td>Fellowes PB500 Electric Punch Plastic Comb Bin...</td>\n",
              "      <td>3812.970</td>\n",
              "      <td>3</td>\n",
              "      <td>0.0</td>\n",
              "      <td>1906.4850</td>\n",
              "      <td>1906.4850</td>\n",
              "      <td>100.000000</td>\n",
              "      <td>3</td>\n",
              "      <td>2015</td>\n",
              "      <td>4</td>\n",
              "      <td>Spring</td>\n",
              "    </tr>\n",
              "    <tr>\n",
              "      <th>8858</th>\n",
              "      <td>CA-2017-135909</td>\n",
              "      <td>2017-10-13</td>\n",
              "      <td>2017-10-20</td>\n",
              "      <td>Standard Class</td>\n",
              "      <td>JW-15220</td>\n",
              "      <td>Jane Waco</td>\n",
              "      <td>Corporate</td>\n",
              "      <td>Sacramento</td>\n",
              "      <td>California</td>\n",
              "      <td>95823</td>\n",
              "      <td>West</td>\n",
              "      <td>OFF-BI-10003527</td>\n",
              "      <td>Office Supplies</td>\n",
              "      <td>Binders</td>\n",
              "      <td>Fellowes PB500 Electric Punch Plastic Comb Bin...</td>\n",
              "      <td>5083.960</td>\n",
              "      <td>5</td>\n",
              "      <td>0.2</td>\n",
              "      <td>1906.4850</td>\n",
              "      <td>3177.4750</td>\n",
              "      <td>60.000000</td>\n",
              "      <td>7</td>\n",
              "      <td>2017</td>\n",
              "      <td>10</td>\n",
              "      <td>Fall</td>\n",
              "    </tr>\n",
              "    <tr>\n",
              "      <th>7914</th>\n",
              "      <td>CA-2017-165323</td>\n",
              "      <td>2017-06-17</td>\n",
              "      <td>2017-06-21</td>\n",
              "      <td>Standard Class</td>\n",
              "      <td>SR-20740</td>\n",
              "      <td>Steven Roelle</td>\n",
              "      <td>Home Office</td>\n",
              "      <td>New York City</td>\n",
              "      <td>New York</td>\n",
              "      <td>10024</td>\n",
              "      <td>East</td>\n",
              "      <td>TEC-MA-10003673</td>\n",
              "      <td>Technology</td>\n",
              "      <td>Machines</td>\n",
              "      <td>Hewlett-Packard Desktjet 6988DT Refurbished Pr...</td>\n",
              "      <td>3404.500</td>\n",
              "      <td>5</td>\n",
              "      <td>0.0</td>\n",
              "      <td>1668.2050</td>\n",
              "      <td>1736.2950</td>\n",
              "      <td>96.078431</td>\n",
              "      <td>4</td>\n",
              "      <td>2017</td>\n",
              "      <td>6</td>\n",
              "      <td>Summer</td>\n",
              "    </tr>\n",
              "    <tr>\n",
              "      <th>7818</th>\n",
              "      <td>CA-2016-138478</td>\n",
              "      <td>2016-10-21</td>\n",
              "      <td>2016-10-26</td>\n",
              "      <td>Second Class</td>\n",
              "      <td>DP-13390</td>\n",
              "      <td>Dennis Pardue</td>\n",
              "      <td>Home Office</td>\n",
              "      <td>North Las Vegas</td>\n",
              "      <td>Nevada</td>\n",
              "      <td>89031</td>\n",
              "      <td>West</td>\n",
              "      <td>OFF-BI-10001120</td>\n",
              "      <td>Office Supplies</td>\n",
              "      <td>Binders</td>\n",
              "      <td>Ibico EPK-21 Electric Binding System</td>\n",
              "      <td>4535.976</td>\n",
              "      <td>3</td>\n",
              "      <td>0.2</td>\n",
              "      <td>1644.2913</td>\n",
              "      <td>2891.6847</td>\n",
              "      <td>56.862745</td>\n",
              "      <td>5</td>\n",
              "      <td>2016</td>\n",
              "      <td>10</td>\n",
              "      <td>Fall</td>\n",
              "    </tr>\n",
              "  </tbody>\n",
              "</table>\n",
              "</div>"
            ],
            "text/plain": [
              "            Order ID Order Date  Ship Date  ... Order Year Order Month  Season\n",
              "6826  CA-2016-118689 2016-10-02 2016-10-09  ...       2016          10    Fall\n",
              "8153  CA-2017-140151 2017-03-23 2017-03-25  ...       2017           3  Spring\n",
              "4190  CA-2017-166709 2017-11-17 2017-11-22  ...       2017          11    Fall\n",
              "9039  CA-2016-117121 2016-12-17 2016-12-21  ...       2016          12  Winter\n",
              "4098  CA-2014-116904 2014-09-23 2014-09-28  ...       2014           9    Fall\n",
              "2623  CA-2017-127180 2017-10-22 2017-10-24  ...       2017          10    Fall\n",
              "509   CA-2015-145352 2015-03-16 2015-03-22  ...       2015           3  Spring\n",
              "8488  CA-2016-158841 2016-02-02 2016-02-04  ...       2016           2  Winter\n",
              "7666  US-2016-140158 2016-10-04 2016-10-08  ...       2016          10    Fall\n",
              "6520  CA-2017-138289 2017-01-16 2017-01-18  ...       2017           1  Winter\n",
              "1085  US-2016-143819 2016-03-01 2016-03-05  ...       2016           3  Spring\n",
              "4277  US-2016-107440 2016-04-16 2016-04-20  ...       2016           4  Spring\n",
              "8990  US-2015-128587 2015-12-24 2015-12-30  ...       2015          12  Winter\n",
              "6626  CA-2014-145541 2014-12-14 2014-12-21  ...       2014          12  Winter\n",
              "8204  CA-2015-114811 2015-11-08 2015-11-08  ...       2015          11    Fall\n",
              "318   CA-2014-164973 2014-11-04 2014-11-09  ...       2014          11    Fall\n",
              "7683  CA-2015-120782 2015-04-28 2015-05-01  ...       2015           4  Spring\n",
              "8858  CA-2017-135909 2017-10-13 2017-10-20  ...       2017          10    Fall\n",
              "7914  CA-2017-165323 2017-06-17 2017-06-21  ...       2017           6  Summer\n",
              "7818  CA-2016-138478 2016-10-21 2016-10-26  ...       2016          10    Fall\n",
              "\n",
              "[20 rows x 25 columns]"
            ]
          },
          "metadata": {
            "tags": []
          },
          "execution_count": 202
        }
      ]
    },
    {
      "cell_type": "code",
      "metadata": {
        "id": "keuk6hJpD8MO",
        "colab_type": "code",
        "colab": {
          "base_uri": "https://localhost:8080/",
          "height": 585
        },
        "outputId": "8e68228d-92ed-41a2-91ea-44f87e21c943"
      },
      "source": [
        "fig = plt.figure(figsize=(12, 8))\n",
        "yoi = sns.color_palette('Paired', n_colors=20, desat=1)\n",
        "sns.barplot(x='Customer Name', y='Profit', hue='State', palette=yoi, data=Top_20_Customer, dodge=False)\n",
        "plt.xticks(rotation=90)\n",
        "plt.title('Top 20 Profitable Customer')\n",
        "plt.tight_layout()\n",
        "#plt.savefig('G:\\Online Course\\Dataset\\CRP\\Top 20 Profitable Customer.png')\n",
        "plt.show()"
      ],
      "execution_count": 203,
      "outputs": [
        {
          "output_type": "display_data",
          "data": {
            "image/png": "[encoded data removed]",
            "text/plain": [
              "<Figure size 864x576 with 1 Axes>"
            ]
          },
          "metadata": {
            "tags": [],
            "needs_background": "light"
          }
        }
      ]
    },
    {
      "cell_type": "markdown",
      "metadata": {
        "id": "EY_VCW35EiYZ",
        "colab_type": "text"
      },
      "source": [
        "Customer atas nama Tamara Chand dari Indiana merupakan customer yang memberikan profit terbesar bagi superstore. Walaupun begitu, mayoritas pelanggan yang memberikan profit besar berasal dari New York."
      ]
    },
    {
      "cell_type": "markdown",
      "metadata": {
        "id": "d6CtYeEfFmip",
        "colab_type": "text"
      },
      "source": [
        "Berikutnya kita akan melihat total sales dan profit per tahunnya"
      ]
    },
    {
      "cell_type": "code",
      "metadata": {
        "id": "L6AoH7j9EAI7",
        "colab_type": "code",
        "colab": {
          "base_uri": "https://localhost:8080/",
          "height": 313
        },
        "outputId": "927c5b30-4698-416a-dfea-e74e8cfb4508"
      },
      "source": [
        "colors = plt.cm.autumn(np.linspace(0, 1, 2))\n",
        "sales_per_year = df.groupby('Order Year')['Sales', '% Profit'].agg(['sum'])\n",
        "sales_per_year.plot.bar(color=colors)\n",
        "plt.title('Total Sales dan Profit per Tahun', fontsize=15)\n",
        "plt.show()"
      ],
      "execution_count": 212,
      "outputs": [
        {
          "output_type": "display_data",
          "data": {
            "image/png": "[encoded data removed]",
            "text/plain": [
              "<Figure size 432x288 with 1 Axes>"
            ]
          },
          "metadata": {
            "tags": [],
            "needs_background": "light"
          }
        }
      ]
    },
    {
      "cell_type": "markdown",
      "metadata": {
        "id": "Pu8zvF-qFqDM",
        "colab_type": "text"
      },
      "source": [
        "Terlihat bahwa total sales dan profit sejak tahun 2014 terus mengalami peningkatan hingga akhir tahun 2017"
      ]
    },
    {
      "cell_type": "markdown",
      "metadata": {
        "id": "M88O2zAbG4Qa",
        "colab_type": "text"
      },
      "source": [
        "Berikutnya kita akan melihat pengaruh pemberian diskon terhadap profit bagi superstore"
      ]
    },
    {
      "cell_type": "code",
      "metadata": {
        "id": "UjIEmknBFhpL",
        "colab_type": "code",
        "colab": {
          "base_uri": "https://localhost:8080/",
          "height": 352
        },
        "outputId": "31b49311-a64c-4771-e2b1-981044db5f3c"
      },
      "source": [
        "plt.figure(figsize=(18, 5))\n",
        "sns.scatterplot(x='Discount', y='Profit', data=df, palette='winter')\n",
        "plt.title('Pengaruh Pemberian Diskon terhadap Profit Superstore', fontsize=15)\n",
        "plt.grid()\n",
        "plt.show()"
      ],
      "execution_count": 214,
      "outputs": [
        {
          "output_type": "display_data",
          "data": {
            "image/png": "[encoded data removed]",
            "text/plain": [
              "<Figure size 1296x360 with 1 Axes>"
            ]
          },
          "metadata": {
            "tags": [],
            "needs_background": "light"
          }
        }
      ]
    },
    {
      "cell_type": "markdown",
      "metadata": {
        "id": "KOSBmHtfHUoh",
        "colab_type": "text"
      },
      "source": [
        "Disini terlihat bahwa apabila diskon yang diberikan kurang dari 30%, maka akan diperoleh profit gain. Akan tetapi, jika profitnya lebih dari sama dengan 30% maka akan didapatkan profit loss. Dengan begitu sebaiknya superstore lebih bijak lagi dalam memberikan diskon, terutama pemberian diskonnya harus kurang dari 30%"
      ]
    },
    {
      "cell_type": "markdown",
      "metadata": {
        "id": "OnBls3-hMkCD",
        "colab_type": "text"
      },
      "source": [
        "Berikutnya kita akan melihat penjualan dari tiap kategori per musim"
      ]
    },
    {
      "cell_type": "code",
      "metadata": {
        "id": "OI_uhgnvHQpO",
        "colab_type": "code",
        "colab": {
          "base_uri": "https://localhost:8080/",
          "height": 204
        },
        "outputId": "8c715522-bf85-4f63-f4bd-01ea9794e751"
      },
      "source": [
        "tabulasi_silang = pd.crosstab(df['Season'], df['Category'])\n",
        "tabulasi_silang"
      ],
      "execution_count": 216,
      "outputs": [
        {
          "output_type": "execute_result",
          "data": {
            "text/html": [
              "<div>\n",
              "<style scoped>\n",
              "    .dataframe tbody tr th:only-of-type {\n",
              "        vertical-align: middle;\n",
              "    }\n",
              "\n",
              "    .dataframe tbody tr th {\n",
              "        vertical-align: top;\n",
              "    }\n",
              "\n",
              "    .dataframe thead th {\n",
              "        text-align: right;\n",
              "    }\n",
              "</style>\n",
              "<table border=\"1\" class=\"dataframe\">\n",
              "  <thead>\n",
              "    <tr style=\"text-align: right;\">\n",
              "      <th>Category</th>\n",
              "      <th>Furniture</th>\n",
              "      <th>Office Supplies</th>\n",
              "      <th>Technology</th>\n",
              "    </tr>\n",
              "    <tr>\n",
              "      <th>Season</th>\n",
              "      <th></th>\n",
              "      <th></th>\n",
              "      <th></th>\n",
              "    </tr>\n",
              "  </thead>\n",
              "  <tbody>\n",
              "    <tr>\n",
              "      <th>Fall</th>\n",
              "      <td>788</td>\n",
              "      <td>2204</td>\n",
              "      <td>681</td>\n",
              "    </tr>\n",
              "    <tr>\n",
              "      <th>Spring</th>\n",
              "      <td>428</td>\n",
              "      <td>1284</td>\n",
              "      <td>387</td>\n",
              "    </tr>\n",
              "    <tr>\n",
              "      <th>Summer</th>\n",
              "      <td>433</td>\n",
              "      <td>1307</td>\n",
              "      <td>393</td>\n",
              "    </tr>\n",
              "    <tr>\n",
              "      <th>Winter</th>\n",
              "      <td>472</td>\n",
              "      <td>1231</td>\n",
              "      <td>386</td>\n",
              "    </tr>\n",
              "  </tbody>\n",
              "</table>\n",
              "</div>"
            ],
            "text/plain": [
              "Category  Furniture  Office Supplies  Technology\n",
              "Season                                          \n",
              "Fall            788             2204         681\n",
              "Spring          428             1284         387\n",
              "Summer          433             1307         393\n",
              "Winter          472             1231         386"
            ]
          },
          "metadata": {
            "tags": []
          },
          "execution_count": 216
        }
      ]
    },
    {
      "cell_type": "code",
      "metadata": {
        "id": "kPtQRRlJLasQ",
        "colab_type": "code",
        "colab": {
          "base_uri": "https://localhost:8080/",
          "height": 311
        },
        "outputId": "d6bcad82-25fd-4c86-9906-c00b3b74a281"
      },
      "source": [
        "tabulasi_silang.plot(kind='bar', stacked=True, color=plt.cm.Set2(np.linspace(0,1,3)))\n",
        "plt.xlabel('Musim')\n",
        "plt.ylabel('Kuantitas')\n",
        "plt.show()"
      ],
      "execution_count": 228,
      "outputs": [
        {
          "output_type": "display_data",
          "data": {
            "image/png": "[encoded data removed]",
            "text/plain": [
              "<Figure size 432x288 with 1 Axes>"
            ]
          },
          "metadata": {
            "tags": [],
            "needs_background": "light"
          }
        }
      ]
    },
    {
      "cell_type": "markdown",
      "metadata": {
        "id": "CnI3sVp0Mw8g",
        "colab_type": "text"
      },
      "source": [
        "Terlihat bahwa penjualan terbanyak terjadi di musim gugur"
      ]
    }
  ]
}